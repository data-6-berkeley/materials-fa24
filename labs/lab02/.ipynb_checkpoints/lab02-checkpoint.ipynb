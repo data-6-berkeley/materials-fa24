{
 "cells": [
  {
   "cell_type": "code",
   "execution_count": 54,
   "id": "ffe68951-835c-4191-bfec-7eb060114bb4",
   "metadata": {
    "deletable": false,
    "editable": false
   },
   "outputs": [],
   "source": [
    "# Initialize Otter\n",
    "import otter\n",
    "grader = otter.Notebook(\"lab01.ipynb\")"
   ]
  },
  {
   "cell_type": "markdown",
   "id": "d59f467c",
   "metadata": {
    "jp-MarkdownHeadingCollapsed": true
   },
   "source": [
    "<img src=\"data6.png\" style=\"width: 15%; float: right; padding: 1%; margin-right: 2%;\"/>\n",
    "\n",
    "# Welcome!\n",
    "\n",
    "Welcome to the second lab!"
   ]
  },
  {
   "attachments": {},
   "cell_type": "markdown",
   "id": "ffb3b0eb",
   "metadata": {},
   "source": [
    "# Lab 2 – Print Debugging, Array Operations, NumPy, Variables\n",
    "\n",
    "## Data 6, Fall 2024"
   ]
  },
  {
   "cell_type": "markdown",
   "id": "3e3428ff",
   "metadata": {},
   "source": [
    "Welcome to the second lab section of Data 6!\n",
    "\n",
    "First and foremost, labs are designed to complement homework assignments. While labs are submitted or graded, we encourage you to work through all questions carefully to familiarize yourself with key programming concepts that you will use later on in your homeworks. Remember, you learn data science by **_doing_** data science!\n",
    "\n",
    "The goals of this lab section:\n",
    "* Practice using print to debug code\n",
    "* Practice array operations using the datascience module and the numpy library\n",
    "* Practice identifying variables used in data science, and how we can operationalize them"
   ]
  },
  {
   "cell_type": "markdown",
   "id": "0c7bb554",
   "metadata": {},
   "source": [
    "<hr style=\"border: 5px solid #003262;\" />\n",
    "<hr style=\"border: 1px solid #fdb515;\" />\n",
    "\n",
    "# Part 1: Print"
   ]
  },
  {
   "cell_type": "code",
   "execution_count": 55,
   "id": "9baffff2-6fa1-4256-806f-7e1fbbe41f84",
   "metadata": {},
   "outputs": [],
   "source": [
    "#Import necessary packages\n",
    "from datascience import *\n",
    "import numpy as np"
   ]
  },
  {
   "cell_type": "markdown",
   "id": "d44819a4",
   "metadata": {},
   "source": [
    "<br/>\n",
    "\n",
    "---\n",
    "\n",
    "## Question 1: Print Practice\n",
    "\n",
    "\n",
    "Given an array `arr`, write code that will display the first three values of arr without [hardcoding](https://en.wikipedia.org/wiki/Hard_coding#:~:text=Hard%20coding%20(also%20hard%2Dcoding,or%20generating%20it%20at%20runtime.) the values of what is being printed out.\n",
    "\n",
    "For example, given an `arr` with the values [1, 3, 5, 7], we should see the following:\n",
    "\n",
    "The first element of arr is: 1 <br/>\n",
    "The second element of arr is: 3 <br/>\n",
    "The third element of arr is: 5 <br/>\n",
    "\n",
    "Hint: Recall [how we can obtain each element in a given array.](https://docs.google.com/presentation/d/1taeZTQoKYsHB8IKv-xxlSaQovcEZdDbjqFxjK9Dfz30/edit#slide=id.g13af39495d5_0_2616)"
   ]
  },
  {
   "cell_type": "code",
   "execution_count": 56,
   "id": "a5532722",
   "metadata": {},
   "outputs": [
    {
     "name": "stdout",
     "output_type": "stream",
     "text": [
      "Ellipsis\n",
      "Ellipsis\n",
      "Ellipsis\n"
     ]
    }
   ],
   "source": [
    "#Do not edit the following line of code\n",
    "arr = make_array(1, 3, 5, 7)\n",
    "\n",
    "#YOUR CODE HERE\n",
    "print(...) #Prints the first item in arr\n",
    "print(...) #Prints the second item in arr\n",
    "print(...) #Prints the third item in arr"
   ]
  },
  {
   "cell_type": "markdown",
   "id": "db304b53-7cac-4c45-9fcd-8fe36d769ab7",
   "metadata": {},
   "source": [
    "<br/>\n",
    "\n",
    "---\n",
    "\n",
    "## Question 2: Printing Galore!!\n",
    "\n",
    "Fill in the print statement below such that you see the following output exactly. You may only use **one** line to write the whole expression, and you may not use any newline characters (don't worry about what that means if you don't know yet).\n",
    "\n",
    "4 3 'Woah!' <br/>\n",
    "None 5 <br/>\n",
    "None\n"
   ]
  },
  {
   "cell_type": "code",
   "execution_count": 57,
   "id": "686f7ebc-e688-43db-8d3b-23c4f8152797",
   "metadata": {},
   "outputs": [
    {
     "name": "stdout",
     "output_type": "stream",
     "text": [
      "Ellipsis\n"
     ]
    }
   ],
   "source": [
    "#YOUR CODE HERE\n",
    "print(...)"
   ]
  },
  {
   "cell_type": "markdown",
   "id": "0242c524",
   "metadata": {},
   "source": [
    "---\n",
    "\n",
    "## Question 3: Print Debugging\n",
    "\n",
    "Let's do some print debugging! Below is some code used to calculate the price of some goods, but lucky us! We have a 10% discount. No need for a calculator -- we can whip out jupyter notebooks to do this calculation for us! However, something seems off. Use print statements to identify and fix the error."
   ]
  },
  {
   "cell_type": "code",
   "execution_count": 58,
   "id": "65146222-8204-466e-8395-747802e8ab38",
   "metadata": {},
   "outputs": [
    {
     "name": "stdout",
     "output_type": "stream",
     "text": [
      "Total price of items: 54.96\n",
      "Total after tax: 453.42\n",
      "Total after discount: 408.078\n"
     ]
    }
   ],
   "source": [
    "# Prices of items in a shopping cart\n",
    "item_prices = make_array(15.99, 23.49, 9.99, 5.49)\n",
    "\n",
    "# Tax rate as a percentage\n",
    "tax_rate = 8.25\n",
    "\n",
    "# Discount to apply to the total as a percentage\n",
    "discount = 10\n",
    "\n",
    "# Calculate the total price of the items\n",
    "total_price = sum(item_prices)\n",
    "\n",
    "# Calculate the total price after tax\n",
    "total_with_tax = total_price * tax_rate\n",
    "\n",
    "# Apply the discount to the total price after tax\n",
    "total_with_discount = total_with_tax - (total_with_tax * (discount / 100))\n",
    "\n",
    "# Print out the final total\n",
    "print(\"Total price of items:\", total_price)\n",
    "print(\"Total after tax:\", total_with_tax)\n",
    "print(\"Total after discount:\", total_with_discount)"
   ]
  },
  {
   "cell_type": "markdown",
   "id": "f971fb69",
   "metadata": {},
   "source": [
    "\n",
    "<hr style=\"border: 5px solid #003262;\" />\n",
    "<hr style=\"border: 1px solid #fdb515;\" />\n",
    "\n",
    "# Part 2: Working with Arrays Within a Data Science Context"
   ]
  },
  {
   "cell_type": "markdown",
   "id": "e94f3221",
   "metadata": {},
   "source": [
    "Jedi is collecting survey data from the Fall 2024 Data 6 students, and asked the following question:\n",
    "\n",
    "1. You have the choice of two powers: The first power lets you know the best tasting meal that someone has ever had when you shake their hand (or if you cannot shake hands for some reason, some other similar interaction). The second power lets you speak through any electronic speaker in sight range, e.g. laptop speakers, grocery store intercoms, etc. You may resolve precise questions about how these powers work in any way that seems reasonable to you. Which would you choose?\n",
    "\n",
    "The two options for this question were:\n",
    "I would like to be able to divine some\n",
    "delicious meals, please. </br>\n",
    "I prefer being an electronic speaker\n",
    "ventriloquist.\n",
    "\n",
    "He also tracks the amount of time taken to complete the survey (don't worry, we didn't actually do this).\n",
    "\n",
    "The dataset is shown below for the first 5 students:\n",
    "\n",
    "| Student Name | Response | Time Taken (minutes) |\n",
    "| :--- | :---- | :---- |\n",
    "| Oski | Meal | 5 | \n",
    "| Bruin | Ventriloquist | 6.5 |\n",
    "| Triton| Ventriloquist | 15 |\n",
    "| LoFi Hip Hop Girl | Meal | 1 |\n",
    "| Jedi| Ventriloquist | 100 |"
   ]
  },
  {
   "cell_type": "code",
   "execution_count": 59,
   "id": "919faf26",
   "metadata": {},
   "outputs": [],
   "source": [
    "survey_data = Table.read_table(\"survey_responses.csv\") #Read in the full data\n",
    "responses = survey_data['Response'] #Return an array with the responses\n",
    "time_taken = survey_data['Time Taken (minutes)'] #Return an array with the response times"
   ]
  },
  {
   "cell_type": "code",
   "execution_count": 60,
   "id": "190b7bc2-77f6-4b62-841f-4dfeff080cf9",
   "metadata": {},
   "outputs": [
    {
     "name": "stdout",
     "output_type": "stream",
     "text": [
      "<class 'datascience.tables.Table'>\n"
     ]
    }
   ],
   "source": [
    "#Notice that the type of survey_data is a Table. Something new!\n",
    "print(type(survey_data))"
   ]
  },
  {
   "cell_type": "markdown",
   "id": "22f0d5c8",
   "metadata": {},
   "source": [
    "---\n",
    "\n",
    "## Question 4: Survey Analysis\n",
    "\n",
    "Jedi decides to do some analysis: first, how much time (in minutes) does the average student take to complete the survey? Fill in the code below to perform this computation"
   ]
  },
  {
   "cell_type": "code",
   "execution_count": 62,
   "id": "af5879a3",
   "metadata": {},
   "outputs": [
    {
     "data": {
      "text/plain": [
       "Ellipsis"
      ]
     },
     "execution_count": 62,
     "metadata": {},
     "output_type": "execute_result"
    }
   ],
   "source": [
    "average_time_minutes = ... #YOUR CODE HERE\n",
    "average_time_minutes"
   ]
  },
  {
   "cell_type": "markdown",
   "id": "22660ea3",
   "metadata": {},
   "source": [
    "---\n",
    "\n",
    "## Question 5: Converting to Seconds\n",
    "\n",
    "Shoot. The resulting value is a float, but it's difficult to process minutes as decimal values. Compute the average time (in seconds) the average student takes to complete the survey. Round to the nearest second.\n",
    "\n",
    "Hint: There's a built-in function called `round`. More documentation [here!](https://www.w3schools.com/python/ref_func_round.asp)"
   ]
  },
  {
   "cell_type": "code",
   "execution_count": 63,
   "id": "e49bd3ed",
   "metadata": {},
   "outputs": [
    {
     "data": {
      "text/plain": [
       "Ellipsis"
      ]
     },
     "execution_count": 63,
     "metadata": {},
     "output_type": "execute_result"
    }
   ],
   "source": [
    "average_time_seconds = ...\n",
    "average_time_seconds"
   ]
  },
  {
   "cell_type": "markdown",
   "id": "069e6c4f",
   "metadata": {},
   "source": [
    "---\n",
    "\n",
    "## Question 6\n",
    "\n",
    "In the study above, what type of variables (picking between categorical and numerical) are used to represent the choice of superpower? What about the time in minutes?"
   ]
  },
  {
   "cell_type": "markdown",
   "id": "ab1a0666-36b5-4e00-9268-8e7cca3378d6",
   "metadata": {},
   "source": [
    "YOUR ANSWER HERE"
   ]
  },
  {
   "cell_type": "markdown",
   "id": "041a48df-3721-405f-b1bc-b9b9141872be",
   "metadata": {},
   "source": [
    "---\n",
    "\n",
    "## Question 7\n",
    "\n",
    "Jedi decides to sort all of the responses by the time_taken, and add a new column `Ordering` to track their order. For instance, in the first 5 rows of the dataset, Lofi Hip Hop girl should have the value 0 since she took the least time filling out the survey.\n",
    "\n",
    "First, write some code to retrieve the least amount of time spent on the survey."
   ]
  },
  {
   "cell_type": "code",
   "execution_count": 64,
   "id": "95f77ec2-e156-48fa-a1f2-9ba7cab20310",
   "metadata": {},
   "outputs": [
    {
     "data": {
      "text/plain": [
       "Ellipsis"
      ]
     },
     "execution_count": 64,
     "metadata": {},
     "output_type": "execute_result"
    }
   ],
   "source": [
    "least_amount_of_time = ... #YOUR CODE HERE\n",
    "\n",
    "least_amount_of_time"
   ]
  },
  {
   "cell_type": "markdown",
   "id": "2c23909b-c98c-4d6c-b43c-e341e2c6edea",
   "metadata": {},
   "source": [
    "Next, write some code to fill in the new column that's being created. We've already sorted the data for you!\n",
    "\n",
    "Hint: len(sorted_data) will return the number of columns in sorted_data. Try to find another way of computing the number of rows."
   ]
  },
  {
   "cell_type": "code",
   "execution_count": 65,
   "id": "7cf7d9c8-b442-4789-8df3-92c4904eac3b",
   "metadata": {},
   "outputs": [
    {
     "data": {
      "text/html": [
       "<table border=\"1\" class=\"dataframe\">\n",
       "    <thead>\n",
       "        <tr>\n",
       "            <th>Student Name</th> <th>Response</th> <th>Time Taken (minutes)</th> <th>Ordering</th>\n",
       "        </tr>\n",
       "    </thead>\n",
       "    <tbody>\n",
       "        <tr>\n",
       "            <td>LoFi Hip Hop Girl</td> <td>Meal         </td> <td>1                   </td> <td>Ellipsis</td>\n",
       "        </tr>\n",
       "        <tr>\n",
       "            <td>Summit           </td> <td>Meal         </td> <td>2                   </td> <td>Ellipsis</td>\n",
       "        </tr>\n",
       "        <tr>\n",
       "            <td>Cascade          </td> <td>Meal         </td> <td>3                   </td> <td>Ellipsis</td>\n",
       "        </tr>\n",
       "        <tr>\n",
       "            <td>Nebula           </td> <td>Meal         </td> <td>4                   </td> <td>Ellipsis</td>\n",
       "        </tr>\n",
       "        <tr>\n",
       "            <td>Oski             </td> <td>Meal         </td> <td>5                   </td> <td>Ellipsis</td>\n",
       "        </tr>\n",
       "        <tr>\n",
       "            <td>Indigo           </td> <td>Ventriloquist</td> <td>5                   </td> <td>Ellipsis</td>\n",
       "        </tr>\n",
       "        <tr>\n",
       "            <td>Sierra           </td> <td>Meal         </td> <td>6                   </td> <td>Ellipsis</td>\n",
       "        </tr>\n",
       "        <tr>\n",
       "            <td>Bruin            </td> <td>Ventriloquist</td> <td>6.5                 </td> <td>Ellipsis</td>\n",
       "        </tr>\n",
       "        <tr>\n",
       "            <td>Comet            </td> <td>Meal         </td> <td>7                   </td> <td>Ellipsis</td>\n",
       "        </tr>\n",
       "        <tr>\n",
       "            <td>River            </td> <td>Meal         </td> <td>8                   </td> <td>Ellipsis</td>\n",
       "        </tr>\n",
       "    </tbody>\n",
       "</table>\n",
       "<p>... (10 rows omitted)</p>"
      ],
      "text/plain": [
       "Student Name      | Response      | Time Taken (minutes) | Ordering\n",
       "LoFi Hip Hop Girl | Meal          | 1                    | Ellipsis\n",
       "Summit            | Meal          | 2                    | Ellipsis\n",
       "Cascade           | Meal          | 3                    | Ellipsis\n",
       "Nebula            | Meal          | 4                    | Ellipsis\n",
       "Oski              | Meal          | 5                    | Ellipsis\n",
       "Indigo            | Ventriloquist | 5                    | Ellipsis\n",
       "Sierra            | Meal          | 6                    | Ellipsis\n",
       "Bruin             | Ventriloquist | 6.5                  | Ellipsis\n",
       "Comet             | Meal          | 7                    | Ellipsis\n",
       "River             | Meal          | 8                    | Ellipsis\n",
       "... (10 rows omitted)"
      ]
     },
     "execution_count": 65,
     "metadata": {},
     "output_type": "execute_result"
    }
   ],
   "source": [
    "sorted_data = survey_data.sort(time_taken)\n",
    "sorted_data['Ordering'] = ... #YOUR CODE HERE\n",
    "\n",
    "sorted_data"
   ]
  },
  {
   "cell_type": "markdown",
   "id": "57ac050d-727d-4ebd-bc8a-3d602564a6fb",
   "metadata": {
    "deletable": false,
    "editable": false
   },
   "source": [
    "grader.check(\"q_7_a\")"
   ]
  },
  {
   "cell_type": "markdown",
   "id": "31c80e0b-1887-4cf6-a5fd-a0ac31836909",
   "metadata": {
    "deletable": false,
    "editable": false
   },
   "source": [
    "grader.check(\"q_7_b\")"
   ]
  },
  {
   "cell_type": "markdown",
   "id": "cc67f1e4",
   "metadata": {},
   "source": [
    "<hr>\n",
    "\n",
    "## Done! 😇"
   ]
  },
  {
   "cell_type": "markdown",
   "id": "35c058a9",
   "metadata": {
    "deletable": false,
    "editable": false
   },
   "source": [
    "## Submission\n",
    "\n",
    "Make sure you have run all cells in your notebook in order before running the cell below, so that all images/graphs appear in the output. The cell below will generate a zip file for you to submit. **Please save before exporting!**"
   ]
  },
  {
   "cell_type": "markdown",
   "id": "4303e5df-a0e1-4c74-b59a-af77ce2989d4",
   "metadata": {
    "deletable": false,
    "editable": false
   },
   "source": [
    "# Save your notebook first, then run this cell to export your submission.\n",
    "grader.export(pdf=False, run_tests=True)"
   ]
  },
  {
   "cell_type": "markdown",
   "id": "1882f642",
   "metadata": {},
   "source": [
    " "
   ]
  }
 ],
 "metadata": {
  "kernelspec": {
   "display_name": "Python 3 (ipykernel)",
   "language": "python",
   "name": "python3"
  },
  "language_info": {
   "codemirror_mode": {
    "name": "ipython",
    "version": 3
   },
   "file_extension": ".py",
   "mimetype": "text/x-python",
   "name": "python",
   "nbconvert_exporter": "python",
   "pygments_lexer": "ipython3",
   "version": "3.11.9"
  },
  "otter": {
   "OK_FORMAT": true,
   "tests": {
    "q_7_a": {
     "name": "q_7_a",
     "points": null,
     "suites": [
      {
       "cases": [
        {
         "code": ">>> incidence_2021 == 7860/(331893745/100000)\nTrue",
         "hidden": false,
         "locked": false
        }
       ],
       "scored": true,
       "setup": "",
       "teardown": "",
       "type": "doctest"
      }
     ]
    },
    "q_7_b": {
     "name": "q_7_b",
     "points": null,
     "suites": [
      {
       "cases": [
        {
         "code": ">>> percent_change ==  100 * (incidence_2020 - incidence_2021)/incidence_2020\nTrue",
         "hidden": false,
         "locked": false
        }
       ],
       "scored": true,
       "setup": "",
       "teardown": "",
       "type": "doctest"
      }
     ]
    }
   }
  }
 },
 "nbformat": 4,
 "nbformat_minor": 5
}
