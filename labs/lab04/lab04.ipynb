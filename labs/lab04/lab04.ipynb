{
 "cells": [
  {
   "cell_type": "markdown",
   "id": "d59f467c",
   "metadata": {
    "editable": true,
    "jp-MarkdownHeadingCollapsed": true,
    "slideshow": {
     "slide_type": ""
    },
    "tags": []
   },
   "source": [
    "<img src=\"data6.png\" style=\"width: 15%; float: right; padding: 1%; margin-right: 2%;\"/>\n",
    "\n",
    "# Welcome!\n",
    "\n",
    "Welcome to the fourth lab!"
   ]
  },
  {
   "attachments": {},
   "cell_type": "markdown",
   "id": "ffb3b0eb",
   "metadata": {
    "editable": true,
    "slideshow": {
     "slide_type": ""
    },
    "tags": []
   },
   "source": [
    "# Lab 4 – Functions Practice\n",
    "\n",
    "## Data 6, Fall 2024"
   ]
  },
  {
   "cell_type": "markdown",
   "id": "3e3428ff",
   "metadata": {},
   "source": [
    "Welcome to the fourth lab section of Data 6!"
   ]
  },
  {
   "cell_type": "markdown",
   "id": "0c7bb554",
   "metadata": {},
   "source": [
    "<hr style=\"border: 5px solid #003262;\" />\n",
    "<hr style=\"border: 1px solid #fdb515;\" />"
   ]
  },
  {
   "cell_type": "code",
   "execution_count": null,
   "id": "9baffff2-6fa1-4256-806f-7e1fbbe41f84",
   "metadata": {},
   "outputs": [],
   "source": [
    "#Import necessary packages\n",
    "from datascience import *\n",
    "import numpy as np"
   ]
  },
  {
   "cell_type": "markdown",
   "id": "d44819a4",
   "metadata": {},
   "source": [
    "<br/>\n",
    "\n",
    "---\n",
    "\n",
    "## Question 1: Fun with Functions!\n",
    "\n",
    "Let's do some survey analysis! Implement a function that takes in a Table `table` and an integer `threshold`, and returns a Table with all the survey responses that spent longer than `threshold` minutes to fill out the survey."
   ]
  },
  {
   "cell_type": "code",
   "execution_count": null,
   "id": "7d87e84f-105e-435e-b4d3-0be5de8cd5c6",
   "metadata": {},
   "outputs": [],
   "source": [
    "survey_responses = Table.read_table(\"survey_responses.csv\")"
   ]
  },
  {
   "cell_type": "code",
   "execution_count": null,
   "id": "a5532722",
   "metadata": {},
   "outputs": [],
   "source": [
    "def filter_time(table, threshold):\n",
    "    \"\"\"\n",
    "    Takes in a table and returns all the rows that spent longer than threshold minutes.\n",
    "\n",
    "    Inputs:\n",
    "    table: a Table that contains a column 'Time Taken (minutes)'\n",
    "    threshold: an integer\n",
    "\n",
    "    Returns:\n",
    "    a Table with all the survey responses that spent longer than threshold minutes\n",
    "    \"\"\"\n",
    "\n",
    "    #Your code here\n",
    "    "
   ]
  },
  {
   "cell_type": "code",
   "execution_count": null,
   "id": "3d98df32-28da-4850-ae18-4c884c311fda",
   "metadata": {},
   "outputs": [],
   "source": [
    "longer_than_ten = filter_time(survey_responses, 10)\n",
    "longer_than_ten"
   ]
  },
  {
   "cell_type": "markdown",
   "id": "db304b53-7cac-4c45-9fcd-8fe36d769ab7",
   "metadata": {},
   "source": [
    "<br/>\n",
    "\n",
    "---\n",
    "\n",
    "## Question 2: String Manipulation\n",
    "\n",
    "Jedi wants one string of all of the `Student Name`s. Write a function that takes in a table and a column name, and concatenates together all of the names, separated by a parameter `separator`.\n"
   ]
  },
  {
   "cell_type": "code",
   "execution_count": null,
   "id": "686f7ebc-e688-43db-8d3b-23c4f8152797",
   "metadata": {},
   "outputs": [],
   "source": [
    "def concatenate_names(tbl, separator, col_name):\n",
    "    #Your code here"
   ]
  },
  {
   "cell_type": "markdown",
   "id": "92aed3da-6166-4cf2-82a0-00dc7926537e",
   "metadata": {},
   "source": [
    "Now, call this function with the appropriate arguments."
   ]
  },
  {
   "cell_type": "code",
   "execution_count": null,
   "id": "04a32653-e382-4506-8c90-1a3e8d3772eb",
   "metadata": {},
   "outputs": [],
   "source": [
    "concatenated_survey_names = concatenate_names(...)\n",
    "concatenated_survey_names"
   ]
  },
  {
   "cell_type": "markdown",
   "id": "c6ec3cef-1649-4564-8f18-72638b6fe93c",
   "metadata": {},
   "source": [
    "Reflect: What information did we lose when concatenating all the survey names together into one string?"
   ]
  },
  {
   "cell_type": "code",
   "execution_count": null,
   "id": "0e48e27a-4a76-4ad0-9bcf-f30d24dcf4a8",
   "metadata": {},
   "outputs": [],
   "source": [
    "#Your answer here"
   ]
  },
  {
   "cell_type": "markdown",
   "id": "0242c524",
   "metadata": {},
   "source": [
    "---\n",
    "\n",
    "## Question 3: Functions within functions.\n",
    "\n",
    "Sometimes, we'll have helper functions to perform some subroutine for us so we can abstract away more low-level tasks. Finish this implementation of a function that adds a new column to a table that doubles, then squares all the values inside of column `col`."
   ]
  },
  {
   "cell_type": "code",
   "execution_count": null,
   "id": "65146222-8204-466e-8395-747802e8ab38",
   "metadata": {},
   "outputs": [],
   "source": [
    "def add_doubled_squared_col(tbl, col):\n",
    "    \"\"\"Adds a new column called Updated_Values to tbl that doubles, then squares the values in col\"\"\"\n",
    "    def double_squared(arr):\n",
    "        \"\"\"Takes in an array and returns a new array with the values doubled, then squared\"\"\"\n",
    "        return ...\n",
    "    return ..."
   ]
  },
  {
   "cell_type": "code",
   "execution_count": null,
   "id": "f078c1f8-4330-44a4-a5a9-f67c397c464b",
   "metadata": {},
   "outputs": [],
   "source": [
    "survey_with_modified_times = add_doubled_squared_col(survey_responses, \"Time Taken (minutes)\")\n",
    "survey_with_modified_times"
   ]
  },
  {
   "cell_type": "markdown",
   "id": "10dad1b6-0eff-4229-be30-a7e776298ca3",
   "metadata": {},
   "source": [
    "Now, re-implement the helper function without taking in any parameters."
   ]
  },
  {
   "cell_type": "code",
   "execution_count": null,
   "id": "e3c936df-9eb1-4550-8a49-b9c181e768e3",
   "metadata": {},
   "outputs": [],
   "source": [
    "def add_doubled_squared_col(tbl, col):\n",
    "    \"\"\"Adds a new column called Updated_Values to tbl that doubles, then squares the values in col\"\"\"\n",
    "    def double_squared():\n",
    "        \"\"\"Takes in nothing and returns a new array with the values doubled, then squared\"\"\"\n",
    "        return ...\n",
    "    return ..."
   ]
  },
  {
   "cell_type": "code",
   "execution_count": null,
   "id": "9340ffbe-ffef-472f-9218-d1557ee78425",
   "metadata": {},
   "outputs": [],
   "source": [
    "survey_with_modified_times = add_doubled_squared_col(survey_responses, \"Time Taken (minutes)\")\n",
    "survey_with_modified_times"
   ]
  },
  {
   "cell_type": "markdown",
   "id": "e94f3221",
   "metadata": {},
   "source": [
    "---\n",
    "\n",
    "## Question 4: Understanding Error Messages\n",
    "\n",
    "For each of the following buggy implementations, write what the issue is and fix the implementation."
   ]
  },
  {
   "cell_type": "code",
   "execution_count": null,
   "id": "919faf26",
   "metadata": {},
   "outputs": [],
   "source": [
    "def triple(x):\n",
    "    \"\"\"Return the value of x, tripled\"\"\"\n",
    "    x * 3"
   ]
  },
  {
   "cell_type": "code",
   "execution_count": null,
   "id": "190b7bc2-77f6-4b62-841f-4dfeff080cf9",
   "metadata": {},
   "outputs": [],
   "source": [
    "a = 5\n",
    "triple(a) #We expect this to evaluate to 15"
   ]
  },
  {
   "cell_type": "markdown",
   "id": "21e43b9e-3bc7-4b6b-81d4-95031c5332ff",
   "metadata": {},
   "source": [
    "Replace this text, noting what's wrong with this function implementation and then fix the bug."
   ]
  },
  {
   "cell_type": "code",
   "execution_count": null,
   "id": "7fcfb8b2-cb20-432c-973b-aa54641d878a",
   "metadata": {},
   "outputs": [],
   "source": [
    "def quadruple(x):\n",
    "    \"\"\"Return the value of x, quadrupled\"\"\"\n",
    "    True = x * 4\n",
    "    return True"
   ]
  },
  {
   "cell_type": "markdown",
   "id": "f7665c3c-e1df-4f2c-83cb-8754fa9d124a",
   "metadata": {},
   "source": [
    "Replace this text, noting what's wrong with this function implementation and then fix the bug."
   ]
  },
  {
   "cell_type": "code",
   "execution_count": null,
   "id": "f624b141-2bc4-453d-845e-ff81f2fdaa78",
   "metadata": {},
   "outputs": [],
   "source": [
    "def quintuple(x):\n",
    "    x = x * 5\n",
    "    return x\n",
    "\n",
    "quintuple(4)\n",
    "print(x) #Jedi expects x to be 20"
   ]
  },
  {
   "cell_type": "markdown",
   "id": "58bfb0cb-6761-47ad-9df6-4e62e014d895",
   "metadata": {},
   "source": [
    "Replace this text, noting what's wrong with Jedi's expectation. No need to fix the bug - the function implementation is correct!"
   ]
  },
  {
   "cell_type": "markdown",
   "id": "cc67f1e4",
   "metadata": {
    "editable": true,
    "slideshow": {
     "slide_type": ""
    },
    "tags": []
   },
   "source": [
    "<hr>\n",
    "\n",
    "## Done! 😇"
   ]
  },
  {
   "cell_type": "markdown",
   "id": "35c058a9",
   "metadata": {
    "deletable": false,
    "editable": true,
    "slideshow": {
     "slide_type": ""
    },
    "tags": []
   },
   "source": [
    "## Submission\n",
    "\n",
    "> **Important: You must correctly assign the pages of your PDF after you submit to the correct gradescope assignment. If your pages are not correctly assigned and/or not in the correct PDF format by the deadline, we reserve the right to award no points for your written work.**\n",
    "\n",
    "You can download the notebook as a PDF by clicking on `File -> Save and Export Notebook As... -> PDF`."
   ]
  },
  {
   "cell_type": "code",
   "execution_count": null,
   "id": "9eab1a06-ae43-475f-8107-8067514bef71",
   "metadata": {
    "editable": true,
    "slideshow": {
     "slide_type": ""
    },
    "tags": []
   },
   "outputs": [],
   "source": []
  }
 ],
 "metadata": {
  "kernelspec": {
   "display_name": "Python 3 (ipykernel)",
   "language": "python",
   "name": "python3"
  },
  "language_info": {
   "codemirror_mode": {
    "name": "ipython",
    "version": 3
   },
   "file_extension": ".py",
   "mimetype": "text/x-python",
   "name": "python",
   "nbconvert_exporter": "python",
   "pygments_lexer": "ipython3",
   "version": "3.11.9"
  },
  "otter": {
   "OK_FORMAT": true,
   "tests": {
    "q_7_a": {
     "name": "q_7_a",
     "points": null,
     "suites": [
      {
       "cases": [
        {
         "code": ">>> incidence_2021 == 7860/(331893745/100000)\nTrue",
         "hidden": false,
         "locked": false
        }
       ],
       "scored": true,
       "setup": "",
       "teardown": "",
       "type": "doctest"
      }
     ]
    },
    "q_7_b": {
     "name": "q_7_b",
     "points": null,
     "suites": [
      {
       "cases": [
        {
         "code": ">>> percent_change ==  100 * (incidence_2020 - incidence_2021)/incidence_2020\nTrue",
         "hidden": false,
         "locked": false
        }
       ],
       "scored": true,
       "setup": "",
       "teardown": "",
       "type": "doctest"
      }
     ]
    }
   }
  }
 },
 "nbformat": 4,
 "nbformat_minor": 5
}
