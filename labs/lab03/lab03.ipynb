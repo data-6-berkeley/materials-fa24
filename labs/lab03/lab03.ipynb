{
 "cells": [
  {
   "cell_type": "code",
   "execution_count": null,
   "id": "65a40fd1",
   "metadata": {
    "deletable": false,
    "editable": false
   },
   "outputs": [],
   "source": [
    "# Initialize Otter\n",
    "import otter\n",
    "grader = otter.Notebook(\"lab03.ipynb\")"
   ]
  },
  {
   "cell_type": "markdown",
   "id": "3542ac8f",
   "metadata": {},
   "source": [
    "<img src=\"data6.png\" style=\"width: 15%; float: right; padding: 1%; margin-right: 2%;\"/>\n",
    "\n",
    "# Lab 3 – Tables and Data Manipulation\n",
    "\n",
    "## Data 6, Fall 2024\n",
    "\n",
    "In this lab, we will be talking all about *Tables*. We use tables to store all sorts of data from sports statistics to population information. If there's data you have ever been curious about, it is very likely that the Internet has a table somewhere with that data!\n",
    "\n",
    "Tables are integral to the foundation of Data Science, and we will go over how to **query** a table. **Querying** a table is, simply put, requesting information about the table. Some examples of common queries (in English, not code):\n",
    "\n",
    "- How many data points are there?\n",
    "- Which data points have a specific characteristic?\n",
    "- What is the attribute of a specific data point?\n",
    "- And many more!\n",
    "\n",
    "There are so many ways we can use tables to get information we need, and there are several existing libraries in Python that we can use to do this! In this course, we will be using the `datascience` library. This is the standard library used both in Data 6 and Data 8 at UC Berkeley. If you take Data Science classes beyond those two, you'll learn more!"
   ]
  },
  {
   "cell_type": "code",
   "execution_count": 3,
   "id": "9aba0c0b",
   "metadata": {},
   "outputs": [],
   "source": [
    "# Run this cell to load all required Python libraries \n",
    "import numpy as np\n",
    "from datascience import *\n",
    "\n",
    "import matplotlib.pyplot as plt\n",
    "plt.style.use(\"fivethirtyeight\")\n",
    "\n",
    "import warnings\n",
    "warnings.simplefilter('ignore')"
   ]
  },
  {
   "cell_type": "markdown",
   "id": "e0d351ba",
   "metadata": {},
   "source": [
    "## Table Creation\n",
    "\n",
    "Let's take a look at a table in action. Python does not have any tables by default, so we can either *create a new table from scratch* or *import a table from a file*. First, let's see how we can make our own table from scratch.\n",
    "\n",
    "We start out with an empty `Table` -- this is the same idea as having an empty array or string. Note that `Table` is capitalized and there is nothing in the parentheses."
   ]
  },
  {
   "cell_type": "code",
   "execution_count": 5,
   "id": "3ae5dbee",
   "metadata": {},
   "outputs": [
    {
     "data": {
      "text/html": [
       "<table border=\"1\" class=\"dataframe\">\n",
       "    <thead>\n",
       "        <tr>\n",
       "            \n",
       "        </tr>\n",
       "    </thead>\n",
       "    <tbody>\n",
       "    </tbody>\n",
       "</table>"
      ],
      "text/plain": []
     },
     "execution_count": 5,
     "metadata": {},
     "output_type": "execute_result"
    }
   ],
   "source": [
    "# Run this cell to load an empty table\n",
    "our_table = Table()\n",
    "our_table"
   ]
  },
  {
   "cell_type": "markdown",
   "id": "fafd2103",
   "metadata": {},
   "source": [
    "## Adding Data: `with_columns`"
   ]
  },
  {
   "cell_type": "markdown",
   "id": "2da398d5",
   "metadata": {},
   "source": [
    "Now, let's put some data in our table! To do so, we use the `with_columns` method. This method requires **two arguments**:\n",
    "1. The name of the column as a string\n",
    "2. An array of values to put in the column\n",
    "\n",
    "An example call to `with_columns` looks like: `my_tbl.with_columns(\"My New Column\", my_array)`, where `my_tbl` is our table that we would like to add to and `my_array` is a previously-defined array.\n",
    "\n",
    "Run the cell below to see how we can add multiple columns into `our_table`."
   ]
  },
  {
   "cell_type": "code",
   "execution_count": 13,
   "id": "b084d518",
   "metadata": {},
   "outputs": [
    {
     "data": {
      "text/html": [
       "<table border=\"1\" class=\"dataframe\">\n",
       "    <thead>\n",
       "        <tr>\n",
       "            <th>Department</th> <th>Course Number</th>\n",
       "        </tr>\n",
       "    </thead>\n",
       "    <tbody>\n",
       "        <tr>\n",
       "            <td>Data Science     </td> <td>6            </td>\n",
       "        </tr>\n",
       "        <tr>\n",
       "            <td>Economics        </td> <td>1            </td>\n",
       "        </tr>\n",
       "        <tr>\n",
       "            <td>Political Science</td> <td>2            </td>\n",
       "        </tr>\n",
       "        <tr>\n",
       "            <td>Sociology        </td> <td>121          </td>\n",
       "        </tr>\n",
       "    </tbody>\n",
       "</table>"
      ],
      "text/plain": [
       "Department        | Course Number\n",
       "Data Science      | 6\n",
       "Economics         | 1\n",
       "Political Science | 2\n",
       "Sociology         | 121"
      ]
     },
     "execution_count": 13,
     "metadata": {},
     "output_type": "execute_result"
    }
   ],
   "source": [
    "our_table = our_table.with_columns(\"Department\", make_array(\"Data Science\", \"Economics\", \"Political Science\", \"Sociology\"),\n",
    "                                   \"Course Number\", make_array(6, 1, 2, 121))\n",
    "our_table"
   ]
  },
  {
   "cell_type": "markdown",
   "id": "e86eab78",
   "metadata": {},
   "source": [
    "We need to make sure that the columns we add to the table have the same number of rows (the length of the array we pass in) as the table. Otherwise, we'll get an error.\n",
    "\n",
    "Watch what happens if we try to add a new column that doesn't have enough data (you'll see an error!)"
   ]
  },
  {
   "cell_type": "code",
   "execution_count": 12,
   "id": "f8f0885d",
   "metadata": {
    "tags": [
     "raises-exception"
    ]
   },
   "outputs": [
    {
     "ename": "ValueError",
     "evalue": "Column length mismatch. New column does not have the same number of rows as table.",
     "output_type": "error",
     "traceback": [
      "\u001b[0;31m---------------------------------------------------------------------------\u001b[0m",
      "\u001b[0;31mValueError\u001b[0m                                Traceback (most recent call last)",
      "Cell \u001b[0;32mIn[12], line 2\u001b[0m\n\u001b[1;32m      1\u001b[0m \u001b[38;5;66;03m# Just run this cell\u001b[39;00m\n\u001b[0;32m----> 2\u001b[0m \u001b[43mour_table\u001b[49m\u001b[38;5;241;43m.\u001b[39;49m\u001b[43mwith_columns\u001b[49m\u001b[43m(\u001b[49m\u001b[38;5;124;43m\"\u001b[39;49m\u001b[38;5;124;43mToo Few Rows\u001b[39;49m\u001b[38;5;124;43m\"\u001b[39;49m\u001b[43m,\u001b[49m\u001b[43m \u001b[49m\u001b[43mmake_array\u001b[49m\u001b[43m(\u001b[49m\u001b[38;5;241;43m1\u001b[39;49m\u001b[43m,\u001b[49m\u001b[43m \u001b[49m\u001b[38;5;241;43m2\u001b[39;49m\u001b[43m,\u001b[49m\u001b[43m \u001b[49m\u001b[38;5;241;43m4\u001b[39;49m\u001b[43m)\u001b[49m\u001b[43m)\u001b[49m\n",
      "File \u001b[0;32m/srv/conda/lib/python3.11/site-packages/datascience/tables.py:2583\u001b[0m, in \u001b[0;36mTable.with_columns\u001b[0;34m(self, *labels_and_values, **formatter)\u001b[0m\n\u001b[1;32m   2581\u001b[0m \u001b[38;5;28;01mfor\u001b[39;00m i \u001b[38;5;129;01min\u001b[39;00m \u001b[38;5;28mrange\u001b[39m(\u001b[38;5;241m0\u001b[39m, \u001b[38;5;28mlen\u001b[39m(labels_and_values), \u001b[38;5;241m2\u001b[39m):\n\u001b[1;32m   2582\u001b[0m     label, values \u001b[38;5;241m=\u001b[39m labels_and_values[i], labels_and_values[i\u001b[38;5;241m+\u001b[39m\u001b[38;5;241m1\u001b[39m]\n\u001b[0;32m-> 2583\u001b[0m     \u001b[38;5;28mself\u001b[39m \u001b[38;5;241m=\u001b[39m \u001b[38;5;28;43mself\u001b[39;49m\u001b[38;5;241;43m.\u001b[39;49m\u001b[43mwith_column\u001b[49m\u001b[43m(\u001b[49m\u001b[43mlabel\u001b[49m\u001b[43m,\u001b[49m\u001b[43m \u001b[49m\u001b[43mvalues\u001b[49m\u001b[43m,\u001b[49m\u001b[43m \u001b[49m\u001b[43mformatter\u001b[49m\u001b[43m)\u001b[49m\n\u001b[1;32m   2584\u001b[0m \u001b[38;5;28;01mreturn\u001b[39;00m \u001b[38;5;28mself\u001b[39m\n",
      "File \u001b[0;32m/srv/conda/lib/python3.11/site-packages/datascience/tables.py:2500\u001b[0m, in \u001b[0;36mTable.with_column\u001b[0;34m(self, label, values, formatter)\u001b[0m\n\u001b[1;32m   2498\u001b[0m \u001b[38;5;28;01melif\u001b[39;00m \u001b[38;5;28misinstance\u001b[39m(formatter, \u001b[38;5;28mdict\u001b[39m):\n\u001b[1;32m   2499\u001b[0m     formatter \u001b[38;5;241m=\u001b[39m formatter[\u001b[38;5;124m\"\u001b[39m\u001b[38;5;124mformatter\u001b[39m\u001b[38;5;124m\"\u001b[39m]\n\u001b[0;32m-> 2500\u001b[0m \u001b[43mnew_table\u001b[49m\u001b[38;5;241;43m.\u001b[39;49m\u001b[43mappend_column\u001b[49m\u001b[43m(\u001b[49m\u001b[43mlabel\u001b[49m\u001b[43m,\u001b[49m\u001b[43m \u001b[49m\u001b[43mvalues\u001b[49m\u001b[43m,\u001b[49m\u001b[43m \u001b[49m\u001b[43mformatter\u001b[49m\u001b[43m)\u001b[49m\n\u001b[1;32m   2501\u001b[0m \u001b[38;5;28;01mreturn\u001b[39;00m new_table\n",
      "File \u001b[0;32m/srv/conda/lib/python3.11/site-packages/datascience/tables.py:991\u001b[0m, in \u001b[0;36mTable.append_column\u001b[0;34m(self, label, values, formatter)\u001b[0m\n\u001b[1;32m    988\u001b[0m         values \u001b[38;5;241m=\u001b[39m np\u001b[38;5;241m.\u001b[39marray(\u001b[38;5;28mtuple\u001b[39m(values))\n\u001b[1;32m    990\u001b[0m \u001b[38;5;28;01mif\u001b[39;00m \u001b[38;5;28mself\u001b[39m\u001b[38;5;241m.\u001b[39mnum_rows \u001b[38;5;241m!=\u001b[39m \u001b[38;5;241m0\u001b[39m \u001b[38;5;129;01mand\u001b[39;00m \u001b[38;5;28mlen\u001b[39m(values) \u001b[38;5;241m!=\u001b[39m \u001b[38;5;28mself\u001b[39m\u001b[38;5;241m.\u001b[39mnum_rows:\n\u001b[0;32m--> 991\u001b[0m     \u001b[38;5;28;01mraise\u001b[39;00m \u001b[38;5;167;01mValueError\u001b[39;00m(\u001b[38;5;124m'\u001b[39m\u001b[38;5;124mColumn length mismatch. New column does not have \u001b[39m\u001b[38;5;124m'\u001b[39m\n\u001b[1;32m    992\u001b[0m                      \u001b[38;5;124m'\u001b[39m\u001b[38;5;124mthe same number of rows as table.\u001b[39m\u001b[38;5;124m'\u001b[39m)\n\u001b[1;32m    993\u001b[0m \u001b[38;5;28;01melse\u001b[39;00m:\n\u001b[1;32m    994\u001b[0m     \u001b[38;5;28mself\u001b[39m\u001b[38;5;241m.\u001b[39m_num_rows \u001b[38;5;241m=\u001b[39m \u001b[38;5;28mlen\u001b[39m(values)\n",
      "\u001b[0;31mValueError\u001b[0m: Column length mismatch. New column does not have the same number of rows as table."
     ]
    }
   ],
   "source": [
    "# Just run this cell\n",
    "our_table.with_columns(\"Too Few Rows\", make_array(1, 2, 4))"
   ]
  },
  {
   "cell_type": "markdown",
   "id": "5c232abf",
   "metadata": {},
   "source": [
    "**Question 1.1**: Add a new column to `our_table` called `\"Number of Students\"` that contains the number of students in each department. Jedi tells you that the *Data Science* department has 240 students, the *Economics* department has 905 students, the *Political Science* Department has 209 students, and the *Sociology* department has 63 students. \n",
    "\n",
    "Assign this new table to the variable `our_table_new_column`\n"
   ]
  },
  {
   "cell_type": "code",
   "execution_count": 14,
   "id": "8a3f6a95",
   "metadata": {
    "tags": []
   },
   "outputs": [
    {
     "data": {
      "text/html": [
       "<table border=\"1\" class=\"dataframe\">\n",
       "    <thead>\n",
       "        <tr>\n",
       "            <th>Department</th> <th>Course Number</th> <th>Number of Students</th>\n",
       "        </tr>\n",
       "    </thead>\n",
       "    <tbody>\n",
       "        <tr>\n",
       "            <td>Data Science     </td> <td>6            </td> <td>240               </td>\n",
       "        </tr>\n",
       "        <tr>\n",
       "            <td>Economics        </td> <td>1            </td> <td>905               </td>\n",
       "        </tr>\n",
       "        <tr>\n",
       "            <td>Political Science</td> <td>2            </td> <td>209               </td>\n",
       "        </tr>\n",
       "        <tr>\n",
       "            <td>Sociology        </td> <td>121          </td> <td>63                </td>\n",
       "        </tr>\n",
       "    </tbody>\n",
       "</table>"
      ],
      "text/plain": [
       "Department        | Course Number | Number of Students\n",
       "Data Science      | 6             | 240\n",
       "Economics         | 1             | 905\n",
       "Political Science | 2             | 209\n",
       "Sociology         | 121           | 63"
      ]
     },
     "execution_count": 14,
     "metadata": {},
     "output_type": "execute_result"
    }
   ],
   "source": [
    "# Our table has 4 rows, so our new column needs an array with 4 items, 1 for each row\n",
    "students_array = make_array(240, 905, 209, 63)\n",
    "our_table_new_column = our_table.with_column(\"Number of Students\", students_array)\n",
    "our_table_new_column"
   ]
  },
  {
   "cell_type": "code",
   "execution_count": 15,
   "id": "700212d8",
   "metadata": {
    "deletable": false,
    "editable": false
   },
   "outputs": [
    {
     "data": {
      "text/html": [
       "<p><strong><pre style='display: inline;'>q1_1</pre></strong> passed! 🎉</p>"
      ],
      "text/plain": [
       "q1_1 results: All test cases passed!"
      ]
     },
     "execution_count": 15,
     "metadata": {},
     "output_type": "execute_result"
    }
   ],
   "source": [
    "grader.check(\"q1_1\")"
   ]
  },
  {
   "cell_type": "code",
   "execution_count": 16,
   "id": "769797bb",
   "metadata": {},
   "outputs": [
    {
     "data": {
      "text/html": [
       "<table border=\"1\" class=\"dataframe\">\n",
       "    <thead>\n",
       "        <tr>\n",
       "            <th>Department</th> <th>Course Number</th> <th>Number of Students</th>\n",
       "        </tr>\n",
       "    </thead>\n",
       "    <tbody>\n",
       "        <tr>\n",
       "            <td>Data Science     </td> <td>6            </td> <td>240               </td>\n",
       "        </tr>\n",
       "        <tr>\n",
       "            <td>Economics        </td> <td>1            </td> <td>905               </td>\n",
       "        </tr>\n",
       "        <tr>\n",
       "            <td>Political Science</td> <td>2            </td> <td>209               </td>\n",
       "        </tr>\n",
       "        <tr>\n",
       "            <td>Sociology        </td> <td>121          </td> <td>63                </td>\n",
       "        </tr>\n",
       "    </tbody>\n",
       "</table>"
      ],
      "text/plain": [
       "Department        | Course Number | Number of Students\n",
       "Data Science      | 6             | 240\n",
       "Economics         | 1             | 905\n",
       "Political Science | 2             | 209\n",
       "Sociology         | 121           | 63"
      ]
     },
     "execution_count": 16,
     "metadata": {},
     "output_type": "execute_result"
    }
   ],
   "source": [
    "# This is our final table!\n",
    "# You may use this cell to explore the table and see what you can do with it so far!\n",
    "our_table_new_column"
   ]
  },
  {
   "cell_type": "markdown",
   "id": "bea20dd0",
   "metadata": {},
   "source": [
    "## Table attributes: `num_rows` and `num_columns`\n",
    "\n",
    "We can ask for all sorts of information about the table itself:"
   ]
  },
  {
   "cell_type": "code",
   "execution_count": 17,
   "id": "0b86f834",
   "metadata": {},
   "outputs": [
    {
     "data": {
      "text/plain": [
       "4"
      ]
     },
     "execution_count": 17,
     "metadata": {},
     "output_type": "execute_result"
    }
   ],
   "source": [
    "our_table_new_column.num_rows"
   ]
  },
  {
   "cell_type": "code",
   "execution_count": 18,
   "id": "34b13e41",
   "metadata": {},
   "outputs": [
    {
     "data": {
      "text/plain": [
       "3"
      ]
     },
     "execution_count": 18,
     "metadata": {},
     "output_type": "execute_result"
    }
   ],
   "source": [
    "our_table_new_column.num_columns"
   ]
  },
  {
   "cell_type": "markdown",
   "id": "93f3c9c2",
   "metadata": {},
   "source": [
    "## Accessing Data: `column`\n",
    "\n",
    "We can also ask about the data in the table using the `column` method. As mentioned in lecture, we can pass in a `label` or an `index` to this method. \n",
    "\n",
    "*Note*: Recall that index into the columns of a table using **zero-indexing** -- `0` corresponds to the first column, `1` corresponds to the second, etc...."
   ]
  },
  {
   "cell_type": "code",
   "execution_count": 19,
   "id": "e426c6b5",
   "metadata": {},
   "outputs": [
    {
     "data": {
      "text/plain": [
       "array(['Data Science', 'Economics', 'Political Science', 'Sociology'],\n",
       "      dtype='<U17')"
      ]
     },
     "execution_count": 19,
     "metadata": {},
     "output_type": "execute_result"
    }
   ],
   "source": [
    "# Converts a column in the table to an array\n",
    "our_table_new_column.column(\"Department\")"
   ]
  },
  {
   "cell_type": "code",
   "execution_count": 22,
   "id": "48bbd2cb",
   "metadata": {},
   "outputs": [
    {
     "data": {
      "text/plain": [
       "array([  6,   1,   2, 121])"
      ]
     },
     "execution_count": 22,
     "metadata": {},
     "output_type": "execute_result"
    }
   ],
   "source": [
    "# Same thing, but uses column index instead of label\n",
    "our_table_new_column.column(1)\n"
   ]
  },
  {
   "cell_type": "markdown",
   "id": "fad3328a",
   "metadata": {},
   "source": [
    "**Question 1.2**: Find the average number of students in each department by first accessing the `\"Number of Students\"` column as an array and then taking the average. Assign the average to `avg_num_students`.\n",
    "\n",
    "*Note*: You may use any `np` functions here\n"
   ]
  },
  {
   "cell_type": "code",
   "execution_count": 23,
   "id": "531e7993",
   "metadata": {
    "tags": []
   },
   "outputs": [
    {
     "data": {
      "text/plain": [
       "354.25"
      ]
     },
     "execution_count": 23,
     "metadata": {},
     "output_type": "execute_result"
    }
   ],
   "source": [
    "avg_num_students = np.mean(our_table_new_column.column(\"Number of Students\"))\n",
    "avg_num_students"
   ]
  },
  {
   "cell_type": "code",
   "execution_count": 24,
   "id": "0cbfbd53",
   "metadata": {
    "deletable": false,
    "editable": false
   },
   "outputs": [
    {
     "data": {
      "text/html": [
       "<p><strong><pre style='display: inline;'>q1_2</pre></strong> passed! 🌟</p>"
      ],
      "text/plain": [
       "q1_2 results: All test cases passed!"
      ]
     },
     "execution_count": 24,
     "metadata": {},
     "output_type": "execute_result"
    }
   ],
   "source": [
    "grader.check(\"q1_2\")"
   ]
  },
  {
   "cell_type": "markdown",
   "id": "55590cb9",
   "metadata": {},
   "source": [
    "## Loading a Table\n",
    "\n",
    "Although creating our own tables by hand can be useful, more often than not the data we want to work with is far too large to be able to type out by hand. More commonly, we load datasets in from other sources using the `Table.read_table()` method. We can pass in a *file path* to this method and it will load that data into a table we can use in Python!"
   ]
  },
  {
   "cell_type": "markdown",
   "id": "d966b08e",
   "metadata": {},
   "source": [
    "### Background on the Data\n",
    "\n",
    "The dataset that we'll use in this lab comes from the Behavioral Risk Factor Surveillance System (BRFSS), a health survey fielded by the Centers for Disease Control and Prevention (CDC). From the [BRFSS website](https://www.cdc.gov/brfss/index.html):\n",
    ">The Behavioral Risk Factor Surveillance System (BRFSS) is the nation’s premier system of health-related telephone surveys that collect state data about U.S. residents regarding their health-related risk behaviors, chronic health conditions, and use of preventive services.\n",
    "\n",
    ">By collecting behavioral health risk data at the state and local level, BRFSS has become a powerful tool for targeting and building health promotion activities. \n",
    "\n",
    "The dataset that you will investigate is a **subset of the 2022 BRFSS Survey**. We've taken all the data points corresponding to fully-completed surveys and, in our opinion, the most interesting columns. Since the entire data set is so large, we've randomly sampled 100,000 rows from the original data. While we've wrangled and cleaning the data set you'll use in your investigation, you're welcome to investigate the original source; you can do so via the [Survey Data section](https://www.cdc.gov/brfss/data_documentation/index.htm) of the BRFSS site."
   ]
  },
  {
   "cell_type": "markdown",
   "id": "3d8303b2",
   "metadata": {},
   "source": [
    "## Seeing a table: `show()`\n",
    "\n",
    "The use of the `show()` method **displays** the first n rows of a table. Like `print()` this does not return a value, it just displays the value to us at the end of a cell."
   ]
  },
  {
   "cell_type": "code",
   "execution_count": 28,
   "id": "9c606c11",
   "metadata": {},
   "outputs": [
    {
     "data": {
      "text/html": [
       "<table border=\"1\" class=\"dataframe\">\n",
       "    <thead>\n",
       "        <tr>\n",
       "            <th>State</th> <th>Day</th> <th>Month</th> <th>Year</th> <th>Cell Phone</th> <th>College Housing (Cell)</th> <th>College Housing (Landline)</th> <th>General Health</th> <th>Physical Health</th> <th>Mental Health</th> <th>Personal Doctor</th> <th>Health Plan</th> <th>Sleep Time</th> <th>Exercise</th> <th>Diabetes</th> <th>Diabetes Age</th> <th>Binge Drinks</th> <th>Sex</th> <th>Children</th> <th>100 Cigarettes</th> <th>Days Smoking</th> <th>Income Lower</th> <th>Income Upper</th>\n",
       "        </tr>\n",
       "    </thead>\n",
       "    <tbody>\n",
       "        <tr>\n",
       "            <td>Nebraska     </td> <td>2   </td> <td>2    </td> <td>2020</td> <td>Yes       </td> <td>Missing               </td> <td>Missing                   </td> <td>4             </td> <td>7              </td> <td>0            </td> <td>Yes            </td> <td>Yes        </td> <td>6         </td> <td>Yes     </td> <td>No      </td> <td>-1          </td> <td>0           </td> <td>Male  </td> <td>0       </td> <td>Yes           </td> <td>Never       </td> <td>10000       </td> <td>14999       </td>\n",
       "        </tr>\n",
       "        <tr>\n",
       "            <td>West Virginia</td> <td>1   </td> <td>6    </td> <td>2020</td> <td>Missing   </td> <td>Missing               </td> <td>Missing                   </td> <td>3             </td> <td>0              </td> <td>0            </td> <td>Yes            </td> <td>Yes        </td> <td>7         </td> <td>No      </td> <td>Yes     </td> <td>55          </td> <td>-1          </td> <td>Female</td> <td>0       </td> <td>No            </td> <td>Missing     </td> <td>20000       </td> <td>24999       </td>\n",
       "        </tr>\n",
       "        <tr>\n",
       "            <td>Georgia      </td> <td>0   </td> <td>6    </td> <td>2020</td> <td>Missing   </td> <td>Missing               </td> <td>Missing                   </td> <td>1             </td> <td>0              </td> <td>0            </td> <td>Yes            </td> <td>Yes        </td> <td>7         </td> <td>Yes     </td> <td>No      </td> <td>-1          </td> <td>-1          </td> <td>Female</td> <td>1       </td> <td>No            </td> <td>Missing     </td> <td>50000       </td> <td>74999       </td>\n",
       "        </tr>\n",
       "        <tr>\n",
       "            <td>Florida      </td> <td>2   </td> <td>8    </td> <td>2020</td> <td>Missing   </td> <td>Missing               </td> <td>Missing                   </td> <td>4             </td> <td>-1             </td> <td>0            </td> <td>Yes            </td> <td>Yes        </td> <td>10        </td> <td>No      </td> <td>Yes     </td> <td>80          </td> <td>-1          </td> <td>Male  </td> <td>0       </td> <td>Yes           </td> <td>Never       </td> <td>35000       </td> <td>49999       </td>\n",
       "        </tr>\n",
       "        <tr>\n",
       "            <td>Nevada       </td> <td>1   </td> <td>6    </td> <td>2020</td> <td>Yes       </td> <td>Missing               </td> <td>Missing                   </td> <td>5             </td> <td>-1             </td> <td>7            </td> <td>Yes            </td> <td>No         </td> <td>8         </td> <td>Yes     </td> <td>No      </td> <td>-1          </td> <td>0           </td> <td>Male  </td> <td>0       </td> <td>No            </td> <td>Missing     </td> <td>-1          </td> <td>-1          </td>\n",
       "        </tr>\n",
       "    </tbody>\n",
       "</table>\n",
       "<p>... (99995 rows omitted)</p>"
      ],
      "text/plain": [
       "<IPython.core.display.HTML object>"
      ]
     },
     "metadata": {},
     "output_type": "display_data"
    }
   ],
   "source": [
    "# Run this cell to load in the data\n",
    "brfss = Table.read_table(\"data/brfss.csv\")\n",
    "brfss.show(5)"
   ]
  },
  {
   "cell_type": "markdown",
   "id": "ccc39e21",
   "metadata": {},
   "source": [
    "**Question 2.1:** Fill in the `num_rows_brfss` and `num_columns_brfss` with the number of rows and columns in the original `brfss` table, respectively.\n"
   ]
  },
  {
   "cell_type": "code",
   "execution_count": 29,
   "id": "e898e78f",
   "metadata": {
    "tags": []
   },
   "outputs": [
    {
     "name": "stdout",
     "output_type": "stream",
     "text": [
      "Our `brfss` table has 100000 rows and 23 columns\n"
     ]
    }
   ],
   "source": [
    "num_rows_brfss = brfss.num_rows\n",
    "num_columns_brfss = brfss.num_columns\n",
    "print(f\"Our `brfss` table has {num_rows_brfss} rows and {num_columns_brfss} columns\")"
   ]
  },
  {
   "cell_type": "code",
   "execution_count": 31,
   "id": "74fa292d",
   "metadata": {
    "deletable": false,
    "editable": false
   },
   "outputs": [
    {
     "data": {
      "text/html": [
       "<p><strong><pre style='display: inline;'>q2_1</pre></strong> passed! 💯</p>"
      ],
      "text/plain": [
       "q2_1 results: All test cases passed!"
      ]
     },
     "execution_count": 31,
     "metadata": {},
     "output_type": "execute_result"
    }
   ],
   "source": [
    "grader.check(\"q2_1\")"
   ]
  },
  {
   "cell_type": "markdown",
   "id": "7e337ccd",
   "metadata": {},
   "source": [
    "### Investigating our Data\n",
    "\n",
    "Now that we've loaded our data into the `brfss` table, let's take a closer look at its columns. Run the following cell to output the column names. "
   ]
  },
  {
   "cell_type": "code",
   "execution_count": 32,
   "id": "d1a5566a",
   "metadata": {},
   "outputs": [
    {
     "data": {
      "text/plain": [
       "('State',\n",
       " 'Day',\n",
       " 'Month',\n",
       " 'Year',\n",
       " 'Cell Phone',\n",
       " 'College Housing (Cell)',\n",
       " 'College Housing (Landline)',\n",
       " 'General Health',\n",
       " 'Physical Health',\n",
       " 'Mental Health',\n",
       " 'Personal Doctor',\n",
       " 'Health Plan',\n",
       " 'Sleep Time',\n",
       " 'Exercise',\n",
       " 'Diabetes',\n",
       " 'Diabetes Age',\n",
       " 'Binge Drinks',\n",
       " 'Sex',\n",
       " 'Children',\n",
       " '100 Cigarettes',\n",
       " 'Days Smoking',\n",
       " 'Income Lower',\n",
       " 'Income Upper')"
      ]
     },
     "execution_count": 32,
     "metadata": {},
     "output_type": "execute_result"
    }
   ],
   "source": [
    "brfss.labels"
   ]
  },
  {
   "cell_type": "markdown",
   "id": "5f93673e",
   "metadata": {},
   "source": [
    "Based on these column names, it looks like the data includes questions about **telecommunications**, **housing**, **demographic information**, **mental and physical health**, **alcohol and drug consumption**, and **physical exercise**. Each column in the `brfss` table corresponds to a question asked in the official BRFSS Survey."
   ]
  },
  {
   "cell_type": "markdown",
   "id": "a3b59fe5",
   "metadata": {},
   "source": [
    "## Data Manipulation\n",
    "\n",
    "Now that we have a solid understanding of the basic table methods from the `datascience` library, let's put our skills to use! Even with a few tools, we are already able to arrive at powerful realizations about real world data."
   ]
  },
  {
   "cell_type": "markdown",
   "id": "713c13ec",
   "metadata": {},
   "source": [
    "**Question 2.2**: Assign `num_alabama_rows` to the the number of times the name **Alabama** appeared in the `brfss` table.\n",
    "\n",
    "*Hint*: Use the table methods you've learned above!\n"
   ]
  },
  {
   "cell_type": "code",
   "execution_count": 35,
   "id": "ecf8ef40",
   "metadata": {
    "tags": []
   },
   "outputs": [
    {
     "data": {
      "text/plain": [
       "1352"
      ]
     },
     "execution_count": 35,
     "metadata": {},
     "output_type": "execute_result"
    }
   ],
   "source": [
    "alabama_tbl = brfss.where(\"State\", \"Alabama\")\n",
    "num_alabama_rows = alabama_tbl.num_rows\n",
    "num_alabama_rows"
   ]
  },
  {
   "cell_type": "code",
   "execution_count": null,
   "id": "8720eefc",
   "metadata": {
    "deletable": false,
    "editable": false
   },
   "outputs": [],
   "source": [
    "grader.check(\"q2_2\")"
   ]
  },
  {
   "cell_type": "markdown",
   "id": "17956374",
   "metadata": {},
   "source": [
    "Take a closer look at some of the columns in the `brfss` table. For the next two questions, we will be looking at the `\"Binge Drinks\"` column, which corresponds to this survey question:\n",
    "> Considering all types of alcoholic beverages, how many times during the past 30 days did you have 5 or more\n",
    "drinks for men or 4 or more drinks for women on an occasion? \n",
    "\n",
    "Notice that this column contains negative values, most notably `-1`. Why might this be the case? Discuss with the people around you."
   ]
  },
  {
   "cell_type": "code",
   "execution_count": 36,
   "id": "6d5260a8",
   "metadata": {},
   "outputs": [
    {
     "data": {
      "text/plain": [
       "array([ 0., -1., -1., ...,  0.,  0.,  0.])"
      ]
     },
     "execution_count": 36,
     "metadata": {},
     "output_type": "execute_result"
    }
   ],
   "source": [
    "# Run this cell\n",
    "brfss.column(\"Binge Drinks\")"
   ]
  },
  {
   "cell_type": "markdown",
   "id": "4ea185d3",
   "metadata": {},
   "source": [
    "**Question 2.3**: Create a new table called `missing_binge_drinks` which only contains rows from the `brfss` table where there is a `-1` in the `\"Binge Drinks\"` column.\n"
   ]
  },
  {
   "cell_type": "code",
   "execution_count": 37,
   "id": "f615629b",
   "metadata": {
    "tags": []
   },
   "outputs": [
    {
     "data": {
      "text/html": [
       "<table border=\"1\" class=\"dataframe\">\n",
       "    <thead>\n",
       "        <tr>\n",
       "            <th>State</th> <th>Day</th> <th>Month</th> <th>Year</th> <th>Cell Phone</th> <th>College Housing (Cell)</th> <th>College Housing (Landline)</th> <th>General Health</th> <th>Physical Health</th> <th>Mental Health</th> <th>Personal Doctor</th> <th>Health Plan</th> <th>Sleep Time</th> <th>Exercise</th> <th>Diabetes</th> <th>Diabetes Age</th> <th>Binge Drinks</th> <th>Sex</th> <th>Children</th> <th>100 Cigarettes</th> <th>Days Smoking</th> <th>Income Lower</th> <th>Income Upper</th>\n",
       "        </tr>\n",
       "    </thead>\n",
       "    <tbody>\n",
       "        <tr>\n",
       "            <td>West Virginia </td> <td>1   </td> <td>6    </td> <td>2020</td> <td>Missing   </td> <td>Missing               </td> <td>Missing                   </td> <td>3             </td> <td>0              </td> <td>0            </td> <td>Yes            </td> <td>Yes        </td> <td>7         </td> <td>No      </td> <td>Yes     </td> <td>55          </td> <td>-1          </td> <td>Female</td> <td>0       </td> <td>No            </td> <td>Missing     </td> <td>20000       </td> <td>24999       </td>\n",
       "        </tr>\n",
       "        <tr>\n",
       "            <td>Georgia       </td> <td>0   </td> <td>6    </td> <td>2020</td> <td>Missing   </td> <td>Missing               </td> <td>Missing                   </td> <td>1             </td> <td>0              </td> <td>0            </td> <td>Yes            </td> <td>Yes        </td> <td>7         </td> <td>Yes     </td> <td>No      </td> <td>-1          </td> <td>-1          </td> <td>Female</td> <td>1       </td> <td>No            </td> <td>Missing     </td> <td>50000       </td> <td>74999       </td>\n",
       "        </tr>\n",
       "        <tr>\n",
       "            <td>Florida       </td> <td>2   </td> <td>8    </td> <td>2020</td> <td>Missing   </td> <td>Missing               </td> <td>Missing                   </td> <td>4             </td> <td>-1             </td> <td>0            </td> <td>Yes            </td> <td>Yes        </td> <td>10        </td> <td>No      </td> <td>Yes     </td> <td>80          </td> <td>-1          </td> <td>Male  </td> <td>0       </td> <td>Yes           </td> <td>Never       </td> <td>35000       </td> <td>49999       </td>\n",
       "        </tr>\n",
       "        <tr>\n",
       "            <td>Maine         </td> <td>0   </td> <td>10   </td> <td>2020</td> <td>Missing   </td> <td>Missing               </td> <td>Missing                   </td> <td>2             </td> <td>0              </td> <td>0            </td> <td>Yes            </td> <td>Yes        </td> <td>6         </td> <td>Yes     </td> <td>Yes     </td> <td>55          </td> <td>-1          </td> <td>Male  </td> <td>0       </td> <td>Yes           </td> <td>Never       </td> <td>75000       </td> <td>-1          </td>\n",
       "        </tr>\n",
       "        <tr>\n",
       "            <td>Arizona       </td> <td>0   </td> <td>4    </td> <td>2020</td> <td>Yes       </td> <td>Missing               </td> <td>Missing                   </td> <td>1             </td> <td>0              </td> <td>0            </td> <td>No             </td> <td>Yes        </td> <td>8         </td> <td>Yes     </td> <td>No      </td> <td>-1          </td> <td>-1          </td> <td>Male  </td> <td>2       </td> <td>Yes           </td> <td>Some Days   </td> <td>-1          </td> <td>-1          </td>\n",
       "        </tr>\n",
       "        <tr>\n",
       "            <td>Texas         </td> <td>1   </td> <td>7    </td> <td>2020</td> <td>Yes       </td> <td>Missing               </td> <td>Missing                   </td> <td>4             </td> <td>0              </td> <td>0            </td> <td>No             </td> <td>Yes        </td> <td>8         </td> <td>No      </td> <td>No      </td> <td>-1          </td> <td>-1          </td> <td>Male  </td> <td>0       </td> <td>Yes           </td> <td>Every Day   </td> <td>15000       </td> <td>19999       </td>\n",
       "        </tr>\n",
       "        <tr>\n",
       "            <td>South Carolina</td> <td>0   </td> <td>11   </td> <td>2020</td> <td>Missing   </td> <td>Missing               </td> <td>Missing                   </td> <td>2             </td> <td>0              </td> <td>0            </td> <td>Yes            </td> <td>Yes        </td> <td>7         </td> <td>Yes     </td> <td>No      </td> <td>-1          </td> <td>-1          </td> <td>Female</td> <td>0       </td> <td>No            </td> <td>Missing     </td> <td>75000       </td> <td>-1          </td>\n",
       "        </tr>\n",
       "        <tr>\n",
       "            <td>Maine         </td> <td>2   </td> <td>2    </td> <td>2020</td> <td>Missing   </td> <td>Missing               </td> <td>Missing                   </td> <td>2             </td> <td>0              </td> <td>0            </td> <td>Yes            </td> <td>Yes        </td> <td>7         </td> <td>No      </td> <td>No      </td> <td>-1          </td> <td>-1          </td> <td>Male  </td> <td>0       </td> <td>Yes           </td> <td>Never       </td> <td>75000       </td> <td>-1          </td>\n",
       "        </tr>\n",
       "        <tr>\n",
       "            <td>Ohio          </td> <td>1   </td> <td>9    </td> <td>2020</td> <td>Yes       </td> <td>Missing               </td> <td>Missing                   </td> <td>1             </td> <td>0              </td> <td>0            </td> <td>Yes            </td> <td>Yes        </td> <td>5         </td> <td>No      </td> <td>No      </td> <td>-1          </td> <td>-1          </td> <td>Male  </td> <td>2       </td> <td>Yes           </td> <td>Never       </td> <td>50000       </td> <td>74999       </td>\n",
       "        </tr>\n",
       "        <tr>\n",
       "            <td>Massachusetts </td> <td>1   </td> <td>2    </td> <td>2020</td> <td>Yes       </td> <td>Missing               </td> <td>Missing                   </td> <td>1             </td> <td>7              </td> <td>20           </td> <td>Yes            </td> <td>Yes        </td> <td>6         </td> <td>No      </td> <td>Yes     </td> <td>57          </td> <td>-1          </td> <td>Female</td> <td>0       </td> <td>No            </td> <td>Missing     </td> <td>25000       </td> <td>34999       </td>\n",
       "        </tr>\n",
       "    </tbody>\n",
       "</table>\n",
       "<p>... (51032 rows omitted)</p>"
      ],
      "text/plain": [
       "State          | Day  | Month | Year | Cell Phone | College Housing (Cell) | College Housing (Landline) | General Health | Physical Health | Mental Health | Personal Doctor | Health Plan | Sleep Time | Exercise | Diabetes | Diabetes Age | Binge Drinks | Sex    | Children | 100 Cigarettes | Days Smoking | Income Lower | Income Upper\n",
       "West Virginia  | 1    | 6     | 2020 | Missing    | Missing                | Missing                    | 3              | 0               | 0             | Yes             | Yes         | 7          | No       | Yes      | 55           | -1           | Female | 0        | No             | Missing      | 20000        | 24999\n",
       "Georgia        | 0    | 6     | 2020 | Missing    | Missing                | Missing                    | 1              | 0               | 0             | Yes             | Yes         | 7          | Yes      | No       | -1           | -1           | Female | 1        | No             | Missing      | 50000        | 74999\n",
       "Florida        | 2    | 8     | 2020 | Missing    | Missing                | Missing                    | 4              | -1              | 0             | Yes             | Yes         | 10         | No       | Yes      | 80           | -1           | Male   | 0        | Yes            | Never        | 35000        | 49999\n",
       "Maine          | 0    | 10    | 2020 | Missing    | Missing                | Missing                    | 2              | 0               | 0             | Yes             | Yes         | 6          | Yes      | Yes      | 55           | -1           | Male   | 0        | Yes            | Never        | 75000        | -1\n",
       "Arizona        | 0    | 4     | 2020 | Yes        | Missing                | Missing                    | 1              | 0               | 0             | No              | Yes         | 8          | Yes      | No       | -1           | -1           | Male   | 2        | Yes            | Some Days    | -1           | -1\n",
       "Texas          | 1    | 7     | 2020 | Yes        | Missing                | Missing                    | 4              | 0               | 0             | No              | Yes         | 8          | No       | No       | -1           | -1           | Male   | 0        | Yes            | Every Day    | 15000        | 19999\n",
       "South Carolina | 0    | 11    | 2020 | Missing    | Missing                | Missing                    | 2              | 0               | 0             | Yes             | Yes         | 7          | Yes      | No       | -1           | -1           | Female | 0        | No             | Missing      | 75000        | -1\n",
       "Maine          | 2    | 2     | 2020 | Missing    | Missing                | Missing                    | 2              | 0               | 0             | Yes             | Yes         | 7          | No       | No       | -1           | -1           | Male   | 0        | Yes            | Never        | 75000        | -1\n",
       "Ohio           | 1    | 9     | 2020 | Yes        | Missing                | Missing                    | 1              | 0               | 0             | Yes             | Yes         | 5          | No       | No       | -1           | -1           | Male   | 2        | Yes            | Never        | 50000        | 74999\n",
       "Massachusetts  | 1    | 2     | 2020 | Yes        | Missing                | Missing                    | 1              | 7               | 20            | Yes             | Yes         | 6          | No       | Yes      | 57           | -1           | Female | 0        | No             | Missing      | 25000        | 34999\n",
       "... (51032 rows omitted)"
      ]
     },
     "execution_count": 37,
     "metadata": {},
     "output_type": "execute_result"
    }
   ],
   "source": [
    "missing_binge_drinks = brfss.where(\"Binge Drinks\", -1)\n",
    "missing_binge_drinks"
   ]
  },
  {
   "cell_type": "code",
   "execution_count": 38,
   "id": "02a72b6e",
   "metadata": {
    "deletable": false,
    "editable": false
   },
   "outputs": [
    {
     "data": {
      "text/html": [
       "<p><strong><pre style='display: inline;'>q2_3</pre></strong> passed! 🙌</p>"
      ],
      "text/plain": [
       "q2_3 results: All test cases passed!"
      ]
     },
     "execution_count": 38,
     "metadata": {},
     "output_type": "execute_result"
    }
   ],
   "source": [
    "grader.check(\"q2_3\")"
   ]
  },
  {
   "cell_type": "markdown",
   "id": "b52ed6c0",
   "metadata": {},
   "source": [
    "<!-- BEGIN QUESTION -->\n",
    "\n",
    "**Question 2.4 (*Discussion*):** Say we wanted to find the average of one of the columns from our original table. How does the inclusion of `-1` values *affect* this average? If we removed all the negative values, how would the average change?\n",
    "\n",
    "Then, once you've answered, run the following cell to confirm your understanding.\n"
   ]
  },
  {
   "cell_type": "markdown",
   "id": "56436d3c",
   "metadata": {},
   "source": [
    "The inclusion of -1 decreases the average. If we removed all the negative values, the average would increase. The average would likely be more representative once we remove all the negative values."
   ]
  },
  {
   "cell_type": "markdown",
   "id": "54671310",
   "metadata": {},
   "source": [
    "<!-- END QUESTION -->\n",
    "\n"
   ]
  },
  {
   "cell_type": "code",
   "execution_count": 44,
   "id": "524e5527",
   "metadata": {},
   "outputs": [
    {
     "name": "stdout",
     "output_type": "stream",
     "text": [
      "With negatives: 0.49044\n",
      "Without negatives: 0.5016119932296285\n"
     ]
    }
   ],
   "source": [
    "brfss_no_negatives_children = brfss.where(\"Children\", are.not_equal_to(-1))\n",
    "print(\"With negatives: \" + str(np.average(brfss.column('Children'))))\n",
    "print(f\"Without negatives: {np.average(brfss_no_negatives_children.column('Children'))}\")"
   ]
  },
  {
   "cell_type": "markdown",
   "id": "64c16914",
   "metadata": {},
   "source": [
    "**Question 2.6:** Using the `no_missing_income` table we've provided for you, determine the **average income** for respondents who:\n",
    "1. Have a health insurance plan (\"Yes\" in \"Health Plan\" column)\n",
    "2. Do not have a health insurance plan (\"No\" in \"Health Plan\" column)\n",
    "3. Refused to answer this question (\"Declined to Answer\" in \"Health Plan\" column)\n",
    "\n",
    "You may use the starter code provided for you, but are not required to.\n"
   ]
  },
  {
   "cell_type": "code",
   "execution_count": 50,
   "id": "264237a0",
   "metadata": {
    "tags": []
   },
   "outputs": [
    {
     "name": "stdout",
     "output_type": "stream",
     "text": [
      "Respondents with a Health Insurance Plan made: \t\t$43832.35\n",
      "Respondents without a Health Insurance Plan made: \t$34940.18\n",
      "Respondents who refused to answer made: \t\t$30963.91\n"
     ]
    }
   ],
   "source": [
    "no_missing_income = brfss.where(\"Income Upper\", are.not_equal_to(-1))\n",
    "health_plan = no_missing_income.where(\"Health Plan\", \"Yes\")\n",
    "no_health_plan = no_missing_income.where(\"Health Plan\", \"No\")\n",
    "declined = no_missing_income.where(\"Health Plan\", \"Declined to Answer\")\n",
    "average_plan = np.mean(health_plan.column(\"Income Upper\"))\n",
    "average_no_plan = np.mean(no_health_plan.column(\"Income Upper\"))\n",
    "average_declined = np.mean(declined.column(\"Income Upper\"))\n",
    "\n",
    "print(f\"Respondents with a Health Insurance Plan made: \\t\\t${round(average_plan, 2)}\")\n",
    "print(f\"Respondents without a Health Insurance Plan made: \\t${round(average_no_plan, 2)}\")\n",
    "print(f\"Respondents who refused to answer made: \\t\\t${round(average_declined, 2)}\")"
   ]
  },
  {
   "cell_type": "code",
   "execution_count": 51,
   "id": "9c78ddf1",
   "metadata": {
    "deletable": false,
    "editable": false
   },
   "outputs": [
    {
     "data": {
      "text/html": [
       "<p><strong><pre style='display: inline;'>q2_6</pre></strong> passed! 🚀</p>"
      ],
      "text/plain": [
       "q2_6 results: All test cases passed!"
      ]
     },
     "execution_count": 51,
     "metadata": {},
     "output_type": "execute_result"
    }
   ],
   "source": [
    "grader.check(\"q2_6\")"
   ]
  },
  {
   "cell_type": "markdown",
   "id": "9ceb1065",
   "metadata": {},
   "source": [
    "With just over a week of data science under your belts, you're already able to uncover underlying **patterns and trends** within real world data. In this case, we've found that those with health insurance plans make, on average, almost 9,000 more dollars a year than those without health insurance plans.\n",
    "\n",
    "What's valuable, too, is the information we gain when a population is *missing* or, in this case, *declines to participate*. Notice that the average salary of respondents who refused to answer was around 4,000 dollars lower than those *without* a Health Insurance Plan."
   ]
  },
  {
   "cell_type": "markdown",
   "id": "11dc336f",
   "metadata": {},
   "source": [
    "## Done! 😇"
   ]
  },
  {
   "cell_type": "markdown",
   "id": "861694b0",
   "metadata": {
    "deletable": false,
    "editable": false
   },
   "source": [
    "## Submission\n",
    "\n",
    "Make sure you have run all cells in your notebook in order before running the cell below, so that all images/graphs appear in the output. The cell below will generate a zip file for you to submit. **Please save before exporting!**"
   ]
  },
  {
   "cell_type": "code",
   "execution_count": null,
   "id": "a35a4eb5",
   "metadata": {
    "deletable": false,
    "editable": false
   },
   "outputs": [],
   "source": [
    "# Save your notebook first, then run this cell to export your submission.\n",
    "grader.export(pdf=False, run_tests=True)"
   ]
  },
  {
   "cell_type": "markdown",
   "id": "9e252c2d",
   "metadata": {},
   "source": [
    " "
   ]
  }
 ],
 "metadata": {
  "kernelspec": {
   "display_name": "Python 3 (ipykernel)",
   "language": "python",
   "name": "python3"
  },
  "language_info": {
   "codemirror_mode": {
    "name": "ipython",
    "version": 3
   },
   "file_extension": ".py",
   "mimetype": "text/x-python",
   "name": "python",
   "nbconvert_exporter": "python",
   "pygments_lexer": "ipython3",
   "version": "3.11.9"
  },
  "otter": {
   "OK_FORMAT": true,
   "tests": {
    "q1_1": {
     "name": "q1_1",
     "points": 1,
     "suites": [
      {
       "cases": [
        {
         "code": ">>> our_table_new_column.labels == ('Department', 'Course Number', 'Number of Students')\nTrue",
         "hidden": false,
         "locked": false
        },
        {
         "code": ">>> all(our_table_new_column.column(\"Number of Students\") == make_array(240, 905, 209,  63))\nTrue",
         "hidden": false,
         "locked": false
        }
       ],
       "scored": true,
       "setup": "",
       "teardown": "",
       "type": "doctest"
      }
     ]
    },
    "q1_2": {
     "name": "q1_2",
     "points": 1,
     "suites": [
      {
       "cases": [
        {
         "code": ">>> avg_num_students == 354.25\nTrue",
         "hidden": false,
         "locked": false
        }
       ],
       "scored": true,
       "setup": "",
       "teardown": "",
       "type": "doctest"
      }
     ]
    },
    "q2_1": {
     "name": "q2_1",
     "points": 1,
     "suites": [
      {
       "cases": [
        {
         "code": ">>> num_rows_brfss == 100000\nTrue",
         "hidden": false,
         "locked": false
        },
        {
         "code": ">>> num_columns_brfss == 23\nTrue",
         "hidden": false,
         "locked": false
        }
       ],
       "scored": true,
       "setup": "",
       "teardown": "",
       "type": "doctest"
      }
     ]
    },
    "q2_2": {
     "name": "q2_2",
     "points": 1,
     "suites": [
      {
       "cases": [
        {
         "code": ">>> num_alabama_rows == 1352\nTrue",
         "hidden": false,
         "locked": false
        }
       ],
       "scored": true,
       "setup": "",
       "teardown": "",
       "type": "doctest"
      }
     ]
    },
    "q2_3": {
     "name": "q2_3",
     "points": 1,
     "suites": [
      {
       "cases": [
        {
         "code": ">>> missing_binge_drinks.num_rows == 51042\nTrue",
         "hidden": false,
         "locked": false
        }
       ],
       "scored": true,
       "setup": "",
       "teardown": "",
       "type": "doctest"
      }
     ]
    },
    "q2_6": {
     "name": "q2_6",
     "points": 1,
     "suites": [
      {
       "cases": [
        {
         "code": ">>> np.isclose(average_plan,43832.35496992514)\nTrue",
         "hidden": false,
         "locked": false
        },
        {
         "code": ">>> np.isclose(average_no_plan, 34940.17647058824)\nTrue",
         "hidden": false,
         "locked": false
        },
        {
         "code": ">>> np.isclose(average_declined, 30963.912280701756)\nTrue",
         "hidden": false,
         "locked": false
        }
       ],
       "scored": true,
       "setup": "",
       "teardown": "",
       "type": "doctest"
      }
     ]
    }
   }
  }
 },
 "nbformat": 4,
 "nbformat_minor": 5
}
