{
 "cells": [
  {
   "cell_type": "code",
   "execution_count": 1,
   "id": "822cedc6",
   "metadata": {
    "deletable": false,
    "editable": false
   },
   "outputs": [],
   "source": [
    "# Initialize Otter\n",
    "import otter\n",
    "grader = otter.Notebook(\"lab09.ipynb\")"
   ]
  },
  {
   "cell_type": "markdown",
   "id": "0a6c3879",
   "metadata": {},
   "source": [
    "<img src=\"data6.png\" style=\"width: 15%; float: right; padding: 1%; margin-right: 2%;\"/>\n",
    "\n",
    "# Lab 9  - Iteration\n",
    "\n",
    "## Data 6, Fall 2024\n",
    "\n",
    "Welcome back to Lab 9! This week we will be covering content from lectures on **control**, **iteration**, and **strings**."
   ]
  },
  {
   "cell_type": "code",
   "execution_count": 2,
   "id": "41009910",
   "metadata": {},
   "outputs": [],
   "source": [
    "# Just run this cell\n",
    "from datascience import *\n",
    "import numpy as np"
   ]
  },
  {
   "cell_type": "markdown",
   "id": "82fc75e3",
   "metadata": {},
   "source": [
    "# Part 1: Control\n",
    "\n",
    "When writing functions in Python, we may want the function to behave differently depending on the input. We could choose to write several similar functions to accomplish this, but that would require copying and pasting much of the same code over and over again, only making small changes.\n",
    "\n",
    "Instead, we need a way to tell one singular function to execute different code for different inputs. In lecture we discussed this idea as `if-else` statements.\n",
    "\n",
    "Let's look at an example of a function that uses `if-else` statements to tell us what water looks like at different temperatures:\n",
    "\n",
    "<img src='water.jpeg' width=300>"
   ]
  },
  {
   "cell_type": "code",
   "execution_count": 3,
   "id": "f77166c2",
   "metadata": {},
   "outputs": [],
   "source": [
    "def state_of_water(temperature):\n",
    "    if temperature <= 32: # Water is solid at and below 32°F\n",
    "        return \"ice\"\n",
    "    elif temperature < 212: # Water is liquid between 32°F and 212°F\n",
    "        return \"liquid\"\n",
    "    else: # Water is gaseous above 212°F\n",
    "        return \"steam\""
   ]
  },
  {
   "cell_type": "markdown",
   "id": "d664dedd",
   "metadata": {},
   "source": [
    "Here, we could have made 3 different functions that each dealt with a different state of water, but that would force us to know the state of water (what we currently do not know and are trying to figure out) so that we could pick the right function to use. This is why control such as `if-else` statements are so important!"
   ]
  },
  {
   "cell_type": "markdown",
   "id": "904cb7ee",
   "metadata": {},
   "source": [
    "Now let's use this function to determine the state of water in the following locations during the winter:\n",
    "\n",
    "| **City** | Temperature (°F) |\n",
    "| --- | --- |\n",
    "| Berkeley | 58 |\n",
    "| New York | 24 |\n",
    "| Miami | 78 |\n",
    "| Earth's Core | 10800 |\n",
    "\n",
    "We can see the calculation each city's state of water using the function defined above:"
   ]
  },
  {
   "cell_type": "code",
   "execution_count": 4,
   "id": "c810e908",
   "metadata": {},
   "outputs": [
    {
     "name": "stdout",
     "output_type": "stream",
     "text": [
      "Water in Berkeley is: liquid\n"
     ]
    }
   ],
   "source": [
    "print(f\"Water in Berkeley is: {state_of_water(58)}\")"
   ]
  },
  {
   "cell_type": "code",
   "execution_count": 5,
   "id": "f35e4823",
   "metadata": {},
   "outputs": [
    {
     "name": "stdout",
     "output_type": "stream",
     "text": [
      "Water in New York is: ice\n"
     ]
    }
   ],
   "source": [
    "print(f\"Water in New York is: {state_of_water(24)}\")"
   ]
  },
  {
   "cell_type": "code",
   "execution_count": 6,
   "id": "a0e9571e",
   "metadata": {},
   "outputs": [
    {
     "name": "stdout",
     "output_type": "stream",
     "text": [
      "Water in Miami is: liquid\n"
     ]
    }
   ],
   "source": [
    "print(f\"Water in Miami is: {state_of_water(78)}\")"
   ]
  },
  {
   "cell_type": "code",
   "execution_count": 7,
   "id": "c56289ac",
   "metadata": {},
   "outputs": [
    {
     "name": "stdout",
     "output_type": "stream",
     "text": [
      "Water at the Center of the Earth is: steam\n"
     ]
    }
   ],
   "source": [
    "print(f\"Water at the Center of the Earth is: {state_of_water(10800)}\")"
   ]
  },
  {
   "cell_type": "markdown",
   "id": "1b0b352f",
   "metadata": {},
   "source": [
    "We can call the function on different inputs and the function deals with each input differently based on the control logic you gave it. This will be very important when you write functions that deal with large, sometimes unpredictable datasets where the logic of your function will deal with inputs you may not have directly prepared the function for."
   ]
  },
  {
   "cell_type": "markdown",
   "id": "d6efa1d2",
   "metadata": {},
   "source": [
    "# Part 2: Iteration\n",
    "\n",
    "Iteration is the repetition of code. Typically, the variables in iteration change sequentially, and the iteration continues to repeat until a boolean condition indicates that the iteration be stopped. \n",
    "\n",
    "---\n",
    "## Question 1\n",
    "\n",
    "A `for` loop is an example of iteration in Python that we have seen in lecture. Let's use a `for` loop to write a function that finds the sum of the digits of a number.\n",
    "\n",
    "As an example, the sum of the digits of the number 123 is 1 + 2 + 3 = 6, so `sum_digits(123)` should return 6."
   ]
  },
  {
   "cell_type": "code",
   "execution_count": 21,
   "id": "b59f1d7b",
   "metadata": {
    "tags": []
   },
   "outputs": [
    {
     "data": {
      "text/plain": [
       "8"
      ]
     },
     "execution_count": 21,
     "metadata": {},
     "output_type": "execute_result"
    }
   ],
   "source": [
    "def sum_digits(n):\n",
    "    \"\"\"\n",
    "    Sums all the digits of n.\n",
    "    >>> sum_digits(123)\n",
    "    6\n",
    "    >>> sum_digits(1)\n",
    "    1\n",
    "    >>> sum_digits(701)\n",
    "    8\n",
    "    \"\"\"\n",
    "    counter = 0\n",
    "    str_n = str(n)\n",
    "    i = 0\n",
    "    while i < len(str_n):\n",
    "        counter = counter + int(str_n[i])\n",
    "        i = i + 1\n",
    "    return counter\n",
    "sum_digits(701)"
   ]
  },
  {
   "cell_type": "code",
   "execution_count": null,
   "id": "8f327723",
   "metadata": {
    "deletable": false,
    "editable": false
   },
   "outputs": [],
   "source": [
    "grader.check(\"q1\")"
   ]
  },
  {
   "cell_type": "markdown",
   "id": "90573c6a",
   "metadata": {},
   "source": [
    "# Part 3: Strings\n",
    "\n",
    "We have already seen strings before in this course, but we want to introduce some new ideas with strings that will be very useful when dealing with data from real-world data sets.\n",
    "\n",
    "Strings can be viewed as special lists of characters. They can be printed, sliced, indexed, and more! You can do all of these things with lists as well, so let's take a look at how strings and lists are similar:"
   ]
  },
  {
   "cell_type": "code",
   "execution_count": 14,
   "id": "e811f686",
   "metadata": {},
   "outputs": [
    {
     "name": "stdout",
     "output_type": "stream",
     "text": [
      "Data Science at Berkeley rocks!\n",
      "DS@Berkeley\n"
     ]
    }
   ],
   "source": [
    "our_string = \"Data Science at Berkeley rocks!\"\n",
    "print(our_string)\n",
    "print(our_string[0] + our_string[5] + \"@\" + our_string[16:24])"
   ]
  },
  {
   "cell_type": "markdown",
   "id": "d3ac2eb5",
   "metadata": {},
   "source": [
    "We can iterate and slice strings too! In this way, strings are like special arrays.\n",
    "\n",
    "There is an important fact to point out here: In Python,  `strings` are **immutable**. This means that you are not able to mutate (i.e. change) a string object in place. If you want to modify your string, you'll have to make an entirely new one."
   ]
  },
  {
   "cell_type": "code",
   "execution_count": 15,
   "id": "13b5798d",
   "metadata": {},
   "outputs": [
    {
     "data": {
      "text/plain": [
       "'Data Science at Berkeley rocks!'"
      ]
     },
     "execution_count": 15,
     "metadata": {},
     "output_type": "execute_result"
    }
   ],
   "source": [
    "our_string"
   ]
  },
  {
   "cell_type": "code",
   "execution_count": 16,
   "id": "f113dadb",
   "metadata": {
    "tags": [
     "raises-exception"
    ]
   },
   "outputs": [
    {
     "ename": "TypeError",
     "evalue": "'str' object does not support item assignment",
     "output_type": "error",
     "traceback": [
      "\u001b[0;31m---------------------------------------------------------------------------\u001b[0m",
      "\u001b[0;31mTypeError\u001b[0m                                 Traceback (most recent call last)",
      "Cell \u001b[0;32mIn[16], line 3\u001b[0m\n\u001b[1;32m      1\u001b[0m \u001b[38;5;66;03m# However you cannot do this with strings because they are immutable.\u001b[39;00m\n\u001b[1;32m      2\u001b[0m \u001b[38;5;66;03m# This will be important when we talk about cleaning data sets before we can use them.\u001b[39;00m\n\u001b[0;32m----> 3\u001b[0m \u001b[43mour_string\u001b[49m\u001b[43m[\u001b[49m\u001b[38;5;241;43m3\u001b[39;49m\u001b[43m]\u001b[49m \u001b[38;5;241m=\u001b[39m \u001b[38;5;124m'\u001b[39m\u001b[38;5;124mx\u001b[39m\u001b[38;5;124m'\u001b[39m\n",
      "\u001b[0;31mTypeError\u001b[0m: 'str' object does not support item assignment"
     ]
    }
   ],
   "source": [
    "# However you cannot do this with strings because they are immutable.\n",
    "# This will be important when we talk about cleaning data sets before we can use them.\n",
    "our_string[3] = 'x'"
   ]
  },
  {
   "cell_type": "markdown",
   "id": "7a127c77",
   "metadata": {},
   "source": [
    "There are special string methods that help us edit strings, but we cannot forcefully change them with indexing or slicing. If you want to change a letter or a part of a string, you need to use those `str` methods from lecture."
   ]
  },
  {
   "cell_type": "markdown",
   "id": "ff8f5cc8",
   "metadata": {},
   "source": [
    "---\n",
    "## Question 2\n",
    "\n",
    "Let's use this idea of array and string indexing and `if/else` to find all words that begin with a vowel. Complete the function `starts_with_vowels` so that it takes an array of strings, finds all of the words that begin with a vowel, and then returns an array of said words.\n",
    "\n",
    "For the example array, `some_words`, your function should return `array(['alligator', 'aardvark', 'owl', 'unicorn'])`.\n",
    "\n",
    "*Hint*: You'll need to use the `np.append` function, the documentation for which you can find [here](\"https://numpy.org/doc/stable/reference/generated/numpy.append.html\")."
   ]
  },
  {
   "cell_type": "code",
   "execution_count": 19,
   "id": "24b41d8a",
   "metadata": {
    "tags": []
   },
   "outputs": [
    {
     "data": {
      "text/plain": [
       "array([], dtype=float64)"
      ]
     },
     "execution_count": 19,
     "metadata": {},
     "output_type": "execute_result"
    }
   ],
   "source": [
    "some_words = make_array(\"alligator\", \"monkey\", \"zebra\", \"lion\", \"aardvark\", \"owl\", \"bear\", \"unicorn\")\n",
    "another_list_of_words = make_array(\"rocco\", \"ted\", \"sophia\")\n",
    "def starts_with_vowels(words):\n",
    "    words_to_keep = make_array()\n",
    "    for str in words:\n",
    "        if str[0] in \"aeiou\":\n",
    "            words_to_keep = np.append(words_to_keep, str)\n",
    "    return words_to_keep\n",
    "starts_with_vowels(another_list_of_words)"
   ]
  },
  {
   "cell_type": "code",
   "execution_count": 20,
   "id": "e1b1dec9",
   "metadata": {
    "deletable": false,
    "editable": false
   },
   "outputs": [
    {
     "data": {
      "text/html": [
       "<p><strong><pre style='display: inline;'>q2</pre></strong> passed! 🍀</p>"
      ],
      "text/plain": [
       "q2 results: All test cases passed!"
      ]
     },
     "execution_count": 20,
     "metadata": {},
     "output_type": "execute_result"
    }
   ],
   "source": [
    "grader.check(\"q2\")"
   ]
  },
  {
   "cell_type": "markdown",
   "id": "d58fc849",
   "metadata": {},
   "source": [
    "---\n",
    "## Question 3\n",
    "\n",
    "Let's write a function that uses another `for` loop. We want to be able to find the acronym of a name. For example, we want to be able to call **The University of California, Berkeley** by an abbreviated `UCB`.\n",
    "\n",
    "Because we don't care as much about small words even if they are capitalized, also make sure to **exclude words with three letters or fewer from your acronym**. That is why the `T` in `The` is not included in the example acronym above.\n",
    "\n",
    "Write a function that takes in a string and returns its acronym.\n",
    "\n",
    "_Hint_: the string method `.isupper()` will return `True` if the given string (or character) is entirely upper case, and `False` otherwise."
   ]
  },
  {
   "cell_type": "code",
   "execution_count": null,
   "id": "f8f23b01",
   "metadata": {},
   "outputs": [],
   "source": [
    "# Here is a cell that explains the str.split() function used in the solution below:\n",
    "sentence = \"Hello, I am a student in Data 6!\"\n",
    "sentence.split()"
   ]
  },
  {
   "cell_type": "code",
   "execution_count": null,
   "id": "93f9575d",
   "metadata": {
    "tags": []
   },
   "outputs": [],
   "source": [
    "def acronym(title):\n",
    "    # This str.split() function mentioned above turns a string into a list of its words.\n",
    "    words = title.split()\n",
    "    result = \"\"\n",
    "    ...\n",
    "    return result\n",
    "\n",
    "acronym(\"The University of Califiornia, Berkeley\")"
   ]
  },
  {
   "cell_type": "code",
   "execution_count": null,
   "id": "c78afa9f",
   "metadata": {
    "deletable": false,
    "editable": false
   },
   "outputs": [],
   "source": [
    "grader.check(\"q3\")"
   ]
  },
  {
   "cell_type": "markdown",
   "id": "17b9081e",
   "metadata": {},
   "source": [
    "## Done! 😇"
   ]
  },
  {
   "attachments": {},
   "cell_type": "markdown",
   "id": "ed131a6e",
   "metadata": {},
   "source": [
    "This lab is optional, but you're welcome to submit to the autograder on gradescope if you'd like. "
   ]
  },
  {
   "cell_type": "markdown",
   "id": "723ca540",
   "metadata": {
    "deletable": false,
    "editable": false
   },
   "source": [
    "## Submission\n",
    "\n",
    "Make sure you have run all cells in your notebook in order before running the cell below, so that all images/graphs appear in the output. The cell below will generate a zip file for you to submit. **Please save before exporting!**"
   ]
  },
  {
   "cell_type": "code",
   "execution_count": null,
   "id": "4a658bc8",
   "metadata": {
    "deletable": false,
    "editable": false
   },
   "outputs": [],
   "source": [
    "# Save your notebook first, then run this cell to export your submission.\n",
    "grader.export(pdf=False, run_tests=True)"
   ]
  },
  {
   "cell_type": "markdown",
   "id": "56897dbb",
   "metadata": {},
   "source": [
    " "
   ]
  }
 ],
 "metadata": {
  "kernelspec": {
   "display_name": "Python 3 (ipykernel)",
   "language": "python",
   "name": "python3"
  },
  "language_info": {
   "codemirror_mode": {
    "name": "ipython",
    "version": 3
   },
   "file_extension": ".py",
   "mimetype": "text/x-python",
   "name": "python",
   "nbconvert_exporter": "python",
   "pygments_lexer": "ipython3",
   "version": "3.11.10"
  },
  "otter": {
   "OK_FORMAT": true,
   "tests": {
    "q1": {
     "name": "q1",
     "points": 1,
     "suites": [
      {
       "cases": [
        {
         "code": ">>> callable(sum_digits)\nTrue",
         "hidden": false,
         "locked": false
        },
        {
         "code": ">>> sum_digits(123) == 6\nTrue",
         "hidden": false,
         "locked": false
        },
        {
         "code": ">>> sum_digits(0) == 0\nTrue",
         "hidden": false,
         "locked": false
        },
        {
         "code": ">>> sum_digits(1234) == 10\nTrue",
         "hidden": false,
         "locked": false
        }
       ],
       "scored": true,
       "setup": "",
       "teardown": "",
       "type": "doctest"
      }
     ]
    },
    "q2": {
     "name": "q2",
     "points": 1,
     "suites": [
      {
       "cases": [
        {
         "code": ">>> all(starts_with_vowels(some_words) == make_array('alligator', 'aardvark', 'owl', 'unicorn'))\nTrue",
         "hidden": false,
         "locked": false
        },
        {
         "code": ">>> all(starts_with_vowels(make_array(\"bear\")) == make_array())\nTrue",
         "hidden": false,
         "locked": false
        },
        {
         "code": ">>> \"zebra\" not in starts_with_vowels(some_words)\nTrue",
         "hidden": false,
         "locked": false
        }
       ],
       "scored": true,
       "setup": "",
       "teardown": "",
       "type": "doctest"
      }
     ]
    },
    "q3": {
     "name": "q3",
     "points": 1,
     "suites": [
      {
       "cases": [
        {
         "code": ">>> callable(acronym)\nTrue",
         "hidden": false,
         "locked": false
        },
        {
         "code": ">>> acronym(\"The University of California, Berkeley\") == \"UCB\"\nTrue",
         "hidden": false,
         "locked": false
        },
        {
         "code": ">>> acronym(\"\") == \"\"\nTrue",
         "hidden": false,
         "locked": false
        },
        {
         "code": ">>> acronym(\"Data Science at Berkeley\") == \"DSB\"\nTrue",
         "hidden": false,
         "locked": false
        },
        {
         "code": ">>> acronym(\"The United States of America\") == \"USA\"\nTrue",
         "hidden": false,
         "locked": false
        }
       ],
       "scored": true,
       "setup": "",
       "teardown": "",
       "type": "doctest"
      }
     ]
    }
   }
  }
 },
 "nbformat": 4,
 "nbformat_minor": 5
}
