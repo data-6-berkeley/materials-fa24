{
 "cells": [
  {
   "cell_type": "code",
   "execution_count": null,
   "id": "26cb0e38",
   "metadata": {
    "deletable": false,
    "editable": false
   },
   "outputs": [],
   "source": [
    "# Initialize Otter\n",
    "import otter\n",
    "grader = otter.Notebook(\"lab08.ipynb\")"
   ]
  },
  {
   "cell_type": "markdown",
   "id": "f795936e",
   "metadata": {},
   "source": [
    "<img src=\"data6.png\" style=\"width: 15%; float: right; padding: 1%; margin-right: 2%;\"/>\n",
    "\n",
    "# Lab 8 - Functions and Control\n",
    "\n",
    "## Data 6, Fall 2024\n",
    "\n",
    "Welcome to lab 8! This week we will be covering boolean operators and functions."
   ]
  },
  {
   "cell_type": "code",
   "execution_count": null,
   "id": "745dda8e",
   "metadata": {},
   "outputs": [],
   "source": [
    "# Just run this cell\n",
    "from datascience import *\n",
    "\n",
    "import warnings\n",
    "warnings.simplefilter('ignore')"
   ]
  },
  {
   "cell_type": "markdown",
   "id": "30cf53a5",
   "metadata": {},
   "source": [
    "\n",
    "\n",
    "# Boolean Operators"
   ]
  },
  {
   "cell_type": "markdown",
   "id": "6148a1e5",
   "metadata": {},
   "source": [
    "---\n",
    "\n",
    "## Comparison Operators\n",
    "\n",
    "Comparison operators are boolean operators that are used to compare two different values in Python.\n",
    "\n",
    "We introduced six of these operators in lecture: `==`, `!=`,`<`, `<=`, `>`, and `>=`. Try using these operators on variables and values of all types, though in practice they are typically used with integers and floats, and sometimes on strings. Strings are treated in increasing alphabetical order: ('a' < 'b') == True.\n",
    "\n",
    "Run the following series of cells to see some examples of these comparison operators in practice:"
   ]
  },
  {
   "cell_type": "code",
   "execution_count": null,
   "id": "6985cbed",
   "metadata": {},
   "outputs": [],
   "source": [
    "1 < 2"
   ]
  },
  {
   "cell_type": "code",
   "execution_count": null,
   "id": "c0e749c7",
   "metadata": {},
   "outputs": [],
   "source": [
    "min(20, 30) <= max(-10, 20)"
   ]
  },
  {
   "cell_type": "code",
   "execution_count": null,
   "id": "4d1e1b48",
   "metadata": {},
   "outputs": [],
   "source": [
    "(3 + 4) != (3 * 4)"
   ]
  },
  {
   "cell_type": "code",
   "execution_count": null,
   "id": "b0bc6e48",
   "metadata": {},
   "outputs": [],
   "source": [
    "\"abc\" < \"def\""
   ]
  },
  {
   "cell_type": "markdown",
   "id": "a72ea3c8",
   "metadata": {},
   "source": [
    "### An Important Distinction\n",
    "\n",
    "There is an important distinction here between `=` and `==`:\n",
    "\n",
    ">`=` is used to **set** a Python name (i.e. assignment), while `==` is used as the **comparison operator** to compare two values. "
   ]
  },
  {
   "cell_type": "code",
   "execution_count": null,
   "id": "2961a407",
   "metadata": {},
   "outputs": [],
   "source": [
    "# Set the name 'a' to have value 5\n",
    "a = 5"
   ]
  },
  {
   "cell_type": "code",
   "execution_count": null,
   "id": "fa3aabeb",
   "metadata": {},
   "outputs": [],
   "source": [
    "# Ask if it is equal to the value you think it should be\n",
    "a == 5"
   ]
  },
  {
   "cell_type": "markdown",
   "id": "db2fe57b",
   "metadata": {},
   "source": [
    "## Membership Operators: `in`\n",
    "There is one more boolean operator built into Python we have not mentioned yet. The keyword `in` allows you to check if strings are contained in larger strings. It can be used in other ways in Python, but for now we will use it to ask if the first string is a substring of the second string (if it appears in the other string).\n",
    "\n",
    "Run the cells below for examples of `in`:"
   ]
  },
  {
   "cell_type": "code",
   "execution_count": null,
   "id": "4a2accc3",
   "metadata": {},
   "outputs": [],
   "source": [
    "\"hello\" in \"hello world\""
   ]
  },
  {
   "cell_type": "code",
   "execution_count": null,
   "id": "0aa151cb",
   "metadata": {},
   "outputs": [],
   "source": [
    "\"i\" in \"rhythm\""
   ]
  },
  {
   "cell_type": "markdown",
   "id": "4d293cb1",
   "metadata": {},
   "source": [
    "The `in` keyword can also check whether an array *contains* a certain element. `True` is returned if the array contains the element, and `False` otherwise."
   ]
  },
  {
   "cell_type": "code",
   "execution_count": null,
   "id": "c8f58b8d",
   "metadata": {},
   "outputs": [],
   "source": [
    "my_array = make_array(3,2,5,6)\n",
    "5 in my_array"
   ]
  },
  {
   "cell_type": "code",
   "execution_count": null,
   "id": "ae31d8cd",
   "metadata": {},
   "outputs": [],
   "source": [
    "9 in my_array"
   ]
  },
  {
   "cell_type": "markdown",
   "id": "3bbaeaea",
   "metadata": {},
   "source": [
    "## Boolean Operators: `and`, `or`, and `not`\n",
    "\n",
    "`and`, `or`, and `not` are boolean operators that operate directly on booleans.\n",
    "\n",
    ">`and` returns `True` when both operands are `True`, `False` otherwise.\n",
    "\n",
    ">`or` returns `False` when both operands are `False`, `True` otherwise.\n",
    "\n",
    ">`not` gives back the opposite boolean.\n",
    "\n",
    "These three operators are useful when writing functions because they help control a function's logic. You will find them useful when writing more complicated functions in the course.\n",
    "\n",
    "**Tip**: use parentheses to ensure your boolean operators are being applied correctly and without ambiguity.\n",
    "\n",
    "Run the cells below to see these 3 operators in practice:"
   ]
  },
  {
   "cell_type": "code",
   "execution_count": null,
   "id": "5db07887",
   "metadata": {},
   "outputs": [],
   "source": [
    "(3 * 4 == 12) or (3 + 4 == 50)"
   ]
  },
  {
   "cell_type": "code",
   "execution_count": null,
   "id": "6eb58278",
   "metadata": {},
   "outputs": [],
   "source": [
    "(3 * 4 == 12) and (3 + 4 == 50)"
   ]
  },
  {
   "cell_type": "code",
   "execution_count": null,
   "id": "c05f4f28",
   "metadata": {},
   "outputs": [],
   "source": [
    "not (3 + 4 == 50)"
   ]
  },
  {
   "cell_type": "markdown",
   "id": "82101bbe",
   "metadata": {},
   "source": [
    "---\n",
    "### Question 1\n",
    "\n",
    "Write code that assigns `x_satisfies` to `True` or `False` depending on if the value of `x` satisfies *either* of the following conditions:\n",
    "1. Even and has a value in the range 24 and 32 (inclusive)\n",
    "2. Odd and has a value between 7 and 20 (exclusive). \n",
    "\n",
    "For this question, `x` will be assigned to `26`.\n",
    "\n",
    "*Hint*: You should try using the modulo operator (%) to help check if a value is odd or even! The `%` operator will provide you with the *remainder* after diving by a certain number\n"
   ]
  },
  {
   "cell_type": "code",
   "execution_count": null,
   "id": "26747340",
   "metadata": {
    "tags": []
   },
   "outputs": [],
   "source": [
    "x = 26\n",
    "x_satifies = ...\n",
    "x_satifies"
   ]
  },
  {
   "cell_type": "code",
   "execution_count": null,
   "id": "e3d7714c",
   "metadata": {
    "deletable": false,
    "editable": false
   },
   "outputs": [],
   "source": [
    "grader.check(\"q1\")"
   ]
  },
  {
   "cell_type": "markdown",
   "id": "f71b3b57",
   "metadata": {},
   "source": [
    "---\n",
    "### Should I Stay or Should I Go\n",
    "Now let's take a look at a function that uses **variables** and **boolean operators**:\n",
    "\n",
    "Based on the color of the stoplight in front of us we want to know whether we should stop or keep going. Because we know we are going to encounter many lights on our trip, we should write a function! We can make two functions: one where we take risks and go on yellow lights, and one where we play it safe and stop for yellow lights"
   ]
  },
  {
   "cell_type": "code",
   "execution_count": null,
   "id": "bbea9fab",
   "metadata": {},
   "outputs": [],
   "source": [
    "def stop_or_go_risky(light):\n",
    "    green = (light == 'green')\n",
    "    yellow = (light == 'yellow')\n",
    "    red = (light == 'red')\n",
    "    return (green or yellow) and (not red) # Go on green and yellow, stop on red\n",
    "\n",
    "def stop_or_go_safe(light):\n",
    "    green = (light == 'green')\n",
    "    yellow = (light == 'yellow')\n",
    "    red = (light == 'red')\n",
    "    return green and ((not yellow) and (not red)) # Go on green, stop on yellow and red"
   ]
  },
  {
   "cell_type": "markdown",
   "id": "b5284428",
   "metadata": {},
   "source": [
    "These functions are booleans because they output either True or False. We can write functions that output any type we need, and you will do so throughout the course!"
   ]
  },
  {
   "cell_type": "markdown",
   "id": "82cca983",
   "metadata": {},
   "source": [
    "Run the following cell as a demo:"
   ]
  },
  {
   "cell_type": "code",
   "execution_count": null,
   "id": "2ce95f23",
   "metadata": {},
   "outputs": [],
   "source": [
    "#We can use the outputs of these functions to let us know to stop the car if we need to on our way to the market.\n",
    "\n",
    "light1 = stop_or_go_safe('green')\n",
    "light2 = stop_or_go_safe('yellow')\n",
    "light3 = stop_or_go_safe('red')\n",
    "\n",
    "print(\"I am driving to the market! No rush!\")\n",
    "print(\"\") # This is the same as hitting the return key while typing in Google Docs\n",
    "print(\"Should I go at a green light?... \" + str(light1))\n",
    "print(\"Should I go at a yellow light?... \" + str(light2))\n",
    "print(\"Should I go at a red light?... \" + str(light3))\n",
    "print(\"\")\n",
    "\n",
    "#But if we find out we are running late, we may want to take more risks.\n",
    "print(\"Oh no! I'm running late!\")\n",
    "print(\"\")\n",
    "\n",
    "light4 = stop_or_go_risky('green')\n",
    "light5 = stop_or_go_risky('yellow')\n",
    "light6 = stop_or_go_risky('red')\n",
    "\n",
    "print(\"Should I go at a green light?... \" + str(light4))\n",
    "print(\"Should I go at a yellow light?... \" + str(light5))\n",
    "print(\"Should I go at a red light?... \" + str(light6))"
   ]
  },
  {
   "cell_type": "markdown",
   "id": "9348154a",
   "metadata": {},
   "source": [
    "---\n",
    "### Question 2: Hailstone\n",
    "\n",
    "The Hailstone sequence from Hofstadter is as follows:\n",
    "1. Pick a positive integer n as the start value.\n",
    "2. If n is even, divide it by 2.\n",
    "3. If n is odd, multiply it by 3 and add 1.\n",
    "4. If you continue this process, n will eventually reach 1. \n",
    "\n",
    "Based on what you learned today, write a function that uses if/else statements to do **one step** of the hailstone sequence. It should take in an integer n and then return the corresponding Hailstone number for that value. For example, `hailstone(10)` should return 5 and `hailstone(9)` should return 28. \n"
   ]
  },
  {
   "cell_type": "code",
   "execution_count": null,
   "id": "d35f4574",
   "metadata": {
    "tags": []
   },
   "outputs": [],
   "source": [
    "def hailstone(n):\n",
    "    if ...:\n",
    "        ...\n",
    "    else:"
   ]
  },
  {
   "cell_type": "code",
   "execution_count": null,
   "id": "8966ceba",
   "metadata": {
    "deletable": false,
    "editable": false
   },
   "outputs": [],
   "source": [
    "grader.check(\"q2\")"
   ]
  },
  {
   "cell_type": "code",
   "execution_count": null,
   "id": "20c51dc0",
   "metadata": {},
   "outputs": [],
   "source": [
    "# Run this cell to see the Hailstone sequence in action!\n",
    "print(\"Starting value: 10\")\n",
    "n1 = hailstone(10)\n",
    "print(\"Step 1:\", n1)\n",
    "n2 = hailstone(n1)\n",
    "print(\"Step 2:\", n2)\n",
    "n3 = hailstone(n2)\n",
    "print(\"Step 3:\", n3)\n",
    "n4 = hailstone(n3)\n",
    "print(\"Step 4:\", n4)\n",
    "n5 = hailstone(n4)\n",
    "print(\"Step 5:\", n5)\n",
    "n6 = hailstone(n5)\n",
    "print(\"Step 6:\", n6)"
   ]
  },
  {
   "cell_type": "markdown",
   "id": "d5eac6cb",
   "metadata": {},
   "source": [
    "---\n",
    "### Question 3: Fizzbuzz\n",
    "\n",
    "Create a function named `fizzbuzz` that follows the classic Fizzbuzz game rules for a given integer `n`. Here are the rules:\n",
    "\n",
    "\n",
    "1. return `\"fizz\"` if `n` is divisible by 3.\n",
    "2. return `\"buzz\"` if `n` is divisible by 5.\n",
    "3. return `\"fizzbuzz\"` if `n` is divisible by both 3 and 5.\n",
    "4. return the number itself as a string if it's neither divisible by 3 nor 5.\n",
    "\n",
    "Implement the fizzbuzz function to meet these specifications. Your implementation should handle any positive integer n.\n",
    "\n",
    "*Hint:* The order of your conditions matter!\n",
    "\n",
    "*Hint:* We learned `if` and `else` in class on Monday. You should also use `elif` in your implementation. See [this resource](https://www.w3resource.com/python/python-if-else-statements.php) for more information."
   ]
  },
  {
   "cell_type": "code",
   "execution_count": null,
   "id": "c66263dc",
   "metadata": {
    "tags": []
   },
   "outputs": [],
   "source": [
    "def fizzbuzz(n):\n",
    "    if ...:\n",
    "        ...\n",
    "    elif ...:\n",
    "        ...\n",
    "    elif ...:\n",
    "        ...\n",
    "    else:"
   ]
  },
  {
   "cell_type": "code",
   "execution_count": null,
   "id": "b2123756",
   "metadata": {
    "deletable": false,
    "editable": false
   },
   "outputs": [],
   "source": [
    "grader.check(\"q3\")"
   ]
  },
  {
   "cell_type": "markdown",
   "id": "1cf045ae",
   "metadata": {},
   "source": [
    "## Done! 😇"
   ]
  },
  {
   "attachments": {},
   "cell_type": "markdown",
   "id": "e97bca28",
   "metadata": {},
   "source": [
    "## Pets of Data 6\n",
    "Snickers wishes you a happy rest of the week!\n",
    "\n",
    "<img src=\"snickers.jpg\" width=\"40%\" alt=\"One dog looking at a treat\"/>"
   ]
  },
  {
   "cell_type": "code",
   "execution_count": null,
   "id": "071e5f9a",
   "metadata": {},
   "outputs": [],
   "source": []
  },
  {
   "cell_type": "markdown",
   "id": "5f39b7fb",
   "metadata": {
    "deletable": false,
    "editable": false
   },
   "source": [
    "## Submission\n",
    "\n",
    "Make sure you have run all cells in your notebook in order before running the cell below, so that all images/graphs appear in the output. The cell below will generate a zip file for you to submit. **Please save before exporting!**"
   ]
  },
  {
   "cell_type": "code",
   "execution_count": null,
   "id": "b5bcd420",
   "metadata": {
    "deletable": false,
    "editable": false
   },
   "outputs": [],
   "source": [
    "# Save your notebook first, then run this cell to export your submission.\n",
    "grader.export(pdf=False, run_tests=True)"
   ]
  },
  {
   "cell_type": "markdown",
   "id": "099e8d5a",
   "metadata": {},
   "source": [
    " "
   ]
  }
 ],
 "metadata": {
  "kernelspec": {
   "display_name": "Python 3 (ipykernel)",
   "language": "python",
   "name": "python3"
  },
  "language_info": {
   "codemirror_mode": {
    "name": "ipython",
    "version": 3
   },
   "file_extension": ".py",
   "mimetype": "text/x-python",
   "name": "python",
   "nbconvert_exporter": "python",
   "pygments_lexer": "ipython3",
   "version": "3.11.10"
  },
  "otter": {
   "OK_FORMAT": true,
   "tests": {
    "q1": {
     "name": "q1",
     "points": 1,
     "suites": [
      {
       "cases": [
        {
         "code": ">>> isinstance(x_satifies, bool)\nTrue",
         "hidden": false,
         "locked": false
        },
        {
         "code": ">>> x_satifies is True\nTrue",
         "hidden": false,
         "locked": false
        }
       ],
       "scored": true,
       "setup": "",
       "teardown": "",
       "type": "doctest"
      }
     ]
    },
    "q2": {
     "name": "q2",
     "points": 1,
     "suites": [
      {
       "cases": [
        {
         "code": ">>> callable(hailstone)\nTrue",
         "hidden": false,
         "locked": false
        },
        {
         "code": ">>> hailstone(2) == 1\nTrue",
         "hidden": false,
         "locked": false
        },
        {
         "code": ">>> hailstone(3) == 10\nTrue",
         "hidden": false,
         "locked": false
        },
        {
         "code": ">>> (hailstone(10) == 5) and (hailstone(9) == 28)\nTrue",
         "hidden": false,
         "locked": false
        }
       ],
       "scored": true,
       "setup": "",
       "teardown": "",
       "type": "doctest"
      }
     ]
    },
    "q3": {
     "name": "q3",
     "points": 1,
     "suites": [
      {
       "cases": [
        {
         "code": ">>> callable(fizzbuzz)\nTrue",
         "hidden": false,
         "locked": false
        },
        {
         "code": ">>> fizzbuzz(15) == 'fizzbuzz'\nTrue",
         "hidden": false,
         "locked": false
        },
        {
         "code": ">>> fizzbuzz(3) == 'fizz'\nTrue",
         "hidden": false,
         "locked": false
        },
        {
         "code": ">>> fizzbuzz(5) == 'buzz'\nTrue",
         "hidden": false,
         "locked": false
        },
        {
         "code": ">>> fizzbuzz(2) == '2'\nTrue",
         "hidden": false,
         "locked": false
        }
       ],
       "scored": true,
       "setup": "",
       "teardown": "",
       "type": "doctest"
      }
     ]
    }
   }
  }
 },
 "nbformat": 4,
 "nbformat_minor": 5
}
