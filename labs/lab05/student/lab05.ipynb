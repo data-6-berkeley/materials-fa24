{
 "cells": [
  {
   "cell_type": "code",
   "execution_count": null,
   "id": "64308cfe",
   "metadata": {
    "deletable": false,
    "editable": false
   },
   "outputs": [],
   "source": [
    "# Initialize Otter\n",
    "import otter\n",
    "grader = otter.Notebook(\"lab05.ipynb\")"
   ]
  },
  {
   "cell_type": "markdown",
   "id": "11517b42",
   "metadata": {},
   "source": [
    "<img src=\"data6.png\" style=\"width: 15%; float: right; padding: 1%; margin-right: 2%;\"/>\n",
    "\n",
    "# Lab 5 – Advanced Table Methods\n",
    "\n",
    "## Data 6, Fall 2024\n",
    "\n",
    "Today we will be exploring some more complex table methods we can use! The `apply` and `join` methods all allow us to perform different queries on our familiar tables. Understanding not only *how* each method works, but also *why* and *when* to use them are the key takeaways from this lab; by the end of it, we will be able to query tables in some pretty cool ways!\n",
    "\n",
    "These new methods allow us to do different operations than before. As such, it is becoming more and more important to remember how each method sits on our Data Science toolbelt. We should think of each new method as a **tool that serves a specific purpose**. Your job as a data scientist is not only to understand what each tool does, but when each tool is applicable in new situations!"
   ]
  },
  {
   "cell_type": "code",
   "execution_count": null,
   "id": "1e0f7678",
   "metadata": {},
   "outputs": [],
   "source": [
    "from datascience import *\n",
    "import numpy as np\n",
    "\n",
    "import matplotlib.pyplot as plt\n",
    "plt.style.use(\"ggplot\")\n",
    "%matplotlib inline\n",
    "\n",
    "import warnings\n",
    "warnings.simplefilter('ignore')"
   ]
  },
  {
   "cell_type": "markdown",
   "id": "4c2e772f",
   "metadata": {},
   "source": [
    "<hr style=\"border: 5px solid #003262;\" />\n",
    "<hr style=\"border: 1px solid #fdb515;\" />\n",
    "\n",
    "## Part 1: Data Context Exploration"
   ]
  },
  {
   "cell_type": "markdown",
   "id": "e990b577",
   "metadata": {},
   "source": [
    "When working with data, it is always important to consider not only the impacts that the representation of the data can have in the real world</strong>, but also <strong>the effects that the conclusions from your data analysis and visualizations can have!</strong> "
   ]
  },
  {
   "cell_type": "markdown",
   "id": "2a45f748",
   "metadata": {},
   "source": [
    "### A Look Into the `Gender` Column"
   ]
  },
  {
   "cell_type": "markdown",
   "id": "5c5c8851",
   "metadata": {},
   "source": [
    "The [source of the original data](https://ir.ucr.edu/stats/enrollment/demographic) today from UC Riverside includes a dataset that displays admissions data, broken down by college. An interesting question you may want to consider is why UC Riverside would make this type of breakdown available alongside the original dataset of the whole university. \n",
    "\n",
    "Let's load the dataset into a Table object below called `ucr_college`."
   ]
  },
  {
   "cell_type": "code",
   "execution_count": null,
   "id": "6afbb94a",
   "metadata": {},
   "outputs": [],
   "source": [
    "ucr_college = Table.read_table(\"riverside_by_college.csv\")\n",
    "ucr_college.show(5)"
   ]
  },
  {
   "cell_type": "markdown",
   "id": "a1a040fc",
   "metadata": {},
   "source": [
    "As we can see from the `\"Year\"` column, this dataset also contains slightly more updated information, including data from 2023. Let's take a look at the way the data is represented in the `\"Gender\"` column for this dataset:"
   ]
  },
  {
   "cell_type": "code",
   "execution_count": null,
   "id": "373a8a19",
   "metadata": {},
   "outputs": [],
   "source": [
    "np.unique(ucr_college.column(\"Gender\"))"
   ]
  },
  {
   "cell_type": "markdown",
   "id": "6cccb911",
   "metadata": {},
   "source": [
    "<!-- BEGIN QUESTION -->\n",
    "\n",
    "### Question 1.1 (Discussion)\n",
    "It looks like this dataset contains the additional values of `\"Nonbinary\"` and `\"Unknown\"` for `\"Gender\"`. Take a look at the \"Details about the data\" section [at the bottom of the website.](https://ir.ucr.edu/stats/enrollment/demographic) How was this particular variable measured? How might this impact our comparison between the conclusions we come to with this data vs. the data we previously worked with?\n",
    "\n",
    "By either looking at the details of the data or the [\"Data Dictionary and Reporting Methodology\"](https://ir.ucr.edu/sites/default/files/2019-07/IR_Data_Dictionary_1.pdf), find one other interesting way that UCR has chosen to measure their variables OR an interesting way UCR has chosen to capture concepts using certain variables and list it below.\n",
    "\n",
    "*Hint:* Think about what reducing the number of categories would mean."
   ]
  },
  {
   "cell_type": "markdown",
   "id": "67ce41a6",
   "metadata": {},
   "source": [
    "_Type your answer here, replacing this text._"
   ]
  },
  {
   "cell_type": "markdown",
   "id": "6626f4fb",
   "metadata": {},
   "source": [
    "<!-- END QUESTION -->\n",
    "\n",
    "Doing this type of extra basic background research on the source of our data can be incredibly helpful in our understanding of our data!"
   ]
  },
  {
   "cell_type": "markdown",
   "id": "03697fdd",
   "metadata": {},
   "source": [
    "---\n",
    "### Exploration of Aggregation by College"
   ]
  },
  {
   "cell_type": "markdown",
   "id": "82ebbce5",
   "metadata": {},
   "source": [
    "> \"STEM Majors include those in the Bourns College of Engineering (BCOE) and the College of Natural and Agricultural Sciences (CNAS).\""
   ]
  },
  {
   "cell_type": "markdown",
   "id": "e8c07458",
   "metadata": {},
   "source": [
    "Using this information, we can use the `where` method to create two different tables: one for STEM majors, and one for non-STEM majors. In the cell below, we generate the list of distinct college names at UC Riverside. As we see in the statement above, we can classify all non-STEM colleges as those in the list below, aside from the College of Engineering and the College of Natural and Agricultural Sciences."
   ]
  },
  {
   "cell_type": "code",
   "execution_count": null,
   "id": "288ffb9e",
   "metadata": {},
   "outputs": [],
   "source": [
    "np.unique(ucr_college.column(\"College\"))"
   ]
  },
  {
   "cell_type": "markdown",
   "id": "1253795c",
   "metadata": {},
   "source": [
    "### Question 1.2\n",
    "In the two cells below, use the `where` method to create two different tables: one for STEM majors (`ucr_stem`), and one for non-STEM majors (`ucr_nonstem`), based on which college they belong to."
   ]
  },
  {
   "cell_type": "code",
   "execution_count": null,
   "id": "1056aa00",
   "metadata": {
    "tags": []
   },
   "outputs": [],
   "source": [
    "ucr_stem = ...\n",
    "ucr_stem.show(3)"
   ]
  },
  {
   "cell_type": "code",
   "execution_count": null,
   "id": "f153a25f",
   "metadata": {
    "tags": []
   },
   "outputs": [],
   "source": [
    "ucr_nonstem = ...\n",
    "ucr_nonstem.show(3)"
   ]
  },
  {
   "cell_type": "code",
   "execution_count": null,
   "id": "df670434",
   "metadata": {
    "deletable": false,
    "editable": false
   },
   "outputs": [],
   "source": [
    "grader.check(\"q1_2\")"
   ]
  },
  {
   "cell_type": "markdown",
   "id": "bb98125d",
   "metadata": {},
   "source": [
    "Now, if we wanted to do a rough tabular comparison of the STEM vs. non-STEM majors, we can group by `\"Gender\"` and compare the numbers.\n",
    "\n",
    "For now, don't worry too much about understanding the syntax for the group method: we'll cover it in the next lab! The code in the two cells below simply aggregates the data by calculating the sums of the `\"Fall Headcount\"` column for each gender category."
   ]
  },
  {
   "cell_type": "code",
   "execution_count": null,
   "id": "b926a22a",
   "metadata": {},
   "outputs": [],
   "source": [
    "ucr_stem_grouped = ucr_stem.group(\"Gender\", np.sum).select(\"Gender\", \"Fall Headcount sum\").sort(\"Fall Headcount sum\", descending=True)\n",
    "ucr_stem_grouped "
   ]
  },
  {
   "cell_type": "code",
   "execution_count": null,
   "id": "9530f8c8",
   "metadata": {},
   "outputs": [],
   "source": [
    "ucr_nonstem_grouped = ucr_nonstem.group(\"Gender\", np.sum).select(\"Gender\", \"Fall Headcount sum\").sort(\"Fall Headcount sum\", descending=True)\n",
    "ucr_nonstem_grouped "
   ]
  },
  {
   "cell_type": "markdown",
   "id": "c1b453ba",
   "metadata": {},
   "source": [
    "<!-- BEGIN QUESTION -->\n",
    "\n",
    "### Question 1.3 (Discussion)\n",
    "From the above two tables, we can see an interesting discrepancy that we see quite often with this type of education-related data. What do you see when we compare these two tables?"
   ]
  },
  {
   "cell_type": "markdown",
   "id": "d3e5920c",
   "metadata": {},
   "source": [
    "_Type your answer here, replacing this text._"
   ]
  },
  {
   "cell_type": "markdown",
   "id": "39adb9bb",
   "metadata": {},
   "source": [
    "<!-- END QUESTION -->\n",
    "\n",
    "<!-- BEGIN QUESTION -->\n",
    "\n",
    "### Question 1.4\n",
    "Below, create a joined version of the headcounts split by gender for with one column containing the fall headcounts for STEM colleges, and another containing the headcounts for non-STEM colleges.\n",
    "\n",
    "To differentiate between STEM and non-STEM majors, label the STEM headcount \"Fall STEM Headcount\" and non-STEM headcount \"Non-STEM Fall Headcount\". You may find the `relabeled` table method useful here."
   ]
  },
  {
   "cell_type": "code",
   "execution_count": null,
   "id": "f49532ee",
   "metadata": {
    "tags": []
   },
   "outputs": [],
   "source": [
    "ucr_joined_gender = ...\n",
    "ucr_joined_gender"
   ]
  },
  {
   "cell_type": "markdown",
   "id": "03ce7a63",
   "metadata": {},
   "source": [
    "<!-- END QUESTION -->\n",
    "\n",
    "We looked into some aspects of the students' race/ethnicities in Part 2, but now we can dig a little deeper by performing the same process of grouping our data and visualizing the distribution between the STEM and non-STEM colleges. We start by creating the tables split by STEM and non-STEM, as well as the joined version with the headcounts of both categories."
   ]
  },
  {
   "cell_type": "code",
   "execution_count": null,
   "id": "4103cf9f",
   "metadata": {},
   "outputs": [],
   "source": [
    "ucr_stem_grouped_re = ucr_stem.group(\"IPEDS Race/Ethnicity\", np.sum).select([\"IPEDS Race/Ethnicity\", \"Fall Headcount sum\"]).sort(\"Fall Headcount sum\", descending=True)\n",
    "ucr_stem_grouped_re "
   ]
  },
  {
   "cell_type": "code",
   "execution_count": null,
   "id": "7af8c69e",
   "metadata": {},
   "outputs": [],
   "source": [
    "ucr_nonstem_grouped_re = ucr_nonstem.group(\"IPEDS Race/Ethnicity\", np.sum).select(\"IPEDS Race/Ethnicity\", \"Fall Headcount sum\").sort(\"Fall Headcount sum\", descending=True)\n",
    "ucr_nonstem_grouped_re "
   ]
  },
  {
   "cell_type": "markdown",
   "id": "f880e838",
   "metadata": {},
   "source": [
    "<!-- BEGIN QUESTION -->\n",
    "\n",
    "### Question 1.5\n",
    "Below, create a joined version of the headcounts split by IPEDS Race/Ethnicity for with one column containing the fall headcounts for STEM colleges, and another containing the headcounts for non-STEM colleges."
   ]
  },
  {
   "cell_type": "code",
   "execution_count": null,
   "id": "6c8d99aa",
   "metadata": {
    "tags": []
   },
   "outputs": [],
   "source": [
    "ucr_joined_re = ...\n",
    "ucr_joined_re.show(5)"
   ]
  },
  {
   "cell_type": "markdown",
   "id": "51243344",
   "metadata": {},
   "source": [
    "<!-- END QUESTION -->\n",
    "\n",
    "Going back to an idea we posed when starting to look into the `\"Gender\"` column: while this type of exploration is very important and can also be informative, it is also important to remember that it is not always enough to simply look at a trend like this and state it. Ultimately, it is typically very hard to encode data about humans into numbers and categories, **because in doing so, we lose information and context about the individual we are looking at.** In your analysis in the future, try to strike a balance of looking at interesting trends in the data and considering the original context of the data you're working with."
   ]
  },
  {
   "cell_type": "markdown",
   "id": "133741ae",
   "metadata": {},
   "source": [
    "<hr style=\"border: 5px solid #003262;\" />\n",
    "<hr style=\"border: 1px solid #fdb515;\" />\n",
    "\n",
    "## Part 2: Table Methods with Movies\n",
    "\n",
    "In this section, we'll be working with a `movies` data set that contains information about various American films over time. It contains the following columns:\n",
    "1. `\"Film\"`: The name of the movie\n",
    "2. `\"Genre\"`: The genre of the movie\n",
    "3. `\"Year\"`: The year the movie was released\n",
    "4. `\"Lead Studio\"`: The primary movie studio responsible for producing the movie\n",
    "5. `\"Audience score %\"`: The score, out of 100%, given to the movie by viewers\n",
    "6. `\"Rotten Tomatoes %\"`: The score, out of 100%, given to the movies by the website [Rotten Tomatoes](https://www.rottentomatoes.com/)\n",
    "7. `\"Worldwide Gross (Millions)\"`: The total gross revenue, in millions of dollars, that the movie made\n",
    "8. `\"Quality\"`: Descriptive ranking of the movie based on audience score\n",
    "\n",
    "Let's load the dataset into a new table, `movies`, to get practice with the more advanced table methods."
   ]
  },
  {
   "cell_type": "code",
   "execution_count": null,
   "id": "6b30ae44",
   "metadata": {},
   "outputs": [],
   "source": [
    "movies = Table.read_table(\"movies.csv\")\n",
    "movies.show(5)"
   ]
  },
  {
   "cell_type": "markdown",
   "id": "0148571c",
   "metadata": {},
   "source": [
    "## The [apply](http://data8.org/datascience/_autosummary/datascience.tables.Table.apply.html#datascience.tables.Table.apply) method\n",
    "\n",
    "The `apply` method allows us to map a function's behavior onto an entire column of a table. We can use built-in Python functions (like `max`) or we can define our own functions and then *apply* those functions to the columns of a table.\n",
    "\n",
    "The `apply` method takes at least 2 arguments. The first is a function, and the rest are as many column labels you need to run that function. The number of columns you need to specify is dependent on the number of arguments the function has. For example, if the function you provide needs two inputs, you need to list two columns for it to work on.\n",
    "\n",
    "`apply` returns a NumPy array of the transformed values. We can ask questions like \"How can I categorize the items in this column?\" (like converting grade percentages into letter grades from lecture). We can also make modifications to a table, like rounding all the values in a column to a certain accuracy.\n",
    "\n",
    "Let's use `apply` to take the average of the two score percentages, `\"Audience score %\"` and `\"Rotten Tomatoes %\"`."
   ]
  },
  {
   "cell_type": "markdown",
   "id": "7933fbcd",
   "metadata": {},
   "source": [
    "<!-- BEGIN QUESTION -->\n",
    "\n",
    "### Question 2.1"
   ]
  },
  {
   "cell_type": "code",
   "execution_count": null,
   "id": "def2b079",
   "metadata": {
    "tags": []
   },
   "outputs": [],
   "source": [
    "def average_score(audience_score, rt_score):\n",
    "    \"\"\"Computes the average score between the audience score and Rotten Tomatoes score\n",
    "    Inputs: \n",
    "    audience_score: an integer representing the audience score\n",
    "    rt_score: an integer representing the Rotten Tomatoes score\n",
    "\n",
    "    Returns:\n",
    "    An integer representing the average of the two scores\n",
    "    \"\"\"\n",
    "    return ..."
   ]
  },
  {
   "cell_type": "code",
   "execution_count": null,
   "id": "e213e087",
   "metadata": {
    "tags": []
   },
   "outputs": [],
   "source": [
    "average_scores = ...\n",
    "average_scores"
   ]
  },
  {
   "cell_type": "markdown",
   "id": "5f5187da",
   "metadata": {},
   "source": [
    "<!-- END QUESTION -->\n",
    "\n",
    "<!-- BEGIN QUESTION -->\n",
    "\n",
    "### Question 2.2\n",
    "\n",
    "Now, let's add a new column called `\"Average score %\"` and populate it with the information we just assigned to `average_scores`. We'll re-assign this new table to `movies`."
   ]
  },
  {
   "cell_type": "code",
   "execution_count": null,
   "id": "e034945b",
   "metadata": {
    "tags": []
   },
   "outputs": [],
   "source": [
    "movies = ...\n",
    "movies.show(5)"
   ]
  },
  {
   "cell_type": "markdown",
   "id": "7bd82fe1",
   "metadata": {},
   "source": [
    "<!-- END QUESTION -->\n",
    "\n",
    "<!-- BEGIN QUESTION -->\n",
    "\n",
    "### Question 2.3\n",
    "\n",
    "Explain what the error is with the code below:"
   ]
  },
  {
   "cell_type": "code",
   "execution_count": null,
   "id": "3f17068c",
   "metadata": {
    "scrolled": true,
    "tags": [
     "raises-exception"
    ]
   },
   "outputs": [],
   "source": [
    "movies.apply(average_score, \"Genre\", \"Lead Studio\")"
   ]
  },
  {
   "cell_type": "markdown",
   "id": "41b08a63",
   "metadata": {},
   "source": [
    "_Type your answer here, replacing this text._"
   ]
  },
  {
   "cell_type": "markdown",
   "id": "91602262",
   "metadata": {},
   "source": [
    "<!-- END QUESTION -->\n",
    "\n",
    "<!-- BEGIN QUESTION -->\n",
    "\n",
    "### Question 2.4\n",
    "Fill in the function `convert_to_dollars` which converts a dollar amount from *millions of dollars* to *dollars*. Then, use the `apply` method to convert all values from the `\"Worldwide Gross (Millions)\"` column into dollars. Finally, create a new column in the `movies` table called `\"Worldwide Gross\"` using the array resulting from your call to `apply`.\n",
    "\n",
    "*Note*: The code for this question requires several steps. Feel free to create new cells to experiment!\n"
   ]
  },
  {
   "cell_type": "code",
   "execution_count": null,
   "id": "fb4fd3aa",
   "metadata": {
    "tags": []
   },
   "outputs": [],
   "source": [
    "def convert_to_dollars(dollar_millions):\n",
    "    \"\"\"Converts a dollar amount from millions of dollars to dollars\n",
    "    Inputs:\n",
    "    dollar_millions: an integer representing the number of dollars in millions\n",
    "\n",
    "    Returns:\n",
    "    an integer representing the number of dollars\n",
    "    \"\"\"\n",
    "    ...\n",
    "\n",
    "dollars = ...\n",
    "movies = ...\n",
    "movies"
   ]
  },
  {
   "cell_type": "markdown",
   "id": "c9b5cc63",
   "metadata": {},
   "source": [
    "<!-- END QUESTION -->\n",
    "\n",
    "## The [join](http://data8.org/datascience/_autosummary/datascience.tables.Table.join.html#datascience.tables.Table.join) method\n",
    "\n",
    "The last method we will talk about in this lab is the `join` method. This method allows us to combine two different tables together!\n",
    "\n",
    "The `join` method takes in 2 mandatory arguments and 1 optional argument:\n",
    "\n",
    "| **Column Name** | **Description** |\n",
    "| --- | --- |\n",
    "| `column_label` | a column to use to join |\n",
    "| `other` | another table |\n",
    "| *Optional:* `other_label` | `other`'s label to join on (if not the same as `column_label`) |\n",
    "\n",
    "If `other` has a label in common with the table you are joining with and this common label is the one you want to join on, then you do not need to use the optional argument. If you want to join on another column label or if neither table has a column label in common, then you can use the optional `other_label`.\n",
    "\n",
    "The way join works takes some getting used to, so let's look at some examples of `join` at work!\n",
    "\n",
    "We have the `dogs` and `owners` tables below, take a look at them a bit before we move on so you understand what data they contain:"
   ]
  },
  {
   "cell_type": "code",
   "execution_count": null,
   "id": "2336dcd1",
   "metadata": {},
   "outputs": [],
   "source": [
    "dogs = Table().with_columns(\n",
    "    \"Name\", np.array([\"Shefran\", \"Hero\", \"Fluffy\", \"Doge\"]),\n",
    "    \"Breed\", np.array([\"Bichon Frise\", \"Shih-poo\", \"Corgi\", \"Coin\"]),\n",
    "    \"Owner\", np.array([\"Su Min\", \"Elizabeth\", \"Isabella\", \"Elizabeth\"]),\n",
    ")\n",
    "dogs"
   ]
  },
  {
   "cell_type": "code",
   "execution_count": null,
   "id": "4f786b79",
   "metadata": {},
   "outputs": [],
   "source": [
    "owners = Table().with_columns(\n",
    "    \"Owner\", np.array([\"Su Min\", \"Kenneth\", \"Isabella\", \"Elizabeth\"]),\n",
    "    \"Owner Age\", np.array([6, 17, 3, 18])\n",
    ")\n",
    "owners"
   ]
  },
  {
   "cell_type": "markdown",
   "id": "d8558072",
   "metadata": {},
   "source": [
    "As you can see, we have a column in common: `Owner`. Let's join these two tables together so that we can have all the doggy data in one place!"
   ]
  },
  {
   "cell_type": "code",
   "execution_count": null,
   "id": "789c0220",
   "metadata": {},
   "outputs": [],
   "source": [
    "doggy_data = dogs.join(\"Owner\", owners)\n",
    "doggy_data"
   ]
  },
  {
   "cell_type": "markdown",
   "id": "ce2a2c60",
   "metadata": {},
   "source": [
    "This table now has all of our information in one place, which makes using it easier!\n",
    "\n",
    "Now let's take a look at a more common example, where the column labels being named differently can cause a problem. We will use the exact same `dogs` and `owners` tables, but we will change a column label on `owners`:"
   ]
  },
  {
   "cell_type": "code",
   "execution_count": null,
   "id": "439bcd95",
   "metadata": {},
   "outputs": [],
   "source": [
    "owners_new_label = owners.relabeled(\"Owner\", \"Name\")\n",
    "\n",
    "display(dogs, owners_new_label)"
   ]
  },
  {
   "cell_type": "markdown",
   "id": "6e27c952",
   "metadata": {},
   "source": [
    "Now if we try to use the `join` method like we did last time, we run into an issue..."
   ]
  },
  {
   "cell_type": "code",
   "execution_count": null,
   "id": "d1c2677e",
   "metadata": {
    "tags": [
     "raises-exception"
    ]
   },
   "outputs": [],
   "source": [
    "doggy_data = dogs.join(\"Owner\", owners_new_label)\n",
    "doggy_data"
   ]
  },
  {
   "cell_type": "markdown",
   "id": "5c79ede8",
   "metadata": {},
   "source": [
    "Because the `owners` table does not have a column label called `Owner`, we may try to use the one column label they do have in common: `Name`..."
   ]
  },
  {
   "cell_type": "code",
   "execution_count": null,
   "id": "bc5658a5",
   "metadata": {},
   "outputs": [],
   "source": [
    "doggy_data = dogs.join(\"Name\", owners_new_label)\n",
    "doggy_data"
   ]
  },
  {
   "cell_type": "markdown",
   "id": "aaa71322",
   "metadata": {},
   "source": [
    "...but this doesn't appear to work either. This is not an error, there is simply no table outputted by this join call!\n",
    "\n",
    "This `join` call does not do what we want, because the `dogs` `Name` corresponds to the **dog's** name, but the `owners` `Name` corresponds to the **Owner's** name! No dog and owner have any of the same names, so there is no data to output in this `join` call!\n",
    "\n",
    "Instead, we have to make sure we join on the `Owner` column from `dogs` and the `Name` column from `owners`! We can do this using the third *optional* argument in the `join` method:"
   ]
  },
  {
   "cell_type": "code",
   "execution_count": null,
   "id": "4da539b4",
   "metadata": {
    "scrolled": true
   },
   "outputs": [],
   "source": [
    "doggy_data = dogs.join(\"Owner\", owners_new_label, \"Name\")\n",
    "doggy_data"
   ]
  },
  {
   "cell_type": "markdown",
   "id": "540bb40e",
   "metadata": {},
   "source": [
    "In this table, the `Name` column now refers to the name of the dog, and the `Owner` column corresponds to the name of the owner!"
   ]
  },
  {
   "cell_type": "markdown",
   "id": "6060a571",
   "metadata": {},
   "source": [
    "### Question 2.5 (A Slightly Different `Join`): \n",
    "The `join` method can also change the number of rows in its output. If there are multiple rows in one table that match with one row in the other, the `join` method will include rows for each of these matches in the output. Also, if there is a row in a table with no match in the other, there will be no row in the output that represents this row. Let's implement both these situations in practice and see how they work:"
   ]
  },
  {
   "cell_type": "code",
   "execution_count": null,
   "id": "9c3253cf",
   "metadata": {},
   "outputs": [],
   "source": [
    "# Just run this cell\n",
    "# This new dogs table has a new extra dogs\n",
    "more_dogs = dogs.with_rows([[\"Clifford\", \"Big Red\", \"Sandra\"], [\"Doug\", \"Golden Retriever\", \"Russell\"]])\n",
    "more_dogs"
   ]
  },
  {
   "cell_type": "markdown",
   "id": "a6d66858",
   "metadata": {},
   "source": [
    "**Task**: Before we execute the join between these tables, we should be able to calculate how many rows should there be in the output. Assign the variable `more_dog_owner_rows` to the number of rows that should result from joining `more_dogs` with `owners_new_label`. Run the cell below to see them again for clarity:"
   ]
  },
  {
   "cell_type": "code",
   "execution_count": null,
   "id": "6a9c51e4",
   "metadata": {},
   "outputs": [],
   "source": [
    "display(more_dogs, owners_new_label)"
   ]
  },
  {
   "cell_type": "code",
   "execution_count": null,
   "id": "3cffad5a",
   "metadata": {
    "tags": []
   },
   "outputs": [],
   "source": [
    "more_dog_owner_rows = ...\n",
    "more_dog_owner_rows"
   ]
  },
  {
   "cell_type": "code",
   "execution_count": null,
   "id": "02bc6ede",
   "metadata": {
    "deletable": false,
    "editable": false
   },
   "outputs": [],
   "source": [
    "grader.check(\"q2_5\")"
   ]
  },
  {
   "cell_type": "markdown",
   "id": "3dd78ec2",
   "metadata": {},
   "source": [
    "### Confirm your answer\n",
    "\n",
    "Remember, each row in the `more_dogs` table only gets a row in the output if it matches a row in `owners_new_label`"
   ]
  },
  {
   "cell_type": "code",
   "execution_count": null,
   "id": "278af7c9",
   "metadata": {},
   "outputs": [],
   "source": [
    "# If an owner in the table has 2 dogs, both dogs should appear in the output\n",
    "# If a dog has no owner in the owners table, the dog does not appear in the output\n",
    "complex_doggy_data = more_dogs.join(\"Owner\", owners_new_label, \"Name\")\n",
    "complex_doggy_data"
   ]
  },
  {
   "cell_type": "code",
   "execution_count": null,
   "id": "2e1843f4",
   "metadata": {},
   "outputs": [],
   "source": [
    "# Total of 4 rows\n",
    "complex_doggy_data.num_rows"
   ]
  },
  {
   "cell_type": "markdown",
   "id": "a9c41bde",
   "metadata": {},
   "source": [
    "**Finally, for reference, here is the link to the Data 6 Python Reference (our Python cheat-sheet) so you can review some of the methods we've used for tables in this lab!**\n",
    "\n",
    "[Python Reference](http://data6.org/fa24/reference)"
   ]
  },
  {
   "cell_type": "markdown",
   "id": "ea90d890",
   "metadata": {},
   "source": [
    "## Done! 😇\n",
    "\n",
    "Good luck with the homework!"
   ]
  },
  {
   "attachments": {},
   "cell_type": "markdown",
   "id": "94028020",
   "metadata": {},
   "source": [
    "## Pets of Data 6\n",
    "Kaalu is living it up! Good luck on HW2!\n",
    "\n",
    "<img src=\"kaalu.jpg\" width=\"40%\" alt=\"Black dog chilling on the floor\"/>"
   ]
  },
  {
   "cell_type": "code",
   "execution_count": null,
   "id": "5482dc5c",
   "metadata": {},
   "outputs": [],
   "source": []
  },
  {
   "cell_type": "markdown",
   "id": "963cf6f1",
   "metadata": {
    "deletable": false,
    "editable": false
   },
   "source": [
    "## Submission\n",
    "\n",
    "Make sure you have run all cells in your notebook in order before running the cell below, so that all images/graphs appear in the output. The cell below will generate a zip file for you to submit. **Please save before exporting!**"
   ]
  },
  {
   "cell_type": "code",
   "execution_count": null,
   "id": "1e383669",
   "metadata": {
    "deletable": false,
    "editable": false
   },
   "outputs": [],
   "source": [
    "# Save your notebook first, then run this cell to export your submission.\n",
    "grader.export(run_tests=True)"
   ]
  },
  {
   "cell_type": "markdown",
   "id": "46101feb",
   "metadata": {},
   "source": [
    " "
   ]
  }
 ],
 "metadata": {
  "kernelspec": {
   "display_name": "Python 3 (ipykernel)",
   "language": "python",
   "name": "python3"
  },
  "language_info": {
   "codemirror_mode": {
    "name": "ipython",
    "version": 3
   },
   "file_extension": ".py",
   "mimetype": "text/x-python",
   "name": "python",
   "nbconvert_exporter": "python",
   "pygments_lexer": "ipython3",
   "version": "3.11.9"
  },
  "otter": {
   "OK_FORMAT": true,
   "tests": {
    "q1_2": {
     "name": "q1_2",
     "points": [
      1,
      1,
      1,
      1,
      1,
      1
     ],
     "suites": [
      {
       "cases": [
        {
         "code": ">>> assert isinstance(ucr_stem, Table)\n",
         "hidden": false,
         "locked": false
        },
        {
         "code": ">>> assert isinstance(ucr_nonstem, Table)\n",
         "hidden": false,
         "locked": false
        },
        {
         "code": ">>> assert all(x in [\"Bourns College of Engineering\", \"College of Natural and Agricultural Sciences\"] for x in ucr_stem.column('College'))\n",
         "hidden": false,
         "locked": false
        },
        {
         "code": ">>> assert all(x in [\"College of Humanities, Arts, and Social Sciences\", \"Graduate School of Education\", \"School of Business\", \"School of Medicine\", \"School of Public Policy\"] for x in ucr_nonstem.column('College'))\n",
         "hidden": false,
         "locked": false
        },
        {
         "code": ">>> assert ucr_stem.num_rows == 7419\n",
         "hidden": false,
         "locked": false
        },
        {
         "code": ">>> assert ucr_nonstem.num_rows == 9451\n",
         "hidden": false,
         "locked": false
        }
       ],
       "scored": true,
       "setup": "",
       "teardown": "",
       "type": "doctest"
      }
     ]
    },
    "q2_5": {
     "name": "q2_5",
     "points": 1,
     "suites": [
      {
       "cases": [
        {
         "code": ">>> type(more_dog_owner_rows) in set([int, np.int32, np.int64])\nTrue",
         "hidden": false,
         "locked": false
        },
        {
         "code": ">>> more_dog_owner_rows == 5\nFalse",
         "hidden": false,
         "locked": false
        }
       ],
       "scored": true,
       "setup": "",
       "teardown": "",
       "type": "doctest"
      }
     ]
    }
   }
  }
 },
 "nbformat": 4,
 "nbformat_minor": 5
}
