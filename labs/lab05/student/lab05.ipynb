{
 "cells": [
  {
   "cell_type": "code",
   "execution_count": 17,
   "id": "64308cfe",
   "metadata": {
    "deletable": false,
    "editable": false
   },
   "outputs": [],
   "source": [
    "# Initialize Otter\n",
    "import otter\n",
    "grader = otter.Notebook(\"lab05.ipynb\")"
   ]
  },
  {
   "cell_type": "markdown",
   "id": "11517b42",
   "metadata": {},
   "source": [
    "<img src=\"data6.png\" style=\"width: 15%; float: right; padding: 1%; margin-right: 2%;\"/>\n",
    "\n",
    "# Lab 5 – Advanced Table Methods\n",
    "\n",
    "## Data 6, Fall 2024\n",
    "\n",
    "Today we will be exploring some more complex table methods we can use! The `apply` and `join` methods all allow us to perform different queries on our familiar tables. Understanding not only *how* each method works, but also *why* and *when* to use them are the key takeaways from this lab; by the end of it, we will be able to query tables in some pretty cool ways!\n",
    "\n",
    "These new methods allow us to do different operations than before. As such, it is becoming more and more important to remember how each method sits on our Data Science toolbelt. We should think of each new method as a **tool that serves a specific purpose**. Your job as a data scientist is not only to understand what each tool does, but when each tool is applicable in new situations!"
   ]
  },
  {
   "cell_type": "code",
   "execution_count": 1,
   "id": "1e0f7678",
   "metadata": {},
   "outputs": [],
   "source": [
    "from datascience import *\n",
    "import numpy as np\n",
    "\n",
    "import matplotlib.pyplot as plt\n",
    "plt.style.use(\"ggplot\")\n",
    "%matplotlib inline\n",
    "\n",
    "import warnings\n",
    "warnings.simplefilter('ignore')"
   ]
  },
  {
   "cell_type": "markdown",
   "id": "4c2e772f",
   "metadata": {},
   "source": [
    "<hr style=\"border: 5px solid #003262;\" />\n",
    "<hr style=\"border: 1px solid #fdb515;\" />\n",
    "\n",
    "## Part 1: Data Context Exploration"
   ]
  },
  {
   "cell_type": "markdown",
   "id": "e990b577",
   "metadata": {},
   "source": [
    "When working with data, it is always important to consider not only the impacts that the representation of the data can have in the real world</strong>, but also <strong>the effects that the conclusions from your data analysis and visualizations can have!</strong> "
   ]
  },
  {
   "cell_type": "markdown",
   "id": "2a45f748",
   "metadata": {},
   "source": [
    "### A Look Into the `Gender` Column"
   ]
  },
  {
   "cell_type": "markdown",
   "id": "5c5c8851",
   "metadata": {},
   "source": [
    "The [source of the original data](https://ir.ucr.edu/stats/enrollment/demographic) today from UC Riverside includes a dataset that displays admissions data, broken down by college. An interesting question you may want to consider is why UC Riverside would make this type of breakdown available alongside the original dataset of the whole university. \n",
    "\n",
    "Let's load the dataset into a Table object below called `ucr_college`."
   ]
  },
  {
   "cell_type": "code",
   "execution_count": 2,
   "id": "6afbb94a",
   "metadata": {},
   "outputs": [
    {
     "data": {
      "text/html": [
       "<table border=\"1\" class=\"dataframe\">\n",
       "    <thead>\n",
       "        <tr>\n",
       "            <th>Year</th> <th>College</th> <th>Level</th> <th>Original Entry Type</th> <th>New/Continuing Status</th> <th>Full-Time Status</th> <th>Gender</th> <th>IPEDS Race/Ethnicity</th> <th>Fall Headcount</th>\n",
       "        </tr>\n",
       "    </thead>\n",
       "    <tbody>\n",
       "        <tr>\n",
       "            <td>2023</td> <td>Bourns College of Engineering</td> <td>Undergraduate</td> <td>Undergraduate Frosh</td> <td>New                  </td> <td>Full-Time       </td> <td>Female</td> <td>Asian                 </td> <td>81            </td>\n",
       "        </tr>\n",
       "        <tr>\n",
       "            <td>2023</td> <td>Bourns College of Engineering</td> <td>Undergraduate</td> <td>Undergraduate Frosh</td> <td>New                  </td> <td>Full-Time       </td> <td>Female</td> <td>Black/African American</td> <td>5             </td>\n",
       "        </tr>\n",
       "        <tr>\n",
       "            <td>2023</td> <td>Bourns College of Engineering</td> <td>Undergraduate</td> <td>Undergraduate Frosh</td> <td>New                  </td> <td>Full-Time       </td> <td>Female</td> <td>Chicano/Latino        </td> <td>78            </td>\n",
       "        </tr>\n",
       "        <tr>\n",
       "            <td>2023</td> <td>Bourns College of Engineering</td> <td>Undergraduate</td> <td>Undergraduate Frosh</td> <td>New                  </td> <td>Full-Time       </td> <td>Female</td> <td>International         </td> <td>10            </td>\n",
       "        </tr>\n",
       "        <tr>\n",
       "            <td>2023</td> <td>Bourns College of Engineering</td> <td>Undergraduate</td> <td>Undergraduate Frosh</td> <td>New                  </td> <td>Full-Time       </td> <td>Female</td> <td>Two or More Races     </td> <td>7             </td>\n",
       "        </tr>\n",
       "    </tbody>\n",
       "</table>\n",
       "<p>... (16865 rows omitted)</p>"
      ],
      "text/plain": [
       "<IPython.core.display.HTML object>"
      ]
     },
     "metadata": {},
     "output_type": "display_data"
    }
   ],
   "source": [
    "ucr_college = Table.read_table(\"riverside_by_college.csv\")\n",
    "ucr_college.show(5)"
   ]
  },
  {
   "cell_type": "markdown",
   "id": "a1a040fc",
   "metadata": {},
   "source": [
    "As we can see from the `\"Year\"` column, this dataset also contains slightly more updated information, including data from 2023. Let's take a look at the way the data is represented in the `\"Gender\"` column for this dataset:"
   ]
  },
  {
   "cell_type": "code",
   "execution_count": 3,
   "id": "373a8a19",
   "metadata": {},
   "outputs": [
    {
     "data": {
      "text/plain": [
       "array(['Female', 'Male', 'Nonbinary', 'Unknown'],\n",
       "      dtype='<U9')"
      ]
     },
     "execution_count": 3,
     "metadata": {},
     "output_type": "execute_result"
    }
   ],
   "source": [
    "np.unique(ucr_college.column(\"Gender\"))"
   ]
  },
  {
   "cell_type": "markdown",
   "id": "6cccb911",
   "metadata": {},
   "source": [
    "<!-- BEGIN QUESTION -->\n",
    "\n",
    "### Question 1.1 (Discussion)\n",
    "It looks like this dataset contains the additional values of `\"Nonbinary\"` and `\"Unknown\"` for `\"Gender\"`. Take a look at the \"Details about the data\" section [at the bottom of the website.](https://ir.ucr.edu/stats/enrollment/demographic) How was this particular variable measured? How might this impact our comparison between the conclusions we come to with this data vs. pre-2016 data?\n",
    "\n",
    "By either looking at the details of the data or the [\"Data Dictionary and Reporting Methodology\"](https://ir.ucr.edu/sites/default/files/2019-07/IR_Data_Dictionary_1.pdf), find one other interesting way that UCR has chosen to measure their variables OR an interesting way UCR has chosen to capture concepts using certain variables and list it below.\n",
    "\n",
    "*Hint:* Think about what reducing the number of categories would mean."
   ]
  },
  {
   "cell_type": "markdown",
   "id": "67ce41a6",
   "metadata": {},
   "source": [
    "Pre 2016 Data:\n",
    "Male: 20000\n",
    "Female: 20000\n",
    "\n",
    "Post 2016 Data:\n",
    "Male: 18000\n",
    "Female: 18000\n",
    "Nonbinary: 3000\n",
    "Unknown: 1000\n",
    "\n",
    "This variable was measured using self-reported data in the UC admissions process. This might impact our comparison because we cannot use raw numbers for male and female students. We also can't do any analysis on nonbinary students pre-2016."
   ]
  },
  {
   "cell_type": "markdown",
   "id": "6626f4fb",
   "metadata": {},
   "source": [
    "<!-- END QUESTION -->\n",
    "\n",
    "Doing this type of extra basic background research on the source of our data can be incredibly helpful in our understanding of our data!"
   ]
  },
  {
   "cell_type": "markdown",
   "id": "03697fdd",
   "metadata": {},
   "source": [
    "---\n",
    "### Exploration of Aggregation by College"
   ]
  },
  {
   "cell_type": "markdown",
   "id": "82ebbce5",
   "metadata": {},
   "source": [
    "> \"STEM Majors include those in the Bourns College of Engineering (BCOE) and the College of Natural and Agricultural Sciences (CNAS).\""
   ]
  },
  {
   "cell_type": "markdown",
   "id": "e8c07458",
   "metadata": {},
   "source": [
    "Using this information, we can use the `where` method to create two different tables: one for STEM majors, and one for non-STEM majors. In the cell below, we generate the list of distinct college names at UC Riverside. As we see in the statement above, we can classify all non-STEM colleges as those in the list below, aside from the College of Engineering and the College of Natural and Agricultural Sciences."
   ]
  },
  {
   "cell_type": "code",
   "execution_count": 4,
   "id": "288ffb9e",
   "metadata": {},
   "outputs": [
    {
     "data": {
      "text/plain": [
       "array(['Bourns College of Engineering',\n",
       "       'College of Humanities, Arts, and Social Sciences',\n",
       "       'College of Natural and Agricultural Sciences',\n",
       "       'Graduate School of Education', 'School of Business',\n",
       "       'School of Medicine', 'School of Public Policy'],\n",
       "      dtype='<U48')"
      ]
     },
     "execution_count": 4,
     "metadata": {},
     "output_type": "execute_result"
    }
   ],
   "source": [
    "np.unique(ucr_college.column(\"College\"))"
   ]
  },
  {
   "cell_type": "markdown",
   "id": "1253795c",
   "metadata": {},
   "source": [
    "### Question 1.2\n",
    "In the two cells below, use the `where` method to create two different tables: one for STEM majors (`ucr_stem`), and one for non-STEM majors (`ucr_nonstem`), based on which college they belong to."
   ]
  },
  {
   "cell_type": "code",
   "execution_count": 20,
   "id": "1056aa00",
   "metadata": {
    "tags": []
   },
   "outputs": [
    {
     "data": {
      "text/html": [
       "<table border=\"1\" class=\"dataframe\">\n",
       "    <thead>\n",
       "        <tr>\n",
       "            <th>Year</th> <th>College</th> <th>Level</th> <th>Original Entry Type</th> <th>New/Continuing Status</th> <th>Full-Time Status</th> <th>Gender</th> <th>IPEDS Race/Ethnicity</th> <th>Fall Headcount</th>\n",
       "        </tr>\n",
       "    </thead>\n",
       "    <tbody>\n",
       "        <tr>\n",
       "            <td>2023</td> <td>Bourns College of Engineering</td> <td>Undergraduate</td> <td>Undergraduate Frosh</td> <td>New                  </td> <td>Full-Time       </td> <td>Female</td> <td>Asian                 </td> <td>81            </td>\n",
       "        </tr>\n",
       "        <tr>\n",
       "            <td>2023</td> <td>Bourns College of Engineering</td> <td>Undergraduate</td> <td>Undergraduate Frosh</td> <td>New                  </td> <td>Full-Time       </td> <td>Female</td> <td>Black/African American</td> <td>5             </td>\n",
       "        </tr>\n",
       "        <tr>\n",
       "            <td>2023</td> <td>Bourns College of Engineering</td> <td>Undergraduate</td> <td>Undergraduate Frosh</td> <td>New                  </td> <td>Full-Time       </td> <td>Female</td> <td>Chicano/Latino        </td> <td>78            </td>\n",
       "        </tr>\n",
       "    </tbody>\n",
       "</table>\n",
       "<p>... (7416 rows omitted)</p>"
      ],
      "text/plain": [
       "<IPython.core.display.HTML object>"
      ]
     },
     "metadata": {},
     "output_type": "display_data"
    }
   ],
   "source": [
    "ucr_stem = ucr_college.where(\"College\", are.contained_in(make_array(\"Bourns College of Engineering\", \"College of Natural and Agricultural Sciences\")))\n",
    "ucr_stem.show(3)"
   ]
  },
  {
   "cell_type": "code",
   "execution_count": 22,
   "id": "f153a25f",
   "metadata": {
    "tags": []
   },
   "outputs": [
    {
     "data": {
      "text/html": [
       "<table border=\"1\" class=\"dataframe\">\n",
       "    <thead>\n",
       "        <tr>\n",
       "            <th>Year</th> <th>College</th> <th>Level</th> <th>Original Entry Type</th> <th>New/Continuing Status</th> <th>Full-Time Status</th> <th>Gender</th> <th>IPEDS Race/Ethnicity</th> <th>Fall Headcount</th>\n",
       "        </tr>\n",
       "    </thead>\n",
       "    <tbody>\n",
       "        <tr>\n",
       "            <td>2023</td> <td>College of Humanities, Arts, and Social Sciences</td> <td>Undergraduate</td> <td>Undergraduate Frosh</td> <td>New                  </td> <td>Full-Time       </td> <td>Female</td> <td>Asian                 </td> <td>486           </td>\n",
       "        </tr>\n",
       "        <tr>\n",
       "            <td>2023</td> <td>College of Humanities, Arts, and Social Sciences</td> <td>Undergraduate</td> <td>Undergraduate Frosh</td> <td>New                  </td> <td>Full-Time       </td> <td>Female</td> <td>Black/African American</td> <td>72            </td>\n",
       "        </tr>\n",
       "        <tr>\n",
       "            <td>2023</td> <td>College of Humanities, Arts, and Social Sciences</td> <td>Undergraduate</td> <td>Undergraduate Frosh</td> <td>New                  </td> <td>Full-Time       </td> <td>Female</td> <td>Chicano/Latino        </td> <td>867           </td>\n",
       "        </tr>\n",
       "    </tbody>\n",
       "</table>\n",
       "<p>... (9448 rows omitted)</p>"
      ],
      "text/plain": [
       "<IPython.core.display.HTML object>"
      ]
     },
     "metadata": {},
     "output_type": "display_data"
    }
   ],
   "source": [
    "ucr_nonstem = ucr_college.where(\"College\", are.not_contained_in(make_array(\"Bourns College of Engineering\", \"College of Natural and Agricultural Sciences\")))\n",
    "ucr_nonstem.show(3)"
   ]
  },
  {
   "cell_type": "code",
   "execution_count": 23,
   "id": "df670434",
   "metadata": {
    "deletable": false,
    "editable": false
   },
   "outputs": [
    {
     "data": {
      "text/html": [
       "<p><strong><pre style='display: inline;'>q1_2</pre></strong> passed! 🍀</p>"
      ],
      "text/plain": [
       "q1_2 results: All test cases passed!"
      ]
     },
     "execution_count": 23,
     "metadata": {},
     "output_type": "execute_result"
    }
   ],
   "source": [
    "grader.check(\"q1_2\")"
   ]
  },
  {
   "cell_type": "markdown",
   "id": "bb98125d",
   "metadata": {},
   "source": [
    "Now, if we wanted to do a rough tabular comparison of the STEM vs. non-STEM majors, we can group by `\"Gender\"` and compare the numbers.\n",
    "\n",
    "For now, don't worry too much about understanding the syntax for the group method: we'll cover it in the next lab! The code in the two cells below simply aggregates the data by calculating the sums of the `\"Fall Headcount\"` column for each gender category."
   ]
  },
  {
   "cell_type": "code",
   "execution_count": 28,
   "id": "b926a22a",
   "metadata": {},
   "outputs": [
    {
     "data": {
      "text/html": [
       "<table border=\"1\" class=\"dataframe\">\n",
       "    <thead>\n",
       "        <tr>\n",
       "            <th>Gender</th> <th>Fall Headcount sum</th>\n",
       "        </tr>\n",
       "    </thead>\n",
       "    <tbody>\n",
       "        <tr>\n",
       "            <td>Male     </td> <td>132516            </td>\n",
       "        </tr>\n",
       "        <tr>\n",
       "            <td>Female   </td> <td>96494             </td>\n",
       "        </tr>\n",
       "        <tr>\n",
       "            <td>Unknown  </td> <td>1063              </td>\n",
       "        </tr>\n",
       "        <tr>\n",
       "            <td>Nonbinary</td> <td>428               </td>\n",
       "        </tr>\n",
       "    </tbody>\n",
       "</table>"
      ],
      "text/plain": [
       "Gender    | Fall Headcount sum\n",
       "Male      | 132516\n",
       "Female    | 96494\n",
       "Unknown   | 1063\n",
       "Nonbinary | 428"
      ]
     },
     "execution_count": 28,
     "metadata": {},
     "output_type": "execute_result"
    }
   ],
   "source": [
    "ucr_stem_grouped = ucr_stem.group(\"Gender\", np.sum).select(\"Gender\", \"Fall Headcount sum\").sort(\"Fall Headcount sum\", descending=True)\n",
    "ucr_stem_grouped "
   ]
  },
  {
   "cell_type": "code",
   "execution_count": 29,
   "id": "9530f8c8",
   "metadata": {},
   "outputs": [
    {
     "data": {
      "text/html": [
       "<table border=\"1\" class=\"dataframe\">\n",
       "    <thead>\n",
       "        <tr>\n",
       "            <th>Gender</th> <th>Fall Headcount sum</th>\n",
       "        </tr>\n",
       "    </thead>\n",
       "    <tbody>\n",
       "        <tr>\n",
       "            <td>Female   </td> <td>195432            </td>\n",
       "        </tr>\n",
       "        <tr>\n",
       "            <td>Male     </td> <td>136041            </td>\n",
       "        </tr>\n",
       "        <tr>\n",
       "            <td>Unknown  </td> <td>1499              </td>\n",
       "        </tr>\n",
       "        <tr>\n",
       "            <td>Nonbinary</td> <td>1166              </td>\n",
       "        </tr>\n",
       "    </tbody>\n",
       "</table>"
      ],
      "text/plain": [
       "Gender    | Fall Headcount sum\n",
       "Female    | 195432\n",
       "Male      | 136041\n",
       "Unknown   | 1499\n",
       "Nonbinary | 1166"
      ]
     },
     "execution_count": 29,
     "metadata": {},
     "output_type": "execute_result"
    }
   ],
   "source": [
    "ucr_nonstem_grouped = ucr_nonstem.group(\"Gender\", np.sum).select(\"Gender\", \"Fall Headcount sum\").sort(\"Fall Headcount sum\", descending=True)\n",
    "ucr_nonstem_grouped "
   ]
  },
  {
   "cell_type": "markdown",
   "id": "c1b453ba",
   "metadata": {},
   "source": [
    "<!-- BEGIN QUESTION -->\n",
    "\n",
    "### Question 1.3 (Discussion)\n",
    "From the above two tables, we can see an interesting discrepancy that we see quite often with this type of education-related data. What do you see when we compare these two tables?"
   ]
  },
  {
   "cell_type": "markdown",
   "id": "d3e5920c",
   "metadata": {},
   "source": [
    "We can see that generally, there are more male-identifying students than female-identifying students in STEM-majors. \n",
    "We can also see that the nonbinary students generally take on non-stem majors."
   ]
  },
  {
   "cell_type": "markdown",
   "id": "39adb9bb",
   "metadata": {},
   "source": [
    "<!-- END QUESTION -->\n",
    "\n",
    "<!-- BEGIN QUESTION -->\n",
    "\n",
    "### Question 1.4\n",
    "Below, create a joined version of the headcounts split by gender for with one column containing the fall headcounts for STEM colleges, and another containing the headcounts for non-STEM colleges.\n",
    "\n",
    "To differentiate between STEM and non-STEM majors, label the STEM headcount \"Fall STEM Headcount\" and non-STEM headcount \"Non-STEM Fall Headcount\". You may find the `relabeled` table method useful here."
   ]
  },
  {
   "cell_type": "code",
   "execution_count": 32,
   "id": "f49532ee",
   "metadata": {
    "tags": []
   },
   "outputs": [
    {
     "data": {
      "text/html": [
       "<table border=\"1\" class=\"dataframe\">\n",
       "    <thead>\n",
       "        <tr>\n",
       "            <th>Gender</th> <th>Fall STEM Headcount</th> <th>Non-STEM Fall Headcount</th>\n",
       "        </tr>\n",
       "    </thead>\n",
       "    <tbody>\n",
       "        <tr>\n",
       "            <td>Female   </td> <td>96494              </td> <td>195432                 </td>\n",
       "        </tr>\n",
       "        <tr>\n",
       "            <td>Male     </td> <td>132516             </td> <td>136041                 </td>\n",
       "        </tr>\n",
       "        <tr>\n",
       "            <td>Nonbinary</td> <td>428                </td> <td>1166                   </td>\n",
       "        </tr>\n",
       "        <tr>\n",
       "            <td>Unknown  </td> <td>1063               </td> <td>1499                   </td>\n",
       "        </tr>\n",
       "    </tbody>\n",
       "</table>"
      ],
      "text/plain": [
       "Gender    | Fall STEM Headcount | Non-STEM Fall Headcount\n",
       "Female    | 96494               | 195432\n",
       "Male      | 132516              | 136041\n",
       "Nonbinary | 428                 | 1166\n",
       "Unknown   | 1063                | 1499"
      ]
     },
     "execution_count": 32,
     "metadata": {},
     "output_type": "execute_result"
    }
   ],
   "source": [
    "ucr_joined_gender = ucr_stem_grouped.join(\"Gender\", ucr_nonstem_grouped).relabeled(\"Fall Headcount sum\", \"Fall STEM Headcount\").relabeled(\"Fall Headcount sum_2\", \"Non-STEM Fall Headcount\")\n",
    "ucr_joined_gender"
   ]
  },
  {
   "cell_type": "markdown",
   "id": "03ce7a63",
   "metadata": {},
   "source": [
    "<!-- END QUESTION -->\n",
    "\n",
    "We looked into some aspects of the students' race/ethnicities in Part 2, but now we can dig a little deeper by performing the same process of grouping our data and visualizing the distribution between the STEM and non-STEM colleges. We start by creating the tables split by STEM and non-STEM, as well as the joined version with the headcounts of both categories."
   ]
  },
  {
   "cell_type": "code",
   "execution_count": 33,
   "id": "4103cf9f",
   "metadata": {},
   "outputs": [
    {
     "data": {
      "text/html": [
       "<table border=\"1\" class=\"dataframe\">\n",
       "    <thead>\n",
       "        <tr>\n",
       "            <th>IPEDS Race/Ethnicity</th> <th>Fall Headcount sum</th>\n",
       "        </tr>\n",
       "    </thead>\n",
       "    <tbody>\n",
       "        <tr>\n",
       "            <td>Asian                           </td> <td>89621             </td>\n",
       "        </tr>\n",
       "        <tr>\n",
       "            <td>Chicano/Latino                  </td> <td>54809             </td>\n",
       "        </tr>\n",
       "        <tr>\n",
       "            <td>White                           </td> <td>43765             </td>\n",
       "        </tr>\n",
       "        <tr>\n",
       "            <td>International                   </td> <td>18424             </td>\n",
       "        </tr>\n",
       "        <tr>\n",
       "            <td>Domestic Unknown                </td> <td>8060              </td>\n",
       "        </tr>\n",
       "        <tr>\n",
       "            <td>Black/African American          </td> <td>7889              </td>\n",
       "        </tr>\n",
       "        <tr>\n",
       "            <td>Two or More Races               </td> <td>7356              </td>\n",
       "        </tr>\n",
       "        <tr>\n",
       "            <td>American Indian/Alaskan Native  </td> <td>440               </td>\n",
       "        </tr>\n",
       "        <tr>\n",
       "            <td>Native Hawaiian/Pacific Islander</td> <td>137               </td>\n",
       "        </tr>\n",
       "    </tbody>\n",
       "</table>"
      ],
      "text/plain": [
       "IPEDS Race/Ethnicity             | Fall Headcount sum\n",
       "Asian                            | 89621\n",
       "Chicano/Latino                   | 54809\n",
       "White                            | 43765\n",
       "International                    | 18424\n",
       "Domestic Unknown                 | 8060\n",
       "Black/African American           | 7889\n",
       "Two or More Races                | 7356\n",
       "American Indian/Alaskan Native   | 440\n",
       "Native Hawaiian/Pacific Islander | 137"
      ]
     },
     "execution_count": 33,
     "metadata": {},
     "output_type": "execute_result"
    }
   ],
   "source": [
    "ucr_stem_grouped_re = ucr_stem.group(\"IPEDS Race/Ethnicity\", np.sum).select([\"IPEDS Race/Ethnicity\", \"Fall Headcount sum\"]).sort(\"Fall Headcount sum\", descending=True)\n",
    "ucr_stem_grouped_re "
   ]
  },
  {
   "cell_type": "code",
   "execution_count": 34,
   "id": "7af8c69e",
   "metadata": {},
   "outputs": [
    {
     "data": {
      "text/html": [
       "<table border=\"1\" class=\"dataframe\">\n",
       "    <thead>\n",
       "        <tr>\n",
       "            <th>IPEDS Race/Ethnicity</th> <th>Fall Headcount sum</th>\n",
       "        </tr>\n",
       "    </thead>\n",
       "    <tbody>\n",
       "        <tr>\n",
       "            <td>Chicano/Latino                  </td> <td>112421            </td>\n",
       "        </tr>\n",
       "        <tr>\n",
       "            <td>Asian                           </td> <td>101707            </td>\n",
       "        </tr>\n",
       "        <tr>\n",
       "            <td>White                           </td> <td>64222             </td>\n",
       "        </tr>\n",
       "        <tr>\n",
       "            <td>Black/African American          </td> <td>18210             </td>\n",
       "        </tr>\n",
       "        <tr>\n",
       "            <td>International                   </td> <td>14528             </td>\n",
       "        </tr>\n",
       "        <tr>\n",
       "            <td>Domestic Unknown                </td> <td>13140             </td>\n",
       "        </tr>\n",
       "        <tr>\n",
       "            <td>Two or More Races               </td> <td>8466              </td>\n",
       "        </tr>\n",
       "        <tr>\n",
       "            <td>American Indian/Alaskan Native  </td> <td>1082              </td>\n",
       "        </tr>\n",
       "        <tr>\n",
       "            <td>Native Hawaiian/Pacific Islander</td> <td>362               </td>\n",
       "        </tr>\n",
       "    </tbody>\n",
       "</table>"
      ],
      "text/plain": [
       "IPEDS Race/Ethnicity             | Fall Headcount sum\n",
       "Chicano/Latino                   | 112421\n",
       "Asian                            | 101707\n",
       "White                            | 64222\n",
       "Black/African American           | 18210\n",
       "International                    | 14528\n",
       "Domestic Unknown                 | 13140\n",
       "Two or More Races                | 8466\n",
       "American Indian/Alaskan Native   | 1082\n",
       "Native Hawaiian/Pacific Islander | 362"
      ]
     },
     "execution_count": 34,
     "metadata": {},
     "output_type": "execute_result"
    }
   ],
   "source": [
    "ucr_nonstem_grouped_re = ucr_nonstem.group(\"IPEDS Race/Ethnicity\", np.sum).select(\"IPEDS Race/Ethnicity\", \"Fall Headcount sum\").sort(\"Fall Headcount sum\", descending=True)\n",
    "ucr_nonstem_grouped_re "
   ]
  },
  {
   "cell_type": "markdown",
   "id": "f880e838",
   "metadata": {},
   "source": [
    "<!-- BEGIN QUESTION -->\n",
    "\n",
    "### Question 1.5\n",
    "Below, create a joined version of the headcounts split by IPEDS Race/Ethnicity for with one column containing the fall headcounts for STEM colleges, and another containing the headcounts for non-STEM colleges."
   ]
  },
  {
   "cell_type": "markdown",
   "id": "51243344",
   "metadata": {},
   "source": [
    "<!-- END QUESTION -->\n",
    "\n",
    "Going back to an idea we posed when starting to look into the `\"Gender\"` column: while this type of exploration is very important and can also be informative, it is also important to remember that it is not always enough to simply look at a trend like this and state it. Ultimately, it is typically very hard to encode data about humans into numbers and categories, **because in doing so, we lose information and context about the individual we are looking at.** In your analysis in the future, try to strike a balance of looking at interesting trends in the data and considering the original context of the data you're working with."
   ]
  },
  {
   "cell_type": "markdown",
   "id": "133741ae",
   "metadata": {},
   "source": [
    "<hr style=\"border: 5px solid #003262;\" />\n",
    "<hr style=\"border: 1px solid #fdb515;\" />\n",
    "\n",
    "## Part 2: Table Methods with Movies\n",
    "\n",
    "In this section, we'll be working with a `movies` data set that contains information about various American films over time. It contains the following columns:\n",
    "1. `\"Film\"`: The name of the movie\n",
    "2. `\"Genre\"`: The genre of the movie\n",
    "3. `\"Year\"`: The year the movie was released\n",
    "4. `\"Lead Studio\"`: The primary movie studio responsible for producing the movie\n",
    "5. `\"Audience score %\"`: The score, out of 100%, given to the movie by viewers\n",
    "6. `\"Rotten Tomatoes %\"`: The score, out of 100%, given to the movies by the website [Rotten Tomatoes](https://www.rottentomatoes.com/)\n",
    "7. `\"Worldwide Gross (Millions)\"`: The total gross revenue, in millions of dollars, that the movie made\n",
    "8. `\"Quality\"`: Descriptive ranking of the movie based on audience score\n",
    "\n",
    "Let's load the dataset into a new table, `movies`, to get practice with the more advanced table methods."
   ]
  },
  {
   "cell_type": "code",
   "execution_count": 37,
   "id": "6b30ae44",
   "metadata": {},
   "outputs": [
    {
     "data": {
      "text/html": [
       "<table border=\"1\" class=\"dataframe\">\n",
       "    <thead>\n",
       "        <tr>\n",
       "            <th>Film</th> <th>Genre</th> <th>Year</th> <th>Lead Studio</th> <th>Audience score %</th> <th>Rotten Tomatoes %</th> <th>Worldwide Gross (Millions)</th> <th>Quality</th>\n",
       "        </tr>\n",
       "    </thead>\n",
       "    <tbody>\n",
       "        <tr>\n",
       "            <td>You Will Meet a Tall Dark Stranger</td> <td>Comedy   </td> <td>2010</td> <td>Independent     </td> <td>35              </td> <td>43               </td> <td>26.66                     </td> <td>Okay   </td>\n",
       "        </tr>\n",
       "        <tr>\n",
       "            <td>When in Rome                      </td> <td>Comedy   </td> <td>2010</td> <td>Disney          </td> <td>44              </td> <td>15               </td> <td>43.04                     </td> <td>Okay   </td>\n",
       "        </tr>\n",
       "        <tr>\n",
       "            <td>What Happens in Vegas             </td> <td>Comedy   </td> <td>2008</td> <td>Fox             </td> <td>72              </td> <td>28               </td> <td>219.37                    </td> <td>Good   </td>\n",
       "        </tr>\n",
       "        <tr>\n",
       "            <td>Water For Elephants               </td> <td>Drama    </td> <td>2011</td> <td>20th Century Fox</td> <td>72              </td> <td>60               </td> <td>117.09                    </td> <td>Good   </td>\n",
       "        </tr>\n",
       "        <tr>\n",
       "            <td>WALL-E                            </td> <td>Animation</td> <td>2008</td> <td>Disney          </td> <td>89              </td> <td>96               </td> <td>521.28                    </td> <td>Great  </td>\n",
       "        </tr>\n",
       "    </tbody>\n",
       "</table>\n",
       "<p>... (64 rows omitted)</p>"
      ],
      "text/plain": [
       "<IPython.core.display.HTML object>"
      ]
     },
     "metadata": {},
     "output_type": "display_data"
    }
   ],
   "source": [
    "movies = Table.read_table(\"movies.csv\")\n",
    "movies.show(5)"
   ]
  },
  {
   "cell_type": "markdown",
   "id": "0148571c",
   "metadata": {},
   "source": [
    "## The [apply](http://data8.org/datascience/_autosummary/datascience.tables.Table.apply.html#datascience.tables.Table.apply) method\n",
    "\n",
    "The `apply` method allows us to map a function's behavior onto an entire column of a table. We can use built-in Python functions (like `max`) or we can define our own functions and then *apply* those functions to the columns of a table.\n",
    "\n",
    "The `apply` method takes at least 2 arguments. The first is a function, and the rest are as many column labels you need to run that function. The number of columns you need to specify is dependent on the number of arguments the function has. For example, if the function you provide needs two inputs, you need to list two columns for it to work on.\n",
    "\n",
    "`apply` returns a NumPy array of the transformed values. We can ask questions like \"How can I categorize the items in this column?\" (like converting grade percentages into letter grades from lecture). We can also make modifications to a table, like rounding all the values in a column to a certain accuracy.\n",
    "\n",
    "Let's use `apply` to take the average of the two score percentages, `\"Audience score %\"` and `\"Rotten Tomatoes %\"`."
   ]
  },
  {
   "cell_type": "markdown",
   "id": "7933fbcd",
   "metadata": {},
   "source": [
    "<!-- BEGIN QUESTION -->\n",
    "\n",
    "### Question 2.1"
   ]
  },
  {
   "cell_type": "code",
   "execution_count": 38,
   "id": "def2b079",
   "metadata": {
    "tags": []
   },
   "outputs": [],
   "source": [
    "def average_score(audience_score, rt_score):\n",
    "    \"\"\"Computes the average score between the audience score and Rotten Tomatoes score\n",
    "    Inputs: \n",
    "    audience_score: an integer representing the audience score\n",
    "    rt_score: an integer representing the Rotten Tomatoes score\n",
    "\n",
    "    Returns:\n",
    "    An integer representing the average of the two scores\n",
    "    \"\"\"\n",
    "    return (audience_score + rt_score) / 2"
   ]
  },
  {
   "cell_type": "code",
   "execution_count": 39,
   "id": "e213e087",
   "metadata": {
    "tags": []
   },
   "outputs": [
    {
     "data": {
      "text/plain": [
       "array([ 39. ,  29.5,  50. ,  66. ,  92.5,  78. ,  29.5,  35.5,  46.5,\n",
       "        47. ,  65.5,  41. ,  52.5,  51.5,  58.5,  51.5,  35.5,  64. ,\n",
       "        77. ,  33.5,  88.5,  31.5,  58.5,  49. ,  73. ,  63. ,  51.5,\n",
       "        31. ,  31.5,  45.5,  50. ,  51.5,  70. ,  28. ,  66.5,  44. ,\n",
       "        74. ,  88.5,  70. ,  64.5,  37. ,  29. ,  51.5,  45. ,  31.5,\n",
       "        51. ,  35. ,  87. ,  28. ,  51.5,  81. ,  59.5,  64. ,  70.5,\n",
       "        51. ,  32. ,  54.5,  54. ,  37. ,  39. ,  45.5,  86.5,  47.5,\n",
       "        82. ,  69. ,  76.5,  84. ,  55.5,  84. ])"
      ]
     },
     "execution_count": 39,
     "metadata": {},
     "output_type": "execute_result"
    }
   ],
   "source": [
    "average_scores = movies.apply(average_score, \"Audience score %\", \"Rotten Tomatoes %\")\n",
    "average_scores"
   ]
  },
  {
   "cell_type": "markdown",
   "id": "5f5187da",
   "metadata": {},
   "source": [
    "<!-- END QUESTION -->\n",
    "\n",
    "<!-- BEGIN QUESTION -->\n",
    "\n",
    "### Question 2.2\n",
    "\n",
    "Now, let's add a new column called `\"Average score %\"` and populate it with the information we just assigned to `average_scores`. We'll re-assign this new table to `movies`."
   ]
  },
  {
   "cell_type": "code",
   "execution_count": 40,
   "id": "e034945b",
   "metadata": {
    "tags": []
   },
   "outputs": [
    {
     "data": {
      "text/html": [
       "<table border=\"1\" class=\"dataframe\">\n",
       "    <thead>\n",
       "        <tr>\n",
       "            <th>Film</th> <th>Genre</th> <th>Year</th> <th>Lead Studio</th> <th>Audience score %</th> <th>Rotten Tomatoes %</th> <th>Worldwide Gross (Millions)</th> <th>Quality</th> <th>Average score %</th>\n",
       "        </tr>\n",
       "    </thead>\n",
       "    <tbody>\n",
       "        <tr>\n",
       "            <td>You Will Meet a Tall Dark Stranger</td> <td>Comedy   </td> <td>2010</td> <td>Independent     </td> <td>35              </td> <td>43               </td> <td>26.66                     </td> <td>Okay   </td> <td>39             </td>\n",
       "        </tr>\n",
       "        <tr>\n",
       "            <td>When in Rome                      </td> <td>Comedy   </td> <td>2010</td> <td>Disney          </td> <td>44              </td> <td>15               </td> <td>43.04                     </td> <td>Okay   </td> <td>29.5           </td>\n",
       "        </tr>\n",
       "        <tr>\n",
       "            <td>What Happens in Vegas             </td> <td>Comedy   </td> <td>2008</td> <td>Fox             </td> <td>72              </td> <td>28               </td> <td>219.37                    </td> <td>Good   </td> <td>50             </td>\n",
       "        </tr>\n",
       "        <tr>\n",
       "            <td>Water For Elephants               </td> <td>Drama    </td> <td>2011</td> <td>20th Century Fox</td> <td>72              </td> <td>60               </td> <td>117.09                    </td> <td>Good   </td> <td>66             </td>\n",
       "        </tr>\n",
       "        <tr>\n",
       "            <td>WALL-E                            </td> <td>Animation</td> <td>2008</td> <td>Disney          </td> <td>89              </td> <td>96               </td> <td>521.28                    </td> <td>Great  </td> <td>92.5           </td>\n",
       "        </tr>\n",
       "    </tbody>\n",
       "</table>\n",
       "<p>... (64 rows omitted)</p>"
      ],
      "text/plain": [
       "<IPython.core.display.HTML object>"
      ]
     },
     "metadata": {},
     "output_type": "display_data"
    }
   ],
   "source": [
    "movies = movies.with_column(\"Average score %\", average_scores)\n",
    "movies.show(5)"
   ]
  },
  {
   "cell_type": "markdown",
   "id": "7bd82fe1",
   "metadata": {},
   "source": [
    "<!-- END QUESTION -->\n",
    "\n",
    "<!-- BEGIN QUESTION -->\n",
    "\n",
    "### Question 2.3\n",
    "\n",
    "Explain what the error is with the code below:"
   ]
  },
  {
   "cell_type": "code",
   "execution_count": 41,
   "id": "3f17068c",
   "metadata": {
    "scrolled": true,
    "tags": [
     "raises-exception"
    ]
   },
   "outputs": [
    {
     "ename": "TypeError",
     "evalue": "unsupported operand type(s) for /: 'str' and 'int'",
     "output_type": "error",
     "traceback": [
      "\u001b[0;31m---------------------------------------------------------------------------\u001b[0m",
      "\u001b[0;31mTypeError\u001b[0m                                 Traceback (most recent call last)",
      "Cell \u001b[0;32mIn[41], line 1\u001b[0m\n\u001b[0;32m----> 1\u001b[0m \u001b[43mmovies\u001b[49m\u001b[38;5;241;43m.\u001b[39;49m\u001b[43mapply\u001b[49m\u001b[43m(\u001b[49m\u001b[43maverage_score\u001b[49m\u001b[43m,\u001b[49m\u001b[43m \u001b[49m\u001b[38;5;124;43m\"\u001b[39;49m\u001b[38;5;124;43mGenre\u001b[39;49m\u001b[38;5;124;43m\"\u001b[39;49m\u001b[43m,\u001b[49m\u001b[43m \u001b[49m\u001b[38;5;124;43m\"\u001b[39;49m\u001b[38;5;124;43mLead Studio\u001b[39;49m\u001b[38;5;124;43m\"\u001b[39;49m\u001b[43m)\u001b[49m\n",
      "File \u001b[0;32m/srv/conda/lib/python3.11/site-packages/datascience/tables.py:536\u001b[0m, in \u001b[0;36mTable.apply\u001b[0;34m(self, fn, *column_or_columns)\u001b[0m\n\u001b[1;32m    534\u001b[0m     column_or_columns \u001b[38;5;241m=\u001b[39m column_or_columns[\u001b[38;5;241m0\u001b[39m]\n\u001b[1;32m    535\u001b[0m rows \u001b[38;5;241m=\u001b[39m \u001b[38;5;28mzip\u001b[39m(\u001b[38;5;241m*\u001b[39m\u001b[38;5;28mself\u001b[39m\u001b[38;5;241m.\u001b[39mselect(\u001b[38;5;241m*\u001b[39mcolumn_or_columns)\u001b[38;5;241m.\u001b[39mcolumns)\n\u001b[0;32m--> 536\u001b[0m \u001b[38;5;28;01mreturn\u001b[39;00m np\u001b[38;5;241m.\u001b[39marray(\u001b[43m[\u001b[49m\u001b[43mfn\u001b[49m\u001b[43m(\u001b[49m\u001b[38;5;241;43m*\u001b[39;49m\u001b[43mrow\u001b[49m\u001b[43m)\u001b[49m\u001b[43m \u001b[49m\u001b[38;5;28;43;01mfor\u001b[39;49;00m\u001b[43m \u001b[49m\u001b[43mrow\u001b[49m\u001b[43m \u001b[49m\u001b[38;5;129;43;01min\u001b[39;49;00m\u001b[43m \u001b[49m\u001b[43mrows\u001b[49m\u001b[43m]\u001b[49m)\n",
      "File \u001b[0;32m/srv/conda/lib/python3.11/site-packages/datascience/tables.py:536\u001b[0m, in \u001b[0;36m<listcomp>\u001b[0;34m(.0)\u001b[0m\n\u001b[1;32m    534\u001b[0m     column_or_columns \u001b[38;5;241m=\u001b[39m column_or_columns[\u001b[38;5;241m0\u001b[39m]\n\u001b[1;32m    535\u001b[0m rows \u001b[38;5;241m=\u001b[39m \u001b[38;5;28mzip\u001b[39m(\u001b[38;5;241m*\u001b[39m\u001b[38;5;28mself\u001b[39m\u001b[38;5;241m.\u001b[39mselect(\u001b[38;5;241m*\u001b[39mcolumn_or_columns)\u001b[38;5;241m.\u001b[39mcolumns)\n\u001b[0;32m--> 536\u001b[0m \u001b[38;5;28;01mreturn\u001b[39;00m np\u001b[38;5;241m.\u001b[39marray([\u001b[43mfn\u001b[49m\u001b[43m(\u001b[49m\u001b[38;5;241;43m*\u001b[39;49m\u001b[43mrow\u001b[49m\u001b[43m)\u001b[49m \u001b[38;5;28;01mfor\u001b[39;00m row \u001b[38;5;129;01min\u001b[39;00m rows])\n",
      "Cell \u001b[0;32mIn[38], line 10\u001b[0m, in \u001b[0;36maverage_score\u001b[0;34m(audience_score, rt_score)\u001b[0m\n\u001b[1;32m      1\u001b[0m \u001b[38;5;28;01mdef\u001b[39;00m \u001b[38;5;21maverage_score\u001b[39m(audience_score, rt_score):\n\u001b[1;32m      2\u001b[0m \u001b[38;5;250m    \u001b[39m\u001b[38;5;124;03m\"\"\"Computes the average score between the audience score and Rotten Tomatoes score\u001b[39;00m\n\u001b[1;32m      3\u001b[0m \u001b[38;5;124;03m    Inputs: \u001b[39;00m\n\u001b[1;32m      4\u001b[0m \u001b[38;5;124;03m    audience_score: an integer representing the audience score\u001b[39;00m\n\u001b[0;32m   (...)\u001b[0m\n\u001b[1;32m      8\u001b[0m \u001b[38;5;124;03m    An integer representing the average of the two scores\u001b[39;00m\n\u001b[1;32m      9\u001b[0m \u001b[38;5;124;03m    \"\"\"\u001b[39;00m\n\u001b[0;32m---> 10\u001b[0m     \u001b[38;5;28;01mreturn\u001b[39;00m \u001b[43m(\u001b[49m\u001b[43maudience_score\u001b[49m\u001b[43m \u001b[49m\u001b[38;5;241;43m+\u001b[39;49m\u001b[43m \u001b[49m\u001b[43mrt_score\u001b[49m\u001b[43m)\u001b[49m\u001b[43m \u001b[49m\u001b[38;5;241;43m/\u001b[39;49m\u001b[43m \u001b[49m\u001b[38;5;241;43m2\u001b[39;49m\n",
      "\u001b[0;31mTypeError\u001b[0m: unsupported operand type(s) for /: 'str' and 'int'"
     ]
    }
   ],
   "source": [
    "movies.apply(average_score, \"Genre\", \"Lead Studio\")"
   ]
  },
  {
   "cell_type": "markdown",
   "id": "41b08a63",
   "metadata": {},
   "source": [
    "This is telling us that we're trying to divide a string and an integer (which is not allowed)."
   ]
  },
  {
   "cell_type": "markdown",
   "id": "91602262",
   "metadata": {},
   "source": [
    "<!-- END QUESTION -->\n",
    "\n",
    "<!-- BEGIN QUESTION -->\n",
    "\n",
    "### Question 2.4\n",
    "Fill in the function `convert_to_dollars` which converts a dollar amount from *millions of dollars* to *dollars*. Then, use the `apply` method to convert all values from the `\"Worldwide Gross (Millions)\"` column into dollars. Finally, create a new column in the `movies` table called `\"Worldwide Gross\"` using the array resulting from your call to `apply`.\n",
    "\n",
    "*Note*: The code for this question requires several steps. Feel free to create new cells to experiment!\n"
   ]
  },
  {
   "cell_type": "code",
   "execution_count": 42,
   "id": "fb4fd3aa",
   "metadata": {
    "tags": []
   },
   "outputs": [
    {
     "data": {
      "text/html": [
       "<table border=\"1\" class=\"dataframe\">\n",
       "    <thead>\n",
       "        <tr>\n",
       "            <th>Film</th> <th>Genre</th> <th>Year</th> <th>Lead Studio</th> <th>Audience score %</th> <th>Rotten Tomatoes %</th> <th>Worldwide Gross (Millions)</th> <th>Quality</th> <th>Average score %</th> <th>Worldwide Gross</th>\n",
       "        </tr>\n",
       "    </thead>\n",
       "    <tbody>\n",
       "        <tr>\n",
       "            <td>You Will Meet a Tall Dark Stranger </td> <td>Comedy   </td> <td>2010</td> <td>Independent     </td> <td>35              </td> <td>43               </td> <td>26.66                     </td> <td>Okay   </td> <td>39             </td> <td>2.666e+07      </td>\n",
       "        </tr>\n",
       "        <tr>\n",
       "            <td>When in Rome                       </td> <td>Comedy   </td> <td>2010</td> <td>Disney          </td> <td>44              </td> <td>15               </td> <td>43.04                     </td> <td>Okay   </td> <td>29.5           </td> <td>4.304e+07      </td>\n",
       "        </tr>\n",
       "        <tr>\n",
       "            <td>What Happens in Vegas              </td> <td>Comedy   </td> <td>2008</td> <td>Fox             </td> <td>72              </td> <td>28               </td> <td>219.37                    </td> <td>Good   </td> <td>50             </td> <td>2.1937e+08     </td>\n",
       "        </tr>\n",
       "        <tr>\n",
       "            <td>Water For Elephants                </td> <td>Drama    </td> <td>2011</td> <td>20th Century Fox</td> <td>72              </td> <td>60               </td> <td>117.09                    </td> <td>Good   </td> <td>66             </td> <td>1.1709e+08     </td>\n",
       "        </tr>\n",
       "        <tr>\n",
       "            <td>WALL-E                             </td> <td>Animation</td> <td>2008</td> <td>Disney          </td> <td>89              </td> <td>96               </td> <td>521.28                    </td> <td>Great  </td> <td>92.5           </td> <td>5.2128e+08     </td>\n",
       "        </tr>\n",
       "        <tr>\n",
       "            <td>Waitress                           </td> <td>Romance  </td> <td>2007</td> <td>Independent     </td> <td>67              </td> <td>89               </td> <td>22.18                     </td> <td>Good   </td> <td>78             </td> <td>2.218e+07      </td>\n",
       "        </tr>\n",
       "        <tr>\n",
       "            <td>Waiting For Forever                </td> <td>Romance  </td> <td>2011</td> <td>Independent     </td> <td>53              </td> <td>6                </td> <td>0.03                      </td> <td>Okay   </td> <td>29.5           </td> <td>30000          </td>\n",
       "        </tr>\n",
       "        <tr>\n",
       "            <td>Valentine's Day                    </td> <td>Comedy   </td> <td>2010</td> <td>Warner Bros.    </td> <td>54              </td> <td>17               </td> <td>217.57                    </td> <td>Okay   </td> <td>35.5           </td> <td>2.1757e+08     </td>\n",
       "        </tr>\n",
       "        <tr>\n",
       "            <td>Tyler Perry's Why Did I get Married</td> <td>Romance  </td> <td>2007</td> <td>Independent     </td> <td>47              </td> <td>46               </td> <td>55.86                     </td> <td>Okay   </td> <td>46.5           </td> <td>5.586e+07      </td>\n",
       "        </tr>\n",
       "        <tr>\n",
       "            <td>Twilight: Breaking Dawn            </td> <td>Romance  </td> <td>2011</td> <td>Independent     </td> <td>68              </td> <td>26               </td> <td>702.17                    </td> <td>Good   </td> <td>47             </td> <td>7.0217e+08     </td>\n",
       "        </tr>\n",
       "    </tbody>\n",
       "</table>\n",
       "<p>... (59 rows omitted)</p>"
      ],
      "text/plain": [
       "Film                                | Genre     | Year | Lead Studio      | Audience score % | Rotten Tomatoes % | Worldwide Gross (Millions) | Quality | Average score % | Worldwide Gross\n",
       "You Will Meet a Tall Dark Stranger  | Comedy    | 2010 | Independent      | 35               | 43                | 26.66                      | Okay    | 39              | 2.666e+07\n",
       "When in Rome                        | Comedy    | 2010 | Disney           | 44               | 15                | 43.04                      | Okay    | 29.5            | 4.304e+07\n",
       "What Happens in Vegas               | Comedy    | 2008 | Fox              | 72               | 28                | 219.37                     | Good    | 50              | 2.1937e+08\n",
       "Water For Elephants                 | Drama     | 2011 | 20th Century Fox | 72               | 60                | 117.09                     | Good    | 66              | 1.1709e+08\n",
       "WALL-E                              | Animation | 2008 | Disney           | 89               | 96                | 521.28                     | Great   | 92.5            | 5.2128e+08\n",
       "Waitress                            | Romance   | 2007 | Independent      | 67               | 89                | 22.18                      | Good    | 78              | 2.218e+07\n",
       "Waiting For Forever                 | Romance   | 2011 | Independent      | 53               | 6                 | 0.03                       | Okay    | 29.5            | 30000\n",
       "Valentine's Day                     | Comedy    | 2010 | Warner Bros.     | 54               | 17                | 217.57                     | Okay    | 35.5            | 2.1757e+08\n",
       "Tyler Perry's Why Did I get Married | Romance   | 2007 | Independent      | 47               | 46                | 55.86                      | Okay    | 46.5            | 5.586e+07\n",
       "Twilight: Breaking Dawn             | Romance   | 2011 | Independent      | 68               | 26                | 702.17                     | Good    | 47              | 7.0217e+08\n",
       "... (59 rows omitted)"
      ]
     },
     "execution_count": 42,
     "metadata": {},
     "output_type": "execute_result"
    }
   ],
   "source": [
    "def convert_to_dollars(dollar_millions):\n",
    "    \"\"\"Converts a dollar amount from millions of dollars to dollars\n",
    "    Inputs:\n",
    "    dollar_millions: an integer representing the number of dollars in millions\n",
    "\n",
    "    Returns:\n",
    "    an integer representing the number of dollars\n",
    "    \"\"\"\n",
    "    return dollar_millions * 1000000\n",
    "\n",
    "dollars = movies.apply(convert_to_dollars, \"Worldwide Gross (Millions)\")\n",
    "movies = movies.with_column(\"Worldwide Gross\", dollars)\n",
    "movies"
   ]
  },
  {
   "cell_type": "markdown",
   "id": "c9b5cc63",
   "metadata": {},
   "source": [
    "<!-- END QUESTION -->\n",
    "\n",
    "## The [join](http://data8.org/datascience/_autosummary/datascience.tables.Table.join.html#datascience.tables.Table.join) method\n",
    "\n",
    "The last method we will talk about in this lab is the `join` method. This method allows us to combine two different tables together!\n",
    "\n",
    "The `join` method takes in 2 mandatory arguments and 1 optional argument:\n",
    "\n",
    "| **Column Name** | **Description** |\n",
    "| --- | --- |\n",
    "| `column_label` | a column to use to join |\n",
    "| `other` | another table |\n",
    "| *Optional:* `other_label` | `other`'s label to join on (if not the same as `column_label`) |\n",
    "\n",
    "If `other` has a label in common with the table you are joining with and this common label is the one you want to join on, then you do not need to use the optional argument. If you want to join on another column label or if neither table has a column label in common, then you can use the optional `other_label`.\n",
    "\n",
    "The way join works takes some getting used to, so let's look at some examples of `join` at work!\n",
    "\n",
    "We have the `dogs` and `owners` tables below, take a look at them a bit before we move on so you understand what data they contain:"
   ]
  },
  {
   "cell_type": "code",
   "execution_count": 43,
   "id": "2336dcd1",
   "metadata": {},
   "outputs": [
    {
     "data": {
      "text/html": [
       "<table border=\"1\" class=\"dataframe\">\n",
       "    <thead>\n",
       "        <tr>\n",
       "            <th>Name</th> <th>Breed</th> <th>Owner</th>\n",
       "        </tr>\n",
       "    </thead>\n",
       "    <tbody>\n",
       "        <tr>\n",
       "            <td>Shefran</td> <td>Bichon Frise</td> <td>Su Min   </td>\n",
       "        </tr>\n",
       "        <tr>\n",
       "            <td>Hero   </td> <td>Shih-poo    </td> <td>Elizabeth</td>\n",
       "        </tr>\n",
       "        <tr>\n",
       "            <td>Fluffy </td> <td>Corgi       </td> <td>Isabella </td>\n",
       "        </tr>\n",
       "        <tr>\n",
       "            <td>Doge   </td> <td>Coin        </td> <td>Elizabeth</td>\n",
       "        </tr>\n",
       "    </tbody>\n",
       "</table>"
      ],
      "text/plain": [
       "Name    | Breed        | Owner\n",
       "Shefran | Bichon Frise | Su Min\n",
       "Hero    | Shih-poo     | Elizabeth\n",
       "Fluffy  | Corgi        | Isabella\n",
       "Doge    | Coin         | Elizabeth"
      ]
     },
     "execution_count": 43,
     "metadata": {},
     "output_type": "execute_result"
    }
   ],
   "source": [
    "dogs = Table().with_columns(\n",
    "    \"Name\", np.array([\"Shefran\", \"Hero\", \"Fluffy\", \"Doge\"]),\n",
    "    \"Breed\", np.array([\"Bichon Frise\", \"Shih-poo\", \"Corgi\", \"Coin\"]),\n",
    "    \"Owner\", np.array([\"Su Min\", \"Elizabeth\", \"Isabella\", \"Elizabeth\"]),\n",
    ")\n",
    "dogs"
   ]
  },
  {
   "cell_type": "code",
   "execution_count": 44,
   "id": "4f786b79",
   "metadata": {},
   "outputs": [
    {
     "data": {
      "text/html": [
       "<table border=\"1\" class=\"dataframe\">\n",
       "    <thead>\n",
       "        <tr>\n",
       "            <th>Owner</th> <th>Owner Age</th>\n",
       "        </tr>\n",
       "    </thead>\n",
       "    <tbody>\n",
       "        <tr>\n",
       "            <td>Su Min   </td> <td>6        </td>\n",
       "        </tr>\n",
       "        <tr>\n",
       "            <td>Kenneth  </td> <td>17       </td>\n",
       "        </tr>\n",
       "        <tr>\n",
       "            <td>Isabella </td> <td>3        </td>\n",
       "        </tr>\n",
       "        <tr>\n",
       "            <td>Elizabeth</td> <td>18       </td>\n",
       "        </tr>\n",
       "    </tbody>\n",
       "</table>"
      ],
      "text/plain": [
       "Owner     | Owner Age\n",
       "Su Min    | 6\n",
       "Kenneth   | 17\n",
       "Isabella  | 3\n",
       "Elizabeth | 18"
      ]
     },
     "execution_count": 44,
     "metadata": {},
     "output_type": "execute_result"
    }
   ],
   "source": [
    "owners = Table().with_columns(\n",
    "    \"Owner\", np.array([\"Su Min\", \"Kenneth\", \"Isabella\", \"Elizabeth\"]),\n",
    "    \"Owner Age\", np.array([6, 17, 3, 18])\n",
    ")\n",
    "owners"
   ]
  },
  {
   "cell_type": "markdown",
   "id": "d8558072",
   "metadata": {},
   "source": [
    "As you can see, we have a column in common: `Owner`. Let's join these two tables together so that we can have all the doggy data in one place!"
   ]
  },
  {
   "cell_type": "code",
   "execution_count": 45,
   "id": "789c0220",
   "metadata": {},
   "outputs": [
    {
     "data": {
      "text/html": [
       "<table border=\"1\" class=\"dataframe\">\n",
       "    <thead>\n",
       "        <tr>\n",
       "            <th>Owner</th> <th>Name</th> <th>Breed</th> <th>Owner Age</th>\n",
       "        </tr>\n",
       "    </thead>\n",
       "    <tbody>\n",
       "        <tr>\n",
       "            <td>Elizabeth</td> <td>Hero   </td> <td>Shih-poo    </td> <td>18       </td>\n",
       "        </tr>\n",
       "        <tr>\n",
       "            <td>Elizabeth</td> <td>Doge   </td> <td>Coin        </td> <td>18       </td>\n",
       "        </tr>\n",
       "        <tr>\n",
       "            <td>Isabella </td> <td>Fluffy </td> <td>Corgi       </td> <td>3        </td>\n",
       "        </tr>\n",
       "        <tr>\n",
       "            <td>Su Min   </td> <td>Shefran</td> <td>Bichon Frise</td> <td>6        </td>\n",
       "        </tr>\n",
       "    </tbody>\n",
       "</table>"
      ],
      "text/plain": [
       "Owner     | Name    | Breed        | Owner Age\n",
       "Elizabeth | Hero    | Shih-poo     | 18\n",
       "Elizabeth | Doge    | Coin         | 18\n",
       "Isabella  | Fluffy  | Corgi        | 3\n",
       "Su Min    | Shefran | Bichon Frise | 6"
      ]
     },
     "execution_count": 45,
     "metadata": {},
     "output_type": "execute_result"
    }
   ],
   "source": [
    "doggy_data = dogs.join(\"Owner\", owners)\n",
    "doggy_data"
   ]
  },
  {
   "cell_type": "markdown",
   "id": "ce2a2c60",
   "metadata": {},
   "source": [
    "This table now has all of our information in one place, which makes using it easier!\n",
    "\n",
    "Now let's take a look at a more common example, where the column labels being named differently can cause a problem. We will use the exact same `dogs` and `owners` tables, but we will change a column label on `owners`:"
   ]
  },
  {
   "cell_type": "code",
   "execution_count": 46,
   "id": "439bcd95",
   "metadata": {},
   "outputs": [
    {
     "data": {
      "text/html": [
       "<table border=\"1\" class=\"dataframe\">\n",
       "    <thead>\n",
       "        <tr>\n",
       "            <th>Name</th> <th>Breed</th> <th>Owner</th>\n",
       "        </tr>\n",
       "    </thead>\n",
       "    <tbody>\n",
       "        <tr>\n",
       "            <td>Shefran</td> <td>Bichon Frise</td> <td>Su Min   </td>\n",
       "        </tr>\n",
       "        <tr>\n",
       "            <td>Hero   </td> <td>Shih-poo    </td> <td>Elizabeth</td>\n",
       "        </tr>\n",
       "        <tr>\n",
       "            <td>Fluffy </td> <td>Corgi       </td> <td>Isabella </td>\n",
       "        </tr>\n",
       "        <tr>\n",
       "            <td>Doge   </td> <td>Coin        </td> <td>Elizabeth</td>\n",
       "        </tr>\n",
       "    </tbody>\n",
       "</table>"
      ],
      "text/plain": [
       "Name    | Breed        | Owner\n",
       "Shefran | Bichon Frise | Su Min\n",
       "Hero    | Shih-poo     | Elizabeth\n",
       "Fluffy  | Corgi        | Isabella\n",
       "Doge    | Coin         | Elizabeth"
      ]
     },
     "metadata": {},
     "output_type": "display_data"
    },
    {
     "data": {
      "text/html": [
       "<table border=\"1\" class=\"dataframe\">\n",
       "    <thead>\n",
       "        <tr>\n",
       "            <th>Name</th> <th>Owner Age</th>\n",
       "        </tr>\n",
       "    </thead>\n",
       "    <tbody>\n",
       "        <tr>\n",
       "            <td>Su Min   </td> <td>6        </td>\n",
       "        </tr>\n",
       "        <tr>\n",
       "            <td>Kenneth  </td> <td>17       </td>\n",
       "        </tr>\n",
       "        <tr>\n",
       "            <td>Isabella </td> <td>3        </td>\n",
       "        </tr>\n",
       "        <tr>\n",
       "            <td>Elizabeth</td> <td>18       </td>\n",
       "        </tr>\n",
       "    </tbody>\n",
       "</table>"
      ],
      "text/plain": [
       "Name      | Owner Age\n",
       "Su Min    | 6\n",
       "Kenneth   | 17\n",
       "Isabella  | 3\n",
       "Elizabeth | 18"
      ]
     },
     "metadata": {},
     "output_type": "display_data"
    }
   ],
   "source": [
    "owners_new_label = owners.relabeled(\"Owner\", \"Name\")\n",
    "\n",
    "display(dogs, owners_new_label)"
   ]
  },
  {
   "cell_type": "markdown",
   "id": "6e27c952",
   "metadata": {},
   "source": [
    "Now if we try to use the `join` method like we did last time, we run into an issue..."
   ]
  },
  {
   "cell_type": "code",
   "execution_count": 47,
   "id": "d1c2677e",
   "metadata": {
    "tags": [
     "raises-exception"
    ]
   },
   "outputs": [
    {
     "ename": "ValueError",
     "evalue": "label \"Owner\" not in labels ('Name', 'Owner Age')",
     "output_type": "error",
     "traceback": [
      "\u001b[0;31m---------------------------------------------------------------------------\u001b[0m",
      "\u001b[0;31mValueError\u001b[0m                                Traceback (most recent call last)",
      "Cell \u001b[0;32mIn[47], line 1\u001b[0m\n\u001b[0;32m----> 1\u001b[0m doggy_data \u001b[38;5;241m=\u001b[39m \u001b[43mdogs\u001b[49m\u001b[38;5;241;43m.\u001b[39;49m\u001b[43mjoin\u001b[49m\u001b[43m(\u001b[49m\u001b[38;5;124;43m\"\u001b[39;49m\u001b[38;5;124;43mOwner\u001b[39;49m\u001b[38;5;124;43m\"\u001b[39;49m\u001b[43m,\u001b[49m\u001b[43m \u001b[49m\u001b[43mowners_new_label\u001b[49m\u001b[43m)\u001b[49m\n\u001b[1;32m      2\u001b[0m doggy_data\n",
      "File \u001b[0;32m/srv/conda/lib/python3.11/site-packages/datascience/tables.py:2035\u001b[0m, in \u001b[0;36mTable.join\u001b[0;34m(self, column_label, other, other_label)\u001b[0m\n\u001b[1;32m   2032\u001b[0m     \u001b[38;5;28;01mreturn\u001b[39;00m \u001b[38;5;28mself\u001b[39m\u001b[38;5;241m.\u001b[39m_multiple_join(column_label, other, other_label)\n\u001b[1;32m   2034\u001b[0m \u001b[38;5;66;03m# original single column join\u001b[39;00m\n\u001b[0;32m-> 2035\u001b[0m \u001b[38;5;28;01mreturn\u001b[39;00m \u001b[38;5;28;43mself\u001b[39;49m\u001b[38;5;241;43m.\u001b[39;49m\u001b[43m_join\u001b[49m\u001b[43m(\u001b[49m\u001b[43mcolumn_label\u001b[49m\u001b[43m,\u001b[49m\u001b[43m \u001b[49m\u001b[43mother\u001b[49m\u001b[43m,\u001b[49m\u001b[43m \u001b[49m\u001b[43mother_label\u001b[49m\u001b[43m)\u001b[49m\n",
      "File \u001b[0;32m/srv/conda/lib/python3.11/site-packages/datascience/tables.py:2045\u001b[0m, in \u001b[0;36mTable._join\u001b[0;34m(self, column_label, other, other_label)\u001b[0m\n\u001b[1;32m   2042\u001b[0m     other_label \u001b[38;5;241m=\u001b[39m column_label\n\u001b[1;32m   2044\u001b[0m self_rows \u001b[38;5;241m=\u001b[39m \u001b[38;5;28mself\u001b[39m\u001b[38;5;241m.\u001b[39mindex_by(column_label)\n\u001b[0;32m-> 2045\u001b[0m other_rows \u001b[38;5;241m=\u001b[39m \u001b[43mother\u001b[49m\u001b[38;5;241;43m.\u001b[39;49m\u001b[43mindex_by\u001b[49m\u001b[43m(\u001b[49m\u001b[43mother_label\u001b[49m\u001b[43m)\u001b[49m\n\u001b[1;32m   2046\u001b[0m \u001b[38;5;28;01mreturn\u001b[39;00m \u001b[38;5;28mself\u001b[39m\u001b[38;5;241m.\u001b[39m_join_helper([column_label], self_rows, other, [other_label], other_rows)\n",
      "File \u001b[0;32m/srv/conda/lib/python3.11/site-packages/datascience/tables.py:2991\u001b[0m, in \u001b[0;36mTable.index_by\u001b[0;34m(self, column_or_label)\u001b[0m\n\u001b[1;32m   2955\u001b[0m \u001b[38;5;28;01mdef\u001b[39;00m \u001b[38;5;21mindex_by\u001b[39m(\u001b[38;5;28mself\u001b[39m, column_or_label):\n\u001b[1;32m   2956\u001b[0m \u001b[38;5;250m    \u001b[39m\u001b[38;5;124;03m\"\"\"Return a dict keyed by values in a column that contains lists of\u001b[39;00m\n\u001b[1;32m   2957\u001b[0m \u001b[38;5;124;03m        rows corresponding to each value.\u001b[39;00m\n\u001b[1;32m   2958\u001b[0m \u001b[38;5;124;03m\t\u001b[39;00m\n\u001b[0;32m   (...)\u001b[0m\n\u001b[1;32m   2989\u001b[0m \u001b[38;5;124;03m\t    \u001b[39;00m\n\u001b[1;32m   2990\u001b[0m \u001b[38;5;124;03m    \"\"\"\u001b[39;00m\n\u001b[0;32m-> 2991\u001b[0m     column \u001b[38;5;241m=\u001b[39m \u001b[38;5;28;43mself\u001b[39;49m\u001b[38;5;241;43m.\u001b[39;49m\u001b[43m_get_column\u001b[49m\u001b[43m(\u001b[49m\u001b[43mcolumn_or_label\u001b[49m\u001b[43m)\u001b[49m\n\u001b[1;32m   2992\u001b[0m     index \u001b[38;5;241m=\u001b[39m {}\n\u001b[1;32m   2993\u001b[0m     \u001b[38;5;28;01mfor\u001b[39;00m key, row \u001b[38;5;129;01min\u001b[39;00m \u001b[38;5;28mzip\u001b[39m(column, \u001b[38;5;28mself\u001b[39m\u001b[38;5;241m.\u001b[39mrows):\n",
      "File \u001b[0;32m/srv/conda/lib/python3.11/site-packages/datascience/tables.py:2209\u001b[0m, in \u001b[0;36mTable._get_column\u001b[0;34m(self, column_or_label)\u001b[0m\n\u001b[1;32m   2207\u001b[0m     \u001b[38;5;28;01mreturn\u001b[39;00m \u001b[38;5;28mself\u001b[39m[c]\n\u001b[1;32m   2208\u001b[0m \u001b[38;5;28;01melif\u001b[39;00m \u001b[38;5;28misinstance\u001b[39m(c, \u001b[38;5;28mstr\u001b[39m):\n\u001b[0;32m-> 2209\u001b[0m     \u001b[38;5;28;01mraise\u001b[39;00m \u001b[38;5;167;01mValueError\u001b[39;00m(\u001b[38;5;124m'\u001b[39m\u001b[38;5;124mlabel \u001b[39m\u001b[38;5;124m\"\u001b[39m\u001b[38;5;132;01m{}\u001b[39;00m\u001b[38;5;124m\"\u001b[39m\u001b[38;5;124m not in labels \u001b[39m\u001b[38;5;132;01m{}\u001b[39;00m\u001b[38;5;124m'\u001b[39m\u001b[38;5;241m.\u001b[39mformat(c, \u001b[38;5;28mself\u001b[39m\u001b[38;5;241m.\u001b[39mlabels))\n\u001b[1;32m   2210\u001b[0m \u001b[38;5;28;01melse\u001b[39;00m:\n\u001b[1;32m   2211\u001b[0m     \u001b[38;5;28;01massert\u001b[39;00m \u001b[38;5;28mlen\u001b[39m(c) \u001b[38;5;241m==\u001b[39m \u001b[38;5;28mself\u001b[39m\u001b[38;5;241m.\u001b[39mnum_rows, \u001b[38;5;124m'\u001b[39m\u001b[38;5;124mcolumn length mismatch\u001b[39m\u001b[38;5;124m'\u001b[39m\n",
      "\u001b[0;31mValueError\u001b[0m: label \"Owner\" not in labels ('Name', 'Owner Age')"
     ]
    }
   ],
   "source": [
    "doggy_data = dogs.join(\"Owner\", owners_new_label)\n",
    "doggy_data"
   ]
  },
  {
   "cell_type": "markdown",
   "id": "5c79ede8",
   "metadata": {},
   "source": [
    "Because the `owners` table does not have a column label called `Owner`, we may try to use the one column label they do have in common: `Name`..."
   ]
  },
  {
   "cell_type": "code",
   "execution_count": 48,
   "id": "bc5658a5",
   "metadata": {},
   "outputs": [],
   "source": [
    "doggy_data = dogs.join(\"Name\", owners_new_label)\n",
    "doggy_data"
   ]
  },
  {
   "cell_type": "markdown",
   "id": "aaa71322",
   "metadata": {},
   "source": [
    "...but this doesn't appear to work either. This is not an error, there is simply no table outputted by this join call!\n",
    "\n",
    "This `join` call does not do what we want, because the `dogs` `Name` corresponds to the **dog's** name, but the `owners` `Name` corresponds to the **Owner's** name! No dog and owner have any of the same names, so there is no data to output in this `join` call!\n",
    "\n",
    "Instead, we have to make sure we join on the `Owner` column from `dogs` and the `Name` column from `owners`! We can do this using the third *optional* argument in the `join` method:"
   ]
  },
  {
   "cell_type": "code",
   "execution_count": 49,
   "id": "4da539b4",
   "metadata": {
    "scrolled": true
   },
   "outputs": [
    {
     "data": {
      "text/html": [
       "<table border=\"1\" class=\"dataframe\">\n",
       "    <thead>\n",
       "        <tr>\n",
       "            <th>Owner</th> <th>Name</th> <th>Breed</th> <th>Owner Age</th>\n",
       "        </tr>\n",
       "    </thead>\n",
       "    <tbody>\n",
       "        <tr>\n",
       "            <td>Elizabeth</td> <td>Hero   </td> <td>Shih-poo    </td> <td>18       </td>\n",
       "        </tr>\n",
       "        <tr>\n",
       "            <td>Elizabeth</td> <td>Doge   </td> <td>Coin        </td> <td>18       </td>\n",
       "        </tr>\n",
       "        <tr>\n",
       "            <td>Isabella </td> <td>Fluffy </td> <td>Corgi       </td> <td>3        </td>\n",
       "        </tr>\n",
       "        <tr>\n",
       "            <td>Su Min   </td> <td>Shefran</td> <td>Bichon Frise</td> <td>6        </td>\n",
       "        </tr>\n",
       "    </tbody>\n",
       "</table>"
      ],
      "text/plain": [
       "Owner     | Name    | Breed        | Owner Age\n",
       "Elizabeth | Hero    | Shih-poo     | 18\n",
       "Elizabeth | Doge    | Coin         | 18\n",
       "Isabella  | Fluffy  | Corgi        | 3\n",
       "Su Min    | Shefran | Bichon Frise | 6"
      ]
     },
     "execution_count": 49,
     "metadata": {},
     "output_type": "execute_result"
    }
   ],
   "source": [
    "doggy_data = dogs.join(\"Owner\", owners_new_label, \"Name\")\n",
    "doggy_data"
   ]
  },
  {
   "cell_type": "markdown",
   "id": "540bb40e",
   "metadata": {},
   "source": [
    "In this table, the `Name` column now refers to the name of the dog, and the `Owner` column corresponds to the name of the owner!"
   ]
  },
  {
   "cell_type": "markdown",
   "id": "6060a571",
   "metadata": {},
   "source": [
    "### Question 2.5 (A Slightly Different `Join`): \n",
    "The `join` method can also change the number of rows in its output. If there are multiple rows in one table that match with one row in the other, the `join` method will include rows for each of these matches in the output. Also, if there is a row in a table with no match in the other, there will be no row in the output that represents this row. Let's implement both these situations in practice and see how they work:"
   ]
  },
  {
   "cell_type": "code",
   "execution_count": 50,
   "id": "9c3253cf",
   "metadata": {},
   "outputs": [
    {
     "data": {
      "text/html": [
       "<table border=\"1\" class=\"dataframe\">\n",
       "    <thead>\n",
       "        <tr>\n",
       "            <th>Name</th> <th>Breed</th> <th>Owner</th>\n",
       "        </tr>\n",
       "    </thead>\n",
       "    <tbody>\n",
       "        <tr>\n",
       "            <td>Shefran </td> <td>Bichon Frise    </td> <td>Su Min   </td>\n",
       "        </tr>\n",
       "        <tr>\n",
       "            <td>Hero    </td> <td>Shih-poo        </td> <td>Elizabeth</td>\n",
       "        </tr>\n",
       "        <tr>\n",
       "            <td>Fluffy  </td> <td>Corgi           </td> <td>Isabella </td>\n",
       "        </tr>\n",
       "        <tr>\n",
       "            <td>Doge    </td> <td>Coin            </td> <td>Elizabeth</td>\n",
       "        </tr>\n",
       "        <tr>\n",
       "            <td>Clifford</td> <td>Big Red         </td> <td>Sandra   </td>\n",
       "        </tr>\n",
       "        <tr>\n",
       "            <td>Doug    </td> <td>Golden Retriever</td> <td>Russell  </td>\n",
       "        </tr>\n",
       "    </tbody>\n",
       "</table>"
      ],
      "text/plain": [
       "Name     | Breed            | Owner\n",
       "Shefran  | Bichon Frise     | Su Min\n",
       "Hero     | Shih-poo         | Elizabeth\n",
       "Fluffy   | Corgi            | Isabella\n",
       "Doge     | Coin             | Elizabeth\n",
       "Clifford | Big Red          | Sandra\n",
       "Doug     | Golden Retriever | Russell"
      ]
     },
     "execution_count": 50,
     "metadata": {},
     "output_type": "execute_result"
    }
   ],
   "source": [
    "# Just run this cell\n",
    "# This new dogs table has a new extra dogs\n",
    "more_dogs = dogs.with_rows([[\"Clifford\", \"Big Red\", \"Sandra\"], [\"Doug\", \"Golden Retriever\", \"Russell\"]])\n",
    "more_dogs"
   ]
  },
  {
   "cell_type": "markdown",
   "id": "a6d66858",
   "metadata": {},
   "source": [
    "**Task**: Before we execute the join between these tables, we should be able to calculate how many rows should there be in the output. Assign the variable `more_dog_owner_rows` to the number of rows that should result from joining `more_dogs` with `owners_new_label`. Run the cell below to see them again for clarity:"
   ]
  },
  {
   "cell_type": "code",
   "execution_count": 51,
   "id": "6a9c51e4",
   "metadata": {},
   "outputs": [
    {
     "data": {
      "text/html": [
       "<table border=\"1\" class=\"dataframe\">\n",
       "    <thead>\n",
       "        <tr>\n",
       "            <th>Name</th> <th>Breed</th> <th>Owner</th>\n",
       "        </tr>\n",
       "    </thead>\n",
       "    <tbody>\n",
       "        <tr>\n",
       "            <td>Shefran </td> <td>Bichon Frise    </td> <td>Su Min   </td>\n",
       "        </tr>\n",
       "        <tr>\n",
       "            <td>Hero    </td> <td>Shih-poo        </td> <td>Elizabeth</td>\n",
       "        </tr>\n",
       "        <tr>\n",
       "            <td>Fluffy  </td> <td>Corgi           </td> <td>Isabella </td>\n",
       "        </tr>\n",
       "        <tr>\n",
       "            <td>Doge    </td> <td>Coin            </td> <td>Elizabeth</td>\n",
       "        </tr>\n",
       "        <tr>\n",
       "            <td>Clifford</td> <td>Big Red         </td> <td>Sandra   </td>\n",
       "        </tr>\n",
       "        <tr>\n",
       "            <td>Doug    </td> <td>Golden Retriever</td> <td>Russell  </td>\n",
       "        </tr>\n",
       "    </tbody>\n",
       "</table>"
      ],
      "text/plain": [
       "Name     | Breed            | Owner\n",
       "Shefran  | Bichon Frise     | Su Min\n",
       "Hero     | Shih-poo         | Elizabeth\n",
       "Fluffy   | Corgi            | Isabella\n",
       "Doge     | Coin             | Elizabeth\n",
       "Clifford | Big Red          | Sandra\n",
       "Doug     | Golden Retriever | Russell"
      ]
     },
     "metadata": {},
     "output_type": "display_data"
    },
    {
     "data": {
      "text/html": [
       "<table border=\"1\" class=\"dataframe\">\n",
       "    <thead>\n",
       "        <tr>\n",
       "            <th>Name</th> <th>Owner Age</th>\n",
       "        </tr>\n",
       "    </thead>\n",
       "    <tbody>\n",
       "        <tr>\n",
       "            <td>Su Min   </td> <td>6        </td>\n",
       "        </tr>\n",
       "        <tr>\n",
       "            <td>Kenneth  </td> <td>17       </td>\n",
       "        </tr>\n",
       "        <tr>\n",
       "            <td>Isabella </td> <td>3        </td>\n",
       "        </tr>\n",
       "        <tr>\n",
       "            <td>Elizabeth</td> <td>18       </td>\n",
       "        </tr>\n",
       "    </tbody>\n",
       "</table>"
      ],
      "text/plain": [
       "Name      | Owner Age\n",
       "Su Min    | 6\n",
       "Kenneth   | 17\n",
       "Isabella  | 3\n",
       "Elizabeth | 18"
      ]
     },
     "metadata": {},
     "output_type": "display_data"
    }
   ],
   "source": [
    "display(more_dogs, owners_new_label)"
   ]
  },
  {
   "cell_type": "code",
   "execution_count": 52,
   "id": "3cffad5a",
   "metadata": {
    "tags": []
   },
   "outputs": [
    {
     "data": {
      "text/plain": [
       "4"
      ]
     },
     "execution_count": 52,
     "metadata": {},
     "output_type": "execute_result"
    }
   ],
   "source": [
    "more_dog_owner_rows = 4\n",
    "more_dog_owner_rows"
   ]
  },
  {
   "cell_type": "code",
   "execution_count": 53,
   "id": "02bc6ede",
   "metadata": {
    "deletable": false,
    "editable": false
   },
   "outputs": [
    {
     "data": {
      "text/html": [
       "<p><strong><pre style='display: inline;'>q2_5</pre></strong> passed! 💯</p>"
      ],
      "text/plain": [
       "q2_5 results: All test cases passed!"
      ]
     },
     "execution_count": 53,
     "metadata": {},
     "output_type": "execute_result"
    }
   ],
   "source": [
    "grader.check(\"q2_5\")"
   ]
  },
  {
   "cell_type": "markdown",
   "id": "3dd78ec2",
   "metadata": {},
   "source": [
    "### Confirm your answer\n",
    "\n",
    "Remember, each row in the `more_dogs` table only gets a row in the output if it matches a row in `owners_new_label`"
   ]
  },
  {
   "cell_type": "code",
   "execution_count": 54,
   "id": "278af7c9",
   "metadata": {},
   "outputs": [
    {
     "data": {
      "text/html": [
       "<table border=\"1\" class=\"dataframe\">\n",
       "    <thead>\n",
       "        <tr>\n",
       "            <th>Owner</th> <th>Name</th> <th>Breed</th> <th>Owner Age</th>\n",
       "        </tr>\n",
       "    </thead>\n",
       "    <tbody>\n",
       "        <tr>\n",
       "            <td>Elizabeth</td> <td>Hero   </td> <td>Shih-poo    </td> <td>18       </td>\n",
       "        </tr>\n",
       "        <tr>\n",
       "            <td>Elizabeth</td> <td>Doge   </td> <td>Coin        </td> <td>18       </td>\n",
       "        </tr>\n",
       "        <tr>\n",
       "            <td>Isabella </td> <td>Fluffy </td> <td>Corgi       </td> <td>3        </td>\n",
       "        </tr>\n",
       "        <tr>\n",
       "            <td>Su Min   </td> <td>Shefran</td> <td>Bichon Frise</td> <td>6        </td>\n",
       "        </tr>\n",
       "    </tbody>\n",
       "</table>"
      ],
      "text/plain": [
       "Owner     | Name    | Breed        | Owner Age\n",
       "Elizabeth | Hero    | Shih-poo     | 18\n",
       "Elizabeth | Doge    | Coin         | 18\n",
       "Isabella  | Fluffy  | Corgi        | 3\n",
       "Su Min    | Shefran | Bichon Frise | 6"
      ]
     },
     "execution_count": 54,
     "metadata": {},
     "output_type": "execute_result"
    }
   ],
   "source": [
    "# If an owner in the table has 2 dogs, both dogs should appear in the output\n",
    "# If a dog has no owner in the owners table, the dog does not appear in the output\n",
    "complex_doggy_data = more_dogs.join(\"Owner\", owners_new_label, \"Name\")\n",
    "complex_doggy_data"
   ]
  },
  {
   "cell_type": "code",
   "execution_count": 55,
   "id": "2e1843f4",
   "metadata": {},
   "outputs": [
    {
     "data": {
      "text/plain": [
       "4"
      ]
     },
     "execution_count": 55,
     "metadata": {},
     "output_type": "execute_result"
    }
   ],
   "source": [
    "# Total of 4 rows\n",
    "complex_doggy_data.num_rows"
   ]
  },
  {
   "cell_type": "markdown",
   "id": "a9c41bde",
   "metadata": {},
   "source": [
    "**Finally, for reference, here is the link to the Data 6 Python Reference (our Python cheat-sheet) so you can review some of the methods we've used for tables in this lab!**\n",
    "\n",
    "[Python Reference](http://data6.org/fa24/reference)"
   ]
  },
  {
   "cell_type": "markdown",
   "id": "ea90d890",
   "metadata": {},
   "source": [
    "## Done! 😇\n",
    "\n",
    "Good luck with the homework!"
   ]
  },
  {
   "attachments": {},
   "cell_type": "markdown",
   "id": "94028020",
   "metadata": {},
   "source": [
    "## Pets of Data 6\n",
    "Kaalu is living it up! Good luck on HW2!\n",
    "\n",
    "<img src=\"kaalu.jpg\" width=\"40%\" alt=\"Black dog chilling on the floor\"/>"
   ]
  },
  {
   "cell_type": "code",
   "execution_count": null,
   "id": "5482dc5c",
   "metadata": {},
   "outputs": [],
   "source": []
  },
  {
   "cell_type": "markdown",
   "id": "963cf6f1",
   "metadata": {
    "deletable": false,
    "editable": false
   },
   "source": [
    "## Submission\n",
    "\n",
    "Make sure you have run all cells in your notebook in order before running the cell below, so that all images/graphs appear in the output. The cell below will generate a zip file for you to submit. **Please save before exporting!**"
   ]
  },
  {
   "cell_type": "code",
   "execution_count": null,
   "id": "1e383669",
   "metadata": {
    "deletable": false,
    "editable": false
   },
   "outputs": [],
   "source": [
    "# Save your notebook first, then run this cell to export your submission.\n",
    "grader.export(run_tests=True)"
   ]
  },
  {
   "cell_type": "markdown",
   "id": "46101feb",
   "metadata": {},
   "source": [
    " "
   ]
  }
 ],
 "metadata": {
  "kernelspec": {
   "display_name": "Python 3 (ipykernel)",
   "language": "python",
   "name": "python3"
  },
  "language_info": {
   "codemirror_mode": {
    "name": "ipython",
    "version": 3
   },
   "file_extension": ".py",
   "mimetype": "text/x-python",
   "name": "python",
   "nbconvert_exporter": "python",
   "pygments_lexer": "ipython3",
   "version": "3.11.9"
  },
  "otter": {
   "OK_FORMAT": true,
   "tests": {
    "q1_2": {
     "name": "q1_2",
     "points": [
      1,
      1,
      1,
      1,
      1,
      1
     ],
     "suites": [
      {
       "cases": [
        {
         "code": ">>> assert isinstance(ucr_stem, Table)\n",
         "hidden": false,
         "locked": false
        },
        {
         "code": ">>> assert isinstance(ucr_nonstem, Table)\n",
         "hidden": false,
         "locked": false
        },
        {
         "code": ">>> assert all(x in [\"Bourns College of Engineering\", \"College of Natural and Agricultural Sciences\"] for x in ucr_stem.column('College'))\n",
         "hidden": false,
         "locked": false
        },
        {
         "code": ">>> assert all(x in [\"College of Humanities, Arts, and Social Sciences\", \"Graduate School of Education\", \"School of Business\", \"School of Medicine\", \"School of Public Policy\"] for x in ucr_nonstem.column('College'))\n",
         "hidden": false,
         "locked": false
        },
        {
         "code": ">>> assert ucr_stem.num_rows == 7419\n",
         "hidden": false,
         "locked": false
        },
        {
         "code": ">>> assert ucr_nonstem.num_rows == 9451\n",
         "hidden": false,
         "locked": false
        }
       ],
       "scored": true,
       "setup": "",
       "teardown": "",
       "type": "doctest"
      }
     ]
    },
    "q2_5": {
     "name": "q2_5",
     "points": 1,
     "suites": [
      {
       "cases": [
        {
         "code": ">>> type(more_dog_owner_rows) in set([int, np.int32, np.int64])\nTrue",
         "hidden": false,
         "locked": false
        },
        {
         "code": ">>> more_dog_owner_rows == 5\nFalse",
         "hidden": false,
         "locked": false
        }
       ],
       "scored": true,
       "setup": "",
       "teardown": "",
       "type": "doctest"
      }
     ]
    }
   }
  }
 },
 "nbformat": 4,
 "nbformat_minor": 5
}
