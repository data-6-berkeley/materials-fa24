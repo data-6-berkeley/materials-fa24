{
 "cells": [
  {
   "cell_type": "code",
   "execution_count": null,
   "id": "384ddca9",
   "metadata": {
    "deletable": false,
    "editable": false
   },
   "outputs": [],
   "source": [
    "# Initialize Otter\n",
    "import otter\n",
    "grader = otter.Notebook(\"hw03.ipynb\")"
   ]
  },
  {
   "cell_type": "markdown",
   "id": "5b46d902",
   "metadata": {},
   "source": [
    "<img src=\"data6.png\" style=\"width: 15%; float: right; padding: 1%; margin-right: 2%;\"/>\n",
    "\n",
    "# Homework 3 – Advanced Table Methods and Data Visualization\n",
    "\n",
    "## Data 6, Fall 2024\n",
    "\n",
    "This homework is due on **Thursday, October 31st at 11:00PM**. "
   ]
  },
  {
   "cell_type": "code",
   "execution_count": null,
   "id": "a29e58e9",
   "metadata": {},
   "outputs": [],
   "source": [
    "# Run this cell, don't change anything.\n",
    "from datascience import *\n",
    "import numpy as np\n",
    "import matplotlib.pyplot as plt\n",
    "%matplotlib inline\n",
    "plt.style.use(\"ggplot\")\n",
    "from ipywidgets import interact, IntSlider\n",
    "import warnings\n",
    "warnings.filterwarnings('ignore')"
   ]
  },
  {
   "cell_type": "markdown",
   "id": "05cc3e0b",
   "metadata": {},
   "source": [
    "<hr style=\"border: 5px solid #003262;\" />\n",
    "<hr style=\"border: 1px solid #fdb515;\" />\n",
    "\n",
    "# Part 1: Visualization Fundamentals\n",
    "\n",
    "<br></br>\n",
    "<hr style=\"border: 1px solid #fdb515;\" />\n",
    "\n",
    "## Acknowledgements\n",
    "\n",
    "Many of the pictures and descriptions in this section of the homework are taken from [Dr. Allison Horst](https://twitter.com/allison_horst) and [Dr. Kristen Gorman](https://www.uaf.edu/cfos/people/faculty/detail/kristen-gorman.php). The data was collected as a part of the [Long Term Ecological Research Network](https://lternet.edu/). If you're curious about the origins of the data, see [here](https://allisonhorst.github.io/palmerpenguins/) for more details.\n",
    "\n",
    "<img src='lter_network.jpeg' width=300>\n",
    "    \n",
    "<br></br>\n",
    "<hr style=\"border: 1px solid #fdb515;\" />\n",
    "\n",
    "## The Data\n",
    "\n",
    "In this part of your assignment, we will explore a dataset containing size measurements for three penguin species observed on three islands in the Palmer Archipelago, Antarctica. The data was collected by Dr. Kristen Gorman, a marine biologist from 2007 to 2009.\n",
    "\n",
    "Here's a photo of Dr. Gorman in the wild collecting the data:\n",
    "\n",
    "<img src='gorman1.png' width=500>\n",
    "\n",
    "Run the cell below to load in our data."
   ]
  },
  {
   "cell_type": "code",
   "execution_count": null,
   "id": "7ef158fc",
   "metadata": {},
   "outputs": [],
   "source": [
    "# Run this cell!\n",
    "penguins = Table.read_table(\"penguins.csv\")\n",
    "penguins"
   ]
  },
  {
   "attachments": {},
   "cell_type": "markdown",
   "id": "e2a41314",
   "metadata": {},
   "source": [
    "<hr style=\"border: 1px solid #fdb515;\" />\n",
    "\n",
    "## The Columns\n",
    "\n",
    "Let's make sure we understand what each of the columns in our data represents before proceeding.\n",
    "\n",
    "**`\"species\"`** There are three species of penguin in our dataset: Adelie, Chinstrap, and Gentoo.\n",
    "<img src='lter_penguins.png' width=500>\n",
    "\n",
    "**`\"island\"`** The penguins in our dataset come from three islands: Biscoe, Dream, and Torgersen. (The smaller image of Anvers Island may initially be confusing; the dark region is land and the light region is water.)\n",
    "\n",
    "<img src='island.png' width=500>\n",
    "\n",
    "Image taken from <a href=\"https://journals.plos.org/plosone/article/figure?id=10.1371/journal.pone.0090081.g001\">here</a>\n",
    "\n",
    "\n",
    "**`\"bill_length_mm\"`** and **`\"bill_depth_mm\"`**: See the illustration below.\n",
    "\n",
    "<img src='culmen_depth.png' width=350>\n",
    "\n",
    "**`\"flipper_length_mm\"`**: Flippers are the equivalent of wings on penguins. \n",
    "\n",
    "**`\"body_mass_g\"`** The body mass of the penguin, in grams\n",
    "\n",
    "**`\"sex\"`**: The sex of the penguin"
   ]
  },
  {
   "cell_type": "markdown",
   "id": "2f0d5d0a",
   "metadata": {},
   "source": [
    "<hr style=\"border: 1px solid #fdb515;\" />\n",
    "\n",
    "# Question 1 - Penguins!"
   ]
  },
  {
   "cell_type": "markdown",
   "id": "a4c0269d",
   "metadata": {},
   "source": [
    "<!-- BEGIN QUESTION -->\n",
    "\n",
    "---\n",
    "## Question 1a\n",
    "Let's start by visualizing the distribution of the islands from which the penguins in our dataset come. Your friend Sunya says that using a **histogram** is the best way to do this. However, Josh disagrees and says that using a **horizontal bar chart** is a better move. Who is right? Explain your answer.\n",
    "\n",
    "*Hint*: What kind of variable is contained within the `\"island\"` column?\n"
   ]
  },
  {
   "cell_type": "markdown",
   "id": "7e5592d4",
   "metadata": {},
   "source": [
    "_Type your answer here, replacing this text._"
   ]
  },
  {
   "cell_type": "markdown",
   "id": "6b791924",
   "metadata": {},
   "source": [
    "<!-- END QUESTION -->\n",
    "\n",
    "---\n",
    "## Question 1b\n",
    "\n",
    "In order to visualize this distribution, create a table named `islands` with the following columns:\n",
    "1. `island`: A column containing all the possible islands a penguin could come from\n",
    "2. `num penguins`: A column containing the count of all penguins that reside in that island."
   ]
  },
  {
   "cell_type": "code",
   "execution_count": null,
   "id": "72e8ca15",
   "metadata": {
    "tags": []
   },
   "outputs": [],
   "source": [
    "islands = ..."
   ]
  },
  {
   "cell_type": "code",
   "execution_count": null,
   "id": "bdb8b8a4",
   "metadata": {
    "deletable": false,
    "editable": false
   },
   "outputs": [],
   "source": [
    "grader.check(\"q1b\")"
   ]
  },
  {
   "cell_type": "markdown",
   "id": "635e9fdd",
   "metadata": {},
   "source": [
    "---\n",
    "## Question 1c\n",
    "\n",
    "Based on your answer for the previous question, create an appropriate visualization to show the distribution of the islands from which the penguins come.\n",
    "\n",
    "Specifically, write a line of code in the following cell that produces a visualization with three bars, one for each island. The length of each bar should correspond to the number of penguins from each island.\n",
    "\n",
    "Use your `islands` table from the previous problem."
   ]
  },
  {
   "cell_type": "markdown",
   "id": "dfd13444",
   "metadata": {},
   "source": [
    "<!-- BEGIN QUESTION -->\n",
    "\n"
   ]
  },
  {
   "cell_type": "code",
   "execution_count": null,
   "id": "5640ad03",
   "metadata": {
    "tags": []
   },
   "outputs": [],
   "source": [
    "...\n",
    "\n",
    "# Do not change any code below this comment\n",
    "plt.xlabel(\"Number of Penguins\")\n",
    "plt.title(\"Number of Penguins on Each Island\");"
   ]
  },
  {
   "cell_type": "markdown",
   "id": "4536390f",
   "metadata": {},
   "source": [
    "<!-- END QUESTION -->\n",
    "\n",
    "---\n",
    "## Question 1d\n",
    "\n",
    "Let's construct a table with information about the penguins species.\n",
    "\n",
    "This table should be called `species`, and contains the following columns:\n",
    "1. `\"species\"`: A column containing all of the possible `species` in the `penguins` table\n",
    "2. `\"bill_length_mm median\"`: The median bill length of each respective `species`.\n",
    "3. `\"bill_depth_mm_median\"`: The median bill depth of each respective `species`.\n",
    "4. `\"flipper_length_mm median\"`: The median flipper length of each respective `species`.\n",
    "5. `\"body_mass_g_median\"`: The median body mass of each respective `species`.\n",
    "\n",
    "\n",
    "*Hint*: You may find several functions from the [Python Reference](https://data6.org/fa24/reference/) helpful"
   ]
  },
  {
   "cell_type": "code",
   "execution_count": null,
   "id": "17054e6c",
   "metadata": {
    "tags": []
   },
   "outputs": [],
   "source": [
    "species = ...\n",
    "species"
   ]
  },
  {
   "cell_type": "code",
   "execution_count": null,
   "id": "fa6be058",
   "metadata": {
    "deletable": false,
    "editable": false
   },
   "outputs": [],
   "source": [
    "grader.check(\"q1d\")"
   ]
  },
  {
   "attachments": {},
   "cell_type": "markdown",
   "id": "1c673922",
   "metadata": {},
   "source": [
    "---\n",
    "## Question 1e\n",
    "\n",
    "Using the `species` table from the previous question, construct a new table called `species_new` containing the following columns: \n",
    "1. `\"species\"`: The species column from the `species` table\n",
    "2. `\"bill_length_mm median\"`: The bill length median column from the `species` table\n",
    "3. `\"bill_depth_mm_median\"`: The bill depth median column from the `species` table\n",
    "4. `\"code\"`: A new column which contains the **first letter** of each species name\n",
    "\n",
    "Hint: Below we've defined a function `first_letter`, which takes in a String and returns the first letter of that String. DO NOT HARDCODE THE VALUES A, C, and G."
   ]
  },
  {
   "cell_type": "code",
   "execution_count": null,
   "id": "bffb881e",
   "metadata": {},
   "outputs": [],
   "source": [
    "def first_letter(name):\n",
    "    \"\"\"Returns the first letter of the name.\n",
    "    Inputs: String representing the name\n",
    "    Returns: String representing the first character in the name.\n",
    "    \"\"\"\n",
    "    return name[0]"
   ]
  },
  {
   "cell_type": "code",
   "execution_count": null,
   "id": "3d0efb69",
   "metadata": {
    "tags": []
   },
   "outputs": [],
   "source": [
    "species_new = ...\n",
    "species_new"
   ]
  },
  {
   "cell_type": "code",
   "execution_count": null,
   "id": "62fcea26",
   "metadata": {
    "deletable": false,
    "editable": false
   },
   "outputs": [],
   "source": [
    "grader.check(\"q1e\")"
   ]
  },
  {
   "attachments": {},
   "cell_type": "markdown",
   "id": "969af477",
   "metadata": {},
   "source": [
    "<hr style=\"border: 1px solid #fdb515;\" />\n",
    "\n",
    "# Question 2 - Histograms\n",
    "\n",
    "<img src='all3.png' width=400>\n",
    "\n",
    "\n",
    "Adelie, Chinstrap, and Gentoo penguins.\n",
    "\n",
    "\n",
    "Great! Now that we've explored the distributions of some of the categorical variables in our dataset (species and island), it's time to study the distributions of some of the numerical variables. As covered in Lecture 15, we can visualize a numerical distribution by creating a histogram."
   ]
  },
  {
   "cell_type": "markdown",
   "id": "e6a53e82",
   "metadata": {},
   "source": [
    "---\n",
    "## Question 2a\n",
    "\n",
    "Before we produce any histograms using code, let's make sure we understand *how* to interpret the data plotted by a histogram. Run the following cell to create a histogram that shows the **distribution of penguin body mass (in grams)** for all the penguins in the `penguins` table."
   ]
  },
  {
   "cell_type": "code",
   "execution_count": null,
   "id": "8ab09129",
   "metadata": {},
   "outputs": [],
   "source": [
    "penguins.hist(\"body_mass_g\", bins=np.arange(2000,7001, 500), density=False)"
   ]
  },
  {
   "cell_type": "markdown",
   "id": "641dfbf4",
   "metadata": {},
   "source": [
    "**Task**: Based on the information presented in the above histogram, assign `num_penguins` to the **number of penguins** that have a body mass **between 3000 grams (*inclusive*) and 3500 grams (*exclusive*)**.\n",
    "\n",
    "*Note*: Remember, in a histogram, each bin is inclusive of the left endpoint and exclusive of the right endpoint. What this means is that, for example, the bin between 2500 and 3000 grams above corresponds to body masses that are greater than or equal to 2500 grams and less than 3000 grams.\n"
   ]
  },
  {
   "cell_type": "code",
   "execution_count": null,
   "id": "282333a5",
   "metadata": {
    "tags": []
   },
   "outputs": [],
   "source": [
    "num_penguins = ...\n",
    "num_penguins"
   ]
  },
  {
   "cell_type": "code",
   "execution_count": null,
   "id": "de3643d2",
   "metadata": {
    "deletable": false,
    "editable": false
   },
   "outputs": [],
   "source": [
    "grader.check(\"q2a\")"
   ]
  },
  {
   "cell_type": "markdown",
   "id": "9828262f",
   "metadata": {},
   "source": [
    "<!-- BEGIN QUESTION -->\n",
    "\n",
    "---\n",
    "## Question 2b\n",
    "\n",
    "Sandra takes a quick glance at the histogram from **Question 2a** and claims the following:\n",
    "> _\"I can tell you how many penguins have body masses between 5000 and 5200 grams, **only** using the histogram above.\"_\n",
    "\n",
    "Leanne disagrees with Sandra, stating:\n",
    "> _\"That's not true. You'd need more than just the histogram above to know that information.\"_\n",
    "\n",
    "Who is correct in this situation: Sandra or Leanne? Explain why the *other person is incorrect*, providing justifcation based on what you've learned about histograms.\n"
   ]
  },
  {
   "cell_type": "markdown",
   "id": "4ba80667",
   "metadata": {},
   "source": [
    "_Type your answer here, replacing this text._"
   ]
  },
  {
   "cell_type": "markdown",
   "id": "ac882799",
   "metadata": {},
   "source": [
    "<!-- END QUESTION -->\n",
    "\n",
    "---\n",
    "## Question 2c\n",
    "\n",
    "Now it's time to create some histograms! For convenience, we've provided the `penguins` table in the cell below. There are four columns containing numerical variables: `\"bill_length_mm\"`, `\"bill_depth_mm\"`, `\"flipper_length_mm\"`, and `\"body_mass_g\"`."
   ]
  },
  {
   "cell_type": "code",
   "execution_count": null,
   "id": "a1477348",
   "metadata": {},
   "outputs": [],
   "source": [
    "penguins.show(5)"
   ]
  },
  {
   "cell_type": "markdown",
   "id": "a2dc36cd",
   "metadata": {},
   "source": [
    "<!-- BEGIN QUESTION -->\n",
    "\n",
    "**Task**: In the cell below, write code that produces a histogram that visualizes the distribution of our penguins' flipper lengths. We've provided the bins for you to use as the `my_bins` variable. More specifically, you'll want to re-create the following histogram exactly:\n",
    "\n",
    "<img src=\"flipper_lengths.png\">\n"
   ]
  },
  {
   "cell_type": "code",
   "execution_count": null,
   "id": "24be06ad",
   "metadata": {
    "tags": []
   },
   "outputs": [],
   "source": [
    "my_bins = np.arange(170,240, 5)\n",
    "...\n",
    "\n",
    "# Do not change anything below this line\n",
    "plt.title(\"Distribution of Flipper Lengths (mm)\");"
   ]
  },
  {
   "cell_type": "markdown",
   "id": "b3a24084",
   "metadata": {},
   "source": [
    "<!-- END QUESTION -->\n",
    "\n",
    "---\n",
    "## Question 2d\n",
    "\n",
    "When creating histograms, it's important to try several different bin sizes in order to make sure that we're satisfied with the level of detail (or lack thereof) in our histogram.\n",
    "\n",
    "Run the code cell below. It will present you with a histogram of the distribution of our penguins' body masses, along with a slider for bin widths. Use the slider to try several different bin widths and look at the resulting histograms."
   ]
  },
  {
   "cell_type": "code",
   "execution_count": null,
   "id": "c50bfcb8",
   "metadata": {},
   "outputs": [],
   "source": [
    "# Don't worry about the code, just play with the slider that appears after running.\n",
    "def draw_mass_histogram(bin_width):\n",
    "    penguins.hist('body_mass_g', bins = np.arange(2700, 6300+2*bin_width, bin_width), density = False)\n",
    "    \n",
    "interact(draw_mass_histogram, bin_width=IntSlider(min=25, max=2000, step=25, continuous_update=False));"
   ]
  },
  {
   "cell_type": "markdown",
   "id": "1aa3f662",
   "metadata": {},
   "source": [
    "<!-- BEGIN QUESTION -->\n",
    "\n",
    "**Task**: In the cell below, compare the two histograms that result from setting the bin width to **100** and **750.** What are the pros and cons of each size? (Remember that these histograms are displaying the same data, just with different bin sizes.)\n"
   ]
  },
  {
   "cell_type": "markdown",
   "id": "1a8e81a0",
   "metadata": {},
   "source": [
    "_Type your answer here, replacing this text._"
   ]
  },
  {
   "cell_type": "markdown",
   "id": "0e3e220b",
   "metadata": {},
   "source": [
    "<!-- END QUESTION -->\n",
    "\n",
    "<!-- BEGIN QUESTION -->\n",
    "\n",
    "---\n",
    "## Question 2e\n",
    "\n",
    "In the previous question, you plotted the distribution of penguins' body mass measurements for the **entire dataset**. While doing so is important to visualize our data as a whole, we can uncover underlying patterns within our data by grouping. This process is known as **disaggregation**: separating aggregated data into its component parts; we saw this process in Lab 2 with the BRFSS data set.\n",
    "\n",
    "**Task**: Using the `penguins` table and the `hist` table method and its various optional arguments, re-create the following set of histograms:\n",
    "\n",
    "<img src=\"mass_disaggregated.png\" width=250>\n",
    "\n",
    "*Note*: Use the `my_bins` variable we've defined as the optional `bins` arugment of the `hist` method.\n"
   ]
  },
  {
   "cell_type": "code",
   "execution_count": null,
   "id": "7c5c07bc",
   "metadata": {
    "tags": []
   },
   "outputs": [],
   "source": [
    "my_bins = np.arange(2500, 6500, 500)\n",
    "..."
   ]
  },
  {
   "cell_type": "markdown",
   "id": "0b63f8e0",
   "metadata": {},
   "source": [
    "<!-- END QUESTION -->\n",
    "\n",
    "## Part 3: Real-World Risks within Data"
   ]
  },
  {
   "cell_type": "markdown",
   "id": "96e0eb21",
   "metadata": {},
   "source": [
    "Now, we are going to look at a very interesting dataset, the 1973's UC Berkeley Admission for data analysis! Through out this part, we will be working with `UCBerkeley1973_Admission.csv` file."
   ]
  },
  {
   "cell_type": "code",
   "execution_count": null,
   "id": "1976c7d2",
   "metadata": {},
   "outputs": [],
   "source": [
    "cal_data  = Table.read_table(\"UCBerkeley1973_Admission.csv\")\n",
    "cal_data"
   ]
  },
  {
   "cell_type": "markdown",
   "id": "01c3e467",
   "metadata": {},
   "source": [
    "<!-- BEGIN QUESTION -->\n",
    "\n",
    "### Question 3a (Discussion)\n",
    "Looking at `cal_data` first glance, what do you observe? Try exploring the dataset by what you have learned so far in class! Reflect in 2-3 sentences on what you have noticed about the data. Feel free to add/ delete more cells beyond our given cell."
   ]
  },
  {
   "cell_type": "markdown",
   "id": "a577f05b",
   "metadata": {},
   "source": [
    "_Type your answer here, replacing this text._"
   ]
  },
  {
   "cell_type": "markdown",
   "id": "2234023f",
   "metadata": {},
   "source": [
    "<!-- END QUESTION -->\n",
    "\n"
   ]
  },
  {
   "cell_type": "code",
   "execution_count": null,
   "id": "cdc1b35b",
   "metadata": {},
   "outputs": [],
   "source": [
    "# You can use this cell to explore the `cal_data` table"
   ]
  },
  {
   "cell_type": "markdown",
   "id": "e2bdfa3d",
   "metadata": {},
   "source": [
    "For this case study, we'll be doing some exploration of the rates of admission between males and females at UC Berkeley in 1973. To start off, below we calculate the raw acceptance rates for males and females:"
   ]
  },
  {
   "cell_type": "code",
   "execution_count": null,
   "id": "dc416108",
   "metadata": {},
   "outputs": [],
   "source": [
    "total_f = sum(cal_data.column(\"Gender\") == \"F\")\n",
    "total_m = sum(cal_data.column(\"Gender\") == \"M\")\n",
    "accepted_f = cal_data.where(\"Admission\", \"Accepted\").where(\"Gender\", \"F\").num_rows\n",
    "accepted_m =  cal_data.where(\"Admission\", \"Accepted\").where(\"Gender\", \"M\").num_rows\n",
    "acceptance_rate_f = accepted_f / total_f * 100\n",
    "acceptance_rate_m = accepted_m / total_m * 100\n",
    "print(\"1973's Berkeley admission rate seems to be: female:\", acceptance_rate_f, \"and male:\", acceptance_rate_m)"
   ]
  },
  {
   "cell_type": "markdown",
   "id": "b4f3d668",
   "metadata": {},
   "source": [
    "Keep these rates in mind as we begin exploring some visualization and table methods to look into an effect called **\"Simpson's Paradox\"**. "
   ]
  },
  {
   "cell_type": "markdown",
   "id": "adc5ab7b",
   "metadata": {},
   "source": [
    "---\n",
    "### Simpson's Paradox\n",
    "According to [Wikipedia](https://en.wikipedia.org/wiki/Simpson%27s_paradox), Simpson's Paradox \"is a phenomenon in probability and statistics in which a trend appears in several groups of data but disappears or reverses when the groups are combined.\"\n",
    "\n",
    "At first glance of the UC Berkeley Admission dataset, it seems male have higher chance being accepted. However, when looked closer by major (department), a different story emergered. We found that females were equal or more likely to be accepted when looked at each department. In fact, a [study](https://homepage.stat.uiowa.edu/~mbognar/1030/Bickel-Berkeley.pdf) found that female applicants disproportionately applied to highly competitive majors with low acceptance rates (e.g., English), while men more often applied to less competitive majors with higher acceptance rates. *More female applicants applying to competitive programs skewed the combined data, creating the appearance of bias against female applicants, when in many cases, women were either equally likely or more likely to be admitted compared to men in the same department.*"
   ]
  },
  {
   "cell_type": "markdown",
   "id": "71867367",
   "metadata": {},
   "source": [
    "Now let's see this phenomenon in practice! \n",
    "\n",
    "We have manipulated the `cal_data` and got the numbers for rejected and accepted count for both female and male in our 1973 admission data."
   ]
  },
  {
   "cell_type": "markdown",
   "id": "f9c9bca2",
   "metadata": {},
   "source": [
    "### Question 3b\n",
    "Assign the table `admissions` to one that contains the count of individuals rejected and accepted for both females and males.\n",
    "\n",
    "*Hint:* Using the `cal_data` table, we want the `\"Gender\"` column to be our columns, and the `\"Admission\"` column to be our rows."
   ]
  },
  {
   "cell_type": "code",
   "execution_count": null,
   "id": "904a5b10",
   "metadata": {
    "tags": []
   },
   "outputs": [],
   "source": [
    "admissions = ...\n",
    "admissions"
   ]
  },
  {
   "cell_type": "code",
   "execution_count": null,
   "id": "39bdeddc",
   "metadata": {
    "deletable": false,
    "editable": false
   },
   "outputs": [],
   "source": [
    "grader.check(\"q3b\")"
   ]
  },
  {
   "cell_type": "markdown",
   "id": "608a2020",
   "metadata": {},
   "source": [
    "### Question 3c\n",
    "We want to manually add a new column called `\"Acceptance Rate\"` with values of acceptance rates for females and males to the `admissions` table. Below, fill in the code to calculate the female and male acceptance rates, and from there, we supply the code that creates a new column with these rates. Acceptance rate should be calculated as accepted count divided by total count!\n",
    "\n",
    "*Hint:* You may find it helpful to use the `.column()` and `.item()` methods."
   ]
  },
  {
   "cell_type": "code",
   "execution_count": null,
   "id": "dc860ed5",
   "metadata": {
    "tags": []
   },
   "outputs": [],
   "source": [
    "f_acceptance_rate = ...\n",
    "m_acceptance_rate = ...\n",
    "acceptance_rates = make_array(f_acceptance_rate, m_acceptance_rate)\n",
    "admissions = admissions.with_column(\"Acceptance Rate\",  acceptance_rates)\n",
    "admissions"
   ]
  },
  {
   "cell_type": "code",
   "execution_count": null,
   "id": "0a72ab4e",
   "metadata": {
    "deletable": false,
    "editable": false
   },
   "outputs": [],
   "source": [
    "grader.check(\"q3c\")"
   ]
  },
  {
   "cell_type": "markdown",
   "id": "630a7c7a",
   "metadata": {},
   "source": [
    "<!-- BEGIN QUESTION -->\n",
    "\n",
    "### Question 3d\n",
    "Using the adjusted `admissions`, create a bar graph comparing the acceptance rate between female and male applicants."
   ]
  },
  {
   "cell_type": "code",
   "execution_count": null,
   "id": "31a5ba6e",
   "metadata": {
    "tags": []
   },
   "outputs": [],
   "source": [
    "..."
   ]
  },
  {
   "cell_type": "markdown",
   "id": "b01b8462",
   "metadata": {},
   "source": [
    "<!-- END QUESTION -->\n",
    "\n",
    "### Question 3e\n",
    "Which of the following most accurately describes the takeaway from the visualization created by `admissions` above? You should answer the question by assigning `q3e` to `make_array(...)` where `...` is the choice of your answer (eg. `make_array(3)`).\n",
    "\n",
    "1. Female applicants have higher chance of being accepted.\n",
    "2. Male applicants have higher chance of being accepted.\n",
    "3. Female and male applicants have the same amount chance of being accepted."
   ]
  },
  {
   "cell_type": "code",
   "execution_count": null,
   "id": "12fbd60d",
   "metadata": {
    "tags": []
   },
   "outputs": [],
   "source": [
    "q3e = ..."
   ]
  },
  {
   "cell_type": "code",
   "execution_count": null,
   "id": "543573e2",
   "metadata": {
    "deletable": false,
    "editable": false
   },
   "outputs": [],
   "source": [
    "grader.check(\"q3e\")"
   ]
  },
  {
   "cell_type": "markdown",
   "id": "8988cf8a",
   "metadata": {},
   "source": [
    "We see by simply utilizing `\"Gender\"` and `\"Admission\"` to calculate overall acceptance rates for graduate admissions, the male acceptance rate seems to be higher than the female acceptance rate. However, besides `\"Gender\"` and `\"Admission\"`, there was a third column in this table: `\"Major\"`. Let's investigate how the major will take into play with admission rate between these two recorded gender. (How \"grouping\" by major as described in Simpson's Paradox will affect the applicants' acceptance rate by gender).\n",
    "\n",
    "Below, we create two different tables using more complex functionalities of `.group()` and `.pivot()`. Take a look at the information we have gained using the `\"Major\"` feature below:"
   ]
  },
  {
   "cell_type": "code",
   "execution_count": null,
   "id": "c7f5cdec",
   "metadata": {},
   "outputs": [],
   "source": [
    "admission_major = cal_data.pivot('Gender', 'Major', collect = lambda x: sum(x == 'Accepted') / len(x), values = 'Admission')\n",
    "admission_major = admission_major.relabeled(['F', 'M'], ['F Acceptance Rate', 'M Acceptance Rate'])\n",
    "admission_major"
   ]
  },
  {
   "cell_type": "code",
   "execution_count": null,
   "id": "9ba08eec",
   "metadata": {},
   "outputs": [],
   "source": [
    "num_applicants = cal_data.group(['Major', 'Gender']).pivot('Gender', 'Major', collect = np.sum, values = 'count')\n",
    "num_applicants = num_applicants.relabeled(['F', 'M'], ['F Application Count', 'M Application Count'])\n",
    "num_applicants"
   ]
  },
  {
   "cell_type": "markdown",
   "id": "c0dd7d7b",
   "metadata": {},
   "source": [
    "<!-- BEGIN QUESTION -->\n",
    "\n",
    "### Question 3f\n",
    "Using `admission_major` and `num_applicants`, create two separate overlaid bar charts. The first one will plot the number of applicants of males and females across the six majors, and the second will plot their acceptance rates in the majors."
   ]
  },
  {
   "cell_type": "code",
   "execution_count": null,
   "id": "7edcb044",
   "metadata": {
    "tags": []
   },
   "outputs": [],
   "source": [
    "...\n",
    "..."
   ]
  },
  {
   "cell_type": "markdown",
   "id": "260131ea",
   "metadata": {},
   "source": [
    "<!-- END QUESTION -->\n",
    "\n",
    "### Question 3g\n",
    "Which of the following multiple choice correcrly describes *the visualization created above* with `admission_major` and `num_applicants`? You should answer the question by assigning `q3g` to `make_array(...)` where `...` is the choice of your answer (eg. `make_array(3, 4)`). Your choice can be can multiple.\n",
    "\n",
    "1. Among the 6 different majors (not including `\"Other\"`, female applicants have a slightly higher chance of being accepted than male applicants in several majors\n",
    "2. Among the 6 different majors (not including `\"Other\"`), male applicants have a slightly higher chance of being accepted than female applicants in several majors.\n",
    "3. Overall, female applicants has higher chance of getting in to UC Berkeley.\n",
    "4. Overall, male applicants has higher chance of getting in to UC Berkeley. \n",
    "5. There seems to be **higher female applicants** to the major when there are **lower female acceptance rate** compared to male acceptance rate.  \n",
    "6. With the visualization above, we can claim there is structrual inequity against female women applicants. "
   ]
  },
  {
   "cell_type": "code",
   "execution_count": null,
   "id": "20a8e844",
   "metadata": {
    "tags": []
   },
   "outputs": [],
   "source": [
    "q3g = ..."
   ]
  },
  {
   "cell_type": "code",
   "execution_count": null,
   "id": "2f1aa059",
   "metadata": {
    "deletable": false,
    "editable": false
   },
   "outputs": [],
   "source": [
    "grader.check(\"q3g\")"
   ]
  },
  {
   "cell_type": "markdown",
   "id": "c4f73f25",
   "metadata": {},
   "source": [
    "---\n",
    "### Thinking about Implications 🤔"
   ]
  },
  {
   "cell_type": "markdown",
   "id": "2ee04cc2",
   "metadata": {},
   "source": [
    "<!-- BEGIN QUESTION -->\n",
    "\n",
    "### Question 3h (Discussion)\n",
    "Consider the takeaways that you had after looking at the different visualizations you created in **Questions 3d and 3f**. Based on what we've discussed regarding the various sociological paradigms, how do you think these conclusions best align with the paradigms?\n",
    "\n",
    "*Hint:* The conclusions might not line up perfectly with any one of the paradigms! Just feel free to reflect on which ones they might line up best or worst with. "
   ]
  },
  {
   "cell_type": "markdown",
   "id": "eac677d2",
   "metadata": {},
   "source": [
    "_Type your answer here, replacing this text._"
   ]
  },
  {
   "cell_type": "markdown",
   "id": "516f0169",
   "metadata": {},
   "source": [
    "<!-- END QUESTION -->\n",
    "\n",
    "<!-- BEGIN QUESTION -->\n",
    "\n",
    "### Question 3i (Discussion) \n",
    "A media company wants to make a report on UC Berkeley admissions. What would happen if they ONLY report with the visualization you created in **`Question 3d`**? How would this report potentially impact the society we see today?"
   ]
  },
  {
   "cell_type": "markdown",
   "id": "25a30917",
   "metadata": {},
   "source": [
    "_Type your answer here, replacing this text._"
   ]
  },
  {
   "cell_type": "markdown",
   "id": "3ba18def",
   "metadata": {},
   "source": [
    "<!-- END QUESTION -->\n",
    "\n",
    "# Done!\n",
    "\n",
    "Congrats! You've finished another Data 6 homework assignment! To submit your work, submit the zip file to the autograder assignment and the pdf to the written assignment, both in gradescope. Make sure to assign your pages for the written assignment!\n",
    "\n",
    "This homework is out of **38 points**. The point breakdown for this assignment is given in the table below:\n",
    "\n",
    "| **Category** | Points |\n",
    "| --- | --- |\n",
    "| Autograder | 18 |\n",
    "| Written | 20 |\n",
    "| **Total** | 38 |"
   ]
  },
  {
   "attachments": {},
   "cell_type": "markdown",
   "id": "c79a2a06",
   "metadata": {},
   "source": [
    "## Pets of Data 6\n",
    "**Spark** hopes you enjoyed Homework 2!\n",
    "\n",
    "<img src=\"spark.jpg\" width=\"40%\" alt=\"Brown dog chillin at the beach.\"/>"
   ]
  },
  {
   "cell_type": "markdown",
   "id": "dadb5857",
   "metadata": {},
   "source": [
    "## Submission\n",
    "\n",
    "Below, you will see two cells. Running the first cell will automatically generate a PDF of all questions that need to be manually graded, and running the second cell will automatically generate a zip with your autograded answers. You are responsible for submitting both the coding portion (the zip) and the written portion (the PDF) to their respective Gradescope portals. **Please save before exporting!**\n",
    "\n",
    "> **Important: You must correctly assign the pages of your PDF after you submit to the correct gradescope assignment. If your pages are not correctly assigned and/or not in the correct PDF format by the deadline, we reserve the right to award no points for your written work.**\n",
    "\n",
    "If there are issues with automatically generating the PDF in the first cell, you can try downloading the notebook as a PDF by colicking on `File -> Save and Export Notebook As... -> PDF`. If that doesn't work either, you can manually take screenshots of your answers to the manually graded questions and submit those. Either way, **you are responsible for ensuring your submision follows our requirements, we will NOT be granting regrade requests for submissions that don't follow instructions.**"
   ]
  },
  {
   "cell_type": "code",
   "execution_count": null,
   "id": "477b6f31",
   "metadata": {},
   "outputs": [],
   "source": [
    "from otter.export import export_notebook\n",
    "from os import path\n",
    "from IPython.display import display, HTML\n",
    "name = 'hw03'\n",
    "export_notebook(f\"{name}.ipynb\", filtering=True, pagebreaks=True)\n",
    "if(path.exists(f'{name}.pdf')):\n",
    "    display(HTML(f\"Download your PDF <a href='{name}.pdf' download>here</a>.\"))\n",
    "else:\n",
    "    print(\"\\n Pdf generation failed, please try the other methods described above\")"
   ]
  },
  {
   "cell_type": "code",
   "execution_count": null,
   "id": "6c0ace7f",
   "metadata": {},
   "outputs": [],
   "source": []
  },
  {
   "cell_type": "markdown",
   "id": "fdeb1318",
   "metadata": {
    "deletable": false,
    "editable": false
   },
   "source": [
    "## Submission\n",
    "\n",
    "Make sure you have run all cells in your notebook in order before running the cell below, so that all images/graphs appear in the output. The cell below will generate a zip file for you to submit. **Please save before exporting!**"
   ]
  },
  {
   "cell_type": "code",
   "execution_count": null,
   "id": "1e447b14",
   "metadata": {
    "deletable": false,
    "editable": false
   },
   "outputs": [],
   "source": [
    "# Save your notebook first, then run this cell to export your submission.\n",
    "grader.export(run_tests=True)"
   ]
  },
  {
   "cell_type": "markdown",
   "id": "b2d46226",
   "metadata": {},
   "source": [
    " "
   ]
  }
 ],
 "metadata": {
  "kernelspec": {
   "display_name": "Python 3 (ipykernel)",
   "language": "python",
   "name": "python3"
  },
  "language_info": {
   "codemirror_mode": {
    "name": "ipython",
    "version": 3
   },
   "file_extension": ".py",
   "mimetype": "text/x-python",
   "name": "python",
   "nbconvert_exporter": "python",
   "pygments_lexer": "ipython3",
   "version": "3.11.10"
  },
  "otter": {
   "OK_FORMAT": true,
   "tests": {
    "q1b": {
     "name": "q1b",
     "points": 3,
     "suites": [
      {
       "cases": [
        {
         "code": ">>> isinstance(islands, Table)\nTrue",
         "hidden": false,
         "locked": false
        },
        {
         "code": ">>> islands.labels == ('island', 'num penguins')\nTrue",
         "hidden": false,
         "locked": false
        },
        {
         "code": ">>> islands.num_rows == 3\nTrue",
         "hidden": false,
         "locked": false
        },
        {
         "code": ">>> islands.where(\"island\", \"Biscoe\").column('num penguins').item(0) == 163\nTrue",
         "hidden": false,
         "locked": false
        }
       ],
       "scored": true,
       "setup": "",
       "teardown": "",
       "type": "doctest"
      }
     ]
    },
    "q1d": {
     "name": "q1d",
     "points": 3,
     "suites": [
      {
       "cases": [
        {
         "code": ">>> isinstance(species, Table)\nTrue",
         "hidden": false,
         "locked": false
        },
        {
         "code": ">>> species.num_rows == 3\nTrue",
         "hidden": false,
         "locked": false
        },
        {
         "code": ">>> species.labels == (\"species\", \"bill_length_mm median\", \"bill_depth_mm median\", \"flipper_length_mm median\", \"body_mass_g median\")\nTrue",
         "hidden": false,
         "locked": false
        },
        {
         "code": ">>> species.where(\"species\", \"Adelie\").column(\"bill_depth_mm median\").item(0) == 18.4\nTrue",
         "hidden": false,
         "locked": false
        }
       ],
       "scored": true,
       "setup": "",
       "teardown": "",
       "type": "doctest"
      }
     ]
    },
    "q1e": {
     "name": "q1e",
     "points": 3,
     "suites": [
      {
       "cases": [
        {
         "code": ">>> isinstance(species_new, Table)\nTrue",
         "hidden": false,
         "locked": false
        },
        {
         "code": ">>> species_new.labels == ('species', 'bill_length_mm median', 'bill_depth_mm median', 'code')\nTrue",
         "hidden": false,
         "locked": false
        },
        {
         "code": ">>> species_new.num_rows == 3\nTrue",
         "hidden": false,
         "locked": false
        },
        {
         "code": ">>> species_new.where(\"species\", \"Gentoo\").first(\"code\") == \"G\"\nTrue",
         "hidden": false,
         "locked": false
        }
       ],
       "scored": true,
       "setup": "",
       "teardown": "",
       "type": "doctest"
      }
     ]
    },
    "q2a": {
     "name": "q2a",
     "points": 1,
     "suites": [
      {
       "cases": [
        {
         "code": ">>> any(isinstance(num_penguins, x) for x in (int, float))\nTrue",
         "hidden": false,
         "locked": false
        },
        {
         "code": ">>> 58 <= num_penguins <= 62\nTrue",
         "hidden": false,
         "locked": false
        }
       ],
       "scored": true,
       "setup": "",
       "teardown": "",
       "type": "doctest"
      }
     ]
    },
    "q3b": {
     "name": "q3b",
     "points": 2,
     "suites": [
      {
       "cases": [
        {
         "code": ">>> isinstance(admissions, Table)\nTrue",
         "hidden": false,
         "locked": false
        },
        {
         "code": ">>> admissions.column(\"Accepted\").item(0) == 1494\nTrue",
         "hidden": false,
         "locked": false
        }
       ],
       "scored": true,
       "setup": "",
       "teardown": "",
       "type": "doctest"
      }
     ]
    },
    "q3c": {
     "name": "q3c",
     "points": 3,
     "suites": [
      {
       "cases": [
        {
         "code": ">>> isinstance(admissions, Table)\nTrue",
         "hidden": false,
         "locked": false
        },
        {
         "code": ">>> round(admissions.column(\"Acceptance Rate\").item(0), 6) == 0.345753\nTrue",
         "hidden": false,
         "locked": false
        }
       ],
       "scored": true,
       "setup": "",
       "teardown": "",
       "type": "doctest"
      }
     ]
    },
    "q3e": {
     "name": "q3e",
     "points": [
      0,
      1
     ],
     "suites": [
      {
       "cases": [
        {
         "code": ">>> isinstance(q3e, np.ndarray)\nTrue",
         "hidden": false,
         "locked": false
        },
        {
         "code": ">>> q3e.item(0) == 2\nTrue",
         "hidden": false,
         "locked": false
        }
       ],
       "scored": true,
       "setup": "",
       "teardown": "",
       "type": "doctest"
      }
     ]
    },
    "q3g": {
     "name": "q3g",
     "points": [
      0,
      0.5,
      0.75,
      0.75
     ],
     "suites": [
      {
       "cases": [
        {
         "code": ">>> isinstance(q3g, np.ndarray)\nTrue",
         "hidden": false,
         "locked": false
        },
        {
         "code": ">>> len(q3g) == 2\nTrue",
         "hidden": false,
         "locked": false
        },
        {
         "code": ">>> 1 in q3g\nTrue",
         "hidden": false,
         "locked": false
        },
        {
         "code": ">>> 5 in q3g\nTrue",
         "hidden": false,
         "locked": false
        }
       ],
       "scored": true,
       "setup": "",
       "teardown": "",
       "type": "doctest"
      }
     ]
    }
   }
  }
 },
 "nbformat": 4,
 "nbformat_minor": 5
}
