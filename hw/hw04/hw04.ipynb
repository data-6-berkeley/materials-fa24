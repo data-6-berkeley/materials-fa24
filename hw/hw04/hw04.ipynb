{
 "cells": [
  {
   "cell_type": "code",
   "execution_count": 2,
   "id": "d91a8d1f",
   "metadata": {
    "deletable": false,
    "editable": false
   },
   "outputs": [],
   "source": [
    "# Initialize Otter\n",
    "import otter\n",
    "grader = otter.Notebook(\"hw04.ipynb\")"
   ]
  },
  {
   "cell_type": "markdown",
   "id": "a239a943",
   "metadata": {},
   "source": [
    "<img src=\"data6.png\" style=\"width: 15%; float: right; padding: 1%; margin-right: 2%;\"/>\n",
    "\n",
    "# Homework 4 – Control, Iteration, and Strings\n",
    "\n",
    "## Data 6, Fall 2024\n",
    "\n",
    "In this homework assignment, you will apply what you've learned about `if`-statements, `while` loops, string manipulation, and `for` loops.\n",
    "\n",
    "This homework is due on **Thursday, November 14th at 11:00PM**. You must submit the assignment to Gradescope. Submission instructions can be found at the bottom of this notebook. "
   ]
  },
  {
   "cell_type": "code",
   "execution_count": 3,
   "id": "a917c405",
   "metadata": {},
   "outputs": [],
   "source": [
    "from datascience import *\n",
    "import numpy as np\n",
    "from IPython.display import YouTubeVideo, HTML, display\n",
    "from ipywidgets import interact, widgets"
   ]
  },
  {
   "cell_type": "markdown",
   "id": "354cadff",
   "metadata": {},
   "source": [
    "<hr style=\"border: 5px solid #003262;\" />\n",
    "<hr style=\"border: 1px solid #fdb515;\" />\n",
    "\n",
    "\n",
    "# Part 1: Control Flow\n",
    "\n",
    "<br></br>\n",
    "<hr style=\"border: 1px solid #fdb515;\" />\n",
    "\n",
    "# Question 1 – Short-Circuit\n",
    "\n",
    "Your friend Lisa has defined the function `some_equal`, which takes in three arguments, `a`, `b`, and `c`. Lisa wants `some_equal` to return `True` if *at least two* of `a`, `b`, and `c` are equal to one another, and `False` otherwise; her implementation is defined in the following cell:"
   ]
  },
  {
   "cell_type": "code",
   "execution_count": 4,
   "id": "b335505b",
   "metadata": {},
   "outputs": [],
   "source": [
    "def some_equal(a, b, c):\n",
    "    return a == b or b == c or a == c or 1/0"
   ]
  },
  {
   "cell_type": "markdown",
   "id": "bdd65acf",
   "metadata": {},
   "source": [
    "Sometimes, `some_equal` works:"
   ]
  },
  {
   "cell_type": "code",
   "execution_count": 5,
   "id": "0fd7fa05",
   "metadata": {},
   "outputs": [
    {
     "data": {
      "text/plain": [
       "True"
      ]
     },
     "execution_count": 5,
     "metadata": {},
     "output_type": "execute_result"
    }
   ],
   "source": [
    "some_equal('hey', 'hi', 'hey')"
   ]
  },
  {
   "cell_type": "code",
   "execution_count": 6,
   "id": "063a5726",
   "metadata": {},
   "outputs": [
    {
     "data": {
      "text/plain": [
       "True"
      ]
     },
     "execution_count": 6,
     "metadata": {},
     "output_type": "execute_result"
    }
   ],
   "source": [
    "some_equal(3, 3, 3)"
   ]
  },
  {
   "cell_type": "markdown",
   "id": "ee44dff5",
   "metadata": {},
   "source": [
    "But other times..."
   ]
  },
  {
   "cell_type": "code",
   "execution_count": 7,
   "id": "b80f77fd",
   "metadata": {
    "tags": [
     "raises-exception"
    ]
   },
   "outputs": [
    {
     "ename": "ZeroDivisionError",
     "evalue": "division by zero",
     "output_type": "error",
     "traceback": [
      "\u001b[0;31m---------------------------------------------------------------------------\u001b[0m",
      "\u001b[0;31mZeroDivisionError\u001b[0m                         Traceback (most recent call last)",
      "Cell \u001b[0;32mIn[7], line 1\u001b[0m\n\u001b[0;32m----> 1\u001b[0m \u001b[43msome_equal\u001b[49m\u001b[43m(\u001b[49m\u001b[38;5;241;43m1\u001b[39;49m\u001b[43m,\u001b[49m\u001b[43m \u001b[49m\u001b[38;5;241;43m2\u001b[39;49m\u001b[43m,\u001b[49m\u001b[43m \u001b[49m\u001b[38;5;241;43m4\u001b[39;49m\u001b[43m)\u001b[49m\n",
      "Cell \u001b[0;32mIn[4], line 2\u001b[0m, in \u001b[0;36msome_equal\u001b[0;34m(a, b, c)\u001b[0m\n\u001b[1;32m      1\u001b[0m \u001b[38;5;28;01mdef\u001b[39;00m \u001b[38;5;21msome_equal\u001b[39m(a, b, c):\n\u001b[0;32m----> 2\u001b[0m     \u001b[38;5;28;01mreturn\u001b[39;00m a \u001b[38;5;241m==\u001b[39m b \u001b[38;5;129;01mor\u001b[39;00m b \u001b[38;5;241m==\u001b[39m c \u001b[38;5;129;01mor\u001b[39;00m a \u001b[38;5;241m==\u001b[39m c \u001b[38;5;129;01mor\u001b[39;00m \u001b[38;5;241;43m1\u001b[39;49m\u001b[38;5;241;43m/\u001b[39;49m\u001b[38;5;241;43m0\u001b[39;49m\n",
      "\u001b[0;31mZeroDivisionError\u001b[0m: division by zero"
     ]
    }
   ],
   "source": [
    "some_equal(1, 2, 4)"
   ]
  },
  {
   "cell_type": "markdown",
   "id": "af459104",
   "metadata": {},
   "source": [
    "<!-- BEGIN QUESTION -->\n",
    "\n",
    "Jedi shows you his code and asks:\n",
    "> \"Why don't I get a `division by zero` error in the first two examples?\"\n",
    "\n",
    "_Hint_: Think about \"short circuiting\" in python.\n"
   ]
  },
  {
   "cell_type": "markdown",
   "id": "9db61d29",
   "metadata": {},
   "source": [
    "_Type your answer here, replacing this text._"
   ]
  },
  {
   "cell_type": "markdown",
   "id": "5ed83b71",
   "metadata": {},
   "source": [
    "<!-- END QUESTION -->\n",
    "\n",
    "<br></br>\n",
    "<hr style=\"border: 1px solid #fdb515;\" />\n",
    "\n",
    "# Question 2 – Death and Taxes\n",
    "\n",
    "The United States, like many countries, uses a progressive tax bracket system. This means that as your earnings increase, the percentage of your earnings you owe in tax also increases. In addition, the US tax system uses marginal tax brackets – meaning taxpayers pay different tax percentages on different \"chunks\" of their earnings.\n",
    "\n",
    "Suppose the tax brackets for the 2023 tax year are defined by the table below. This is close to the actual bracket structure, but for simplicity, we'll use 4 brackets instead of 7.\n",
    "\n",
    "| Tax Rate | Taxable Income                |\n",
    "|----------|--------------------------------|\n",
    "| 10\\%      | \\$0 \\to \\$11,000                  |\n",
    "| 12\\%      | \\$11,001 \\to \\$44,725             |\n",
    "| 22\\%      | \\$44,726 \\to \\$95,375             |\n",
    "| 24\\%      | \\$95,376 or more                |\n",
    "\n",
    "**You will need to use these numbers throughout this question.**\n",
    "\n",
    "\n",
    "\n",
    "**Notes:**\n",
    "- All incomes are integers. \n",
    "- \"Taxable Income\" refers to the part of one's income that is taxable. In the US, there is a \"standard deduction,\" which can be thought of as a discount on your taxes. In this assignment, we won't worry about deductions.\n",
    "\n",
    "If someone has a taxable income of 60,000, they are in the 22\\% tax bracket. However, such an individual doesn't owe 22 percent of \\$60,000 in taxes. Instead, they owe:\n",
    "- 10\\% of \\$11,000, **plus**\n",
    "- 12\\% of \\$33,725 (\\$44,725 - \\$11,000), **plus**\n",
    "- 22\\% of \\$15,275 (\\$60,000 - \\$44,725)\n",
    "\n",
    "for a total of \\$8,507.50 (`0.1 * 11,000 + 0.12 * 33,725 + 0.22 * 15,275 = 8,507.50`). This makes their effective tax rate $\\frac{8507.50}{60000} \\approx 0.1418$, or about 14.18%.\n",
    "\n",
    "\n",
    "If you want to read more about the US federal income tax system, click [here](https://www.taxpolicycenter.org/briefing-book/how-do-federal-income-tax-rates-work).\n"
   ]
  },
  {
   "cell_type": "markdown",
   "id": "8dfa78af",
   "metadata": {},
   "source": [
    "---\n",
    "## Question 2a\n",
    "\n",
    "Complete the implementation of the function `tax_bracket`, which takes in a taxable income as a number (`income`) and returns the tax bracket (as a decimal) it is in. For instance, `tax_bracket(60000)` should evaluate to `0.22` and `tax_bracket(402150)` should evaluate to `0.24`.\n",
    "\n",
    "_Hint_: Use what you know about `if-elif-else` blocks to your advantage!\n"
   ]
  },
  {
   "cell_type": "code",
   "execution_count": null,
   "id": "39534db6",
   "metadata": {
    "tags": []
   },
   "outputs": [],
   "source": [
    "def tax_bracket(income):\n",
    "    if ...:\n",
    "        ...\n",
    "    elif ...:\n",
    "        ...\n",
    "    elif:\n",
    "        ...\n",
    "    else:\n",
    "    ..."
   ]
  },
  {
   "cell_type": "code",
   "execution_count": null,
   "id": "cf013d7c",
   "metadata": {
    "deletable": false,
    "editable": false
   },
   "outputs": [],
   "source": [
    "grader.check(\"q2a\")"
   ]
  },
  {
   "cell_type": "markdown",
   "id": "5978d95a",
   "metadata": {},
   "source": [
    "---\n",
    "## Question 2b\n",
    "\n",
    "Complete the implementation of `tax_owed`, which takes in a taxable income (`income`) and returns the amount of tax owed by an individual with that taxable income. For instance, `tax_owed(60000)` should evaluate to `8507.5`.\n",
    "\n",
    "**Note**: The code you write for this question might get a little long – but that's okay! Take it one step at a time.\n",
    "\n",
    "For your convenience, here's the tax bracket table again:\n",
    "\n",
    "| Tax Rate | Taxable Income                |\n",
    "|----------|--------------------------------|\n",
    "| 10\\%      | \\$0 \\to \\$11,000                  |\n",
    "| 12\\%      | \\$11,001 \\to \\$44,725             |\n",
    "| 22\\%      | \\$44,726 \\to \\$95,375             |\n",
    "| 24\\%      | \\$95,376 or more                |\n"
   ]
  },
  {
   "cell_type": "code",
   "execution_count": null,
   "id": "575f9013",
   "metadata": {
    "tags": []
   },
   "outputs": [],
   "source": [
    "def tax_owed(income):\n",
    "    if ...:\n",
    "        ...\n",
    "    elif ...:\n",
    "        ...\n",
    "    elif:\n",
    "        ...\n",
    "    else:\n",
    "    ..."
   ]
  },
  {
   "cell_type": "code",
   "execution_count": null,
   "id": "10f7b365",
   "metadata": {
    "deletable": false,
    "editable": false
   },
   "outputs": [],
   "source": [
    "grader.check(\"q2b\")"
   ]
  },
  {
   "cell_type": "markdown",
   "id": "f9513e80",
   "metadata": {},
   "source": [
    "---\n",
    "## Question 2c\n",
    "\n",
    "Finally, complete the implementation of `effective_tax_rate`, which takes in a taxable income (`income`) and returns the effective tax rate for an individual with that taxable income, as a decimal. For instance, `effective_tax_rate(60000)` should evaluate to approximately `0.149833`.\n",
    "\n",
    "*Note*: If `income` is 0, your `effective_tax_rate` function should also return 0. Make sure you handle this case in your function!\n",
    "\n",
    "_Hint_: You should use your `tax_owed` function. Our entire solution is only three lines, but you may use more than that if necessary."
   ]
  },
  {
   "cell_type": "code",
   "execution_count": null,
   "id": "ffb351eb",
   "metadata": {
    "tags": []
   },
   "outputs": [],
   "source": [
    "def effective_tax_rate(income):\n",
    "    ..."
   ]
  },
  {
   "cell_type": "code",
   "execution_count": null,
   "id": "fe8e196d",
   "metadata": {
    "deletable": false,
    "editable": false
   },
   "outputs": [],
   "source": [
    "grader.check(\"q2c\")"
   ]
  },
  {
   "cell_type": "markdown",
   "id": "2f3ba06b",
   "metadata": {},
   "source": [
    "---\n",
    "## Fun Demo\n",
    "\n",
    "You just did all of the math necessary to build an income tax calculator, like the ones you see on many financial websites. Run the following cell once you've completed the rest of this question!"
   ]
  },
  {
   "cell_type": "code",
   "execution_count": null,
   "id": "a6d79edf",
   "metadata": {},
   "outputs": [],
   "source": [
    "# Don't worry about the code, just play with the slider that appears after running.\n",
    "def plot_income_calculator(income):\n",
    "    s = f'''\n",
    "    <div style=\"font-family: Arial, sans-serif; text-align: center;\">\n",
    "        <div style=\"margin-bottom: 20px;\">\n",
    "            <h1 style=\"font-size: 36px; color: #80B2D9;\">${'{:,.2f}'.format(income)}</h1>\n",
    "            <h3 style=\"color: #6c757d;\">Taxable Income</h3>\n",
    "        </div>\n",
    "        \n",
    "        <div style=\"margin-bottom: 20px;\">\n",
    "            <h1 style=\"font-size: 36px; color: #AAE895;\">${'{:,.2f}'.format(tax_owed(income))}</h1>\n",
    "            <h3 style=\"color: #6c757d;\">Tax Owed</h3>\n",
    "        </div>\n",
    "        \n",
    "        <div>\n",
    "            <h1 style=\"font-size: 36px; color: #F99D81;\">{'{:,.1f}'.format((100 * effective_tax_rate(income))) + '%'}</h1>\n",
    "            <h3 style=\"color: #6c757d;\">Effective Tax Rate</h3>\n",
    "        </div>\n",
    "    </div>\n",
    "    '''\n",
    "    \n",
    "    display(HTML(s))\n",
    "    \n",
    "interact(plot_income_calculator, income=widgets.IntSlider(min=0, max=200000, step=500, value=100000));"
   ]
  },
  {
   "cell_type": "markdown",
   "id": "617a1ce2",
   "metadata": {},
   "source": [
    "<hr style=\"border: 5px solid #003262;\" />\n",
    "<hr style=\"border: 1px solid #fdb515;\" />\n",
    "\n",
    "# Part 2: `for` Loops\n",
    "\n",
    "<br></br>\n",
    "<hr style=\"border: 1px solid #fdb515;\" />\n",
    "\n",
    "# Question 3 – For Loop Fundamentals \n",
    "\n",
    "In this problem, you will practice writing for loops. For reference, the function `sum_first_n` defined below computes the sum of the first `n` positive integers."
   ]
  },
  {
   "cell_type": "code",
   "execution_count": null,
   "id": "baa6229a",
   "metadata": {},
   "outputs": [],
   "source": [
    "# Run this cell!\n",
    "def sum_first_n(n):\n",
    "    total = 0\n",
    "    for i in np.arange(1, n + 1):\n",
    "        total = total + i\n",
    "    return total"
   ]
  },
  {
   "cell_type": "code",
   "execution_count": null,
   "id": "42a295b8",
   "metadata": {},
   "outputs": [],
   "source": [
    "# 1 + 2 + 3\n",
    "sum_first_n(3)"
   ]
  },
  {
   "cell_type": "code",
   "execution_count": null,
   "id": "9d0bf242",
   "metadata": {},
   "outputs": [],
   "source": [
    "# 1 + 2 + 3 + 4 + 5 + 6 + 7 + 8 + 9 + 10\n",
    "sum_first_n(10)"
   ]
  },
  {
   "cell_type": "markdown",
   "id": "fe3d92dd",
   "metadata": {},
   "source": [
    "---\n",
    "## Question 3a\n",
    "\n",
    "Complete the implementation of the function `sum_first_n_cubes`, which takes in an integer `n` and returns the sum of the cubes of the first `n` positive integers. Example behavior is shown below. The code next to `>>>` is an example function call, and the following line is the desired output of that function call.\n",
    "\n",
    "```python\n",
    ">>> sum_first_n_squares(3) \n",
    "14 # 1^3 + 2^3 + 3^3\n",
    "\n",
    ">>> sum_first_n_squares(10)\n",
    "385 # 1^3 + 2^3 + 3^3 + ... + 9^3 + 10^3\n",
    "```\n",
    "*Hint*: Start with the example for loop given above; you should not have to modify much.\n"
   ]
  },
  {
   "cell_type": "code",
   "execution_count": null,
   "id": "9ed1dd15",
   "metadata": {
    "tags": []
   },
   "outputs": [],
   "source": [
    "def sum_first_n_cubes(n):\n",
    "    ..."
   ]
  },
  {
   "cell_type": "code",
   "execution_count": null,
   "id": "f21ca190",
   "metadata": {
    "deletable": false,
    "editable": false
   },
   "outputs": [],
   "source": [
    "grader.check(\"q3a\")"
   ]
  },
  {
   "cell_type": "markdown",
   "id": "ed671f1b",
   "metadata": {},
   "source": [
    "---\n",
    "## Question 3b\n",
    "\n",
    "Complete the implementation of the function `alternating_product`, which takes in an array of numbers `values` and returns the product of every third in `values`, starting with element `0`. Example behavior is shown below.\n",
    "\n",
    "```py\n",
    ">>> alternating_product(make_array(2, 8.5, 1, 9))\n",
    "18 # 2 * 9\n",
    "\n",
    ">>> alternating_product(make_array(2, 8.5, 9, 4.5, 1))\n",
    "9.0 # 2 * 4.5\n",
    "```\n",
    "\n",
    "*Hint*: Review how `np.arange` works – in particular, `np.arange(start, stop, step)`.\n"
   ]
  },
  {
   "cell_type": "code",
   "execution_count": null,
   "id": "df1fbf7e",
   "metadata": {
    "tags": []
   },
   "outputs": [],
   "source": [
    "def alternating_product(values):\n",
    "    ..."
   ]
  },
  {
   "cell_type": "code",
   "execution_count": null,
   "id": "b989426c",
   "metadata": {
    "deletable": false,
    "editable": false
   },
   "outputs": [],
   "source": [
    "grader.check(\"q3b\")"
   ]
  },
  {
   "cell_type": "markdown",
   "id": "56467a8a",
   "metadata": {},
   "source": [
    "---\n",
    "## Question 3c\n",
    "\n",
    "Complete the implementation of the function `only_uppercase`, which takes in a string `s` and returns a new string containing only the uppercase characters in `s`. Example behavior is shown below.\n",
    "\n",
    "```py\n",
    ">>> only_uppercase('University of California, BerkelEY')\n",
    "'UCBEY'\n",
    "\n",
    ">>> only_uppercase('now THiS!')\n",
    "'THS'\n",
    "```\n",
    "\n",
    "*Hint*: Use `.isupper()` on each character individually. Confused about what `.isupper()` will do? Try checking its documentation by Googling the function name.\n"
   ]
  },
  {
   "cell_type": "code",
   "execution_count": null,
   "id": "b3bf2e43",
   "metadata": {
    "tags": []
   },
   "outputs": [],
   "source": [
    "def only_uppercase(s):\n",
    "    output = ''\n",
    "    for char in s:\n",
    "        ...\n",
    "    return output"
   ]
  },
  {
   "cell_type": "code",
   "execution_count": null,
   "id": "e929ba3b",
   "metadata": {
    "deletable": false,
    "editable": false
   },
   "outputs": [],
   "source": [
    "grader.check(\"q3c\")"
   ]
  },
  {
   "cell_type": "markdown",
   "id": "e9ce337b",
   "metadata": {},
   "source": [
    "<br></br>\n",
    "<hr style=\"border: 1px solid #fdb515;\" />\n",
    "\n",
    "# Question 4 – Billboard Charts 📈\n",
    "\n",
    "Run the cell below to load in data from the Billboard charts in the 2010s. If you're unfamiliar with the *Billboard Top 100*, you can read about the chart [here](https://www.billboard.com/charts/)."
   ]
  },
  {
   "cell_type": "code",
   "execution_count": 8,
   "id": "fc413306",
   "metadata": {},
   "outputs": [
    {
     "data": {
      "text/html": [
       "<table border=\"1\" class=\"dataframe\">\n",
       "    <thead>\n",
       "        <tr>\n",
       "            <th>Artists</th> <th>Name</th> <th>Weekly.rank</th> <th>Peak.position</th> <th>Weeks.on.chart</th> <th>Week</th> <th>Date</th> <th>Genre</th> <th>Features</th>\n",
       "        </tr>\n",
       "    </thead>\n",
       "    <tbody>\n",
       "        <tr>\n",
       "            <td>Lil Nas,                 </td> <td>Old Town Road     </td> <td>1          </td> <td>1            </td> <td>7             </td> <td>2019-07-06</td> <td>April 5, 2019     </td> <td>Country,Atlanta,Alternative Country,Hip-Hop,Trap,Memes,R ...</td> <td>Billy Ray Cyrus</td>\n",
       "        </tr>\n",
       "        <tr>\n",
       "            <td>Billie Eilish            </td> <td>Bad Guy           </td> <td>3          </td> <td>2            </td> <td>13            </td> <td>2019-07-06</td> <td>March 29, 2019    </td> <td>Hip-Hop,Dark Pop,House,Trap,Memes,Alternative Dance,Alte ...</td> <td>nan            </td>\n",
       "        </tr>\n",
       "        <tr>\n",
       "            <td>Khalid                   </td> <td>Talk              </td> <td>4          </td> <td>3            </td> <td>20            </td> <td>2019-07-06</td> <td>February 7, 2019  </td> <td>Synth-Pop,Pop                                               </td> <td>nan            </td>\n",
       "        </tr>\n",
       "        <tr>\n",
       "            <td>Ed Sheeran, Justin Bieber</td> <td>I Don't Care      </td> <td>5          </td> <td>2            </td> <td>7             </td> <td>2019-07-06</td> <td>May 10, 2019      </td> <td>Canada,UK,Dance,Dance-Pop,Pop                               </td> <td>nan            </td>\n",
       "        </tr>\n",
       "        <tr>\n",
       "            <td>Jonas Brothers           </td> <td>Sucker            </td> <td>6          </td> <td>1            </td> <td>17            </td> <td>2019-07-06</td> <td>March 1, 2019     </td> <td>Alternative Pop,Boy Band,Teen Pop,Pop-Rock,Pop              </td> <td>nan            </td>\n",
       "        </tr>\n",
       "        <tr>\n",
       "            <td>DaBaby                   </td> <td>Suge              </td> <td>7          </td> <td>7            </td> <td>13            </td> <td>2019-07-06</td> <td>March 1, 2019     </td> <td>Trap,East Coast,Rap                                         </td> <td>nan            </td>\n",
       "        </tr>\n",
       "        <tr>\n",
       "            <td>Drake                    </td> <td>Money In The Grave</td> <td>8          </td> <td>7            </td> <td>2             </td> <td>2019-07-06</td> <td>June 15, 2019     </td> <td>Hip-Hop,Rap,Basketball,NBA,Canada                           </td> <td>Rick Ross      </td>\n",
       "        </tr>\n",
       "        <tr>\n",
       "            <td>Chris Brown              </td> <td>No Guidance       </td> <td>9          </td> <td>9            </td> <td>3             </td> <td>2019-07-06</td> <td>June 8, 2019      </td> <td>Alternative R&;B,Hip-Hop,Rap,Pop,DMV,Canada,R&;B            </td> <td>Drake          </td>\n",
       "        </tr>\n",
       "        <tr>\n",
       "            <td>Post Malone              </td> <td>Wow.              </td> <td>10         </td> <td>2            </td> <td>27            </td> <td>2019-07-06</td> <td>December 24, 2018 </td> <td>Memes,Hip-Hop,Trap,Rap                                      </td> <td>nan            </td>\n",
       "        </tr>\n",
       "        <tr>\n",
       "            <td>Lizzo                    </td> <td>Truth Hurts       </td> <td>11         </td> <td>11           </td> <td>8             </td> <td>2019-07-06</td> <td>September 19, 2017</td> <td>Pop,Rap                                                     </td> <td>nan            </td>\n",
       "        </tr>\n",
       "    </tbody>\n",
       "</table>\n",
       "<p>... (40416 rows omitted)</p>"
      ],
      "text/plain": [
       "Artists                   | Name               | Weekly.rank | Peak.position | Weeks.on.chart | Week       | Date               | Genre                                                        | Features\n",
       "Lil Nas,                  | Old Town Road      | 1           | 1             | 7              | 2019-07-06 | April 5, 2019      | Country,Atlanta,Alternative Country,Hip-Hop,Trap,Memes,R ... | Billy Ray Cyrus\n",
       "Billie Eilish             | Bad Guy            | 3           | 2             | 13             | 2019-07-06 | March 29, 2019     | Hip-Hop,Dark Pop,House,Trap,Memes,Alternative Dance,Alte ... | nan\n",
       "Khalid                    | Talk               | 4           | 3             | 20             | 2019-07-06 | February 7, 2019   | Synth-Pop,Pop                                                | nan\n",
       "Ed Sheeran, Justin Bieber | I Don't Care       | 5           | 2             | 7              | 2019-07-06 | May 10, 2019       | Canada,UK,Dance,Dance-Pop,Pop                                | nan\n",
       "Jonas Brothers            | Sucker             | 6           | 1             | 17             | 2019-07-06 | March 1, 2019      | Alternative Pop,Boy Band,Teen Pop,Pop-Rock,Pop               | nan\n",
       "DaBaby                    | Suge               | 7           | 7             | 13             | 2019-07-06 | March 1, 2019      | Trap,East Coast,Rap                                          | nan\n",
       "Drake                     | Money In The Grave | 8           | 7             | 2              | 2019-07-06 | June 15, 2019      | Hip-Hop,Rap,Basketball,NBA,Canada                            | Rick Ross\n",
       "Chris Brown               | No Guidance        | 9           | 9             | 3              | 2019-07-06 | June 8, 2019       | Alternative R&;B,Hip-Hop,Rap,Pop,DMV,Canada,R&;B             | Drake\n",
       "Post Malone               | Wow.               | 10          | 2             | 27             | 2019-07-06 | December 24, 2018  | Memes,Hip-Hop,Trap,Rap                                       | nan\n",
       "Lizzo                     | Truth Hurts        | 11          | 11            | 8              | 2019-07-06 | September 19, 2017 | Pop,Rap                                                      | nan\n",
       "... (40416 rows omitted)"
      ]
     },
     "execution_count": 8,
     "metadata": {},
     "output_type": "execute_result"
    }
   ],
   "source": [
    "# Run this cell!\n",
    "billboard = Table.read_table('billboard-2010.csv')\n",
    "billboard"
   ]
  },
  {
   "cell_type": "markdown",
   "id": "6fbfb316",
   "metadata": {},
   "source": [
    "Artists and fans alike like to keep track of the most consecutive weeks a song has been ranked #1 on the Billboard 200. For example, run the cell below to look at data regarding Drake's hit \"One Dance\" from 2016:"
   ]
  },
  {
   "cell_type": "code",
   "execution_count": 9,
   "id": "9e0803eb",
   "metadata": {},
   "outputs": [
    {
     "data": {
      "text/html": [
       "<table border=\"1\" class=\"dataframe\">\n",
       "    <thead>\n",
       "        <tr>\n",
       "            <th>Artists</th> <th>Name</th> <th>Week</th> <th>Weekly.rank</th>\n",
       "        </tr>\n",
       "    </thead>\n",
       "    <tbody>\n",
       "        <tr>\n",
       "            <td>Drake  </td> <td>One Dance</td> <td>2016-04-30</td> <td>13         </td>\n",
       "        </tr>\n",
       "        <tr>\n",
       "            <td>Drake  </td> <td>One Dance</td> <td>2016-05-07</td> <td>3          </td>\n",
       "        </tr>\n",
       "        <tr>\n",
       "            <td>Drake  </td> <td>One Dance</td> <td>2016-05-14</td> <td>2          </td>\n",
       "        </tr>\n",
       "        <tr>\n",
       "            <td>Drake  </td> <td>One Dance</td> <td>2016-05-21</td> <td>1          </td>\n",
       "        </tr>\n",
       "        <tr>\n",
       "            <td>Drake  </td> <td>One Dance</td> <td>2016-05-28</td> <td>2          </td>\n",
       "        </tr>\n",
       "        <tr>\n",
       "            <td>Drake  </td> <td>One Dance</td> <td>2016-06-04</td> <td>1          </td>\n",
       "        </tr>\n",
       "        <tr>\n",
       "            <td>Drake  </td> <td>One Dance</td> <td>2016-06-11</td> <td>1          </td>\n",
       "        </tr>\n",
       "        <tr>\n",
       "            <td>Drake  </td> <td>One Dance</td> <td>2016-06-18</td> <td>1          </td>\n",
       "        </tr>\n",
       "        <tr>\n",
       "            <td>Drake  </td> <td>One Dance</td> <td>2016-06-25</td> <td>1          </td>\n",
       "        </tr>\n",
       "        <tr>\n",
       "            <td>Drake  </td> <td>One Dance</td> <td>2016-07-02</td> <td>1          </td>\n",
       "        </tr>\n",
       "        <tr>\n",
       "            <td>Drake  </td> <td>One Dance</td> <td>2016-07-09</td> <td>1          </td>\n",
       "        </tr>\n",
       "        <tr>\n",
       "            <td>Drake  </td> <td>One Dance</td> <td>2016-07-16</td> <td>1          </td>\n",
       "        </tr>\n",
       "        <tr>\n",
       "            <td>Drake  </td> <td>One Dance</td> <td>2016-07-23</td> <td>1          </td>\n",
       "        </tr>\n",
       "        <tr>\n",
       "            <td>Drake  </td> <td>One Dance</td> <td>2016-07-30</td> <td>1          </td>\n",
       "        </tr>\n",
       "        <tr>\n",
       "            <td>Drake  </td> <td>One Dance</td> <td>2016-08-06</td> <td>2          </td>\n",
       "        </tr>\n",
       "    </tbody>\n",
       "</table>\n",
       "<p>... (20 rows omitted)</p>"
      ],
      "text/plain": [
       "<IPython.core.display.HTML object>"
      ]
     },
     "metadata": {},
     "output_type": "display_data"
    }
   ],
   "source": [
    "# Run this cell!\n",
    "billboard.where('Name', 'One Dance').select('Artists', 'Name', 'Week', 'Weekly.rank').sort('Week').show(15)"
   ]
  },
  {
   "cell_type": "markdown",
   "id": "c3c55672",
   "metadata": {},
   "source": [
    "According to the above table, it seems like One Dance was ranked #1 for 9 consecutive weeks at one point – pretty impressive!\n",
    "\n",
    "---\n",
    "## Question 4a\n",
    "Below, complete the implementation of the function `one_streak`, which takes in an array `charts` representing the position of a song in the Billboard 200 over several consecutive weeks and returns the most consecutive weeks that song was ranked **#1.** Example behavior is shown below.\n",
    "\n",
    "```py\n",
    ">>> one_streak(make_array(13, 3, 2, 1, 2, 1, 1, 1, 1, 1, 1, 1, 1, 1, 2, 3, 2, 5, 7, 8))\n",
    "9\n",
    "\n",
    ">>> one_streak(make_array(4, 1, 1, 1, 2, 3, 11, 1, 1, 1, 1, 1))\n",
    "5\n",
    "\n",
    ">>> one_streak(make_array(5, 4, 1, 1, 1, 3, 2, 1, 2, 3))\n",
    "3\n",
    "```\n"
   ]
  },
  {
   "cell_type": "code",
   "execution_count": 10,
   "id": "16d79eb6",
   "metadata": {
    "tags": []
   },
   "outputs": [],
   "source": [
    "def one_streak(charts):\n",
    "    longest = ...\n",
    "    current = ...\n",
    "    for num in charts:\n",
    "        if num == 1:\n",
    "            current = ...\n",
    "        else:\n",
    "            longest = ...\n",
    "            current = ...\n",
    "\n",
    "    # Ask yourself – why are we returning max(longest, current) instead of just current?\n",
    "    return max(longest, current)"
   ]
  },
  {
   "cell_type": "code",
   "execution_count": 11,
   "id": "7550091d",
   "metadata": {
    "deletable": false,
    "editable": false
   },
   "outputs": [
    {
     "data": {
      "text/html": [
       "<p><strong style='color: red;'><pre style='display: inline;'>q4a</pre> results:</strong></p><p><strong><pre style='display: inline;'>q4a - 1</pre> result:</strong></p><pre>    ✅ Test case passed</pre><p><strong><pre style='display: inline;'>q4a - 2</pre> result:</strong></p><pre>    ❌ Test case failed\n",
       "    Trying:\n",
       "        one_streak(make_array(13, 3, 2, 1, 2, 1, 1, 1, 1, 1, 1, 1, 1, 1, 2, 3, 2, 5, 7, 8)) == 9\n",
       "    Expecting:\n",
       "        True\n",
       "    **********************************************************************\n",
       "    Line 1, in q4a 1\n",
       "    Failed example:\n",
       "        one_streak(make_array(13, 3, 2, 1, 2, 1, 1, 1, 1, 1, 1, 1, 1, 1, 2, 3, 2, 5, 7, 8)) == 9\n",
       "    Exception raised:\n",
       "        Traceback (most recent call last):\n",
       "          File \"/srv/conda/lib/python3.11/doctest.py\", line 1355, in __run\n",
       "            exec(compile(example.source, filename, \"single\",\n",
       "          File \"<doctest q4a 1[0]>\", line 1, in <module>\n",
       "            one_streak(make_array(13, 3, 2, 1, 2, 1, 1, 1, 1, 1, 1, 1, 1, 1, 2, 3, 2, 5, 7, 8)) == 9\n",
       "            ^^^^^^^^^^^^^^^^^^^^^^^^^^^^^^^^^^^^^^^^^^^^^^^^^^^^^^^^^^^^^^^^^^^^^^^^^^^^^^^^^^^\n",
       "          File \"/tmp/ipykernel_86/1790042463.py\", line 12, in one_streak\n",
       "            return max(longest, current)\n",
       "                   ^^^^^^^^^^^^^^^^^^^^^\n",
       "        TypeError: '>' not supported between instances of 'ellipsis' and 'ellipsis'\n",
       "</pre><p><strong><pre style='display: inline;'>q4a - 3</pre> result:</strong></p><pre>    ❌ Test case failed\n",
       "    Trying:\n",
       "        one_streak(make_array(4, 1, 1, 1, 2, 3, 11, 1, 1, 1, 1, 1)) == 5\n",
       "    Expecting:\n",
       "        True\n",
       "    **********************************************************************\n",
       "    Line 1, in q4a 2\n",
       "    Failed example:\n",
       "        one_streak(make_array(4, 1, 1, 1, 2, 3, 11, 1, 1, 1, 1, 1)) == 5\n",
       "    Exception raised:\n",
       "        Traceback (most recent call last):\n",
       "          File \"/srv/conda/lib/python3.11/doctest.py\", line 1355, in __run\n",
       "            exec(compile(example.source, filename, \"single\",\n",
       "          File \"<doctest q4a 2[0]>\", line 1, in <module>\n",
       "            one_streak(make_array(4, 1, 1, 1, 2, 3, 11, 1, 1, 1, 1, 1)) == 5\n",
       "            ^^^^^^^^^^^^^^^^^^^^^^^^^^^^^^^^^^^^^^^^^^^^^^^^^^^^^^^^^^^\n",
       "          File \"/tmp/ipykernel_86/1790042463.py\", line 12, in one_streak\n",
       "            return max(longest, current)\n",
       "                   ^^^^^^^^^^^^^^^^^^^^^\n",
       "        TypeError: '>' not supported between instances of 'ellipsis' and 'ellipsis'\n",
       "</pre><p><strong><pre style='display: inline;'>q4a - 4</pre> result:</strong></p><pre>    ❌ Test case failed\n",
       "    Trying:\n",
       "        one_streak(make_array(5, 4, 1, 1, 1, 3, 2, 1, 2, 3)) == 3\n",
       "    Expecting:\n",
       "        True\n",
       "    **********************************************************************\n",
       "    Line 1, in q4a 3\n",
       "    Failed example:\n",
       "        one_streak(make_array(5, 4, 1, 1, 1, 3, 2, 1, 2, 3)) == 3\n",
       "    Exception raised:\n",
       "        Traceback (most recent call last):\n",
       "          File \"/srv/conda/lib/python3.11/doctest.py\", line 1355, in __run\n",
       "            exec(compile(example.source, filename, \"single\",\n",
       "          File \"<doctest q4a 3[0]>\", line 1, in <module>\n",
       "            one_streak(make_array(5, 4, 1, 1, 1, 3, 2, 1, 2, 3)) == 3\n",
       "            ^^^^^^^^^^^^^^^^^^^^^^^^^^^^^^^^^^^^^^^^^^^^^^^^^^^^\n",
       "          File \"/tmp/ipykernel_86/1790042463.py\", line 12, in one_streak\n",
       "            return max(longest, current)\n",
       "                   ^^^^^^^^^^^^^^^^^^^^^\n",
       "        TypeError: '>' not supported between instances of 'ellipsis' and 'ellipsis'\n",
       "</pre><p><strong><pre style='display: inline;'>q4a - 5</pre> result:</strong></p><pre>    ❌ Test case failed\n",
       "    Trying:\n",
       "        one_streak(make_array(1, 2, 3, 4, 5)) == 1\n",
       "    Expecting:\n",
       "        True\n",
       "    **********************************************************************\n",
       "    Line 1, in q4a 4\n",
       "    Failed example:\n",
       "        one_streak(make_array(1, 2, 3, 4, 5)) == 1\n",
       "    Exception raised:\n",
       "        Traceback (most recent call last):\n",
       "          File \"/srv/conda/lib/python3.11/doctest.py\", line 1355, in __run\n",
       "            exec(compile(example.source, filename, \"single\",\n",
       "          File \"<doctest q4a 4[0]>\", line 1, in <module>\n",
       "            one_streak(make_array(1, 2, 3, 4, 5)) == 1\n",
       "            ^^^^^^^^^^^^^^^^^^^^^^^^^^^^^^^^^^^^^\n",
       "          File \"/tmp/ipykernel_86/1790042463.py\", line 12, in one_streak\n",
       "            return max(longest, current)\n",
       "                   ^^^^^^^^^^^^^^^^^^^^^\n",
       "        TypeError: '>' not supported between instances of 'ellipsis' and 'ellipsis'\n",
       "</pre><p><strong><pre style='display: inline;'>q4a - 6</pre> result:</strong></p><pre>    ❌ Test case failed\n",
       "    Trying:\n",
       "        one_streak(make_array(3, 4, 5, 6, 7, 2, 3, 4, 5, 6, 7)) == 0\n",
       "    Expecting:\n",
       "        True\n",
       "    **********************************************************************\n",
       "    Line 1, in q4a 5\n",
       "    Failed example:\n",
       "        one_streak(make_array(3, 4, 5, 6, 7, 2, 3, 4, 5, 6, 7)) == 0\n",
       "    Exception raised:\n",
       "        Traceback (most recent call last):\n",
       "          File \"/srv/conda/lib/python3.11/doctest.py\", line 1355, in __run\n",
       "            exec(compile(example.source, filename, \"single\",\n",
       "          File \"<doctest q4a 5[0]>\", line 1, in <module>\n",
       "            one_streak(make_array(3, 4, 5, 6, 7, 2, 3, 4, 5, 6, 7)) == 0\n",
       "            ^^^^^^^^^^^^^^^^^^^^^^^^^^^^^^^^^^^^^^^^^^^^^^^^^^^^^^^\n",
       "          File \"/tmp/ipykernel_86/1790042463.py\", line 12, in one_streak\n",
       "            return max(longest, current)\n",
       "                   ^^^^^^^^^^^^^^^^^^^^^\n",
       "        TypeError: '>' not supported between instances of 'ellipsis' and 'ellipsis'\n",
       "</pre><p><strong><pre style='display: inline;'>q4a - 7</pre> result:</strong></p><pre>    ❌ Test case failed\n",
       "    Trying:\n",
       "        one_streak(make_array()) == 0\n",
       "    Expecting:\n",
       "        True\n",
       "    **********************************************************************\n",
       "    Line 1, in q4a 6\n",
       "    Failed example:\n",
       "        one_streak(make_array()) == 0\n",
       "    Exception raised:\n",
       "        Traceback (most recent call last):\n",
       "          File \"/srv/conda/lib/python3.11/doctest.py\", line 1355, in __run\n",
       "            exec(compile(example.source, filename, \"single\",\n",
       "          File \"<doctest q4a 6[0]>\", line 1, in <module>\n",
       "            one_streak(make_array()) == 0\n",
       "            ^^^^^^^^^^^^^^^^^^^^^^^^\n",
       "          File \"/tmp/ipykernel_86/1790042463.py\", line 12, in one_streak\n",
       "            return max(longest, current)\n",
       "                   ^^^^^^^^^^^^^^^^^^^^^\n",
       "        TypeError: '>' not supported between instances of 'ellipsis' and 'ellipsis'\n",
       "</pre>"
      ],
      "text/plain": [
       "q4a results:\n",
       "    q4a - 1 result:\n",
       "        ✅ Test case passed\n",
       "\n",
       "    q4a - 2 result:\n",
       "        ❌ Test case failed\n",
       "        Trying:\n",
       "            one_streak(make_array(13, 3, 2, 1, 2, 1, 1, 1, 1, 1, 1, 1, 1, 1, 2, 3, 2, 5, 7, 8)) == 9\n",
       "        Expecting:\n",
       "            True\n",
       "        **********************************************************************\n",
       "        Line 1, in q4a 1\n",
       "        Failed example:\n",
       "            one_streak(make_array(13, 3, 2, 1, 2, 1, 1, 1, 1, 1, 1, 1, 1, 1, 2, 3, 2, 5, 7, 8)) == 9\n",
       "        Exception raised:\n",
       "            Traceback (most recent call last):\n",
       "              File \"/srv/conda/lib/python3.11/doctest.py\", line 1355, in __run\n",
       "                exec(compile(example.source, filename, \"single\",\n",
       "              File \"<doctest q4a 1[0]>\", line 1, in <module>\n",
       "                one_streak(make_array(13, 3, 2, 1, 2, 1, 1, 1, 1, 1, 1, 1, 1, 1, 2, 3, 2, 5, 7, 8)) == 9\n",
       "                ^^^^^^^^^^^^^^^^^^^^^^^^^^^^^^^^^^^^^^^^^^^^^^^^^^^^^^^^^^^^^^^^^^^^^^^^^^^^^^^^^^^\n",
       "              File \"/tmp/ipykernel_86/1790042463.py\", line 12, in one_streak\n",
       "                return max(longest, current)\n",
       "                       ^^^^^^^^^^^^^^^^^^^^^\n",
       "            TypeError: '>' not supported between instances of 'ellipsis' and 'ellipsis'\n",
       "\n",
       "    q4a - 3 result:\n",
       "        ❌ Test case failed\n",
       "        Trying:\n",
       "            one_streak(make_array(4, 1, 1, 1, 2, 3, 11, 1, 1, 1, 1, 1)) == 5\n",
       "        Expecting:\n",
       "            True\n",
       "        **********************************************************************\n",
       "        Line 1, in q4a 2\n",
       "        Failed example:\n",
       "            one_streak(make_array(4, 1, 1, 1, 2, 3, 11, 1, 1, 1, 1, 1)) == 5\n",
       "        Exception raised:\n",
       "            Traceback (most recent call last):\n",
       "              File \"/srv/conda/lib/python3.11/doctest.py\", line 1355, in __run\n",
       "                exec(compile(example.source, filename, \"single\",\n",
       "              File \"<doctest q4a 2[0]>\", line 1, in <module>\n",
       "                one_streak(make_array(4, 1, 1, 1, 2, 3, 11, 1, 1, 1, 1, 1)) == 5\n",
       "                ^^^^^^^^^^^^^^^^^^^^^^^^^^^^^^^^^^^^^^^^^^^^^^^^^^^^^^^^^^^\n",
       "              File \"/tmp/ipykernel_86/1790042463.py\", line 12, in one_streak\n",
       "                return max(longest, current)\n",
       "                       ^^^^^^^^^^^^^^^^^^^^^\n",
       "            TypeError: '>' not supported between instances of 'ellipsis' and 'ellipsis'\n",
       "\n",
       "    q4a - 4 result:\n",
       "        ❌ Test case failed\n",
       "        Trying:\n",
       "            one_streak(make_array(5, 4, 1, 1, 1, 3, 2, 1, 2, 3)) == 3\n",
       "        Expecting:\n",
       "            True\n",
       "        **********************************************************************\n",
       "        Line 1, in q4a 3\n",
       "        Failed example:\n",
       "            one_streak(make_array(5, 4, 1, 1, 1, 3, 2, 1, 2, 3)) == 3\n",
       "        Exception raised:\n",
       "            Traceback (most recent call last):\n",
       "              File \"/srv/conda/lib/python3.11/doctest.py\", line 1355, in __run\n",
       "                exec(compile(example.source, filename, \"single\",\n",
       "              File \"<doctest q4a 3[0]>\", line 1, in <module>\n",
       "                one_streak(make_array(5, 4, 1, 1, 1, 3, 2, 1, 2, 3)) == 3\n",
       "                ^^^^^^^^^^^^^^^^^^^^^^^^^^^^^^^^^^^^^^^^^^^^^^^^^^^^\n",
       "              File \"/tmp/ipykernel_86/1790042463.py\", line 12, in one_streak\n",
       "                return max(longest, current)\n",
       "                       ^^^^^^^^^^^^^^^^^^^^^\n",
       "            TypeError: '>' not supported between instances of 'ellipsis' and 'ellipsis'\n",
       "\n",
       "    q4a - 5 result:\n",
       "        ❌ Test case failed\n",
       "        Trying:\n",
       "            one_streak(make_array(1, 2, 3, 4, 5)) == 1\n",
       "        Expecting:\n",
       "            True\n",
       "        **********************************************************************\n",
       "        Line 1, in q4a 4\n",
       "        Failed example:\n",
       "            one_streak(make_array(1, 2, 3, 4, 5)) == 1\n",
       "        Exception raised:\n",
       "            Traceback (most recent call last):\n",
       "              File \"/srv/conda/lib/python3.11/doctest.py\", line 1355, in __run\n",
       "                exec(compile(example.source, filename, \"single\",\n",
       "              File \"<doctest q4a 4[0]>\", line 1, in <module>\n",
       "                one_streak(make_array(1, 2, 3, 4, 5)) == 1\n",
       "                ^^^^^^^^^^^^^^^^^^^^^^^^^^^^^^^^^^^^^\n",
       "              File \"/tmp/ipykernel_86/1790042463.py\", line 12, in one_streak\n",
       "                return max(longest, current)\n",
       "                       ^^^^^^^^^^^^^^^^^^^^^\n",
       "            TypeError: '>' not supported between instances of 'ellipsis' and 'ellipsis'\n",
       "\n",
       "    q4a - 6 result:\n",
       "        ❌ Test case failed\n",
       "        Trying:\n",
       "            one_streak(make_array(3, 4, 5, 6, 7, 2, 3, 4, 5, 6, 7)) == 0\n",
       "        Expecting:\n",
       "            True\n",
       "        **********************************************************************\n",
       "        Line 1, in q4a 5\n",
       "        Failed example:\n",
       "            one_streak(make_array(3, 4, 5, 6, 7, 2, 3, 4, 5, 6, 7)) == 0\n",
       "        Exception raised:\n",
       "            Traceback (most recent call last):\n",
       "              File \"/srv/conda/lib/python3.11/doctest.py\", line 1355, in __run\n",
       "                exec(compile(example.source, filename, \"single\",\n",
       "              File \"<doctest q4a 5[0]>\", line 1, in <module>\n",
       "                one_streak(make_array(3, 4, 5, 6, 7, 2, 3, 4, 5, 6, 7)) == 0\n",
       "                ^^^^^^^^^^^^^^^^^^^^^^^^^^^^^^^^^^^^^^^^^^^^^^^^^^^^^^^\n",
       "              File \"/tmp/ipykernel_86/1790042463.py\", line 12, in one_streak\n",
       "                return max(longest, current)\n",
       "                       ^^^^^^^^^^^^^^^^^^^^^\n",
       "            TypeError: '>' not supported between instances of 'ellipsis' and 'ellipsis'\n",
       "\n",
       "    q4a - 7 result:\n",
       "        ❌ Test case failed\n",
       "        Trying:\n",
       "            one_streak(make_array()) == 0\n",
       "        Expecting:\n",
       "            True\n",
       "        **********************************************************************\n",
       "        Line 1, in q4a 6\n",
       "        Failed example:\n",
       "            one_streak(make_array()) == 0\n",
       "        Exception raised:\n",
       "            Traceback (most recent call last):\n",
       "              File \"/srv/conda/lib/python3.11/doctest.py\", line 1355, in __run\n",
       "                exec(compile(example.source, filename, \"single\",\n",
       "              File \"<doctest q4a 6[0]>\", line 1, in <module>\n",
       "                one_streak(make_array()) == 0\n",
       "                ^^^^^^^^^^^^^^^^^^^^^^^^\n",
       "              File \"/tmp/ipykernel_86/1790042463.py\", line 12, in one_streak\n",
       "                return max(longest, current)\n",
       "                       ^^^^^^^^^^^^^^^^^^^^^\n",
       "            TypeError: '>' not supported between instances of 'ellipsis' and 'ellipsis'"
      ]
     },
     "execution_count": 11,
     "metadata": {},
     "output_type": "execute_result"
    }
   ],
   "source": [
    "grader.check(\"q4a\")"
   ]
  },
  {
   "cell_type": "markdown",
   "id": "a3c741c0",
   "metadata": {},
   "source": [
    "---\n",
    "## Question 4b\n",
    "\n",
    "Now that you've successfully defined the `one_streak` function, it's time to put it to use! In the following cell, assign `feeling_streak` to the most consecutive weeks that **I Gotta Feeling by the Black Eye Peas** was ranked #1 on the *Billboard Hot 100*.\n",
    "\n",
    "*Hint*: You'll need to use the `billboard` table.\n"
   ]
  },
  {
   "cell_type": "code",
   "execution_count": 12,
   "id": "7091dc3e",
   "metadata": {
    "tags": []
   },
   "outputs": [
    {
     "data": {
      "text/plain": [
       "Ellipsis"
      ]
     },
     "execution_count": 12,
     "metadata": {},
     "output_type": "execute_result"
    }
   ],
   "source": [
    "feeling_array = ...\n",
    "feeling_streak = ...\n",
    "feeling_streak"
   ]
  },
  {
   "cell_type": "code",
   "execution_count": 13,
   "id": "bfa75723",
   "metadata": {
    "deletable": false,
    "editable": false
   },
   "outputs": [
    {
     "data": {
      "text/html": [
       "<p><strong style='color: red;'><pre style='display: inline;'>q4b</pre> results:</strong></p><p><strong><pre style='display: inline;'>q4b - 1</pre> result:</strong></p><pre>    ❌ Test case failed\n",
       "    Trying:\n",
       "        type(feeling_streak) in set([int, np.int32, np.int64])\n",
       "    Expecting:\n",
       "        True\n",
       "    **********************************************************************\n",
       "    Line 1, in q4b 0\n",
       "    Failed example:\n",
       "        type(feeling_streak) in set([int, np.int32, np.int64])\n",
       "    Expected:\n",
       "        True\n",
       "    Got:\n",
       "        False\n",
       "</pre><p><strong><pre style='display: inline;'>q4b - 2</pre> result:</strong></p><pre>    ❌ Test case failed\n",
       "    Trying:\n",
       "        feeling_streak == 14\n",
       "    Expecting:\n",
       "        True\n",
       "    **********************************************************************\n",
       "    Line 1, in q4b 1\n",
       "    Failed example:\n",
       "        feeling_streak == 14\n",
       "    Expected:\n",
       "        True\n",
       "    Got:\n",
       "        False\n",
       "</pre>"
      ],
      "text/plain": [
       "q4b results:\n",
       "    q4b - 1 result:\n",
       "        ❌ Test case failed\n",
       "        Trying:\n",
       "            type(feeling_streak) in set([int, np.int32, np.int64])\n",
       "        Expecting:\n",
       "            True\n",
       "        **********************************************************************\n",
       "        Line 1, in q4b 0\n",
       "        Failed example:\n",
       "            type(feeling_streak) in set([int, np.int32, np.int64])\n",
       "        Expected:\n",
       "            True\n",
       "        Got:\n",
       "            False\n",
       "\n",
       "    q4b - 2 result:\n",
       "        ❌ Test case failed\n",
       "        Trying:\n",
       "            feeling_streak == 14\n",
       "        Expecting:\n",
       "            True\n",
       "        **********************************************************************\n",
       "        Line 1, in q4b 1\n",
       "        Failed example:\n",
       "            feeling_streak == 14\n",
       "        Expected:\n",
       "            True\n",
       "        Got:\n",
       "            False"
      ]
     },
     "execution_count": 13,
     "metadata": {},
     "output_type": "execute_result"
    }
   ],
   "source": [
    "grader.check(\"q4b\")"
   ]
  },
  {
   "cell_type": "markdown",
   "id": "fba59a85",
   "metadata": {},
   "source": [
    "---\n",
    "## Question 4c\n",
    "\n",
    "Now, using what you have learned up to this point, find the longest artist streak, meaning the longest streak in which the artist has held the $\\#1$ spot, for the artist who spent the most weeks with a song ranked $\\#1$ in the `billboard` table. \n",
    "\n",
    "**Assign that value to `top_artist_streak` and assign the name of the Artist to `top_ranked_artist`**. You may use as many lines as you'd like.\n",
    "\n",
    "\n",
    "This question may be challenging, but remember to chunk it into smaller pieces and use the [reference sheet](https://data6.org/fa24/reference) when you need it.\n",
    "\n",
    "*Hint*: You'll need to use multiple methods for this question\n"
   ]
  },
  {
   "cell_type": "code",
   "execution_count": 14,
   "id": "06a0c11e",
   "metadata": {
    "tags": []
   },
   "outputs": [],
   "source": [
    "...\n",
    "top_ranked_artist = ...\n",
    "...\n",
    "top_artist_streak = ..."
   ]
  },
  {
   "cell_type": "code",
   "execution_count": 15,
   "id": "6f253312",
   "metadata": {
    "deletable": false,
    "editable": false
   },
   "outputs": [
    {
     "data": {
      "text/html": [
       "<p><strong style='color: red;'><pre style='display: inline;'>q4c</pre> results:</strong></p><p><strong><pre style='display: inline;'>q4c - 1</pre> result:</strong></p><pre>    ❌ Test case failed\n",
       "    Trying:\n",
       "        type(top_ranked_artist) == str\n",
       "    Expecting:\n",
       "        True\n",
       "    **********************************************************************\n",
       "    Line 1, in q4c 0\n",
       "    Failed example:\n",
       "        type(top_ranked_artist) == str\n",
       "    Expected:\n",
       "        True\n",
       "    Got:\n",
       "        False\n",
       "</pre><p><strong><pre style='display: inline;'>q4c - 2</pre> result:</strong></p><pre>    ❌ Test case failed\n",
       "    Trying:\n",
       "        \"Adele\" <= top_ranked_artist <= \"Usher\"\n",
       "    Expecting:\n",
       "        True\n",
       "    **********************************************************************\n",
       "    Line 1, in q4c 1\n",
       "    Failed example:\n",
       "        \"Adele\" <= top_ranked_artist <= \"Usher\"\n",
       "    Exception raised:\n",
       "        Traceback (most recent call last):\n",
       "          File \"/srv/conda/lib/python3.11/doctest.py\", line 1355, in __run\n",
       "            exec(compile(example.source, filename, \"single\",\n",
       "          File \"<doctest q4c 1[0]>\", line 1, in <module>\n",
       "            \"Adele\" <= top_ranked_artist <= \"Usher\"\n",
       "        TypeError: '<=' not supported between instances of 'str' and 'ellipsis'\n",
       "</pre><p><strong><pre style='display: inline;'>q4c - 3</pre> result:</strong></p><pre>    ❌ Test case failed\n",
       "    Trying:\n",
       "        type(top_artist_streak) in set([int, np.int32, np.int64])\n",
       "    Expecting:\n",
       "        True\n",
       "    **********************************************************************\n",
       "    Line 1, in q4c 2\n",
       "    Failed example:\n",
       "        type(top_artist_streak) in set([int, np.int32, np.int64])\n",
       "    Expected:\n",
       "        True\n",
       "    Got:\n",
       "        False\n",
       "</pre><p><strong><pre style='display: inline;'>q4c - 4</pre> result:</strong></p><pre>    ❌ Test case failed\n",
       "    Trying:\n",
       "        10 <= top_artist_streak <= 40\n",
       "    Expecting:\n",
       "        True\n",
       "    **********************************************************************\n",
       "    Line 1, in q4c 3\n",
       "    Failed example:\n",
       "        10 <= top_artist_streak <= 40\n",
       "    Exception raised:\n",
       "        Traceback (most recent call last):\n",
       "          File \"/srv/conda/lib/python3.11/doctest.py\", line 1355, in __run\n",
       "            exec(compile(example.source, filename, \"single\",\n",
       "          File \"<doctest q4c 3[0]>\", line 1, in <module>\n",
       "            10 <= top_artist_streak <= 40\n",
       "        TypeError: '<=' not supported between instances of 'int' and 'ellipsis'\n",
       "</pre><p><strong><pre style='display: inline;'>q4c - 5</pre> result:</strong></p><pre>    ❌ Test case failed\n",
       "    Trying:\n",
       "        top_ranked_artist == \"Drake\"\n",
       "    Expecting:\n",
       "        True\n",
       "    **********************************************************************\n",
       "    Line 1, in q4c 4\n",
       "    Failed example:\n",
       "        top_ranked_artist == \"Drake\"\n",
       "    Expected:\n",
       "        True\n",
       "    Got:\n",
       "        False\n",
       "</pre><p><strong><pre style='display: inline;'>q4c - 6</pre> result:</strong></p><pre>    ❌ Test case failed\n",
       "    Trying:\n",
       "        top_artist_streak == 15\n",
       "    Expecting:\n",
       "        True\n",
       "    **********************************************************************\n",
       "    Line 1, in q4c 5\n",
       "    Failed example:\n",
       "        top_artist_streak == 15\n",
       "    Expected:\n",
       "        True\n",
       "    Got:\n",
       "        False\n",
       "</pre>"
      ],
      "text/plain": [
       "q4c results:\n",
       "    q4c - 1 result:\n",
       "        ❌ Test case failed\n",
       "        Trying:\n",
       "            type(top_ranked_artist) == str\n",
       "        Expecting:\n",
       "            True\n",
       "        **********************************************************************\n",
       "        Line 1, in q4c 0\n",
       "        Failed example:\n",
       "            type(top_ranked_artist) == str\n",
       "        Expected:\n",
       "            True\n",
       "        Got:\n",
       "            False\n",
       "\n",
       "    q4c - 2 result:\n",
       "        ❌ Test case failed\n",
       "        Trying:\n",
       "            \"Adele\" <= top_ranked_artist <= \"Usher\"\n",
       "        Expecting:\n",
       "            True\n",
       "        **********************************************************************\n",
       "        Line 1, in q4c 1\n",
       "        Failed example:\n",
       "            \"Adele\" <= top_ranked_artist <= \"Usher\"\n",
       "        Exception raised:\n",
       "            Traceback (most recent call last):\n",
       "              File \"/srv/conda/lib/python3.11/doctest.py\", line 1355, in __run\n",
       "                exec(compile(example.source, filename, \"single\",\n",
       "              File \"<doctest q4c 1[0]>\", line 1, in <module>\n",
       "                \"Adele\" <= top_ranked_artist <= \"Usher\"\n",
       "            TypeError: '<=' not supported between instances of 'str' and 'ellipsis'\n",
       "\n",
       "    q4c - 3 result:\n",
       "        ❌ Test case failed\n",
       "        Trying:\n",
       "            type(top_artist_streak) in set([int, np.int32, np.int64])\n",
       "        Expecting:\n",
       "            True\n",
       "        **********************************************************************\n",
       "        Line 1, in q4c 2\n",
       "        Failed example:\n",
       "            type(top_artist_streak) in set([int, np.int32, np.int64])\n",
       "        Expected:\n",
       "            True\n",
       "        Got:\n",
       "            False\n",
       "\n",
       "    q4c - 4 result:\n",
       "        ❌ Test case failed\n",
       "        Trying:\n",
       "            10 <= top_artist_streak <= 40\n",
       "        Expecting:\n",
       "            True\n",
       "        **********************************************************************\n",
       "        Line 1, in q4c 3\n",
       "        Failed example:\n",
       "            10 <= top_artist_streak <= 40\n",
       "        Exception raised:\n",
       "            Traceback (most recent call last):\n",
       "              File \"/srv/conda/lib/python3.11/doctest.py\", line 1355, in __run\n",
       "                exec(compile(example.source, filename, \"single\",\n",
       "              File \"<doctest q4c 3[0]>\", line 1, in <module>\n",
       "                10 <= top_artist_streak <= 40\n",
       "            TypeError: '<=' not supported between instances of 'int' and 'ellipsis'\n",
       "\n",
       "    q4c - 5 result:\n",
       "        ❌ Test case failed\n",
       "        Trying:\n",
       "            top_ranked_artist == \"Drake\"\n",
       "        Expecting:\n",
       "            True\n",
       "        **********************************************************************\n",
       "        Line 1, in q4c 4\n",
       "        Failed example:\n",
       "            top_ranked_artist == \"Drake\"\n",
       "        Expected:\n",
       "            True\n",
       "        Got:\n",
       "            False\n",
       "\n",
       "    q4c - 6 result:\n",
       "        ❌ Test case failed\n",
       "        Trying:\n",
       "            top_artist_streak == 15\n",
       "        Expecting:\n",
       "            True\n",
       "        **********************************************************************\n",
       "        Line 1, in q4c 5\n",
       "        Failed example:\n",
       "            top_artist_streak == 15\n",
       "        Expected:\n",
       "            True\n",
       "        Got:\n",
       "            False"
      ]
     },
     "execution_count": 15,
     "metadata": {},
     "output_type": "execute_result"
    }
   ],
   "source": [
    "grader.check(\"q4c\")"
   ]
  },
  {
   "cell_type": "markdown",
   "id": "fdccd11f",
   "metadata": {},
   "source": [
    "<hr style=\"border: 5px solid #003262;\" />\n",
    "<hr style=\"border: 1px solid #fdb515;\" />\n",
    "\n",
    "# Part 3: `while` Loops\n",
    "\n",
    "<br></br>\n",
    "<hr style=\"border: 1px solid #fdb515;\" />\n",
    "\n",
    "# Question 5 – Secrets!\n",
    "\n",
    "We have some secret function that takes in a value `x`. Find the smallest positive integer x that results in `secret` returning True, and store it in the variable `answer1`. Then, find the smallest number that is a power of 2 (e.g. 1, 2, 4, 8, ...) that results in `secret` returning True, and store it in the variable `answer2`. "
   ]
  },
  {
   "cell_type": "code",
   "execution_count": 16,
   "id": "06c4d9b4",
   "metadata": {},
   "outputs": [],
   "source": [
    "import hashlib\n",
    "\n",
    "def secret(x):\n",
    "    x_hash = int(hashlib.sha256(str(x).encode()).hexdigest(), 16)\n",
    "    return (x_hash % 997) == 42"
   ]
  },
  {
   "cell_type": "code",
   "execution_count": null,
   "id": "fd0a3d4d",
   "metadata": {
    "tags": []
   },
   "outputs": [],
   "source": []
  },
  {
   "cell_type": "code",
   "execution_count": null,
   "id": "f90d0b80",
   "metadata": {
    "deletable": false,
    "editable": false
   },
   "outputs": [],
   "source": [
    "grader.check(\"q5\")"
   ]
  },
  {
   "cell_type": "markdown",
   "id": "8a44538c",
   "metadata": {},
   "source": [
    "# Done!\n",
    "\n",
    "Congrats!\n",
    "\n",
    "The point breakdown for this assignment is given in the table below:\n",
    "\n",
    "| **Category** | Points |\n",
    "| --- | --- |\n",
    "| Autograder | 28 |\n",
    "| Written  | 2 |\n",
    "| **Total** | 30 |"
   ]
  },
  {
   "attachments": {},
   "cell_type": "markdown",
   "id": "573e31c6",
   "metadata": {},
   "source": [
    "## Pets of Data 6\n",
    "Haeley says congrats on finishing homework 4!\n",
    "\n",
    "<img src=\"haeley.jpeg\" width=\"50%\" alt=\"A gray cat staring at the camera.\"/>"
   ]
  },
  {
   "cell_type": "markdown",
   "id": "5f60c6ab",
   "metadata": {},
   "source": [
    "## Submission\n",
    "\n",
    "Below, you will see two cells. Running the first cell will automatically generate a PDF of all questions that need to be manually graded, and running the second cell will automatically generate a zip with your autograded answers. You are responsible for submitting both the coding portion (the zip) and the written portion (the PDF) to their respective Gradescope portals. **Please save before exporting!**\n",
    "\n",
    "> **Important: You must correctly assign the pages of your PDF after you submit to the correct gradescope assignment. If your pages are not correctly assigned and/or not in the correct PDF format by the deadline, we reserve the right to award no points for your written work.**\n",
    "\n",
    "If there are issues with automatically generating the PDF in the first cell, you can try downloading the notebook as a PDF by colicking on `File -> Save and Export Notebook As... -> PDF`. If that doesn't work either, you can manually take screenshots of your answers to the manually graded questions and submit those. Either way, **you are responsible for ensuring your submision follows our requirements, we will NOT be granting regrade requests for submissions that don't follow instructions.**"
   ]
  },
  {
   "cell_type": "code",
   "execution_count": null,
   "id": "9acc70fe",
   "metadata": {},
   "outputs": [],
   "source": [
    "from otter.export import export_notebook\n",
    "from os import path\n",
    "from IPython.display import display, HTML\n",
    "name = 'hw04'\n",
    "export_notebook(f\"{name}.ipynb\", filtering=True, pagebreaks=True)\n",
    "if(path.exists(f'{name}.pdf')):\n",
    "    display(HTML(f\"Download your PDF <a href='{name}.pdf' download>here</a>.\"))\n",
    "else:\n",
    "    print(\"\\n Pdf generation failed, please try the other methods described above\")"
   ]
  },
  {
   "cell_type": "markdown",
   "id": "bd032ef7",
   "metadata": {
    "deletable": false,
    "editable": false
   },
   "source": [
    "## Submission\n",
    "\n",
    "Make sure you have run all cells in your notebook in order before running the cell below, so that all images/graphs appear in the output. The cell below will generate a zip file for you to submit. **Please save before exporting!**"
   ]
  },
  {
   "cell_type": "code",
   "execution_count": null,
   "id": "5055321f",
   "metadata": {
    "deletable": false,
    "editable": false
   },
   "outputs": [],
   "source": [
    "# Save your notebook first, then run this cell to export your submission.\n",
    "grader.export(run_tests=True)"
   ]
  },
  {
   "cell_type": "markdown",
   "id": "629cc053",
   "metadata": {},
   "source": [
    " "
   ]
  }
 ],
 "metadata": {
  "kernelspec": {
   "display_name": "Python 3 (ipykernel)",
   "language": "python",
   "name": "python3"
  },
  "language_info": {
   "codemirror_mode": {
    "name": "ipython",
    "version": 3
   },
   "file_extension": ".py",
   "mimetype": "text/x-python",
   "name": "python",
   "nbconvert_exporter": "python",
   "pygments_lexer": "ipython3",
   "version": "3.11.10"
  },
  "otter": {
   "OK_FORMAT": true,
   "tests": {
    "q2a": {
     "name": "q2a",
     "points": 2,
     "suites": [
      {
       "cases": [
        {
         "code": ">>> callable(tax_bracket)\nTrue",
         "hidden": false,
         "locked": false
        },
        {
         "code": ">>> tax_bracket(60000) == 0.22\nTrue",
         "hidden": false,
         "locked": false
        },
        {
         "code": ">>> tax_bracket(402150) == 0.24\nTrue",
         "hidden": false,
         "locked": false
        },
        {
         "code": ">>> tax_bracket(40125) == 0.12\nTrue",
         "hidden": false,
         "locked": false
        },
        {
         "code": ">>> tax_bracket(1) == 0.1\nTrue",
         "hidden": false,
         "locked": false
        }
       ],
       "scored": true,
       "setup": "",
       "teardown": "",
       "type": "doctest"
      }
     ]
    },
    "q2b": {
     "name": "q2b",
     "points": 3,
     "suites": [
      {
       "cases": [
        {
         "code": ">>> callable(tax_owed)\nTrue",
         "hidden": false,
         "locked": false
        },
        {
         "code": ">>> np.isclose(tax_owed(150), 15.0)\nTrue",
         "hidden": false,
         "locked": false
        },
        {
         "code": ">>> np.isclose(tax_owed(12000), 1220.0)\nTrue",
         "hidden": false,
         "locked": false
        },
        {
         "code": ">>> np.isclose(tax_owed(60000), 8507.5)\nTrue",
         "hidden": false,
         "locked": false
        },
        {
         "code": ">>> np.isclose(tax_owed(420150), 94236.0)\nTrue",
         "hidden": false,
         "locked": false
        }
       ],
       "scored": true,
       "setup": "",
       "teardown": "",
       "type": "doctest"
      }
     ]
    },
    "q2c": {
     "name": "q2c",
     "points": 2,
     "suites": [
      {
       "cases": [
        {
         "code": ">>> np.isclose(effective_tax_rate(60000), 0.1417916666)\nTrue",
         "hidden": false,
         "locked": false
        },
        {
         "code": ">>> np.isclose(effective_tax_rate(12000), 0.1016666)\nTrue",
         "hidden": false,
         "locked": false
        },
        {
         "code": ">>> np.isclose(effective_tax_rate(420150), 0.2242913)\nTrue",
         "hidden": false,
         "locked": false
        },
        {
         "code": ">>> # If you fail this test, make sure you address the case where if income is equal to 0, you return 0!\n>>> effective_tax_rate(0) == 0\nTrue",
         "hidden": false,
         "locked": false
        }
       ],
       "scored": true,
       "setup": "",
       "teardown": "",
       "type": "doctest"
      }
     ]
    },
    "q3a": {
     "name": "q3a",
     "points": 2,
     "suites": [
      {
       "cases": [
        {
         "code": ">>> callable(sum_first_n_cubes)\nTrue",
         "hidden": false,
         "locked": false
        },
        {
         "code": ">>> sum_first_n_cubes(3) == 36\nTrue",
         "hidden": false,
         "locked": false
        },
        {
         "code": ">>> sum_first_n_cubes(10) == 3_025\nTrue",
         "hidden": false,
         "locked": false
        },
        {
         "code": ">>> sum_first_n_cubes(15) == 14_400\nTrue",
         "hidden": false,
         "locked": false
        },
        {
         "code": ">>> sum_first_n_cubes(1000) == 250_500_250_000\nTrue",
         "hidden": false,
         "locked": false
        }
       ],
       "scored": true,
       "setup": "",
       "teardown": "",
       "type": "doctest"
      }
     ]
    },
    "q3b": {
     "name": "q3b",
     "points": 2,
     "suites": [
      {
       "cases": [
        {
         "code": ">>> callable(alternating_product)\nTrue",
         "hidden": false,
         "locked": false
        },
        {
         "code": ">>> alternating_product(make_array(2, 8.5, 1, 9)) == 18.0\nTrue",
         "hidden": false,
         "locked": false
        },
        {
         "code": ">>> alternating_product(make_array(2, 8.5, 9, 4.5, 1)) == 9.0\nTrue",
         "hidden": false,
         "locked": false
        },
        {
         "code": ">>> alternating_product(make_array(1, 2, 3, 4, 5, 9, -22)) == -88\nTrue",
         "hidden": false,
         "locked": false
        },
        {
         "code": ">>> alternating_product(make_array(1, 2, 3, 4, 5, 6, 7, 8, 9, 10)) == 280\nTrue",
         "hidden": false,
         "locked": false
        }
       ],
       "scored": true,
       "setup": "",
       "teardown": "",
       "type": "doctest"
      }
     ]
    },
    "q3c": {
     "name": "q3c",
     "points": 3,
     "suites": [
      {
       "cases": [
        {
         "code": ">>> callable(only_uppercase)\nTrue",
         "hidden": false,
         "locked": false
        },
        {
         "code": ">>> only_uppercase('University of California, BerkelEY') == 'UCBEY'\nTrue",
         "hidden": false,
         "locked": false
        },
        {
         "code": ">>> only_uppercase('now THiS!') == 'THS'\nTrue",
         "hidden": false,
         "locked": false
        },
        {
         "code": ">>> only_uppercase('Data 6, Summer 2021') == 'DS'\nTrue",
         "hidden": false,
         "locked": false
        },
        {
         "code": ">>> only_uppercase('what if they are all lowercase?') == ''\nTrue",
         "hidden": false,
         "locked": false
        }
       ],
       "scored": true,
       "setup": "",
       "teardown": "",
       "type": "doctest"
      }
     ]
    },
    "q4a": {
     "name": "q4a",
     "points": 3,
     "suites": [
      {
       "cases": [
        {
         "code": ">>> callable(one_streak)\nTrue",
         "hidden": false,
         "locked": false
        },
        {
         "code": ">>> one_streak(make_array(13, 3, 2, 1, 2, 1, 1, 1, 1, 1, 1, 1, 1, 1, 2, 3, 2, 5, 7, 8)) == 9\nTrue",
         "hidden": false,
         "locked": false
        },
        {
         "code": ">>> one_streak(make_array(4, 1, 1, 1, 2, 3, 11, 1, 1, 1, 1, 1)) == 5\nTrue",
         "hidden": false,
         "locked": false
        },
        {
         "code": ">>> one_streak(make_array(5, 4, 1, 1, 1, 3, 2, 1, 2, 3)) == 3\nTrue",
         "hidden": false,
         "locked": false
        },
        {
         "code": ">>> one_streak(make_array(1, 2, 3, 4, 5)) == 1\nTrue",
         "hidden": false,
         "locked": false
        },
        {
         "code": ">>> one_streak(make_array(3, 4, 5, 6, 7, 2, 3, 4, 5, 6, 7)) == 0\nTrue",
         "hidden": false,
         "locked": false
        },
        {
         "code": ">>> one_streak(make_array()) == 0\nTrue",
         "hidden": false,
         "locked": false
        }
       ],
       "scored": true,
       "setup": "",
       "teardown": "",
       "type": "doctest"
      }
     ]
    },
    "q4b": {
     "name": "q4b",
     "points": 2,
     "suites": [
      {
       "cases": [
        {
         "code": ">>> type(feeling_streak) in set([int, np.int32, np.int64])\nTrue",
         "hidden": false,
         "locked": false
        },
        {
         "code": ">>> feeling_streak == 14\nTrue",
         "hidden": false,
         "locked": false
        }
       ],
       "scored": true,
       "setup": "",
       "teardown": "",
       "type": "doctest"
      }
     ]
    },
    "q4c": {
     "name": "q4c",
     "points": 4,
     "suites": [
      {
       "cases": [
        {
         "code": ">>> type(top_ranked_artist) == str\nTrue",
         "hidden": false,
         "locked": false
        },
        {
         "code": ">>> \"Adele\" <= top_ranked_artist <= \"Usher\"\nTrue",
         "hidden": false,
         "locked": false
        },
        {
         "code": ">>> type(top_artist_streak) in set([int, np.int32, np.int64])\nTrue",
         "hidden": false,
         "locked": false
        },
        {
         "code": ">>> 10 <= top_artist_streak <= 40\nTrue",
         "hidden": false,
         "locked": false
        },
        {
         "code": ">>> top_ranked_artist == \"Drake\"\nTrue",
         "hidden": false,
         "locked": false
        },
        {
         "code": ">>> top_artist_streak == 15\nTrue",
         "hidden": false,
         "locked": false
        }
       ],
       "scored": true,
       "setup": "",
       "teardown": "",
       "type": "doctest"
      }
     ]
    },
    "q5": {
     "name": "q5",
     "points": 5,
     "suites": [
      {
       "cases": [
        {
         "code": ">>> answer1 == 132\nTrue",
         "hidden": false,
         "locked": false
        },
        {
         "code": ">>> answer2 == 6097165137335922326917182089439777940915230747392521779021790936768304177382354726797472857545882756171536974846497310342671827498609932238848\nTrue",
         "hidden": false,
         "locked": false
        }
       ],
       "scored": true,
       "setup": "",
       "teardown": "",
       "type": "doctest"
      }
     ]
    }
   }
  }
 },
 "nbformat": 4,
 "nbformat_minor": 5
}
