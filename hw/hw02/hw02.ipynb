{
 "cells": [
  {
   "cell_type": "code",
   "execution_count": null,
   "id": "6a374d56",
   "metadata": {
    "deletable": false,
    "editable": false
   },
   "outputs": [],
   "source": [
    "# Initialize Otter\n",
    "import otter\n",
    "grader = otter.Notebook(\"hw02.ipynb\")"
   ]
  },
  {
   "cell_type": "markdown",
   "id": "c4825108",
   "metadata": {},
   "source": [
    "<img src=\"data6.png\" style=\"width: 15%; float: right; padding: 1%; margin-right: 2%;\"/>\n",
    "\n",
    "# Homework 2 – Table Methods and Functions\n",
    "\n",
    "## Data 6, Fall 2024\n",
    "\n",
    "This homework is due on **Sunday, October 6th at 11:00 PM**.\n",
    "\n",
    "You must submit the assignment to Gradescope. Submission instructions can be found at the bottom of this notebook. See the [syllabus](https://data6.org/fa24/syllabus/#late-policy-and-extensions) for our homework late submission policy.\n",
    "\n",
    "\n",
    "While we encourage you to collaborate with your peers, directly copying solutions is not allowed. Please refer to our [syllabus](https://data6.org/fa24/syllabus) on Academic Honesty.\n",
    "If you find yourself stuck on a problem, we recommend that you make a post on [Ed](https://edstem.org/us/courses/65093/discussion/) or attend [office hours](https://data6.org/fa24/schedule/)."
   ]
  },
  {
   "cell_type": "code",
   "execution_count": null,
   "id": "bacf90d8",
   "metadata": {},
   "outputs": [],
   "source": [
    "# Run this cell, don't change anything.\n",
    "from datascience import *\n",
    "import numpy as np\n",
    "import matplotlib.pyplot as plt\n",
    "%matplotlib inline\n",
    "plt.style.use(\"ggplot\")\n",
    "from ipywidgets import interact, IntSlider\n",
    "import warnings\n",
    "warnings.filterwarnings('ignore')"
   ]
  },
  {
   "cell_type": "markdown",
   "id": "29db44f0",
   "metadata": {},
   "source": [
    "<hr style=\"border: 5px solid #003262;\" />\n",
    "<hr style=\"border: 1px solid #fdb515;\" />\n",
    "\n",
    "# Part 1: Tables\n",
    "\n",
    "<br></br>\n",
    "<hr style=\"border: 1px solid #fdb515;\" />\n",
    "\n",
    "## The Data\n",
    "\n",
    "<img src = 'sfo.jpg' width = 600>\n",
    "\n",
    "In this section, we'll look at airline data from San Francisco International Airport (SFO). The dataset was downloaded directly from [flysfo.com](https://data.sfgov.org/Transportation/Air-Traffic-Passenger-Statistics/rkru-6vcg), SFO's website. The dataset contains information about major airlines, their associated flight statistics, and other information related to their flights out of SFO.\n",
    "\n",
    "<br></br>\n",
    "<hr style=\"border: 1px solid #fdb515;\" />\n",
    "\n",
    "\n",
    "# Question 1 - Airlines\n",
    "\n",
    "<br></br>\n",
    "\n",
    "---\n",
    "## Question 1a\n",
    "Having gotten word of your newfound data science skills, the City of San Francisco tasks you with conducting data analysis on airline traffic out of San Francisco International Airport. To do so, they've given you a file containing relevant flight data. \n",
    "\n",
    "In the following cell, load the data contained in the `\"sfo.csv\"` file into the `sfo` table. You'll want to use one of the table methods found on the [Data 6 Python Reference](https://data6.org/fa24/reference/).\n"
   ]
  },
  {
   "cell_type": "code",
   "execution_count": null,
   "id": "7e0532dc",
   "metadata": {
    "tags": []
   },
   "outputs": [],
   "source": [
    "sfo = ...\n",
    "sfo"
   ]
  },
  {
   "cell_type": "code",
   "execution_count": null,
   "id": "a7819b46",
   "metadata": {
    "deletable": false,
    "editable": false
   },
   "outputs": [],
   "source": [
    "grader.check(\"q1a\")"
   ]
  },
  {
   "cell_type": "markdown",
   "id": "0ada91db",
   "metadata": {},
   "source": [
    "---\n",
    "## Question 1b\n",
    "\n",
    "<img src=\"jetblue.png\" width=300>\n",
    "\n",
    "Now that you've loaded your data into the `sfo` table, it's time to conduct our analysis. The City of San Francisco wants you to first focus on **JetBlue Airways**.\n",
    "\n",
    "Assign `num_passengers` to the **total number of passengers** on flights corresponding to **JetBlue Airways** in the `sfo` table. While you may approach this question any way you'd like, a recommended approach first starts by creating a new table containing *only* rows from the `sfo` table corresponding to `\"JetBlue Airways\"` as the `\"Operating Airline\"`.\n",
    "\n",
    "\n",
    "\n",
    "*Hint*: Break up your work into multiple intermediary steps.\n"
   ]
  },
  {
   "cell_type": "code",
   "execution_count": null,
   "id": "5dca103d",
   "metadata": {
    "tags": []
   },
   "outputs": [],
   "source": [
    "jetblue = ...\n",
    "num_passengers = ...\n",
    "num_passengers"
   ]
  },
  {
   "cell_type": "code",
   "execution_count": null,
   "id": "94c11a3f",
   "metadata": {
    "deletable": false,
    "editable": false
   },
   "outputs": [],
   "source": [
    "grader.check(\"q1b\")"
   ]
  },
  {
   "cell_type": "markdown",
   "id": "bf2832fd",
   "metadata": {},
   "source": [
    "---\n",
    "## Question 1c\n",
    "\n",
    "<img src=\"united.png\" width=300>\n",
    "\n",
    "Now, the City of San Francisco wants you to focus on **United Airlines**; they would like to know how many flights conducted by United Airrlines arrive in Europe. \n",
    "\n",
    "Assign `prop_europe` to the **proportion of flights** that **United Airlines** takes to Europe, as based on the information presented within the `sfo` table. You'll first want to create a intermediary table, `united`, which contains data corresponding to `\"United Airlines\"`."
   ]
  },
  {
   "cell_type": "code",
   "execution_count": null,
   "id": "389e20e8",
   "metadata": {
    "tags": []
   },
   "outputs": [],
   "source": [
    "united = ...\n",
    "prop_europe = ...\n",
    "prop_europe"
   ]
  },
  {
   "cell_type": "code",
   "execution_count": null,
   "id": "7ceb4d0f",
   "metadata": {
    "deletable": false,
    "editable": false
   },
   "outputs": [],
   "source": [
    "grader.check(\"q1c\")"
   ]
  },
  {
   "cell_type": "markdown",
   "id": "1d0f14f9",
   "metadata": {},
   "source": [
    "---\n",
    "## Question 1d\n",
    "\n",
    "Let's continue our work with **United Airlines**, specifically looking at how **passenger counts** vary between successive years. In this question, we'll investigate two months: **July 2019** and **July 2020**.\n",
    "\n",
    "Assign `july_2019_mean` to the **average number of passengers** on United Airlines flights in July 2019. Similarly, assign `july_2020_mean` to the **average number of passengers** on United Airlines flights in July 2020.\n",
    "\n",
    "*Hint*: You can re-use the `united` table from the previous question.\n"
   ]
  },
  {
   "cell_type": "code",
   "execution_count": null,
   "id": "2658e75c",
   "metadata": {
    "tags": []
   },
   "outputs": [],
   "source": [
    "united = ...\n",
    "\n",
    "july_2020_mean = ...\n",
    "july_2019_mean = ...\n",
    "\n",
    "# Don't change any code below this line\n",
    "print(f\"Average Passenger Count (July 2019): {round(july_2019_mean, 2)}\")\n",
    "print(f\"Average Passenger Count (July 2020): {round(july_2020_mean, 2)}\")"
   ]
  },
  {
   "cell_type": "code",
   "execution_count": null,
   "id": "4209a417",
   "metadata": {
    "deletable": false,
    "editable": false
   },
   "outputs": [],
   "source": [
    "grader.check(\"q1d\")"
   ]
  },
  {
   "cell_type": "markdown",
   "id": "74a0349f",
   "metadata": {},
   "source": [
    "---\n",
    "## Question 1e\n",
    "\n",
    "Let's go back and look at the \"Activity Period\" column of the `sfo` table. Currently, this column stores the year and month in the following format: YYYY-MM. For example, an activity period of 2005-07 represents July 2005. Let's store the Activity Period in a different format. Instead of storing dates as YYYY-MM, let's store it as MM/YYYY. For example, July 2005 would be stored as as 07/2005 instead of 2005-07.\n",
    "\n",
    "Create a new column \"Activity Period New\" in `sfo` with the periods stored in MM/YYYY format. "
   ]
  },
  {
   "cell_type": "code",
   "execution_count": null,
   "id": "88fe0e43",
   "metadata": {
    "tags": []
   },
   "outputs": [],
   "source": [
    "def replace_date_format(date):\n",
    "    \"\"\"Changes the date from YYYY-MM to MM/YYYY format.\n",
    "    Inputs: \n",
    "    date: a String in YYYY-MM format\n",
    "    Returns:\n",
    "    a String in MM/YYYY format\n",
    "    \"\"\"\n",
    "    year, month = ... \n",
    "    return ...\n",
    "\n",
    "new_date_formats = ...\n",
    "sfo = ..."
   ]
  },
  {
   "cell_type": "code",
   "execution_count": null,
   "id": "2eec2c19",
   "metadata": {
    "deletable": false,
    "editable": false
   },
   "outputs": [],
   "source": [
    "grader.check(\"q1e\")"
   ]
  },
  {
   "cell_type": "markdown",
   "id": "ff1c336c",
   "metadata": {},
   "source": [
    "<!-- BEGIN QUESTION -->\n",
    "\n",
    "---\n",
    "## Question 1f\n",
    "\n",
    "If you completed the previous question correctly, you'll notice that the two average values are **very different**. Explain the large difference in the average number of passengers between **July 2019** and **July 2020**. \n",
    "\n",
    "*Hint*: What major global event begun between these two dates?"
   ]
  },
  {
   "cell_type": "markdown",
   "id": "6770a787",
   "metadata": {},
   "source": [
    "_Type your answer here, replacing this text._"
   ]
  },
  {
   "cell_type": "markdown",
   "id": "f1ad544e",
   "metadata": {},
   "source": [
    "<!-- END QUESTION -->\n",
    "\n",
    "<hr style=\"border: 5px solid #003262;\" />\n",
    "<hr style=\"border: 1px solid #fdb515;\" />\n",
    "\n",
    "# Part 2: UC Berkeley Admissions\n",
    "\n",
    "<br></br>\n",
    "<hr style=\"border: 1px solid #fdb515;\" />\n",
    "\n",
    "## Understanding the data\n",
    "\n",
    "In this part of the homework, we will ask and answer questions about UC Berkeley's undergraduate admissions numbers for the class that entered in Fall 2020. The data we'll work with in this question comes from [this public webpage](https://www.universityofcalifornia.edu/infocenter/admissions-source-school).\n",
    "\n",
    "Run the cell below to load in our data as a table."
   ]
  },
  {
   "cell_type": "code",
   "execution_count": null,
   "id": "97934d79",
   "metadata": {},
   "outputs": [],
   "source": [
    "schools = Table.read_table('enrollment.csv')\n",
    "schools"
   ]
  },
  {
   "cell_type": "markdown",
   "id": "ace3bb5e",
   "metadata": {},
   "source": [
    "Each row corresponds to a high school. For each high school, we have the following information:\n",
    "- `'Name'`: The name of the high school. Note, this is not unique – for instance, the top three rows of our table correspond to three different high schools all with the name `'ABRAHAM LINCOLN HIGH SCHOOL'`; one is in Los Angeles, one is in San Francisco, and one is in San Jose.\n",
    "- `'City'`: The city in which the high school is. Note, only schools within the US have a valid `'City'` listed; international schools have a city of `'nan'`. (`'nan'` means \"missing value\".) \n",
    "- `'Region'`: The county in which the high school is if the high school is in California, or the state in which the high school is if the high school is elsewhere in the US (see `'ADLAI E STEVENSON HIGH SCHOOL'` above). Again, if the high school is not within the US, `'Region'` is `'nan'`.\n",
    "- `'Applied'`: The number of students who applied to UC Berkeley from that high school for admission in Fall 2020.\n",
    "- `'Admitted'`: The number of students who were admitted to UC Berkeley from that high school for admission in Fall 2020.\n",
    "- `'Enrolled'`: The number of students who actually chose to attend UC Berkeley from that high school starting in Fall 2020."
   ]
  },
  {
   "cell_type": "markdown",
   "id": "89e63d0f",
   "metadata": {},
   "source": [
    "**Note:** It's a good idea to have the [Python Reference Sheet](https://data6.org/fa24/reference/) open while working on the assignment in the event you have any questions.\n",
    "\n",
    "You can also easily see the documentation for a function by either:\n",
    "- typing the name of the function on a new line, followed by a `?`, and running the cell\n",
    "- typing the name of the function anywhere in a code cell and hitting `Shift + Tab` on your keyboard\n",
    "\n",
    "Try it out below! Just add a `?` to the end of the line."
   ]
  },
  {
   "cell_type": "code",
   "execution_count": null,
   "id": "6a637293",
   "metadata": {},
   "outputs": [],
   "source": [
    "Table.where"
   ]
  },
  {
   "cell_type": "markdown",
   "id": "0db29160",
   "metadata": {},
   "source": [
    "<br></br>\n",
    "<hr style=\"border: 1px solid #fdb515;\" />\n",
    "\n",
    "# Question 2 – Key Numbers\n",
    "\n",
    "<br></br>\n",
    "\n",
    "---\n",
    "## Question 2a – How many students were admitted?\n",
    "\n",
    "Suppose we're interested in determining the number of students who *applied* to UC Berkeley. We can calculate that number by finding the sum of the `'Applied'` column in our dataset like so:"
   ]
  },
  {
   "cell_type": "code",
   "execution_count": null,
   "id": "1ddb3d39",
   "metadata": {},
   "outputs": [],
   "source": [
    "# This is just an example\n",
    "sum(schools.column('Applied'))"
   ]
  },
  {
   "cell_type": "markdown",
   "id": "8ec8298e",
   "metadata": {},
   "source": [
    "**Task**: Below, assign the variable `num_admitted` to an integer corresponding to the number of students who were *admitted* to UC Berkeley in our dataset.\n",
    "\n",
    "_Hint_: Do something similar to the example above.\n"
   ]
  },
  {
   "cell_type": "code",
   "execution_count": null,
   "id": "c34ff661",
   "metadata": {
    "tags": []
   },
   "outputs": [],
   "source": [
    "num_admitted = ...\n",
    "num_admitted"
   ]
  },
  {
   "cell_type": "code",
   "execution_count": null,
   "id": "215e1398",
   "metadata": {
    "deletable": false,
    "editable": false
   },
   "outputs": [],
   "source": [
    "grader.check(\"q2a\")"
   ]
  },
  {
   "cell_type": "markdown",
   "id": "f02f7a45",
   "metadata": {},
   "source": [
    "---\n",
    "## Question 2b – What was the overall acceptance rate?\n",
    "\n",
    "Below, assign the variable `overall_acceptance_rate` to a float corresponding to the proportion of students who applied to UC Berkeley that were admitted.\n",
    "\n",
    "_Hint_: Use `num_admitted` along with the example that came right before it.\n"
   ]
  },
  {
   "cell_type": "code",
   "execution_count": null,
   "id": "49e387e0",
   "metadata": {
    "tags": []
   },
   "outputs": [],
   "source": [
    "overall_acceptance_rate = ...\n",
    "overall_acceptance_rate"
   ]
  },
  {
   "cell_type": "code",
   "execution_count": null,
   "id": "bee4debf",
   "metadata": {
    "deletable": false,
    "editable": false
   },
   "outputs": [],
   "source": [
    "grader.check(\"q2b\")"
   ]
  },
  {
   "cell_type": "markdown",
   "id": "0dd2e4a2",
   "metadata": {},
   "source": [
    "<!-- BEGIN QUESTION -->\n",
    "\n",
    "---\n",
    "## Question 2c – Wait... what?\n",
    "\n",
    "In **Question 2a**, you computed the number of students that UC Berkeley admitted for enrollment in Fall 2020. Scroll back up to Question 2a to look at that number, and then come back to this question.\n",
    "\n",
    "Strangely, this [news.berkeley.edu](https://news.berkeley.edu/2020/07/16/uc-berkeleys-push-for-more-diversity-shows-in-its-newly-admitted-class/) article from July 2020 states\n",
    "\n",
    "> Overall, UC Berkeley admitted 14,668 students as freshmen in 2019 and 15,435 for fall 2020. The admit rate remains the same as last year, at 15%.\n",
    "\n",
    "The number that you computed in **Question 2a** is much smaller than the 15,435 figure that this article provides. But both are official University of California sources. What's going on here?\n",
    "\n",
    "In the cell below, write a short answer to the question \"**Why is the number of admitted students in our dataset less than the true number of admitted students?**\" To find your answer, go to the [UC site where we got this data from](https://www.universityofcalifornia.edu/infocenter/admissions-source-school) and look for the fine print under the table. You'll find that only schools with a certain number of applicants and admitted students are represented; **your answer must mention those specific thresholds as well as why you think they may have excluded schools who don't meet the thresholds from the dataset.**\n"
   ]
  },
  {
   "cell_type": "markdown",
   "id": "93cf8caa",
   "metadata": {},
   "source": [
    "_Type your answer here, replacing this text._"
   ]
  },
  {
   "cell_type": "markdown",
   "id": "e386a65a",
   "metadata": {},
   "source": [
    "<!-- END QUESTION -->\n",
    "\n",
    "<br></br>\n",
    "<hr style=\"border: 1px solid #fdb515;\" />\n",
    "\n",
    "# Question 3 – Which Schools?\n",
    "\n",
    "Now it's time to answer questions of the form \"Which schools \\_\\_\\_\\_\\_\"? In order to proceed, you'll need to make sure you're familiar with selecting/dropping, table sorting, and element-wise array operations.\n",
    "\n",
    "<br></br>\n",
    "\n",
    "---\n",
    "## Question 3a – Removing columns\n",
    "\n",
    "In this section, we're not going to worry about the city where each school is – we'll look at cities in the next section. It'll be helpful to keep around the `'Region'` column just so that we can see at a glance if a school is in-state, domestic, or international. We also need it to tell apart the three `'ABRAHAM LINCOLN HIGH SCHOOL'`s!\n",
    "\n",
    "**Task**: Assign `schools_stats` to a new table  that contains all of the columns in `schools` except for `'City'`. Hint: You should use the `drop` method here.\n"
   ]
  },
  {
   "cell_type": "code",
   "execution_count": null,
   "id": "f285ada3",
   "metadata": {
    "tags": []
   },
   "outputs": [],
   "source": [
    "schools_stats = ...\n",
    "schools_stats"
   ]
  },
  {
   "cell_type": "code",
   "execution_count": null,
   "id": "fd8c1d34",
   "metadata": {
    "deletable": false,
    "editable": false
   },
   "outputs": [],
   "source": [
    "grader.check(\"q3a\")"
   ]
  },
  {
   "cell_type": "markdown",
   "id": "d04a3f5a",
   "metadata": {},
   "source": [
    "---\n",
    "## Question 3b – Which school sent the most students?\n",
    "\n",
    "The value in the `'Enrolled'` column for each high school is the number of students they sent to UC Berkeley.\n",
    "\n",
    "Below, assign `feeders` to a table with the same columns as `schools_stats`, but with **only the 14 high schools who sent the most students to UC Berkeley**, sorted in descending order. The first five rows of your table should look like this:\n",
    "\n",
    "| Name                         | Region        |   Applied |   Admitted |   Enrolled |\n",
    "|-----------------------------:|--------------:|----------:|-----------:|-----------:|\n",
    "| LOWELL HIGH SCHOOL           | San Francisco |       435 |        106 |         64 |\n",
    "| IRVINGTON HIGH SCHOOL        | Alameda       |       248 |         63 |         47 |\n",
    "| DOUGHERTY VALLEY HIGH SCHOOL | Contra Costa  |       430 |         78 |         39 |\n",
    "| CANYON CREST ACADEMY         | San Diego     |       269 |         66 |         38 |\n",
    "| PORTOLA HIGH SCHOOL          | Orange        |       175 |         57 |         30 |\n",
    "\n",
    "_Hint_: Use the `sort` and `take` table methods\n"
   ]
  },
  {
   "cell_type": "code",
   "execution_count": null,
   "id": "e6564bf8",
   "metadata": {
    "tags": []
   },
   "outputs": [],
   "source": [
    "feeders = ...\n",
    "feeders.show()"
   ]
  },
  {
   "cell_type": "code",
   "execution_count": null,
   "id": "c20b282d",
   "metadata": {
    "deletable": false,
    "editable": false
   },
   "outputs": [],
   "source": [
    "grader.check(\"q3b\")"
   ]
  },
  {
   "cell_type": "markdown",
   "id": "4fbd6f8c",
   "metadata": {},
   "source": [
    "---\n",
    "## Question 3c – What was the acceptance rate of each school?\n",
    "\n",
    "Right now we have the number of students who applied, were admitted, and actually enrolled from each school. We don't have the acceptance rate of students at each school, but we can easily figure that out using some array operations!\n",
    "\n",
    "Below, assign `schools_stats_acc` to a table with the same four columns as `schools_stats` plus an additional fifth column. This fifth column should have the label `'Acceptance Rate'`, and its values should be the acceptance rates of each school, each as a decimal between 0 (no students were admitted) and 1 (all students were admitted).\n",
    "\n",
    "There are several steps involved:\n",
    "- First, create an array containing the acceptance rates for each school. This should be done in one line; remember that each column in a table is an array, and that if you divide two arrays, the division is performed element-wise (as we saw in Week 1).\n",
    "- Then, use the `with_columns` method to add an `'Acceptance Rate'` column to `schools_stats`, using the array you just created. Store your result in the table `schools_stats_acc`. The `schools_stats` table should not change!\n",
    "- **Note**: unlike in the previous question, you aren't supposed to sort or take the top 10.\n",
    "\n",
    "The first few rows of your table should look like this:\n",
    "\n",
    "| Name                        | Region        |   Applied |   Admitted |   Enrolled |   Acceptance Rate |\n",
    "|----------------------------:|--------------:|----------:|-----------:|-----------:|------------------:|\n",
    "| ABRAHAM LINCOLN HIGH SCHOOL | Los Angeles   |        17 |          6 |          3 |          0.352941 |\n",
    "| ABRAHAM LINCOLN HIGH SCHOOL | San Francisco |       106 |         21 |         14 |          0.198113 |\n",
    "| ABRAHAM LINCOLN HIGH SCHOOL | Santa Clara   |        48 |         10 |          4 |          0.208333 |\n",
    "| ACADEMY OF THE CANYONS      | Los Angeles   |        45 |         15 |          6 |          0.333333 |\n",
    "| ACADEMY-SAN FRAN @ MCATEER  | San Francisco |        19 |          8 |          5 |          0.421053 |\n",
    "\n"
   ]
  },
  {
   "cell_type": "code",
   "execution_count": null,
   "id": "9d510bb6",
   "metadata": {
    "tags": []
   },
   "outputs": [],
   "source": [
    "acceptance_rates = ...\n",
    "schools_stats_acc = ...\n",
    "schools_stats_acc"
   ]
  },
  {
   "cell_type": "code",
   "execution_count": null,
   "id": "cd4c67ac",
   "metadata": {
    "deletable": false,
    "editable": false
   },
   "outputs": [],
   "source": [
    "grader.check(\"q3c\")"
   ]
  },
  {
   "cell_type": "markdown",
   "id": "79f4e93d",
   "metadata": {},
   "source": [
    "---\n",
    "## Question 3d – Which schools had the lowest and highest acceptance rate?\n",
    "\n",
    "Now that we have a table, `schools_stats_acc`, containing the acceptance rate of each school, it's natural to ask which schools had the highest and lowest acceptance rates.\n",
    "\n",
    "Your job below is to define two **arrays**:\n",
    "- `top_5_acc`, which contains the **names** of the five schools with the highest acceptance rates, such that the first element of `top_5_acc` has the absolute highest acceptance rate, the second element has the second highest acceptance rate, and so on.\n",
    "- `bottom_5_acc`, which contains the **names** of the five schools with the lowest acceptance rates, such that the first element of `bottom_5_acc` has the absolute lowest acceptance rate, the second element has the second lowest acceptance rate, and so on.\n",
    "\n",
    "At some point, you'll need to sort `schools_stats_acc` by acceptance rate. However, how you choose to do that is up to you – you could elect to sort it in both descending and ascending order, or you could just sort it once and be creative with how you use `.take` (which you will need to use regardless).\n"
   ]
  },
  {
   "cell_type": "code",
   "execution_count": null,
   "id": "751b7a90",
   "metadata": {
    "tags": []
   },
   "outputs": [],
   "source": [
    "...\n",
    "\n",
    "top_5_acc = ...\n",
    "bottom_5_acc = ...\n",
    "\n",
    "# Don't change anything below this comment, it's just for visualization\n",
    "print('Top 5 acceptance rates:')\n",
    "for school in top_5_acc:\n",
    "    print(school)\n",
    "\n",
    "print('----------\\nBottom 5 acceptance rates:')\n",
    "for school in bottom_5_acc:\n",
    "    print(school)"
   ]
  },
  {
   "cell_type": "code",
   "execution_count": null,
   "id": "55d03d29",
   "metadata": {
    "deletable": false,
    "editable": false
   },
   "outputs": [],
   "source": [
    "grader.check(\"q3d\")"
   ]
  },
  {
   "cell_type": "markdown",
   "id": "22adb7fa",
   "metadata": {},
   "source": [
    "<br></br>\n",
    "<hr style=\"border: 1px solid #fdb515;\" />\n",
    "\n",
    "# Question 4 – Location\n",
    "\n",
    "In the last question, we did not use the `'City'` column from `schools`. In this question, we'll bring that information back in. Here, we're going to heavily rely on the `.where` method and the various `are` predicates, so you may want to open the [`.are` documentation](http://data8.org/datascience/predicates.html?highlight=#datascience.predicates.are).\n",
    "\n",
    "In this question you will use `schools_acc`, with the five original columns in `schools` plus `'Acceptance Rate'` from `schools_stats_acc`."
   ]
  },
  {
   "cell_type": "code",
   "execution_count": null,
   "id": "a5182e20",
   "metadata": {},
   "outputs": [],
   "source": [
    "# Just run this cell\n",
    "schools_acc = schools.with_columns('Acceptance Rate', schools_stats_acc.column('Acceptance Rate'))\n",
    "schools_acc"
   ]
  },
  {
   "cell_type": "markdown",
   "id": "4221af58",
   "metadata": {},
   "source": [
    "---\n",
    "## Question 4a – How many schools were in Los Angeles county?\n",
    "\n",
    "Los Angeles is both the name of a city and a county, and counties correspond to regions in our dataset (at least for California high schools).\n",
    "\n",
    "Below, assign `num_schools_lac` to the **number** of schools in our dataset that are from Los Angeles county.\n",
    "\n",
    "_Hint: This involves using `.where` and `.num_rows`._\n"
   ]
  },
  {
   "cell_type": "code",
   "execution_count": null,
   "id": "d611a4d6",
   "metadata": {
    "tags": []
   },
   "outputs": [],
   "source": [
    "num_schools_lac = ...\n",
    "num_schools_lac"
   ]
  },
  {
   "cell_type": "code",
   "execution_count": null,
   "id": "03ecb240",
   "metadata": {
    "deletable": false,
    "editable": false
   },
   "outputs": [],
   "source": [
    "grader.check(\"q4a\")"
   ]
  },
  {
   "cell_type": "markdown",
   "id": "7a72e4a8",
   "metadata": {},
   "source": [
    "---\n",
    "## Question 4b – How many students actually enrolled from schools in Los Angeles county?\n",
    "\n",
    "Below, assign `num_students_lac` to the number of students who enrolled at UC Berkeley from high schools in Los Angeles county. This involves using `.where`.\n",
    "\n",
    "*Note*: While our solution is only one line, yours doesn't have to be.\n"
   ]
  },
  {
   "cell_type": "code",
   "execution_count": null,
   "id": "6ace4f32",
   "metadata": {
    "tags": []
   },
   "outputs": [],
   "source": [
    "num_students_lac = ...\n",
    "num_students_lac"
   ]
  },
  {
   "cell_type": "code",
   "execution_count": null,
   "id": "b931b130",
   "metadata": {
    "deletable": false,
    "editable": false
   },
   "outputs": [],
   "source": [
    "grader.check(\"q4b\")"
   ]
  },
  {
   "cell_type": "markdown",
   "id": "598b2e47",
   "metadata": {},
   "source": [
    "---\n",
    "## Question 4c – Which schools in Los Angeles county sent the most students?\n",
    "\n",
    "Below, assign `top_lac_schools` to a **table** with the same columns as `schools_acc`, but with **only the 10 high schools in Los Angeles county who sent the most students to UC Berkeley**, sorted in descending order. The first five rows of your table should look like this:\n",
    "\n",
    "| Name                          | City             | Region      |   Applied |   Admitted |   Enrolled |   Acceptance Rate |\n",
    "|------------------------------:|-----------------:|------------:|----------:|-----------:|-----------:|------------------:|\n",
    "| PALISADES CHARTER HIGH SCHOOL | Pacific Palisade | Los Angeles |       221 |         46 |         26 |          0.208145 |\n",
    "| ARCADIA HIGH SCHOOL           | Arcadia          | Los Angeles |       249 |         55 |         21 |          0.220884 |\n",
    "| DIAMOND BAR HIGH SCHOOL       | Diamond Bar      | Los Angeles |       264 |         39 |         19 |          0.147727 |\n",
    "| GRETCHEN WHITNEY HIGH SCHOOL  | Cerritos         | Los Angeles |        86 |         21 |         17 |          0.244186 |\n",
    "| SANTA MONICA HIGH SCHOOL      | Santa Monica     | Los Angeles |       195 |         38 |         15 |          0.194872 |\n",
    "\n",
    "*Note*: A high school *sends* a student to Berkeley when that student **enrolls** in the university."
   ]
  },
  {
   "cell_type": "code",
   "execution_count": null,
   "id": "75b9527b",
   "metadata": {
    "scrolled": true,
    "tags": []
   },
   "outputs": [],
   "source": [
    "top_lac_schools = ...\n",
    "top_lac_schools"
   ]
  },
  {
   "cell_type": "code",
   "execution_count": null,
   "id": "5b125e01",
   "metadata": {
    "deletable": false,
    "editable": false
   },
   "outputs": [],
   "source": [
    "grader.check(\"q4c\")"
   ]
  },
  {
   "cell_type": "markdown",
   "id": "090e79e5",
   "metadata": {},
   "source": [
    "---\n",
    "## Question 4d – Which schools in Alameda county sent more than 20 students?\n",
    "\n",
    "Below, assign `big_alameda` to a table containing all of the columns of `schools_acc`, but only the rows corresponding to schools in Alameda county that sent more than 20 students to Berkeley. Don't sort.\n",
    "\n",
    "_Hint_: You can use `.where` multiple times if there are multiple conditions you want to be true; that's what you'll need to do here.\n"
   ]
  },
  {
   "cell_type": "code",
   "execution_count": null,
   "id": "50842216",
   "metadata": {
    "tags": []
   },
   "outputs": [],
   "source": [
    "big_alameda = ...\n",
    "big_alameda"
   ]
  },
  {
   "cell_type": "code",
   "execution_count": null,
   "id": "0358624c",
   "metadata": {
    "deletable": false,
    "editable": false
   },
   "outputs": [],
   "source": [
    "grader.check(\"q4d\")"
   ]
  },
  {
   "cell_type": "markdown",
   "id": "2938b7a6",
   "metadata": {},
   "source": [
    "<br></br>\n",
    "<hr style=\"border: 1px solid #fdb515;\" />\n",
    "\n",
    "# Question 5 – Functions and Scope\n",
    "\n",
    "Let's briefly go over user defined functions. "
   ]
  },
  {
   "cell_type": "markdown",
   "id": "61302c45",
   "metadata": {},
   "source": [
    "---\n",
    "## Question 5a – Scope\n",
    "\n",
    "Assume we have the following function:"
   ]
  },
  {
   "cell_type": "code",
   "execution_count": null,
   "id": "e19042f9",
   "metadata": {},
   "outputs": [],
   "source": [
    "y = \"hello\"\n",
    "\n",
    "def foo(x):\n",
    "    return y + x"
   ]
  },
  {
   "cell_type": "markdown",
   "id": "3576e4a9",
   "metadata": {},
   "source": [
    "Choose all completely accurate statements, and then make an array consisting of the corresponding numbers to `answer_5a` below to indicate your answer. \n",
    "\n",
    "1. The formal parameter to `foo` is x.\n",
    "\n",
    "2. The argument to `foo` is x.\n",
    "\n",
    "3. If we called `foo(3)`, we would get an error because we don't know what `y` is.\n",
    "\n",
    "4. If we called `foo(3)`, we would get an error because you cannot concatenate a string and an integer.\n",
    "\n",
    "5. If we called `foo(\" world\")`, we would get an error because we don't know what `y` is.\n",
    "\n",
    "6. If we called `foo(\" world\")`, we would get an error because you cannot add strings together.\n",
    "\n",
    "7. Trying to access `x` outside of `foo` would error."
   ]
  },
  {
   "cell_type": "markdown",
   "id": "c8466147",
   "metadata": {},
   "source": [
    "Now, assume we have the following code:"
   ]
  },
  {
   "cell_type": "code",
   "execution_count": null,
   "id": "2c96f3c1",
   "metadata": {},
   "outputs": [],
   "source": [
    "y = 1\n",
    "\n",
    "def count(x):\n",
    "    y = 2\n",
    "    def chickens(number):\n",
    "        return x * number\n",
    "    return chickens(y)"
   ]
  },
  {
   "cell_type": "markdown",
   "id": "317fa9f3",
   "metadata": {},
   "source": [
    "8. `y` exists in the local frame\n",
    "\n",
    "9. Assuming `count` is called, `y` exists in the local frame of the `count` function.\n",
    "\n",
    "10. When we call `count`, the argument being passed into `chickens` is 1.\n",
    "\n",
    "11. When we call `count`, the argument being passed into `chickens` is 2."
   ]
  },
  {
   "cell_type": "code",
   "execution_count": null,
   "id": "b38a7fc6",
   "metadata": {
    "tags": []
   },
   "outputs": [],
   "source": [
    "\"\"\"Your answer should be in the format answer_5a = make_array(...),\n",
    "where the argument to make_array is the number of all the accurate statements.\"\"\"\n",
    "answer_5a = ..."
   ]
  },
  {
   "cell_type": "code",
   "execution_count": null,
   "id": "c279c2c8",
   "metadata": {
    "deletable": false,
    "editable": false
   },
   "outputs": [],
   "source": [
    "grader.check(\"q5a\")"
   ]
  },
  {
   "cell_type": "markdown",
   "id": "1ff924e1",
   "metadata": {},
   "source": [
    "---\n",
    "## Question 5b – Nested Functions are Dizzying\n",
    "\n",
    "Now, assume we have the following code:"
   ]
  },
  {
   "cell_type": "code",
   "execution_count": null,
   "id": "d76dad13",
   "metadata": {},
   "outputs": [],
   "source": [
    "y = 2\n",
    "\n",
    "def foo(x):\n",
    "    return y + x"
   ]
  },
  {
   "cell_type": "markdown",
   "id": "bf6fd08c",
   "metadata": {},
   "source": [
    "What does the expression `foo(foo(3 + 4) + 3)` evaluate to? Remember, we start by evaluating the operator, then the operands."
   ]
  },
  {
   "cell_type": "code",
   "execution_count": null,
   "id": "679b1ef7",
   "metadata": {
    "tags": []
   },
   "outputs": [],
   "source": [
    "# Your answer should be in the format reason_5b = n, where n is some integer.\n",
    "\n",
    "answer_5b = ..."
   ]
  },
  {
   "cell_type": "code",
   "execution_count": null,
   "id": "7eace9cc",
   "metadata": {
    "deletable": false,
    "editable": false
   },
   "outputs": [],
   "source": [
    "grader.check(\"q5b\")"
   ]
  },
  {
   "cell_type": "markdown",
   "id": "1763f9c9",
   "metadata": {},
   "source": [
    "# Done!\n",
    "\n",
    "Congrats! You've finished your second Data 6 homework assignment!\n",
    "\n",
    "To submit your work, follow the steps outlined below. **Remember that for this homework in particular, some problems will be graded manually, rather than by the autograder.**"
   ]
  },
  {
   "attachments": {},
   "cell_type": "markdown",
   "id": "453dbf2a",
   "metadata": {},
   "source": [
    "## Pets of Data 6\n",
    "**Sunny** hopes you enjoyed Homework 2!\n",
    "\n",
    "<img src=\"sunny.png\" width=\"40%\" alt=\"Orange cat sitting down on a bed.\"/>"
   ]
  },
  {
   "cell_type": "markdown",
   "id": "8dd3bf25",
   "metadata": {},
   "source": [
    "## Submission\n",
    "\n",
    "Below, you will see two cells. Running the first cell will automatically generate a PDF of all questions that need to be manually graded, and running the second cell will automatically generate a zip with your autograded answers. You are responsible for submitting both the coding portion (the zip) and the written portion (the PDF) to their respective Gradescope portals. **Please save before exporting!**\n",
    "\n",
    "> **Important: You must correctly assign the pages of your PDF after you submit to the correct gradescope assignment. If your pages are not correctly assigned and/or not in the correct PDF format by the deadline, we reserve the right to award no points for your written work.**\n",
    "\n",
    "If there are issues with automatically generating the PDF in the first cell, you can try downloading the notebook as a PDF by clicking on `File -> Save and Export Notebook As... -> PDF`. If that doesn't work either, you can manually take screenshots of your answers to the manually graded questions and submit those. Either way, **you are responsible for ensuring your submision follows our requirements, we will NOT be granting regrade requests for submissions that don't follow instructions.**"
   ]
  },
  {
   "cell_type": "code",
   "execution_count": null,
   "id": "5ee87468",
   "metadata": {},
   "outputs": [],
   "source": [
    "from otter.export import export_notebook\n",
    "from os import path\n",
    "from IPython.display import display, HTML\n",
    "name = 'hw02'\n",
    "export_notebook(f\"{name}.ipynb\", filtering=True, pagebreaks=True)\n",
    "if(path.exists(f'{name}.pdf')):\n",
    "    display(HTML(f\"Download your PDF <a href='{name}.pdf' download>here</a>.\"))\n",
    "else:\n",
    "    print(\"\\n Pdf generation failed, please try the other methods described above\")"
   ]
  },
  {
   "cell_type": "code",
   "execution_count": null,
   "id": "e4bc4ff8",
   "metadata": {},
   "outputs": [],
   "source": []
  },
  {
   "cell_type": "code",
   "execution_count": null,
   "id": "1acb1585",
   "metadata": {},
   "outputs": [],
   "source": []
  },
  {
   "cell_type": "code",
   "execution_count": null,
   "id": "e6b5fd36",
   "metadata": {},
   "outputs": [],
   "source": []
  },
  {
   "cell_type": "markdown",
   "id": "4e2fc25e",
   "metadata": {
    "deletable": false,
    "editable": false
   },
   "source": [
    "## Submission\n",
    "\n",
    "Make sure you have run all cells in your notebook in order before running the cell below, so that all images/graphs appear in the output. The cell below will generate a zip file for you to submit. **Please save before exporting!**"
   ]
  },
  {
   "cell_type": "code",
   "execution_count": null,
   "id": "66e73e2d",
   "metadata": {
    "deletable": false,
    "editable": false
   },
   "outputs": [],
   "source": [
    "# Save your notebook first, then run this cell to export your submission.\n",
    "grader.export(run_tests=True)"
   ]
  },
  {
   "cell_type": "markdown",
   "id": "7c85eea1",
   "metadata": {},
   "source": [
    " "
   ]
  }
 ],
 "metadata": {
  "kernelspec": {
   "display_name": "Python 3 (ipykernel)",
   "language": "python",
   "name": "python3"
  },
  "language_info": {
   "codemirror_mode": {
    "name": "ipython",
    "version": 3
   },
   "file_extension": ".py",
   "mimetype": "text/x-python",
   "name": "python",
   "nbconvert_exporter": "python",
   "pygments_lexer": "ipython3",
   "version": "3.11.9"
  },
  "otter": {
   "OK_FORMAT": true,
   "tests": {
    "q1a": {
     "name": "q1a",
     "points": 1,
     "suites": [
      {
       "cases": [
        {
         "code": ">>> # Make sure that you assign `sfo` to a table\n>>> isinstance(sfo, Table)\nTrue",
         "hidden": false,
         "locked": false
        },
        {
         "code": ">>> sfo.num_rows == 22869\nTrue",
         "hidden": false,
         "locked": false
        },
        {
         "code": ">>> sfo.num_columns == 7\nTrue",
         "hidden": false,
         "locked": false
        }
       ],
       "scored": true,
       "setup": "",
       "teardown": "",
       "type": "doctest"
      }
     ]
    },
    "q1b": {
     "name": "q1b",
     "points": 1,
     "suites": [
      {
       "cases": [
        {
         "code": ">>> # Make sure num_passengers is a number!\n>>> type(num_passengers) in [int, float, np.int64, np.float64]\nTrue",
         "hidden": false,
         "locked": false
        },
        {
         "code": ">>> num_passengers == 14077961\nTrue",
         "hidden": false,
         "locked": false
        }
       ],
       "scored": true,
       "setup": "",
       "teardown": "",
       "type": "doctest"
      }
     ]
    },
    "q1c": {
     "name": "q1c",
     "points": 1,
     "suites": [
      {
       "cases": [
        {
         "code": ">>> type(prop_europe) in [int, float, np.int64, np.float64]\nTrue",
         "hidden": false,
         "locked": false
        },
        {
         "code": ">>> # Make sure your answer is a proportion, not a percentage!\n>>> 0 <= prop_europe <= 1\nTrue",
         "hidden": false,
         "locked": false
        },
        {
         "code": ">>> np.isclose(prop_europe, 0.08931552587646077)\nTrue",
         "hidden": false,
         "locked": false
        }
       ],
       "scored": true,
       "setup": "",
       "teardown": "",
       "type": "doctest"
      }
     ]
    },
    "q1d": {
     "name": "q1d",
     "points": 2,
     "suites": [
      {
       "cases": [
        {
         "code": ">>> type(july_2019_mean) in (int, float, np.int64, np.float64)\nTrue",
         "hidden": false,
         "locked": false
        },
        {
         "code": ">>> type(july_2020_mean) in (int, float, np.int64, np.float64)\nTrue",
         "hidden": false,
         "locked": false
        },
        {
         "code": ">>> np.isclose(july_2019_mean, 75222.43333333333)\nTrue",
         "hidden": false,
         "locked": false
        },
        {
         "code": ">>> np.isclose(july_2020_mean, 11177.619047619048)\nTrue",
         "hidden": false,
         "locked": false
        }
       ],
       "scored": true,
       "setup": "",
       "teardown": "",
       "type": "doctest"
      }
     ]
    },
    "q1e": {
     "name": "q1e",
     "points": 2,
     "suites": [
      {
       "cases": [
        {
         "code": ">>> callable(replace_date_format)\nTrue",
         "hidden": false,
         "locked": false
        },
        {
         "code": ">>> replace_date_format(\"2005-07\") == \"07/2005\"\nTrue",
         "hidden": false,
         "locked": false
        },
        {
         "code": ">>> sfo.labels == ('Activity Period',\n...  'Operating Airline',\n...  'GEO Summary',\n...  'GEO Region',\n...  'Price Category Code',\n...  'Terminal',\n...  'Passenger Count',\n...  'Activity Period New')\nTrue",
         "hidden": false,
         "locked": false
        },
        {
         "code": ">>> sfo.column('Activity Period New').item(0) == '07/2005'\nTrue",
         "hidden": false,
         "locked": false
        }
       ],
       "scored": true,
       "setup": "",
       "teardown": "",
       "type": "doctest"
      }
     ]
    },
    "q2a": {
     "name": "q2a",
     "points": 1,
     "suites": [
      {
       "cases": [
        {
         "code": ">>> type(num_admitted) in set([int, np.int32, np.int64])\nTrue",
         "hidden": false,
         "locked": false
        },
        {
         "code": ">>> 8000 < num_admitted < 9000\nTrue",
         "hidden": false,
         "locked": false
        },
        {
         "code": ">>> # If you see this, don't just copy the answer: think about how you can repurpose the 'Applied' example to help you here.\n>>> num_admitted == 8495\nTrue",
         "hidden": false,
         "locked": false
        }
       ],
       "scored": true,
       "setup": "",
       "teardown": "",
       "type": "doctest"
      }
     ]
    },
    "q2b": {
     "name": "q2b",
     "points": 1,
     "suites": [
      {
       "cases": [
        {
         "code": ">>> type(overall_acceptance_rate) in set([float, np.float32, np.float64])\nTrue",
         "hidden": false,
         "locked": false
        },
        {
         "code": ">>> 0.2 < overall_acceptance_rate < 0.22\nTrue",
         "hidden": false,
         "locked": false
        },
        {
         "code": ">>> np.isclose(overall_acceptance_rate, 0.2115815691158157)\nTrue",
         "hidden": false,
         "locked": false
        }
       ],
       "scored": true,
       "setup": "",
       "teardown": "",
       "type": "doctest"
      }
     ]
    },
    "q3a": {
     "name": "q3a",
     "points": 1,
     "suites": [
      {
       "cases": [
        {
         "code": ">>> isinstance(schools_stats, Table)\nTrue",
         "hidden": false,
         "locked": false
        },
        {
         "code": ">>> schools_stats.labels == ('Name', 'Region', 'Applied', 'Admitted', 'Enrolled')\nTrue",
         "hidden": false,
         "locked": false
        },
        {
         "code": ">>> schools_stats.num_rows == 659\nTrue",
         "hidden": false,
         "locked": false
        }
       ],
       "scored": true,
       "setup": "",
       "teardown": "",
       "type": "doctest"
      }
     ]
    },
    "q3b": {
     "name": "q3b",
     "points": 1,
     "suites": [
      {
       "cases": [
        {
         "code": ">>> isinstance(feeders, Table)\nTrue",
         "hidden": false,
         "locked": false
        },
        {
         "code": ">>> feeders.num_rows == 14\nTrue",
         "hidden": false,
         "locked": false
        },
        {
         "code": ">>> feeders.labels == ('Name', 'Region', 'Applied', 'Admitted', 'Enrolled')\nTrue",
         "hidden": false,
         "locked": false
        },
        {
         "code": ">>> all(feeders.column('Enrolled') == make_array(64, 47, 39, 38, 30, 28, 27, 26, 26, 25, 25, 23, 23, 22))\nTrue",
         "hidden": false,
         "locked": false
        },
        {
         "code": ">>> all(sorted(feeders.column('Name')) == make_array('AMADOR VALLEY HIGH SCHOOL',\n...  'AMERICAN HIGH SCHOOL',\n...  'CANYON CREST ACADEMY',\n...  'DOUGHERTY VALLEY HIGH SCHOOL',\n...  'DUBLIN HIGH SCHOOL',\n...  'FOOTHILL HIGH SCHOOL',\n...  'IRVINGTON HIGH SCHOOL',\n...  'JAMES LOGAN HIGH SCHOOL',\n...  'LOWELL HIGH SCHOOL',\n...  'MISSION SAN JOSE HIGH SCHOOL',\n...  'PALISADES CHARTER HIGH SCHOOL',\n...  'PORTOLA HIGH SCHOOL',\n...  'UNIVERSITY HIGH SCHOOL',\n...  'WOODBRIDGE HIGH SCHOOL'))\nTrue",
         "hidden": false,
         "locked": false
        }
       ],
       "scored": true,
       "setup": "",
       "teardown": "",
       "type": "doctest"
      }
     ]
    },
    "q3c": {
     "name": "q3c",
     "points": 1,
     "suites": [
      {
       "cases": [
        {
         "code": ">>> isinstance(schools_stats_acc, Table)\nTrue",
         "hidden": false,
         "locked": false
        },
        {
         "code": ">>> schools_stats_acc.labels == ('Name', 'Region', 'Applied', 'Admitted', 'Enrolled', 'Acceptance Rate')\nTrue",
         "hidden": false,
         "locked": false
        },
        {
         "code": ">>> schools_stats.num_rows == 659\nTrue",
         "hidden": false,
         "locked": false
        },
        {
         "code": ">>> # Making sure schools_stats didn't change\n>>> schools_stats.labels == ('Name', 'Region', 'Applied', 'Admitted', 'Enrolled')\nTrue",
         "hidden": false,
         "locked": false
        },
        {
         "code": ">>> all(np.isclose(schools_stats_acc.column('Acceptance Rate').take(np.arange(10)), np.array([0.35294118, 0.19811321, 0.20833333, 0.33333333, 0.42105263, 0.21538462, 0.15730337, 0.16666667, 0.18292683, 0.14285714])))\nTrue",
         "hidden": false,
         "locked": false
        }
       ],
       "scored": true,
       "setup": "",
       "teardown": "",
       "type": "doctest"
      }
     ]
    },
    "q3d": {
     "name": "q3d",
     "points": 2,
     "suites": [
      {
       "cases": [
        {
         "code": ">>> isinstance(top_5_acc, np.ndarray)\nTrue",
         "hidden": false,
         "locked": false
        },
        {
         "code": ">>> isinstance(bottom_5_acc, np.ndarray)\nTrue",
         "hidden": false,
         "locked": false
        },
        {
         "code": ">>> np.all(sorted(top_5_acc) == sorted(np.array(['ROSELAND COLLEGIATE PREP', 'GRANGE SCHOOL THE', 'FELICITAS GONZALO MENDEZ HS', 'ALLIANCE M&E STERN MATH SCI SCH', 'SOUTH HIGH SCHOOL'])))\nTrue",
         "hidden": false,
         "locked": false
        },
        {
         "code": ">>> np.all(sorted(bottom_5_acc) == sorted(np.array(['NANJING FOREIGN LANGUAGE SCH', 'BEIJING NATIONAL DAY SCHOOL', 'HIGH SCH @RENMIN UNIV OF CHINA', 'SKYLINE HIGH SCHOOL', 'SHANGHAI FOREIGN LANGUAGE SCHL'])))\nTrue",
         "hidden": false,
         "locked": false
        }
       ],
       "scored": true,
       "setup": "",
       "teardown": "",
       "type": "doctest"
      }
     ]
    },
    "q4a": {
     "name": "q4a",
     "points": 1,
     "suites": [
      {
       "cases": [
        {
         "code": ">>> type(num_schools_lac) in set([int, np.int32, np.int64])\nTrue",
         "hidden": false,
         "locked": false
        },
        {
         "code": ">>> 120 < num_schools_lac < 130\nTrue",
         "hidden": false,
         "locked": false
        },
        {
         "code": ">>> num_schools_lac == 126\nTrue",
         "hidden": false,
         "locked": false
        }
       ],
       "scored": true,
       "setup": "",
       "teardown": "",
       "type": "doctest"
      }
     ]
    },
    "q4b": {
     "name": "q4b",
     "points": 1,
     "suites": [
      {
       "cases": [
        {
         "code": ">>> type(num_students_lac) in set([int, np.int32, np.int64])\nTrue",
         "hidden": false,
         "locked": false
        },
        {
         "code": ">>> 760 < num_students_lac < 770\nTrue",
         "hidden": false,
         "locked": false
        },
        {
         "code": ">>> num_students_lac == 765\nTrue",
         "hidden": false,
         "locked": false
        }
       ],
       "scored": true,
       "setup": "",
       "teardown": "",
       "type": "doctest"
      }
     ]
    },
    "q4c": {
     "name": "q4c",
     "points": 1,
     "suites": [
      {
       "cases": [
        {
         "code": ">>> isinstance(top_lac_schools, Table)\nTrue",
         "hidden": false,
         "locked": false
        },
        {
         "code": ">>> top_lac_schools.labels == ('Name', 'City', 'Region', 'Applied', 'Admitted', 'Enrolled', 'Acceptance Rate')\nTrue",
         "hidden": false,
         "locked": false
        },
        {
         "code": ">>> top_lac_schools.num_rows == 10\nTrue",
         "hidden": false,
         "locked": false
        },
        {
         "code": ">>> np.all(sorted(top_lac_schools.column('Name')) == sorted(np.array(['PALISADES CHARTER HIGH SCHOOL', 'ARCADIA HIGH SCHOOL', 'DIAMOND BAR HIGH SCHOOL', 'GRETCHEN WHITNEY HIGH SCHOOL', 'SANTA MONICA HIGH SCHOOL', 'GRANADA HILLS CHARTER HIGH SCH', 'PALOS VERDES PENINSULA HS', 'VAN NUYS HIGH SCHOOL', 'WALNUT HIGH SCHOOL', 'SOUTH PASADENA HIGH SCHOOL'])))\nTrue",
         "hidden": false,
         "locked": false
        },
        {
         "code": ">>> np.all(np.isclose(sorted(top_lac_schools.column('Acceptance Rate')), sorted(np.array([0.2081448 , 0.22088353, 0.14772727, 0.24418605, 0.19487179, 0.18584071, 0.19565217, 0.31818182, 0.20710059, 0.23469388]))))\nTrue",
         "hidden": false,
         "locked": false
        }
       ],
       "scored": true,
       "setup": "",
       "teardown": "",
       "type": "doctest"
      }
     ]
    },
    "q4d": {
     "name": "q4d",
     "points": 1,
     "suites": [
      {
       "cases": [
        {
         "code": ">>> isinstance(big_alameda, Table)\nTrue",
         "hidden": false,
         "locked": false
        },
        {
         "code": ">>> big_alameda.labels == ('Name', 'City', 'Region', 'Applied', 'Admitted', 'Enrolled', 'Acceptance Rate')\nTrue",
         "hidden": false,
         "locked": false
        },
        {
         "code": ">>> big_alameda.num_rows == 7\nTrue",
         "hidden": false,
         "locked": false
        },
        {
         "code": ">>> np.all(big_alameda.column('Name') == np.array(['AMADOR VALLEY HIGH SCHOOL', 'AMERICAN HIGH SCHOOL', 'DUBLIN HIGH SCHOOL', 'FOOTHILL HIGH SCHOOL', 'IRVINGTON HIGH SCHOOL', 'JAMES LOGAN HIGH SCHOOL', 'MISSION SAN JOSE HIGH SCHOOL']))\nTrue",
         "hidden": false,
         "locked": false
        },
        {
         "code": ">>> np.all(big_alameda.column('Enrolled') == np.array([23, 25, 26, 27, 47, 25, 28]))\nTrue",
         "hidden": false,
         "locked": false
        }
       ],
       "scored": true,
       "setup": "",
       "teardown": "",
       "type": "doctest"
      }
     ]
    },
    "q5a": {
     "name": "q5a",
     "points": 3,
     "suites": [
      {
       "cases": [
        {
         "code": ">>> import hashlib\n>>> \n>>> correct_hash = '663ab247c7eca8e9f2e510654b74b431eb76275e5970ce414a0aef285844f0a7'\n>>> student_hash = hashlib.sha256(answer_5a.tobytes()).hexdigest()\n>>> \n>>> student_hash == correct_hash\nTrue",
         "hidden": false,
         "locked": false
        },
        {
         "code": ">>> isinstance(answer_5a, np.ndarray)\nTrue",
         "hidden": false,
         "locked": false
        }
       ],
       "scored": true,
       "setup": "",
       "teardown": "",
       "type": "doctest"
      }
     ]
    },
    "q5b": {
     "name": "q5b",
     "points": 1,
     "suites": [
      {
       "cases": [
        {
         "code": ">>> correct_answer_5b = 14\n>>> \n>>> correct_answer_5b == answer_5b\nTrue",
         "hidden": false,
         "locked": false
        }
       ],
       "scored": true,
       "setup": "",
       "teardown": "",
       "type": "doctest"
      }
     ]
    }
   }
  }
 },
 "nbformat": 4,
 "nbformat_minor": 5
}
