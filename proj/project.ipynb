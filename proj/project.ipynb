{
 "cells": [
  {
   "cell_type": "markdown",
   "id": "f12ffa9b",
   "metadata": {},
   "source": [
    "<img src=\"data6.png\" style=\"width: 15%; float: right; padding: 1%; margin-right: 2%;\"/>\n",
    "\n",
    "# Final Project Part 1\n",
    "\n",
    "## Data 6, Fall 2024\n",
    "\n",
    "Welcome to the final project for Data 6! You can have up to one partner for the project. Only one partner should submit on behalf of the entire group. Part 1 is due Monday, November 25th at 11:00 PM.\n",
    "\n",
    "CLARIFICATION 11/20: This whole notebook is due next Monday. Part 2 is a separate notebook that will be released later."
   ]
  },
  {
   "cell_type": "code",
   "execution_count": 2,
   "id": "cbffeafc",
   "metadata": {},
   "outputs": [],
   "source": [
    "from datascience import *\n",
    "import numpy as np\n",
    "from IPython.display import YouTubeVideo, HTML, display\n",
    "from ipywidgets import interact, widgets\n",
    "%matplotlib inline"
   ]
  },
  {
   "cell_type": "markdown",
   "id": "70805cb2-a883-4633-aa96-f873310e4861",
   "metadata": {},
   "source": [
    "<hr style=\"border: 5px solid #003262;\" />\n",
    "<hr style=\"border: 1px solid #fdb515;\" />\n",
    "\n",
    "\n",
    "# Section 0: Logistical Notes\n",
    "\n",
    "If you are working with a partner, you'll need some way of storing your intermediate work/sending work to one another. You have a few options:\n",
    "\n",
    "1. (RECOMMENDED): Type up your written responses on a separate Google Document, then transfer the work into this notebook.\n",
    "2. You can send the file by \n",
    "The best way to do this is to send your notebook to one another by clicking File --> Download. Then, you can email that file to your partner, and have them download it on their end. Then, click on the Jupyter icon on the very top left of the screen. That will take you to your home directory. You can then access materials-fa24/proj and upload the file into that directory."
   ]
  },
  {
   "cell_type": "markdown",
   "id": "edd2dd7f-cb5f-4ed5-af14-725ff3e56f66",
   "metadata": {},
   "source": [
    "<hr style=\"border: 5px solid #003262;\" />\n",
    "<hr style=\"border: 1px solid #fdb515;\" />\n",
    "\n",
    "\n",
    "# Section 1: Picking Your Dataset\n",
    "\n",
    "<br></br>\n",
    "<hr style=\"border: 1px solid #fdb515;\" />\n",
    "\n",
    "# Question 1 – Loading in the Datasets\n",
    "\n",
    "The datasets are located in the current `proj` directory. Using the code snippet below, find the corresponding file paths of the three csv's we'll be picking between for the final project."
   ]
  },
  {
   "cell_type": "code",
   "execution_count": 2,
   "id": "6a6a2751-d804-4b44-aa89-b27166c19456",
   "metadata": {},
   "outputs": [
    {
     "data": {
      "text/plain": [
       "['data6.png',\n",
       " 'cleaned_airline_tweets.csv',\n",
       " 'project.ipynb',\n",
       " 'cleaned_brexit.csv',\n",
       " '.ipynb_checkpoints',\n",
       " 'cleaned_climate_change.csv']"
      ]
     },
     "execution_count": 2,
     "metadata": {},
     "output_type": "execute_result"
    }
   ],
   "source": [
    "import os\n",
    "os.listdir() #Lists all of the current files in the directory we're in"
   ]
  },
  {
   "cell_type": "code",
   "execution_count": 8,
   "id": "9e708e0b-e6d2-4866-920b-5721fe45085c",
   "metadata": {},
   "outputs": [],
   "source": [
    "#Using the outputs from the above cell, load in the corresponding csv files.\n",
    "brexit_data = ...\n",
    "airline_data = ...\n",
    "climate_change_data = ..."
   ]
  },
  {
   "cell_type": "markdown",
   "id": "e535f9b6-4bc2-480d-8d03-f6596808436e",
   "metadata": {},
   "source": [
    "Now, take a look at each of the various datasets. This is your time to explore and see what interesting things you can spot off the bat!"
   ]
  },
  {
   "cell_type": "code",
   "execution_count": 4,
   "id": "605c8c1b-eeaf-43f6-8e1e-2c0bd2f5a5f3",
   "metadata": {},
   "outputs": [],
   "source": [
    "#OPTIONAL: EXPLORE YOUR DATASETS HERE"
   ]
  },
  {
   "cell_type": "markdown",
   "id": "479c83d0-02e3-4c38-8b2b-76308971e843",
   "metadata": {},
   "source": [
    "# Question 2 – Initial Exploration\n",
    "\n",
    "Now, take a look at the sources of each dataset.\n",
    "\n",
    "[Brexit data](https://www.kaggle.com/datasets/visalakshiiyer/twitter-data-brexit/data)\n",
    "\n",
    "[Twitter US Airline Sentiment](https://www.kaggle.com/datasets/crowdflower/twitter-airline-sentiment/data)\n",
    "\n",
    "[Climate Change Tweets](https://www.kaggle.com/datasets/die9origephit/climate-change-tweets)\n",
    "\n",
    "On the top right of each page, you can download the entire CSV, or scroll down to view some insights."
   ]
  },
  {
   "cell_type": "markdown",
   "id": "7ecd63c2-dc23-4e47-ac96-677d6030a686",
   "metadata": {},
   "source": [
    "What are some differences between the CSV's you've loaded in and the original datasets online? You can just focus on one specific dataset if you'd like to do so (for example, comparing the airline_data you loaded in just now, versus the one you see online). Just 2-3 sentences is appropriate."
   ]
  },
  {
   "cell_type": "markdown",
   "id": "aabec3b9-33ce-40ad-b26a-9065a84786db",
   "metadata": {},
   "source": [
    "REPLACE THIS TEXT WITH YOUR ANSWER HERE"
   ]
  },
  {
   "cell_type": "markdown",
   "id": "50bc2b97-32f6-4d22-ba72-6aac13dd7a5c",
   "metadata": {},
   "source": [
    "# Question 3 – Context\n",
    "You may have to do some additional research on each of the datasets to understand the context. **When answering each question, cite (in any way you'd like) any external sources you used to answer these questions.**\n",
    "\n",
    "For the Brexit dataset, answer the following question:\n",
    "\n",
    "- What was Brexit? Why was this issue so contentious?\n",
    "\n",
    "For the climate change dataset, answer the following questions:\n",
    "\n",
    "- Across what time period does this dataset cover?\n",
    "- Were there any important issues/events regarding climate change within this time period?\n",
    "\n",
    "For the airline tweets dataset, answer the following questions:\n",
    "\n",
    "- Across what time period does this dataset cover? Which airlines? (Hint: You can use np.unique to find all the various airlines this dataset covers).\n",
    "- Were there any important issues/events regarding airlines within this time period?\n",
    "\n",
    "A short paragraph for each dataset is sufficient (3-4 sentences)."
   ]
  },
  {
   "cell_type": "markdown",
   "id": "15cbe9d5-149b-4794-9624-76215d3e19b7",
   "metadata": {},
   "source": [
    "WRITE YOUR ANSWER FOR BREXIT HERE"
   ]
  },
  {
   "cell_type": "markdown",
   "id": "a4e36c3a-203c-40eb-a26b-c5a019a3d866",
   "metadata": {},
   "source": [
    "WRITE YOUR ANSWER FOR CLIMATE CHANGE HERE"
   ]
  },
  {
   "cell_type": "markdown",
   "id": "b7ac481c-a8c1-4892-a14b-bebc60b5d6ed",
   "metadata": {},
   "source": [
    "WRITE YOUR ANSWER FOR AIRLINE TWEETS HERE"
   ]
  },
  {
   "cell_type": "markdown",
   "id": "dfe5a74d-73e0-4014-9171-eecb325a8e02",
   "metadata": {},
   "source": [
    "# Question 4 – Choosing a CSS Task\n",
    "Now that we've done an initial exploration of each of these datasets, read through all of the possible CSS tasks in **Section 3.1 and 3.2** of [Ziems et. al's paper: Can Large Language Models Transform Computational Social Science?](https://direct.mit.edu/coli/article/50/1/237/118498/Can-Large-Language-Models-Transform-Computational)"
   ]
  },
  {
   "cell_type": "markdown",
   "id": "b9933b99-b2ed-428a-afa9-ad081972e533",
   "metadata": {},
   "source": [
    "Of all the possible CSS tasks, list three that are interesting to your group, and why. 2-3 sentences per CSS concept is appropriate."
   ]
  },
  {
   "cell_type": "markdown",
   "id": "fd8148f2-605a-4bef-bde9-d95b2452ad8a",
   "metadata": {},
   "source": [
    "YOUR ANSWER HERE"
   ]
  },
  {
   "cell_type": "markdown",
   "id": "db792fc0-acb6-47ec-a8c9-90d37cac0f02",
   "metadata": {},
   "source": [
    "# Question 5 – Picking your Dataset and Corresponding CSS Task\n",
    "In the cell below, note which dataset you'd like to work with in the final project, as well as the CSS concept your group would like to identify. Why did you pick this dataset combined with this particular CSS concept? 2-3 sentences is appropriate here."
   ]
  },
  {
   "cell_type": "code",
   "execution_count": 4,
   "id": "ef74622e-78a1-44f1-8704-14e2139ddbb8",
   "metadata": {},
   "outputs": [],
   "source": [
    "final_dataset = brexit_data # Assign this variable to brexit_data, airline_data, or climate_change_data\n",
    "css_concept = \"\" # Fill in this String with the CSS concept you've chosen"
   ]
  },
  {
   "cell_type": "markdown",
   "id": "1b13b628-28bb-499e-9326-d370c89da1a6",
   "metadata": {},
   "source": [
    "YOUR ANSWER HERE ON WHY YOU PICKED THIS DATASET AND CSS CONCEPT"
   ]
  },
  {
   "cell_type": "markdown",
   "id": "8bc3566b-7f07-4270-89f9-6e1fa33e9a34",
   "metadata": {},
   "source": [
    "<hr style=\"border: 5px solid #003262;\" />\n",
    "<hr style=\"border: 1px solid #fdb515;\" />\n",
    "\n",
    "\n",
    "# Section 2: Developing a Codebook, and Hand-Coding Responses\n",
    "\n",
    "<br></br>\n",
    "<hr style=\"border: 1px solid #fdb515;\" />\n",
    "\n",
    "# Question 6 – Developing a Codebook\n"
   ]
  },
  {
   "cell_type": "markdown",
   "id": "8db33ce0-3ff1-4c43-bf7a-1b624c261ca2",
   "metadata": {},
   "source": [
    "A codebook is a comprised of a set of (usually) categorical variables. For example, if the CSS concept we were measuring is with regards to emotion, a codebook might look like the following:"
   ]
  },
  {
   "cell_type": "markdown",
   "id": "2b4535ce-994e-419d-be3b-3c16755c9aa7",
   "metadata": {},
   "source": [
    "| General Category    | Description                                       | Values                          | Code |\n",
    "|---------------------|---------------------------------------------------|---------------------------------|------|\n",
    "| **Emotion**         | Expresses happiness or generally positive emotion. | Happiness                      | EM-HA |\n",
    "|                     | Expresses a feeling of sorrow or unhappiness.      | Sadness                        | EM-S |\n",
    "|                     | Expresses a feeling of displeasure or rage.        | Anger                          | EM-A |\n",
    "|                     | Expresses astonishment or unexpected reaction.     | Surprise                       | EM-SP |\n",
    "|                     | Expresses fear or anxiety.                         | Fear                           | EM-F |\n",
    "| **Intensity**       | Indicates a low amount of emotional strength.        | Low                            | IN-L |\n",
    "|                     | Indicates a moderate level of emotional strength.  | Medium                         | IN-M |\n",
    "|                     | Indicates a strong emotional reaction.             | High                           | IN-H |\n"
   ]
  },
  {
   "cell_type": "markdown",
   "id": "f8022483-8192-40a0-ad98-ad3744f7d78c",
   "metadata": {},
   "source": [
    "In other words, given your CSS concept, develop a codebook that you'd like to classify the text with. When developing a codebook, it can be helpful to read through some of the data before creating your values. For example, if I picked \"Stance\", I might read through some of the data to see various stances people take so I can categorize them. Your codebook should have the same 4 column titles as the codebook above. Your codebook can have anywhere from 3-10 codes."
   ]
  },
  {
   "cell_type": "markdown",
   "id": "7bf431b3-f37f-4189-a496-d95bf99c73f1",
   "metadata": {},
   "source": [
    "PUT YOUR INITIAL CODEBOOK HERE"
   ]
  },
  {
   "cell_type": "markdown",
   "id": "ea2a4108-6e3e-459a-ab5a-5b16dc773bdc",
   "metadata": {},
   "source": [
    "# Question 7 – Hand Coding Responses\n",
    "Now that you've made a codebook, try hand coding 20 responses! Each partner should hand-code the same responses according to the codebook.\n",
    "\n",
    "Once you've hand coded those responses, add that as a new column to the `hand_coded_dataset` table, one column for each partner.\n",
    "\n",
    "We've provided you a useful utility which will show you the text for each piece of data, then allow you to type in the corresponding applicable codes."
   ]
  },
  {
   "cell_type": "markdown",
   "id": "36e1b739-57ad-4ec3-9571-37ba570cf072",
   "metadata": {},
   "source": [
    "Here's an example Tweet from the airline CSV, and how I would personally code it:\n",
    "\n",
    "Tweet: \"\ttext\n",
    "185\t@AmericanAir bought a ticket on @SouthwestAir. After two days, your \"team\" couldn't share the data needed to get me to my next meeting.\"\n",
    "\n",
    "Coded Response: EM-A IN-M"
   ]
  },
  {
   "cell_type": "code",
   "execution_count": null,
   "id": "ee44e6df-299c-498d-8a4c-d8129efd2e6f",
   "metadata": {},
   "outputs": [],
   "source": [
    "#You are welcome to change any of this code to fit your needs! \n",
    "\n",
    "hand_coded_dataset = final_dataset.take(np.arange(0, 20)) #Take the top 20 rows from your final dataset\n",
    "\n",
    "hand_coded_responses = make_array() #This will contain the codes you apply to each piece of data\n",
    "for response in hand_coded_dataset.column(...): #PUT THE NAME OF YOUR TEXT COLUMN HERE\n",
    "    hand_coded_responses = np.append(hand_coded_responses, input(response))\n",
    "\n",
    "#Finally, add hand_coded_responses as a column inside the hand_coded_dataset table!"
   ]
  },
  {
   "cell_type": "code",
   "execution_count": 10,
   "id": "e76ded45-d55b-430c-8289-a706421fd149",
   "metadata": {},
   "outputs": [
    {
     "data": {
      "text/plain": [
       "array(['EM-H 1', '', '', '', '', '', '', '', '', '', '', '', '', '', '',\n",
       "       '', '', '', '', ''],\n",
       "      dtype='<U32')"
      ]
     },
     "execution_count": 10,
     "metadata": {},
     "output_type": "execute_result"
    }
   ],
   "source": [
    "hand_coded_responses"
   ]
  },
  {
   "cell_type": "markdown",
   "id": "facb282b-3a1b-4ad2-933f-25b49d96165b",
   "metadata": {},
   "source": [
    "# Question 8 – Reflection\n",
    "Reflect on the process for hand-coding your responses. When doing so, answer the following questions:\n",
    "\n",
    "How long did it take you?\n",
    "Was your codebook robust enough? Did you run into any situations where the codebook was insufficient?\n",
    "Did you generally agree or disagree with your partner on categorizing any of the responses?\n",
    "Finally, predict how well you think a LLM (like chatgpt) can perform this specific task."
   ]
  },
  {
   "cell_type": "markdown",
   "id": "dfb61823-ea35-4196-9af2-5b1005a3b695",
   "metadata": {},
   "source": [
    "YOUR ANSWER HERE"
   ]
  },
  {
   "cell_type": "markdown",
   "id": "14a3c9ac-9759-48fb-8d1c-a987b6834a1b",
   "metadata": {},
   "source": [
    "# Submission\n",
    "\n",
    "Once you're done, go to File --> Save and Export Notebook as --> PDF, and submit to Gradescope! Congrats on finishing Part 1 of the Final Project!"
   ]
  },
  {
   "cell_type": "code",
   "execution_count": null,
   "id": "d1aec832-bbbf-4939-b607-2f303c8e2c06",
   "metadata": {},
   "outputs": [],
   "source": []
  }
 ],
 "metadata": {
  "kernelspec": {
   "display_name": "Python 3 (ipykernel)",
   "language": "python",
   "name": "python3"
  },
  "language_info": {
   "codemirror_mode": {
    "name": "ipython",
    "version": 3
   },
   "file_extension": ".py",
   "mimetype": "text/x-python",
   "name": "python",
   "nbconvert_exporter": "python",
   "pygments_lexer": "ipython3",
   "version": "3.11.10"
  }
 },
 "nbformat": 4,
 "nbformat_minor": 5
}
