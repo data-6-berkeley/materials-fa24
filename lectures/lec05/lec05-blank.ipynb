{
 "cells": [
  {
   "cell_type": "markdown",
   "id": "881184d3",
   "metadata": {},
   "source": [
    "# Lecture 5 – Evaluation, Names, Data Types\n",
    "\n",
    "### Data 6, Fall 2024"
   ]
  },
  {
   "cell_type": "code",
   "execution_count": 37,
   "id": "7c1ed79a",
   "metadata": {},
   "outputs": [],
   "source": [
    "#from datascience import *\n",
    "from numpy import * #Why is this not preferred?\n",
    "import numpy as np #Why is this preferred?\n",
    "import datascience as ds"
   ]
  },
  {
   "cell_type": "code",
   "execution_count": 63,
   "id": "9d28087f-48ab-4d6e-91f5-db4e50989205",
   "metadata": {},
   "outputs": [
    {
     "data": {
      "text/plain": [
       "float"
      ]
     },
     "execution_count": 63,
     "metadata": {},
     "output_type": "execute_result"
    }
   ],
   "source": [
    "c_temps = ds.make_array(30, 18, -4.5, 0, 3)\n",
    "\n",
    "type(c_temps.item(0))\n"
   ]
  },
  {
   "cell_type": "markdown",
   "id": "127a088f",
   "metadata": {},
   "source": [
    "## Warmup"
   ]
  },
  {
   "cell_type": "code",
   "execution_count": 24,
   "id": "3a10faa2",
   "metadata": {},
   "outputs": [],
   "source": [
    "pop_2020 = make_array(5.025, .732, 7.178, 3.012, 39.500)\n",
    "pop_2021 = make_array(5.040, .733, 7.276, 3.026, 39.238)"
   ]
  },
  {
   "cell_type": "code",
   "execution_count": 25,
   "id": "954a5620",
   "metadata": {},
   "outputs": [
    {
     "data": {
      "text/plain": [
       "array([ 0.015,  0.001,  0.098,  0.014, -0.262])"
      ]
     },
     "execution_count": 25,
     "metadata": {},
     "output_type": "execute_result"
    }
   ],
   "source": [
    "pop_2021 - pop_2020"
   ]
  },
  {
   "cell_type": "code",
   "execution_count": 8,
   "id": "47d21886",
   "metadata": {},
   "outputs": [
    {
     "data": {
      "text/plain": [
       "11.089400000000001"
      ]
     },
     "execution_count": 8,
     "metadata": {},
     "output_type": "execute_result"
    }
   ],
   "source": [
    "average(pop_2020)"
   ]
  },
  {
   "cell_type": "code",
   "execution_count": 3,
   "id": "ccf1b38a-8a24-424a-b316-6bca02ff3a9e",
   "metadata": {},
   "outputs": [
    {
     "name": "stdout",
     "output_type": "stream",
     "text": [
      "3\n",
      "None\n",
      "None\n"
     ]
    }
   ],
   "source": [
    "x = print(print(3))\n",
    "print(x)"
   ]
  },
  {
   "cell_type": "markdown",
   "id": "4f6f09f1",
   "metadata": {},
   "source": [
    "<br/><br/>\n",
    "\n",
    "# Array Functions\n",
    "Array functions in Python, such as len, min, and max, are essential tools for manipulating and analyzing arrays or lists of data. \n",
    "\n",
    "The `len` function returns the length of an array, providing the number of elements it contains. This is useful for determining the size of an array dynamically. \n",
    "\n",
    "The `min` function identifies the smallest value within an array, while the `max` function retrieves the largest value. \n",
    "\n",
    "The `sum` function sums all of the values in an array.\n",
    "\n",
    "These functions are handy when searching for extremities or performing basic statistical analysis on arrays. \n",
    "\n",
    "With their simplicity and efficiency, `len`, `min`, `max`, and `sum` are versatile array functions that greatly enhance Python's capabilities in data processing and analysis."
   ]
  },
  {
   "cell_type": "code",
   "execution_count": 8,
   "id": "f04fbaa9",
   "metadata": {},
   "outputs": [],
   "source": [
    "empty_arr = make_array()\n",
    "int_arr = make_array(3, -4, 0, 5, 2)\n",
    "str_arr = make_array(\"cm\", \"m\", \"in\", \"ft\", \"yd\")"
   ]
  },
  {
   "cell_type": "code",
   "execution_count": 9,
   "id": "118ee8f0",
   "metadata": {
    "scrolled": true
   },
   "outputs": [
    {
     "name": "stdout",
     "output_type": "stream",
     "text": [
      "[]\n",
      "[ 3 -4  0  5  2]\n",
      "['cm' 'm' 'in' 'ft' 'yd']\n"
     ]
    }
   ],
   "source": [
    "print(empty_arr)\n",
    "print(int_arr)\n",
    "print(str_arr)"
   ]
  },
  {
   "cell_type": "markdown",
   "id": "f5d13ab5",
   "metadata": {},
   "source": [
    "`len()`"
   ]
  },
  {
   "cell_type": "code",
   "execution_count": 10,
   "id": "cdee96c9",
   "metadata": {},
   "outputs": [
    {
     "data": {
      "text/plain": [
       "5"
      ]
     },
     "execution_count": 10,
     "metadata": {},
     "output_type": "execute_result"
    }
   ],
   "source": [
    "len(str_arr)"
   ]
  },
  {
   "cell_type": "code",
   "execution_count": 11,
   "id": "ff186f6b",
   "metadata": {},
   "outputs": [
    {
     "data": {
      "text/plain": [
       "0"
      ]
     },
     "execution_count": 11,
     "metadata": {},
     "output_type": "execute_result"
    }
   ],
   "source": [
    "len(empty_arr)"
   ]
  },
  {
   "cell_type": "markdown",
   "id": "976f9f36",
   "metadata": {},
   "source": [
    "`min()`, `max()`"
   ]
  },
  {
   "cell_type": "code",
   "execution_count": 12,
   "id": "3f07496f",
   "metadata": {},
   "outputs": [
    {
     "data": {
      "text/plain": [
       "-4"
      ]
     },
     "execution_count": 12,
     "metadata": {},
     "output_type": "execute_result"
    }
   ],
   "source": [
    "min(int_arr)"
   ]
  },
  {
   "cell_type": "code",
   "execution_count": 13,
   "id": "3e81edba",
   "metadata": {},
   "outputs": [
    {
     "data": {
      "text/plain": [
       "'yd'"
      ]
     },
     "execution_count": 13,
     "metadata": {},
     "output_type": "execute_result"
    }
   ],
   "source": [
    "max(str_arr)"
   ]
  },
  {
   "cell_type": "markdown",
   "id": "722843a9",
   "metadata": {},
   "source": [
    "`sum()`"
   ]
  },
  {
   "cell_type": "code",
   "execution_count": 14,
   "id": "f0d94d07",
   "metadata": {},
   "outputs": [
    {
     "data": {
      "text/plain": [
       "6"
      ]
     },
     "execution_count": 14,
     "metadata": {},
     "output_type": "execute_result"
    }
   ],
   "source": [
    "sum(int_arr)"
   ]
  },
  {
   "cell_type": "code",
   "execution_count": 15,
   "id": "74b4c629",
   "metadata": {
    "scrolled": true
   },
   "outputs": [
    {
     "ename": "TypeError",
     "evalue": "unsupported operand type(s) for +: 'int' and 'numpy.str_'",
     "output_type": "error",
     "traceback": [
      "\u001b[0;31m---------------------------------------------------------------------------\u001b[0m",
      "\u001b[0;31mTypeError\u001b[0m                                 Traceback (most recent call last)",
      "Cell \u001b[0;32mIn[15], line 1\u001b[0m\n\u001b[0;32m----> 1\u001b[0m \u001b[38;5;28;43msum\u001b[39;49m\u001b[43m(\u001b[49m\u001b[43mstr_arr\u001b[49m\u001b[43m)\u001b[49m\n",
      "\u001b[0;31mTypeError\u001b[0m: unsupported operand type(s) for +: 'int' and 'numpy.str_'"
     ]
    }
   ],
   "source": [
    "sum(str_arr)"
   ]
  },
  {
   "cell_type": "markdown",
   "id": "730bee35",
   "metadata": {},
   "source": [
    "How would you compute the average of an array arr?"
   ]
  },
  {
   "cell_type": "code",
   "execution_count": null,
   "id": "b572ef5b",
   "metadata": {},
   "outputs": [],
   "source": [
    "arr = make_array(30, -40, -4.5, 0, 35)\n",
    "avg = ...\n",
    "avg"
   ]
  },
  {
   "cell_type": "markdown",
   "id": "b4b64ac1",
   "metadata": {},
   "source": [
    "## NumPy Functions"
   ]
  },
  {
   "cell_type": "code",
   "execution_count": 16,
   "id": "55ca0f9f",
   "metadata": {},
   "outputs": [],
   "source": [
    "import numpy as np"
   ]
  },
  {
   "cell_type": "markdown",
   "id": "b016439a",
   "metadata": {},
   "source": [
    "Elementwise functions"
   ]
  },
  {
   "cell_type": "code",
   "execution_count": 17,
   "id": "e94298eb",
   "metadata": {},
   "outputs": [
    {
     "data": {
      "text/plain": [
       "array([  5,   4,   9,  12, 100])"
      ]
     },
     "execution_count": 17,
     "metadata": {},
     "output_type": "execute_result"
    }
   ],
   "source": [
    "numbers_arr = make_array(5, 4, 9, 12, 100)\n",
    "numbers_arr"
   ]
  },
  {
   "cell_type": "code",
   "execution_count": 18,
   "id": "d255ea7b",
   "metadata": {},
   "outputs": [
    {
     "data": {
      "text/plain": [
       "array([  2.23606798,   2.        ,   3.        ,   3.46410162,  10.        ])"
      ]
     },
     "execution_count": 18,
     "metadata": {},
     "output_type": "execute_result"
    }
   ],
   "source": [
    "np.sqrt(numbers_arr)"
   ]
  },
  {
   "cell_type": "code",
   "execution_count": 19,
   "id": "788bb503",
   "metadata": {
    "scrolled": true
   },
   "outputs": [
    {
     "data": {
      "text/plain": [
       "array([ 1.60943791,  1.38629436,  2.19722458,  2.48490665,  4.60517019])"
      ]
     },
     "execution_count": 19,
     "metadata": {},
     "output_type": "execute_result"
    }
   ],
   "source": [
    "np.log(numbers_arr)   # natural log"
   ]
  },
  {
   "cell_type": "code",
   "execution_count": 20,
   "id": "e957300a",
   "metadata": {},
   "outputs": [
    {
     "data": {
      "text/plain": [
       "array([ 0.69897   ,  0.60205999,  0.95424251,  1.07918125,  2.        ])"
      ]
     },
     "execution_count": 20,
     "metadata": {},
     "output_type": "execute_result"
    }
   ],
   "source": [
    "np.log10(numbers_arr) # log base 10"
   ]
  },
  {
   "cell_type": "code",
   "execution_count": 21,
   "id": "53a29c4f",
   "metadata": {},
   "outputs": [
    {
     "data": {
      "text/plain": [
       "array([-0.95892427, -0.7568025 ,  0.41211849, -0.53657292, -0.50636564])"
      ]
     },
     "execution_count": 21,
     "metadata": {},
     "output_type": "execute_result"
    }
   ],
   "source": [
    "np.sin(numbers_arr)"
   ]
  },
  {
   "cell_type": "code",
   "execution_count": 22,
   "id": "d9923a92",
   "metadata": {
    "scrolled": true
   },
   "outputs": [
    {
     "data": {
      "text/plain": [
       "12.0"
      ]
     },
     "execution_count": 22,
     "metadata": {},
     "output_type": "execute_result"
    }
   ],
   "source": [
    "np.sqrt(144)"
   ]
  },
  {
   "cell_type": "markdown",
   "id": "9eaa9f1d",
   "metadata": {},
   "source": [
    "Common functions"
   ]
  },
  {
   "cell_type": "code",
   "execution_count": 27,
   "id": "bc03eda2",
   "metadata": {},
   "outputs": [
    {
     "data": {
      "text/plain": [
       "array([  5.025,   0.732,   7.178,   3.012,  39.5  ])"
      ]
     },
     "execution_count": 27,
     "metadata": {},
     "output_type": "execute_result"
    }
   ],
   "source": [
    "pop_2020"
   ]
  },
  {
   "cell_type": "code",
   "execution_count": 26,
   "id": "51a52335",
   "metadata": {},
   "outputs": [
    {
     "data": {
      "text/plain": [
       "11.089400000000001"
      ]
     },
     "execution_count": 26,
     "metadata": {},
     "output_type": "execute_result"
    }
   ],
   "source": [
    "np.mean(pop_2020)"
   ]
  },
  {
   "cell_type": "code",
   "execution_count": 28,
   "id": "a434ce14",
   "metadata": {},
   "outputs": [
    {
     "data": {
      "text/plain": [
       "11.089400000000001"
      ]
     },
     "execution_count": 28,
     "metadata": {},
     "output_type": "execute_result"
    }
   ],
   "source": [
    "np.average(pop_2020)"
   ]
  },
  {
   "cell_type": "code",
   "execution_count": 29,
   "id": "cfd21b08",
   "metadata": {},
   "outputs": [
    {
     "data": {
      "text/plain": [
       "55.447000000000003"
      ]
     },
     "execution_count": 29,
     "metadata": {},
     "output_type": "execute_result"
    }
   ],
   "source": [
    "np.sum(pop_2020)"
   ]
  },
  {
   "cell_type": "code",
   "execution_count": 30,
   "id": "e1568fe2",
   "metadata": {},
   "outputs": [
    {
     "data": {
      "text/plain": [
       "3141.2511768275995"
      ]
     },
     "execution_count": 30,
     "metadata": {},
     "output_type": "execute_result"
    }
   ],
   "source": [
    "np.prod(pop_2020)"
   ]
  },
  {
   "cell_type": "code",
   "execution_count": 31,
   "id": "ff9bd1ed",
   "metadata": {},
   "outputs": [
    {
     "data": {
      "text/plain": [
       "5"
      ]
     },
     "execution_count": 31,
     "metadata": {},
     "output_type": "execute_result"
    }
   ],
   "source": [
    "np.count_nonzero(make_array(1, 2, 3, 0, 4, 0, -5))"
   ]
  },
  {
   "cell_type": "markdown",
   "id": "84d05587",
   "metadata": {},
   "source": [
    "### Even More Functions"
   ]
  },
  {
   "cell_type": "code",
   "execution_count": 32,
   "id": "6154b1c8",
   "metadata": {},
   "outputs": [
    {
     "data": {
      "text/plain": [
       "array([73, 71, 69, 72, 76, 74, 75])"
      ]
     },
     "execution_count": 32,
     "metadata": {},
     "output_type": "execute_result"
    }
   ],
   "source": [
    "daily_high_temps = make_array(73, 71, 69, 72, 76, 74, 75)\n",
    "daily_high_temps"
   ]
  },
  {
   "cell_type": "code",
   "execution_count": 33,
   "id": "f07fd3b1",
   "metadata": {},
   "outputs": [
    {
     "data": {
      "text/plain": [
       "array([-2, -2,  3,  4, -2,  1])"
      ]
     },
     "execution_count": 33,
     "metadata": {},
     "output_type": "execute_result"
    }
   ],
   "source": [
    "np.diff(daily_high_temps)"
   ]
  },
  {
   "cell_type": "code",
   "execution_count": 34,
   "id": "adae1236",
   "metadata": {},
   "outputs": [
    {
     "data": {
      "text/plain": [
       "array([ 23,  45,  93, 101, 118])"
      ]
     },
     "execution_count": 34,
     "metadata": {},
     "output_type": "execute_result"
    }
   ],
   "source": [
    "pop_by_year = make_array(23, 45, 93, 101, 118)\n",
    "pop_by_year"
   ]
  },
  {
   "cell_type": "code",
   "execution_count": 39,
   "id": "aa4b561a",
   "metadata": {},
   "outputs": [
    {
     "data": {
      "text/plain": [
       "array([ 23,  68, 161, 262, 380])"
      ]
     },
     "execution_count": 39,
     "metadata": {},
     "output_type": "execute_result"
    }
   ],
   "source": [
    "np.cumsum(pop_by_year)"
   ]
  },
  {
   "cell_type": "code",
   "execution_count": 40,
   "id": "4e15c46f",
   "metadata": {},
   "outputs": [
    {
     "data": {
      "text/plain": [
       "array([0, 1, 2, 3, 4, 5, 6, 7, 8, 9])"
      ]
     },
     "execution_count": 40,
     "metadata": {},
     "output_type": "execute_result"
    }
   ],
   "source": [
    "np.arange(10)\n",
    "make_array(0, 1, 2, 3, 4...9)"
   ]
  },
  {
   "cell_type": "code",
   "execution_count": 41,
   "id": "5cc1cd52",
   "metadata": {},
   "outputs": [
    {
     "data": {
      "text/plain": [
       "array([3, 4, 5, 6, 7, 8])"
      ]
     },
     "execution_count": 41,
     "metadata": {},
     "output_type": "execute_result"
    }
   ],
   "source": [
    "arr = np.arange(3, 9)\n",
    "arr"
   ]
  },
  {
   "cell_type": "code",
   "execution_count": 43,
   "id": "dc219113",
   "metadata": {},
   "outputs": [
    {
     "data": {
      "text/plain": [
       "array([ 3, 10])"
      ]
     },
     "execution_count": 43,
     "metadata": {},
     "output_type": "execute_result"
    }
   ],
   "source": [
    "np.arange(3, 14, 7)"
   ]
  },
  {
   "cell_type": "code",
   "execution_count": 44,
   "id": "e419d0b6",
   "metadata": {},
   "outputs": [
    {
     "data": {
      "text/plain": [
       "array([ 1,  2,  3,  4,  5,  6,  7,  8,  9, 10])"
      ]
     },
     "execution_count": 44,
     "metadata": {},
     "output_type": "execute_result"
    }
   ],
   "source": [
    "arr = np.arange(1, 11)\n",
    "arr"
   ]
  },
  {
   "cell_type": "code",
   "execution_count": 45,
   "id": "9c963c50",
   "metadata": {},
   "outputs": [
    {
     "data": {
      "text/plain": [
       "55"
      ]
     },
     "execution_count": 45,
     "metadata": {},
     "output_type": "execute_result"
    }
   ],
   "source": [
    "np.sum(arr)"
   ]
  },
  {
   "cell_type": "code",
   "execution_count": 46,
   "id": "7c99e5fb",
   "metadata": {},
   "outputs": [
    {
     "data": {
      "text/plain": [
       "array([3, 5, 7, 9])"
      ]
     },
     "execution_count": 46,
     "metadata": {},
     "output_type": "execute_result"
    }
   ],
   "source": [
    "np.arange(3, 11, 2)"
   ]
  },
  {
   "cell_type": "code",
   "execution_count": 47,
   "id": "fef38a67",
   "metadata": {},
   "outputs": [
    {
     "data": {
      "text/plain": [
       "array([10,  7,  4])"
      ]
     },
     "execution_count": 47,
     "metadata": {},
     "output_type": "execute_result"
    }
   ],
   "source": [
    "np.arange(10, 1, -3)"
   ]
  },
  {
   "cell_type": "markdown",
   "id": "3ce23eed",
   "metadata": {},
   "source": [
    "# Indexing"
   ]
  },
  {
   "cell_type": "code",
   "execution_count": 48,
   "id": "d258ea5e",
   "metadata": {},
   "outputs": [
    {
     "data": {
      "text/plain": [
       "array([ 1,  4,  9, 16, 25])"
      ]
     },
     "execution_count": 48,
     "metadata": {},
     "output_type": "execute_result"
    }
   ],
   "source": [
    "sq_array = make_array(1, 4, 9, 16, 25)\n",
    "sq_array"
   ]
  },
  {
   "cell_type": "code",
   "execution_count": 49,
   "id": "35ca886a",
   "metadata": {},
   "outputs": [
    {
     "data": {
      "text/plain": [
       "numpy.ndarray"
      ]
     },
     "execution_count": 49,
     "metadata": {},
     "output_type": "execute_result"
    }
   ],
   "source": [
    "type(sq_array)"
   ]
  },
  {
   "cell_type": "code",
   "execution_count": 50,
   "id": "0da4bbe2",
   "metadata": {},
   "outputs": [
    {
     "data": {
      "text/plain": [
       "array([ 3, -4,  0,  5,  2])"
      ]
     },
     "execution_count": 50,
     "metadata": {},
     "output_type": "execute_result"
    }
   ],
   "source": [
    "int_arr = make_array(3, -4, 0, 5, 2)\n",
    "int_arr"
   ]
  },
  {
   "cell_type": "code",
   "execution_count": 51,
   "id": "2732f6e1",
   "metadata": {},
   "outputs": [
    {
     "data": {
      "text/plain": [
       "3"
      ]
     },
     "execution_count": 51,
     "metadata": {},
     "output_type": "execute_result"
    }
   ],
   "source": [
    "int_arr.item(0)"
   ]
  },
  {
   "cell_type": "code",
   "execution_count": 52,
   "id": "ccf44e88",
   "metadata": {},
   "outputs": [
    {
     "data": {
      "text/plain": [
       "5"
      ]
     },
     "execution_count": 52,
     "metadata": {},
     "output_type": "execute_result"
    }
   ],
   "source": [
    "int_arr.item(3)"
   ]
  },
  {
   "cell_type": "code",
   "execution_count": 53,
   "id": "98d8c7a8",
   "metadata": {},
   "outputs": [
    {
     "ename": "IndexError",
     "evalue": "index 5 is out of bounds for axis 0 with size 5",
     "output_type": "error",
     "traceback": [
      "\u001b[0;31m---------------------------------------------------------------------------\u001b[0m",
      "\u001b[0;31mIndexError\u001b[0m                                Traceback (most recent call last)",
      "Cell \u001b[0;32mIn[53], line 1\u001b[0m\n\u001b[0;32m----> 1\u001b[0m \u001b[43mint_arr\u001b[49m\u001b[38;5;241;43m.\u001b[39;49m\u001b[43mitem\u001b[49m\u001b[43m(\u001b[49m\u001b[38;5;241;43m5\u001b[39;49m\u001b[43m)\u001b[49m\n",
      "\u001b[0;31mIndexError\u001b[0m: index 5 is out of bounds for axis 0 with size 5"
     ]
    }
   ],
   "source": [
    "int_arr.item(5)"
   ]
  },
  {
   "cell_type": "code",
   "execution_count": 54,
   "id": "393b1670",
   "metadata": {},
   "outputs": [
    {
     "data": {
      "text/plain": [
       "2"
      ]
     },
     "execution_count": 54,
     "metadata": {},
     "output_type": "execute_result"
    }
   ],
   "source": [
    "int_arr.item(len(int_arr) - 1) #Grab the last item inside int_arr"
   ]
  },
  {
   "cell_type": "code",
   "execution_count": 55,
   "id": "ce69a673",
   "metadata": {},
   "outputs": [
    {
     "data": {
      "text/plain": [
       "2"
      ]
     },
     "execution_count": 55,
     "metadata": {},
     "output_type": "execute_result"
    }
   ],
   "source": [
    "int_arr.item(-1)"
   ]
  },
  {
   "cell_type": "code",
   "execution_count": 56,
   "id": "117a8207",
   "metadata": {},
   "outputs": [
    {
     "data": {
      "text/plain": [
       "0"
      ]
     },
     "execution_count": 56,
     "metadata": {},
     "output_type": "execute_result"
    }
   ],
   "source": [
    "int_arr.item(-3)"
   ]
  },
  {
   "cell_type": "code",
   "execution_count": 57,
   "id": "96f6f3e4",
   "metadata": {},
   "outputs": [],
   "source": [
    "test_array = make_array(10, 14, 67, -1.5, 3.2, 2.72, 104, 81, 3.14159)"
   ]
  },
  {
   "cell_type": "code",
   "execution_count": 58,
   "id": "8c15eef9",
   "metadata": {},
   "outputs": [
    {
     "data": {
      "text/plain": [
       "10.0"
      ]
     },
     "execution_count": 58,
     "metadata": {},
     "output_type": "execute_result"
    }
   ],
   "source": [
    "# first (0th element)\n",
    "test_array.item(0)"
   ]
  },
  {
   "cell_type": "code",
   "execution_count": 59,
   "id": "5e3494ec",
   "metadata": {},
   "outputs": [
    {
     "data": {
      "text/plain": [
       "14.0"
      ]
     },
     "execution_count": 59,
     "metadata": {},
     "output_type": "execute_result"
    }
   ],
   "source": [
    "# second (1st element)\n",
    "test_array.item(1)"
   ]
  },
  {
   "cell_type": "code",
   "execution_count": 60,
   "id": "997dc25c",
   "metadata": {},
   "outputs": [
    {
     "data": {
      "text/plain": [
       "3.14159"
      ]
     },
     "execution_count": 60,
     "metadata": {},
     "output_type": "execute_result"
    }
   ],
   "source": [
    "# last element\n",
    "test_array.item(len(test_array) - 1)\n",
    "# OR \n",
    "test_array.item(-1)"
   ]
  },
  {
   "cell_type": "code",
   "execution_count": 61,
   "id": "ebc02691",
   "metadata": {},
   "outputs": [
    {
     "data": {
      "text/plain": [
       "81.0"
      ]
     },
     "execution_count": 61,
     "metadata": {},
     "output_type": "execute_result"
    }
   ],
   "source": [
    "# second to last element\n",
    "test_array.item(-2)"
   ]
  },
  {
   "cell_type": "markdown",
   "id": "76ae3612",
   "metadata": {},
   "source": [
    "What is the value of `five` after running this code?"
   ]
  },
  {
   "cell_type": "code",
   "execution_count": null,
   "id": "e15d1e97",
   "metadata": {},
   "outputs": [],
   "source": [
    "threes = make_array(3, 6, 9, 12, 15)\n",
    "five = threes.item(-1) + threes.item(1)\n",
    "five"
   ]
  }
 ],
 "metadata": {
  "kernelspec": {
   "display_name": "Python 3 (ipykernel)",
   "language": "python",
   "name": "python3"
  },
  "language_info": {
   "codemirror_mode": {
    "name": "ipython",
    "version": 3
   },
   "file_extension": ".py",
   "mimetype": "text/x-python",
   "name": "python",
   "nbconvert_exporter": "python",
   "pygments_lexer": "ipython3",
   "version": "3.11.9"
  }
 },
 "nbformat": 4,
 "nbformat_minor": 5
}
