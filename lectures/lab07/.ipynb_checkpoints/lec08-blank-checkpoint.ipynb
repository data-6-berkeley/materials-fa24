{
 "cells": [
  {
   "cell_type": "markdown",
   "metadata": {},
   "source": [
    "# Lecture 8 – Table Fundamentals\n",
    "\n",
    "## Data 6, Fall 2024"
   ]
  },
  {
   "cell_type": "code",
   "execution_count": 11,
   "metadata": {},
   "outputs": [],
   "source": [
    "from datascience import *\n",
    "import numpy as np"
   ]
  },
  {
   "cell_type": "code",
   "execution_count": 12,
   "metadata": {},
   "outputs": [],
   "source": [
    "# Warm Up"
   ]
  },
  {
   "cell_type": "code",
   "execution_count": 13,
   "metadata": {},
   "outputs": [
    {
     "data": {
      "text/html": [
       "<table border=\"1\" class=\"dataframe\">\n",
       "    <thead>\n",
       "        <tr>\n",
       "            <th>Name</th> <th>Institution</th> <th>City</th> <th>County</th> <th>Enrollment</th> <th>Founded</th>\n",
       "        </tr>\n",
       "    </thead>\n",
       "    <tbody>\n",
       "        <tr>\n",
       "            <td>University of California, Berkeley          </td> <td>UC         </td> <td>Berkeley     </td> <td>Alameda      </td> <td>42,519    </td> <td>1869   </td>\n",
       "        </tr>\n",
       "        <tr>\n",
       "            <td>University of California, Davis             </td> <td>UC         </td> <td>Davis        </td> <td>Yolo         </td> <td>39,152    </td> <td>1905   </td>\n",
       "        </tr>\n",
       "        <tr>\n",
       "            <td>University of California, Irvine            </td> <td>UC         </td> <td>Irvine       </td> <td>Orange       </td> <td>35,220    </td> <td>1965   </td>\n",
       "        </tr>\n",
       "        <tr>\n",
       "            <td>University of California, Los Angeles       </td> <td>UC         </td> <td>Los Angeles  </td> <td>Los Angeles  </td> <td>45,428    </td> <td>1882   </td>\n",
       "        </tr>\n",
       "        <tr>\n",
       "            <td>University of California, Merced            </td> <td>UC         </td> <td>Merced       </td> <td>Merced       </td> <td>8,544     </td> <td>2005   </td>\n",
       "        </tr>\n",
       "        <tr>\n",
       "            <td>University of California, Riverside         </td> <td>UC         </td> <td>Riverside    </td> <td>Riverside    </td> <td>23,278    </td> <td>1954   </td>\n",
       "        </tr>\n",
       "        <tr>\n",
       "            <td>University of California, San Diego         </td> <td>UC         </td> <td>San Diego    </td> <td>San Diego    </td> <td>38,798    </td> <td>1960   </td>\n",
       "        </tr>\n",
       "        <tr>\n",
       "            <td>University of California, Santa Barbara     </td> <td>UC         </td> <td>Santa Barbara</td> <td>Santa Barbara</td> <td>24,346    </td> <td>1891   </td>\n",
       "        </tr>\n",
       "        <tr>\n",
       "            <td>University of California, Santa Cruz        </td> <td>UC         </td> <td>Santa Cruz   </td> <td>Santa Cruz   </td> <td>19,700    </td> <td>1965   </td>\n",
       "        </tr>\n",
       "        <tr>\n",
       "            <td>California State University Maritime Academy</td> <td>CSU        </td> <td>Vallejo      </td> <td>Solano       </td> <td>1,017     </td> <td>1929   </td>\n",
       "        </tr>\n",
       "    </tbody>\n",
       "</table>\n",
       "<p>... (22 rows omitted)</p>"
      ],
      "text/plain": [
       "Name                                         | Institution | City          | County        | Enrollment | Founded\n",
       "University of California, Berkeley           | UC          | Berkeley      | Alameda       | 42,519     | 1869\n",
       "University of California, Davis              | UC          | Davis         | Yolo          | 39,152     | 1905\n",
       "University of California, Irvine             | UC          | Irvine        | Orange        | 35,220     | 1965\n",
       "University of California, Los Angeles        | UC          | Los Angeles   | Los Angeles   | 45,428     | 1882\n",
       "University of California, Merced             | UC          | Merced        | Merced        | 8,544      | 2005\n",
       "University of California, Riverside          | UC          | Riverside     | Riverside     | 23,278     | 1954\n",
       "University of California, San Diego          | UC          | San Diego     | San Diego     | 38,798     | 1960\n",
       "University of California, Santa Barbara      | UC          | Santa Barbara | Santa Barbara | 24,346     | 1891\n",
       "University of California, Santa Cruz         | UC          | Santa Cruz    | Santa Cruz    | 19,700     | 1965\n",
       "California State University Maritime Academy | CSU         | Vallejo       | Solano        | 1,017      | 1929\n",
       "... (22 rows omitted)"
      ]
     },
     "execution_count": 13,
     "metadata": {},
     "output_type": "execute_result"
    }
   ],
   "source": [
    "schools = Table.read_table('data/cal_unis.csv')\n",
    "schools"
   ]
  },
  {
   "cell_type": "code",
   "execution_count": 14,
   "metadata": {},
   "outputs": [
    {
     "data": {
      "text/plain": [
       "32"
      ]
     },
     "execution_count": 14,
     "metadata": {},
     "output_type": "execute_result"
    }
   ],
   "source": [
    "schools.num_rows"
   ]
  },
  {
   "cell_type": "code",
   "execution_count": 15,
   "metadata": {},
   "outputs": [
    {
     "data": {
      "text/plain": [
       "array(['University of California, Berkeley',\n",
       "       'University of California, Davis',\n",
       "       'University of California, Irvine',\n",
       "       'University of California, Los Angeles',\n",
       "       'University of California, Merced',\n",
       "       'University of California, Riverside',\n",
       "       'University of California, San Diego',\n",
       "       'University of California, Santa Barbara',\n",
       "       'University of California, Santa Cruz',\n",
       "       'California State University Maritime Academy',\n",
       "       'California Polytechnic State University',\n",
       "       'California State Polytechnic University, Pomona',\n",
       "       'California State University, Bakersfield',\n",
       "       'California State University Channel Islands',\n",
       "       'California State University, Chico',\n",
       "       'California State University, Dominguez Hills',\n",
       "       'California State University, East Bay',\n",
       "       'California State University, Fresno',\n",
       "       'California State University, Fullerton',\n",
       "       'California State University, Long Beach',\n",
       "       'California State University, Los Angeles',\n",
       "       'California State University, Monterey Bay',\n",
       "       'California State University, Northridge',\n",
       "       'California State University, Sacramento',\n",
       "       'California State University, San Bernardino',\n",
       "       'California State University San Marcos',\n",
       "       'California State University, Stanislaus',\n",
       "       'Humboldt State University', 'San Diego State University',\n",
       "       'San Francisco State University', 'San Jose State University',\n",
       "       'Sonoma State University'],\n",
       "      dtype='<U47')"
      ]
     },
     "execution_count": 15,
     "metadata": {},
     "output_type": "execute_result"
    }
   ],
   "source": [
    "schools.column(\"Name\")"
   ]
  },
  {
   "cell_type": "markdown",
   "metadata": {},
   "source": [
    "## Quick check 1"
   ]
  },
  {
   "cell_type": "code",
   "execution_count": 17,
   "metadata": {},
   "outputs": [
    {
     "data": {
      "text/plain": [
       "6"
      ]
     },
     "execution_count": 17,
     "metadata": {},
     "output_type": "execute_result"
    }
   ],
   "source": [
    "ncols = ...\n",
    "ncols"
   ]
  },
  {
   "cell_type": "code",
   "execution_count": 19,
   "metadata": {},
   "outputs": [
    {
     "ename": "ValueError",
     "evalue": "Ellipsis is not a label or index",
     "output_type": "error",
     "traceback": [
      "\u001b[0;31m---------------------------------------------------------------------------\u001b[0m",
      "\u001b[0;31mValueError\u001b[0m                                Traceback (most recent call last)",
      "Cell \u001b[0;32mIn[19], line 1\u001b[0m\n\u001b[0;32m----> 1\u001b[0m arr \u001b[38;5;241m=\u001b[39m \u001b[43mschools\u001b[49m\u001b[38;5;241;43m.\u001b[39;49m\u001b[43mcolumn\u001b[49m\u001b[43m(\u001b[49m\u001b[38;5;241;43m.\u001b[39;49m\u001b[38;5;241;43m.\u001b[39;49m\u001b[38;5;241;43m.\u001b[39;49m\u001b[43m)\u001b[49m\n\u001b[1;32m      2\u001b[0m arr\n",
      "File \u001b[0;32m/srv/conda/lib/python3.11/site-packages/datascience/tables.py:421\u001b[0m, in \u001b[0;36mTable.column\u001b[0;34m(self, index_or_label)\u001b[0m\n\u001b[1;32m    413\u001b[0m \u001b[38;5;28;01mif\u001b[39;00m (\u001b[38;5;28misinstance\u001b[39m(index_or_label, \u001b[38;5;28mint\u001b[39m)\n\u001b[1;32m    414\u001b[0m         \u001b[38;5;129;01mand\u001b[39;00m \u001b[38;5;129;01mnot\u001b[39;00m \u001b[38;5;241m0\u001b[39m \u001b[38;5;241m<\u001b[39m\u001b[38;5;241m=\u001b[39m index_or_label \u001b[38;5;241m<\u001b[39m \u001b[38;5;28mlen\u001b[39m(\u001b[38;5;28mself\u001b[39m\u001b[38;5;241m.\u001b[39mlabels)):\n\u001b[1;32m    415\u001b[0m     \u001b[38;5;28;01mraise\u001b[39;00m \u001b[38;5;167;01mValueError\u001b[39;00m(\n\u001b[1;32m    416\u001b[0m         \u001b[38;5;124m'\u001b[39m\u001b[38;5;124mThe index \u001b[39m\u001b[38;5;132;01m{}\u001b[39;00m\u001b[38;5;124m is not in the table. Only indices between \u001b[39m\u001b[38;5;124m'\u001b[39m\n\u001b[1;32m    417\u001b[0m         \u001b[38;5;124m'\u001b[39m\u001b[38;5;124m0 and \u001b[39m\u001b[38;5;132;01m{}\u001b[39;00m\u001b[38;5;124m are valid\u001b[39m\u001b[38;5;124m'\u001b[39m\n\u001b[1;32m    418\u001b[0m         \u001b[38;5;241m.\u001b[39mformat(index_or_label, \u001b[38;5;28mlen\u001b[39m(\u001b[38;5;28mself\u001b[39m\u001b[38;5;241m.\u001b[39mlabels) \u001b[38;5;241m-\u001b[39m \u001b[38;5;241m1\u001b[39m)\n\u001b[1;32m    419\u001b[0m     )\n\u001b[0;32m--> 421\u001b[0m \u001b[38;5;28;01mreturn\u001b[39;00m \u001b[38;5;28mself\u001b[39m\u001b[38;5;241m.\u001b[39m_columns[\u001b[38;5;28;43mself\u001b[39;49m\u001b[38;5;241;43m.\u001b[39;49m\u001b[43m_as_label\u001b[49m\u001b[43m(\u001b[49m\u001b[43mindex_or_label\u001b[49m\u001b[43m)\u001b[49m]\n",
      "File \u001b[0;32m/srv/conda/lib/python3.11/site-packages/datascience/tables.py:2167\u001b[0m, in \u001b[0;36mTable._as_label\u001b[0;34m(self, index_or_label)\u001b[0m\n\u001b[1;32m   2165\u001b[0m     \u001b[38;5;28;01mreturn\u001b[39;00m \u001b[38;5;28mself\u001b[39m\u001b[38;5;241m.\u001b[39mlabels[index_or_label]\n\u001b[1;32m   2166\u001b[0m \u001b[38;5;28;01melse\u001b[39;00m:\n\u001b[0;32m-> 2167\u001b[0m     \u001b[38;5;28;01mraise\u001b[39;00m \u001b[38;5;167;01mValueError\u001b[39;00m(\u001b[38;5;28mstr\u001b[39m(index_or_label) \u001b[38;5;241m+\u001b[39m \u001b[38;5;124m'\u001b[39m\u001b[38;5;124m is not a label or index\u001b[39m\u001b[38;5;124m'\u001b[39m)\n",
      "\u001b[0;31mValueError\u001b[0m: Ellipsis is not a label or index"
     ]
    }
   ],
   "source": [
    "arr = schools.column(...)\n",
    "arr"
   ]
  },
  {
   "cell_type": "markdown",
   "metadata": {},
   "source": [
    "## Quick check 2"
   ]
  },
  {
   "cell_type": "code",
   "execution_count": 20,
   "metadata": {},
   "outputs": [
    {
     "data": {
      "text/html": [
       "<table border=\"1\" class=\"dataframe\">\n",
       "    <thead>\n",
       "        <tr>\n",
       "            <th>Name</th> <th>Institution</th> <th>City</th> <th>County</th> <th>Enrollment</th> <th>Founded</th>\n",
       "        </tr>\n",
       "    </thead>\n",
       "    <tbody>\n",
       "        <tr>\n",
       "            <td>University of California, Berkeley          </td> <td>UC         </td> <td>Berkeley     </td> <td>Alameda      </td> <td>42,519    </td> <td>1869   </td>\n",
       "        </tr>\n",
       "        <tr>\n",
       "            <td>University of California, Davis             </td> <td>UC         </td> <td>Davis        </td> <td>Yolo         </td> <td>39,152    </td> <td>1905   </td>\n",
       "        </tr>\n",
       "        <tr>\n",
       "            <td>University of California, Irvine            </td> <td>UC         </td> <td>Irvine       </td> <td>Orange       </td> <td>35,220    </td> <td>1965   </td>\n",
       "        </tr>\n",
       "        <tr>\n",
       "            <td>University of California, Los Angeles       </td> <td>UC         </td> <td>Los Angeles  </td> <td>Los Angeles  </td> <td>45,428    </td> <td>1882   </td>\n",
       "        </tr>\n",
       "        <tr>\n",
       "            <td>University of California, Merced            </td> <td>UC         </td> <td>Merced       </td> <td>Merced       </td> <td>8,544     </td> <td>2005   </td>\n",
       "        </tr>\n",
       "        <tr>\n",
       "            <td>University of California, Riverside         </td> <td>UC         </td> <td>Riverside    </td> <td>Riverside    </td> <td>23,278    </td> <td>1954   </td>\n",
       "        </tr>\n",
       "        <tr>\n",
       "            <td>University of California, San Diego         </td> <td>UC         </td> <td>San Diego    </td> <td>San Diego    </td> <td>38,798    </td> <td>1960   </td>\n",
       "        </tr>\n",
       "        <tr>\n",
       "            <td>University of California, Santa Barbara     </td> <td>UC         </td> <td>Santa Barbara</td> <td>Santa Barbara</td> <td>24,346    </td> <td>1891   </td>\n",
       "        </tr>\n",
       "        <tr>\n",
       "            <td>University of California, Santa Cruz        </td> <td>UC         </td> <td>Santa Cruz   </td> <td>Santa Cruz   </td> <td>19,700    </td> <td>1965   </td>\n",
       "        </tr>\n",
       "        <tr>\n",
       "            <td>California State University Maritime Academy</td> <td>CSU        </td> <td>Vallejo      </td> <td>Solano       </td> <td>1,017     </td> <td>1929   </td>\n",
       "        </tr>\n",
       "    </tbody>\n",
       "</table>\n",
       "<p>... (22 rows omitted)</p>"
      ],
      "text/plain": [
       "Name                                         | Institution | City          | County        | Enrollment | Founded\n",
       "University of California, Berkeley           | UC          | Berkeley      | Alameda       | 42,519     | 1869\n",
       "University of California, Davis              | UC          | Davis         | Yolo          | 39,152     | 1905\n",
       "University of California, Irvine             | UC          | Irvine        | Orange        | 35,220     | 1965\n",
       "University of California, Los Angeles        | UC          | Los Angeles   | Los Angeles   | 45,428     | 1882\n",
       "University of California, Merced             | UC          | Merced        | Merced        | 8,544      | 2005\n",
       "University of California, Riverside          | UC          | Riverside     | Riverside     | 23,278     | 1954\n",
       "University of California, San Diego          | UC          | San Diego     | San Diego     | 38,798     | 1960\n",
       "University of California, Santa Barbara      | UC          | Santa Barbara | Santa Barbara | 24,346     | 1891\n",
       "University of California, Santa Cruz         | UC          | Santa Cruz    | Santa Cruz    | 19,700     | 1965\n",
       "California State University Maritime Academy | CSU         | Vallejo       | Solano        | 1,017      | 1929\n",
       "... (22 rows omitted)"
      ]
     },
     "execution_count": 20,
     "metadata": {},
     "output_type": "execute_result"
    }
   ],
   "source": [
    "schools"
   ]
  },
  {
   "cell_type": "code",
   "execution_count": 21,
   "metadata": {},
   "outputs": [
    {
     "data": {
      "text/html": [
       "<table border=\"1\" class=\"dataframe\">\n",
       "    <thead>\n",
       "        <tr>\n",
       "            <th>Name</th> <th>Institution</th> <th>City</th> <th>County</th> <th>Enrollment</th> <th>Founded</th>\n",
       "        </tr>\n",
       "    </thead>\n",
       "    <tbody>\n",
       "        <tr>\n",
       "            <td>University of California, Davis      </td> <td>UC         </td> <td>Davis      </td> <td>Yolo       </td> <td>39,152    </td> <td>1905   </td>\n",
       "        </tr>\n",
       "        <tr>\n",
       "            <td>University of California, Los Angeles</td> <td>UC         </td> <td>Los Angeles</td> <td>Los Angeles</td> <td>45,428    </td> <td>1882   </td>\n",
       "        </tr>\n",
       "        <tr>\n",
       "            <td>University of California, Riverside  </td> <td>UC         </td> <td>Riverside  </td> <td>Riverside  </td> <td>23,278    </td> <td>1954   </td>\n",
       "        </tr>\n",
       "    </tbody>\n",
       "</table>"
      ],
      "text/plain": [
       "Name                                  | Institution | City        | County      | Enrollment | Founded\n",
       "University of California, Davis       | UC          | Davis       | Yolo        | 39,152     | 1905\n",
       "University of California, Los Angeles | UC          | Los Angeles | Los Angeles | 45,428     | 1882\n",
       "University of California, Riverside   | UC          | Riverside   | Riverside   | 23,278     | 1954"
      ]
     },
     "execution_count": 21,
     "metadata": {},
     "output_type": "execute_result"
    }
   ],
   "source": [
    "schools.take([1, 3, 5])"
   ]
  },
  {
   "cell_type": "code",
   "execution_count": 22,
   "metadata": {},
   "outputs": [
    {
     "data": {
      "text/html": [
       "<table border=\"1\" class=\"dataframe\">\n",
       "    <thead>\n",
       "        <tr>\n",
       "            <th>Institution</th> <th>County</th> <th>Founded</th>\n",
       "        </tr>\n",
       "    </thead>\n",
       "    <tbody>\n",
       "        <tr>\n",
       "            <td>UC         </td> <td>Alameda      </td> <td>1869   </td>\n",
       "        </tr>\n",
       "        <tr>\n",
       "            <td>UC         </td> <td>Yolo         </td> <td>1905   </td>\n",
       "        </tr>\n",
       "        <tr>\n",
       "            <td>UC         </td> <td>Orange       </td> <td>1965   </td>\n",
       "        </tr>\n",
       "        <tr>\n",
       "            <td>UC         </td> <td>Los Angeles  </td> <td>1882   </td>\n",
       "        </tr>\n",
       "        <tr>\n",
       "            <td>UC         </td> <td>Merced       </td> <td>2005   </td>\n",
       "        </tr>\n",
       "        <tr>\n",
       "            <td>UC         </td> <td>Riverside    </td> <td>1954   </td>\n",
       "        </tr>\n",
       "        <tr>\n",
       "            <td>UC         </td> <td>San Diego    </td> <td>1960   </td>\n",
       "        </tr>\n",
       "        <tr>\n",
       "            <td>UC         </td> <td>Santa Barbara</td> <td>1891   </td>\n",
       "        </tr>\n",
       "        <tr>\n",
       "            <td>UC         </td> <td>Santa Cruz   </td> <td>1965   </td>\n",
       "        </tr>\n",
       "        <tr>\n",
       "            <td>CSU        </td> <td>Solano       </td> <td>1929   </td>\n",
       "        </tr>\n",
       "    </tbody>\n",
       "</table>\n",
       "<p>... (22 rows omitted)</p>"
      ],
      "text/plain": [
       "Institution | County        | Founded\n",
       "UC          | Alameda       | 1869\n",
       "UC          | Yolo          | 1905\n",
       "UC          | Orange        | 1965\n",
       "UC          | Los Angeles   | 1882\n",
       "UC          | Merced        | 2005\n",
       "UC          | Riverside     | 1954\n",
       "UC          | San Diego     | 1960\n",
       "UC          | Santa Barbara | 1891\n",
       "UC          | Santa Cruz    | 1965\n",
       "CSU         | Solano        | 1929\n",
       "... (22 rows omitted)"
      ]
     },
     "execution_count": 22,
     "metadata": {},
     "output_type": "execute_result"
    }
   ],
   "source": [
    "schools.select(1, 3, 5)"
   ]
  },
  {
   "cell_type": "code",
   "execution_count": 23,
   "metadata": {},
   "outputs": [
    {
     "data": {
      "text/html": [
       "<table border=\"1\" class=\"dataframe\">\n",
       "    <thead>\n",
       "        <tr>\n",
       "            <th>Name</th> <th>Institution</th> <th>City</th> <th>County</th> <th>Enrollment</th> <th>Founded</th>\n",
       "        </tr>\n",
       "    </thead>\n",
       "    <tbody>\n",
       "        <tr>\n",
       "            <td>California Polytechnic State University        </td> <td>CSU        </td> <td>San Luis Obispo</td> <td>San Luis Obispo</td> <td>21,812    </td> <td>1901   </td>\n",
       "        </tr>\n",
       "        <tr>\n",
       "            <td>California State Polytechnic University, Pomona</td> <td>CSU        </td> <td>Pomona         </td> <td>Los Angeles    </td> <td>26,443    </td> <td>1938   </td>\n",
       "        </tr>\n",
       "        <tr>\n",
       "            <td>California State University Channel Islands    </td> <td>CSU        </td> <td>Camarillo      </td> <td>Ventura        </td> <td>7,095     </td> <td>2002   </td>\n",
       "        </tr>\n",
       "        <tr>\n",
       "            <td>California State University Maritime Academy   </td> <td>CSU        </td> <td>Vallejo        </td> <td>Solano         </td> <td>1,017     </td> <td>1929   </td>\n",
       "        </tr>\n",
       "        <tr>\n",
       "            <td>California State University San Marcos         </td> <td>CSU        </td> <td>San Marcos     </td> <td>San Diego      </td> <td>14,511    </td> <td>1988   </td>\n",
       "        </tr>\n",
       "        <tr>\n",
       "            <td>California State University, Bakersfield       </td> <td>CSU        </td> <td>Bakersfield    </td> <td>Kern           </td> <td>10,493    </td> <td>1965   </td>\n",
       "        </tr>\n",
       "        <tr>\n",
       "            <td>California State University, Chico             </td> <td>CSU        </td> <td>Chico          </td> <td>Butte          </td> <td>17,488    </td> <td>1887   </td>\n",
       "        </tr>\n",
       "        <tr>\n",
       "            <td>California State University, Dominguez Hills   </td> <td>CSU        </td> <td>Carson         </td> <td>Los Angeles    </td> <td>15,741    </td> <td>1960   </td>\n",
       "        </tr>\n",
       "        <tr>\n",
       "            <td>California State University, East Bay          </td> <td>CSU        </td> <td>Hayward        </td> <td>Alameda        </td> <td>14,525    </td> <td>1959   </td>\n",
       "        </tr>\n",
       "        <tr>\n",
       "            <td>California State University, Fresno            </td> <td>CSU        </td> <td>Fresno         </td> <td>Fresno         </td> <td>24,995    </td> <td>1911   </td>\n",
       "        </tr>\n",
       "    </tbody>\n",
       "</table>\n",
       "<p>... (22 rows omitted)</p>"
      ],
      "text/plain": [
       "Name                                            | Institution | City            | County          | Enrollment | Founded\n",
       "California Polytechnic State University         | CSU         | San Luis Obispo | San Luis Obispo | 21,812     | 1901\n",
       "California State Polytechnic University, Pomona | CSU         | Pomona          | Los Angeles     | 26,443     | 1938\n",
       "California State University Channel Islands     | CSU         | Camarillo       | Ventura         | 7,095      | 2002\n",
       "California State University Maritime Academy    | CSU         | Vallejo         | Solano          | 1,017      | 1929\n",
       "California State University San Marcos          | CSU         | San Marcos      | San Diego       | 14,511     | 1988\n",
       "California State University, Bakersfield        | CSU         | Bakersfield     | Kern            | 10,493     | 1965\n",
       "California State University, Chico              | CSU         | Chico           | Butte           | 17,488     | 1887\n",
       "California State University, Dominguez Hills    | CSU         | Carson          | Los Angeles     | 15,741     | 1960\n",
       "California State University, East Bay           | CSU         | Hayward         | Alameda         | 14,525     | 1959\n",
       "California State University, Fresno             | CSU         | Fresno          | Fresno          | 24,995     | 1911\n",
       "... (22 rows omitted)"
      ]
     },
     "execution_count": 23,
     "metadata": {},
     "output_type": "execute_result"
    }
   ],
   "source": [
    "schools.sort(\"Name\")"
   ]
  },
  {
   "cell_type": "code",
   "execution_count": 24,
   "metadata": {},
   "outputs": [
    {
     "data": {
      "text/html": [
       "<table border=\"1\" class=\"dataframe\">\n",
       "    <thead>\n",
       "        <tr>\n",
       "            <th>Name</th> <th>Institution</th> <th>City</th> <th>County</th> <th>Enrollment</th> <th>Founded</th>\n",
       "        </tr>\n",
       "    </thead>\n",
       "    <tbody>\n",
       "        <tr>\n",
       "            <td>University of California, Santa Cruz   </td> <td>UC         </td> <td>Santa Cruz   </td> <td>Santa Cruz   </td> <td>19,700    </td> <td>1965   </td>\n",
       "        </tr>\n",
       "        <tr>\n",
       "            <td>University of California, Santa Barbara</td> <td>UC         </td> <td>Santa Barbara</td> <td>Santa Barbara</td> <td>24,346    </td> <td>1891   </td>\n",
       "        </tr>\n",
       "        <tr>\n",
       "            <td>University of California, San Diego    </td> <td>UC         </td> <td>San Diego    </td> <td>San Diego    </td> <td>38,798    </td> <td>1960   </td>\n",
       "        </tr>\n",
       "        <tr>\n",
       "            <td>University of California, Riverside    </td> <td>UC         </td> <td>Riverside    </td> <td>Riverside    </td> <td>23,278    </td> <td>1954   </td>\n",
       "        </tr>\n",
       "    </tbody>\n",
       "</table>"
      ],
      "text/plain": [
       "Name                                    | Institution | City          | County        | Enrollment | Founded\n",
       "University of California, Santa Cruz    | UC          | Santa Cruz    | Santa Cruz    | 19,700     | 1965\n",
       "University of California, Santa Barbara | UC          | Santa Barbara | Santa Barbara | 24,346     | 1891\n",
       "University of California, San Diego     | UC          | San Diego     | San Diego     | 38,798     | 1960\n",
       "University of California, Riverside     | UC          | Riverside     | Riverside     | 23,278     | 1954"
      ]
     },
     "execution_count": 24,
     "metadata": {},
     "output_type": "execute_result"
    }
   ],
   "source": [
    "schools.sort(\"Name\", descending=True).take(np.arange(4))"
   ]
  },
  {
   "cell_type": "markdown",
   "metadata": {},
   "source": [
    "# Column-first approach"
   ]
  },
  {
   "cell_type": "markdown",
   "metadata": {},
   "source": [
    "## Demo 1 - What is happening?"
   ]
  },
  {
   "cell_type": "code",
   "execution_count": 25,
   "metadata": {},
   "outputs": [
    {
     "data": {
      "text/html": [
       "<table border=\"1\" class=\"dataframe\">\n",
       "    <thead>\n",
       "        <tr>\n",
       "            <th>Name</th> <th>Institution</th> <th>City</th> <th>County</th> <th>Enrollment</th> <th>Founded</th>\n",
       "        </tr>\n",
       "    </thead>\n",
       "    <tbody>\n",
       "        <tr>\n",
       "            <td>University of California, Berkeley          </td> <td>UC         </td> <td>Berkeley     </td> <td>Alameda      </td> <td>42,519    </td> <td>1869   </td>\n",
       "        </tr>\n",
       "        <tr>\n",
       "            <td>University of California, Davis             </td> <td>UC         </td> <td>Davis        </td> <td>Yolo         </td> <td>39,152    </td> <td>1905   </td>\n",
       "        </tr>\n",
       "        <tr>\n",
       "            <td>University of California, Irvine            </td> <td>UC         </td> <td>Irvine       </td> <td>Orange       </td> <td>35,220    </td> <td>1965   </td>\n",
       "        </tr>\n",
       "        <tr>\n",
       "            <td>University of California, Los Angeles       </td> <td>UC         </td> <td>Los Angeles  </td> <td>Los Angeles  </td> <td>45,428    </td> <td>1882   </td>\n",
       "        </tr>\n",
       "        <tr>\n",
       "            <td>University of California, Merced            </td> <td>UC         </td> <td>Merced       </td> <td>Merced       </td> <td>8,544     </td> <td>2005   </td>\n",
       "        </tr>\n",
       "        <tr>\n",
       "            <td>University of California, Riverside         </td> <td>UC         </td> <td>Riverside    </td> <td>Riverside    </td> <td>23,278    </td> <td>1954   </td>\n",
       "        </tr>\n",
       "        <tr>\n",
       "            <td>University of California, San Diego         </td> <td>UC         </td> <td>San Diego    </td> <td>San Diego    </td> <td>38,798    </td> <td>1960   </td>\n",
       "        </tr>\n",
       "        <tr>\n",
       "            <td>University of California, Santa Barbara     </td> <td>UC         </td> <td>Santa Barbara</td> <td>Santa Barbara</td> <td>24,346    </td> <td>1891   </td>\n",
       "        </tr>\n",
       "        <tr>\n",
       "            <td>University of California, Santa Cruz        </td> <td>UC         </td> <td>Santa Cruz   </td> <td>Santa Cruz   </td> <td>19,700    </td> <td>1965   </td>\n",
       "        </tr>\n",
       "        <tr>\n",
       "            <td>California State University Maritime Academy</td> <td>CSU        </td> <td>Vallejo      </td> <td>Solano       </td> <td>1,017     </td> <td>1929   </td>\n",
       "        </tr>\n",
       "    </tbody>\n",
       "</table>\n",
       "<p>... (22 rows omitted)</p>"
      ],
      "text/plain": [
       "Name                                         | Institution | City          | County        | Enrollment | Founded\n",
       "University of California, Berkeley           | UC          | Berkeley      | Alameda       | 42,519     | 1869\n",
       "University of California, Davis              | UC          | Davis         | Yolo          | 39,152     | 1905\n",
       "University of California, Irvine             | UC          | Irvine        | Orange        | 35,220     | 1965\n",
       "University of California, Los Angeles        | UC          | Los Angeles   | Los Angeles   | 45,428     | 1882\n",
       "University of California, Merced             | UC          | Merced        | Merced        | 8,544      | 2005\n",
       "University of California, Riverside          | UC          | Riverside     | Riverside     | 23,278     | 1954\n",
       "University of California, San Diego          | UC          | San Diego     | San Diego     | 38,798     | 1960\n",
       "University of California, Santa Barbara      | UC          | Santa Barbara | Santa Barbara | 24,346     | 1891\n",
       "University of California, Santa Cruz         | UC          | Santa Cruz    | Santa Cruz    | 19,700     | 1965\n",
       "California State University Maritime Academy | CSU         | Vallejo       | Solano        | 1,017      | 1929\n",
       "... (22 rows omitted)"
      ]
     },
     "execution_count": 25,
     "metadata": {},
     "output_type": "execute_result"
    }
   ],
   "source": [
    "schools"
   ]
  },
  {
   "cell_type": "code",
   "execution_count": 26,
   "metadata": {},
   "outputs": [
    {
     "data": {
      "text/html": [
       "<table border=\"1\" class=\"dataframe\">\n",
       "    <thead>\n",
       "        <tr>\n",
       "            <th>Name</th> <th>Enrollment</th>\n",
       "        </tr>\n",
       "    </thead>\n",
       "    <tbody>\n",
       "        <tr>\n",
       "            <td>University of California, Berkeley          </td> <td>42,519    </td>\n",
       "        </tr>\n",
       "        <tr>\n",
       "            <td>University of California, Davis             </td> <td>39,152    </td>\n",
       "        </tr>\n",
       "        <tr>\n",
       "            <td>University of California, Irvine            </td> <td>35,220    </td>\n",
       "        </tr>\n",
       "        <tr>\n",
       "            <td>University of California, Los Angeles       </td> <td>45,428    </td>\n",
       "        </tr>\n",
       "        <tr>\n",
       "            <td>University of California, Merced            </td> <td>8,544     </td>\n",
       "        </tr>\n",
       "        <tr>\n",
       "            <td>University of California, Riverside         </td> <td>23,278    </td>\n",
       "        </tr>\n",
       "        <tr>\n",
       "            <td>University of California, San Diego         </td> <td>38,798    </td>\n",
       "        </tr>\n",
       "        <tr>\n",
       "            <td>University of California, Santa Barbara     </td> <td>24,346    </td>\n",
       "        </tr>\n",
       "        <tr>\n",
       "            <td>University of California, Santa Cruz        </td> <td>19,700    </td>\n",
       "        </tr>\n",
       "        <tr>\n",
       "            <td>California State University Maritime Academy</td> <td>1,017     </td>\n",
       "        </tr>\n",
       "    </tbody>\n",
       "</table>\n",
       "<p>... (22 rows omitted)</p>"
      ],
      "text/plain": [
       "Name                                         | Enrollment\n",
       "University of California, Berkeley           | 42,519\n",
       "University of California, Davis              | 39,152\n",
       "University of California, Irvine             | 35,220\n",
       "University of California, Los Angeles        | 45,428\n",
       "University of California, Merced             | 8,544\n",
       "University of California, Riverside          | 23,278\n",
       "University of California, San Diego          | 38,798\n",
       "University of California, Santa Barbara      | 24,346\n",
       "University of California, Santa Cruz         | 19,700\n",
       "California State University Maritime Academy | 1,017\n",
       "... (22 rows omitted)"
      ]
     },
     "execution_count": 26,
     "metadata": {},
     "output_type": "execute_result"
    }
   ],
   "source": [
    "schools.select('Name', 'Enrollment')"
   ]
  },
  {
   "cell_type": "code",
   "execution_count": 27,
   "metadata": {},
   "outputs": [
    {
     "data": {
      "text/html": [
       "<table border=\"1\" class=\"dataframe\">\n",
       "    <thead>\n",
       "        <tr>\n",
       "            <th>Name</th> <th>Institution</th> <th>City</th> <th>Enrollment</th>\n",
       "        </tr>\n",
       "    </thead>\n",
       "    <tbody>\n",
       "        <tr>\n",
       "            <td>University of California, Berkeley          </td> <td>UC         </td> <td>Berkeley     </td> <td>42,519    </td>\n",
       "        </tr>\n",
       "        <tr>\n",
       "            <td>University of California, Davis             </td> <td>UC         </td> <td>Davis        </td> <td>39,152    </td>\n",
       "        </tr>\n",
       "        <tr>\n",
       "            <td>University of California, Irvine            </td> <td>UC         </td> <td>Irvine       </td> <td>35,220    </td>\n",
       "        </tr>\n",
       "        <tr>\n",
       "            <td>University of California, Los Angeles       </td> <td>UC         </td> <td>Los Angeles  </td> <td>45,428    </td>\n",
       "        </tr>\n",
       "        <tr>\n",
       "            <td>University of California, Merced            </td> <td>UC         </td> <td>Merced       </td> <td>8,544     </td>\n",
       "        </tr>\n",
       "        <tr>\n",
       "            <td>University of California, Riverside         </td> <td>UC         </td> <td>Riverside    </td> <td>23,278    </td>\n",
       "        </tr>\n",
       "        <tr>\n",
       "            <td>University of California, San Diego         </td> <td>UC         </td> <td>San Diego    </td> <td>38,798    </td>\n",
       "        </tr>\n",
       "        <tr>\n",
       "            <td>University of California, Santa Barbara     </td> <td>UC         </td> <td>Santa Barbara</td> <td>24,346    </td>\n",
       "        </tr>\n",
       "        <tr>\n",
       "            <td>University of California, Santa Cruz        </td> <td>UC         </td> <td>Santa Cruz   </td> <td>19,700    </td>\n",
       "        </tr>\n",
       "        <tr>\n",
       "            <td>California State University Maritime Academy</td> <td>CSU        </td> <td>Vallejo      </td> <td>1,017     </td>\n",
       "        </tr>\n",
       "    </tbody>\n",
       "</table>\n",
       "<p>... (22 rows omitted)</p>"
      ],
      "text/plain": [
       "Name                                         | Institution | City          | Enrollment\n",
       "University of California, Berkeley           | UC          | Berkeley      | 42,519\n",
       "University of California, Davis              | UC          | Davis         | 39,152\n",
       "University of California, Irvine             | UC          | Irvine        | 35,220\n",
       "University of California, Los Angeles        | UC          | Los Angeles   | 45,428\n",
       "University of California, Merced             | UC          | Merced        | 8,544\n",
       "University of California, Riverside          | UC          | Riverside     | 23,278\n",
       "University of California, San Diego          | UC          | San Diego     | 38,798\n",
       "University of California, Santa Barbara      | UC          | Santa Barbara | 24,346\n",
       "University of California, Santa Cruz         | UC          | Santa Cruz    | 19,700\n",
       "California State University Maritime Academy | CSU         | Vallejo       | 1,017\n",
       "... (22 rows omitted)"
      ]
     },
     "execution_count": 27,
     "metadata": {},
     "output_type": "execute_result"
    }
   ],
   "source": [
    "smaller_table = schools.drop('Founded', 'County')\n",
    "smaller_table"
   ]
  },
  {
   "cell_type": "code",
   "execution_count": 28,
   "metadata": {},
   "outputs": [
    {
     "data": {
      "text/html": [
       "<table border=\"1\" class=\"dataframe\">\n",
       "    <thead>\n",
       "        <tr>\n",
       "            <th>Name</th> <th>Institution</th> <th>City</th> <th>County</th> <th>Enrollment</th> <th>Founded</th>\n",
       "        </tr>\n",
       "    </thead>\n",
       "    <tbody>\n",
       "        <tr>\n",
       "            <td>University of California, Berkeley          </td> <td>UC         </td> <td>Berkeley     </td> <td>Alameda      </td> <td>42,519    </td> <td>1869   </td>\n",
       "        </tr>\n",
       "        <tr>\n",
       "            <td>University of California, Davis             </td> <td>UC         </td> <td>Davis        </td> <td>Yolo         </td> <td>39,152    </td> <td>1905   </td>\n",
       "        </tr>\n",
       "        <tr>\n",
       "            <td>University of California, Irvine            </td> <td>UC         </td> <td>Irvine       </td> <td>Orange       </td> <td>35,220    </td> <td>1965   </td>\n",
       "        </tr>\n",
       "        <tr>\n",
       "            <td>University of California, Los Angeles       </td> <td>UC         </td> <td>Los Angeles  </td> <td>Los Angeles  </td> <td>45,428    </td> <td>1882   </td>\n",
       "        </tr>\n",
       "        <tr>\n",
       "            <td>University of California, Merced            </td> <td>UC         </td> <td>Merced       </td> <td>Merced       </td> <td>8,544     </td> <td>2005   </td>\n",
       "        </tr>\n",
       "        <tr>\n",
       "            <td>University of California, Riverside         </td> <td>UC         </td> <td>Riverside    </td> <td>Riverside    </td> <td>23,278    </td> <td>1954   </td>\n",
       "        </tr>\n",
       "        <tr>\n",
       "            <td>University of California, San Diego         </td> <td>UC         </td> <td>San Diego    </td> <td>San Diego    </td> <td>38,798    </td> <td>1960   </td>\n",
       "        </tr>\n",
       "        <tr>\n",
       "            <td>University of California, Santa Barbara     </td> <td>UC         </td> <td>Santa Barbara</td> <td>Santa Barbara</td> <td>24,346    </td> <td>1891   </td>\n",
       "        </tr>\n",
       "        <tr>\n",
       "            <td>University of California, Santa Cruz        </td> <td>UC         </td> <td>Santa Cruz   </td> <td>Santa Cruz   </td> <td>19,700    </td> <td>1965   </td>\n",
       "        </tr>\n",
       "        <tr>\n",
       "            <td>California State University Maritime Academy</td> <td>CSU        </td> <td>Vallejo      </td> <td>Solano       </td> <td>1,017     </td> <td>1929   </td>\n",
       "        </tr>\n",
       "    </tbody>\n",
       "</table>\n",
       "<p>... (22 rows omitted)</p>"
      ],
      "text/plain": [
       "Name                                         | Institution | City          | County        | Enrollment | Founded\n",
       "University of California, Berkeley           | UC          | Berkeley      | Alameda       | 42,519     | 1869\n",
       "University of California, Davis              | UC          | Davis         | Yolo          | 39,152     | 1905\n",
       "University of California, Irvine             | UC          | Irvine        | Orange        | 35,220     | 1965\n",
       "University of California, Los Angeles        | UC          | Los Angeles   | Los Angeles   | 45,428     | 1882\n",
       "University of California, Merced             | UC          | Merced        | Merced        | 8,544      | 2005\n",
       "University of California, Riverside          | UC          | Riverside     | Riverside     | 23,278     | 1954\n",
       "University of California, San Diego          | UC          | San Diego     | San Diego     | 38,798     | 1960\n",
       "University of California, Santa Barbara      | UC          | Santa Barbara | Santa Barbara | 24,346     | 1891\n",
       "University of California, Santa Cruz         | UC          | Santa Cruz    | Santa Cruz    | 19,700     | 1965\n",
       "California State University Maritime Academy | CSU         | Vallejo       | Solano        | 1,017      | 1929\n",
       "... (22 rows omitted)"
      ]
     },
     "execution_count": 28,
     "metadata": {},
     "output_type": "execute_result"
    }
   ],
   "source": [
    "schools"
   ]
  },
  {
   "cell_type": "markdown",
   "metadata": {},
   "source": [
    "What is happening?\n",
    "\n",
    "<br/><br/><br/>\n",
    "\n",
    "Each table method returns a new table, so our original table `schools` is unchanged."
   ]
  },
  {
   "cell_type": "markdown",
   "metadata": {},
   "source": [
    "Contrast this with the below cell, which permanently changes `schools` (why?):"
   ]
  },
  {
   "cell_type": "code",
   "execution_count": 31,
   "metadata": {},
   "outputs": [
    {
     "data": {
      "text/html": [
       "<table border=\"1\" class=\"dataframe\">\n",
       "    <thead>\n",
       "        <tr>\n",
       "            <th>Name</th> <th>Enrollment</th>\n",
       "        </tr>\n",
       "    </thead>\n",
       "    <tbody>\n",
       "        <tr>\n",
       "            <td>University of California, Berkeley          </td> <td>42,519    </td>\n",
       "        </tr>\n",
       "        <tr>\n",
       "            <td>University of California, Davis             </td> <td>39,152    </td>\n",
       "        </tr>\n",
       "        <tr>\n",
       "            <td>University of California, Irvine            </td> <td>35,220    </td>\n",
       "        </tr>\n",
       "        <tr>\n",
       "            <td>University of California, Los Angeles       </td> <td>45,428    </td>\n",
       "        </tr>\n",
       "        <tr>\n",
       "            <td>University of California, Merced            </td> <td>8,544     </td>\n",
       "        </tr>\n",
       "        <tr>\n",
       "            <td>University of California, Riverside         </td> <td>23,278    </td>\n",
       "        </tr>\n",
       "        <tr>\n",
       "            <td>University of California, San Diego         </td> <td>38,798    </td>\n",
       "        </tr>\n",
       "        <tr>\n",
       "            <td>University of California, Santa Barbara     </td> <td>24,346    </td>\n",
       "        </tr>\n",
       "        <tr>\n",
       "            <td>University of California, Santa Cruz        </td> <td>19,700    </td>\n",
       "        </tr>\n",
       "        <tr>\n",
       "            <td>California State University Maritime Academy</td> <td>1,017     </td>\n",
       "        </tr>\n",
       "    </tbody>\n",
       "</table>\n",
       "<p>... (22 rows omitted)</p>"
      ],
      "text/plain": [
       "Name                                         | Enrollment\n",
       "University of California, Berkeley           | 42,519\n",
       "University of California, Davis              | 39,152\n",
       "University of California, Irvine             | 35,220\n",
       "University of California, Los Angeles        | 45,428\n",
       "University of California, Merced             | 8,544\n",
       "University of California, Riverside          | 23,278\n",
       "University of California, San Diego          | 38,798\n",
       "University of California, Santa Barbara      | 24,346\n",
       "University of California, Santa Cruz         | 19,700\n",
       "California State University Maritime Academy | 1,017\n",
       "... (22 rows omitted)"
      ]
     },
     "execution_count": 31,
     "metadata": {},
     "output_type": "execute_result"
    }
   ],
   "source": [
    "schools = schools.drop(\"Institution\", \"City\").select(\"Name\", \"Enrollment\")\n",
    "schools"
   ]
  },
  {
   "cell_type": "markdown",
   "metadata": {},
   "source": [
    "## Demo 2: `with_columns`"
   ]
  },
  {
   "cell_type": "markdown",
   "metadata": {},
   "source": [
    "Reset by reloading in the table from our data file:"
   ]
  },
  {
   "cell_type": "code",
   "execution_count": 32,
   "metadata": {},
   "outputs": [
    {
     "data": {
      "text/html": [
       "<table border=\"1\" class=\"dataframe\">\n",
       "    <thead>\n",
       "        <tr>\n",
       "            <th>Name</th> <th>Institution</th> <th>City</th> <th>County</th> <th>Enrollment</th> <th>Founded</th>\n",
       "        </tr>\n",
       "    </thead>\n",
       "    <tbody>\n",
       "        <tr>\n",
       "            <td>University of California, Berkeley          </td> <td>UC         </td> <td>Berkeley     </td> <td>Alameda      </td> <td>42,519    </td> <td>1869   </td>\n",
       "        </tr>\n",
       "        <tr>\n",
       "            <td>University of California, Davis             </td> <td>UC         </td> <td>Davis        </td> <td>Yolo         </td> <td>39,152    </td> <td>1905   </td>\n",
       "        </tr>\n",
       "        <tr>\n",
       "            <td>University of California, Irvine            </td> <td>UC         </td> <td>Irvine       </td> <td>Orange       </td> <td>35,220    </td> <td>1965   </td>\n",
       "        </tr>\n",
       "        <tr>\n",
       "            <td>University of California, Los Angeles       </td> <td>UC         </td> <td>Los Angeles  </td> <td>Los Angeles  </td> <td>45,428    </td> <td>1882   </td>\n",
       "        </tr>\n",
       "        <tr>\n",
       "            <td>University of California, Merced            </td> <td>UC         </td> <td>Merced       </td> <td>Merced       </td> <td>8,544     </td> <td>2005   </td>\n",
       "        </tr>\n",
       "        <tr>\n",
       "            <td>University of California, Riverside         </td> <td>UC         </td> <td>Riverside    </td> <td>Riverside    </td> <td>23,278    </td> <td>1954   </td>\n",
       "        </tr>\n",
       "        <tr>\n",
       "            <td>University of California, San Diego         </td> <td>UC         </td> <td>San Diego    </td> <td>San Diego    </td> <td>38,798    </td> <td>1960   </td>\n",
       "        </tr>\n",
       "        <tr>\n",
       "            <td>University of California, Santa Barbara     </td> <td>UC         </td> <td>Santa Barbara</td> <td>Santa Barbara</td> <td>24,346    </td> <td>1891   </td>\n",
       "        </tr>\n",
       "        <tr>\n",
       "            <td>University of California, Santa Cruz        </td> <td>UC         </td> <td>Santa Cruz   </td> <td>Santa Cruz   </td> <td>19,700    </td> <td>1965   </td>\n",
       "        </tr>\n",
       "        <tr>\n",
       "            <td>California State University Maritime Academy</td> <td>CSU        </td> <td>Vallejo      </td> <td>Solano       </td> <td>1,017     </td> <td>1929   </td>\n",
       "        </tr>\n",
       "    </tbody>\n",
       "</table>\n",
       "<p>... (22 rows omitted)</p>"
      ],
      "text/plain": [
       "Name                                         | Institution | City          | County        | Enrollment | Founded\n",
       "University of California, Berkeley           | UC          | Berkeley      | Alameda       | 42,519     | 1869\n",
       "University of California, Davis              | UC          | Davis         | Yolo          | 39,152     | 1905\n",
       "University of California, Irvine             | UC          | Irvine        | Orange        | 35,220     | 1965\n",
       "University of California, Los Angeles        | UC          | Los Angeles   | Los Angeles   | 45,428     | 1882\n",
       "University of California, Merced             | UC          | Merced        | Merced        | 8,544      | 2005\n",
       "University of California, Riverside          | UC          | Riverside     | Riverside     | 23,278     | 1954\n",
       "University of California, San Diego          | UC          | San Diego     | San Diego     | 38,798     | 1960\n",
       "University of California, Santa Barbara      | UC          | Santa Barbara | Santa Barbara | 24,346     | 1891\n",
       "University of California, Santa Cruz         | UC          | Santa Cruz    | Santa Cruz    | 19,700     | 1965\n",
       "California State University Maritime Academy | CSU         | Vallejo       | Solano        | 1,017      | 1929\n",
       "... (22 rows omitted)"
      ]
     },
     "execution_count": 32,
     "metadata": {},
     "output_type": "execute_result"
    }
   ],
   "source": [
    "schools = Table.read_table('data/cal_unis.csv')\n",
    "schools"
   ]
  },
  {
   "cell_type": "code",
   "execution_count": 33,
   "metadata": {},
   "outputs": [
    {
     "data": {
      "text/html": [
       "<table border=\"1\" class=\"dataframe\">\n",
       "    <thead>\n",
       "        <tr>\n",
       "            <th>Name</th> <th>Institution</th> <th>City</th> <th>County</th> <th>Enrollment</th> <th>Founded</th>\n",
       "        </tr>\n",
       "    </thead>\n",
       "    <tbody>\n",
       "        <tr>\n",
       "            <td>University of California, Berkeley   </td> <td>UC         </td> <td>Berkeley   </td> <td>Alameda    </td> <td>42,519    </td> <td>1869   </td>\n",
       "        </tr>\n",
       "        <tr>\n",
       "            <td>University of California, Davis      </td> <td>UC         </td> <td>Davis      </td> <td>Yolo       </td> <td>39,152    </td> <td>1905   </td>\n",
       "        </tr>\n",
       "        <tr>\n",
       "            <td>University of California, Irvine     </td> <td>UC         </td> <td>Irvine     </td> <td>Orange     </td> <td>35,220    </td> <td>1965   </td>\n",
       "        </tr>\n",
       "        <tr>\n",
       "            <td>University of California, Los Angeles</td> <td>UC         </td> <td>Los Angeles</td> <td>Los Angeles</td> <td>45,428    </td> <td>1882   </td>\n",
       "        </tr>\n",
       "        <tr>\n",
       "            <td>University of California, Merced     </td> <td>UC         </td> <td>Merced     </td> <td>Merced     </td> <td>8,544     </td> <td>2005   </td>\n",
       "        </tr>\n",
       "    </tbody>\n",
       "</table>"
      ],
      "text/plain": [
       "Name                                  | Institution | City        | County      | Enrollment | Founded\n",
       "University of California, Berkeley    | UC          | Berkeley    | Alameda     | 42,519     | 1869\n",
       "University of California, Davis       | UC          | Davis       | Yolo        | 39,152     | 1905\n",
       "University of California, Irvine      | UC          | Irvine      | Orange      | 35,220     | 1965\n",
       "University of California, Los Angeles | UC          | Los Angeles | Los Angeles | 45,428     | 1882\n",
       "University of California, Merced      | UC          | Merced      | Merced      | 8,544      | 2005"
      ]
     },
     "execution_count": 33,
     "metadata": {},
     "output_type": "execute_result"
    }
   ],
   "source": [
    "# A subset of schools just for illustration purposes\n",
    "some_schools = schools.take(np.arange(5))\n",
    "some_schools"
   ]
  },
  {
   "cell_type": "markdown",
   "metadata": {},
   "source": [
    "Suppose we wanted to add a column \"Short name\" which gives the shortened name of each institution (often used for University Athletics):\n",
    "* University of California, Berkeley: Cal\n",
    "* University of California, Davis: Davis\n",
    "* University of California, Irvine: UCI\n",
    "* University of California, Los Angeles: UCLA\n",
    "* University of California, Merced: UCM"
   ]
  },
  {
   "cell_type": "code",
   "execution_count": 34,
   "metadata": {},
   "outputs": [
    {
     "data": {
      "text/plain": [
       "Ellipsis"
      ]
     },
     "execution_count": 34,
     "metadata": {},
     "output_type": "execute_result"
    }
   ],
   "source": [
    "some_schools = ...\n",
    "some_schools"
   ]
  },
  {
   "cell_type": "markdown",
   "metadata": {},
   "source": [
    "Suppose we wanted to add a column \"Years since founded\" (which is self-explanatory).\n",
    "\n",
    "How do we use **array functions** to do so?"
   ]
  },
  {
   "cell_type": "code",
   "execution_count": 35,
   "metadata": {},
   "outputs": [
    {
     "data": {
      "text/plain": [
       "Ellipsis"
      ]
     },
     "execution_count": 35,
     "metadata": {},
     "output_type": "execute_result"
    }
   ],
   "source": [
    "some_schools = ...\n",
    "some_schools"
   ]
  },
  {
   "cell_type": "markdown",
   "metadata": {},
   "source": [
    "What if we wanted to update this column in 2025?"
   ]
  },
  {
   "cell_type": "code",
   "execution_count": 36,
   "metadata": {},
   "outputs": [
    {
     "data": {
      "text/plain": [
       "Ellipsis"
      ]
     },
     "execution_count": 36,
     "metadata": {},
     "output_type": "execute_result"
    }
   ],
   "source": [
    "some_schools = ...\n",
    "some_schools"
   ]
  },
  {
   "cell_type": "markdown",
   "metadata": {},
   "source": [
    "### (Hide with arrow) Notes"
   ]
  },
  {
   "cell_type": "code",
   "execution_count": 44,
   "metadata": {},
   "outputs": [],
   "source": [
    "some_schools = schools.take(np.arange(5))"
   ]
  },
  {
   "cell_type": "code",
   "execution_count": 48,
   "metadata": {},
   "outputs": [
    {
     "data": {
      "text/html": [
       "<table border=\"1\" class=\"dataframe\">\n",
       "    <thead>\n",
       "        <tr>\n",
       "            <th>Name</th> <th>Institution</th> <th>City</th> <th>County</th> <th>Enrollment</th> <th>Founded</th> <th>Short name</th>\n",
       "        </tr>\n",
       "    </thead>\n",
       "    <tbody>\n",
       "        <tr>\n",
       "            <td>University of California, Berkeley   </td> <td>UC         </td> <td>Berkeley   </td> <td>Alameda    </td> <td>42,519    </td> <td>1869   </td> <td>Cal       </td>\n",
       "        </tr>\n",
       "        <tr>\n",
       "            <td>University of California, Davis      </td> <td>UC         </td> <td>Davis      </td> <td>Yolo       </td> <td>39,152    </td> <td>1905   </td> <td>UCD       </td>\n",
       "        </tr>\n",
       "        <tr>\n",
       "            <td>University of California, Irvine     </td> <td>UC         </td> <td>Irvine     </td> <td>Orange     </td> <td>35,220    </td> <td>1965   </td> <td>UCI       </td>\n",
       "        </tr>\n",
       "        <tr>\n",
       "            <td>University of California, Los Angeles</td> <td>UC         </td> <td>Los Angeles</td> <td>Los Angeles</td> <td>45,428    </td> <td>1882   </td> <td>UCLA      </td>\n",
       "        </tr>\n",
       "        <tr>\n",
       "            <td>University of California, Merced     </td> <td>UC         </td> <td>Merced     </td> <td>Merced     </td> <td>8,544     </td> <td>2005   </td> <td>UCM       </td>\n",
       "        </tr>\n",
       "    </tbody>\n",
       "</table>"
      ],
      "text/plain": [
       "Name                                  | Institution | City        | County      | Enrollment | Founded | Short name\n",
       "University of California, Berkeley    | UC          | Berkeley    | Alameda     | 42,519     | 1869    | Cal\n",
       "University of California, Davis       | UC          | Davis       | Yolo        | 39,152     | 1905    | UCD\n",
       "University of California, Irvine      | UC          | Irvine      | Orange      | 35,220     | 1965    | UCI\n",
       "University of California, Los Angeles | UC          | Los Angeles | Los Angeles | 45,428     | 1882    | UCLA\n",
       "University of California, Merced      | UC          | Merced      | Merced      | 8,544      | 2005    | UCM"
      ]
     },
     "execution_count": 48,
     "metadata": {},
     "output_type": "execute_result"
    }
   ],
   "source": [
    "some_schools = some_schools.with_columns(\n",
    "    \"Short name\", np.array([\"Cal\", \"UCD\", \"UCI\", \"UCLA\", \"UCM\"])\n",
    ")\n",
    "some_schools"
   ]
  },
  {
   "cell_type": "code",
   "execution_count": 39,
   "metadata": {},
   "outputs": [
    {
     "data": {
      "text/html": [
       "<table border=\"1\" class=\"dataframe\">\n",
       "    <thead>\n",
       "        <tr>\n",
       "            <th>Name</th> <th>Institution</th> <th>City</th> <th>County</th> <th>Enrollment</th> <th>Founded</th> <th>Short name</th> <th>Years since founded</th>\n",
       "        </tr>\n",
       "    </thead>\n",
       "    <tbody>\n",
       "        <tr>\n",
       "            <td>University of California, Berkeley   </td> <td>UC         </td> <td>Berkeley   </td> <td>Alameda    </td> <td>42,519    </td> <td>1869   </td> <td>Cal       </td> <td>155                </td>\n",
       "        </tr>\n",
       "        <tr>\n",
       "            <td>University of California, Davis      </td> <td>UC         </td> <td>Davis      </td> <td>Yolo       </td> <td>39,152    </td> <td>1905   </td> <td>UCD       </td> <td>119                </td>\n",
       "        </tr>\n",
       "        <tr>\n",
       "            <td>University of California, Irvine     </td> <td>UC         </td> <td>Irvine     </td> <td>Orange     </td> <td>35,220    </td> <td>1965   </td> <td>UCI       </td> <td>59                 </td>\n",
       "        </tr>\n",
       "        <tr>\n",
       "            <td>University of California, Los Angeles</td> <td>UC         </td> <td>Los Angeles</td> <td>Los Angeles</td> <td>45,428    </td> <td>1882   </td> <td>UCLA      </td> <td>142                </td>\n",
       "        </tr>\n",
       "        <tr>\n",
       "            <td>University of California, Merced     </td> <td>UC         </td> <td>Merced     </td> <td>Merced     </td> <td>8,544     </td> <td>2005   </td> <td>UCM       </td> <td>19                 </td>\n",
       "        </tr>\n",
       "    </tbody>\n",
       "</table>"
      ],
      "text/plain": [
       "Name                                  | Institution | City        | County      | Enrollment | Founded | Short name | Years since founded\n",
       "University of California, Berkeley    | UC          | Berkeley    | Alameda     | 42,519     | 1869    | Cal        | 155\n",
       "University of California, Davis       | UC          | Davis       | Yolo        | 39,152     | 1905    | UCD        | 119\n",
       "University of California, Irvine      | UC          | Irvine      | Orange      | 35,220     | 1965    | UCI        | 59\n",
       "University of California, Los Angeles | UC          | Los Angeles | Los Angeles | 45,428     | 1882    | UCLA       | 142\n",
       "University of California, Merced      | UC          | Merced      | Merced      | 8,544      | 2005    | UCM        | 19"
      ]
     },
     "execution_count": 39,
     "metadata": {},
     "output_type": "execute_result"
    }
   ],
   "source": [
    "some_schools = some_schools.with_columns(\n",
    "    \"Years since founded\",\n",
    "    2024 - some_schools.column(\"Founded\")\n",
    ")\n",
    "some_schools"
   ]
  },
  {
   "cell_type": "code",
   "execution_count": 40,
   "metadata": {},
   "outputs": [
    {
     "data": {
      "text/html": [
       "<table border=\"1\" class=\"dataframe\">\n",
       "    <thead>\n",
       "        <tr>\n",
       "            <th>Name</th> <th>Institution</th> <th>City</th> <th>County</th> <th>Enrollment</th> <th>Founded</th> <th>Short name</th> <th>Years since founded</th>\n",
       "        </tr>\n",
       "    </thead>\n",
       "    <tbody>\n",
       "        <tr>\n",
       "            <td>University of California, Berkeley   </td> <td>UC         </td> <td>Berkeley   </td> <td>Alameda    </td> <td>42,519    </td> <td>1869   </td> <td>Cal       </td> <td>156                </td>\n",
       "        </tr>\n",
       "        <tr>\n",
       "            <td>University of California, Davis      </td> <td>UC         </td> <td>Davis      </td> <td>Yolo       </td> <td>39,152    </td> <td>1905   </td> <td>UCD       </td> <td>120                </td>\n",
       "        </tr>\n",
       "        <tr>\n",
       "            <td>University of California, Irvine     </td> <td>UC         </td> <td>Irvine     </td> <td>Orange     </td> <td>35,220    </td> <td>1965   </td> <td>UCI       </td> <td>60                 </td>\n",
       "        </tr>\n",
       "        <tr>\n",
       "            <td>University of California, Los Angeles</td> <td>UC         </td> <td>Los Angeles</td> <td>Los Angeles</td> <td>45,428    </td> <td>1882   </td> <td>UCLA      </td> <td>143                </td>\n",
       "        </tr>\n",
       "        <tr>\n",
       "            <td>University of California, Merced     </td> <td>UC         </td> <td>Merced     </td> <td>Merced     </td> <td>8,544     </td> <td>2005   </td> <td>UCM       </td> <td>20                 </td>\n",
       "        </tr>\n",
       "    </tbody>\n",
       "</table>"
      ],
      "text/plain": [
       "Name                                  | Institution | City        | County      | Enrollment | Founded | Short name | Years since founded\n",
       "University of California, Berkeley    | UC          | Berkeley    | Alameda     | 42,519     | 1869    | Cal        | 156\n",
       "University of California, Davis       | UC          | Davis       | Yolo        | 39,152     | 1905    | UCD        | 120\n",
       "University of California, Irvine      | UC          | Irvine      | Orange      | 35,220     | 1965    | UCI        | 60\n",
       "University of California, Los Angeles | UC          | Los Angeles | Los Angeles | 45,428     | 1882    | UCLA       | 143\n",
       "University of California, Merced      | UC          | Merced      | Merced      | 8,544      | 2005    | UCM        | 20"
      ]
     },
     "execution_count": 40,
     "metadata": {},
     "output_type": "execute_result"
    }
   ],
   "source": [
    "some_schools = some_schools.with_columns(\n",
    "    \"Years since founded\",\n",
    "    2025 - some_schools.column(\"Founded\")\n",
    ")\n",
    "some_schools"
   ]
  },
  {
   "cell_type": "markdown",
   "metadata": {},
   "source": [
    "## Reorder Columns"
   ]
  },
  {
   "cell_type": "code",
   "execution_count": 41,
   "metadata": {},
   "outputs": [
    {
     "data": {
      "text/html": [
       "<table border=\"1\" class=\"dataframe\">\n",
       "    <thead>\n",
       "        <tr>\n",
       "            <th>Name</th> <th>Short name</th> <th>Founded</th> <th>Years since founded</th> <th>Institution</th> <th>City</th> <th>County</th> <th>Enrollment</th>\n",
       "        </tr>\n",
       "    </thead>\n",
       "    <tbody>\n",
       "        <tr>\n",
       "            <td>University of California, Berkeley   </td> <td>Cal       </td> <td>1869   </td> <td>156                </td> <td>UC         </td> <td>Berkeley   </td> <td>Alameda    </td> <td>42,519    </td>\n",
       "        </tr>\n",
       "        <tr>\n",
       "            <td>University of California, Davis      </td> <td>UCD       </td> <td>1905   </td> <td>120                </td> <td>UC         </td> <td>Davis      </td> <td>Yolo       </td> <td>39,152    </td>\n",
       "        </tr>\n",
       "        <tr>\n",
       "            <td>University of California, Irvine     </td> <td>UCI       </td> <td>1965   </td> <td>60                 </td> <td>UC         </td> <td>Irvine     </td> <td>Orange     </td> <td>35,220    </td>\n",
       "        </tr>\n",
       "        <tr>\n",
       "            <td>University of California, Los Angeles</td> <td>UCLA      </td> <td>1882   </td> <td>143                </td> <td>UC         </td> <td>Los Angeles</td> <td>Los Angeles</td> <td>45,428    </td>\n",
       "        </tr>\n",
       "        <tr>\n",
       "            <td>University of California, Merced     </td> <td>UCM       </td> <td>2005   </td> <td>20                 </td> <td>UC         </td> <td>Merced     </td> <td>Merced     </td> <td>8,544     </td>\n",
       "        </tr>\n",
       "    </tbody>\n",
       "</table>"
      ],
      "text/plain": [
       "Name                                  | Short name | Founded | Years since founded | Institution | City        | County      | Enrollment\n",
       "University of California, Berkeley    | Cal        | 1869    | 156                 | UC          | Berkeley    | Alameda     | 42,519\n",
       "University of California, Davis       | UCD        | 1905    | 120                 | UC          | Davis       | Yolo        | 39,152\n",
       "University of California, Irvine      | UCI        | 1965    | 60                  | UC          | Irvine      | Orange      | 35,220\n",
       "University of California, Los Angeles | UCLA       | 1882    | 143                 | UC          | Los Angeles | Los Angeles | 45,428\n",
       "University of California, Merced      | UCM        | 2005    | 20                  | UC          | Merced      | Merced      | 8,544"
      ]
     },
     "execution_count": 41,
     "metadata": {},
     "output_type": "execute_result"
    }
   ],
   "source": [
    "some_schools.select(\"Name\", \"Short name\", \"Founded\",\n",
    "                    \"Years since founded\", \"Institution\", \"City\",\n",
    "                    \"County\", \"Enrollment\")"
   ]
  },
  {
   "cell_type": "markdown",
   "metadata": {},
   "source": [
    "# Create new tables"
   ]
  },
  {
   "cell_type": "code",
   "execution_count": 42,
   "metadata": {},
   "outputs": [],
   "source": [
    "states = Table().with_columns('State',\n",
    "    np.array(['California', 'New York', 'Florida', 'Texas', 'Pennsylvania']),\n",
    "    'Code', np.array(['CA', 'NY', 'FL', 'TX', 'PA']), 'Population', np.array([39.3, 19.3, 21.7, 29.3, 12.8])\n",
    ")"
   ]
  },
  {
   "cell_type": "code",
   "execution_count": 43,
   "metadata": {},
   "outputs": [
    {
     "data": {
      "text/html": [
       "<table border=\"1\" class=\"dataframe\">\n",
       "    <thead>\n",
       "        <tr>\n",
       "            <th>State</th> <th>Code</th> <th>Population</th>\n",
       "        </tr>\n",
       "    </thead>\n",
       "    <tbody>\n",
       "        <tr>\n",
       "            <td>California  </td> <td>CA  </td> <td>39.3      </td>\n",
       "        </tr>\n",
       "        <tr>\n",
       "            <td>New York    </td> <td>NY  </td> <td>19.3      </td>\n",
       "        </tr>\n",
       "        <tr>\n",
       "            <td>Florida     </td> <td>FL  </td> <td>21.7      </td>\n",
       "        </tr>\n",
       "        <tr>\n",
       "            <td>Texas       </td> <td>TX  </td> <td>29.3      </td>\n",
       "        </tr>\n",
       "        <tr>\n",
       "            <td>Pennsylvania</td> <td>PA  </td> <td>12.8      </td>\n",
       "        </tr>\n",
       "    </tbody>\n",
       "</table>"
      ],
      "text/plain": [
       "State        | Code | Population\n",
       "California   | CA   | 39.3\n",
       "New York     | NY   | 19.3\n",
       "Florida      | FL   | 21.7\n",
       "Texas        | TX   | 29.3\n",
       "Pennsylvania | PA   | 12.8"
      ]
     },
     "execution_count": 43,
     "metadata": {},
     "output_type": "execute_result"
    }
   ],
   "source": [
    "states"
   ]
  },
  {
   "cell_type": "markdown",
   "metadata": {},
   "source": [
    "# More Table Methods, More Documentation"
   ]
  },
  {
   "cell_type": "code",
   "execution_count": null,
   "metadata": {},
   "outputs": [],
   "source": [
    "schools = Table.read_table('data/cal_unis.csv')\n",
    "schools"
   ]
  },
  {
   "cell_type": "markdown",
   "metadata": {},
   "source": [
    "## Reading documentation, Part 1\n",
    "\n",
    "1. How do we get all the column labels of `schools`?\n",
    "1. How do we **update** `schools` such that the column Name is renamed University?\n"
   ]
  },
  {
   "cell_type": "code",
   "execution_count": null,
   "metadata": {},
   "outputs": [],
   "source": [
    "... # 1"
   ]
  },
  {
   "cell_type": "code",
   "execution_count": null,
   "metadata": {},
   "outputs": [],
   "source": [
    "... # 2"
   ]
  },
  {
   "cell_type": "markdown",
   "metadata": {},
   "source": [
    "## Reading documentation, Part 2 (Exact match filters with `.where`)\n",
    "\n",
    "1. How do we get all the column labels of `schools`?\n",
    "1. How do we **update** `schools` such that the column Name is renamed University?\n"
   ]
  },
  {
   "cell_type": "code",
   "execution_count": null,
   "metadata": {},
   "outputs": [],
   "source": [
    "schools.where(\"Institution\", \"UC\")"
   ]
  },
  {
   "cell_type": "code",
   "execution_count": null,
   "metadata": {},
   "outputs": [],
   "source": [
    "schools.where(\"City\", \"Los Angeles\")"
   ]
  },
  {
   "cell_type": "markdown",
   "metadata": {},
   "source": [
    "## Reading documentation, Part 2 (Be careful with `.show`)\n",
    "\n",
    "The following cells exhibit a tricky, but potentially common bug.\n",
    "\n",
    "Run the three cells in sequence. Why does the last cell throw an error? What is the error referring to?\n",
    "\n",
    "**Hint**: Read the documentation of `tbl.show(n)`."
   ]
  },
  {
   "cell_type": "code",
   "execution_count": null,
   "metadata": {},
   "outputs": [],
   "source": [
    "schools = Table.read_table('data/cal_unis.csv')\n",
    "schools"
   ]
  },
  {
   "cell_type": "code",
   "execution_count": null,
   "metadata": {},
   "outputs": [],
   "source": [
    "schools = schools.show(3)"
   ]
  },
  {
   "cell_type": "code",
   "execution_count": null,
   "metadata": {
    "scrolled": true
   },
   "outputs": [],
   "source": [
    "schools = schools.show(4)"
   ]
  },
  {
   "cell_type": "markdown",
   "metadata": {},
   "source": [
    "### Why `.show` can be useful"
   ]
  },
  {
   "cell_type": "code",
   "execution_count": null,
   "metadata": {},
   "outputs": [],
   "source": [
    "schools = Table.read_table('data/cal_unis.csv')\n",
    "schools.show(3) # just the first three rows\n",
    "schools = schools.relabeled(\"Name\", \"University\")\n",
    "schools.show(3) # and again\n",
    "schools = schools.with_columns(\"Name\", \"City\")\n",
    "schools         # the last evaluated value in a cell\n",
    "                # is displayed by default"
   ]
  },
  {
   "cell_type": "code",
   "execution_count": null,
   "metadata": {},
   "outputs": [],
   "source": [
    "schools.show()"
   ]
  },
  {
   "cell_type": "markdown",
   "metadata": {},
   "source": [
    "# Example: WNBA data"
   ]
  },
  {
   "cell_type": "code",
   "execution_count": null,
   "metadata": {},
   "outputs": [],
   "source": [
    "wnba = Table.read_table('data/wnba-2020.csv')"
   ]
  },
  {
   "cell_type": "code",
   "execution_count": null,
   "metadata": {},
   "outputs": [],
   "source": [
    "wnba"
   ]
  },
  {
   "cell_type": "code",
   "execution_count": null,
   "metadata": {},
   "outputs": [],
   "source": [
    "wnba.num_rows, wnba.num_columns"
   ]
  },
  {
   "cell_type": "code",
   "execution_count": null,
   "metadata": {},
   "outputs": [],
   "source": [
    "wnba_pts = wnba.select('Player', 'Tm', 'Pos', 'G', 'PTS')"
   ]
  },
  {
   "cell_type": "code",
   "execution_count": null,
   "metadata": {},
   "outputs": [],
   "source": [
    "wnba_pts"
   ]
  },
  {
   "cell_type": "code",
   "execution_count": null,
   "metadata": {
    "scrolled": true
   },
   "outputs": [],
   "source": [
    "# Computes number of points scored per game\n",
    "wnba_pts.column('PTS') / wnba_pts.column('G')"
   ]
  },
  {
   "cell_type": "code",
   "execution_count": null,
   "metadata": {},
   "outputs": [],
   "source": [
    "wnba_pts = wnba_pts.with_columns(\n",
    "    'PPG', wnba_pts.column('PTS') / wnba_pts.column('G')\n",
    ")"
   ]
  },
  {
   "cell_type": "code",
   "execution_count": null,
   "metadata": {},
   "outputs": [],
   "source": [
    "wnba_pts"
   ]
  },
  {
   "cell_type": "markdown",
   "metadata": {},
   "source": [
    "# Even More Practice"
   ]
  },
  {
   "cell_type": "code",
   "execution_count": null,
   "metadata": {},
   "outputs": [],
   "source": [
    "schools = Table.read_table('data/cal_unis.csv')"
   ]
  },
  {
   "cell_type": "code",
   "execution_count": null,
   "metadata": {
    "scrolled": true
   },
   "outputs": [],
   "source": [
    "schools = schools.sort(\"City\")\n",
    "schools = schools.take(np.arange(10, 20))\n",
    "schools.where(\"City\", are.equal_to(\"Los Angeles\"))"
   ]
  },
  {
   "cell_type": "code",
   "execution_count": null,
   "metadata": {},
   "outputs": [],
   "source": [
    "schools.where(\"City\", are.equal_to(\"Los Angeles\"))"
   ]
  },
  {
   "cell_type": "code",
   "execution_count": null,
   "metadata": {},
   "outputs": [],
   "source": [
    "states = Table.read_table('data/us-state-capitals.csv')\n",
    "states"
   ]
  },
  {
   "cell_type": "code",
   "execution_count": null,
   "metadata": {},
   "outputs": [],
   "source": [
    "# Fill in the blank so that the correct array is returned.\n",
    "states.column(...)"
   ]
  }
 ],
 "metadata": {
  "kernelspec": {
   "display_name": "Python 3 (ipykernel)",
   "language": "python",
   "name": "python3"
  },
  "language_info": {
   "codemirror_mode": {
    "name": "ipython",
    "version": 3
   },
   "file_extension": ".py",
   "mimetype": "text/x-python",
   "name": "python",
   "nbconvert_exporter": "python",
   "pygments_lexer": "ipython3",
   "version": "3.11.9"
  }
 },
 "nbformat": 4,
 "nbformat_minor": 4
}
