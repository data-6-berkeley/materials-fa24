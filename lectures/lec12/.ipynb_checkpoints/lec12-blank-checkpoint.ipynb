{
 "cells": [
  {
   "cell_type": "markdown",
   "metadata": {},
   "source": [
    "# Lecture 12 – Grouping and Pivoting\n",
    "\n",
    "## Data 6, Fall 2024"
   ]
  },
  {
   "cell_type": "code",
   "execution_count": 1,
   "metadata": {},
   "outputs": [],
   "source": [
    "from datascience import *\n",
    "import numpy as np\n",
    "%matplotlib inline\n",
    "Table.interactive_plots() "
   ]
  },
  {
   "cell_type": "markdown",
   "metadata": {},
   "source": [
    "## Grouping with `.group`"
   ]
  },
  {
   "cell_type": "markdown",
   "metadata": {},
   "source": [
    "The term \"group\" in data science is most commonly associated with data aggregation and disaggregation. When we \"group\" a table in Python, we are able to gain insights about our data at a higher unit of analysis (e.g. at a city or state level, as opposed to the individual level)."
   ]
  },
  {
   "cell_type": "markdown",
   "metadata": {},
   "source": [
    "Returning to the `top_10` dataset from last week (showing the songs on the Spotify Top 10), we can utilize `tbl.group()` to count how many Top 10 songs each artist has."
   ]
  },
  {
   "cell_type": "code",
   "execution_count": 2,
   "metadata": {},
   "outputs": [
    {
     "data": {
      "text/html": [
       "<table border=\"1\" class=\"dataframe\">\n",
       "    <thead>\n",
       "        <tr>\n",
       "            <th>rank</th> <th>artist_names</th> <th>track_name</th> <th>source</th> <th>peak_rank</th> <th>previous_rank</th> <th>days_on_chart</th> <th>streams</th>\n",
       "        </tr>\n",
       "    </thead>\n",
       "    <tbody>\n",
       "        <tr>\n",
       "            <td>1   </td> <td>Kate Bush                   </td> <td>Running Up That Hill                   </td> <td>Rhino                        </td> <td>1        </td> <td>1            </td> <td>41           </td> <td>7208654</td>\n",
       "        </tr>\n",
       "        <tr>\n",
       "            <td>2   </td> <td>Harry Styles                </td> <td>As It Was                              </td> <td>Columbia                     </td> <td>1        </td> <td>2            </td> <td>99           </td> <td>6543793</td>\n",
       "        </tr>\n",
       "        <tr>\n",
       "            <td>3   </td> <td>Joji                        </td> <td>Glimpse of Us                          </td> <td>88rising Music/Warner Records</td> <td>1        </td> <td>3            </td> <td>28           </td> <td>5492997</td>\n",
       "        </tr>\n",
       "        <tr>\n",
       "            <td>4   </td> <td>Bad Bunny, Chencho Corleone </td> <td>Me Porto Bonito                        </td> <td>Rimas Entertainment LLC      </td> <td>2        </td> <td>4            </td> <td>63           </td> <td>5416421</td>\n",
       "        </tr>\n",
       "        <tr>\n",
       "            <td>5   </td> <td>Bizarrap, Quevedo           </td> <td>Quevedo: Bzrp Music Sessions, Vol. 52  </td> <td>DALE PLAY Records            </td> <td>5        </td> <td>-1           </td> <td>1            </td> <td>4676471</td>\n",
       "        </tr>\n",
       "        <tr>\n",
       "            <td>6   </td> <td>Bad Bunny                   </td> <td>Tití Me Preguntó                       </td> <td>Rimas Entertainment LLC      </td> <td>4        </td> <td>5            </td> <td>63           </td> <td>4549682</td>\n",
       "        </tr>\n",
       "        <tr>\n",
       "            <td>7   </td> <td>Bad Bunny, Bomba Estéreo    </td> <td>Ojitos Lindos                          </td> <td>Rimas Entertainment LLC      </td> <td>2        </td> <td>6            </td> <td>63           </td> <td>4144625</td>\n",
       "        </tr>\n",
       "        <tr>\n",
       "            <td>8   </td> <td>Bad Bunny                   </td> <td>Efecto                                 </td> <td>Rimas Entertainment LLC      </td> <td>7        </td> <td>8            </td> <td>63           </td> <td>3722317</td>\n",
       "        </tr>\n",
       "        <tr>\n",
       "            <td>9   </td> <td>Charlie Puth, BTS, Jung Kook</td> <td>Left and Right (Feat. Jung Kook of BTS)</td> <td>Atlantic Records             </td> <td>3        </td> <td>7            </td> <td>14           </td> <td>3715689</td>\n",
       "        </tr>\n",
       "        <tr>\n",
       "            <td>10  </td> <td>Bad Bunny                   </td> <td>Moscow Mule                            </td> <td>Rimas Entertainment LLC      </td> <td>1        </td> <td>9            </td> <td>63           </td> <td>3465003</td>\n",
       "        </tr>\n",
       "    </tbody>\n",
       "</table>"
      ],
      "text/plain": [
       "rank | artist_names                 | track_name                              | source                        | peak_rank | previous_rank | days_on_chart | streams\n",
       "1    | Kate Bush                    | Running Up That Hill                    | Rhino                         | 1         | 1             | 41            | 7208654\n",
       "2    | Harry Styles                 | As It Was                               | Columbia                      | 1         | 2             | 99            | 6543793\n",
       "3    | Joji                         | Glimpse of Us                           | 88rising Music/Warner Records | 1         | 3             | 28            | 5492997\n",
       "4    | Bad Bunny, Chencho Corleone  | Me Porto Bonito                         | Rimas Entertainment LLC       | 2         | 4             | 63            | 5416421\n",
       "5    | Bizarrap, Quevedo            | Quevedo: Bzrp Music Sessions, Vol. 52   | DALE PLAY Records             | 5         | -1            | 1             | 4676471\n",
       "6    | Bad Bunny                    | Tití Me Preguntó                        | Rimas Entertainment LLC       | 4         | 5             | 63            | 4549682\n",
       "7    | Bad Bunny, Bomba Estéreo     | Ojitos Lindos                           | Rimas Entertainment LLC       | 2         | 6             | 63            | 4144625\n",
       "8    | Bad Bunny                    | Efecto                                  | Rimas Entertainment LLC       | 7         | 8             | 63            | 3722317\n",
       "9    | Charlie Puth, BTS, Jung Kook | Left and Right (Feat. Jung Kook of BTS) | Atlantic Records              | 3         | 7             | 14            | 3715689\n",
       "10   | Bad Bunny                    | Moscow Mule                             | Rimas Entertainment LLC       | 1         | 9             | 63            | 3465003"
      ]
     },
     "execution_count": 2,
     "metadata": {},
     "output_type": "execute_result"
    }
   ],
   "source": [
    "top_10 = Table.read_table('data/regional-global-daily-latest.csv').take(np.arange(10))\n",
    "top_10"
   ]
  },
  {
   "cell_type": "markdown",
   "metadata": {},
   "source": [
    "By default `tbl.group(column)` counts the number of occurences of each unique value in `column`."
   ]
  },
  {
   "cell_type": "code",
   "execution_count": 3,
   "metadata": {
    "scrolled": true
   },
   "outputs": [
    {
     "data": {
      "text/plain": [
       "Ellipsis"
      ]
     },
     "execution_count": 3,
     "metadata": {},
     "output_type": "execute_result"
    }
   ],
   "source": [
    "... # Group `top_10` by artist name and then sort by count"
   ]
  },
  {
   "cell_type": "markdown",
   "metadata": {},
   "source": [
    "Notice that Bad Bunny's name appears 5 times on the Top 10, but the \"Bad Bunny\" row in the groupped table only has a count of 3. This is because Python looks for an **exact match**. The songs where Bad Bunny appears along with other artists are counted separately."
   ]
  },
  {
   "cell_type": "markdown",
   "metadata": {},
   "source": [
    "### Quick Check (not mandatory for participation credit today)"
   ]
  },
  {
   "cell_type": "code",
   "execution_count": 4,
   "metadata": {},
   "outputs": [
    {
     "data": {
      "text/html": [
       "<table border=\"1\" class=\"dataframe\">\n",
       "    <thead>\n",
       "        <tr>\n",
       "            <th>rank</th> <th>artist_names</th> <th>track_name</th> <th>source</th> <th>peak_rank</th> <th>previous_rank</th> <th>days_on_chart</th> <th>streams</th>\n",
       "        </tr>\n",
       "    </thead>\n",
       "    <tbody>\n",
       "        <tr>\n",
       "            <td>1   </td> <td>Kate Bush                   </td> <td>Running Up That Hill                   </td> <td>Rhino                        </td> <td>1        </td> <td>1            </td> <td>41           </td> <td>7208654</td>\n",
       "        </tr>\n",
       "        <tr>\n",
       "            <td>2   </td> <td>Harry Styles                </td> <td>As It Was                              </td> <td>Columbia                     </td> <td>1        </td> <td>2            </td> <td>99           </td> <td>6543793</td>\n",
       "        </tr>\n",
       "        <tr>\n",
       "            <td>3   </td> <td>Joji                        </td> <td>Glimpse of Us                          </td> <td>88rising Music/Warner Records</td> <td>1        </td> <td>3            </td> <td>28           </td> <td>5492997</td>\n",
       "        </tr>\n",
       "        <tr>\n",
       "            <td>4   </td> <td>Bad Bunny, Chencho Corleone </td> <td>Me Porto Bonito                        </td> <td>Rimas Entertainment LLC      </td> <td>2        </td> <td>4            </td> <td>63           </td> <td>5416421</td>\n",
       "        </tr>\n",
       "        <tr>\n",
       "            <td>5   </td> <td>Bizarrap, Quevedo           </td> <td>Quevedo: Bzrp Music Sessions, Vol. 52  </td> <td>DALE PLAY Records            </td> <td>5        </td> <td>-1           </td> <td>1            </td> <td>4676471</td>\n",
       "        </tr>\n",
       "        <tr>\n",
       "            <td>6   </td> <td>Bad Bunny                   </td> <td>Tití Me Preguntó                       </td> <td>Rimas Entertainment LLC      </td> <td>4        </td> <td>5            </td> <td>63           </td> <td>4549682</td>\n",
       "        </tr>\n",
       "        <tr>\n",
       "            <td>7   </td> <td>Bad Bunny, Bomba Estéreo    </td> <td>Ojitos Lindos                          </td> <td>Rimas Entertainment LLC      </td> <td>2        </td> <td>6            </td> <td>63           </td> <td>4144625</td>\n",
       "        </tr>\n",
       "        <tr>\n",
       "            <td>8   </td> <td>Bad Bunny                   </td> <td>Efecto                                 </td> <td>Rimas Entertainment LLC      </td> <td>7        </td> <td>8            </td> <td>63           </td> <td>3722317</td>\n",
       "        </tr>\n",
       "        <tr>\n",
       "            <td>9   </td> <td>Charlie Puth, BTS, Jung Kook</td> <td>Left and Right (Feat. Jung Kook of BTS)</td> <td>Atlantic Records             </td> <td>3        </td> <td>7            </td> <td>14           </td> <td>3715689</td>\n",
       "        </tr>\n",
       "        <tr>\n",
       "            <td>10  </td> <td>Bad Bunny                   </td> <td>Moscow Mule                            </td> <td>Rimas Entertainment LLC      </td> <td>1        </td> <td>9            </td> <td>63           </td> <td>3465003</td>\n",
       "        </tr>\n",
       "    </tbody>\n",
       "</table>\n",
       "<p>... (190 rows omitted)</p>"
      ],
      "text/plain": [
       "rank | artist_names                 | track_name                              | source                        | peak_rank | previous_rank | days_on_chart | streams\n",
       "1    | Kate Bush                    | Running Up That Hill                    | Rhino                         | 1         | 1             | 41            | 7208654\n",
       "2    | Harry Styles                 | As It Was                               | Columbia                      | 1         | 2             | 99            | 6543793\n",
       "3    | Joji                         | Glimpse of Us                           | 88rising Music/Warner Records | 1         | 3             | 28            | 5492997\n",
       "4    | Bad Bunny, Chencho Corleone  | Me Porto Bonito                         | Rimas Entertainment LLC       | 2         | 4             | 63            | 5416421\n",
       "5    | Bizarrap, Quevedo            | Quevedo: Bzrp Music Sessions, Vol. 52   | DALE PLAY Records             | 5         | -1            | 1             | 4676471\n",
       "6    | Bad Bunny                    | Tití Me Preguntó                        | Rimas Entertainment LLC       | 4         | 5             | 63            | 4549682\n",
       "7    | Bad Bunny, Bomba Estéreo     | Ojitos Lindos                           | Rimas Entertainment LLC       | 2         | 6             | 63            | 4144625\n",
       "8    | Bad Bunny                    | Efecto                                  | Rimas Entertainment LLC       | 7         | 8             | 63            | 3722317\n",
       "9    | Charlie Puth, BTS, Jung Kook | Left and Right (Feat. Jung Kook of BTS) | Atlantic Records              | 3         | 7             | 14            | 3715689\n",
       "10   | Bad Bunny                    | Moscow Mule                             | Rimas Entertainment LLC       | 1         | 9             | 63            | 3465003\n",
       "... (190 rows omitted)"
      ]
     },
     "execution_count": 4,
     "metadata": {},
     "output_type": "execute_result"
    }
   ],
   "source": [
    "streams = Table.read_table('data/regional-global-daily-latest.csv')\n",
    "streams"
   ]
  },
  {
   "cell_type": "markdown",
   "metadata": {},
   "source": [
    "Using the `streams` table, fill in the blanks to create the “Top 10 Artists” bar chart: The 10 artists with the most songs in the Spotify Daily Top 200 streams table."
   ]
  },
  {
   "cell_type": "code",
   "execution_count": 5,
   "metadata": {},
   "outputs": [
    {
     "ename": "TypeError",
     "evalue": "object of type 'ellipsis' has no len()",
     "output_type": "error",
     "traceback": [
      "\u001b[0;31m---------------------------------------------------------------------------\u001b[0m",
      "\u001b[0;31mTypeError\u001b[0m                                 Traceback (most recent call last)",
      "Cell \u001b[0;32mIn[5], line 1\u001b[0m\n\u001b[0;32m----> 1\u001b[0m top_10_artists \u001b[38;5;241m=\u001b[39m \u001b[43mstreams\u001b[49m\u001b[38;5;241;43m.\u001b[39;49m\u001b[43mgroup\u001b[49m\u001b[43m(\u001b[49m\u001b[38;5;241;43m.\u001b[39;49m\u001b[38;5;241;43m.\u001b[39;49m\u001b[38;5;241;43m.\u001b[39;49m\u001b[43m)\u001b[49m\u001b[38;5;241m.\u001b[39msort(\u001b[38;5;241m.\u001b[39m\u001b[38;5;241m.\u001b[39m\u001b[38;5;241m.\u001b[39m, descending\u001b[38;5;241m=\u001b[39m\u001b[38;5;241m.\u001b[39m\u001b[38;5;241m.\u001b[39m\u001b[38;5;241m.\u001b[39m)\u001b[38;5;241m.\u001b[39mtake(np\u001b[38;5;241m.\u001b[39marange(\u001b[38;5;241m.\u001b[39m\u001b[38;5;241m.\u001b[39m\u001b[38;5;241m.\u001b[39m))\n\u001b[1;32m      2\u001b[0m top_10_artists\u001b[38;5;241m.\u001b[39mbarh(\u001b[38;5;241m.\u001b[39m\u001b[38;5;241m.\u001b[39m\u001b[38;5;241m.\u001b[39m)\n",
      "File \u001b[0;32m/srv/conda/lib/python3.11/site-packages/datascience/tables.py:1559\u001b[0m, in \u001b[0;36mTable.group\u001b[0;34m(self, column_or_label, collect)\u001b[0m\n\u001b[1;32m   1556\u001b[0m collect \u001b[38;5;241m=\u001b[39m _zero_on_type_error(collect)\n\u001b[1;32m   1558\u001b[0m \u001b[38;5;66;03m# Remove column used for grouping\u001b[39;00m\n\u001b[0;32m-> 1559\u001b[0m column \u001b[38;5;241m=\u001b[39m \u001b[38;5;28;43mself\u001b[39;49m\u001b[38;5;241;43m.\u001b[39;49m\u001b[43m_get_column\u001b[49m\u001b[43m(\u001b[49m\u001b[43mcolumn_or_label\u001b[49m\u001b[43m)\u001b[49m\n\u001b[1;32m   1560\u001b[0m \u001b[38;5;28;01mif\u001b[39;00m \u001b[38;5;28misinstance\u001b[39m(column_or_label, \u001b[38;5;28mstr\u001b[39m) \u001b[38;5;129;01mor\u001b[39;00m \u001b[38;5;28misinstance\u001b[39m(column_or_label, numbers\u001b[38;5;241m.\u001b[39mIntegral):\n\u001b[1;32m   1561\u001b[0m     column_label \u001b[38;5;241m=\u001b[39m \u001b[38;5;28mself\u001b[39m\u001b[38;5;241m.\u001b[39m_as_label(column_or_label)\n",
      "File \u001b[0;32m/srv/conda/lib/python3.11/site-packages/datascience/tables.py:2211\u001b[0m, in \u001b[0;36mTable._get_column\u001b[0;34m(self, column_or_label)\u001b[0m\n\u001b[1;32m   2209\u001b[0m     \u001b[38;5;28;01mraise\u001b[39;00m \u001b[38;5;167;01mValueError\u001b[39;00m(\u001b[38;5;124m'\u001b[39m\u001b[38;5;124mlabel \u001b[39m\u001b[38;5;124m\"\u001b[39m\u001b[38;5;132;01m{}\u001b[39;00m\u001b[38;5;124m\"\u001b[39m\u001b[38;5;124m not in labels \u001b[39m\u001b[38;5;132;01m{}\u001b[39;00m\u001b[38;5;124m'\u001b[39m\u001b[38;5;241m.\u001b[39mformat(c, \u001b[38;5;28mself\u001b[39m\u001b[38;5;241m.\u001b[39mlabels))\n\u001b[1;32m   2210\u001b[0m \u001b[38;5;28;01melse\u001b[39;00m:\n\u001b[0;32m-> 2211\u001b[0m     \u001b[38;5;28;01massert\u001b[39;00m \u001b[38;5;28;43mlen\u001b[39;49m\u001b[43m(\u001b[49m\u001b[43mc\u001b[49m\u001b[43m)\u001b[49m \u001b[38;5;241m==\u001b[39m \u001b[38;5;28mself\u001b[39m\u001b[38;5;241m.\u001b[39mnum_rows, \u001b[38;5;124m'\u001b[39m\u001b[38;5;124mcolumn length mismatch\u001b[39m\u001b[38;5;124m'\u001b[39m\n\u001b[1;32m   2212\u001b[0m     \u001b[38;5;28;01mreturn\u001b[39;00m c\n",
      "\u001b[0;31mTypeError\u001b[0m: object of type 'ellipsis' has no len()"
     ]
    }
   ],
   "source": [
    "top_10_artists = streams.group(...).sort(..., descending=...).take(np.arange(...))\n",
    "top_10_artists.barh(...)"
   ]
  },
  {
   "cell_type": "markdown",
   "metadata": {},
   "source": [
    "## Advanced Grouping"
   ]
  },
  {
   "cell_type": "markdown",
   "metadata": {},
   "source": [
    "For the rest of today's lecture, we will use the `cars` table, which contains specifications for a variety of car models."
   ]
  },
  {
   "cell_type": "code",
   "execution_count": null,
   "metadata": {},
   "outputs": [],
   "source": [
    "cars = Table.read_table('data/models-2021.csv')\n",
    "cars"
   ]
  },
  {
   "cell_type": "markdown",
   "metadata": {},
   "source": [
    "A few notes:\n",
    "* `Manufacturer` is who owns the Brand.\n",
    "    * GM owns Buick, Cadillac, Chevrolet, GMC.\n",
    "* `Displacement` is the engine size in liters.\n",
    "* `MPG` is miles per gallon.\n"
   ]
  },
  {
   "cell_type": "markdown",
   "metadata": {},
   "source": [
    "Here we'll take a subset of the rows and columns for illustration."
   ]
  },
  {
   "cell_type": "code",
   "execution_count": null,
   "metadata": {},
   "outputs": [],
   "source": [
    "gm = cars.where('Manufacturer', 'General Motors').select('Brand', 'Model', 'Cylinders', 'MPG').take([0, 1, 9, 16, 20, 30, 31, 35, -1]).take([1, 2, 4, 8, 5, 6, 3, 7, 0])\n",
    "gm"
   ]
  },
  {
   "cell_type": "markdown",
   "metadata": {},
   "source": [
    "### Default Behavior"
   ]
  },
  {
   "cell_type": "markdown",
   "metadata": {},
   "source": [
    "We have already seen how we can group on a single variable/column."
   ]
  },
  {
   "cell_type": "code",
   "execution_count": null,
   "metadata": {
    "scrolled": true
   },
   "outputs": [],
   "source": [
    "... # Group `gm` by Brand"
   ]
  },
  {
   "cell_type": "code",
   "execution_count": null,
   "metadata": {},
   "outputs": [],
   "source": [
    "... # Group `gm` by number of Cylinders"
   ]
  },
  {
   "cell_type": "code",
   "execution_count": null,
   "metadata": {},
   "outputs": [],
   "source": [
    "cars"
   ]
  },
  {
   "cell_type": "code",
   "execution_count": null,
   "metadata": {},
   "outputs": [],
   "source": [
    "cars.group('Brand')"
   ]
  },
  {
   "cell_type": "code",
   "execution_count": null,
   "metadata": {},
   "outputs": [],
   "source": [
    "# shuffles the rows in the table; returns a new table\n",
    "cars.shuffle()"
   ]
  },
  {
   "cell_type": "code",
   "execution_count": null,
   "metadata": {},
   "outputs": [],
   "source": [
    "cars.group('Brand')"
   ]
  },
  {
   "cell_type": "markdown",
   "metadata": {},
   "source": [
    "Note that it doesn't matter what order the rows are originally in. The resulting table will be sorted alphabetically."
   ]
  },
  {
   "cell_type": "markdown",
   "metadata": {},
   "source": [
    "### Specifying a `collect` function"
   ]
  },
  {
   "cell_type": "markdown",
   "metadata": {},
   "source": [
    "We can also use `.group` to learn other aggregate statistics about cateogories. We do this by specifying a second argument: `collect`. The `collect` argument must be a function (e.g. `len`, `min` `np.mean`, etc)."
   ]
  },
  {
   "cell_type": "code",
   "execution_count": null,
   "metadata": {},
   "outputs": [],
   "source": [
    "... # Group `gm` by Brand and use np.mean as the collect function"
   ]
  },
  {
   "cell_type": "markdown",
   "metadata": {},
   "source": [
    "How does this work under the hood?"
   ]
  },
  {
   "cell_type": "code",
   "execution_count": null,
   "metadata": {},
   "outputs": [],
   "source": [
    "gm.where('Brand', 'Buick')"
   ]
  },
  {
   "cell_type": "code",
   "execution_count": null,
   "metadata": {},
   "outputs": [],
   "source": [
    "print('mean of Cylinders: ', gm.where('Brand', 'Buick').column('Cylinders').mean())\n",
    "print('mean of MPG: ', gm.where('Brand', 'Buick').column('MPG').mean())"
   ]
  },
  {
   "cell_type": "code",
   "execution_count": null,
   "metadata": {
    "scrolled": true
   },
   "outputs": [],
   "source": [
    "gm.where('Brand', 'Cadillac')"
   ]
  },
  {
   "cell_type": "code",
   "execution_count": null,
   "metadata": {
    "scrolled": true
   },
   "outputs": [],
   "source": [
    "print('mean of Cylinders: ', gm.where('Brand', 'Cadillac').column('Cylinders').mean())\n",
    "print('mean of MPG: ', gm.where('Brand', 'Cadillac').column('MPG').mean())"
   ]
  },
  {
   "cell_type": "code",
   "execution_count": null,
   "metadata": {},
   "outputs": [],
   "source": [
    "gm.where('Brand', 'Chevrolet')"
   ]
  },
  {
   "cell_type": "code",
   "execution_count": null,
   "metadata": {
    "scrolled": true
   },
   "outputs": [],
   "source": [
    "print('mean of Cylinders: ', gm.where('Brand', 'Chevrolet').column('Cylinders').mean())\n",
    "print('mean of MPG: ', gm.where('Brand', 'Chevrolet').column('MPG').mean())"
   ]
  },
  {
   "cell_type": "code",
   "execution_count": null,
   "metadata": {},
   "outputs": [],
   "source": [
    "gm.where('Brand', 'GMC')"
   ]
  },
  {
   "cell_type": "code",
   "execution_count": null,
   "metadata": {
    "scrolled": true
   },
   "outputs": [],
   "source": [
    "print('mean of Cylinders: ', gm.where('Brand', 'GMC').column('Cylinders').mean())\n",
    "print('mean of MPG: ', gm.where('Brand', 'GMC').column('MPG').mean())"
   ]
  },
  {
   "cell_type": "markdown",
   "metadata": {},
   "source": [
    "If you want a more concise way of doing the above:"
   ]
  },
  {
   "cell_type": "code",
   "execution_count": null,
   "metadata": {},
   "outputs": [],
   "source": [
    "# Just run this cell — you'll learn how to write for loops next week\n",
    "for brand in np.unique(gm.column('Brand')):\n",
    "    brand_only = gm.where('Brand', brand)\n",
    "    print(brand)\n",
    "    print('mean of Cylinders: ', brand_only.column('Cylinders').mean())\n",
    "    print('mean of MPG: ', brand_only.column('MPG').mean())\n",
    "    print('\\n')"
   ]
  },
  {
   "cell_type": "markdown",
   "metadata": {},
   "source": [
    "What if we use other `collect` functions?"
   ]
  },
  {
   "cell_type": "code",
   "execution_count": null,
   "metadata": {},
   "outputs": [],
   "source": [
    "gm"
   ]
  },
  {
   "cell_type": "code",
   "execution_count": null,
   "metadata": {},
   "outputs": [],
   "source": [
    "gm.group('Brand', sum)"
   ]
  },
  {
   "cell_type": "code",
   "execution_count": null,
   "metadata": {},
   "outputs": [],
   "source": [
    "gm.group('Brand', list)"
   ]
  },
  {
   "cell_type": "code",
   "execution_count": null,
   "metadata": {
    "scrolled": true
   },
   "outputs": [],
   "source": [
    "gm.group('Brand', len)"
   ]
  },
  {
   "cell_type": "code",
   "execution_count": null,
   "metadata": {
    "scrolled": true
   },
   "outputs": [],
   "source": [
    "gm.group('Brand', max)"
   ]
  },
  {
   "cell_type": "markdown",
   "metadata": {},
   "source": [
    "### Grouping by Multiple Columns"
   ]
  },
  {
   "cell_type": "markdown",
   "metadata": {},
   "source": [
    "We can also group by unique combinations of multiple variables. Passing in an array of column names as the first argument in `.group` will create a row for each unique combination of column values in the original table."
   ]
  },
  {
   "cell_type": "code",
   "execution_count": null,
   "metadata": {},
   "outputs": [],
   "source": [
    "cars"
   ]
  },
  {
   "cell_type": "code",
   "execution_count": null,
   "metadata": {},
   "outputs": [],
   "source": [
    "... # Group `cars` by Manufacturer and Brand"
   ]
  },
  {
   "cell_type": "code",
   "execution_count": null,
   "metadata": {},
   "outputs": [],
   "source": [
    "... # Group `cars` by Manufacturer and use np.mean as the collect function"
   ]
  },
  {
   "cell_type": "code",
   "execution_count": null,
   "metadata": {},
   "outputs": [],
   "source": [
    "... # Group `cars` by Manufacturer, Brand, and Displacement"
   ]
  },
  {
   "cell_type": "markdown",
   "metadata": {},
   "source": [
    "## `.pivot`"
   ]
  },
  {
   "cell_type": "markdown",
   "metadata": {},
   "source": [
    "Another useful table method is `tbl.pivot()`, which can help us determine statistics for different combinations of values for two variables."
   ]
  },
  {
   "cell_type": "markdown",
   "metadata": {},
   "source": [
    "For example, what if we wanted to view the mean MPG for each combination of car brand and cylinder number? `.pivot` allows us to do just that!"
   ]
  },
  {
   "cell_type": "code",
   "execution_count": null,
   "metadata": {},
   "outputs": [],
   "source": [
    "... # Create a pivot table showing average MPG for each combination of Brand and Cylinders"
   ]
  },
  {
   "cell_type": "markdown",
   "metadata": {},
   "source": [
    "`.pivot` can take up to four arguments, the last two of which are optional (but must be used together):\n",
    "1. `columns`: The column in `tbl` to use as the columns in the pivot table\n",
    "2. `rows`: The column in `tbl` to use as the rows in the pivot table\n",
    "3. `values`: The column in `tbl` to aggregate using the `collect` function\n",
    "4. `collect`: A function with which to aggregate the values in the `values` column"
   ]
  },
  {
   "cell_type": "markdown",
   "metadata": {},
   "source": [
    "### Quick Check 2"
   ]
  },
  {
   "cell_type": "markdown",
   "metadata": {},
   "source": [
    "<img src=\"pivot-table.png\" width=\"70%\"/>"
   ]
  },
  {
   "cell_type": "markdown",
   "metadata": {},
   "source": [
    "Fill in the blanks to create the table above, which describes the largest number of cylinders each manufacturer makes for every possible drivetrain (`'Wheel'`)."
   ]
  },
  {
   "cell_type": "code",
   "execution_count": null,
   "metadata": {},
   "outputs": [],
   "source": [
    "cars.pivot(___, ___, ___, ___) # Replace the blanks with your answers"
   ]
  },
  {
   "cell_type": "markdown",
   "metadata": {},
   "source": [
    "## Demo: US R1 Universities"
   ]
  },
  {
   "cell_type": "markdown",
   "metadata": {},
   "source": [
    "For our demo, we will be using a dataset of [R1 universities](https://en.wikipedia.org/wiki/List_of_research_universities_in_the_United_States) in the US."
   ]
  },
  {
   "cell_type": "code",
   "execution_count": null,
   "metadata": {},
   "outputs": [],
   "source": [
    "unis = Table.read_table(\"data/r1_with_students.csv\")\n",
    "unis"
   ]
  },
  {
   "cell_type": "markdown",
   "metadata": {},
   "source": [
    "If we wanted to visualize information from this table, we could try to plot all 96 universities on one bar chart, but that isn't ideal..."
   ]
  },
  {
   "cell_type": "code",
   "execution_count": null,
   "metadata": {},
   "outputs": [],
   "source": [
    "unis.sort('Number_students', descending=True).barh('University', 'Number_students')"
   ]
  },
  {
   "cell_type": "markdown",
   "metadata": {},
   "source": [
    "Instead, let's group by state and find the average enrollment in each state."
   ]
  },
  {
   "cell_type": "code",
   "execution_count": null,
   "metadata": {},
   "outputs": [],
   "source": [
    "unis.group('State', np.mean).sort('Number_students mean', descending=True).barh('State', 'Number_students mean')"
   ]
  },
  {
   "cell_type": "markdown",
   "metadata": {},
   "source": [
    "We can also use a pivot table to help us generate a useful visualization:"
   ]
  },
  {
   "cell_type": "code",
   "execution_count": null,
   "metadata": {},
   "outputs": [],
   "source": [
    "unis_pivot = ... # Create a pivot table for each combination of State and type of school\n",
    "unis_pivot"
   ]
  },
  {
   "cell_type": "code",
   "execution_count": null,
   "metadata": {},
   "outputs": [],
   "source": [
    "unis_pivot.barh('State')"
   ]
  },
  {
   "cell_type": "markdown",
   "metadata": {},
   "source": [
    "Ta-da!"
   ]
  }
 ],
 "metadata": {
  "kernelspec": {
   "display_name": "Python 3 (ipykernel)",
   "language": "python",
   "name": "python3"
  },
  "language_info": {
   "codemirror_mode": {
    "name": "ipython",
    "version": 3
   },
   "file_extension": ".py",
   "mimetype": "text/x-python",
   "name": "python",
   "nbconvert_exporter": "python",
   "pygments_lexer": "ipython3",
   "version": "3.11.9"
  }
 },
 "nbformat": 4,
 "nbformat_minor": 4
}
