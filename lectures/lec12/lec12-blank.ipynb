{
 "cells": [
  {
   "cell_type": "markdown",
   "metadata": {},
   "source": [
    "# Lecture 12 – Grouping and Pivoting\n",
    "\n",
    "## Data 6, Fall 2024"
   ]
  },
  {
   "cell_type": "code",
   "execution_count": 1,
   "metadata": {},
   "outputs": [],
   "source": [
    "from datascience import *\n",
    "import numpy as np\n",
    "%matplotlib inline\n",
    "Table.interactive_plots() "
   ]
  },
  {
   "cell_type": "markdown",
   "metadata": {},
   "source": [
    "## Grouping with `.group`"
   ]
  },
  {
   "cell_type": "markdown",
   "metadata": {},
   "source": [
    "The term \"group\" in data science is most commonly associated with data aggregation and disaggregation. When we \"group\" a table in Python, we are able to gain insights about our data at a higher unit of analysis (e.g. at a city or state level, as opposed to the individual level)."
   ]
  },
  {
   "cell_type": "markdown",
   "metadata": {},
   "source": [
    "Returning to the `top_10` dataset from last week (showing the songs on the Spotify Top 10), we can utilize `tbl.group()` to count how many Top 10 songs each artist has."
   ]
  },
  {
   "cell_type": "code",
   "execution_count": 2,
   "metadata": {},
   "outputs": [
    {
     "data": {
      "text/html": [
       "<table border=\"1\" class=\"dataframe\">\n",
       "    <thead>\n",
       "        <tr>\n",
       "            <th>rank</th> <th>artist_names</th> <th>track_name</th> <th>source</th> <th>peak_rank</th> <th>previous_rank</th> <th>days_on_chart</th> <th>streams</th>\n",
       "        </tr>\n",
       "    </thead>\n",
       "    <tbody>\n",
       "        <tr>\n",
       "            <td>1   </td> <td>Kate Bush                   </td> <td>Running Up That Hill                   </td> <td>Rhino                        </td> <td>1        </td> <td>1            </td> <td>41           </td> <td>7208654</td>\n",
       "        </tr>\n",
       "        <tr>\n",
       "            <td>2   </td> <td>Harry Styles                </td> <td>As It Was                              </td> <td>Columbia                     </td> <td>1        </td> <td>2            </td> <td>99           </td> <td>6543793</td>\n",
       "        </tr>\n",
       "        <tr>\n",
       "            <td>3   </td> <td>Joji                        </td> <td>Glimpse of Us                          </td> <td>88rising Music/Warner Records</td> <td>1        </td> <td>3            </td> <td>28           </td> <td>5492997</td>\n",
       "        </tr>\n",
       "        <tr>\n",
       "            <td>4   </td> <td>Bad Bunny, Chencho Corleone </td> <td>Me Porto Bonito                        </td> <td>Rimas Entertainment LLC      </td> <td>2        </td> <td>4            </td> <td>63           </td> <td>5416421</td>\n",
       "        </tr>\n",
       "        <tr>\n",
       "            <td>5   </td> <td>Bizarrap, Quevedo           </td> <td>Quevedo: Bzrp Music Sessions, Vol. 52  </td> <td>DALE PLAY Records            </td> <td>5        </td> <td>-1           </td> <td>1            </td> <td>4676471</td>\n",
       "        </tr>\n",
       "        <tr>\n",
       "            <td>6   </td> <td>Bad Bunny                   </td> <td>Tití Me Preguntó                       </td> <td>Rimas Entertainment LLC      </td> <td>4        </td> <td>5            </td> <td>63           </td> <td>4549682</td>\n",
       "        </tr>\n",
       "        <tr>\n",
       "            <td>7   </td> <td>Bad Bunny, Bomba Estéreo    </td> <td>Ojitos Lindos                          </td> <td>Rimas Entertainment LLC      </td> <td>2        </td> <td>6            </td> <td>63           </td> <td>4144625</td>\n",
       "        </tr>\n",
       "        <tr>\n",
       "            <td>8   </td> <td>Bad Bunny                   </td> <td>Efecto                                 </td> <td>Rimas Entertainment LLC      </td> <td>7        </td> <td>8            </td> <td>63           </td> <td>3722317</td>\n",
       "        </tr>\n",
       "        <tr>\n",
       "            <td>9   </td> <td>Charlie Puth, BTS, Jung Kook</td> <td>Left and Right (Feat. Jung Kook of BTS)</td> <td>Atlantic Records             </td> <td>3        </td> <td>7            </td> <td>14           </td> <td>3715689</td>\n",
       "        </tr>\n",
       "        <tr>\n",
       "            <td>10  </td> <td>Bad Bunny                   </td> <td>Moscow Mule                            </td> <td>Rimas Entertainment LLC      </td> <td>1        </td> <td>9            </td> <td>63           </td> <td>3465003</td>\n",
       "        </tr>\n",
       "    </tbody>\n",
       "</table>"
      ],
      "text/plain": [
       "rank | artist_names                 | track_name                              | source                        | peak_rank | previous_rank | days_on_chart | streams\n",
       "1    | Kate Bush                    | Running Up That Hill                    | Rhino                         | 1         | 1             | 41            | 7208654\n",
       "2    | Harry Styles                 | As It Was                               | Columbia                      | 1         | 2             | 99            | 6543793\n",
       "3    | Joji                         | Glimpse of Us                           | 88rising Music/Warner Records | 1         | 3             | 28            | 5492997\n",
       "4    | Bad Bunny, Chencho Corleone  | Me Porto Bonito                         | Rimas Entertainment LLC       | 2         | 4             | 63            | 5416421\n",
       "5    | Bizarrap, Quevedo            | Quevedo: Bzrp Music Sessions, Vol. 52   | DALE PLAY Records             | 5         | -1            | 1             | 4676471\n",
       "6    | Bad Bunny                    | Tití Me Preguntó                        | Rimas Entertainment LLC       | 4         | 5             | 63            | 4549682\n",
       "7    | Bad Bunny, Bomba Estéreo     | Ojitos Lindos                           | Rimas Entertainment LLC       | 2         | 6             | 63            | 4144625\n",
       "8    | Bad Bunny                    | Efecto                                  | Rimas Entertainment LLC       | 7         | 8             | 63            | 3722317\n",
       "9    | Charlie Puth, BTS, Jung Kook | Left and Right (Feat. Jung Kook of BTS) | Atlantic Records              | 3         | 7             | 14            | 3715689\n",
       "10   | Bad Bunny                    | Moscow Mule                             | Rimas Entertainment LLC       | 1         | 9             | 63            | 3465003"
      ]
     },
     "execution_count": 2,
     "metadata": {},
     "output_type": "execute_result"
    }
   ],
   "source": [
    "top_10 = Table.read_table('data/regional-global-daily-latest.csv').take(np.arange(10))\n",
    "top_10"
   ]
  },
  {
   "cell_type": "markdown",
   "metadata": {},
   "source": [
    "By default `tbl.group(column)` counts the number of occurences of each unique value in `column`."
   ]
  },
  {
   "cell_type": "code",
   "execution_count": 5,
   "metadata": {
    "scrolled": true
   },
   "outputs": [
    {
     "data": {
      "text/html": [
       "<table border=\"1\" class=\"dataframe\">\n",
       "    <thead>\n",
       "        <tr>\n",
       "            <th>artist_names</th> <th>count</th>\n",
       "        </tr>\n",
       "    </thead>\n",
       "    <tbody>\n",
       "        <tr>\n",
       "            <td>Bad Bunny                   </td> <td>3    </td>\n",
       "        </tr>\n",
       "        <tr>\n",
       "            <td>Bad Bunny, Bomba Estéreo    </td> <td>1    </td>\n",
       "        </tr>\n",
       "        <tr>\n",
       "            <td>Bad Bunny, Chencho Corleone </td> <td>1    </td>\n",
       "        </tr>\n",
       "        <tr>\n",
       "            <td>Bizarrap, Quevedo           </td> <td>1    </td>\n",
       "        </tr>\n",
       "        <tr>\n",
       "            <td>Charlie Puth, BTS, Jung Kook</td> <td>1    </td>\n",
       "        </tr>\n",
       "        <tr>\n",
       "            <td>Harry Styles                </td> <td>1    </td>\n",
       "        </tr>\n",
       "        <tr>\n",
       "            <td>Joji                        </td> <td>1    </td>\n",
       "        </tr>\n",
       "        <tr>\n",
       "            <td>Kate Bush                   </td> <td>1    </td>\n",
       "        </tr>\n",
       "    </tbody>\n",
       "</table>"
      ],
      "text/plain": [
       "artist_names                 | count\n",
       "Bad Bunny                    | 3\n",
       "Bad Bunny, Bomba Estéreo     | 1\n",
       "Bad Bunny, Chencho Corleone  | 1\n",
       "Bizarrap, Quevedo            | 1\n",
       "Charlie Puth, BTS, Jung Kook | 1\n",
       "Harry Styles                 | 1\n",
       "Joji                         | 1\n",
       "Kate Bush                    | 1"
      ]
     },
     "execution_count": 5,
     "metadata": {},
     "output_type": "execute_result"
    }
   ],
   "source": [
    "top_10.group(\"artist_names\").sort(\"count\", descending = True) # Group `top_10` by artist name and then sort by count"
   ]
  },
  {
   "cell_type": "markdown",
   "metadata": {},
   "source": [
    "Notice that Bad Bunny's name appears 5 times on the Top 10, but the \"Bad Bunny\" row in the groupped table only has a count of 3. This is because Python looks for an **exact match**. The songs where Bad Bunny appears along with other artists are counted separately."
   ]
  },
  {
   "cell_type": "markdown",
   "metadata": {},
   "source": [
    "### Quick Check (not mandatory for participation credit today)"
   ]
  },
  {
   "cell_type": "code",
   "execution_count": 6,
   "metadata": {},
   "outputs": [
    {
     "data": {
      "text/html": [
       "<table border=\"1\" class=\"dataframe\">\n",
       "    <thead>\n",
       "        <tr>\n",
       "            <th>rank</th> <th>artist_names</th> <th>track_name</th> <th>source</th> <th>peak_rank</th> <th>previous_rank</th> <th>days_on_chart</th> <th>streams</th>\n",
       "        </tr>\n",
       "    </thead>\n",
       "    <tbody>\n",
       "        <tr>\n",
       "            <td>1   </td> <td>Kate Bush                   </td> <td>Running Up That Hill                   </td> <td>Rhino                        </td> <td>1        </td> <td>1            </td> <td>41           </td> <td>7208654</td>\n",
       "        </tr>\n",
       "        <tr>\n",
       "            <td>2   </td> <td>Harry Styles                </td> <td>As It Was                              </td> <td>Columbia                     </td> <td>1        </td> <td>2            </td> <td>99           </td> <td>6543793</td>\n",
       "        </tr>\n",
       "        <tr>\n",
       "            <td>3   </td> <td>Joji                        </td> <td>Glimpse of Us                          </td> <td>88rising Music/Warner Records</td> <td>1        </td> <td>3            </td> <td>28           </td> <td>5492997</td>\n",
       "        </tr>\n",
       "        <tr>\n",
       "            <td>4   </td> <td>Bad Bunny, Chencho Corleone </td> <td>Me Porto Bonito                        </td> <td>Rimas Entertainment LLC      </td> <td>2        </td> <td>4            </td> <td>63           </td> <td>5416421</td>\n",
       "        </tr>\n",
       "        <tr>\n",
       "            <td>5   </td> <td>Bizarrap, Quevedo           </td> <td>Quevedo: Bzrp Music Sessions, Vol. 52  </td> <td>DALE PLAY Records            </td> <td>5        </td> <td>-1           </td> <td>1            </td> <td>4676471</td>\n",
       "        </tr>\n",
       "        <tr>\n",
       "            <td>6   </td> <td>Bad Bunny                   </td> <td>Tití Me Preguntó                       </td> <td>Rimas Entertainment LLC      </td> <td>4        </td> <td>5            </td> <td>63           </td> <td>4549682</td>\n",
       "        </tr>\n",
       "        <tr>\n",
       "            <td>7   </td> <td>Bad Bunny, Bomba Estéreo    </td> <td>Ojitos Lindos                          </td> <td>Rimas Entertainment LLC      </td> <td>2        </td> <td>6            </td> <td>63           </td> <td>4144625</td>\n",
       "        </tr>\n",
       "        <tr>\n",
       "            <td>8   </td> <td>Bad Bunny                   </td> <td>Efecto                                 </td> <td>Rimas Entertainment LLC      </td> <td>7        </td> <td>8            </td> <td>63           </td> <td>3722317</td>\n",
       "        </tr>\n",
       "        <tr>\n",
       "            <td>9   </td> <td>Charlie Puth, BTS, Jung Kook</td> <td>Left and Right (Feat. Jung Kook of BTS)</td> <td>Atlantic Records             </td> <td>3        </td> <td>7            </td> <td>14           </td> <td>3715689</td>\n",
       "        </tr>\n",
       "        <tr>\n",
       "            <td>10  </td> <td>Bad Bunny                   </td> <td>Moscow Mule                            </td> <td>Rimas Entertainment LLC      </td> <td>1        </td> <td>9            </td> <td>63           </td> <td>3465003</td>\n",
       "        </tr>\n",
       "    </tbody>\n",
       "</table>\n",
       "<p>... (190 rows omitted)</p>"
      ],
      "text/plain": [
       "rank | artist_names                 | track_name                              | source                        | peak_rank | previous_rank | days_on_chart | streams\n",
       "1    | Kate Bush                    | Running Up That Hill                    | Rhino                         | 1         | 1             | 41            | 7208654\n",
       "2    | Harry Styles                 | As It Was                               | Columbia                      | 1         | 2             | 99            | 6543793\n",
       "3    | Joji                         | Glimpse of Us                           | 88rising Music/Warner Records | 1         | 3             | 28            | 5492997\n",
       "4    | Bad Bunny, Chencho Corleone  | Me Porto Bonito                         | Rimas Entertainment LLC       | 2         | 4             | 63            | 5416421\n",
       "5    | Bizarrap, Quevedo            | Quevedo: Bzrp Music Sessions, Vol. 52   | DALE PLAY Records             | 5         | -1            | 1             | 4676471\n",
       "6    | Bad Bunny                    | Tití Me Preguntó                        | Rimas Entertainment LLC       | 4         | 5             | 63            | 4549682\n",
       "7    | Bad Bunny, Bomba Estéreo     | Ojitos Lindos                           | Rimas Entertainment LLC       | 2         | 6             | 63            | 4144625\n",
       "8    | Bad Bunny                    | Efecto                                  | Rimas Entertainment LLC       | 7         | 8             | 63            | 3722317\n",
       "9    | Charlie Puth, BTS, Jung Kook | Left and Right (Feat. Jung Kook of BTS) | Atlantic Records              | 3         | 7             | 14            | 3715689\n",
       "10   | Bad Bunny                    | Moscow Mule                             | Rimas Entertainment LLC       | 1         | 9             | 63            | 3465003\n",
       "... (190 rows omitted)"
      ]
     },
     "execution_count": 6,
     "metadata": {},
     "output_type": "execute_result"
    }
   ],
   "source": [
    "streams = Table.read_table('data/regional-global-daily-latest.csv')\n",
    "streams"
   ]
  },
  {
   "cell_type": "markdown",
   "metadata": {},
   "source": [
    "Using the `streams` table, fill in the blanks to create the “Top 10 Artists”: The 10 artists with the most songs in the Spotify Daily Top 200 streams table."
   ]
  },
  {
   "cell_type": "code",
   "execution_count": 11,
   "metadata": {},
   "outputs": [
    {
     "data": {
      "text/html": [
       "<table border=\"1\" class=\"dataframe\">\n",
       "    <thead>\n",
       "        <tr>\n",
       "            <th>artist_names</th> <th>count</th>\n",
       "        </tr>\n",
       "    </thead>\n",
       "    <tbody>\n",
       "        <tr>\n",
       "            <td>Bad Bunny      </td> <td>16   </td>\n",
       "        </tr>\n",
       "        <tr>\n",
       "            <td>Harry Styles   </td> <td>8    </td>\n",
       "        </tr>\n",
       "        <tr>\n",
       "            <td>Olivia Rodrigo </td> <td>5    </td>\n",
       "        </tr>\n",
       "        <tr>\n",
       "            <td>The Weeknd     </td> <td>5    </td>\n",
       "        </tr>\n",
       "        <tr>\n",
       "            <td>Ed Sheeran     </td> <td>4    </td>\n",
       "        </tr>\n",
       "        <tr>\n",
       "            <td>Arctic Monkeys </td> <td>3    </td>\n",
       "        </tr>\n",
       "        <tr>\n",
       "            <td>BTS            </td> <td>3    </td>\n",
       "        </tr>\n",
       "        <tr>\n",
       "            <td>Doja Cat       </td> <td>3    </td>\n",
       "        </tr>\n",
       "        <tr>\n",
       "            <td>Eminem         </td> <td>3    </td>\n",
       "        </tr>\n",
       "        <tr>\n",
       "            <td>Imagine Dragons</td> <td>3    </td>\n",
       "        </tr>\n",
       "    </tbody>\n",
       "</table>"
      ],
      "text/plain": [
       "artist_names    | count\n",
       "Bad Bunny       | 16\n",
       "Harry Styles    | 8\n",
       "Olivia Rodrigo  | 5\n",
       "The Weeknd      | 5\n",
       "Ed Sheeran      | 4\n",
       "Arctic Monkeys  | 3\n",
       "BTS             | 3\n",
       "Doja Cat        | 3\n",
       "Eminem          | 3\n",
       "Imagine Dragons | 3"
      ]
     },
     "execution_count": 11,
     "metadata": {},
     "output_type": "execute_result"
    }
   ],
   "source": [
    "top_10_artists = streams.group(\"artist_names\").sort(\"count\", descending=True).take(np.arange(10))\n",
    "top_10_artists"
   ]
  },
  {
   "cell_type": "markdown",
   "metadata": {},
   "source": [
    "## Advanced Grouping"
   ]
  },
  {
   "cell_type": "markdown",
   "metadata": {},
   "source": [
    "For the rest of today's lecture, we will use the `cars` table, which contains specifications for a variety of car models."
   ]
  },
  {
   "cell_type": "code",
   "execution_count": 12,
   "metadata": {},
   "outputs": [
    {
     "data": {
      "text/html": [
       "<table border=\"1\" class=\"dataframe\">\n",
       "    <thead>\n",
       "        <tr>\n",
       "            <th>Manufacturer</th> <th>Brand</th> <th>Model</th> <th>Displacement</th> <th>Cylinders</th> <th>MPG</th> <th>Wheel</th>\n",
       "        </tr>\n",
       "    </thead>\n",
       "    <tbody>\n",
       "        <tr>\n",
       "            <td>BMW         </td> <td>BMW  </td> <td>228i Gran Coupe        </td> <td>2           </td> <td>4        </td> <td>28  </td> <td>2-Wheel Drive, Front</td>\n",
       "        </tr>\n",
       "        <tr>\n",
       "            <td>BMW         </td> <td>BMW  </td> <td>228i xDrive Gran Coupe </td> <td>2           </td> <td>4        </td> <td>27  </td> <td>All Wheel Drive     </td>\n",
       "        </tr>\n",
       "        <tr>\n",
       "            <td>BMW         </td> <td>BMW  </td> <td>230i Convertible       </td> <td>2           </td> <td>4        </td> <td>27  </td> <td>2-Wheel Drive, Rear </td>\n",
       "        </tr>\n",
       "        <tr>\n",
       "            <td>BMW         </td> <td>BMW  </td> <td>230i Coupe             </td> <td>2           </td> <td>4        </td> <td>28  </td> <td>2-Wheel Drive, Rear </td>\n",
       "        </tr>\n",
       "        <tr>\n",
       "            <td>BMW         </td> <td>BMW  </td> <td>230i xDrive Convertible</td> <td>2           </td> <td>4        </td> <td>24  </td> <td>All Wheel Drive     </td>\n",
       "        </tr>\n",
       "        <tr>\n",
       "            <td>BMW         </td> <td>BMW  </td> <td>230i xDrive Coupe      </td> <td>2           </td> <td>4        </td> <td>24  </td> <td>All Wheel Drive     </td>\n",
       "        </tr>\n",
       "        <tr>\n",
       "            <td>BMW         </td> <td>BMW  </td> <td>330i                   </td> <td>2           </td> <td>4        </td> <td>30  </td> <td>2-Wheel Drive, Rear </td>\n",
       "        </tr>\n",
       "        <tr>\n",
       "            <td>BMW         </td> <td>BMW  </td> <td>330i xDrive            </td> <td>2           </td> <td>4        </td> <td>28  </td> <td>All Wheel Drive     </td>\n",
       "        </tr>\n",
       "        <tr>\n",
       "            <td>BMW         </td> <td>BMW  </td> <td>430i Coupe             </td> <td>2           </td> <td>4        </td> <td>29  </td> <td>2-Wheel Drive, Rear </td>\n",
       "        </tr>\n",
       "        <tr>\n",
       "            <td>BMW         </td> <td>BMW  </td> <td>430i xDrive Coupe      </td> <td>2           </td> <td>4        </td> <td>27  </td> <td>All Wheel Drive     </td>\n",
       "        </tr>\n",
       "    </tbody>\n",
       "</table>\n",
       "<p>... (764 rows omitted)</p>"
      ],
      "text/plain": [
       "Manufacturer | Brand | Model                   | Displacement | Cylinders | MPG  | Wheel\n",
       "BMW          | BMW   | 228i Gran Coupe         | 2            | 4         | 28   | 2-Wheel Drive, Front\n",
       "BMW          | BMW   | 228i xDrive Gran Coupe  | 2            | 4         | 27   | All Wheel Drive\n",
       "BMW          | BMW   | 230i Convertible        | 2            | 4         | 27   | 2-Wheel Drive, Rear\n",
       "BMW          | BMW   | 230i Coupe              | 2            | 4         | 28   | 2-Wheel Drive, Rear\n",
       "BMW          | BMW   | 230i xDrive Convertible | 2            | 4         | 24   | All Wheel Drive\n",
       "BMW          | BMW   | 230i xDrive Coupe       | 2            | 4         | 24   | All Wheel Drive\n",
       "BMW          | BMW   | 330i                    | 2            | 4         | 30   | 2-Wheel Drive, Rear\n",
       "BMW          | BMW   | 330i xDrive             | 2            | 4         | 28   | All Wheel Drive\n",
       "BMW          | BMW   | 430i Coupe              | 2            | 4         | 29   | 2-Wheel Drive, Rear\n",
       "BMW          | BMW   | 430i xDrive Coupe       | 2            | 4         | 27   | All Wheel Drive\n",
       "... (764 rows omitted)"
      ]
     },
     "execution_count": 12,
     "metadata": {},
     "output_type": "execute_result"
    }
   ],
   "source": [
    "cars = Table.read_table('data/models-2021.csv')\n",
    "cars"
   ]
  },
  {
   "cell_type": "markdown",
   "metadata": {},
   "source": [
    "A few notes:\n",
    "* `Manufacturer` is who owns the Brand.\n",
    "    * GM owns Buick, Cadillac, Chevrolet, GMC.\n",
    "* `Displacement` is the engine size in liters.\n",
    "* `MPG` is miles per gallon.\n"
   ]
  },
  {
   "cell_type": "markdown",
   "metadata": {},
   "source": [
    "Here we'll take a subset of the rows and columns for illustration."
   ]
  },
  {
   "cell_type": "code",
   "execution_count": 14,
   "metadata": {},
   "outputs": [
    {
     "data": {
      "text/html": [
       "<table border=\"1\" class=\"dataframe\">\n",
       "    <thead>\n",
       "        <tr>\n",
       "            <th>Brand</th> <th>Model</th> <th>Cylinders</th> <th>MPG</th>\n",
       "        </tr>\n",
       "    </thead>\n",
       "    <tbody>\n",
       "        <tr>\n",
       "            <td>Buick    </td> <td>ENCLAVE FWD </td> <td>6        </td> <td>21  </td>\n",
       "        </tr>\n",
       "        <tr>\n",
       "            <td>Cadillac </td> <td>CT4 AWD     </td> <td>4        </td> <td>26  </td>\n",
       "        </tr>\n",
       "        <tr>\n",
       "            <td>Cadillac </td> <td>XT5 AWD     </td> <td>4        </td> <td>23  </td>\n",
       "        </tr>\n",
       "        <tr>\n",
       "            <td>GMC      </td> <td>YUKON XL 4WD</td> <td>6        </td> <td>22  </td>\n",
       "        </tr>\n",
       "        <tr>\n",
       "            <td>Chevrolet</td> <td>CAMARO      </td> <td>4        </td> <td>25  </td>\n",
       "        </tr>\n",
       "        <tr>\n",
       "            <td>Chevrolet</td> <td>COLORADO 2WD</td> <td>4        </td> <td>22  </td>\n",
       "        </tr>\n",
       "        <tr>\n",
       "            <td>Cadillac </td> <td>ESCALADE 2WD</td> <td>6        </td> <td>23  </td>\n",
       "        </tr>\n",
       "        <tr>\n",
       "            <td>Chevrolet</td> <td>EQUINOX AWD </td> <td>4        </td> <td>27  </td>\n",
       "        </tr>\n",
       "        <tr>\n",
       "            <td>Buick    </td> <td>ENCLAVE AWD </td> <td>6        </td> <td>20  </td>\n",
       "        </tr>\n",
       "    </tbody>\n",
       "</table>"
      ],
      "text/plain": [
       "Brand     | Model        | Cylinders | MPG\n",
       "Buick     | ENCLAVE FWD  | 6         | 21\n",
       "Cadillac  | CT4 AWD      | 4         | 26\n",
       "Cadillac  | XT5 AWD      | 4         | 23\n",
       "GMC       | YUKON XL 4WD | 6         | 22\n",
       "Chevrolet | CAMARO       | 4         | 25\n",
       "Chevrolet | COLORADO 2WD | 4         | 22\n",
       "Cadillac  | ESCALADE 2WD | 6         | 23\n",
       "Chevrolet | EQUINOX AWD  | 4         | 27\n",
       "Buick     | ENCLAVE AWD  | 6         | 20"
      ]
     },
     "execution_count": 14,
     "metadata": {},
     "output_type": "execute_result"
    }
   ],
   "source": [
    "gm = cars.where('Manufacturer', 'General Motors').select('Brand', 'Model', 'Cylinders', 'MPG').take([0, 1, 9, 16, 20, 30, 31, 35, -1]).take([1, 2, 4, 8, 5, 6, 3, 7, 0])\n",
    "gm"
   ]
  },
  {
   "cell_type": "markdown",
   "metadata": {},
   "source": [
    "### Default Behavior"
   ]
  },
  {
   "cell_type": "markdown",
   "metadata": {},
   "source": [
    "We have already seen how we can group on a single variable/column."
   ]
  },
  {
   "cell_type": "code",
   "execution_count": 15,
   "metadata": {
    "scrolled": true
   },
   "outputs": [
    {
     "data": {
      "text/html": [
       "<table border=\"1\" class=\"dataframe\">\n",
       "    <thead>\n",
       "        <tr>\n",
       "            <th>Brand</th> <th>count</th>\n",
       "        </tr>\n",
       "    </thead>\n",
       "    <tbody>\n",
       "        <tr>\n",
       "            <td>Buick    </td> <td>2    </td>\n",
       "        </tr>\n",
       "        <tr>\n",
       "            <td>Cadillac </td> <td>3    </td>\n",
       "        </tr>\n",
       "        <tr>\n",
       "            <td>Chevrolet</td> <td>3    </td>\n",
       "        </tr>\n",
       "        <tr>\n",
       "            <td>GMC      </td> <td>1    </td>\n",
       "        </tr>\n",
       "    </tbody>\n",
       "</table>"
      ],
      "text/plain": [
       "Brand     | count\n",
       "Buick     | 2\n",
       "Cadillac  | 3\n",
       "Chevrolet | 3\n",
       "GMC       | 1"
      ]
     },
     "execution_count": 15,
     "metadata": {},
     "output_type": "execute_result"
    }
   ],
   "source": [
    "gm.group(\"Brand\") # Group `gm` by Brand"
   ]
  },
  {
   "cell_type": "code",
   "execution_count": 16,
   "metadata": {},
   "outputs": [
    {
     "data": {
      "text/html": [
       "<table border=\"1\" class=\"dataframe\">\n",
       "    <thead>\n",
       "        <tr>\n",
       "            <th>Cylinders</th> <th>count</th>\n",
       "        </tr>\n",
       "    </thead>\n",
       "    <tbody>\n",
       "        <tr>\n",
       "            <td>4        </td> <td>5    </td>\n",
       "        </tr>\n",
       "        <tr>\n",
       "            <td>6        </td> <td>4    </td>\n",
       "        </tr>\n",
       "    </tbody>\n",
       "</table>"
      ],
      "text/plain": [
       "Cylinders | count\n",
       "4         | 5\n",
       "6         | 4"
      ]
     },
     "execution_count": 16,
     "metadata": {},
     "output_type": "execute_result"
    }
   ],
   "source": [
    "gm.group(\"Cylinders\") # Group `gm` by number of Cylinders"
   ]
  },
  {
   "cell_type": "code",
   "execution_count": 35,
   "metadata": {},
   "outputs": [
    {
     "data": {
      "text/html": [
       "<table border=\"1\" class=\"dataframe\">\n",
       "    <thead>\n",
       "        <tr>\n",
       "            <th>Manufacturer</th> <th>Brand</th> <th>Model mean</th> <th>Displacement mean</th> <th>Cylinders mean</th> <th>MPG mean</th> <th>Wheel mean</th>\n",
       "        </tr>\n",
       "    </thead>\n",
       "    <tbody>\n",
       "        <tr>\n",
       "            <td>BMW         </td> <td>BMW                        </td> <td>          </td> <td>3.10789          </td> <td>6             </td> <td>22.3421 </td> <td>          </td>\n",
       "        </tr>\n",
       "        <tr>\n",
       "            <td>BMW         </td> <td>Mini                       </td> <td>          </td> <td>1.85294          </td> <td>3.70588       </td> <td>28.3529 </td> <td>          </td>\n",
       "        </tr>\n",
       "        <tr>\n",
       "            <td>BMW         </td> <td>TOYOTA                     </td> <td>          </td> <td>2.5              </td> <td>5             </td> <td>26.5    </td> <td>          </td>\n",
       "        </tr>\n",
       "        <tr>\n",
       "            <td>FCA US LLC  </td> <td>ALFA ROMEO                 </td> <td>          </td> <td>2                </td> <td>4             </td> <td>25.5    </td> <td>          </td>\n",
       "        </tr>\n",
       "        <tr>\n",
       "            <td>FCA US LLC  </td> <td>Chrysler                   </td> <td>          </td> <td>3.6              </td> <td>6             </td> <td>21.6    </td> <td>          </td>\n",
       "        </tr>\n",
       "        <tr>\n",
       "            <td>FCA US LLC  </td> <td>Dodge                      </td> <td>          </td> <td>4.93333          </td> <td>7             </td> <td>18.75   </td> <td>          </td>\n",
       "        </tr>\n",
       "        <tr>\n",
       "            <td>FCA US LLC  </td> <td>FIAT                       </td> <td>          </td> <td>1.3              </td> <td>4             </td> <td>26      </td> <td>          </td>\n",
       "        </tr>\n",
       "        <tr>\n",
       "            <td>FCA US LLC  </td> <td>Jeep                       </td> <td>          </td> <td>2.865            </td> <td>5.2           </td> <td>22.55   </td> <td>          </td>\n",
       "        </tr>\n",
       "        <tr>\n",
       "            <td>FCA US LLC  </td> <td>RAM                        </td> <td>          </td> <td>3.54286          </td> <td>6             </td> <td>21.5714 </td> <td>          </td>\n",
       "        </tr>\n",
       "        <tr>\n",
       "            <td>Ferrari     </td> <td>Ferrari North America, Inc.</td> <td>          </td> <td>4.64286          </td> <td>9.14286       </td> <td>16.2857 </td> <td>          </td>\n",
       "        </tr>\n",
       "    </tbody>\n",
       "</table>\n",
       "<p>... (32 rows omitted)</p>"
      ],
      "text/plain": [
       "Manufacturer | Brand                       | Model mean | Displacement mean | Cylinders mean | MPG mean | Wheel mean\n",
       "BMW          | BMW                         |            | 3.10789           | 6              | 22.3421  |\n",
       "BMW          | Mini                        |            | 1.85294           | 3.70588        | 28.3529  |\n",
       "BMW          | TOYOTA                      |            | 2.5               | 5              | 26.5     |\n",
       "FCA US LLC   | ALFA ROMEO                  |            | 2                 | 4              | 25.5     |\n",
       "FCA US LLC   | Chrysler                    |            | 3.6               | 6              | 21.6     |\n",
       "FCA US LLC   | Dodge                       |            | 4.93333           | 7              | 18.75    |\n",
       "FCA US LLC   | FIAT                        |            | 1.3               | 4              | 26       |\n",
       "FCA US LLC   | Jeep                        |            | 2.865             | 5.2            | 22.55    |\n",
       "FCA US LLC   | RAM                         |            | 3.54286           | 6              | 21.5714  |\n",
       "Ferrari      | Ferrari North America, Inc. |            | 4.64286           | 9.14286        | 16.2857  |\n",
       "... (32 rows omitted)"
      ]
     },
     "execution_count": 35,
     "metadata": {},
     "output_type": "execute_result"
    }
   ],
   "source": [
    "cars.group([\"Manufacturer\", \"Brand\"], np.mean)"
   ]
  },
  {
   "cell_type": "code",
   "execution_count": 46,
   "metadata": {},
   "outputs": [
    {
     "data": {
      "text/html": [
       "<table border=\"1\" class=\"dataframe\">\n",
       "    <thead>\n",
       "        <tr>\n",
       "            <th>Flavor</th> <th>Prices len</th> <th>Orders len</th>\n",
       "        </tr>\n",
       "    </thead>\n",
       "    <tbody>\n",
       "        <tr>\n",
       "            <td>Blue  </td> <td>3         </td> <td>3         </td>\n",
       "        </tr>\n",
       "        <tr>\n",
       "            <td>Green </td> <td>1         </td> <td>1         </td>\n",
       "        </tr>\n",
       "        <tr>\n",
       "            <td>Red   </td> <td>1         </td> <td>1         </td>\n",
       "        </tr>\n",
       "    </tbody>\n",
       "</table>"
      ],
      "text/plain": [
       "Flavor | Prices len | Orders len\n",
       "Blue   | 3          | 3\n",
       "Green  | 1          | 1\n",
       "Red    | 1          | 1"
      ]
     },
     "execution_count": 46,
     "metadata": {},
     "output_type": "execute_result"
    }
   ],
   "source": [
    "thri = Table().with_columns(\"Flavor\", make_array(\"Blue\", \"Red\", \"Green\", \"Blue\", \"Blue\"),\n",
    "                            \"Prices\", make_array(\"1\", \"2\", \"3\", \"4\", \"5\"),\n",
    "                            \"Orders\", make_array(5, 10, 15, 20, 25))\n",
    "\n",
    "thri.group(\"Flavor\", len)\n",
    "#thri"
   ]
  },
  {
   "cell_type": "code",
   "execution_count": null,
   "metadata": {},
   "outputs": [],
   "source": [
    "# shuffles the rows in the table; returns a new table\n",
    "cars.shuffle()"
   ]
  },
  {
   "cell_type": "code",
   "execution_count": null,
   "metadata": {},
   "outputs": [],
   "source": [
    "cars.group('Brand')"
   ]
  },
  {
   "cell_type": "markdown",
   "metadata": {},
   "source": [
    "Note that it doesn't matter what order the rows are originally in. The resulting table will be sorted alphabetically."
   ]
  },
  {
   "cell_type": "markdown",
   "metadata": {},
   "source": [
    "### Specifying a `collect` function"
   ]
  },
  {
   "cell_type": "markdown",
   "metadata": {},
   "source": [
    "We can also use `.group` to learn other aggregate statistics about cateogories. We do this by specifying a second argument: `collect`. The `collect` argument must be a function (e.g. `len`, `min` `np.mean`, etc)."
   ]
  },
  {
   "cell_type": "code",
   "execution_count": null,
   "metadata": {},
   "outputs": [],
   "source": [
    "... # Group `gm` by Brand and use np.mean as the collect function"
   ]
  },
  {
   "cell_type": "markdown",
   "metadata": {},
   "source": [
    "How does this work under the hood?"
   ]
  },
  {
   "cell_type": "code",
   "execution_count": null,
   "metadata": {},
   "outputs": [],
   "source": [
    "gm.where('Brand', 'Buick')"
   ]
  },
  {
   "cell_type": "code",
   "execution_count": null,
   "metadata": {},
   "outputs": [],
   "source": [
    "print('mean of Cylinders: ', gm.where('Brand', 'Buick').column('Cylinders').mean())\n",
    "print('mean of MPG: ', gm.where('Brand', 'Buick').column('MPG').mean())"
   ]
  },
  {
   "cell_type": "code",
   "execution_count": null,
   "metadata": {
    "scrolled": true
   },
   "outputs": [],
   "source": [
    "gm.where('Brand', 'Cadillac')"
   ]
  },
  {
   "cell_type": "code",
   "execution_count": null,
   "metadata": {
    "scrolled": true
   },
   "outputs": [],
   "source": [
    "print('mean of Cylinders: ', gm.where('Brand', 'Cadillac').column('Cylinders').mean())\n",
    "print('mean of MPG: ', gm.where('Brand', 'Cadillac').column('MPG').mean())"
   ]
  },
  {
   "cell_type": "code",
   "execution_count": null,
   "metadata": {},
   "outputs": [],
   "source": [
    "gm.where('Brand', 'Chevrolet')"
   ]
  },
  {
   "cell_type": "code",
   "execution_count": null,
   "metadata": {
    "scrolled": true
   },
   "outputs": [],
   "source": [
    "print('mean of Cylinders: ', gm.where('Brand', 'Chevrolet').column('Cylinders').mean())\n",
    "print('mean of MPG: ', gm.where('Brand', 'Chevrolet').column('MPG').mean())"
   ]
  },
  {
   "cell_type": "code",
   "execution_count": null,
   "metadata": {},
   "outputs": [],
   "source": [
    "gm.where('Brand', 'GMC')"
   ]
  },
  {
   "cell_type": "code",
   "execution_count": null,
   "metadata": {
    "scrolled": true
   },
   "outputs": [],
   "source": [
    "print('mean of Cylinders: ', gm.where('Brand', 'GMC').column('Cylinders').mean())\n",
    "print('mean of MPG: ', gm.where('Brand', 'GMC').column('MPG').mean())"
   ]
  },
  {
   "cell_type": "markdown",
   "metadata": {},
   "source": [
    "If you want a more concise way of doing the above:"
   ]
  },
  {
   "cell_type": "code",
   "execution_count": null,
   "metadata": {},
   "outputs": [],
   "source": [
    "# Just run this cell — you'll learn how to write for loops next week\n",
    "for brand in np.unique(gm.column('Brand')):\n",
    "    brand_only = gm.where('Brand', brand)\n",
    "    print(brand)\n",
    "    print('mean of Cylinders: ', brand_only.column('Cylinders').mean())\n",
    "    print('mean of MPG: ', brand_only.column('MPG').mean())\n",
    "    print('\\n')"
   ]
  },
  {
   "cell_type": "markdown",
   "metadata": {},
   "source": [
    "What if we use other `collect` functions?"
   ]
  },
  {
   "cell_type": "code",
   "execution_count": null,
   "metadata": {},
   "outputs": [],
   "source": [
    "gm"
   ]
  },
  {
   "cell_type": "code",
   "execution_count": null,
   "metadata": {},
   "outputs": [],
   "source": [
    "gm.group('Brand', sum)"
   ]
  },
  {
   "cell_type": "code",
   "execution_count": null,
   "metadata": {},
   "outputs": [],
   "source": [
    "gm.group('Brand', list)"
   ]
  },
  {
   "cell_type": "code",
   "execution_count": null,
   "metadata": {
    "scrolled": true
   },
   "outputs": [],
   "source": [
    "gm.group('Brand', len)"
   ]
  },
  {
   "cell_type": "code",
   "execution_count": null,
   "metadata": {
    "scrolled": true
   },
   "outputs": [],
   "source": [
    "gm.group('Brand', max)"
   ]
  },
  {
   "cell_type": "markdown",
   "metadata": {},
   "source": [
    "### Grouping by Multiple Columns"
   ]
  },
  {
   "cell_type": "markdown",
   "metadata": {},
   "source": [
    "We can also group by unique combinations of multiple variables. Passing in an array of column names as the first argument in `.group` will create a row for each unique combination of column values in the original table."
   ]
  },
  {
   "cell_type": "code",
   "execution_count": 18,
   "metadata": {},
   "outputs": [
    {
     "data": {
      "text/html": [
       "<table border=\"1\" class=\"dataframe\">\n",
       "    <thead>\n",
       "        <tr>\n",
       "            <th>Manufacturer</th> <th>Brand</th> <th>Model</th> <th>Displacement</th> <th>Cylinders</th> <th>MPG</th> <th>Wheel</th>\n",
       "        </tr>\n",
       "    </thead>\n",
       "    <tbody>\n",
       "        <tr>\n",
       "            <td>BMW         </td> <td>BMW  </td> <td>228i Gran Coupe        </td> <td>2           </td> <td>4        </td> <td>28  </td> <td>2-Wheel Drive, Front</td>\n",
       "        </tr>\n",
       "        <tr>\n",
       "            <td>BMW         </td> <td>BMW  </td> <td>228i xDrive Gran Coupe </td> <td>2           </td> <td>4        </td> <td>27  </td> <td>All Wheel Drive     </td>\n",
       "        </tr>\n",
       "        <tr>\n",
       "            <td>BMW         </td> <td>BMW  </td> <td>230i Convertible       </td> <td>2           </td> <td>4        </td> <td>27  </td> <td>2-Wheel Drive, Rear </td>\n",
       "        </tr>\n",
       "        <tr>\n",
       "            <td>BMW         </td> <td>BMW  </td> <td>230i Coupe             </td> <td>2           </td> <td>4        </td> <td>28  </td> <td>2-Wheel Drive, Rear </td>\n",
       "        </tr>\n",
       "        <tr>\n",
       "            <td>BMW         </td> <td>BMW  </td> <td>230i xDrive Convertible</td> <td>2           </td> <td>4        </td> <td>24  </td> <td>All Wheel Drive     </td>\n",
       "        </tr>\n",
       "        <tr>\n",
       "            <td>BMW         </td> <td>BMW  </td> <td>230i xDrive Coupe      </td> <td>2           </td> <td>4        </td> <td>24  </td> <td>All Wheel Drive     </td>\n",
       "        </tr>\n",
       "        <tr>\n",
       "            <td>BMW         </td> <td>BMW  </td> <td>330i                   </td> <td>2           </td> <td>4        </td> <td>30  </td> <td>2-Wheel Drive, Rear </td>\n",
       "        </tr>\n",
       "        <tr>\n",
       "            <td>BMW         </td> <td>BMW  </td> <td>330i xDrive            </td> <td>2           </td> <td>4        </td> <td>28  </td> <td>All Wheel Drive     </td>\n",
       "        </tr>\n",
       "        <tr>\n",
       "            <td>BMW         </td> <td>BMW  </td> <td>430i Coupe             </td> <td>2           </td> <td>4        </td> <td>29  </td> <td>2-Wheel Drive, Rear </td>\n",
       "        </tr>\n",
       "        <tr>\n",
       "            <td>BMW         </td> <td>BMW  </td> <td>430i xDrive Coupe      </td> <td>2           </td> <td>4        </td> <td>27  </td> <td>All Wheel Drive     </td>\n",
       "        </tr>\n",
       "    </tbody>\n",
       "</table>\n",
       "<p>... (764 rows omitted)</p>"
      ],
      "text/plain": [
       "Manufacturer | Brand | Model                   | Displacement | Cylinders | MPG  | Wheel\n",
       "BMW          | BMW   | 228i Gran Coupe         | 2            | 4         | 28   | 2-Wheel Drive, Front\n",
       "BMW          | BMW   | 228i xDrive Gran Coupe  | 2            | 4         | 27   | All Wheel Drive\n",
       "BMW          | BMW   | 230i Convertible        | 2            | 4         | 27   | 2-Wheel Drive, Rear\n",
       "BMW          | BMW   | 230i Coupe              | 2            | 4         | 28   | 2-Wheel Drive, Rear\n",
       "BMW          | BMW   | 230i xDrive Convertible | 2            | 4         | 24   | All Wheel Drive\n",
       "BMW          | BMW   | 230i xDrive Coupe       | 2            | 4         | 24   | All Wheel Drive\n",
       "BMW          | BMW   | 330i                    | 2            | 4         | 30   | 2-Wheel Drive, Rear\n",
       "BMW          | BMW   | 330i xDrive             | 2            | 4         | 28   | All Wheel Drive\n",
       "BMW          | BMW   | 430i Coupe              | 2            | 4         | 29   | 2-Wheel Drive, Rear\n",
       "BMW          | BMW   | 430i xDrive Coupe       | 2            | 4         | 27   | All Wheel Drive\n",
       "... (764 rows omitted)"
      ]
     },
     "execution_count": 18,
     "metadata": {},
     "output_type": "execute_result"
    }
   ],
   "source": [
    "cars"
   ]
  },
  {
   "cell_type": "code",
   "execution_count": 21,
   "metadata": {},
   "outputs": [
    {
     "data": {
      "text/html": [
       "<table border=\"1\" class=\"dataframe\">\n",
       "    <thead>\n",
       "        <tr>\n",
       "            <th>Brand</th> <th>Cylinders</th> <th>count</th>\n",
       "        </tr>\n",
       "    </thead>\n",
       "    <tbody>\n",
       "        <tr>\n",
       "            <td>ALFA ROMEO              </td> <td>4        </td> <td>4    </td>\n",
       "        </tr>\n",
       "        <tr>\n",
       "            <td>Acura                   </td> <td>4        </td> <td>9    </td>\n",
       "        </tr>\n",
       "        <tr>\n",
       "            <td>Acura                   </td> <td>6        </td> <td>1    </td>\n",
       "        </tr>\n",
       "        <tr>\n",
       "            <td>Aston Martin Lagonda Ltd</td> <td>8        </td> <td>4    </td>\n",
       "        </tr>\n",
       "        <tr>\n",
       "            <td>Aston Martin Lagonda Ltd</td> <td>12       </td> <td>2    </td>\n",
       "        </tr>\n",
       "        <tr>\n",
       "            <td>Audi                    </td> <td>4        </td> <td>16   </td>\n",
       "        </tr>\n",
       "        <tr>\n",
       "            <td>Audi                    </td> <td>5        </td> <td>1    </td>\n",
       "        </tr>\n",
       "        <tr>\n",
       "            <td>Audi                    </td> <td>6        </td> <td>14   </td>\n",
       "        </tr>\n",
       "        <tr>\n",
       "            <td>Audi                    </td> <td>8        </td> <td>6    </td>\n",
       "        </tr>\n",
       "        <tr>\n",
       "            <td>Audi                    </td> <td>10       </td> <td>4    </td>\n",
       "        </tr>\n",
       "    </tbody>\n",
       "</table>\n",
       "<p>... (83 rows omitted)</p>"
      ],
      "text/plain": [
       "Brand                    | Cylinders | count\n",
       "ALFA ROMEO               | 4         | 4\n",
       "Acura                    | 4         | 9\n",
       "Acura                    | 6         | 1\n",
       "Aston Martin Lagonda Ltd | 8         | 4\n",
       "Aston Martin Lagonda Ltd | 12        | 2\n",
       "Audi                     | 4         | 16\n",
       "Audi                     | 5         | 1\n",
       "Audi                     | 6         | 14\n",
       "Audi                     | 8         | 6\n",
       "Audi                     | 10        | 4\n",
       "... (83 rows omitted)"
      ]
     },
     "execution_count": 21,
     "metadata": {},
     "output_type": "execute_result"
    }
   ],
   "source": [
    "cars.group(['Brand', 'Cylinders']) # Group `cars` by Manufacturer and Brand"
   ]
  },
  {
   "cell_type": "code",
   "execution_count": null,
   "metadata": {},
   "outputs": [],
   "source": [
    "... # Group `cars` by Manufacturer and use np.mean as the collect function"
   ]
  },
  {
   "cell_type": "code",
   "execution_count": null,
   "metadata": {},
   "outputs": [],
   "source": [
    "... # Group `cars` by Manufacturer, Brand, and Displacement"
   ]
  },
  {
   "cell_type": "markdown",
   "metadata": {},
   "source": [
    "## `.pivot`"
   ]
  },
  {
   "cell_type": "markdown",
   "metadata": {},
   "source": [
    "Another useful table method is `tbl.pivot()`, which can help us determine statistics for different combinations of values for two variables."
   ]
  },
  {
   "cell_type": "markdown",
   "metadata": {},
   "source": [
    "For example, what if we wanted to view the mean MPG for each combination of car brand and cylinder number? `.pivot` allows us to do just that!"
   ]
  },
  {
   "cell_type": "code",
   "execution_count": 29,
   "metadata": {},
   "outputs": [],
   "source": [
    "num_tries = 0"
   ]
  },
  {
   "cell_type": "code",
   "execution_count": 34,
   "metadata": {},
   "outputs": [],
   "source": [
    "def draw_triangle():\n",
    "    return 1\n",
    "\n",
    "num_tries = num_tries + 1"
   ]
  },
  {
   "cell_type": "code",
   "execution_count": 33,
   "metadata": {},
   "outputs": [
    {
     "data": {
      "text/plain": [
       "1"
      ]
     },
     "execution_count": 33,
     "metadata": {},
     "output_type": "execute_result"
    }
   ],
   "source": [
    "draw_triangle()"
   ]
  },
  {
   "cell_type": "markdown",
   "metadata": {},
   "source": [
    "`.pivot` can take up to four arguments, the last two of which are optional (but must be used together):\n",
    "1. `columns`: The column in `tbl` to use as the columns in the pivot table\n",
    "2. `rows`: The column in `tbl` to use as the rows in the pivot table\n",
    "3. `values`: The column in `tbl` to aggregate using the `collect` function\n",
    "4. `collect`: A function with which to aggregate the values in the `values` column"
   ]
  },
  {
   "cell_type": "markdown",
   "metadata": {},
   "source": [
    "### Quick Check 2"
   ]
  },
  {
   "cell_type": "markdown",
   "metadata": {},
   "source": [
    "<img src=\"pivot-table.png\" width=\"70%\"/>"
   ]
  },
  {
   "cell_type": "markdown",
   "metadata": {},
   "source": [
    "Fill in the blanks to create the table above, which describes the largest number of cylinders each manufacturer makes for every possible drivetrain (`'Wheel'`)."
   ]
  },
  {
   "cell_type": "code",
   "execution_count": null,
   "metadata": {},
   "outputs": [],
   "source": [
    "cars.pivot(___, ___, ___, ___) # Replace the blanks with your answers"
   ]
  },
  {
   "cell_type": "markdown",
   "metadata": {},
   "source": [
    "## Demo: US R1 Universities"
   ]
  },
  {
   "cell_type": "markdown",
   "metadata": {},
   "source": [
    "For our demo, we will be using a dataset of [R1 universities](https://en.wikipedia.org/wiki/List_of_research_universities_in_the_United_States) in the US."
   ]
  },
  {
   "cell_type": "code",
   "execution_count": null,
   "metadata": {},
   "outputs": [],
   "source": [
    "unis = Table.read_table(\"data/r1_with_students.csv\")\n",
    "unis"
   ]
  },
  {
   "cell_type": "markdown",
   "metadata": {},
   "source": [
    "If we wanted to visualize information from this table, we could try to plot all 96 universities on one bar chart, but that isn't ideal..."
   ]
  },
  {
   "cell_type": "code",
   "execution_count": null,
   "metadata": {},
   "outputs": [],
   "source": [
    "unis.sort('Number_students', descending=True).barh('University', 'Number_students')"
   ]
  },
  {
   "cell_type": "markdown",
   "metadata": {},
   "source": [
    "Instead, let's group by state and find the average enrollment in each state."
   ]
  },
  {
   "cell_type": "code",
   "execution_count": null,
   "metadata": {},
   "outputs": [],
   "source": [
    "unis.group('State', np.mean).sort('Number_students mean', descending=True).barh('State', 'Number_students mean')"
   ]
  },
  {
   "cell_type": "markdown",
   "metadata": {},
   "source": [
    "We can also use a pivot table to help us generate a useful visualization:"
   ]
  },
  {
   "cell_type": "code",
   "execution_count": null,
   "metadata": {},
   "outputs": [],
   "source": [
    "unis_pivot = ... # Create a pivot table for each combination of State and type of school\n",
    "unis_pivot"
   ]
  },
  {
   "cell_type": "code",
   "execution_count": null,
   "metadata": {},
   "outputs": [],
   "source": [
    "unis_pivot.barh('State')"
   ]
  },
  {
   "cell_type": "markdown",
   "metadata": {},
   "source": [
    "Ta-da!"
   ]
  }
 ],
 "metadata": {
  "kernelspec": {
   "display_name": "Python 3 (ipykernel)",
   "language": "python",
   "name": "python3"
  },
  "language_info": {
   "codemirror_mode": {
    "name": "ipython",
    "version": 3
   },
   "file_extension": ".py",
   "mimetype": "text/x-python",
   "name": "python",
   "nbconvert_exporter": "python",
   "pygments_lexer": "ipython3",
   "version": "3.11.9"
  }
 },
 "nbformat": 4,
 "nbformat_minor": 4
}
