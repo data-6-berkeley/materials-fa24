{
 "cells": [
  {
   "cell_type": "markdown",
   "metadata": {},
   "source": [
    "# Lecture 15 – Grouping and Pivoting\n",
    "\n",
    "## Data 6, Summer 2024"
   ]
  },
  {
   "cell_type": "code",
   "execution_count": 1,
   "metadata": {},
   "outputs": [],
   "source": [
    "from datascience import *\n",
    "import numpy as np\n",
    "%matplotlib inline\n",
    "Table.interactive_plots() "
   ]
  },
  {
   "cell_type": "markdown",
   "metadata": {},
   "source": [
    "## Grouping with `.group`"
   ]
  },
  {
   "cell_type": "markdown",
   "metadata": {},
   "source": [
    "The term \"group\" in data science is most commonly associated with data aggregation and disaggregation. When we \"group\" a table in Python, we are able to gain insights about our data at a higher unit of analysis (e.g. at a city or state level, as opposed to the individual level)."
   ]
  },
  {
   "cell_type": "markdown",
   "metadata": {},
   "source": [
    "Returning to the `top_10` dataset from last week (showing the songs on the Spotify Top 10), we can utilize `tbl.group()` to count how many Top 10 songs each artist has."
   ]
  },
  {
   "cell_type": "code",
   "execution_count": 2,
   "metadata": {},
   "outputs": [
    {
     "data": {
      "text/html": [
       "<table border=\"1\" class=\"dataframe\">\n",
       "    <thead>\n",
       "        <tr>\n",
       "            <th>rank</th> <th>artist_names</th> <th>track_name</th> <th>source</th> <th>peak_rank</th> <th>previous_rank</th> <th>days_on_chart</th> <th>streams</th>\n",
       "        </tr>\n",
       "    </thead>\n",
       "    <tbody>\n",
       "        <tr>\n",
       "            <td>1   </td> <td>Kate Bush                   </td> <td>Running Up That Hill                   </td> <td>Rhino                        </td> <td>1        </td> <td>1            </td> <td>41           </td> <td>7208654</td>\n",
       "        </tr>\n",
       "        <tr>\n",
       "            <td>2   </td> <td>Harry Styles                </td> <td>As It Was                              </td> <td>Columbia                     </td> <td>1        </td> <td>2            </td> <td>99           </td> <td>6543793</td>\n",
       "        </tr>\n",
       "        <tr>\n",
       "            <td>3   </td> <td>Joji                        </td> <td>Glimpse of Us                          </td> <td>88rising Music/Warner Records</td> <td>1        </td> <td>3            </td> <td>28           </td> <td>5492997</td>\n",
       "        </tr>\n",
       "        <tr>\n",
       "            <td>4   </td> <td>Bad Bunny, Chencho Corleone </td> <td>Me Porto Bonito                        </td> <td>Rimas Entertainment LLC      </td> <td>2        </td> <td>4            </td> <td>63           </td> <td>5416421</td>\n",
       "        </tr>\n",
       "        <tr>\n",
       "            <td>5   </td> <td>Bizarrap, Quevedo           </td> <td>Quevedo: Bzrp Music Sessions, Vol. 52  </td> <td>DALE PLAY Records            </td> <td>5        </td> <td>-1           </td> <td>1            </td> <td>4676471</td>\n",
       "        </tr>\n",
       "        <tr>\n",
       "            <td>6   </td> <td>Bad Bunny                   </td> <td>Tití Me Preguntó                       </td> <td>Rimas Entertainment LLC      </td> <td>4        </td> <td>5            </td> <td>63           </td> <td>4549682</td>\n",
       "        </tr>\n",
       "        <tr>\n",
       "            <td>7   </td> <td>Bad Bunny, Bomba Estéreo    </td> <td>Ojitos Lindos                          </td> <td>Rimas Entertainment LLC      </td> <td>2        </td> <td>6            </td> <td>63           </td> <td>4144625</td>\n",
       "        </tr>\n",
       "        <tr>\n",
       "            <td>8   </td> <td>Bad Bunny                   </td> <td>Efecto                                 </td> <td>Rimas Entertainment LLC      </td> <td>7        </td> <td>8            </td> <td>63           </td> <td>3722317</td>\n",
       "        </tr>\n",
       "        <tr>\n",
       "            <td>9   </td> <td>Charlie Puth, BTS, Jung Kook</td> <td>Left and Right (Feat. Jung Kook of BTS)</td> <td>Atlantic Records             </td> <td>3        </td> <td>7            </td> <td>14           </td> <td>3715689</td>\n",
       "        </tr>\n",
       "        <tr>\n",
       "            <td>10  </td> <td>Bad Bunny                   </td> <td>Moscow Mule                            </td> <td>Rimas Entertainment LLC      </td> <td>1        </td> <td>9            </td> <td>63           </td> <td>3465003</td>\n",
       "        </tr>\n",
       "    </tbody>\n",
       "</table>"
      ],
      "text/plain": [
       "rank | artist_names                 | track_name                              | source                        | peak_rank | previous_rank | days_on_chart | streams\n",
       "1    | Kate Bush                    | Running Up That Hill                    | Rhino                         | 1         | 1             | 41            | 7208654\n",
       "2    | Harry Styles                 | As It Was                               | Columbia                      | 1         | 2             | 99            | 6543793\n",
       "3    | Joji                         | Glimpse of Us                           | 88rising Music/Warner Records | 1         | 3             | 28            | 5492997\n",
       "4    | Bad Bunny, Chencho Corleone  | Me Porto Bonito                         | Rimas Entertainment LLC       | 2         | 4             | 63            | 5416421\n",
       "5    | Bizarrap, Quevedo            | Quevedo: Bzrp Music Sessions, Vol. 52   | DALE PLAY Records             | 5         | -1            | 1             | 4676471\n",
       "6    | Bad Bunny                    | Tití Me Preguntó                        | Rimas Entertainment LLC       | 4         | 5             | 63            | 4549682\n",
       "7    | Bad Bunny, Bomba Estéreo     | Ojitos Lindos                           | Rimas Entertainment LLC       | 2         | 6             | 63            | 4144625\n",
       "8    | Bad Bunny                    | Efecto                                  | Rimas Entertainment LLC       | 7         | 8             | 63            | 3722317\n",
       "9    | Charlie Puth, BTS, Jung Kook | Left and Right (Feat. Jung Kook of BTS) | Atlantic Records              | 3         | 7             | 14            | 3715689\n",
       "10   | Bad Bunny                    | Moscow Mule                             | Rimas Entertainment LLC       | 1         | 9             | 63            | 3465003"
      ]
     },
     "execution_count": 2,
     "metadata": {},
     "output_type": "execute_result"
    }
   ],
   "source": [
    "top_10 = Table.read_table('data/regional-global-daily-latest.csv').take(np.arange(10))\n",
    "top_10"
   ]
  },
  {
   "cell_type": "markdown",
   "metadata": {},
   "source": [
    "By default `tbl.group(column)` counts the number of occurences of each unique value in `column`."
   ]
  },
  {
   "cell_type": "code",
   "execution_count": 3,
   "metadata": {
    "scrolled": true
   },
   "outputs": [
    {
     "data": {
      "text/html": [
       "<table border=\"1\" class=\"dataframe\">\n",
       "    <thead>\n",
       "        <tr>\n",
       "            <th>artist_names</th> <th>count</th>\n",
       "        </tr>\n",
       "    </thead>\n",
       "    <tbody>\n",
       "        <tr>\n",
       "            <td>Bad Bunny                   </td> <td>3    </td>\n",
       "        </tr>\n",
       "        <tr>\n",
       "            <td>Bad Bunny, Bomba Estéreo    </td> <td>1    </td>\n",
       "        </tr>\n",
       "        <tr>\n",
       "            <td>Bad Bunny, Chencho Corleone </td> <td>1    </td>\n",
       "        </tr>\n",
       "        <tr>\n",
       "            <td>Bizarrap, Quevedo           </td> <td>1    </td>\n",
       "        </tr>\n",
       "        <tr>\n",
       "            <td>Charlie Puth, BTS, Jung Kook</td> <td>1    </td>\n",
       "        </tr>\n",
       "        <tr>\n",
       "            <td>Harry Styles                </td> <td>1    </td>\n",
       "        </tr>\n",
       "        <tr>\n",
       "            <td>Joji                        </td> <td>1    </td>\n",
       "        </tr>\n",
       "        <tr>\n",
       "            <td>Kate Bush                   </td> <td>1    </td>\n",
       "        </tr>\n",
       "    </tbody>\n",
       "</table>"
      ],
      "text/plain": [
       "artist_names                 | count\n",
       "Bad Bunny                    | 3\n",
       "Bad Bunny, Bomba Estéreo     | 1\n",
       "Bad Bunny, Chencho Corleone  | 1\n",
       "Bizarrap, Quevedo            | 1\n",
       "Charlie Puth, BTS, Jung Kook | 1\n",
       "Harry Styles                 | 1\n",
       "Joji                         | 1\n",
       "Kate Bush                    | 1"
      ]
     },
     "execution_count": 3,
     "metadata": {},
     "output_type": "execute_result"
    }
   ],
   "source": [
    "top_10.group('artist_names').sort('count', descending=True)"
   ]
  },
  {
   "cell_type": "markdown",
   "metadata": {},
   "source": [
    "Notice that Bad Bunny's name appears 5 times on the Top 10, but the \"Bad Bunny\" row in the groupped table only has a count of 3. This is because Python looks for an **exact match**. The songs where Bad Bunny appears along with other artists are counted separately."
   ]
  },
  {
   "cell_type": "markdown",
   "metadata": {},
   "source": [
    "### Quick Check 1"
   ]
  },
  {
   "cell_type": "code",
   "execution_count": 4,
   "metadata": {},
   "outputs": [
    {
     "data": {
      "text/html": [
       "<table border=\"1\" class=\"dataframe\">\n",
       "    <thead>\n",
       "        <tr>\n",
       "            <th>rank</th> <th>artist_names</th> <th>track_name</th> <th>source</th> <th>peak_rank</th> <th>previous_rank</th> <th>days_on_chart</th> <th>streams</th>\n",
       "        </tr>\n",
       "    </thead>\n",
       "    <tbody>\n",
       "        <tr>\n",
       "            <td>1   </td> <td>Kate Bush                   </td> <td>Running Up That Hill                   </td> <td>Rhino                        </td> <td>1        </td> <td>1            </td> <td>41           </td> <td>7208654</td>\n",
       "        </tr>\n",
       "        <tr>\n",
       "            <td>2   </td> <td>Harry Styles                </td> <td>As It Was                              </td> <td>Columbia                     </td> <td>1        </td> <td>2            </td> <td>99           </td> <td>6543793</td>\n",
       "        </tr>\n",
       "        <tr>\n",
       "            <td>3   </td> <td>Joji                        </td> <td>Glimpse of Us                          </td> <td>88rising Music/Warner Records</td> <td>1        </td> <td>3            </td> <td>28           </td> <td>5492997</td>\n",
       "        </tr>\n",
       "        <tr>\n",
       "            <td>4   </td> <td>Bad Bunny, Chencho Corleone </td> <td>Me Porto Bonito                        </td> <td>Rimas Entertainment LLC      </td> <td>2        </td> <td>4            </td> <td>63           </td> <td>5416421</td>\n",
       "        </tr>\n",
       "        <tr>\n",
       "            <td>5   </td> <td>Bizarrap, Quevedo           </td> <td>Quevedo: Bzrp Music Sessions, Vol. 52  </td> <td>DALE PLAY Records            </td> <td>5        </td> <td>-1           </td> <td>1            </td> <td>4676471</td>\n",
       "        </tr>\n",
       "        <tr>\n",
       "            <td>6   </td> <td>Bad Bunny                   </td> <td>Tití Me Preguntó                       </td> <td>Rimas Entertainment LLC      </td> <td>4        </td> <td>5            </td> <td>63           </td> <td>4549682</td>\n",
       "        </tr>\n",
       "        <tr>\n",
       "            <td>7   </td> <td>Bad Bunny, Bomba Estéreo    </td> <td>Ojitos Lindos                          </td> <td>Rimas Entertainment LLC      </td> <td>2        </td> <td>6            </td> <td>63           </td> <td>4144625</td>\n",
       "        </tr>\n",
       "        <tr>\n",
       "            <td>8   </td> <td>Bad Bunny                   </td> <td>Efecto                                 </td> <td>Rimas Entertainment LLC      </td> <td>7        </td> <td>8            </td> <td>63           </td> <td>3722317</td>\n",
       "        </tr>\n",
       "        <tr>\n",
       "            <td>9   </td> <td>Charlie Puth, BTS, Jung Kook</td> <td>Left and Right (Feat. Jung Kook of BTS)</td> <td>Atlantic Records             </td> <td>3        </td> <td>7            </td> <td>14           </td> <td>3715689</td>\n",
       "        </tr>\n",
       "        <tr>\n",
       "            <td>10  </td> <td>Bad Bunny                   </td> <td>Moscow Mule                            </td> <td>Rimas Entertainment LLC      </td> <td>1        </td> <td>9            </td> <td>63           </td> <td>3465003</td>\n",
       "        </tr>\n",
       "    </tbody>\n",
       "</table>\n",
       "<p>... (190 rows omitted)</p>"
      ],
      "text/plain": [
       "rank | artist_names                 | track_name                              | source                        | peak_rank | previous_rank | days_on_chart | streams\n",
       "1    | Kate Bush                    | Running Up That Hill                    | Rhino                         | 1         | 1             | 41            | 7208654\n",
       "2    | Harry Styles                 | As It Was                               | Columbia                      | 1         | 2             | 99            | 6543793\n",
       "3    | Joji                         | Glimpse of Us                           | 88rising Music/Warner Records | 1         | 3             | 28            | 5492997\n",
       "4    | Bad Bunny, Chencho Corleone  | Me Porto Bonito                         | Rimas Entertainment LLC       | 2         | 4             | 63            | 5416421\n",
       "5    | Bizarrap, Quevedo            | Quevedo: Bzrp Music Sessions, Vol. 52   | DALE PLAY Records             | 5         | -1            | 1             | 4676471\n",
       "6    | Bad Bunny                    | Tití Me Preguntó                        | Rimas Entertainment LLC       | 4         | 5             | 63            | 4549682\n",
       "7    | Bad Bunny, Bomba Estéreo     | Ojitos Lindos                           | Rimas Entertainment LLC       | 2         | 6             | 63            | 4144625\n",
       "8    | Bad Bunny                    | Efecto                                  | Rimas Entertainment LLC       | 7         | 8             | 63            | 3722317\n",
       "9    | Charlie Puth, BTS, Jung Kook | Left and Right (Feat. Jung Kook of BTS) | Atlantic Records              | 3         | 7             | 14            | 3715689\n",
       "10   | Bad Bunny                    | Moscow Mule                             | Rimas Entertainment LLC       | 1         | 9             | 63            | 3465003\n",
       "... (190 rows omitted)"
      ]
     },
     "execution_count": 4,
     "metadata": {},
     "output_type": "execute_result"
    }
   ],
   "source": [
    "streams = Table.read_table('data/regional-global-daily-latest.csv')\n",
    "streams"
   ]
  },
  {
   "cell_type": "markdown",
   "metadata": {},
   "source": [
    "Using the `streams` table, fill in the blanks to create the “Top 10 Artists” bar chart: The 10 artists with the most songs in the Spotify Daily Top 200 streams table."
   ]
  },
  {
   "cell_type": "code",
   "execution_count": 6,
   "metadata": {},
   "outputs": [
    {
     "data": {
      "text/html": [
       "<table border=\"1\" class=\"dataframe\">\n",
       "    <thead>\n",
       "        <tr>\n",
       "            <th>artist_names</th> <th>count</th>\n",
       "        </tr>\n",
       "    </thead>\n",
       "    <tbody>\n",
       "        <tr>\n",
       "            <td>Bad Bunny      </td> <td>16   </td>\n",
       "        </tr>\n",
       "        <tr>\n",
       "            <td>Harry Styles   </td> <td>8    </td>\n",
       "        </tr>\n",
       "        <tr>\n",
       "            <td>Olivia Rodrigo </td> <td>5    </td>\n",
       "        </tr>\n",
       "        <tr>\n",
       "            <td>The Weeknd     </td> <td>5    </td>\n",
       "        </tr>\n",
       "        <tr>\n",
       "            <td>Ed Sheeran     </td> <td>4    </td>\n",
       "        </tr>\n",
       "        <tr>\n",
       "            <td>Arctic Monkeys </td> <td>3    </td>\n",
       "        </tr>\n",
       "        <tr>\n",
       "            <td>BTS            </td> <td>3    </td>\n",
       "        </tr>\n",
       "        <tr>\n",
       "            <td>Doja Cat       </td> <td>3    </td>\n",
       "        </tr>\n",
       "        <tr>\n",
       "            <td>Eminem         </td> <td>3    </td>\n",
       "        </tr>\n",
       "        <tr>\n",
       "            <td>Imagine Dragons</td> <td>3    </td>\n",
       "        </tr>\n",
       "    </tbody>\n",
       "</table>"
      ],
      "text/plain": [
       "artist_names    | count\n",
       "Bad Bunny       | 16\n",
       "Harry Styles    | 8\n",
       "Olivia Rodrigo  | 5\n",
       "The Weeknd      | 5\n",
       "Ed Sheeran      | 4\n",
       "Arctic Monkeys  | 3\n",
       "BTS             | 3\n",
       "Doja Cat        | 3\n",
       "Eminem          | 3\n",
       "Imagine Dragons | 3"
      ]
     },
     "execution_count": 6,
     "metadata": {},
     "output_type": "execute_result"
    }
   ],
   "source": [
    "top_10_artists = streams.group(\"artist_names\").sort(\"count\", descending=True).take(np.arange(10))\n",
    "top_10_artists"
   ]
  },
  {
   "cell_type": "markdown",
   "metadata": {},
   "source": [
    "## Advanced Grouping"
   ]
  },
  {
   "cell_type": "markdown",
   "metadata": {},
   "source": [
    "For the rest of today's lecture, we will use the `cars` table, which contains specifications for a variety of car models."
   ]
  },
  {
   "cell_type": "code",
   "execution_count": 7,
   "metadata": {},
   "outputs": [
    {
     "data": {
      "text/html": [
       "<table border=\"1\" class=\"dataframe\">\n",
       "    <thead>\n",
       "        <tr>\n",
       "            <th>Manufacturer</th> <th>Brand</th> <th>Model</th> <th>Displacement</th> <th>Cylinders</th> <th>MPG</th> <th>Wheel</th>\n",
       "        </tr>\n",
       "    </thead>\n",
       "    <tbody>\n",
       "        <tr>\n",
       "            <td>BMW         </td> <td>BMW  </td> <td>228i Gran Coupe        </td> <td>2           </td> <td>4        </td> <td>28  </td> <td>2-Wheel Drive, Front</td>\n",
       "        </tr>\n",
       "        <tr>\n",
       "            <td>BMW         </td> <td>BMW  </td> <td>228i xDrive Gran Coupe </td> <td>2           </td> <td>4        </td> <td>27  </td> <td>All Wheel Drive     </td>\n",
       "        </tr>\n",
       "        <tr>\n",
       "            <td>BMW         </td> <td>BMW  </td> <td>230i Convertible       </td> <td>2           </td> <td>4        </td> <td>27  </td> <td>2-Wheel Drive, Rear </td>\n",
       "        </tr>\n",
       "        <tr>\n",
       "            <td>BMW         </td> <td>BMW  </td> <td>230i Coupe             </td> <td>2           </td> <td>4        </td> <td>28  </td> <td>2-Wheel Drive, Rear </td>\n",
       "        </tr>\n",
       "        <tr>\n",
       "            <td>BMW         </td> <td>BMW  </td> <td>230i xDrive Convertible</td> <td>2           </td> <td>4        </td> <td>24  </td> <td>All Wheel Drive     </td>\n",
       "        </tr>\n",
       "        <tr>\n",
       "            <td>BMW         </td> <td>BMW  </td> <td>230i xDrive Coupe      </td> <td>2           </td> <td>4        </td> <td>24  </td> <td>All Wheel Drive     </td>\n",
       "        </tr>\n",
       "        <tr>\n",
       "            <td>BMW         </td> <td>BMW  </td> <td>330i                   </td> <td>2           </td> <td>4        </td> <td>30  </td> <td>2-Wheel Drive, Rear </td>\n",
       "        </tr>\n",
       "        <tr>\n",
       "            <td>BMW         </td> <td>BMW  </td> <td>330i xDrive            </td> <td>2           </td> <td>4        </td> <td>28  </td> <td>All Wheel Drive     </td>\n",
       "        </tr>\n",
       "        <tr>\n",
       "            <td>BMW         </td> <td>BMW  </td> <td>430i Coupe             </td> <td>2           </td> <td>4        </td> <td>29  </td> <td>2-Wheel Drive, Rear </td>\n",
       "        </tr>\n",
       "        <tr>\n",
       "            <td>BMW         </td> <td>BMW  </td> <td>430i xDrive Coupe      </td> <td>2           </td> <td>4        </td> <td>27  </td> <td>All Wheel Drive     </td>\n",
       "        </tr>\n",
       "    </tbody>\n",
       "</table>\n",
       "<p>... (764 rows omitted)</p>"
      ],
      "text/plain": [
       "Manufacturer | Brand | Model                   | Displacement | Cylinders | MPG  | Wheel\n",
       "BMW          | BMW   | 228i Gran Coupe         | 2            | 4         | 28   | 2-Wheel Drive, Front\n",
       "BMW          | BMW   | 228i xDrive Gran Coupe  | 2            | 4         | 27   | All Wheel Drive\n",
       "BMW          | BMW   | 230i Convertible        | 2            | 4         | 27   | 2-Wheel Drive, Rear\n",
       "BMW          | BMW   | 230i Coupe              | 2            | 4         | 28   | 2-Wheel Drive, Rear\n",
       "BMW          | BMW   | 230i xDrive Convertible | 2            | 4         | 24   | All Wheel Drive\n",
       "BMW          | BMW   | 230i xDrive Coupe       | 2            | 4         | 24   | All Wheel Drive\n",
       "BMW          | BMW   | 330i                    | 2            | 4         | 30   | 2-Wheel Drive, Rear\n",
       "BMW          | BMW   | 330i xDrive             | 2            | 4         | 28   | All Wheel Drive\n",
       "BMW          | BMW   | 430i Coupe              | 2            | 4         | 29   | 2-Wheel Drive, Rear\n",
       "BMW          | BMW   | 430i xDrive Coupe       | 2            | 4         | 27   | All Wheel Drive\n",
       "... (764 rows omitted)"
      ]
     },
     "execution_count": 7,
     "metadata": {},
     "output_type": "execute_result"
    }
   ],
   "source": [
    "cars = Table.read_table('data/models-2021.csv')\n",
    "cars"
   ]
  },
  {
   "cell_type": "markdown",
   "metadata": {},
   "source": [
    "A few notes:\n",
    "* `Manufacturer` is who owns the Brand.\n",
    "    * GM owns Buick, Cadillac, Chevrolet, GMC.\n",
    "* `Displacement` is the engine size in liters.\n",
    "* `MPG` is miles per gallon.\n"
   ]
  },
  {
   "cell_type": "markdown",
   "metadata": {},
   "source": [
    "Here we'll take a subset of the rows and columns for illustration."
   ]
  },
  {
   "cell_type": "code",
   "execution_count": 8,
   "metadata": {},
   "outputs": [
    {
     "data": {
      "text/html": [
       "<table border=\"1\" class=\"dataframe\">\n",
       "    <thead>\n",
       "        <tr>\n",
       "            <th>Brand</th> <th>Model</th> <th>Cylinders</th> <th>MPG</th>\n",
       "        </tr>\n",
       "    </thead>\n",
       "    <tbody>\n",
       "        <tr>\n",
       "            <td>Buick    </td> <td>ENCLAVE FWD </td> <td>6        </td> <td>21  </td>\n",
       "        </tr>\n",
       "        <tr>\n",
       "            <td>Cadillac </td> <td>CT4 AWD     </td> <td>4        </td> <td>26  </td>\n",
       "        </tr>\n",
       "        <tr>\n",
       "            <td>Cadillac </td> <td>XT5 AWD     </td> <td>4        </td> <td>23  </td>\n",
       "        </tr>\n",
       "        <tr>\n",
       "            <td>GMC      </td> <td>YUKON XL 4WD</td> <td>6        </td> <td>22  </td>\n",
       "        </tr>\n",
       "        <tr>\n",
       "            <td>Chevrolet</td> <td>CAMARO      </td> <td>4        </td> <td>25  </td>\n",
       "        </tr>\n",
       "        <tr>\n",
       "            <td>Chevrolet</td> <td>COLORADO 2WD</td> <td>4        </td> <td>22  </td>\n",
       "        </tr>\n",
       "        <tr>\n",
       "            <td>Cadillac </td> <td>ESCALADE 2WD</td> <td>6        </td> <td>23  </td>\n",
       "        </tr>\n",
       "        <tr>\n",
       "            <td>Chevrolet</td> <td>EQUINOX AWD </td> <td>4        </td> <td>27  </td>\n",
       "        </tr>\n",
       "        <tr>\n",
       "            <td>Buick    </td> <td>ENCLAVE AWD </td> <td>6        </td> <td>20  </td>\n",
       "        </tr>\n",
       "    </tbody>\n",
       "</table>"
      ],
      "text/plain": [
       "Brand     | Model        | Cylinders | MPG\n",
       "Buick     | ENCLAVE FWD  | 6         | 21\n",
       "Cadillac  | CT4 AWD      | 4         | 26\n",
       "Cadillac  | XT5 AWD      | 4         | 23\n",
       "GMC       | YUKON XL 4WD | 6         | 22\n",
       "Chevrolet | CAMARO       | 4         | 25\n",
       "Chevrolet | COLORADO 2WD | 4         | 22\n",
       "Cadillac  | ESCALADE 2WD | 6         | 23\n",
       "Chevrolet | EQUINOX AWD  | 4         | 27\n",
       "Buick     | ENCLAVE AWD  | 6         | 20"
      ]
     },
     "execution_count": 8,
     "metadata": {},
     "output_type": "execute_result"
    }
   ],
   "source": [
    "gm = (\n",
    "        cars.where('Manufacturer', 'General Motors')\n",
    "            .select('Brand', 'Model', 'Cylinders', 'MPG')\n",
    "            .take([0, 1, 9, 16, 20, 30, 31, 35, -1])\n",
    "            .take([1, 2, 4, 8, 5, 6, 3, 7, 0])\n",
    "    )\n",
    "gm"
   ]
  },
  {
   "cell_type": "markdown",
   "metadata": {},
   "source": [
    "### Default Behavior"
   ]
  },
  {
   "cell_type": "code",
   "execution_count": 9,
   "metadata": {
    "scrolled": true
   },
   "outputs": [
    {
     "data": {
      "text/html": [
       "<table border=\"1\" class=\"dataframe\">\n",
       "    <thead>\n",
       "        <tr>\n",
       "            <th>Brand</th> <th>count</th>\n",
       "        </tr>\n",
       "    </thead>\n",
       "    <tbody>\n",
       "        <tr>\n",
       "            <td>Buick    </td> <td>2    </td>\n",
       "        </tr>\n",
       "        <tr>\n",
       "            <td>Cadillac </td> <td>3    </td>\n",
       "        </tr>\n",
       "        <tr>\n",
       "            <td>Chevrolet</td> <td>3    </td>\n",
       "        </tr>\n",
       "        <tr>\n",
       "            <td>GMC      </td> <td>1    </td>\n",
       "        </tr>\n",
       "    </tbody>\n",
       "</table>"
      ],
      "text/plain": [
       "Brand     | count\n",
       "Buick     | 2\n",
       "Cadillac  | 3\n",
       "Chevrolet | 3\n",
       "GMC       | 1"
      ]
     },
     "execution_count": 9,
     "metadata": {},
     "output_type": "execute_result"
    }
   ],
   "source": [
    "gm.group('Brand')"
   ]
  },
  {
   "cell_type": "code",
   "execution_count": 10,
   "metadata": {},
   "outputs": [
    {
     "data": {
      "text/html": [
       "<table border=\"1\" class=\"dataframe\">\n",
       "    <thead>\n",
       "        <tr>\n",
       "            <th>Cylinders</th> <th>count</th>\n",
       "        </tr>\n",
       "    </thead>\n",
       "    <tbody>\n",
       "        <tr>\n",
       "            <td>4        </td> <td>5    </td>\n",
       "        </tr>\n",
       "        <tr>\n",
       "            <td>6        </td> <td>4    </td>\n",
       "        </tr>\n",
       "    </tbody>\n",
       "</table>"
      ],
      "text/plain": [
       "Cylinders | count\n",
       "4         | 5\n",
       "6         | 4"
      ]
     },
     "execution_count": 10,
     "metadata": {},
     "output_type": "execute_result"
    }
   ],
   "source": [
    "gm.group('Cylinders')"
   ]
  },
  {
   "cell_type": "code",
   "execution_count": 11,
   "metadata": {},
   "outputs": [
    {
     "data": {
      "text/html": [
       "<table border=\"1\" class=\"dataframe\">\n",
       "    <thead>\n",
       "        <tr>\n",
       "            <th>Manufacturer</th> <th>Brand</th> <th>Model</th> <th>Displacement</th> <th>Cylinders</th> <th>MPG</th> <th>Wheel</th>\n",
       "        </tr>\n",
       "    </thead>\n",
       "    <tbody>\n",
       "        <tr>\n",
       "            <td>BMW         </td> <td>BMW  </td> <td>228i Gran Coupe        </td> <td>2           </td> <td>4        </td> <td>28  </td> <td>2-Wheel Drive, Front</td>\n",
       "        </tr>\n",
       "        <tr>\n",
       "            <td>BMW         </td> <td>BMW  </td> <td>228i xDrive Gran Coupe </td> <td>2           </td> <td>4        </td> <td>27  </td> <td>All Wheel Drive     </td>\n",
       "        </tr>\n",
       "        <tr>\n",
       "            <td>BMW         </td> <td>BMW  </td> <td>230i Convertible       </td> <td>2           </td> <td>4        </td> <td>27  </td> <td>2-Wheel Drive, Rear </td>\n",
       "        </tr>\n",
       "        <tr>\n",
       "            <td>BMW         </td> <td>BMW  </td> <td>230i Coupe             </td> <td>2           </td> <td>4        </td> <td>28  </td> <td>2-Wheel Drive, Rear </td>\n",
       "        </tr>\n",
       "        <tr>\n",
       "            <td>BMW         </td> <td>BMW  </td> <td>230i xDrive Convertible</td> <td>2           </td> <td>4        </td> <td>24  </td> <td>All Wheel Drive     </td>\n",
       "        </tr>\n",
       "        <tr>\n",
       "            <td>BMW         </td> <td>BMW  </td> <td>230i xDrive Coupe      </td> <td>2           </td> <td>4        </td> <td>24  </td> <td>All Wheel Drive     </td>\n",
       "        </tr>\n",
       "        <tr>\n",
       "            <td>BMW         </td> <td>BMW  </td> <td>330i                   </td> <td>2           </td> <td>4        </td> <td>30  </td> <td>2-Wheel Drive, Rear </td>\n",
       "        </tr>\n",
       "        <tr>\n",
       "            <td>BMW         </td> <td>BMW  </td> <td>330i xDrive            </td> <td>2           </td> <td>4        </td> <td>28  </td> <td>All Wheel Drive     </td>\n",
       "        </tr>\n",
       "        <tr>\n",
       "            <td>BMW         </td> <td>BMW  </td> <td>430i Coupe             </td> <td>2           </td> <td>4        </td> <td>29  </td> <td>2-Wheel Drive, Rear </td>\n",
       "        </tr>\n",
       "        <tr>\n",
       "            <td>BMW         </td> <td>BMW  </td> <td>430i xDrive Coupe      </td> <td>2           </td> <td>4        </td> <td>27  </td> <td>All Wheel Drive     </td>\n",
       "        </tr>\n",
       "    </tbody>\n",
       "</table>\n",
       "<p>... (764 rows omitted)</p>"
      ],
      "text/plain": [
       "Manufacturer | Brand | Model                   | Displacement | Cylinders | MPG  | Wheel\n",
       "BMW          | BMW   | 228i Gran Coupe         | 2            | 4         | 28   | 2-Wheel Drive, Front\n",
       "BMW          | BMW   | 228i xDrive Gran Coupe  | 2            | 4         | 27   | All Wheel Drive\n",
       "BMW          | BMW   | 230i Convertible        | 2            | 4         | 27   | 2-Wheel Drive, Rear\n",
       "BMW          | BMW   | 230i Coupe              | 2            | 4         | 28   | 2-Wheel Drive, Rear\n",
       "BMW          | BMW   | 230i xDrive Convertible | 2            | 4         | 24   | All Wheel Drive\n",
       "BMW          | BMW   | 230i xDrive Coupe       | 2            | 4         | 24   | All Wheel Drive\n",
       "BMW          | BMW   | 330i                    | 2            | 4         | 30   | 2-Wheel Drive, Rear\n",
       "BMW          | BMW   | 330i xDrive             | 2            | 4         | 28   | All Wheel Drive\n",
       "BMW          | BMW   | 430i Coupe              | 2            | 4         | 29   | 2-Wheel Drive, Rear\n",
       "BMW          | BMW   | 430i xDrive Coupe       | 2            | 4         | 27   | All Wheel Drive\n",
       "... (764 rows omitted)"
      ]
     },
     "execution_count": 11,
     "metadata": {},
     "output_type": "execute_result"
    }
   ],
   "source": [
    "cars"
   ]
  },
  {
   "cell_type": "code",
   "execution_count": 12,
   "metadata": {},
   "outputs": [
    {
     "data": {
      "text/html": [
       "<table border=\"1\" class=\"dataframe\">\n",
       "    <thead>\n",
       "        <tr>\n",
       "            <th>Brand</th> <th>count</th>\n",
       "        </tr>\n",
       "    </thead>\n",
       "    <tbody>\n",
       "        <tr>\n",
       "            <td>ALFA ROMEO              </td> <td>4    </td>\n",
       "        </tr>\n",
       "        <tr>\n",
       "            <td>Acura                   </td> <td>10   </td>\n",
       "        </tr>\n",
       "        <tr>\n",
       "            <td>Aston Martin Lagonda Ltd</td> <td>6    </td>\n",
       "        </tr>\n",
       "        <tr>\n",
       "            <td>Audi                    </td> <td>41   </td>\n",
       "        </tr>\n",
       "        <tr>\n",
       "            <td>BMW                     </td> <td>76   </td>\n",
       "        </tr>\n",
       "        <tr>\n",
       "            <td>Bentley                 </td> <td>4    </td>\n",
       "        </tr>\n",
       "        <tr>\n",
       "            <td>Bugatti                 </td> <td>2    </td>\n",
       "        </tr>\n",
       "        <tr>\n",
       "            <td>Buick                   </td> <td>8    </td>\n",
       "        </tr>\n",
       "        <tr>\n",
       "            <td>Cadillac                </td> <td>20   </td>\n",
       "        </tr>\n",
       "        <tr>\n",
       "            <td>Chevrolet               </td> <td>27   </td>\n",
       "        </tr>\n",
       "    </tbody>\n",
       "</table>\n",
       "<p>... (31 rows omitted)</p>"
      ],
      "text/plain": [
       "Brand                    | count\n",
       "ALFA ROMEO               | 4\n",
       "Acura                    | 10\n",
       "Aston Martin Lagonda Ltd | 6\n",
       "Audi                     | 41\n",
       "BMW                      | 76\n",
       "Bentley                  | 4\n",
       "Bugatti                  | 2\n",
       "Buick                    | 8\n",
       "Cadillac                 | 20\n",
       "Chevrolet                | 27\n",
       "... (31 rows omitted)"
      ]
     },
     "execution_count": 12,
     "metadata": {},
     "output_type": "execute_result"
    }
   ],
   "source": [
    "cars.group('Brand')"
   ]
  },
  {
   "cell_type": "code",
   "execution_count": 13,
   "metadata": {},
   "outputs": [
    {
     "data": {
      "text/html": [
       "<table border=\"1\" class=\"dataframe\">\n",
       "    <thead>\n",
       "        <tr>\n",
       "            <th>Manufacturer</th> <th>Brand</th> <th>Model</th> <th>Displacement</th> <th>Cylinders</th> <th>MPG</th> <th>Wheel</th>\n",
       "        </tr>\n",
       "    </thead>\n",
       "    <tbody>\n",
       "        <tr>\n",
       "            <td>Honda              </td> <td>Honda                   </td> <td>INSIGHT TOURING         </td> <td>1.5         </td> <td>4        </td> <td>48  </td> <td>2-Wheel Drive, Front   </td>\n",
       "        </tr>\n",
       "        <tr>\n",
       "            <td>Volkswagen Group of</td> <td>Audi                    </td> <td>A5 Sportback quattro    </td> <td>2           </td> <td>4        </td> <td>28  </td> <td>All Wheel Drive        </td>\n",
       "        </tr>\n",
       "        <tr>\n",
       "            <td>Toyota             </td> <td>TOYOTA                  </td> <td>COROLLA APEX            </td> <td>2           </td> <td>4        </td> <td>34  </td> <td>2-Wheel Drive, Front   </td>\n",
       "        </tr>\n",
       "        <tr>\n",
       "            <td>Ford Motor Company </td> <td>Ford                    </td> <td>EXPEDITION 4WD          </td> <td>3.5         </td> <td>6        </td> <td>19  </td> <td>Part-time 4-Wheel Drive</td>\n",
       "        </tr>\n",
       "        <tr>\n",
       "            <td>BMW                </td> <td>Mini                    </td> <td>COOPER S COUNTRYMAN ALL4</td> <td>2           </td> <td>4        </td> <td>26  </td> <td>All Wheel Drive        </td>\n",
       "        </tr>\n",
       "        <tr>\n",
       "            <td>General Motors     </td> <td>Chevrolet               </td> <td>COLORADO 2WD            </td> <td>2.5         </td> <td>4        </td> <td>22  </td> <td>2-Wheel Drive, Rear    </td>\n",
       "        </tr>\n",
       "        <tr>\n",
       "            <td>Subaru             </td> <td>Subaru                  </td> <td>IMPREZA 5-Door          </td> <td>2           </td> <td>4        </td> <td>31  </td> <td>All Wheel Drive        </td>\n",
       "        </tr>\n",
       "        <tr>\n",
       "            <td>aston martin       </td> <td>Aston Martin Lagonda Ltd</td> <td>DBX V8                  </td> <td>4           </td> <td>8        </td> <td>15  </td> <td>4-Wheel Drive          </td>\n",
       "        </tr>\n",
       "        <tr>\n",
       "            <td>Mercedes-Benz      </td> <td>Mercedes-Benz           </td> <td>GLC 300 4MATIC (Coupe)  </td> <td>2           </td> <td>4        </td> <td>24  </td> <td>4-Wheel Drive          </td>\n",
       "        </tr>\n",
       "        <tr>\n",
       "            <td>Volkswagen Group of</td> <td>Audi                    </td> <td>A5 quattro              </td> <td>2           </td> <td>4        </td> <td>27  </td> <td>All Wheel Drive        </td>\n",
       "        </tr>\n",
       "    </tbody>\n",
       "</table>\n",
       "<p>... (764 rows omitted)</p>"
      ],
      "text/plain": [
       "Manufacturer        | Brand                    | Model                    | Displacement | Cylinders | MPG  | Wheel\n",
       "Honda               | Honda                    | INSIGHT TOURING          | 1.5          | 4         | 48   | 2-Wheel Drive, Front\n",
       "Volkswagen Group of | Audi                     | A5 Sportback quattro     | 2            | 4         | 28   | All Wheel Drive\n",
       "Toyota              | TOYOTA                   | COROLLA APEX             | 2            | 4         | 34   | 2-Wheel Drive, Front\n",
       "Ford Motor Company  | Ford                     | EXPEDITION 4WD           | 3.5          | 6         | 19   | Part-time 4-Wheel Drive\n",
       "BMW                 | Mini                     | COOPER S COUNTRYMAN ALL4 | 2            | 4         | 26   | All Wheel Drive\n",
       "General Motors      | Chevrolet                | COLORADO 2WD             | 2.5          | 4         | 22   | 2-Wheel Drive, Rear\n",
       "Subaru              | Subaru                   | IMPREZA 5-Door           | 2            | 4         | 31   | All Wheel Drive\n",
       "aston martin        | Aston Martin Lagonda Ltd | DBX V8                   | 4            | 8         | 15   | 4-Wheel Drive\n",
       "Mercedes-Benz       | Mercedes-Benz            | GLC 300 4MATIC (Coupe)   | 2            | 4         | 24   | 4-Wheel Drive\n",
       "Volkswagen Group of | Audi                     | A5 quattro               | 2            | 4         | 27   | All Wheel Drive\n",
       "... (764 rows omitted)"
      ]
     },
     "execution_count": 13,
     "metadata": {},
     "output_type": "execute_result"
    }
   ],
   "source": [
    "# shuffles the rows in the table; returns a new table\n",
    "cars.shuffle()"
   ]
  },
  {
   "cell_type": "code",
   "execution_count": 14,
   "metadata": {},
   "outputs": [
    {
     "data": {
      "text/html": [
       "<table border=\"1\" class=\"dataframe\">\n",
       "    <thead>\n",
       "        <tr>\n",
       "            <th>Brand</th> <th>count</th>\n",
       "        </tr>\n",
       "    </thead>\n",
       "    <tbody>\n",
       "        <tr>\n",
       "            <td>ALFA ROMEO              </td> <td>4    </td>\n",
       "        </tr>\n",
       "        <tr>\n",
       "            <td>Acura                   </td> <td>10   </td>\n",
       "        </tr>\n",
       "        <tr>\n",
       "            <td>Aston Martin Lagonda Ltd</td> <td>6    </td>\n",
       "        </tr>\n",
       "        <tr>\n",
       "            <td>Audi                    </td> <td>41   </td>\n",
       "        </tr>\n",
       "        <tr>\n",
       "            <td>BMW                     </td> <td>76   </td>\n",
       "        </tr>\n",
       "        <tr>\n",
       "            <td>Bentley                 </td> <td>4    </td>\n",
       "        </tr>\n",
       "        <tr>\n",
       "            <td>Bugatti                 </td> <td>2    </td>\n",
       "        </tr>\n",
       "        <tr>\n",
       "            <td>Buick                   </td> <td>8    </td>\n",
       "        </tr>\n",
       "        <tr>\n",
       "            <td>Cadillac                </td> <td>20   </td>\n",
       "        </tr>\n",
       "        <tr>\n",
       "            <td>Chevrolet               </td> <td>27   </td>\n",
       "        </tr>\n",
       "    </tbody>\n",
       "</table>\n",
       "<p>... (31 rows omitted)</p>"
      ],
      "text/plain": [
       "Brand                    | count\n",
       "ALFA ROMEO               | 4\n",
       "Acura                    | 10\n",
       "Aston Martin Lagonda Ltd | 6\n",
       "Audi                     | 41\n",
       "BMW                      | 76\n",
       "Bentley                  | 4\n",
       "Bugatti                  | 2\n",
       "Buick                    | 8\n",
       "Cadillac                 | 20\n",
       "Chevrolet                | 27\n",
       "... (31 rows omitted)"
      ]
     },
     "execution_count": 14,
     "metadata": {},
     "output_type": "execute_result"
    }
   ],
   "source": [
    "cars.group('Brand')"
   ]
  },
  {
   "cell_type": "markdown",
   "metadata": {},
   "source": [
    "Note that it doesn't matter what order the rows are originally in. The resulting table will be sorted alphabetically."
   ]
  },
  {
   "cell_type": "markdown",
   "metadata": {},
   "source": [
    "### Specifying a `collect` function"
   ]
  },
  {
   "cell_type": "markdown",
   "metadata": {},
   "source": [
    "We can also use `.group` to learn other aggregate statistics about cateogories. We do this by specifying a second argument: `collect`. The `collect` argument must be a function (e.g. `len`, `min` `np.mean`, etc)."
   ]
  },
  {
   "cell_type": "code",
   "execution_count": 15,
   "metadata": {},
   "outputs": [
    {
     "data": {
      "text/html": [
       "<table border=\"1\" class=\"dataframe\">\n",
       "    <thead>\n",
       "        <tr>\n",
       "            <th>Brand</th> <th>Model mean</th> <th>Cylinders mean</th> <th>MPG mean</th>\n",
       "        </tr>\n",
       "    </thead>\n",
       "    <tbody>\n",
       "        <tr>\n",
       "            <td>Buick    </td> <td>          </td> <td>6             </td> <td>20.5    </td>\n",
       "        </tr>\n",
       "        <tr>\n",
       "            <td>Cadillac </td> <td>          </td> <td>4.66667       </td> <td>24      </td>\n",
       "        </tr>\n",
       "        <tr>\n",
       "            <td>Chevrolet</td> <td>          </td> <td>4             </td> <td>24.6667 </td>\n",
       "        </tr>\n",
       "        <tr>\n",
       "            <td>GMC      </td> <td>          </td> <td>6             </td> <td>22      </td>\n",
       "        </tr>\n",
       "    </tbody>\n",
       "</table>"
      ],
      "text/plain": [
       "Brand     | Model mean | Cylinders mean | MPG mean\n",
       "Buick     |            | 6              | 20.5\n",
       "Cadillac  |            | 4.66667        | 24\n",
       "Chevrolet |            | 4              | 24.6667\n",
       "GMC       |            | 6              | 22"
      ]
     },
     "execution_count": 15,
     "metadata": {},
     "output_type": "execute_result"
    }
   ],
   "source": [
    "gm.group('Brand', np.mean)"
   ]
  },
  {
   "cell_type": "markdown",
   "metadata": {},
   "source": [
    "How does this work under the hood?"
   ]
  },
  {
   "cell_type": "code",
   "execution_count": 16,
   "metadata": {},
   "outputs": [
    {
     "data": {
      "text/html": [
       "<table border=\"1\" class=\"dataframe\">\n",
       "    <thead>\n",
       "        <tr>\n",
       "            <th>Brand</th> <th>Model</th> <th>Cylinders</th> <th>MPG</th>\n",
       "        </tr>\n",
       "    </thead>\n",
       "    <tbody>\n",
       "        <tr>\n",
       "            <td>Buick</td> <td>ENCLAVE FWD</td> <td>6        </td> <td>21  </td>\n",
       "        </tr>\n",
       "        <tr>\n",
       "            <td>Buick</td> <td>ENCLAVE AWD</td> <td>6        </td> <td>20  </td>\n",
       "        </tr>\n",
       "    </tbody>\n",
       "</table>"
      ],
      "text/plain": [
       "Brand | Model       | Cylinders | MPG\n",
       "Buick | ENCLAVE FWD | 6         | 21\n",
       "Buick | ENCLAVE AWD | 6         | 20"
      ]
     },
     "execution_count": 16,
     "metadata": {},
     "output_type": "execute_result"
    }
   ],
   "source": [
    "gm.where('Brand', 'Buick')"
   ]
  },
  {
   "cell_type": "code",
   "execution_count": 17,
   "metadata": {},
   "outputs": [
    {
     "name": "stdout",
     "output_type": "stream",
     "text": [
      "mean of Cylinders:  6.0\n",
      "mean of MPG:  20.5\n"
     ]
    }
   ],
   "source": [
    "print('mean of Cylinders: ', gm.where('Brand', 'Buick').column('Cylinders').mean())\n",
    "print('mean of MPG: ', gm.where('Brand', 'Buick').column('MPG').mean())"
   ]
  },
  {
   "cell_type": "code",
   "execution_count": 18,
   "metadata": {
    "scrolled": true
   },
   "outputs": [
    {
     "data": {
      "text/html": [
       "<table border=\"1\" class=\"dataframe\">\n",
       "    <thead>\n",
       "        <tr>\n",
       "            <th>Brand</th> <th>Model</th> <th>Cylinders</th> <th>MPG</th>\n",
       "        </tr>\n",
       "    </thead>\n",
       "    <tbody>\n",
       "        <tr>\n",
       "            <td>Cadillac</td> <td>CT4 AWD     </td> <td>4        </td> <td>26  </td>\n",
       "        </tr>\n",
       "        <tr>\n",
       "            <td>Cadillac</td> <td>XT5 AWD     </td> <td>4        </td> <td>23  </td>\n",
       "        </tr>\n",
       "        <tr>\n",
       "            <td>Cadillac</td> <td>ESCALADE 2WD</td> <td>6        </td> <td>23  </td>\n",
       "        </tr>\n",
       "    </tbody>\n",
       "</table>"
      ],
      "text/plain": [
       "Brand    | Model        | Cylinders | MPG\n",
       "Cadillac | CT4 AWD      | 4         | 26\n",
       "Cadillac | XT5 AWD      | 4         | 23\n",
       "Cadillac | ESCALADE 2WD | 6         | 23"
      ]
     },
     "execution_count": 18,
     "metadata": {},
     "output_type": "execute_result"
    }
   ],
   "source": [
    "gm.where('Brand', 'Cadillac')"
   ]
  },
  {
   "cell_type": "code",
   "execution_count": 19,
   "metadata": {
    "scrolled": true
   },
   "outputs": [
    {
     "name": "stdout",
     "output_type": "stream",
     "text": [
      "mean of Cylinders:  4.66666666667\n",
      "mean of MPG:  24.0\n"
     ]
    }
   ],
   "source": [
    "print('mean of Cylinders: ', gm.where('Brand', 'Cadillac').column('Cylinders').mean())\n",
    "print('mean of MPG: ', gm.where('Brand', 'Cadillac').column('MPG').mean())"
   ]
  },
  {
   "cell_type": "code",
   "execution_count": 20,
   "metadata": {},
   "outputs": [
    {
     "data": {
      "text/html": [
       "<table border=\"1\" class=\"dataframe\">\n",
       "    <thead>\n",
       "        <tr>\n",
       "            <th>Brand</th> <th>Model</th> <th>Cylinders</th> <th>MPG</th>\n",
       "        </tr>\n",
       "    </thead>\n",
       "    <tbody>\n",
       "        <tr>\n",
       "            <td>Chevrolet</td> <td>CAMARO      </td> <td>4        </td> <td>25  </td>\n",
       "        </tr>\n",
       "        <tr>\n",
       "            <td>Chevrolet</td> <td>COLORADO 2WD</td> <td>4        </td> <td>22  </td>\n",
       "        </tr>\n",
       "        <tr>\n",
       "            <td>Chevrolet</td> <td>EQUINOX AWD </td> <td>4        </td> <td>27  </td>\n",
       "        </tr>\n",
       "    </tbody>\n",
       "</table>"
      ],
      "text/plain": [
       "Brand     | Model        | Cylinders | MPG\n",
       "Chevrolet | CAMARO       | 4         | 25\n",
       "Chevrolet | COLORADO 2WD | 4         | 22\n",
       "Chevrolet | EQUINOX AWD  | 4         | 27"
      ]
     },
     "execution_count": 20,
     "metadata": {},
     "output_type": "execute_result"
    }
   ],
   "source": [
    "gm.where('Brand', 'Chevrolet')"
   ]
  },
  {
   "cell_type": "code",
   "execution_count": 21,
   "metadata": {
    "scrolled": true
   },
   "outputs": [
    {
     "name": "stdout",
     "output_type": "stream",
     "text": [
      "mean of Cylinders:  4.0\n",
      "mean of MPG:  24.6666666667\n"
     ]
    }
   ],
   "source": [
    "print('mean of Cylinders: ', gm.where('Brand', 'Chevrolet').column('Cylinders').mean())\n",
    "print('mean of MPG: ', gm.where('Brand', 'Chevrolet').column('MPG').mean())"
   ]
  },
  {
   "cell_type": "code",
   "execution_count": 22,
   "metadata": {},
   "outputs": [
    {
     "data": {
      "text/html": [
       "<table border=\"1\" class=\"dataframe\">\n",
       "    <thead>\n",
       "        <tr>\n",
       "            <th>Brand</th> <th>Model</th> <th>Cylinders</th> <th>MPG</th>\n",
       "        </tr>\n",
       "    </thead>\n",
       "    <tbody>\n",
       "        <tr>\n",
       "            <td>GMC  </td> <td>YUKON XL 4WD</td> <td>6        </td> <td>22  </td>\n",
       "        </tr>\n",
       "    </tbody>\n",
       "</table>"
      ],
      "text/plain": [
       "Brand | Model        | Cylinders | MPG\n",
       "GMC   | YUKON XL 4WD | 6         | 22"
      ]
     },
     "execution_count": 22,
     "metadata": {},
     "output_type": "execute_result"
    }
   ],
   "source": [
    "gm.where('Brand', 'GMC')"
   ]
  },
  {
   "cell_type": "code",
   "execution_count": 23,
   "metadata": {
    "scrolled": true
   },
   "outputs": [
    {
     "name": "stdout",
     "output_type": "stream",
     "text": [
      "mean of Cylinders:  6.0\n",
      "mean of MPG:  22.0\n"
     ]
    }
   ],
   "source": [
    "print('mean of Cylinders: ', gm.where('Brand', 'GMC').column('Cylinders').mean())\n",
    "print('mean of MPG: ', gm.where('Brand', 'GMC').column('MPG').mean())"
   ]
  },
  {
   "cell_type": "markdown",
   "metadata": {},
   "source": [
    "If you want a more concise way of doing the above:"
   ]
  },
  {
   "cell_type": "code",
   "execution_count": 25,
   "metadata": {},
   "outputs": [
    {
     "name": "stdout",
     "output_type": "stream",
     "text": [
      "Buick\n",
      "mean of Cylinders:  6.0\n",
      "mean of MPG:  20.5\n",
      "\n",
      "\n",
      "Cadillac\n",
      "mean of Cylinders:  4.66666666667\n",
      "mean of MPG:  24.0\n",
      "\n",
      "\n",
      "Chevrolet\n",
      "mean of Cylinders:  4.0\n",
      "mean of MPG:  24.6666666667\n",
      "\n",
      "\n",
      "GMC\n",
      "mean of Cylinders:  6.0\n",
      "mean of MPG:  22.0\n",
      "\n",
      "\n"
     ]
    }
   ],
   "source": [
    "# Just run this cell — you'll learn how to write for loops next week\n",
    "for brand in np.unique(gm.column('Brand')):\n",
    "    brand_only = gm.where('Brand', brand)\n",
    "    print(brand)\n",
    "    print('mean of Cylinders: ', brand_only.column('Cylinders').mean())\n",
    "    print('mean of MPG: ', brand_only.column('MPG').mean())\n",
    "    print('\\n')"
   ]
  },
  {
   "cell_type": "markdown",
   "metadata": {},
   "source": [
    "What if we use other `collect` functions?"
   ]
  },
  {
   "cell_type": "code",
   "execution_count": 26,
   "metadata": {},
   "outputs": [
    {
     "data": {
      "text/html": [
       "<table border=\"1\" class=\"dataframe\">\n",
       "    <thead>\n",
       "        <tr>\n",
       "            <th>Brand</th> <th>Model</th> <th>Cylinders</th> <th>MPG</th>\n",
       "        </tr>\n",
       "    </thead>\n",
       "    <tbody>\n",
       "        <tr>\n",
       "            <td>Buick    </td> <td>ENCLAVE FWD </td> <td>6        </td> <td>21  </td>\n",
       "        </tr>\n",
       "        <tr>\n",
       "            <td>Cadillac </td> <td>CT4 AWD     </td> <td>4        </td> <td>26  </td>\n",
       "        </tr>\n",
       "        <tr>\n",
       "            <td>Cadillac </td> <td>XT5 AWD     </td> <td>4        </td> <td>23  </td>\n",
       "        </tr>\n",
       "        <tr>\n",
       "            <td>GMC      </td> <td>YUKON XL 4WD</td> <td>6        </td> <td>22  </td>\n",
       "        </tr>\n",
       "        <tr>\n",
       "            <td>Chevrolet</td> <td>CAMARO      </td> <td>4        </td> <td>25  </td>\n",
       "        </tr>\n",
       "        <tr>\n",
       "            <td>Chevrolet</td> <td>COLORADO 2WD</td> <td>4        </td> <td>22  </td>\n",
       "        </tr>\n",
       "        <tr>\n",
       "            <td>Cadillac </td> <td>ESCALADE 2WD</td> <td>6        </td> <td>23  </td>\n",
       "        </tr>\n",
       "        <tr>\n",
       "            <td>Chevrolet</td> <td>EQUINOX AWD </td> <td>4        </td> <td>27  </td>\n",
       "        </tr>\n",
       "        <tr>\n",
       "            <td>Buick    </td> <td>ENCLAVE AWD </td> <td>6        </td> <td>20  </td>\n",
       "        </tr>\n",
       "    </tbody>\n",
       "</table>"
      ],
      "text/plain": [
       "Brand     | Model        | Cylinders | MPG\n",
       "Buick     | ENCLAVE FWD  | 6         | 21\n",
       "Cadillac  | CT4 AWD      | 4         | 26\n",
       "Cadillac  | XT5 AWD      | 4         | 23\n",
       "GMC       | YUKON XL 4WD | 6         | 22\n",
       "Chevrolet | CAMARO       | 4         | 25\n",
       "Chevrolet | COLORADO 2WD | 4         | 22\n",
       "Cadillac  | ESCALADE 2WD | 6         | 23\n",
       "Chevrolet | EQUINOX AWD  | 4         | 27\n",
       "Buick     | ENCLAVE AWD  | 6         | 20"
      ]
     },
     "execution_count": 26,
     "metadata": {},
     "output_type": "execute_result"
    }
   ],
   "source": [
    "gm"
   ]
  },
  {
   "cell_type": "code",
   "execution_count": 27,
   "metadata": {},
   "outputs": [
    {
     "data": {
      "text/html": [
       "<table border=\"1\" class=\"dataframe\">\n",
       "    <thead>\n",
       "        <tr>\n",
       "            <th>Brand</th> <th>Model sum</th> <th>Cylinders sum</th> <th>MPG sum</th>\n",
       "        </tr>\n",
       "    </thead>\n",
       "    <tbody>\n",
       "        <tr>\n",
       "            <td>Buick    </td> <td>         </td> <td>12           </td> <td>41     </td>\n",
       "        </tr>\n",
       "        <tr>\n",
       "            <td>Cadillac </td> <td>         </td> <td>14           </td> <td>72     </td>\n",
       "        </tr>\n",
       "        <tr>\n",
       "            <td>Chevrolet</td> <td>         </td> <td>12           </td> <td>74     </td>\n",
       "        </tr>\n",
       "        <tr>\n",
       "            <td>GMC      </td> <td>         </td> <td>6            </td> <td>22     </td>\n",
       "        </tr>\n",
       "    </tbody>\n",
       "</table>"
      ],
      "text/plain": [
       "Brand     | Model sum | Cylinders sum | MPG sum\n",
       "Buick     |           | 12            | 41\n",
       "Cadillac  |           | 14            | 72\n",
       "Chevrolet |           | 12            | 74\n",
       "GMC       |           | 6             | 22"
      ]
     },
     "execution_count": 27,
     "metadata": {},
     "output_type": "execute_result"
    }
   ],
   "source": [
    "gm.group('Brand', sum)"
   ]
  },
  {
   "cell_type": "code",
   "execution_count": 28,
   "metadata": {},
   "outputs": [
    {
     "data": {
      "text/html": [
       "<table border=\"1\" class=\"dataframe\">\n",
       "    <thead>\n",
       "        <tr>\n",
       "            <th>Brand</th> <th>Model list</th> <th>Cylinders list</th> <th>MPG list</th>\n",
       "        </tr>\n",
       "    </thead>\n",
       "    <tbody>\n",
       "        <tr>\n",
       "            <td>Buick    </td> <td>['ENCLAVE FWD', 'ENCLAVE AWD']           </td> <td>[6, 6]        </td> <td>[21, 20]    </td>\n",
       "        </tr>\n",
       "        <tr>\n",
       "            <td>Cadillac </td> <td>['CT4 AWD', 'XT5 AWD', 'ESCALADE 2WD']   </td> <td>[4, 4, 6]     </td> <td>[26, 23, 23]</td>\n",
       "        </tr>\n",
       "        <tr>\n",
       "            <td>Chevrolet</td> <td>['CAMARO', 'COLORADO 2WD', 'EQUINOX AWD']</td> <td>[4, 4, 4]     </td> <td>[25, 22, 27]</td>\n",
       "        </tr>\n",
       "        <tr>\n",
       "            <td>GMC      </td> <td>['YUKON XL 4WD']                         </td> <td>[6]           </td> <td>[22]        </td>\n",
       "        </tr>\n",
       "    </tbody>\n",
       "</table>"
      ],
      "text/plain": [
       "Brand     | Model list                                | Cylinders list | MPG list\n",
       "Buick     | ['ENCLAVE FWD', 'ENCLAVE AWD']            | [6, 6]         | [21, 20]\n",
       "Cadillac  | ['CT4 AWD', 'XT5 AWD', 'ESCALADE 2WD']    | [4, 4, 6]      | [26, 23, 23]\n",
       "Chevrolet | ['CAMARO', 'COLORADO 2WD', 'EQUINOX AWD'] | [4, 4, 4]      | [25, 22, 27]\n",
       "GMC       | ['YUKON XL 4WD']                          | [6]            | [22]"
      ]
     },
     "execution_count": 28,
     "metadata": {},
     "output_type": "execute_result"
    }
   ],
   "source": [
    "gm.group('Brand', list)"
   ]
  },
  {
   "cell_type": "code",
   "execution_count": 29,
   "metadata": {
    "scrolled": true
   },
   "outputs": [
    {
     "data": {
      "text/html": [
       "<table border=\"1\" class=\"dataframe\">\n",
       "    <thead>\n",
       "        <tr>\n",
       "            <th>Brand</th> <th>Model len</th> <th>Cylinders len</th> <th>MPG len</th>\n",
       "        </tr>\n",
       "    </thead>\n",
       "    <tbody>\n",
       "        <tr>\n",
       "            <td>Buick    </td> <td>2        </td> <td>2            </td> <td>2      </td>\n",
       "        </tr>\n",
       "        <tr>\n",
       "            <td>Cadillac </td> <td>3        </td> <td>3            </td> <td>3      </td>\n",
       "        </tr>\n",
       "        <tr>\n",
       "            <td>Chevrolet</td> <td>3        </td> <td>3            </td> <td>3      </td>\n",
       "        </tr>\n",
       "        <tr>\n",
       "            <td>GMC      </td> <td>1        </td> <td>1            </td> <td>1      </td>\n",
       "        </tr>\n",
       "    </tbody>\n",
       "</table>"
      ],
      "text/plain": [
       "Brand     | Model len | Cylinders len | MPG len\n",
       "Buick     | 2         | 2             | 2\n",
       "Cadillac  | 3         | 3             | 3\n",
       "Chevrolet | 3         | 3             | 3\n",
       "GMC       | 1         | 1             | 1"
      ]
     },
     "execution_count": 29,
     "metadata": {},
     "output_type": "execute_result"
    }
   ],
   "source": [
    "gm.group('Brand', len)"
   ]
  },
  {
   "cell_type": "code",
   "execution_count": 30,
   "metadata": {
    "scrolled": true
   },
   "outputs": [
    {
     "data": {
      "text/html": [
       "<table border=\"1\" class=\"dataframe\">\n",
       "    <thead>\n",
       "        <tr>\n",
       "            <th>Brand</th> <th>Model max</th> <th>Cylinders max</th> <th>MPG max</th>\n",
       "        </tr>\n",
       "    </thead>\n",
       "    <tbody>\n",
       "        <tr>\n",
       "            <td>Buick    </td> <td>ENCLAVE FWD </td> <td>6            </td> <td>21     </td>\n",
       "        </tr>\n",
       "        <tr>\n",
       "            <td>Cadillac </td> <td>XT5 AWD     </td> <td>6            </td> <td>26     </td>\n",
       "        </tr>\n",
       "        <tr>\n",
       "            <td>Chevrolet</td> <td>EQUINOX AWD </td> <td>4            </td> <td>27     </td>\n",
       "        </tr>\n",
       "        <tr>\n",
       "            <td>GMC      </td> <td>YUKON XL 4WD</td> <td>6            </td> <td>22     </td>\n",
       "        </tr>\n",
       "    </tbody>\n",
       "</table>"
      ],
      "text/plain": [
       "Brand     | Model max    | Cylinders max | MPG max\n",
       "Buick     | ENCLAVE FWD  | 6             | 21\n",
       "Cadillac  | XT5 AWD      | 6             | 26\n",
       "Chevrolet | EQUINOX AWD  | 4             | 27\n",
       "GMC       | YUKON XL 4WD | 6             | 22"
      ]
     },
     "execution_count": 30,
     "metadata": {},
     "output_type": "execute_result"
    }
   ],
   "source": [
    "gm.group('Brand', max)"
   ]
  },
  {
   "cell_type": "markdown",
   "metadata": {},
   "source": [
    "### Grouping by Multiple Columns"
   ]
  },
  {
   "cell_type": "markdown",
   "metadata": {},
   "source": [
    "We can also group by unique combinations of multiple variables. Passing in an array of column names as the first argument in `.group` will create a row for each unique combination of column values in the original table."
   ]
  },
  {
   "cell_type": "code",
   "execution_count": 31,
   "metadata": {},
   "outputs": [
    {
     "data": {
      "text/html": [
       "<table border=\"1\" class=\"dataframe\">\n",
       "    <thead>\n",
       "        <tr>\n",
       "            <th>Manufacturer</th> <th>Brand</th> <th>Model</th> <th>Displacement</th> <th>Cylinders</th> <th>MPG</th> <th>Wheel</th>\n",
       "        </tr>\n",
       "    </thead>\n",
       "    <tbody>\n",
       "        <tr>\n",
       "            <td>BMW         </td> <td>BMW  </td> <td>228i Gran Coupe        </td> <td>2           </td> <td>4        </td> <td>28  </td> <td>2-Wheel Drive, Front</td>\n",
       "        </tr>\n",
       "        <tr>\n",
       "            <td>BMW         </td> <td>BMW  </td> <td>228i xDrive Gran Coupe </td> <td>2           </td> <td>4        </td> <td>27  </td> <td>All Wheel Drive     </td>\n",
       "        </tr>\n",
       "        <tr>\n",
       "            <td>BMW         </td> <td>BMW  </td> <td>230i Convertible       </td> <td>2           </td> <td>4        </td> <td>27  </td> <td>2-Wheel Drive, Rear </td>\n",
       "        </tr>\n",
       "        <tr>\n",
       "            <td>BMW         </td> <td>BMW  </td> <td>230i Coupe             </td> <td>2           </td> <td>4        </td> <td>28  </td> <td>2-Wheel Drive, Rear </td>\n",
       "        </tr>\n",
       "        <tr>\n",
       "            <td>BMW         </td> <td>BMW  </td> <td>230i xDrive Convertible</td> <td>2           </td> <td>4        </td> <td>24  </td> <td>All Wheel Drive     </td>\n",
       "        </tr>\n",
       "        <tr>\n",
       "            <td>BMW         </td> <td>BMW  </td> <td>230i xDrive Coupe      </td> <td>2           </td> <td>4        </td> <td>24  </td> <td>All Wheel Drive     </td>\n",
       "        </tr>\n",
       "        <tr>\n",
       "            <td>BMW         </td> <td>BMW  </td> <td>330i                   </td> <td>2           </td> <td>4        </td> <td>30  </td> <td>2-Wheel Drive, Rear </td>\n",
       "        </tr>\n",
       "        <tr>\n",
       "            <td>BMW         </td> <td>BMW  </td> <td>330i xDrive            </td> <td>2           </td> <td>4        </td> <td>28  </td> <td>All Wheel Drive     </td>\n",
       "        </tr>\n",
       "        <tr>\n",
       "            <td>BMW         </td> <td>BMW  </td> <td>430i Coupe             </td> <td>2           </td> <td>4        </td> <td>29  </td> <td>2-Wheel Drive, Rear </td>\n",
       "        </tr>\n",
       "        <tr>\n",
       "            <td>BMW         </td> <td>BMW  </td> <td>430i xDrive Coupe      </td> <td>2           </td> <td>4        </td> <td>27  </td> <td>All Wheel Drive     </td>\n",
       "        </tr>\n",
       "    </tbody>\n",
       "</table>\n",
       "<p>... (764 rows omitted)</p>"
      ],
      "text/plain": [
       "Manufacturer | Brand | Model                   | Displacement | Cylinders | MPG  | Wheel\n",
       "BMW          | BMW   | 228i Gran Coupe         | 2            | 4         | 28   | 2-Wheel Drive, Front\n",
       "BMW          | BMW   | 228i xDrive Gran Coupe  | 2            | 4         | 27   | All Wheel Drive\n",
       "BMW          | BMW   | 230i Convertible        | 2            | 4         | 27   | 2-Wheel Drive, Rear\n",
       "BMW          | BMW   | 230i Coupe              | 2            | 4         | 28   | 2-Wheel Drive, Rear\n",
       "BMW          | BMW   | 230i xDrive Convertible | 2            | 4         | 24   | All Wheel Drive\n",
       "BMW          | BMW   | 230i xDrive Coupe       | 2            | 4         | 24   | All Wheel Drive\n",
       "BMW          | BMW   | 330i                    | 2            | 4         | 30   | 2-Wheel Drive, Rear\n",
       "BMW          | BMW   | 330i xDrive             | 2            | 4         | 28   | All Wheel Drive\n",
       "BMW          | BMW   | 430i Coupe              | 2            | 4         | 29   | 2-Wheel Drive, Rear\n",
       "BMW          | BMW   | 430i xDrive Coupe       | 2            | 4         | 27   | All Wheel Drive\n",
       "... (764 rows omitted)"
      ]
     },
     "execution_count": 31,
     "metadata": {},
     "output_type": "execute_result"
    }
   ],
   "source": [
    "cars"
   ]
  },
  {
   "cell_type": "code",
   "execution_count": 32,
   "metadata": {},
   "outputs": [
    {
     "data": {
      "text/html": [
       "<table border=\"1\" class=\"dataframe\">\n",
       "    <thead>\n",
       "        <tr>\n",
       "            <th>Manufacturer</th> <th>Brand</th> <th>count</th>\n",
       "        </tr>\n",
       "    </thead>\n",
       "    <tbody>\n",
       "        <tr>\n",
       "            <td>BMW                 </td> <td>BMW                             </td> <td>76   </td>\n",
       "        </tr>\n",
       "        <tr>\n",
       "            <td>BMW                 </td> <td>Mini                            </td> <td>17   </td>\n",
       "        </tr>\n",
       "        <tr>\n",
       "            <td>BMW                 </td> <td>TOYOTA                          </td> <td>2    </td>\n",
       "        </tr>\n",
       "        <tr>\n",
       "            <td>FCA US LLC          </td> <td>ALFA ROMEO                      </td> <td>4    </td>\n",
       "        </tr>\n",
       "        <tr>\n",
       "            <td>FCA US LLC          </td> <td>Chrysler                        </td> <td>5    </td>\n",
       "        </tr>\n",
       "        <tr>\n",
       "            <td>FCA US LLC          </td> <td>Dodge                           </td> <td>12   </td>\n",
       "        </tr>\n",
       "        <tr>\n",
       "            <td>FCA US LLC          </td> <td>FIAT                            </td> <td>1    </td>\n",
       "        </tr>\n",
       "        <tr>\n",
       "            <td>FCA US LLC          </td> <td>Jeep                            </td> <td>20   </td>\n",
       "        </tr>\n",
       "        <tr>\n",
       "            <td>FCA US LLC          </td> <td>RAM                             </td> <td>7    </td>\n",
       "        </tr>\n",
       "        <tr>\n",
       "            <td>Ferrari             </td> <td>Ferrari North America, Inc.     </td> <td>7    </td>\n",
       "        </tr>\n",
       "        <tr>\n",
       "            <td>Ford Motor Company  </td> <td>Ford                            </td> <td>42   </td>\n",
       "        </tr>\n",
       "        <tr>\n",
       "            <td>Ford Motor Company  </td> <td>Lincoln                         </td> <td>9    </td>\n",
       "        </tr>\n",
       "        <tr>\n",
       "            <td>General Motors      </td> <td>Buick                           </td> <td>8    </td>\n",
       "        </tr>\n",
       "        <tr>\n",
       "            <td>General Motors      </td> <td>Cadillac                        </td> <td>20   </td>\n",
       "        </tr>\n",
       "        <tr>\n",
       "            <td>General Motors      </td> <td>Chevrolet                       </td> <td>27   </td>\n",
       "        </tr>\n",
       "        <tr>\n",
       "            <td>General Motors      </td> <td>GMC                             </td> <td>15   </td>\n",
       "        </tr>\n",
       "        <tr>\n",
       "            <td>Honda               </td> <td>Acura                           </td> <td>10   </td>\n",
       "        </tr>\n",
       "        <tr>\n",
       "            <td>Honda               </td> <td>Honda                           </td> <td>17   </td>\n",
       "        </tr>\n",
       "        <tr>\n",
       "            <td>Hyundai             </td> <td>GENESIS                         </td> <td>8    </td>\n",
       "        </tr>\n",
       "        <tr>\n",
       "            <td>Hyundai             </td> <td>HYUNDAI MOTOR COMPANY           </td> <td>22   </td>\n",
       "        </tr>\n",
       "        <tr>\n",
       "            <td>Jaguar Land Rover L </td> <td>Jaguar                          </td> <td>10   </td>\n",
       "        </tr>\n",
       "        <tr>\n",
       "            <td>Jaguar Land Rover L </td> <td>Land Rover                      </td> <td>19   </td>\n",
       "        </tr>\n",
       "        <tr>\n",
       "            <td>Kia                 </td> <td>KIA MOTORS CORPORATION          </td> <td>22   </td>\n",
       "        </tr>\n",
       "        <tr>\n",
       "            <td>Lotus               </td> <td>Lotus Cars Ltd                  </td> <td>1    </td>\n",
       "        </tr>\n",
       "        <tr>\n",
       "            <td>MAZDA               </td> <td>MAZDA                           </td> <td>15   </td>\n",
       "        </tr>\n",
       "        <tr>\n",
       "            <td>Maserati            </td> <td>MASERATI                        </td> <td>11   </td>\n",
       "        </tr>\n",
       "        <tr>\n",
       "            <td>Mercedes-Benz       </td> <td>Mercedes-Benz                   </td> <td>84   </td>\n",
       "        </tr>\n",
       "        <tr>\n",
       "            <td>Mitsubishi Motors Co</td> <td>Mitsubishi Motors Corporation   </td> <td>4    </td>\n",
       "        </tr>\n",
       "        <tr>\n",
       "            <td>Nissan              </td> <td>INFINITI                        </td> <td>12   </td>\n",
       "        </tr>\n",
       "        <tr>\n",
       "            <td>Nissan              </td> <td>NISSAN                          </td> <td>29   </td>\n",
       "        </tr>\n",
       "        <tr>\n",
       "            <td>Porsche             </td> <td>Porsche                         </td> <td>45   </td>\n",
       "        </tr>\n",
       "        <tr>\n",
       "            <td>Rolls-Royce         </td> <td>Rolls-Royce Motor Cars Limited  </td> <td>10   </td>\n",
       "        </tr>\n",
       "        <tr>\n",
       "            <td>Subaru              </td> <td>Subaru                          </td> <td>11   </td>\n",
       "        </tr>\n",
       "        <tr>\n",
       "            <td>Toyota              </td> <td>LEXUS                           </td> <td>35   </td>\n",
       "        </tr>\n",
       "        <tr>\n",
       "            <td>Toyota              </td> <td>TOYOTA                          </td> <td>50   </td>\n",
       "        </tr>\n",
       "        <tr>\n",
       "            <td>Volkswagen Group of </td> <td>Audi                            </td> <td>41   </td>\n",
       "        </tr>\n",
       "        <tr>\n",
       "            <td>Volkswagen Group of </td> <td>Bentley                         </td> <td>4    </td>\n",
       "        </tr>\n",
       "        <tr>\n",
       "            <td>Volkswagen Group of </td> <td>Bugatti                         </td> <td>2    </td>\n",
       "        </tr>\n",
       "        <tr>\n",
       "            <td>Volkswagen Group of </td> <td>Lamborghini                     </td> <td>6    </td>\n",
       "        </tr>\n",
       "        <tr>\n",
       "            <td>Volkswagen Group of </td> <td>Volkswagen                      </td> <td>14   </td>\n",
       "        </tr>\n",
       "        <tr>\n",
       "            <td>Volvo               </td> <td>Volvo Cars of North America, LLC</td> <td>14   </td>\n",
       "        </tr>\n",
       "        <tr>\n",
       "            <td>aston martin        </td> <td>Aston Martin Lagonda Ltd        </td> <td>6    </td>\n",
       "        </tr>\n",
       "    </tbody>\n",
       "</table>"
      ],
      "text/plain": [
       "<IPython.core.display.HTML object>"
      ]
     },
     "metadata": {},
     "output_type": "display_data"
    }
   ],
   "source": [
    "cars.group(['Manufacturer', 'Brand']).show()"
   ]
  },
  {
   "cell_type": "code",
   "execution_count": 33,
   "metadata": {},
   "outputs": [
    {
     "data": {
      "text/html": [
       "<table border=\"1\" class=\"dataframe\">\n",
       "    <thead>\n",
       "        <tr>\n",
       "            <th>Brand</th> <th>Cylinders</th> <th>Manufacturer mean</th> <th>Model mean</th> <th>Displacement mean</th> <th>MPG mean</th> <th>Wheel mean</th>\n",
       "        </tr>\n",
       "    </thead>\n",
       "    <tbody>\n",
       "        <tr>\n",
       "            <td>ALFA ROMEO              </td> <td>4        </td> <td>                 </td> <td>          </td> <td>2                </td> <td>25.5    </td> <td>          </td>\n",
       "        </tr>\n",
       "        <tr>\n",
       "            <td>Acura                   </td> <td>4        </td> <td>                 </td> <td>          </td> <td>2.04444          </td> <td>24.4444 </td> <td>          </td>\n",
       "        </tr>\n",
       "        <tr>\n",
       "            <td>Acura                   </td> <td>6        </td> <td>                 </td> <td>          </td> <td>3.5              </td> <td>21      </td> <td>          </td>\n",
       "        </tr>\n",
       "        <tr>\n",
       "            <td>Aston Martin Lagonda Ltd</td> <td>8        </td> <td>                 </td> <td>          </td> <td>4                </td> <td>18      </td> <td>          </td>\n",
       "        </tr>\n",
       "        <tr>\n",
       "            <td>Aston Martin Lagonda Ltd</td> <td>12       </td> <td>                 </td> <td>          </td> <td>5.2              </td> <td>17.5    </td> <td>          </td>\n",
       "        </tr>\n",
       "        <tr>\n",
       "            <td>Audi                    </td> <td>4        </td> <td>                 </td> <td>          </td> <td>2                </td> <td>25.6875 </td> <td>          </td>\n",
       "        </tr>\n",
       "        <tr>\n",
       "            <td>Audi                    </td> <td>5        </td> <td>                 </td> <td>          </td> <td>2.5              </td> <td>24      </td> <td>          </td>\n",
       "        </tr>\n",
       "        <tr>\n",
       "            <td>Audi                    </td> <td>6        </td> <td>                 </td> <td>          </td> <td>2.97143          </td> <td>21.6429 </td> <td>          </td>\n",
       "        </tr>\n",
       "        <tr>\n",
       "            <td>Audi                    </td> <td>8        </td> <td>                 </td> <td>          </td> <td>4                </td> <td>16.5    </td> <td>          </td>\n",
       "        </tr>\n",
       "        <tr>\n",
       "            <td>Audi                    </td> <td>10       </td> <td>                 </td> <td>          </td> <td>5.2              </td> <td>16.5    </td> <td>          </td>\n",
       "        </tr>\n",
       "    </tbody>\n",
       "</table>\n",
       "<p>... (83 rows omitted)</p>"
      ],
      "text/plain": [
       "Brand                    | Cylinders | Manufacturer mean | Model mean | Displacement mean | MPG mean | Wheel mean\n",
       "ALFA ROMEO               | 4         |                   |            | 2                 | 25.5     |\n",
       "Acura                    | 4         |                   |            | 2.04444           | 24.4444  |\n",
       "Acura                    | 6         |                   |            | 3.5               | 21       |\n",
       "Aston Martin Lagonda Ltd | 8         |                   |            | 4                 | 18       |\n",
       "Aston Martin Lagonda Ltd | 12        |                   |            | 5.2               | 17.5     |\n",
       "Audi                     | 4         |                   |            | 2                 | 25.6875  |\n",
       "Audi                     | 5         |                   |            | 2.5               | 24       |\n",
       "Audi                     | 6         |                   |            | 2.97143           | 21.6429  |\n",
       "Audi                     | 8         |                   |            | 4                 | 16.5     |\n",
       "Audi                     | 10        |                   |            | 5.2               | 16.5     |\n",
       "... (83 rows omitted)"
      ]
     },
     "execution_count": 33,
     "metadata": {},
     "output_type": "execute_result"
    }
   ],
   "source": [
    "cars.group(['Brand', 'Cylinders'], np.mean)"
   ]
  },
  {
   "cell_type": "code",
   "execution_count": 41,
   "metadata": {},
   "outputs": [
    {
     "data": {
      "text/plain": [
       "array([ 21.55335968])"
      ]
     },
     "execution_count": 41,
     "metadata": {},
     "output_type": "execute_result"
    }
   ],
   "source": [
    "cars.group('Cylinders', np.mean) \\\n",
    "    .where('Cylinders', 6) \\\n",
    "    .column(\"MPG mean\")"
   ]
  },
  {
   "cell_type": "code",
   "execution_count": 42,
   "metadata": {},
   "outputs": [
    {
     "data": {
      "text/html": [
       "<table border=\"1\" class=\"dataframe\">\n",
       "    <thead>\n",
       "        <tr>\n",
       "            <th>Manufacturer</th> <th>Brand</th> <th>Displacement</th> <th>count</th>\n",
       "        </tr>\n",
       "    </thead>\n",
       "    <tbody>\n",
       "        <tr>\n",
       "            <td>BMW         </td> <td>BMW       </td> <td>2           </td> <td>22   </td>\n",
       "        </tr>\n",
       "        <tr>\n",
       "            <td>BMW         </td> <td>BMW       </td> <td>3           </td> <td>34   </td>\n",
       "        </tr>\n",
       "        <tr>\n",
       "            <td>BMW         </td> <td>BMW       </td> <td>4.4         </td> <td>19   </td>\n",
       "        </tr>\n",
       "        <tr>\n",
       "            <td>BMW         </td> <td>BMW       </td> <td>6.6         </td> <td>1    </td>\n",
       "        </tr>\n",
       "        <tr>\n",
       "            <td>BMW         </td> <td>Mini      </td> <td>1.5         </td> <td>5    </td>\n",
       "        </tr>\n",
       "        <tr>\n",
       "            <td>BMW         </td> <td>Mini      </td> <td>2           </td> <td>12   </td>\n",
       "        </tr>\n",
       "        <tr>\n",
       "            <td>BMW         </td> <td>TOYOTA    </td> <td>2           </td> <td>1    </td>\n",
       "        </tr>\n",
       "        <tr>\n",
       "            <td>BMW         </td> <td>TOYOTA    </td> <td>3           </td> <td>1    </td>\n",
       "        </tr>\n",
       "        <tr>\n",
       "            <td>FCA US LLC  </td> <td>ALFA ROMEO</td> <td>2           </td> <td>4    </td>\n",
       "        </tr>\n",
       "        <tr>\n",
       "            <td>FCA US LLC  </td> <td>Chrysler  </td> <td>3.6         </td> <td>5    </td>\n",
       "        </tr>\n",
       "    </tbody>\n",
       "</table>\n",
       "<p>... (144 rows omitted)</p>"
      ],
      "text/plain": [
       "Manufacturer | Brand      | Displacement | count\n",
       "BMW          | BMW        | 2            | 22\n",
       "BMW          | BMW        | 3            | 34\n",
       "BMW          | BMW        | 4.4          | 19\n",
       "BMW          | BMW        | 6.6          | 1\n",
       "BMW          | Mini       | 1.5          | 5\n",
       "BMW          | Mini       | 2            | 12\n",
       "BMW          | TOYOTA     | 2            | 1\n",
       "BMW          | TOYOTA     | 3            | 1\n",
       "FCA US LLC   | ALFA ROMEO | 2            | 4\n",
       "FCA US LLC   | Chrysler   | 3.6          | 5\n",
       "... (144 rows omitted)"
      ]
     },
     "execution_count": 42,
     "metadata": {},
     "output_type": "execute_result"
    }
   ],
   "source": [
    "cars.group(['Manufacturer', 'Brand', 'Displacement'])"
   ]
  },
  {
   "cell_type": "markdown",
   "metadata": {},
   "source": [
    "## `.pivot`"
   ]
  },
  {
   "cell_type": "markdown",
   "metadata": {},
   "source": [
    "Another useful table method is `tbl.pivot()`, which can help us determine statistics for different combinations of values for two variables."
   ]
  },
  {
   "cell_type": "markdown",
   "metadata": {},
   "source": [
    "For example, what if we wanted to view the mean MPG for each combination of car brand and cylinder number? `.pivot` allows us to do just that!"
   ]
  },
  {
   "cell_type": "code",
   "execution_count": 35,
   "metadata": {},
   "outputs": [
    {
     "data": {
      "text/html": [
       "<table border=\"1\" class=\"dataframe\">\n",
       "    <thead>\n",
       "        <tr>\n",
       "            <th>Brand</th> <th>3</th> <th>4</th> <th>5</th> <th>6</th> <th>8</th> <th>10</th> <th>12</th> <th>16</th>\n",
       "        </tr>\n",
       "    </thead>\n",
       "    <tbody>\n",
       "        <tr>\n",
       "            <td>ALFA ROMEO              </td> <td>0   </td> <td>25.5   </td> <td>0   </td> <td>0      </td> <td>0      </td> <td>0   </td> <td>0   </td> <td>0   </td>\n",
       "        </tr>\n",
       "        <tr>\n",
       "            <td>Acura                   </td> <td>0   </td> <td>24.4444</td> <td>0   </td> <td>21     </td> <td>0      </td> <td>0   </td> <td>0   </td> <td>0   </td>\n",
       "        </tr>\n",
       "        <tr>\n",
       "            <td>Aston Martin Lagonda Ltd</td> <td>0   </td> <td>0      </td> <td>0   </td> <td>0      </td> <td>18     </td> <td>0   </td> <td>17.5</td> <td>0   </td>\n",
       "        </tr>\n",
       "        <tr>\n",
       "            <td>Audi                    </td> <td>0   </td> <td>25.6875</td> <td>24  </td> <td>21.6429</td> <td>16.5   </td> <td>16.5</td> <td>0   </td> <td>0   </td>\n",
       "        </tr>\n",
       "        <tr>\n",
       "            <td>BMW                     </td> <td>0   </td> <td>26.8636</td> <td>0   </td> <td>22.3529</td> <td>17.4211</td> <td>0   </td> <td>16  </td> <td>0   </td>\n",
       "        </tr>\n",
       "        <tr>\n",
       "            <td>Bentley                 </td> <td>0   </td> <td>0      </td> <td>0   </td> <td>0      </td> <td>18.25  </td> <td>0   </td> <td>0   </td> <td>0   </td>\n",
       "        </tr>\n",
       "        <tr>\n",
       "            <td>Bugatti                 </td> <td>0   </td> <td>0      </td> <td>0   </td> <td>0      </td> <td>0      </td> <td>0   </td> <td>0   </td> <td>10.5</td>\n",
       "        </tr>\n",
       "        <tr>\n",
       "            <td>Buick                   </td> <td>28.5</td> <td>26     </td> <td>0   </td> <td>20.5   </td> <td>0      </td> <td>0   </td> <td>0   </td> <td>0   </td>\n",
       "        </tr>\n",
       "        <tr>\n",
       "            <td>Cadillac                </td> <td>0   </td> <td>23.5625</td> <td>0   </td> <td>21.75  </td> <td>0      </td> <td>0   </td> <td>0   </td> <td>0   </td>\n",
       "        </tr>\n",
       "        <tr>\n",
       "            <td>Chevrolet               </td> <td>28.5</td> <td>25.5333</td> <td>0   </td> <td>20     </td> <td>19     </td> <td>0   </td> <td>0   </td> <td>0   </td>\n",
       "        </tr>\n",
       "    </tbody>\n",
       "</table>\n",
       "<p>... (31 rows omitted)</p>"
      ],
      "text/plain": [
       "Brand                    | 3    | 4       | 5    | 6       | 8       | 10   | 12   | 16\n",
       "ALFA ROMEO               | 0    | 25.5    | 0    | 0       | 0       | 0    | 0    | 0\n",
       "Acura                    | 0    | 24.4444 | 0    | 21      | 0       | 0    | 0    | 0\n",
       "Aston Martin Lagonda Ltd | 0    | 0       | 0    | 0       | 18      | 0    | 17.5 | 0\n",
       "Audi                     | 0    | 25.6875 | 24   | 21.6429 | 16.5    | 16.5 | 0    | 0\n",
       "BMW                      | 0    | 26.8636 | 0    | 22.3529 | 17.4211 | 0    | 16   | 0\n",
       "Bentley                  | 0    | 0       | 0    | 0       | 18.25   | 0    | 0    | 0\n",
       "Bugatti                  | 0    | 0       | 0    | 0       | 0       | 0    | 0    | 10.5\n",
       "Buick                    | 28.5 | 26      | 0    | 20.5    | 0       | 0    | 0    | 0\n",
       "Cadillac                 | 0    | 23.5625 | 0    | 21.75   | 0       | 0    | 0    | 0\n",
       "Chevrolet                | 28.5 | 25.5333 | 0    | 20      | 19      | 0    | 0    | 0\n",
       "... (31 rows omitted)"
      ]
     },
     "execution_count": 35,
     "metadata": {},
     "output_type": "execute_result"
    }
   ],
   "source": [
    "cars.pivot('Cylinders', 'Brand', 'MPG', np.mean)"
   ]
  },
  {
   "cell_type": "markdown",
   "metadata": {},
   "source": [
    "`.pivot` can take up to four arguments, the last two of which are optional (but must be used together):\n",
    "1. `columns`: The column in `tbl` to use as the columns in the pivot table\n",
    "2. `rows`: The column in `tbl` to use as the rows in the pivot table\n",
    "3. `values`: The column in `tbl` to aggregate using the `collect` function\n",
    "4. `collect`: A function with which to aggregate the values in the `values` column"
   ]
  },
  {
   "cell_type": "markdown",
   "metadata": {},
   "source": [
    "### Quick Check 2"
   ]
  },
  {
   "cell_type": "markdown",
   "metadata": {},
   "source": [
    "<img src=\"pivot-table.png\" width=\"70%\"/>"
   ]
  },
  {
   "cell_type": "markdown",
   "metadata": {},
   "source": [
    "Fill in the blanks to create the table above, which describes the largest number of cylinders each manufacturer makes for every possible drivetrain (`'Wheel'`)."
   ]
  },
  {
   "cell_type": "code",
   "execution_count": null,
   "metadata": {},
   "outputs": [],
   "source": [
    "cars.pivot(___, ___, ___, ___) # Replace the blanks with your answers"
   ]
  },
  {
   "cell_type": "markdown",
   "metadata": {},
   "source": [
    "## Demo: US R1 Universities"
   ]
  },
  {
   "cell_type": "markdown",
   "metadata": {},
   "source": [
    "For our demo, we will be using a dataset of [R1 universities](https://en.wikipedia.org/wiki/List_of_research_universities_in_the_United_States) in the US."
   ]
  },
  {
   "cell_type": "code",
   "execution_count": null,
   "metadata": {},
   "outputs": [],
   "source": [
    "unis = Table.read_table(\"data/r1_with_students.csv\")\n",
    "unis"
   ]
  },
  {
   "cell_type": "markdown",
   "metadata": {},
   "source": [
    "If we wanted to visualize information from this table, we could try to plot all 96 universities on one bar chart, but that isn't ideal..."
   ]
  },
  {
   "cell_type": "code",
   "execution_count": null,
   "metadata": {},
   "outputs": [],
   "source": [
    "unis.sort('Number_students', descending=True).barh('University', 'Number_students')"
   ]
  },
  {
   "cell_type": "markdown",
   "metadata": {},
   "source": [
    "Instead, let's group by state and find the average enrollment in each state."
   ]
  },
  {
   "cell_type": "code",
   "execution_count": null,
   "metadata": {},
   "outputs": [],
   "source": [
    "unis.group('State', np.mean).sort('Number_students mean', descending=True).barh('State', 'Number_students mean')"
   ]
  },
  {
   "cell_type": "markdown",
   "metadata": {},
   "source": [
    "We can also use a pivot table to help us generate a useful visualization:"
   ]
  },
  {
   "cell_type": "code",
   "execution_count": null,
   "metadata": {},
   "outputs": [],
   "source": [
    "unis_pivot = unis.pivot('Type', 'State')\n",
    "unis_pivot"
   ]
  },
  {
   "cell_type": "code",
   "execution_count": null,
   "metadata": {},
   "outputs": [],
   "source": [
    "unis_pivot.barh('State')"
   ]
  },
  {
   "cell_type": "markdown",
   "metadata": {},
   "source": [
    "Ta-da!"
   ]
  }
 ],
 "metadata": {
  "kernelspec": {
   "display_name": "Python 3 (ipykernel)",
   "language": "python",
   "name": "python3"
  },
  "language_info": {
   "codemirror_mode": {
    "name": "ipython",
    "version": 3
   },
   "file_extension": ".py",
   "mimetype": "text/x-python",
   "name": "python",
   "nbconvert_exporter": "python",
   "pygments_lexer": "ipython3",
   "version": "3.11.9"
  }
 },
 "nbformat": 4,
 "nbformat_minor": 4
}
