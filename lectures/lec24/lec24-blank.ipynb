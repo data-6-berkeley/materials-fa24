{
 "cells": [
  {
   "cell_type": "markdown",
   "id": "290c7e22-b51d-4e3a-83b0-d9f96bc8c15f",
   "metadata": {},
   "source": [
    "# Lecture 24 – API Calls\n",
    "\n",
    "## Data 6, Fall 2024"
   ]
  },
  {
   "cell_type": "code",
   "execution_count": null,
   "id": "53655c4a-aa18-45da-9b81-4afeb2c24267",
   "metadata": {},
   "outputs": [],
   "source": [
    "from datascience import *\n",
    "import numpy as np\n",
    "%pip install openai\n",
    "from openai import OpenAI\n",
    "import json"
   ]
  },
  {
   "cell_type": "code",
   "execution_count": null,
   "id": "35932269-ec69-4af1-8bca-0ad19e70a737",
   "metadata": {},
   "outputs": [],
   "source": [
    "API_KEY = ..."
   ]
  },
  {
   "cell_type": "code",
   "execution_count": null,
   "id": "ef68b407-88f7-4ec2-8e82-56a9abf10264",
   "metadata": {},
   "outputs": [],
   "source": [
    "client = OpenAI(api_key = API_KEY)"
   ]
  },
  {
   "cell_type": "code",
   "execution_count": null,
   "id": "f568eb9a-4e6e-4ab0-8ec8-0260e7b6ed38",
   "metadata": {},
   "outputs": [],
   "source": [
    "message = [\n",
    "    {\"role\": \"user\", \"content\": \"Tell me about Data 6 at UC Berkeley\"} #We create a list of dictionaries containing the prompt.\n",
    "]\n",
    "\n",
    "completion = client.chat.completions.create(\n",
    "  model=\"gpt-4o-mini\", #Picking the model \n",
    "  messages=message,\n",
    ")"
   ]
  },
  {
   "cell_type": "code",
   "execution_count": null,
   "id": "3ba28d8f-24ce-489f-853b-22a69f7e08ac",
   "metadata": {},
   "outputs": [],
   "source": [
    "type(completion)"
   ]
  },
  {
   "cell_type": "code",
   "execution_count": null,
   "id": "aa611998-f592-4513-8f00-5d0012992de4",
   "metadata": {},
   "outputs": [],
   "source": [
    "completion.choices[0].message.content"
   ]
  },
  {
   "cell_type": "code",
   "execution_count": null,
   "id": "19918d47-1c81-43b7-98b2-5e3c1774305b",
   "metadata": {},
   "outputs": [],
   "source": [
    "response_json = completion.json() \n",
    "response_dict = json.loads(response_json)\n",
    "type(response_dict) #Notice that this is a dictionary!"
   ]
  },
  {
   "cell_type": "code",
   "execution_count": null,
   "id": "6e438229-c9c9-4a0d-91dc-a9df9ff3f85c",
   "metadata": {},
   "outputs": [],
   "source": [
    "response_dict"
   ]
  },
  {
   "cell_type": "code",
   "execution_count": null,
   "id": "1a3eece1-d7eb-4eae-b914-8c3754bd1489",
   "metadata": {},
   "outputs": [],
   "source": [
    "response"
   ]
  }
 ],
 "metadata": {
  "kernelspec": {
   "display_name": "Python 3 (ipykernel)",
   "language": "python",
   "name": "python3"
  },
  "language_info": {
   "codemirror_mode": {
    "name": "ipython",
    "version": 3
   },
   "file_extension": ".py",
   "mimetype": "text/x-python",
   "name": "python",
   "nbconvert_exporter": "python",
   "pygments_lexer": "ipython3",
   "version": "3.11.10"
  }
 },
 "nbformat": 4,
 "nbformat_minor": 5
}
