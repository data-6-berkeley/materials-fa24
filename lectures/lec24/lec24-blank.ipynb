{
 "cells": [
  {
   "cell_type": "markdown",
   "id": "290c7e22-b51d-4e3a-83b0-d9f96bc8c15f",
   "metadata": {},
   "source": [
    "# Lecture 24 – API Calls\n",
    "\n",
    "## Data 6, Fall 2024"
   ]
  },
  {
   "cell_type": "code",
   "execution_count": 1,
   "id": "53655c4a-aa18-45da-9b81-4afeb2c24267",
   "metadata": {},
   "outputs": [
    {
     "name": "stdout",
     "output_type": "stream",
     "text": [
      "Collecting openai\n",
      "  Using cached openai-1.55.1-py3-none-any.whl (389 kB)\n",
      "Requirement already satisfied: anyio<5,>=3.5.0 in /srv/conda/lib/python3.11/site-packages (from openai) (4.6.2.post1)\n",
      "Requirement already satisfied: distro<2,>=1.7.0 in /srv/conda/lib/python3.11/site-packages (from openai) (1.9.0)\n",
      "Requirement already satisfied: httpx<1,>=0.23.0 in /srv/conda/lib/python3.11/site-packages (from openai) (0.27.2)\n",
      "Collecting jiter<1,>=0.4.0\n",
      "  Using cached jiter-0.7.1-cp311-cp311-manylinux_2_17_x86_64.manylinux2014_x86_64.whl (325 kB)\n",
      "Requirement already satisfied: pydantic<3,>=1.9.0 in /srv/conda/lib/python3.11/site-packages (from openai) (1.10.8)\n",
      "Requirement already satisfied: sniffio in /srv/conda/lib/python3.11/site-packages (from openai) (1.3.1)\n",
      "Requirement already satisfied: tqdm>4 in /srv/conda/lib/python3.11/site-packages (from openai) (4.66.2)\n",
      "Collecting typing-extensions<5,>=4.11\n",
      "  Using cached typing_extensions-4.12.2-py3-none-any.whl (37 kB)\n",
      "Requirement already satisfied: idna>=2.8 in /srv/conda/lib/python3.11/site-packages (from anyio<5,>=3.5.0->openai) (3.6)\n",
      "Requirement already satisfied: certifi in /srv/conda/lib/python3.11/site-packages (from httpx<1,>=0.23.0->openai) (2024.8.30)\n",
      "Requirement already satisfied: httpcore==1.* in /srv/conda/lib/python3.11/site-packages (from httpx<1,>=0.23.0->openai) (1.0.6)\n",
      "Requirement already satisfied: h11<0.15,>=0.13 in /srv/conda/lib/python3.11/site-packages (from httpcore==1.*->httpx<1,>=0.23.0->openai) (0.14.0)\n",
      "Installing collected packages: typing-extensions, jiter, openai\n",
      "  Attempting uninstall: typing-extensions\n",
      "    Found existing installation: typing_extensions 4.7.0\n",
      "    Uninstalling typing_extensions-4.7.0:\n",
      "      Successfully uninstalled typing_extensions-4.7.0\n",
      "\u001b[31mERROR: pip's dependency resolver does not currently take into account all the packages that are installed. This behaviour is the source of the following dependency conflicts.\n",
      "linearmodels 0.0.0 requires Cython>=3.0.10, which is not installed.\n",
      "linearmodels 0.0.0 requires setuptools-scm[toml]<9.0.0,>=8.0.0, which is not installed.\u001b[0m\u001b[31m\n",
      "\u001b[0mSuccessfully installed jiter-0.7.1 openai-1.55.1 typing-extensions-4.12.2\n",
      "Note: you may need to restart the kernel to use updated packages.\n"
     ]
    }
   ],
   "source": [
    "from datascience import *\n",
    "import numpy as np\n",
    "%pip install openai\n",
    "from openai import OpenAI\n",
    "import json"
   ]
  },
  {
   "cell_type": "code",
   "execution_count": null,
   "id": "35932269-ec69-4af1-8bca-0ad19e70a737",
   "metadata": {},
   "outputs": [],
   "source": [
    "API_KEY = ..."
   ]
  },
  {
   "cell_type": "code",
   "execution_count": 6,
   "id": "ef68b407-88f7-4ec2-8e82-56a9abf10264",
   "metadata": {},
   "outputs": [],
   "source": [
    "client = OpenAI(api_key = API_KEY)"
   ]
  },
  {
   "cell_type": "code",
   "execution_count": 22,
   "id": "f568eb9a-4e6e-4ab0-8ec8-0260e7b6ed38",
   "metadata": {},
   "outputs": [],
   "source": [
    "message = [\n",
    "    {\"role\": \"user\", \"content\": \"Tell me about Data 6 at UC Berkeley\"} #We create a list of dictionaries containing the prompt.\n",
    "]\n",
    "\n",
    "completion = client.chat.completions.create(\n",
    "  model=\"gpt-4o-mini\", #Picking the model \n",
    "  messages=message,\n",
    "  temperature=2,\n",
    "  max_completion_tokens=50\n",
    ")"
   ]
  },
  {
   "cell_type": "code",
   "execution_count": 8,
   "id": "3ba28d8f-24ce-489f-853b-22a69f7e08ac",
   "metadata": {},
   "outputs": [
    {
     "data": {
      "text/plain": [
       "openai.types.chat.chat_completion.ChatCompletion"
      ]
     },
     "execution_count": 8,
     "metadata": {},
     "output_type": "execute_result"
    }
   ],
   "source": [
    "type(completion)"
   ]
  },
  {
   "cell_type": "code",
   "execution_count": 23,
   "id": "aa611998-f592-4513-8f00-5d0012992de4",
   "metadata": {},
   "outputs": [
    {
     "data": {
      "text/plain": [
       "\"Data 6 at UC Berkeley is part of the umbrella of undergraduate-level data science courses offered by the Berkeley Division of Data Sciences. Typically preferred for students in different majors seeking ord training/exындағы התasz jual غونډ interne 北京赛车开奖 শিশু*>(&דעgrad'''' realm\""
      ]
     },
     "execution_count": 23,
     "metadata": {},
     "output_type": "execute_result"
    }
   ],
   "source": [
    "completion.choices[0].message.content"
   ]
  },
  {
   "cell_type": "code",
   "execution_count": 10,
   "id": "19918d47-1c81-43b7-98b2-5e3c1774305b",
   "metadata": {},
   "outputs": [
    {
     "data": {
      "text/plain": [
       "dict"
      ]
     },
     "execution_count": 10,
     "metadata": {},
     "output_type": "execute_result"
    }
   ],
   "source": [
    "response_json = completion.json() \n",
    "response_dict = json.loads(response_json)\n",
    "type(response_dict) #Notice that this is a dictionary!"
   ]
  },
  {
   "cell_type": "code",
   "execution_count": 21,
   "id": "6e438229-c9c9-4a0d-91dc-a9df9ff3f85c",
   "metadata": {},
   "outputs": [
    {
     "data": {
      "text/plain": [
       "\"As of my last update in October 2023, Data 6 is a course offered by the University of California, Berkeley, specifically within the Data Science program. This course is often part of the curriculum aimed at providing students with a foundational understanding of data science, including various key concepts, tools, and methodologies used in the field.\\n\\nThe focus of Data 6 typically includes:\\n\\n1. **Data Exploration**: Techniques for exploring and visualizing data to uncover patterns and insights.\\n2. **Data Ethics**: Understanding the ethical implications of data science, including privacy concerns, bias in data, and responsible data use.\\n3. **Statistical Analysis**: Basic principles of statistics and how they apply to data analysis.\\n4. **Hands-on Experience**: Practical experience with data science tools and programming languages, such as Python and R, to analyze and manipulate data.\\n5. **Real-world Projects**: Often, students engage in projects that involve working with real datasets, allowing them to apply their skills to practical problems.\\n\\nThe course is typically aimed at undergraduate students, particularly those pursuing a major or minor in data science, but it can also attract students from various disciplines interested in acquiring data literacy skills.\\n\\nFor the most up-to-date information on the course structure, prerequisites, and topics covered, it's advisable to check the official UC Berkeley website or the course catalog.\""
      ]
     },
     "execution_count": 21,
     "metadata": {},
     "output_type": "execute_result"
    }
   ],
   "source": [
    "response_dict['choices'][0]['message']['content']"
   ]
  },
  {
   "cell_type": "code",
   "execution_count": 13,
   "id": "1a3eece1-d7eb-4eae-b914-8c3754bd1489",
   "metadata": {},
   "outputs": [
    {
     "name": "stdout",
     "output_type": "stream",
     "text": [
      "Tsang\n"
     ]
    },
    {
     "ename": "KeyError",
     "evalue": "0",
     "output_type": "error",
     "traceback": [
      "\u001b[0;31m---------------------------------------------------------------------------\u001b[0m",
      "\u001b[0;31mKeyError\u001b[0m                                  Traceback (most recent call last)",
      "Cell \u001b[0;32mIn[13], line 3\u001b[0m\n\u001b[1;32m      1\u001b[0m practice_dict \u001b[38;5;241m=\u001b[39m {\u001b[38;5;124m\"\u001b[39m\u001b[38;5;124mJedi\u001b[39m\u001b[38;5;124m\"\u001b[39m: \u001b[38;5;124m\"\u001b[39m\u001b[38;5;124mTsang\u001b[39m\u001b[38;5;124m\"\u001b[39m}\n\u001b[1;32m      2\u001b[0m \u001b[38;5;28mprint\u001b[39m(practice_dict[\u001b[38;5;124m\"\u001b[39m\u001b[38;5;124mJedi\u001b[39m\u001b[38;5;124m\"\u001b[39m])\n\u001b[0;32m----> 3\u001b[0m \u001b[38;5;28mprint\u001b[39m(\u001b[43mpractice_dict\u001b[49m\u001b[43m[\u001b[49m\u001b[38;5;241;43m0\u001b[39;49m\u001b[43m]\u001b[49m) \u001b[38;5;66;03m#Errors because dictionaries are not ordered\u001b[39;00m\n",
      "\u001b[0;31mKeyError\u001b[0m: 0"
     ]
    }
   ],
   "source": [
    "practice_dict = {\"Jedi\": \"Tsang\"}\n",
    "print(practice_dict[\"Jedi\"])\n",
    "print(practice_dict[0]) #Errors because dictionaries are not ordered"
   ]
  },
  {
   "cell_type": "code",
   "execution_count": null,
   "id": "220eba5f-b846-458e-9684-3cdf2d33ac34",
   "metadata": {},
   "outputs": [],
   "source": []
  }
 ],
 "metadata": {
  "kernelspec": {
   "display_name": "Python 3 (ipykernel)",
   "language": "python",
   "name": "python3"
  },
  "language_info": {
   "codemirror_mode": {
    "name": "ipython",
    "version": 3
   },
   "file_extension": ".py",
   "mimetype": "text/x-python",
   "name": "python",
   "nbconvert_exporter": "python",
   "pygments_lexer": "ipython3",
   "version": "3.11.10"
  }
 },
 "nbformat": 4,
 "nbformat_minor": 5
}
