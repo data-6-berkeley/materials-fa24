{
 "cells": [
  {
   "cell_type": "markdown",
   "metadata": {},
   "source": [
    "# Lecture 10 – Joining and Row Methods\n",
    "\n",
    "## Data 6, Fall 2024"
   ]
  },
  {
   "cell_type": "code",
   "execution_count": 1,
   "metadata": {},
   "outputs": [],
   "source": [
    "from datascience import *\n",
    "import numpy as np"
   ]
  },
  {
   "cell_type": "markdown",
   "metadata": {},
   "source": [
    "## `.join`"
   ]
  },
  {
   "cell_type": "markdown",
   "metadata": {},
   "source": [
    "Oftentimes, we have useful data from multiple different sources. While each of these datasets provides information on their own, they are usually more powerful when combined. So when we have multiple tables with related data, we can **join** those tables together into a single larger table."
   ]
  },
  {
   "cell_type": "markdown",
   "metadata": {},
   "source": [
    "For example, we have two tables: `phones`—which lists the prices of each phone model—and `inventory`—which shows us how many of each phone we have. \n",
    "\n",
    "Using `.join` we can answer the question: _If I sold all of the phones in my inventory, what would my revenue be?_"
   ]
  },
  {
   "cell_type": "code",
   "execution_count": 2,
   "metadata": {},
   "outputs": [],
   "source": [
    "phones = Table().with_columns(\n",
    "    'Model', np.array(['iPhone 12', 'iPhone 12 Pro Max', 'Samsung Galaxy S21', 'OnePlus 8']),\n",
    "    'Price', np.array([799, 1099, 799, 699]),\n",
    "    'Screen Size', np.array([6.1, 6.7, 6.2, 6.6])\n",
    ")\n",
    "\n",
    "inventory = Table().with_columns(\n",
    "    'Handset', np.array(['Samsung Galaxy S21', 'iPhone 12', 'iPhone 12', 'OnePlus 8', 'Pixel 5']),\n",
    "    'Units', np.array([50, 40, 10, 100, 25]),\n",
    "    'Store', np.array(['Berkeley', 'Berkeley', 'San Francisco', 'Oakland', 'Oakland'])\n",
    ")"
   ]
  },
  {
   "cell_type": "code",
   "execution_count": 20,
   "metadata": {},
   "outputs": [
    {
     "data": {
      "text/html": [
       "<table border=\"1\" class=\"dataframe\">\n",
       "    <thead>\n",
       "        <tr>\n",
       "            <th>Value</th> <th>String Representation</th>\n",
       "        </tr>\n",
       "    </thead>\n",
       "    <tbody>\n",
       "        <tr>\n",
       "            <td>-2   </td> <td>Neg two              </td>\n",
       "        </tr>\n",
       "        <tr>\n",
       "            <td>-2   </td> <td>Neg two              </td>\n",
       "        </tr>\n",
       "        <tr>\n",
       "            <td>-2   </td> <td>Neg two              </td>\n",
       "        </tr>\n",
       "        <tr>\n",
       "            <td>-2   </td> <td>Neg two              </td>\n",
       "        </tr>\n",
       "        <tr>\n",
       "            <td>4    </td> <td>Four                 </td>\n",
       "        </tr>\n",
       "    </tbody>\n",
       "</table>"
      ],
      "text/plain": [
       "Value | String Representation\n",
       "-2    | Neg two\n",
       "-2    | Neg two\n",
       "-2    | Neg two\n",
       "-2    | Neg two\n",
       "4     | Four"
      ]
     },
     "execution_count": 20,
     "metadata": {},
     "output_type": "execute_result"
    }
   ],
   "source": [
    "tbl = Table().with_columns(\"Value\", make_array(-2, -2, 4, 8, 8, 2))\n",
    "tbl_2 = Table().with_columns(\"Value\", make_array(-2, -2, 4),\n",
    "                             \"String Representation\", make_array(\"Neg two\", \"Neg two\", \"Four\"))\n",
    "\n",
    "tbl.join(\"Value\", tbl_2)"
   ]
  },
  {
   "cell_type": "code",
   "execution_count": 3,
   "metadata": {},
   "outputs": [
    {
     "data": {
      "text/html": [
       "<table border=\"1\" class=\"dataframe\">\n",
       "    <thead>\n",
       "        <tr>\n",
       "            <th>Model</th> <th>Price</th> <th>Screen Size</th>\n",
       "        </tr>\n",
       "    </thead>\n",
       "    <tbody>\n",
       "        <tr>\n",
       "            <td>iPhone 12         </td> <td>799  </td> <td>6.1        </td>\n",
       "        </tr>\n",
       "        <tr>\n",
       "            <td>iPhone 12 Pro Max </td> <td>1099 </td> <td>6.7        </td>\n",
       "        </tr>\n",
       "        <tr>\n",
       "            <td>Samsung Galaxy S21</td> <td>799  </td> <td>6.2        </td>\n",
       "        </tr>\n",
       "        <tr>\n",
       "            <td>OnePlus 8         </td> <td>699  </td> <td>6.6        </td>\n",
       "        </tr>\n",
       "    </tbody>\n",
       "</table>"
      ],
      "text/plain": [
       "Model              | Price | Screen Size\n",
       "iPhone 12          | 799   | 6.1\n",
       "iPhone 12 Pro Max  | 1099  | 6.7\n",
       "Samsung Galaxy S21 | 799   | 6.2\n",
       "OnePlus 8          | 699   | 6.6"
      ]
     },
     "execution_count": 3,
     "metadata": {},
     "output_type": "execute_result"
    }
   ],
   "source": [
    "phones"
   ]
  },
  {
   "cell_type": "code",
   "execution_count": 4,
   "metadata": {
    "scrolled": true
   },
   "outputs": [
    {
     "data": {
      "text/html": [
       "<table border=\"1\" class=\"dataframe\">\n",
       "    <thead>\n",
       "        <tr>\n",
       "            <th>Handset</th> <th>Units</th> <th>Store</th>\n",
       "        </tr>\n",
       "    </thead>\n",
       "    <tbody>\n",
       "        <tr>\n",
       "            <td>Samsung Galaxy S21</td> <td>50   </td> <td>Berkeley     </td>\n",
       "        </tr>\n",
       "        <tr>\n",
       "            <td>iPhone 12         </td> <td>40   </td> <td>Berkeley     </td>\n",
       "        </tr>\n",
       "        <tr>\n",
       "            <td>iPhone 12         </td> <td>10   </td> <td>San Francisco</td>\n",
       "        </tr>\n",
       "        <tr>\n",
       "            <td>OnePlus 8         </td> <td>100  </td> <td>Oakland      </td>\n",
       "        </tr>\n",
       "        <tr>\n",
       "            <td>Pixel 5           </td> <td>25   </td> <td>Oakland      </td>\n",
       "        </tr>\n",
       "    </tbody>\n",
       "</table>"
      ],
      "text/plain": [
       "Handset            | Units | Store\n",
       "Samsung Galaxy S21 | 50    | Berkeley\n",
       "iPhone 12          | 40    | Berkeley\n",
       "iPhone 12          | 10    | San Francisco\n",
       "OnePlus 8          | 100   | Oakland\n",
       "Pixel 5            | 25    | Oakland"
      ]
     },
     "execution_count": 4,
     "metadata": {},
     "output_type": "execute_result"
    }
   ],
   "source": [
    "inventory"
   ]
  },
  {
   "cell_type": "markdown",
   "metadata": {},
   "source": [
    "First, let's use `tbl.join` to combine the two tables."
   ]
  },
  {
   "cell_type": "code",
   "execution_count": 19,
   "metadata": {
    "scrolled": true
   },
   "outputs": [
    {
     "data": {
      "text/html": [
       "<table border=\"1\" class=\"dataframe\">\n",
       "    <thead>\n",
       "        <tr>\n",
       "            <th>Model</th> <th>Price</th> <th>Screen Size</th> <th>Units</th> <th>Store</th>\n",
       "        </tr>\n",
       "    </thead>\n",
       "    <tbody>\n",
       "        <tr>\n",
       "            <td>OnePlus 8         </td> <td>699  </td> <td>6.6        </td> <td>100  </td> <td>Oakland      </td>\n",
       "        </tr>\n",
       "        <tr>\n",
       "            <td>Samsung Galaxy S21</td> <td>799  </td> <td>6.2        </td> <td>50   </td> <td>Berkeley     </td>\n",
       "        </tr>\n",
       "        <tr>\n",
       "            <td>iPhone 12         </td> <td>799  </td> <td>6.1        </td> <td>40   </td> <td>Berkeley     </td>\n",
       "        </tr>\n",
       "        <tr>\n",
       "            <td>iPhone 12         </td> <td>799  </td> <td>6.1        </td> <td>10   </td> <td>San Francisco</td>\n",
       "        </tr>\n",
       "    </tbody>\n",
       "</table>"
      ],
      "text/plain": [
       "Model              | Price | Screen Size | Units | Store\n",
       "OnePlus 8          | 699   | 6.6         | 100   | Oakland\n",
       "Samsung Galaxy S21 | 799   | 6.2         | 50    | Berkeley\n",
       "iPhone 12          | 799   | 6.1         | 40    | Berkeley\n",
       "iPhone 12          | 799   | 6.1         | 10    | San Francisco"
      ]
     },
     "execution_count": 19,
     "metadata": {},
     "output_type": "execute_result"
    }
   ],
   "source": [
    "phones.join(\"Model\", inventory, \"Handset\") # Join the `phones` and `inventory` tables in the way that makes most sense\n"
   ]
  },
  {
   "cell_type": "code",
   "execution_count": 6,
   "metadata": {},
   "outputs": [
    {
     "data": {
      "text/html": [
       "<table border=\"1\" class=\"dataframe\">\n",
       "    <thead>\n",
       "        <tr>\n",
       "            <th>Handset</th> <th>Units</th> <th>Store</th> <th>Price</th> <th>Screen Size</th>\n",
       "        </tr>\n",
       "    </thead>\n",
       "    <tbody>\n",
       "        <tr>\n",
       "            <td>OnePlus 8         </td> <td>100  </td> <td>Oakland      </td> <td>699  </td> <td>6.6        </td>\n",
       "        </tr>\n",
       "        <tr>\n",
       "            <td>Samsung Galaxy S21</td> <td>50   </td> <td>Berkeley     </td> <td>799  </td> <td>6.2        </td>\n",
       "        </tr>\n",
       "        <tr>\n",
       "            <td>iPhone 12         </td> <td>40   </td> <td>Berkeley     </td> <td>799  </td> <td>6.1        </td>\n",
       "        </tr>\n",
       "        <tr>\n",
       "            <td>iPhone 12         </td> <td>10   </td> <td>San Francisco</td> <td>799  </td> <td>6.1        </td>\n",
       "        </tr>\n",
       "    </tbody>\n",
       "</table>"
      ],
      "text/plain": [
       "Handset            | Units | Store         | Price | Screen Size\n",
       "OnePlus 8          | 100   | Oakland       | 699   | 6.6\n",
       "Samsung Galaxy S21 | 50    | Berkeley      | 799   | 6.2\n",
       "iPhone 12          | 40    | Berkeley      | 799   | 6.1\n",
       "iPhone 12          | 10    | San Francisco | 799   | 6.1"
      ]
     },
     "execution_count": 6,
     "metadata": {},
     "output_type": "execute_result"
    }
   ],
   "source": [
    "inventory.join(\"Handset\", phones, \"Model\") # Try switching the order of the arguments in `.join` to see if you get the same result"
   ]
  },
  {
   "cell_type": "markdown",
   "metadata": {},
   "source": [
    "Notice that when we switch around the arguments to `.join`, we get the same information, just in a different order. **This will not always be the case**."
   ]
  },
  {
   "cell_type": "code",
   "execution_count": 45,
   "metadata": {},
   "outputs": [
    {
     "data": {
      "text/plain": [
       "'Samsung Galaxy S21'"
      ]
     },
     "execution_count": 45,
     "metadata": {},
     "output_type": "execute_result"
    }
   ],
   "source": [
    "inventory.row(0).item(\"Handset\")"
   ]
  },
  {
   "cell_type": "markdown",
   "metadata": {},
   "source": [
    "Using our joined table, we can calculate our revenue if we sold all of our phones."
   ]
  },
  {
   "cell_type": "code",
   "execution_count": 25,
   "metadata": {},
   "outputs": [
    {
     "data": {
      "text/plain": [
       "array([69900, 39950, 31960,  7990])"
      ]
     },
     "execution_count": 25,
     "metadata": {},
     "output_type": "execute_result"
    }
   ],
   "source": [
    "revenue = store.column(\"Price\") * store.column(\"Units\") # Create an array of the revenue for each phone model if all phones were sold\n",
    "revenue"
   ]
  },
  {
   "cell_type": "code",
   "execution_count": 28,
   "metadata": {},
   "outputs": [
    {
     "data": {
      "text/plain": [
       "149800"
      ]
     },
     "execution_count": 28,
     "metadata": {},
     "output_type": "execute_result"
    }
   ],
   "source": [
    "np.sum(revenue) # Calculate the total revenue we would generate if we sold all of our phones"
   ]
  },
  {
   "cell_type": "markdown",
   "metadata": {},
   "source": [
    "### Quick Check 1"
   ]
  },
  {
   "cell_type": "code",
   "execution_count": 20,
   "metadata": {},
   "outputs": [],
   "source": [
    "contacts = Table().with_columns(\n",
    "    'Name', np.array(['Roxanne', 'Sandy', 'Stan', 'Tomas', 'Wilma']),\n",
    "    'Email', np.array(['roxanne@berkeley.edu', 'sandy@nyu.edu', 'stan.vg@gmail.com', 'tomastrain@umich.edu', 'wilma@columbia.edu']),\n",
    "    'Area Code', np.array([510, 212, 734, 734, 212]),\n",
    ")\n",
    "\n",
    "codes = Table().with_columns(\n",
    "    'Code', np.array([212, 310, 519, 734]),\n",
    "    'Region', np.array(['New York City', 'Los Angeles', 'Ontario, Canada', 'Metro Detroit'])\n",
    ")"
   ]
  },
  {
   "cell_type": "code",
   "execution_count": 21,
   "metadata": {},
   "outputs": [
    {
     "data": {
      "text/html": [
       "<table border=\"1\" class=\"dataframe\">\n",
       "    <thead>\n",
       "        <tr>\n",
       "            <th>Name</th> <th>Email</th> <th>Area Code</th>\n",
       "        </tr>\n",
       "    </thead>\n",
       "    <tbody>\n",
       "        <tr>\n",
       "            <td>Roxanne</td> <td>roxanne@berkeley.edu</td> <td>510      </td>\n",
       "        </tr>\n",
       "        <tr>\n",
       "            <td>Sandy  </td> <td>sandy@nyu.edu       </td> <td>212      </td>\n",
       "        </tr>\n",
       "        <tr>\n",
       "            <td>Stan   </td> <td>stan.vg@gmail.com   </td> <td>734      </td>\n",
       "        </tr>\n",
       "        <tr>\n",
       "            <td>Tomas  </td> <td>tomastrain@umich.edu</td> <td>734      </td>\n",
       "        </tr>\n",
       "        <tr>\n",
       "            <td>Wilma  </td> <td>wilma@columbia.edu  </td> <td>212      </td>\n",
       "        </tr>\n",
       "    </tbody>\n",
       "</table>"
      ],
      "text/plain": [
       "Name    | Email                | Area Code\n",
       "Roxanne | roxanne@berkeley.edu | 510\n",
       "Sandy   | sandy@nyu.edu        | 212\n",
       "Stan    | stan.vg@gmail.com    | 734\n",
       "Tomas   | tomastrain@umich.edu | 734\n",
       "Wilma   | wilma@columbia.edu   | 212"
      ]
     },
     "execution_count": 21,
     "metadata": {},
     "output_type": "execute_result"
    }
   ],
   "source": [
    "contacts"
   ]
  },
  {
   "cell_type": "code",
   "execution_count": 22,
   "metadata": {},
   "outputs": [
    {
     "data": {
      "text/html": [
       "<table border=\"1\" class=\"dataframe\">\n",
       "    <thead>\n",
       "        <tr>\n",
       "            <th>Code</th> <th>Region</th>\n",
       "        </tr>\n",
       "    </thead>\n",
       "    <tbody>\n",
       "        <tr>\n",
       "            <td>212 </td> <td>New York City  </td>\n",
       "        </tr>\n",
       "        <tr>\n",
       "            <td>310 </td> <td>Los Angeles    </td>\n",
       "        </tr>\n",
       "        <tr>\n",
       "            <td>519 </td> <td>Ontario, Canada</td>\n",
       "        </tr>\n",
       "        <tr>\n",
       "            <td>734 </td> <td>Metro Detroit  </td>\n",
       "        </tr>\n",
       "    </tbody>\n",
       "</table>"
      ],
      "text/plain": [
       "Code | Region\n",
       "212  | New York City\n",
       "310  | Los Angeles\n",
       "519  | Ontario, Canada\n",
       "734  | Metro Detroit"
      ]
     },
     "execution_count": 22,
     "metadata": {},
     "output_type": "execute_result"
    }
   ],
   "source": [
    "codes"
   ]
  },
  {
   "cell_type": "markdown",
   "metadata": {},
   "source": [
    "Consider the tables `contacts` and `codes`.\n",
    "\n",
    "1. Fill in the blanks of the code below to join the two tables in the way that feels most natural.\n",
    "2. Before running your code, think about how many rows and columns will be in the resulting table."
   ]
  },
  {
   "cell_type": "code",
   "execution_count": 29,
   "metadata": {},
   "outputs": [
    {
     "data": {
      "text/html": [
       "<table border=\"1\" class=\"dataframe\">\n",
       "    <thead>\n",
       "        <tr>\n",
       "            <th>Area Code</th> <th>Name</th> <th>Email</th> <th>Region</th>\n",
       "        </tr>\n",
       "    </thead>\n",
       "    <tbody>\n",
       "        <tr>\n",
       "            <td>212      </td> <td>Sandy</td> <td>sandy@nyu.edu       </td> <td>New York City</td>\n",
       "        </tr>\n",
       "        <tr>\n",
       "            <td>212      </td> <td>Wilma</td> <td>wilma@columbia.edu  </td> <td>New York City</td>\n",
       "        </tr>\n",
       "        <tr>\n",
       "            <td>734      </td> <td>Stan </td> <td>stan.vg@gmail.com   </td> <td>Metro Detroit</td>\n",
       "        </tr>\n",
       "        <tr>\n",
       "            <td>734      </td> <td>Tomas</td> <td>tomastrain@umich.edu</td> <td>Metro Detroit</td>\n",
       "        </tr>\n",
       "    </tbody>\n",
       "</table>"
      ],
      "text/plain": [
       "Area Code | Name  | Email                | Region\n",
       "212       | Sandy | sandy@nyu.edu        | New York City\n",
       "212       | Wilma | wilma@columbia.edu   | New York City\n",
       "734       | Stan  | stan.vg@gmail.com    | Metro Detroit\n",
       "734       | Tomas | tomastrain@umich.edu | Metro Detroit"
      ]
     },
     "execution_count": 29,
     "metadata": {},
     "output_type": "execute_result"
    }
   ],
   "source": [
    "contacts.join(\"Area Code\", codes, \"Code\") # Replace the blanks with your answers"
   ]
  },
  {
   "cell_type": "markdown",
   "metadata": {},
   "source": [
    "### Followup"
   ]
  },
  {
   "cell_type": "markdown",
   "metadata": {},
   "source": [
    "Suppose we were not careful and mistyped the Los Angeles area code 213 as 212 in the `extra_codes` table below."
   ]
  },
  {
   "cell_type": "code",
   "execution_count": 30,
   "metadata": {},
   "outputs": [],
   "source": [
    "extra_codes = Table().with_columns(\n",
    "    'Code', np.array([212, 212, 519, 734]),\n",
    "    'Region', np.array(['New York City', 'Los Angeles', 'Ontario, Canada', 'Metro Detroit'])\n",
    ")"
   ]
  },
  {
   "cell_type": "code",
   "execution_count": 31,
   "metadata": {},
   "outputs": [
    {
     "data": {
      "text/html": [
       "<table border=\"1\" class=\"dataframe\">\n",
       "    <thead>\n",
       "        <tr>\n",
       "            <th>Name</th> <th>Email</th> <th>Area Code</th>\n",
       "        </tr>\n",
       "    </thead>\n",
       "    <tbody>\n",
       "        <tr>\n",
       "            <td>Roxanne</td> <td>roxanne@berkeley.edu</td> <td>510      </td>\n",
       "        </tr>\n",
       "        <tr>\n",
       "            <td>Sandy  </td> <td>sandy@nyu.edu       </td> <td>212      </td>\n",
       "        </tr>\n",
       "        <tr>\n",
       "            <td>Stan   </td> <td>stan.vg@gmail.com   </td> <td>734      </td>\n",
       "        </tr>\n",
       "        <tr>\n",
       "            <td>Tomas  </td> <td>tomastrain@umich.edu</td> <td>734      </td>\n",
       "        </tr>\n",
       "        <tr>\n",
       "            <td>Wilma  </td> <td>wilma@columbia.edu  </td> <td>212      </td>\n",
       "        </tr>\n",
       "    </tbody>\n",
       "</table>"
      ],
      "text/plain": [
       "Name    | Email                | Area Code\n",
       "Roxanne | roxanne@berkeley.edu | 510\n",
       "Sandy   | sandy@nyu.edu        | 212\n",
       "Stan    | stan.vg@gmail.com    | 734\n",
       "Tomas   | tomastrain@umich.edu | 734\n",
       "Wilma   | wilma@columbia.edu   | 212"
      ]
     },
     "execution_count": 31,
     "metadata": {},
     "output_type": "execute_result"
    }
   ],
   "source": [
    "contacts"
   ]
  },
  {
   "cell_type": "code",
   "execution_count": 32,
   "metadata": {},
   "outputs": [
    {
     "data": {
      "text/html": [
       "<table border=\"1\" class=\"dataframe\">\n",
       "    <thead>\n",
       "        <tr>\n",
       "            <th>Code</th> <th>Region</th>\n",
       "        </tr>\n",
       "    </thead>\n",
       "    <tbody>\n",
       "        <tr>\n",
       "            <td>212 </td> <td>New York City  </td>\n",
       "        </tr>\n",
       "        <tr>\n",
       "            <td>212 </td> <td>Los Angeles    </td>\n",
       "        </tr>\n",
       "        <tr>\n",
       "            <td>519 </td> <td>Ontario, Canada</td>\n",
       "        </tr>\n",
       "        <tr>\n",
       "            <td>734 </td> <td>Metro Detroit  </td>\n",
       "        </tr>\n",
       "    </tbody>\n",
       "</table>"
      ],
      "text/plain": [
       "Code | Region\n",
       "212  | New York City\n",
       "212  | Los Angeles\n",
       "519  | Ontario, Canada\n",
       "734  | Metro Detroit"
      ]
     },
     "execution_count": 32,
     "metadata": {},
     "output_type": "execute_result"
    }
   ],
   "source": [
    "extra_codes"
   ]
  },
  {
   "cell_type": "markdown",
   "metadata": {},
   "source": [
    "Now, when we join the `contacts` table with the `extra_codes` table, we will get multiple entries for the same person. This is unnatural, but is how `.join` works!"
   ]
  },
  {
   "cell_type": "code",
   "execution_count": 33,
   "metadata": {},
   "outputs": [
    {
     "data": {
      "text/html": [
       "<table border=\"1\" class=\"dataframe\">\n",
       "    <thead>\n",
       "        <tr>\n",
       "            <th>Area Code</th> <th>Name</th> <th>Email</th> <th>Region</th>\n",
       "        </tr>\n",
       "    </thead>\n",
       "    <tbody>\n",
       "        <tr>\n",
       "            <td>212      </td> <td>Sandy</td> <td>sandy@nyu.edu       </td> <td>New York City</td>\n",
       "        </tr>\n",
       "        <tr>\n",
       "            <td>212      </td> <td>Sandy</td> <td>sandy@nyu.edu       </td> <td>Los Angeles  </td>\n",
       "        </tr>\n",
       "        <tr>\n",
       "            <td>212      </td> <td>Wilma</td> <td>wilma@columbia.edu  </td> <td>New York City</td>\n",
       "        </tr>\n",
       "        <tr>\n",
       "            <td>212      </td> <td>Wilma</td> <td>wilma@columbia.edu  </td> <td>Los Angeles  </td>\n",
       "        </tr>\n",
       "        <tr>\n",
       "            <td>734      </td> <td>Stan </td> <td>stan.vg@gmail.com   </td> <td>Metro Detroit</td>\n",
       "        </tr>\n",
       "        <tr>\n",
       "            <td>734      </td> <td>Tomas</td> <td>tomastrain@umich.edu</td> <td>Metro Detroit</td>\n",
       "        </tr>\n",
       "    </tbody>\n",
       "</table>"
      ],
      "text/plain": [
       "Area Code | Name  | Email                | Region\n",
       "212       | Sandy | sandy@nyu.edu        | New York City\n",
       "212       | Sandy | sandy@nyu.edu        | Los Angeles\n",
       "212       | Wilma | wilma@columbia.edu   | New York City\n",
       "212       | Wilma | wilma@columbia.edu   | Los Angeles\n",
       "734       | Stan  | stan.vg@gmail.com    | Metro Detroit\n",
       "734       | Tomas | tomastrain@umich.edu | Metro Detroit"
      ]
     },
     "execution_count": 33,
     "metadata": {},
     "output_type": "execute_result"
    }
   ],
   "source": [
    "contacts.join('Area Code', extra_codes, 'Code')"
   ]
  },
  {
   "cell_type": "markdown",
   "metadata": {},
   "source": [
    "### Disclaimer"
   ]
  },
  {
   "cell_type": "markdown",
   "metadata": {},
   "source": [
    "When a join produces no matches between the two tables, the resulting table will be blank. "
   ]
  },
  {
   "cell_type": "code",
   "execution_count": 14,
   "metadata": {},
   "outputs": [],
   "source": [
    "# No output – because there are no matches between\n",
    "# the 'Name' column in contacts and the 'Code' column in codes\n",
    "contacts.join('Name', codes, 'Code')"
   ]
  },
  {
   "cell_type": "markdown",
   "metadata": {},
   "source": [
    "## Other Tools"
   ]
  },
  {
   "cell_type": "markdown",
   "metadata": {},
   "source": [
    "## `.row`"
   ]
  },
  {
   "cell_type": "markdown",
   "metadata": {},
   "source": [
    "Since each row in a table contains values of different data types, we cannot store this information as an array (since arrays have to contain values of the same data type). Instead, Python uses a `Row` data type to store the information in rows."
   ]
  },
  {
   "cell_type": "code",
   "execution_count": 34,
   "metadata": {
    "scrolled": true
   },
   "outputs": [
    {
     "data": {
      "text/html": [
       "<table border=\"1\" class=\"dataframe\">\n",
       "    <thead>\n",
       "        <tr>\n",
       "            <th>Model</th> <th>Price</th> <th>Screen Size</th>\n",
       "        </tr>\n",
       "    </thead>\n",
       "    <tbody>\n",
       "        <tr>\n",
       "            <td>iPhone 12         </td> <td>799  </td> <td>6.1        </td>\n",
       "        </tr>\n",
       "        <tr>\n",
       "            <td>iPhone 12 Pro Max </td> <td>1099 </td> <td>6.7        </td>\n",
       "        </tr>\n",
       "        <tr>\n",
       "            <td>Samsung Galaxy S21</td> <td>799  </td> <td>6.2        </td>\n",
       "        </tr>\n",
       "        <tr>\n",
       "            <td>OnePlus 8         </td> <td>699  </td> <td>6.6        </td>\n",
       "        </tr>\n",
       "    </tbody>\n",
       "</table>"
      ],
      "text/plain": [
       "Model              | Price | Screen Size\n",
       "iPhone 12          | 799   | 6.1\n",
       "iPhone 12 Pro Max  | 1099  | 6.7\n",
       "Samsung Galaxy S21 | 799   | 6.2\n",
       "OnePlus 8          | 699   | 6.6"
      ]
     },
     "execution_count": 34,
     "metadata": {},
     "output_type": "execute_result"
    }
   ],
   "source": [
    "phones"
   ]
  },
  {
   "cell_type": "markdown",
   "metadata": {},
   "source": [
    "Use can extract a particular `Row` from a table using `tbl.row(index)`. Note that this is **not** the same as `tbl.take(index)`, which returns a `Table`."
   ]
  },
  {
   "cell_type": "code",
   "execution_count": 36,
   "metadata": {},
   "outputs": [
    {
     "data": {
      "text/plain": [
       "Row(Model='iPhone 12 Pro Max', Price=1099, Screen Size=6.7000000000000002)"
      ]
     },
     "execution_count": 36,
     "metadata": {},
     "output_type": "execute_result"
    }
   ],
   "source": [
    "phones.row(1) # Get the second row in `phones` as a Row object"
   ]
  },
  {
   "cell_type": "code",
   "execution_count": 43,
   "metadata": {},
   "outputs": [
    {
     "data": {
      "text/plain": [
       "datascience.tables.Row"
      ]
     },
     "execution_count": 43,
     "metadata": {},
     "output_type": "execute_result"
    }
   ],
   "source": [
    "type(phones.row(1))"
   ]
  },
  {
   "cell_type": "code",
   "execution_count": 38,
   "metadata": {},
   "outputs": [
    {
     "data": {
      "text/plain": [
       "datascience.tables.Table"
      ]
     },
     "execution_count": 38,
     "metadata": {},
     "output_type": "execute_result"
    }
   ],
   "source": [
    "type(phones.take(1))"
   ]
  },
  {
   "cell_type": "code",
   "execution_count": 39,
   "metadata": {},
   "outputs": [
    {
     "data": {
      "text/plain": [
       "1099"
      ]
     },
     "execution_count": 39,
     "metadata": {},
     "output_type": "execute_result"
    }
   ],
   "source": [
    "phones.row(1).item(1)"
   ]
  },
  {
   "cell_type": "markdown",
   "metadata": {},
   "source": [
    "You _can_ convert a `Row` to an array, but it will do so by converting all values in the row to one data type. Not ideal!"
   ]
  },
  {
   "cell_type": "code",
   "execution_count": null,
   "metadata": {},
   "outputs": [],
   "source": [
    "... # Convert the last row of `phones` to an array"
   ]
  },
  {
   "cell_type": "markdown",
   "metadata": {},
   "source": [
    "## `.with_rows`"
   ]
  },
  {
   "cell_type": "markdown",
   "metadata": {},
   "source": [
    "If you want to add a single row to an existing table, you can do so with `tbl.with_row(row_list)`. This table method must take a `list`, which is similar to an array but can hold values of multipledata types. We won't use this method often, but it's still good to know!"
   ]
  },
  {
   "cell_type": "code",
   "execution_count": null,
   "metadata": {},
   "outputs": [],
   "source": [
    "... # Add a row to `phones` with the following attributes: Name:'iPhone 12 Mini', Price: 699, Screen Size: 5.8"
   ]
  },
  {
   "cell_type": "code",
   "execution_count": null,
   "metadata": {},
   "outputs": [],
   "source": [
    "... # Add two rows to `phones` with the following attributes:\n",
    "    # Row 1 - Name: 'iPhone 12 Mini', Price: 699, Screen Size: 5.8\n",
    "    # Row 2 - Name: 'Moto RAZR', Price: 459, Screen Size: 3.5"
   ]
  }
 ],
 "metadata": {
  "kernelspec": {
   "display_name": "Python 3 (ipykernel)",
   "language": "python",
   "name": "python3"
  },
  "language_info": {
   "codemirror_mode": {
    "name": "ipython",
    "version": 3
   },
   "file_extension": ".py",
   "mimetype": "text/x-python",
   "name": "python",
   "nbconvert_exporter": "python",
   "pygments_lexer": "ipython3",
   "version": "3.11.10"
  }
 },
 "nbformat": 4,
 "nbformat_minor": 4
}
