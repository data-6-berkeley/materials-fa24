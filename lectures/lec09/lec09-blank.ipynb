{
 "cells": [
  {
   "cell_type": "markdown",
   "metadata": {},
   "source": [
    "# Lecture 09 - Applying\n",
    "\n",
    "## Data 6, Fall 2024"
   ]
  },
  {
   "cell_type": "code",
   "execution_count": 1,
   "metadata": {},
   "outputs": [],
   "source": [
    "from datascience import *\n",
    "import numpy as np"
   ]
  },
  {
   "cell_type": "markdown",
   "metadata": {},
   "source": [
    "## Motivation"
   ]
  },
  {
   "cell_type": "markdown",
   "metadata": {},
   "source": [
    "Until now, we've primarily worked with just the data we've been given in our tables. However, oftentimes some of our data needs to be manipulated or \"cleaned\" before we can work with it to infer things about the world.\n",
    "\n",
    "For example, we have been given this table of dogs and their ages in 'human years'. While this may be useful in some contexts, what if we want to know each dog's age in 'dog years'. For this example, we will use the (incorrect) conversion of one human year being equivalent to 7 dogs years — you can read about a more accurate conversion [here](https://pets.webmd.com/dogs/how-to-calculate-your-dogs-age)."
   ]
  },
  {
   "cell_type": "code",
   "execution_count": 2,
   "metadata": {},
   "outputs": [],
   "source": [
    "pups = Table.read_table('data/pups.csv')"
   ]
  },
  {
   "cell_type": "code",
   "execution_count": 8,
   "metadata": {
    "scrolled": true
   },
   "outputs": [
    {
     "data": {
      "text/html": [
       "<table border=\"1\" class=\"dataframe\">\n",
       "    <thead>\n",
       "        <tr>\n",
       "            <th>Name</th> <th>Method of Selection</th> <th>Birthday</th> <th>Magic Year</th> <th>Age in Magic Year</th>\n",
       "        </tr>\n",
       "    </thead>\n",
       "    <tbody>\n",
       "        <tr>\n",
       "            <td>Beth </td> <td>Random             </td> <td>2003-05-23</td> <td>2003      </td> <td>0                </td>\n",
       "        </tr>\n",
       "        <tr>\n",
       "            <td>Chand</td> <td>Random             </td> <td>2008-01-01</td> <td>2068      </td> <td>60               </td>\n",
       "        </tr>\n",
       "    </tbody>\n",
       "</table>"
      ],
      "text/plain": [
       "Name  | Method of Selection | Birthday   | Magic Year | Age in Magic Year\n",
       "Beth  | Random              | 2003-05-23 | 2003       | 0\n",
       "Chand | Random              | 2008-01-01 | 2068       | 60"
      ]
     },
     "execution_count": 8,
     "metadata": {},
     "output_type": "execute_result"
    }
   ],
   "source": [
    "tbl = Table().with_columns(\"Name\",\n",
    "                           make_array(\"Arthur\", \"Beth\", \"Chand\"),\n",
    "                           \"Birthday\",\n",
    "                           make_array(\"1987-04-01\", \"2003-05-23\", \"2008-01-01\"),\n",
    "                           \"Magic Year\", make_array(\"1980\", \"2003\", \"2068\"))\n",
    "data_methods = Table().with_columns(\"Name\", make_array(\"Beth\", \"Chand\", \"Arthur\"),\n",
    "                                    \"Method of Selection\", make_array(\"Random\", \"Random\", \"Lucky Number\"))\n",
    "\n",
    "def age_in_given_year(year, birthday):\n",
    "    str_year, str_month, str_day = birthday.split(\"-\")\n",
    "    return int(year) - int(str_year)\n",
    "update = tbl.with_column(\"Age in Magic Year\", tbl.apply(age_in_given_year, \"Magic Year\", \"Birthday\"))\n",
    "\n",
    "data_magic = update.where(\"Age in Magic Year\", are.above_or_equal_to(0))\n",
    "\n",
    "data_methods.join(\"Name\", data_magic)"
   ]
  },
  {
   "cell_type": "code",
   "execution_count": null,
   "metadata": {},
   "outputs": [],
   "source": [
    "#CELL A\n",
    "num_tries = 0"
   ]
  },
  {
   "cell_type": "code",
   "execution_count": null,
   "metadata": {},
   "outputs": [],
   "source": [
    "#CELL B\n",
    "def draw_triangle():\n",
    "    print(\"  *  \")\n",
    "    print(\" *** \")\n",
    "    print(\"*****\")\n",
    "\n",
    "num_tries = num_tries + 1"
   ]
  },
  {
   "cell_type": "markdown",
   "metadata": {},
   "source": [
    "We already know how to convert the column `age` to dog years using **array arithmetic**. We can then add this new array as a new column in our table."
   ]
  },
  {
   "cell_type": "code",
   "execution_count": null,
   "metadata": {},
   "outputs": [],
   "source": [
    "... # Add a new column to `pups` called `dog years` that contains each dog's age in dog years (human years * 7)"
   ]
  },
  {
   "cell_type": "markdown",
   "metadata": {},
   "source": [
    "## Apply"
   ]
  },
  {
   "cell_type": "markdown",
   "metadata": {},
   "source": [
    "Now that we know how to write our own functions, we can leverage these functions to manipulate our tables in particular ways. This is really useful if we want to extract or convert data in our table to generate new insights about it.\n",
    "\n",
    "We can use `tbl.apply(col, func)` to **apply** the function `func` to the column `col`. This creates an array when each item is the result of evaluating `func` with the corresponding item in `col` as the input. This essentially allows you to do multiple function calls all at the same time."
   ]
  },
  {
   "cell_type": "code",
   "execution_count": 4,
   "metadata": {},
   "outputs": [],
   "source": [
    "def seven_times(x):\n",
    "    return 7 * x"
   ]
  },
  {
   "cell_type": "code",
   "execution_count": null,
   "metadata": {},
   "outputs": [],
   "source": [
    "... # Apply the `seven_times` function to the column `age` in the `pups` table"
   ]
  },
  {
   "cell_type": "markdown",
   "metadata": {},
   "source": [
    "Note, we wouldn't actually use the above example with `.apply` since we could just write `pups.column('age') * 7`.\n",
    "\n",
    "Here's a more useful example:"
   ]
  },
  {
   "cell_type": "code",
   "execution_count": 6,
   "metadata": {},
   "outputs": [],
   "source": [
    "def email_from_name(name):\n",
    "    first, last = name.split(' ')\n",
    "    email = first + '.' + last + '@dogschool.edu'\n",
    "    return email.lower()"
   ]
  },
  {
   "cell_type": "code",
   "execution_count": 7,
   "metadata": {},
   "outputs": [
    {
     "data": {
      "text/plain": [
       "'champ.major@dogschool.edu'"
      ]
     },
     "execution_count": 7,
     "metadata": {},
     "output_type": "execute_result"
    }
   ],
   "source": [
    "# Can use email_from_name on a single argument\n",
    "email_from_name('Champ Major')"
   ]
  },
  {
   "cell_type": "code",
   "execution_count": 13,
   "metadata": {},
   "outputs": [],
   "source": [
    "emails = pups.apply(email_from_name, 'name')"
   ]
  },
  {
   "cell_type": "code",
   "execution_count": 14,
   "metadata": {},
   "outputs": [
    {
     "data": {
      "text/html": [
       "<table border=\"1\" class=\"dataframe\">\n",
       "    <thead>\n",
       "        <tr>\n",
       "            <th>name</th> <th>age</th> <th>size</th> <th>Email Address</th>\n",
       "        </tr>\n",
       "    </thead>\n",
       "    <tbody>\n",
       "        <tr>\n",
       "            <td>Junior Smith</td> <td>11  </td> <td>medium</td> <td>junior.smith@dogschool.edu</td>\n",
       "        </tr>\n",
       "        <tr>\n",
       "            <td>Rex Rogers  </td> <td>7   </td> <td>big   </td> <td>rex.rogers@dogschool.edu  </td>\n",
       "        </tr>\n",
       "        <tr>\n",
       "            <td>Flash Heat  </td> <td>3   </td> <td>big   </td> <td>flash.heat@dogschool.edu  </td>\n",
       "        </tr>\n",
       "        <tr>\n",
       "            <td>Reese Bo    </td> <td>4   </td> <td>medium</td> <td>reese.bo@dogschool.edu    </td>\n",
       "        </tr>\n",
       "        <tr>\n",
       "            <td>Polo Cash   </td> <td>2   </td> <td>small </td> <td>polo.cash@dogschool.edu   </td>\n",
       "        </tr>\n",
       "    </tbody>\n",
       "</table>"
      ],
      "text/plain": [
       "name         | age  | size   | Email Address\n",
       "Junior Smith | 11   | medium | junior.smith@dogschool.edu\n",
       "Rex Rogers   | 7    | big    | rex.rogers@dogschool.edu\n",
       "Flash Heat   | 3    | big    | flash.heat@dogschool.edu\n",
       "Reese Bo     | 4    | medium | reese.bo@dogschool.edu\n",
       "Polo Cash    | 2    | small  | polo.cash@dogschool.edu"
      ]
     },
     "execution_count": 14,
     "metadata": {},
     "output_type": "execute_result"
    }
   ],
   "source": [
    "pups.with_column(\"Email Address\", emails)"
   ]
  },
  {
   "cell_type": "markdown",
   "metadata": {},
   "source": [
    "Notice how fast and easy that was!"
   ]
  },
  {
   "cell_type": "markdown",
   "metadata": {},
   "source": [
    "### Quick Check 1"
   ]
  },
  {
   "cell_type": "code",
   "execution_count": 27,
   "metadata": {},
   "outputs": [
    {
     "ename": "AttributeError",
     "evalue": "'numpy.ndarray' object has no attribute 'apply'",
     "output_type": "error",
     "traceback": [
      "\u001b[0;31m---------------------------------------------------------------------------\u001b[0m",
      "\u001b[0;31mAttributeError\u001b[0m                            Traceback (most recent call last)",
      "Cell \u001b[0;32mIn[27], line 2\u001b[0m\n\u001b[1;32m      1\u001b[0m arr \u001b[38;5;241m=\u001b[39m make_array(\u001b[38;5;241m1\u001b[39m, \u001b[38;5;241m2\u001b[39m, \u001b[38;5;241m3\u001b[39m)\n\u001b[0;32m----> 2\u001b[0m int_arr \u001b[38;5;241m=\u001b[39m \u001b[43marr\u001b[49m\u001b[38;5;241;43m.\u001b[39;49m\u001b[43mapply\u001b[49m(\u001b[38;5;28mint\u001b[39m, arr)\n",
      "\u001b[0;31mAttributeError\u001b[0m: 'numpy.ndarray' object has no attribute 'apply'"
     ]
    }
   ],
   "source": [
    "arr = make_array(1, 2, 3)\n",
    "int_arr = arr.apply(int, arr)"
   ]
  },
  {
   "cell_type": "code",
   "execution_count": 20,
   "metadata": {},
   "outputs": [
    {
     "data": {
      "text/html": [
       "<table border=\"1\" class=\"dataframe\">\n",
       "    <thead>\n",
       "        <tr>\n",
       "            <th>first</th> <th>last</th> <th>title</th> <th>gross</th>\n",
       "        </tr>\n",
       "    </thead>\n",
       "    <tbody>\n",
       "        <tr>\n",
       "            <td> ELIZABETH</td> <td>ABEL      </td> <td>PROF-AY              </td> <td>138,775</td>\n",
       "        </tr>\n",
       "        <tr>\n",
       "            <td> NORMAN   </td> <td>ABRAHAMSON</td> <td>ADJ PROF-AY-1/9-B/E/E</td> <td>19,668 </td>\n",
       "        </tr>\n",
       "        <tr>\n",
       "            <td> BARBARA  </td> <td>ABRAMS    </td> <td>PROF-AY              </td> <td>191,162</td>\n",
       "        </tr>\n",
       "        <tr>\n",
       "            <td> ILAN     </td> <td>ADLER     </td> <td>PROF-AY-B/E/E        </td> <td>166,617</td>\n",
       "        </tr>\n",
       "        <tr>\n",
       "            <td> VINOD    </td> <td>AGGARWAL  </td> <td>PROF-AY              </td> <td>167,525</td>\n",
       "        </tr>\n",
       "        <tr>\n",
       "            <td> ALICE    </td> <td>AGOGINO   </td> <td>PROF-AY-B/E/E        </td> <td>243,259</td>\n",
       "        </tr>\n",
       "        <tr>\n",
       "            <td> DAVID    </td> <td>ALDOUS    </td> <td>PROF-AY              </td> <td>218,666</td>\n",
       "        </tr>\n",
       "        <tr>\n",
       "            <td> RONELLE  </td> <td>ALEXANDER </td> <td>PROF-AY              </td> <td>167,642</td>\n",
       "        </tr>\n",
       "        <tr>\n",
       "            <td> NEZAR    </td> <td>ALSAYYAD  </td> <td>PROF-AY              </td> <td>210,389</td>\n",
       "        </tr>\n",
       "        <tr>\n",
       "            <td> GENEVIEVE</td> <td>AMES      </td> <td>ADJ PROF-AY          </td> <td>9,783  </td>\n",
       "        </tr>\n",
       "    </tbody>\n",
       "</table>\n",
       "<p>... (17564 rows omitted)</p>"
      ],
      "text/plain": [
       "first      | last       | title                 | gross\n",
       " ELIZABETH | ABEL       | PROF-AY               | 138,775\n",
       " NORMAN    | ABRAHAMSON | ADJ PROF-AY-1/9-B/E/E | 19,668\n",
       " BARBARA   | ABRAMS     | PROF-AY               | 191,162\n",
       " ILAN      | ADLER      | PROF-AY-B/E/E         | 166,617\n",
       " VINOD     | AGGARWAL   | PROF-AY               | 167,525\n",
       " ALICE     | AGOGINO    | PROF-AY-B/E/E         | 243,259\n",
       " DAVID     | ALDOUS     | PROF-AY               | 218,666\n",
       " RONELLE   | ALEXANDER  | PROF-AY               | 167,642\n",
       " NEZAR     | ALSAYYAD   | PROF-AY               | 210,389\n",
       " GENEVIEVE | AMES       | ADJ PROF-AY           | 9,783\n",
       "... (17564 rows omitted)"
      ]
     },
     "execution_count": 20,
     "metadata": {},
     "output_type": "execute_result"
    }
   ],
   "source": [
    "profs = salary.select('first', 'last', 'title', 'gross').where('title', are.containing('PROF'))\n",
    "profs"
   ]
  },
  {
   "cell_type": "markdown",
   "metadata": {},
   "source": [
    "Look at the very last row of the output – that gross income doesn't look right."
   ]
  },
  {
   "cell_type": "code",
   "execution_count": 21,
   "metadata": {
    "scrolled": true
   },
   "outputs": [
    {
     "data": {
      "text/html": [
       "<table border=\"1\" class=\"dataframe\">\n",
       "    <thead>\n",
       "        <tr>\n",
       "            <th>first</th> <th>last</th> <th>title</th> <th>gross</th>\n",
       "        </tr>\n",
       "    </thead>\n",
       "    <tbody>\n",
       "        <tr>\n",
       "            <td>STEVEN H   </td> <td>APPLEBAUM</td> <td>HS ASSOC CLIN PROF-HCOMP</td> <td>999,756</td>\n",
       "        </tr>\n",
       "        <tr>\n",
       "            <td>JOHN A     </td> <td>GLASPY   </td> <td>PROF-HCOMP              </td> <td>999,631</td>\n",
       "        </tr>\n",
       "        <tr>\n",
       "            <td>FRANK P.K. </td> <td>HSU      </td> <td>PROF OF CLIN-HCOMP      </td> <td>998,340</td>\n",
       "        </tr>\n",
       "        <tr>\n",
       "            <td>JOHN STUART</td> <td>NELSON   </td> <td>PROF-HCOMP              </td> <td>997,975</td>\n",
       "        </tr>\n",
       "        <tr>\n",
       "            <td>HANMIN     </td> <td>LEE      </td> <td>PROF OF CLIN-HCOMP      </td> <td>995,434</td>\n",
       "        </tr>\n",
       "        <tr>\n",
       "            <td>DENNIS J   </td> <td>SLAMON   </td> <td>PROF-HCOMP              </td> <td>991,973</td>\n",
       "        </tr>\n",
       "        <tr>\n",
       "            <td>BENJAMIN J </td> <td>ANSELL   </td> <td>HS CLIN PROF-HCOMP      </td> <td>991,543</td>\n",
       "        </tr>\n",
       "        <tr>\n",
       "            <td>NICHOLAS C </td> <td>SAENZ    </td> <td>HS CLIN PROF-HCOMP      </td> <td>991,463</td>\n",
       "        </tr>\n",
       "        <tr>\n",
       "            <td>JOSEPH F   </td> <td>GRECO    </td> <td>HS ASST CLIN PROF-HCOMP </td> <td>991,458</td>\n",
       "        </tr>\n",
       "        <tr>\n",
       "            <td>OMRI Y.    </td> <td>MARIAN   </td> <td>ACT PROF-AY-LAW         </td> <td>99,997 </td>\n",
       "        </tr>\n",
       "    </tbody>\n",
       "</table>\n",
       "<p>... (17564 rows omitted)</p>"
      ],
      "text/plain": [
       "first       | last      | title                    | gross\n",
       "STEVEN H    | APPLEBAUM | HS ASSOC CLIN PROF-HCOMP | 999,756\n",
       "JOHN A      | GLASPY    | PROF-HCOMP               | 999,631\n",
       "FRANK P.K.  | HSU       | PROF OF CLIN-HCOMP       | 998,340\n",
       "JOHN STUART | NELSON    | PROF-HCOMP               | 997,975\n",
       "HANMIN      | LEE       | PROF OF CLIN-HCOMP       | 995,434\n",
       "DENNIS J    | SLAMON    | PROF-HCOMP               | 991,973\n",
       "BENJAMIN J  | ANSELL    | HS CLIN PROF-HCOMP       | 991,543\n",
       "NICHOLAS C  | SAENZ     | HS CLIN PROF-HCOMP       | 991,463\n",
       "JOSEPH F    | GRECO     | HS ASST CLIN PROF-HCOMP  | 991,458\n",
       "OMRI Y.     | MARIAN    | ACT PROF-AY-LAW          | 99,997\n",
       "... (17564 rows omitted)"
      ]
     },
     "execution_count": 21,
     "metadata": {},
     "output_type": "execute_result"
    }
   ],
   "source": [
    "profs.sort('gross', descending = True)"
   ]
  },
  {
   "cell_type": "markdown",
   "metadata": {},
   "source": [
    "The issue here is that the elements in the `gross` column of the table `profs` right now are strings (instead of integers, which is what we would expect). Fill in the blanks to replace the elements in the `gross` column with integers. _(Hint: use the fix_income function)_"
   ]
  },
  {
   "cell_type": "code",
   "execution_count": 30,
   "metadata": {},
   "outputs": [],
   "source": [
    "def fix_income(income):\n",
    "    return str(income.replace(',', ''))"
   ]
  },
  {
   "cell_type": "code",
   "execution_count": 31,
   "metadata": {},
   "outputs": [
    {
     "ename": "AttributeError",
     "evalue": "'numpy.int64' object has no attribute 'replace'",
     "output_type": "error",
     "traceback": [
      "\u001b[0;31m---------------------------------------------------------------------------\u001b[0m",
      "\u001b[0;31mAttributeError\u001b[0m                            Traceback (most recent call last)",
      "Cell \u001b[0;32mIn[31], line 1\u001b[0m\n\u001b[0;32m----> 1\u001b[0m fixed_income \u001b[38;5;241m=\u001b[39m profs\u001b[38;5;241m.\u001b[39mapply(\u001b[38;5;28mint\u001b[39m, \u001b[43mprofs\u001b[49m\u001b[38;5;241;43m.\u001b[39;49m\u001b[43mapply\u001b[49m\u001b[43m(\u001b[49m\u001b[43mfix_income\u001b[49m\u001b[43m,\u001b[49m\u001b[43m \u001b[49m\u001b[38;5;124;43m\"\u001b[39;49m\u001b[38;5;124;43mgross\u001b[39;49m\u001b[38;5;124;43m\"\u001b[39;49m\u001b[43m)\u001b[49m) \u001b[38;5;66;03m# Fill in the blanks to fix the `gross` column\u001b[39;00m\n\u001b[1;32m      3\u001b[0m profs \u001b[38;5;241m=\u001b[39m profs\u001b[38;5;241m.\u001b[39mwith_columns(\n\u001b[1;32m      4\u001b[0m     \u001b[38;5;124m'\u001b[39m\u001b[38;5;124mgross\u001b[39m\u001b[38;5;124m'\u001b[39m, fixed_income\n\u001b[1;32m      5\u001b[0m )\n\u001b[1;32m      7\u001b[0m profs\u001b[38;5;241m.\u001b[39msort(\u001b[38;5;124m'\u001b[39m\u001b[38;5;124mgross\u001b[39m\u001b[38;5;124m'\u001b[39m, descending \u001b[38;5;241m=\u001b[39m \u001b[38;5;28;01mTrue\u001b[39;00m)\n",
      "File \u001b[0;32m/srv/conda/lib/python3.11/site-packages/datascience/tables.py:536\u001b[0m, in \u001b[0;36mTable.apply\u001b[0;34m(self, fn, *column_or_columns)\u001b[0m\n\u001b[1;32m    534\u001b[0m     column_or_columns \u001b[38;5;241m=\u001b[39m column_or_columns[\u001b[38;5;241m0\u001b[39m]\n\u001b[1;32m    535\u001b[0m rows \u001b[38;5;241m=\u001b[39m \u001b[38;5;28mzip\u001b[39m(\u001b[38;5;241m*\u001b[39m\u001b[38;5;28mself\u001b[39m\u001b[38;5;241m.\u001b[39mselect(\u001b[38;5;241m*\u001b[39mcolumn_or_columns)\u001b[38;5;241m.\u001b[39mcolumns)\n\u001b[0;32m--> 536\u001b[0m \u001b[38;5;28;01mreturn\u001b[39;00m np\u001b[38;5;241m.\u001b[39marray(\u001b[43m[\u001b[49m\u001b[43mfn\u001b[49m\u001b[43m(\u001b[49m\u001b[38;5;241;43m*\u001b[39;49m\u001b[43mrow\u001b[49m\u001b[43m)\u001b[49m\u001b[43m \u001b[49m\u001b[38;5;28;43;01mfor\u001b[39;49;00m\u001b[43m \u001b[49m\u001b[43mrow\u001b[49m\u001b[43m \u001b[49m\u001b[38;5;129;43;01min\u001b[39;49;00m\u001b[43m \u001b[49m\u001b[43mrows\u001b[49m\u001b[43m]\u001b[49m)\n",
      "File \u001b[0;32m/srv/conda/lib/python3.11/site-packages/datascience/tables.py:536\u001b[0m, in \u001b[0;36m<listcomp>\u001b[0;34m(.0)\u001b[0m\n\u001b[1;32m    534\u001b[0m     column_or_columns \u001b[38;5;241m=\u001b[39m column_or_columns[\u001b[38;5;241m0\u001b[39m]\n\u001b[1;32m    535\u001b[0m rows \u001b[38;5;241m=\u001b[39m \u001b[38;5;28mzip\u001b[39m(\u001b[38;5;241m*\u001b[39m\u001b[38;5;28mself\u001b[39m\u001b[38;5;241m.\u001b[39mselect(\u001b[38;5;241m*\u001b[39mcolumn_or_columns)\u001b[38;5;241m.\u001b[39mcolumns)\n\u001b[0;32m--> 536\u001b[0m \u001b[38;5;28;01mreturn\u001b[39;00m np\u001b[38;5;241m.\u001b[39marray([\u001b[43mfn\u001b[49m\u001b[43m(\u001b[49m\u001b[38;5;241;43m*\u001b[39;49m\u001b[43mrow\u001b[49m\u001b[43m)\u001b[49m \u001b[38;5;28;01mfor\u001b[39;00m row \u001b[38;5;129;01min\u001b[39;00m rows])\n",
      "Cell \u001b[0;32mIn[30], line 2\u001b[0m, in \u001b[0;36mfix_income\u001b[0;34m(income)\u001b[0m\n\u001b[1;32m      1\u001b[0m \u001b[38;5;28;01mdef\u001b[39;00m \u001b[38;5;21mfix_income\u001b[39m(income):\n\u001b[0;32m----> 2\u001b[0m     \u001b[38;5;28;01mreturn\u001b[39;00m \u001b[43mincome\u001b[49m\u001b[38;5;241;43m.\u001b[39;49m\u001b[43mreplace\u001b[49m(\u001b[38;5;124m'\u001b[39m\u001b[38;5;124m,\u001b[39m\u001b[38;5;124m'\u001b[39m, \u001b[38;5;124m'\u001b[39m\u001b[38;5;124m'\u001b[39m)\n",
      "\u001b[0;31mAttributeError\u001b[0m: 'numpy.int64' object has no attribute 'replace'"
     ]
    }
   ],
   "source": [
    "fixed_income = profs.apply(int, profs.apply(fix_income, \"gross\")) # Fill in the blanks to fix the `gross` column\n",
    "\n",
    "profs = profs.with_columns(\n",
    "    'gross', fixed_income\n",
    ")\n",
    "\n",
    "profs.sort('gross', descending = True)"
   ]
  },
  {
   "cell_type": "code",
   "execution_count": null,
   "metadata": {},
   "outputs": [],
   "source": [
    "profs"
   ]
  },
  {
   "cell_type": "markdown",
   "metadata": {},
   "source": [
    "## Masking"
   ]
  },
  {
   "cell_type": "markdown",
   "metadata": {},
   "source": [
    "Python also allows us to select elements of an array or rows in a table based off of **boolean masking** (also called boolean indexing)."
   ]
  },
  {
   "cell_type": "code",
   "execution_count": null,
   "metadata": {},
   "outputs": [],
   "source": [
    "numbers = np.array([15, 14, -2, 1, 9])"
   ]
  },
  {
   "cell_type": "markdown",
   "metadata": {},
   "source": [
    "The syntax for boolean masking is not what we're used to, so don't worry too much about understanding it."
   ]
  },
  {
   "cell_type": "code",
   "execution_count": null,
   "metadata": {},
   "outputs": [],
   "source": [
    "... # Use boolean masking to get only the first and third elements of `numbers`"
   ]
  },
  {
   "cell_type": "markdown",
   "metadata": {},
   "source": [
    "Notice how masking the `numbers` array with an array of booleans allowed us to get only the elements of `numbers` that we wanted."
   ]
  },
  {
   "cell_type": "markdown",
   "metadata": {},
   "source": [
    "Let's see another example:"
   ]
  },
  {
   "cell_type": "code",
   "execution_count": 10,
   "metadata": {},
   "outputs": [],
   "source": [
    "gradebook = Table().with_columns(\n",
    "    'Name', np.array(['Carrera', 'Panamera', 'Taycan', 'Cayenne', 'Macan', 'Cayman', 'Boxster']),\n",
    "    'Grading Option', np.array(['GRD', 'PNP', 'PNP', 'GRD', 'GRD', 'GRD', 'PNP']),\n",
    "    'Score', np.array([98, 86, 67.5, 45, 82, 88, 71])\n",
    ")"
   ]
  },
  {
   "cell_type": "code",
   "execution_count": 8,
   "metadata": {},
   "outputs": [
    {
     "data": {
      "text/html": [
       "<table border=\"1\" class=\"dataframe\">\n",
       "    <thead>\n",
       "        <tr>\n",
       "            <th>Name</th> <th>Grading Option</th> <th>Score</th>\n",
       "        </tr>\n",
       "    </thead>\n",
       "    <tbody>\n",
       "        <tr>\n",
       "            <td>Carrera </td> <td>GRD           </td> <td>98   </td>\n",
       "        </tr>\n",
       "        <tr>\n",
       "            <td>Panamera</td> <td>PNP           </td> <td>86   </td>\n",
       "        </tr>\n",
       "        <tr>\n",
       "            <td>Taycan  </td> <td>PNP           </td> <td>67.5 </td>\n",
       "        </tr>\n",
       "        <tr>\n",
       "            <td>Cayenne </td> <td>GRD           </td> <td>45   </td>\n",
       "        </tr>\n",
       "        <tr>\n",
       "            <td>Macan   </td> <td>GRD           </td> <td>82   </td>\n",
       "        </tr>\n",
       "        <tr>\n",
       "            <td>Cayman  </td> <td>GRD           </td> <td>88   </td>\n",
       "        </tr>\n",
       "        <tr>\n",
       "            <td>Boxster </td> <td>PNP           </td> <td>71   </td>\n",
       "        </tr>\n",
       "    </tbody>\n",
       "</table>"
      ],
      "text/plain": [
       "Name     | Grading Option | Score\n",
       "Carrera  | GRD            | 98\n",
       "Panamera | PNP            | 86\n",
       "Taycan   | PNP            | 67.5\n",
       "Cayenne  | GRD            | 45\n",
       "Macan    | GRD            | 82\n",
       "Cayman   | GRD            | 88\n",
       "Boxster  | PNP            | 71"
      ]
     },
     "execution_count": 8,
     "metadata": {},
     "output_type": "execute_result"
    }
   ],
   "source": [
    "gradebook"
   ]
  },
  {
   "cell_type": "markdown",
   "metadata": {},
   "source": [
    "`gradebook` is a table of fake students, their scores/grades, and their grading option (letter graded - \"GRD\" or Pass/No Pass - \"PNP\"). Let's use boolean masking to get only the students whose grading option is \"GRD\". "
   ]
  },
  {
   "cell_type": "code",
   "execution_count": null,
   "metadata": {},
   "outputs": [],
   "source": [
    "... # Use boolean indexing and `.where` to get only the students whose grading option is \"GRD\""
   ]
  },
  {
   "cell_type": "markdown",
   "metadata": {},
   "source": [
    "This weird `.where` call is actually what's happening under the hood when we do `gradebook.where(\"Grading Option\", \"GRD\")`"
   ]
  },
  {
   "cell_type": "code",
   "execution_count": null,
   "metadata": {},
   "outputs": [],
   "source": [
    "gradebook.where(\"Grading Option\", \"GRD\")"
   ]
  },
  {
   "cell_type": "code",
   "execution_count": null,
   "metadata": {},
   "outputs": [],
   "source": [
    "# You'll learn what this line means next lecture\n",
    "letter_grade = gradebook.column(\"Grading Option\") == 'GRD'"
   ]
  },
  {
   "cell_type": "code",
   "execution_count": null,
   "metadata": {},
   "outputs": [],
   "source": [
    "gradebook.where(letter_grade)"
   ]
  },
  {
   "cell_type": "markdown",
   "metadata": {},
   "source": [
    "That being said, boolean masking is pretty tedious, so we almost exclusively rely on the usual `.where` syntax."
   ]
  },
  {
   "cell_type": "markdown",
   "metadata": {},
   "source": [
    "### Example: Countries\n",
    "\n",
    "Run the following cell – ignore the `lambda` parts:"
   ]
  },
  {
   "cell_type": "code",
   "execution_count": 11,
   "metadata": {},
   "outputs": [],
   "source": [
    "countries = Table.read_table('data/countries.csv')\n",
    "countries = countries.relabeled('Country(or dependent territory)', 'Country') \\\n",
    "           .relabeled('% of world', '%') \\\n",
    "           .relabeled('Source(official or UN)', 'Source')\n",
    "countries = countries.with_columns(\n",
    "    'Country', countries.apply(lambda s: s[:s.index('[')].lower() if '[' in s else s.lower(), 'Country'),\n",
    "    'Population', countries.apply(lambda i: int(i.replace(',', '')), 'Population'),\n",
    "    '%', countries.apply(lambda f: float(f.replace('%', '')), '%')\n",
    ")"
   ]
  },
  {
   "cell_type": "code",
   "execution_count": 12,
   "metadata": {},
   "outputs": [
    {
     "data": {
      "text/html": [
       "<table border=\"1\" class=\"dataframe\">\n",
       "    <thead>\n",
       "        <tr>\n",
       "            <th>Rank</th> <th>Country</th> <th>Population</th> <th>%</th> <th>Date</th> <th>Source</th>\n",
       "        </tr>\n",
       "    </thead>\n",
       "    <tbody>\n",
       "        <tr>\n",
       "            <td>1   </td> <td>china        </td> <td>1405936040</td> <td>17.9</td> <td>27 Dec 2020</td> <td>National population clock[3]  </td>\n",
       "        </tr>\n",
       "        <tr>\n",
       "            <td>2   </td> <td>india        </td> <td>1371366679</td> <td>17.5</td> <td>27 Dec 2020</td> <td>National population clock[4]  </td>\n",
       "        </tr>\n",
       "        <tr>\n",
       "            <td>3   </td> <td>united states</td> <td>330888778 </td> <td>4.22</td> <td>27 Dec 2020</td> <td>National population clock[5]  </td>\n",
       "        </tr>\n",
       "        <tr>\n",
       "            <td>4   </td> <td>indonesia    </td> <td>269603400 </td> <td>3.44</td> <td>1 Jul 2020 </td> <td>National annual projection[6] </td>\n",
       "        </tr>\n",
       "        <tr>\n",
       "            <td>5   </td> <td>pakistan     </td> <td>220892331 </td> <td>2.82</td> <td>1 Jul 2020 </td> <td>UN Projection[2]              </td>\n",
       "        </tr>\n",
       "        <tr>\n",
       "            <td>6   </td> <td>brazil       </td> <td>212523810 </td> <td>2.71</td> <td>27 Dec 2020</td> <td>National population clock[7]  </td>\n",
       "        </tr>\n",
       "        <tr>\n",
       "            <td>7   </td> <td>nigeria      </td> <td>206139587 </td> <td>2.63</td> <td>1 Jul 2020 </td> <td>UN Projection[2]              </td>\n",
       "        </tr>\n",
       "        <tr>\n",
       "            <td>8   </td> <td>bangladesh   </td> <td>169885314 </td> <td>2.17</td> <td>27 Dec 2020</td> <td>National population clock[8]  </td>\n",
       "        </tr>\n",
       "        <tr>\n",
       "            <td>9   </td> <td>russia       </td> <td>146748590 </td> <td>1.87</td> <td>1 Jan 2020 </td> <td>National annual estimate[9]   </td>\n",
       "        </tr>\n",
       "        <tr>\n",
       "            <td>10  </td> <td>mexico       </td> <td>127792286 </td> <td>1.63</td> <td>1 Jul 2020 </td> <td>National annual projection[10]</td>\n",
       "        </tr>\n",
       "    </tbody>\n",
       "</table>\n",
       "<p>... (232 rows omitted)</p>"
      ],
      "text/plain": [
       "Rank | Country       | Population | %    | Date        | Source\n",
       "1    | china         | 1405936040 | 17.9 | 27 Dec 2020 | National population clock[3]\n",
       "2    | india         | 1371366679 | 17.5 | 27 Dec 2020 | National population clock[4]\n",
       "3    | united states | 330888778  | 4.22 | 27 Dec 2020 | National population clock[5]\n",
       "4    | indonesia     | 269603400  | 3.44 | 1 Jul 2020  | National annual projection[6]\n",
       "5    | pakistan      | 220892331  | 2.82 | 1 Jul 2020  | UN Projection[2]\n",
       "6    | brazil        | 212523810  | 2.71 | 27 Dec 2020 | National population clock[7]\n",
       "7    | nigeria       | 206139587  | 2.63 | 1 Jul 2020  | UN Projection[2]\n",
       "8    | bangladesh    | 169885314  | 2.17 | 27 Dec 2020 | National population clock[8]\n",
       "9    | russia        | 146748590  | 1.87 | 1 Jan 2020  | National annual estimate[9]\n",
       "10   | mexico        | 127792286  | 1.63 | 1 Jul 2020  | National annual projection[10]\n",
       "... (232 rows omitted)"
      ]
     },
     "execution_count": 12,
     "metadata": {},
     "output_type": "execute_result"
    }
   ],
   "source": [
    "countries"
   ]
  },
  {
   "cell_type": "markdown",
   "metadata": {},
   "source": [
    "Let's find all of the countries whose name starts or ends with the letter 'a':"
   ]
  },
  {
   "cell_type": "code",
   "execution_count": null,
   "metadata": {},
   "outputs": [],
   "source": [
    "def starts_or_ends_with_a(name):\n",
    "    return name[0] == 'a' or name[-1] == 'a'"
   ]
  },
  {
   "cell_type": "code",
   "execution_count": null,
   "metadata": {},
   "outputs": [],
   "source": [
    "countries.apply(starts_or_ends_with_a, 'Country')"
   ]
  },
  {
   "cell_type": "code",
   "execution_count": null,
   "metadata": {},
   "outputs": [],
   "source": [
    "countries.where(countries.apply(starts_or_ends_with_a, 'Country'))"
   ]
  }
 ],
 "metadata": {
  "kernelspec": {
   "display_name": "Python 3 (ipykernel)",
   "language": "python",
   "name": "python3"
  },
  "language_info": {
   "codemirror_mode": {
    "name": "ipython",
    "version": 3
   },
   "file_extension": ".py",
   "mimetype": "text/x-python",
   "name": "python",
   "nbconvert_exporter": "python",
   "pygments_lexer": "ipython3",
   "version": "3.11.9"
  }
 },
 "nbformat": 4,
 "nbformat_minor": 4
}
