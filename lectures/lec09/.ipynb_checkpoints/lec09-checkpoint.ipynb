{
 "cells": [
  {
   "cell_type": "markdown",
   "metadata": {},
   "source": [
    "# Lecture 16 – Applying\n",
    "\n",
    "## Data 6, Summer 2024"
   ]
  },
  {
   "cell_type": "code",
   "execution_count": 1,
   "metadata": {},
   "outputs": [],
   "source": [
    "from datascience import *\n",
    "import numpy as np"
   ]
  },
  {
   "cell_type": "markdown",
   "metadata": {},
   "source": [
    "## Motivation"
   ]
  },
  {
   "cell_type": "markdown",
   "metadata": {},
   "source": [
    "Until now, we've primarily worked with just the data we've been given in our tables. However, oftentimes some of our data needs to be manipulated or \"cleaned\" before we can work with it to infer things about the world.\n",
    "\n",
    "For example, we have been given this table of dogs and their ages in 'human years'. While this may be useful in some contexts, what if we want to know each dog's age in 'dog years'. For this example, we will use the (incorrect) conversion of one human year being equivalent to 7 dogs years — you can read about a more accurate conversion [here](https://pets.webmd.com/dogs/how-to-calculate-your-dogs-age)."
   ]
  },
  {
   "cell_type": "code",
   "execution_count": null,
   "metadata": {},
   "outputs": [],
   "source": [
    "pups = Table.read_table('data/pups.csv')"
   ]
  },
  {
   "cell_type": "code",
   "execution_count": null,
   "metadata": {
    "scrolled": true
   },
   "outputs": [],
   "source": [
    "pups"
   ]
  },
  {
   "cell_type": "markdown",
   "metadata": {},
   "source": [
    "We already know how to convert the column `age` to dog years using **array arithmetic**. We can then add this new array as a new column in our table."
   ]
  },
  {
   "cell_type": "code",
   "execution_count": null,
   "metadata": {},
   "outputs": [],
   "source": [
    "pups.with_columns(\n",
    "    'dog years', pups.column('age') * 7\n",
    ")"
   ]
  },
  {
   "cell_type": "markdown",
   "metadata": {},
   "source": [
    "## Apply"
   ]
  },
  {
   "cell_type": "markdown",
   "metadata": {},
   "source": [
    "Now that we know how to write our own functions, we can leverage these functions to manipulate our tables in particular ways. This is really useful if we want to extract or convert data in our table to generate new insights about it.\n",
    "\n",
    "We can use `tbl.apply(col, func)` to **apply** the function `func` to the column `col`. This creates an array when each item is the result of evaluating `func` with the corresponding item in `col` as the input. This essentially allows you to do multiple function calls all at the same time."
   ]
  },
  {
   "cell_type": "code",
   "execution_count": null,
   "metadata": {},
   "outputs": [],
   "source": [
    "def seven_times(x):\n",
    "    return 7 * x"
   ]
  },
  {
   "cell_type": "code",
   "execution_count": null,
   "metadata": {},
   "outputs": [],
   "source": [
    "pups.apply(seven_times, 'age')"
   ]
  },
  {
   "cell_type": "markdown",
   "metadata": {},
   "source": [
    "Note, we wouldn't actually use the above example with `.apply` since we could just write `pups.column('age') * 7`.\n",
    "\n",
    "Here's a more useful example:"
   ]
  },
  {
   "cell_type": "code",
   "execution_count": null,
   "metadata": {},
   "outputs": [],
   "source": [
    "def email_from_name(name):\n",
    "    first, last = name.split(' ')\n",
    "    email = first + '.' + last + '@dogschool.edu'\n",
    "    return email.lower()"
   ]
  },
  {
   "cell_type": "code",
   "execution_count": null,
   "metadata": {},
   "outputs": [],
   "source": [
    "# Can use email_from_name on a single argument\n",
    "email_from_name('Champ Major')"
   ]
  },
  {
   "cell_type": "code",
   "execution_count": null,
   "metadata": {},
   "outputs": [],
   "source": [
    "pups.apply(email_from_name, 'name')"
   ]
  },
  {
   "cell_type": "code",
   "execution_count": null,
   "metadata": {},
   "outputs": [],
   "source": [
    "pups.with_columns('email', pups.apply(email_from_name, 'name'))"
   ]
  },
  {
   "cell_type": "markdown",
   "metadata": {},
   "source": [
    "Notice how fast and easy that was!"
   ]
  },
  {
   "cell_type": "markdown",
   "metadata": {},
   "source": [
    "### Quick Check 1"
   ]
  },
  {
   "cell_type": "code",
   "execution_count": 2,
   "metadata": {},
   "outputs": [
    {
     "data": {
      "text/html": [
       "<table border=\"1\" class=\"dataframe\">\n",
       "    <thead>\n",
       "        <tr>\n",
       "            <th>year</th> <th>location</th> <th>first</th> <th>last</th> <th>title</th> <th>gross</th> <th>regular</th> <th>overtime</th> <th>other</th>\n",
       "        </tr>\n",
       "    </thead>\n",
       "    <tbody>\n",
       "        <tr>\n",
       "            <td>2015</td> <td>Berkeley</td> <td> ANNE     </td> <td>AABOE     </td> <td>BUS SYS ANL 4        </td> <td>124,454</td> <td>124,454</td> <td>0       </td> <td>0     </td>\n",
       "        </tr>\n",
       "        <tr>\n",
       "            <td>2015</td> <td>Berkeley</td> <td> DAVID    </td> <td>AAKER     </td> <td>RECALL FACULTY       </td> <td>2,500  </td> <td>0      </td> <td>0       </td> <td>2,500 </td>\n",
       "        </tr>\n",
       "        <tr>\n",
       "            <td>2015</td> <td>Berkeley</td> <td> ELIZABETH</td> <td>ABEL      </td> <td>PROF-AY              </td> <td>138,775</td> <td>138,775</td> <td>0       </td> <td>0     </td>\n",
       "        </tr>\n",
       "        <tr>\n",
       "            <td>2015</td> <td>Berkeley</td> <td> NORMAN   </td> <td>ABRAHAMSON</td> <td>ADJ PROF-AY-1/9-B/E/E</td> <td>19,668 </td> <td>19,668 </td> <td>0       </td> <td>0     </td>\n",
       "        </tr>\n",
       "        <tr>\n",
       "            <td>2015</td> <td>Berkeley</td> <td> BARBARA  </td> <td>ABRAMS    </td> <td>PROF-AY              </td> <td>191,162</td> <td>169,862</td> <td>0       </td> <td>21,300</td>\n",
       "        </tr>\n",
       "        <tr>\n",
       "            <td>2015</td> <td>Berkeley</td> <td> JOHN     </td> <td>ACZON     </td> <td>FINANCIAL SVC ANL 3  </td> <td>83,510 </td> <td>78,510 </td> <td>0       </td> <td>5,000 </td>\n",
       "        </tr>\n",
       "        <tr>\n",
       "            <td>2015</td> <td>Berkeley</td> <td> ANTHONY  </td> <td>ADAMS     </td> <td>RES-FY               </td> <td>9,587  </td> <td>9,587  </td> <td>0       </td> <td>0     </td>\n",
       "        </tr>\n",
       "        <tr>\n",
       "            <td>2015</td> <td>Berkeley</td> <td> PENNY    </td> <td>HINES     </td> <td>ACAD HR ANL 5        </td> <td>126,707</td> <td>126,707</td> <td>0       </td> <td>0     </td>\n",
       "        </tr>\n",
       "        <tr>\n",
       "            <td>2015</td> <td>Berkeley</td> <td> ANINDITA </td> <td>ADHIKARI  </td> <td>SR LECT SOE-AY       </td> <td>107,345</td> <td>107,345</td> <td>0       </td> <td>0     </td>\n",
       "        </tr>\n",
       "        <tr>\n",
       "            <td>2015</td> <td>Berkeley</td> <td> ILAN     </td> <td>ADLER     </td> <td>PROF-AY-B/E/E        </td> <td>166,617</td> <td>151,617</td> <td>0       </td> <td>15,000</td>\n",
       "        </tr>\n",
       "    </tbody>\n",
       "</table>\n",
       "<p>... (281504 rows omitted)</p>"
      ],
      "text/plain": [
       "year | location | first      | last       | title                 | gross   | regular | overtime | other\n",
       "2015 | Berkeley |  ANNE      | AABOE      | BUS SYS ANL 4         | 124,454 | 124,454 | 0        | 0\n",
       "2015 | Berkeley |  DAVID     | AAKER      | RECALL FACULTY        | 2,500   | 0       | 0        | 2,500\n",
       "2015 | Berkeley |  ELIZABETH | ABEL       | PROF-AY               | 138,775 | 138,775 | 0        | 0\n",
       "2015 | Berkeley |  NORMAN    | ABRAHAMSON | ADJ PROF-AY-1/9-B/E/E | 19,668  | 19,668  | 0        | 0\n",
       "2015 | Berkeley |  BARBARA   | ABRAMS     | PROF-AY               | 191,162 | 169,862 | 0        | 21,300\n",
       "2015 | Berkeley |  JOHN      | ACZON      | FINANCIAL SVC ANL 3   | 83,510  | 78,510  | 0        | 5,000\n",
       "2015 | Berkeley |  ANTHONY   | ADAMS      | RES-FY                | 9,587   | 9,587   | 0        | 0\n",
       "2015 | Berkeley |  PENNY     | HINES      | ACAD HR ANL 5         | 126,707 | 126,707 | 0        | 0\n",
       "2015 | Berkeley |  ANINDITA  | ADHIKARI   | SR LECT SOE-AY        | 107,345 | 107,345 | 0        | 0\n",
       "2015 | Berkeley |  ILAN      | ADLER      | PROF-AY-B/E/E         | 166,617 | 151,617 | 0        | 15,000\n",
       "... (281504 rows omitted)"
      ]
     },
     "execution_count": 2,
     "metadata": {},
     "output_type": "execute_result"
    }
   ],
   "source": [
    "# Large file – this may take ~10 seconds to load\n",
    "salary = Table.read_table('https://media.githubusercontent.com/media/dailycal-projects/ucb-faculty-salary/master/data/salary/salary_2015.csv')\n",
    "salary"
   ]
  },
  {
   "cell_type": "code",
   "execution_count": 3,
   "metadata": {},
   "outputs": [
    {
     "data": {
      "text/html": [
       "<table border=\"1\" class=\"dataframe\">\n",
       "    <thead>\n",
       "        <tr>\n",
       "            <th>first</th> <th>last</th> <th>title</th> <th>gross</th>\n",
       "        </tr>\n",
       "    </thead>\n",
       "    <tbody>\n",
       "        <tr>\n",
       "            <td> ELIZABETH</td> <td>ABEL      </td> <td>PROF-AY              </td> <td>138,775</td>\n",
       "        </tr>\n",
       "        <tr>\n",
       "            <td> NORMAN   </td> <td>ABRAHAMSON</td> <td>ADJ PROF-AY-1/9-B/E/E</td> <td>19,668 </td>\n",
       "        </tr>\n",
       "        <tr>\n",
       "            <td> BARBARA  </td> <td>ABRAMS    </td> <td>PROF-AY              </td> <td>191,162</td>\n",
       "        </tr>\n",
       "        <tr>\n",
       "            <td> ILAN     </td> <td>ADLER     </td> <td>PROF-AY-B/E/E        </td> <td>166,617</td>\n",
       "        </tr>\n",
       "        <tr>\n",
       "            <td> VINOD    </td> <td>AGGARWAL  </td> <td>PROF-AY              </td> <td>167,525</td>\n",
       "        </tr>\n",
       "        <tr>\n",
       "            <td> ALICE    </td> <td>AGOGINO   </td> <td>PROF-AY-B/E/E        </td> <td>243,259</td>\n",
       "        </tr>\n",
       "        <tr>\n",
       "            <td> DAVID    </td> <td>ALDOUS    </td> <td>PROF-AY              </td> <td>218,666</td>\n",
       "        </tr>\n",
       "        <tr>\n",
       "            <td> RONELLE  </td> <td>ALEXANDER </td> <td>PROF-AY              </td> <td>167,642</td>\n",
       "        </tr>\n",
       "        <tr>\n",
       "            <td> NEZAR    </td> <td>ALSAYYAD  </td> <td>PROF-AY              </td> <td>210,389</td>\n",
       "        </tr>\n",
       "        <tr>\n",
       "            <td> GENEVIEVE</td> <td>AMES      </td> <td>ADJ PROF-AY          </td> <td>9,783  </td>\n",
       "        </tr>\n",
       "    </tbody>\n",
       "</table>\n",
       "<p>... (17564 rows omitted)</p>"
      ],
      "text/plain": [
       "first      | last       | title                 | gross\n",
       " ELIZABETH | ABEL       | PROF-AY               | 138,775\n",
       " NORMAN    | ABRAHAMSON | ADJ PROF-AY-1/9-B/E/E | 19,668\n",
       " BARBARA   | ABRAMS     | PROF-AY               | 191,162\n",
       " ILAN      | ADLER      | PROF-AY-B/E/E         | 166,617\n",
       " VINOD     | AGGARWAL   | PROF-AY               | 167,525\n",
       " ALICE     | AGOGINO    | PROF-AY-B/E/E         | 243,259\n",
       " DAVID     | ALDOUS     | PROF-AY               | 218,666\n",
       " RONELLE   | ALEXANDER  | PROF-AY               | 167,642\n",
       " NEZAR     | ALSAYYAD   | PROF-AY               | 210,389\n",
       " GENEVIEVE | AMES       | ADJ PROF-AY           | 9,783\n",
       "... (17564 rows omitted)"
      ]
     },
     "execution_count": 3,
     "metadata": {},
     "output_type": "execute_result"
    }
   ],
   "source": [
    "profs = salary.select('first', 'last', 'title', 'gross').where('title', are.containing('PROF'))\n",
    "profs"
   ]
  },
  {
   "cell_type": "markdown",
   "metadata": {},
   "source": [
    "Look at the very last row of the output – that gross income doesn't look right."
   ]
  },
  {
   "cell_type": "code",
   "execution_count": null,
   "metadata": {
    "scrolled": true
   },
   "outputs": [],
   "source": [
    "profs.sort('gross', descending = True)"
   ]
  },
  {
   "cell_type": "markdown",
   "metadata": {},
   "source": [
    "The issue here is that the elements in the `gross` column of the table `profs` right now are strings (instead of integers, which is what we would expect). Fill in the blanks to replace the elements in the `gross` column with integers. _(Hint: use the fix_income function)_"
   ]
  },
  {
   "cell_type": "code",
   "execution_count": 5,
   "metadata": {},
   "outputs": [],
   "source": [
    "def fix_income(income):\n",
    "    return str(income.replace(',', ''))"
   ]
  },
  {
   "cell_type": "code",
   "execution_count": 6,
   "metadata": {},
   "outputs": [],
   "source": [
    "fixed_income = profs.apply(fix_income, 'gross') # Fill in the blanks to fix the `gross` column\n",
    "\n",
    "profs = profs.with_columns(\n",
    "    'gross', fixed_income\n",
    ")\n",
    "\n",
    "fixed_income_int = profs.apply(int, 'gross')\n",
    "profs = profs.with_columns(\n",
    "    'gross', fixed_income_int\n",
    ")\n"
   ]
  },
  {
   "cell_type": "code",
   "execution_count": null,
   "metadata": {},
   "outputs": [],
   "source": [
    "profsprofs.sort('gross', descending = True)"
   ]
  },
  {
   "cell_type": "markdown",
   "metadata": {},
   "source": [
    "## Masking"
   ]
  },
  {
   "cell_type": "markdown",
   "metadata": {},
   "source": [
    "Python also allows us to select elements of an array or rows in a table based off of **boolean masking** (also called boolean indexing)."
   ]
  },
  {
   "cell_type": "code",
   "execution_count": null,
   "metadata": {},
   "outputs": [],
   "source": [
    "numbers = np.array([15, 14, -2, 1, 9])"
   ]
  },
  {
   "cell_type": "markdown",
   "metadata": {},
   "source": [
    "The syntax for boolean masking is not what we're used to, so don't worry too much about understanding it."
   ]
  },
  {
   "cell_type": "code",
   "execution_count": null,
   "metadata": {},
   "outputs": [],
   "source": [
    "numbers[[True, False, True, False, False]]"
   ]
  },
  {
   "cell_type": "markdown",
   "metadata": {},
   "source": [
    "Notice how masking the `numbers` array with an array of booleans allowed us to get only the elements of `numbers` that we wanted."
   ]
  },
  {
   "cell_type": "markdown",
   "metadata": {},
   "source": [
    "Let's see another example:"
   ]
  },
  {
   "cell_type": "code",
   "execution_count": null,
   "metadata": {},
   "outputs": [],
   "source": [
    "gradebook = Table().with_columns(\n",
    "    'Name', np.array(['Carrera', 'Panamera', 'Taycan', 'Cayenne', 'Macan', 'Cayman', 'Boxster']),\n",
    "    'Grading Option', np.array(['GRD', 'PNP', 'PNP', 'GRD', 'GRD', 'GRD', 'PNP']),\n",
    "    'Score', np.array([98, 86, 67.5, 45, 82, 88, 71])\n",
    ")"
   ]
  },
  {
   "cell_type": "code",
   "execution_count": null,
   "metadata": {},
   "outputs": [],
   "source": [
    "gradebook"
   ]
  },
  {
   "cell_type": "markdown",
   "metadata": {},
   "source": [
    "`gradebook` is a table of fake students, their scores/grades, and their grading option (letter graded - \"GRD\" or Pass/No Pass - \"PNP\"). Let's use boolean masking to get only the students whose grading option is \"GRD\". "
   ]
  },
  {
   "cell_type": "code",
   "execution_count": null,
   "metadata": {},
   "outputs": [],
   "source": [
    "gradebook.where(make_array(True, False, False, True, True, True, False))"
   ]
  },
  {
   "cell_type": "markdown",
   "metadata": {},
   "source": [
    "This weird `.where` call is actually what's happening under the hood when we do `gradebook.where(\"Grading Option\", \"GRD\")`"
   ]
  },
  {
   "cell_type": "code",
   "execution_count": null,
   "metadata": {},
   "outputs": [],
   "source": [
    "gradebook.where(\"Grading Option\", \"GRD\")"
   ]
  },
  {
   "cell_type": "code",
   "execution_count": null,
   "metadata": {},
   "outputs": [],
   "source": [
    "# You'll learn what this line means next lecture\n",
    "letter_grade = gradebook.column(\"Grading Option\") == 'GRD'"
   ]
  },
  {
   "cell_type": "code",
   "execution_count": null,
   "metadata": {},
   "outputs": [],
   "source": [
    "gradebook.where(letter_grade)"
   ]
  },
  {
   "cell_type": "markdown",
   "metadata": {},
   "source": [
    "That being said, boolean masking is pretty tedious, so we almost exclusively rely on the usual `.where` syntax."
   ]
  },
  {
   "cell_type": "markdown",
   "metadata": {},
   "source": [
    "### Example: Countries\n",
    "\n",
    "Run the following cell – ignore the `lambda` parts:"
   ]
  },
  {
   "cell_type": "code",
   "execution_count": null,
   "metadata": {},
   "outputs": [],
   "source": [
    "countries = Table.read_table('data/countries.csv')\n",
    "countries = countries.relabeled('Country(or dependent territory)', 'Country') \\\n",
    "           .relabeled('% of world', '%') \\\n",
    "           .relabeled('Source(official or UN)', 'Source')\n",
    "countries = countries.with_columns(\n",
    "    'Country', countries.apply(lambda s: s[:s.index('[')].lower() if '[' in s else s.lower(), 'Country'),\n",
    "    'Population', countries.apply(lambda i: int(i.replace(',', '')), 'Population'),\n",
    "    '%', countries.apply(lambda f: float(f.replace('%', '')), '%')\n",
    ")"
   ]
  },
  {
   "cell_type": "code",
   "execution_count": null,
   "metadata": {},
   "outputs": [],
   "source": [
    "countries"
   ]
  },
  {
   "cell_type": "markdown",
   "metadata": {},
   "source": [
    "Let's find all of the countries whose name starts or ends with the letter 'a':"
   ]
  },
  {
   "cell_type": "code",
   "execution_count": null,
   "metadata": {},
   "outputs": [],
   "source": [
    "def starts_or_ends_with_a(name):\n",
    "    return name[0] == 'a' or name[-1] == 'a'"
   ]
  },
  {
   "cell_type": "code",
   "execution_count": null,
   "metadata": {},
   "outputs": [],
   "source": [
    "countries.apply(starts_or_ends_with_a, 'Country')"
   ]
  },
  {
   "cell_type": "code",
   "execution_count": null,
   "metadata": {},
   "outputs": [],
   "source": [
    "countries.where(countries.apply(starts_or_ends_with_a, 'Country'))"
   ]
  }
 ],
 "metadata": {
  "kernelspec": {
   "display_name": "Python 3 (ipykernel)",
   "language": "python",
   "name": "python3"
  },
  "language_info": {
   "codemirror_mode": {
    "name": "ipython",
    "version": 3
   },
   "file_extension": ".py",
   "mimetype": "text/x-python",
   "name": "python",
   "nbconvert_exporter": "python",
   "pygments_lexer": "ipython3",
   "version": "3.11.9"
  }
 },
 "nbformat": 4,
 "nbformat_minor": 4
}
