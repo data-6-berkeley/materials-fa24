{
 "cells": [
  {
   "cell_type": "markdown",
   "metadata": {},
   "source": [
    "# Lecture 11 – Taking and Filtering Rows\n",
    "\n",
    "## Data 6, Fall 2024"
   ]
  },
  {
   "cell_type": "code",
   "execution_count": 1,
   "metadata": {},
   "outputs": [],
   "source": [
    "from datascience import *\n",
    "import numpy as np"
   ]
  },
  {
   "cell_type": "markdown",
   "metadata": {},
   "source": [
    "## SAT Data"
   ]
  },
  {
   "cell_type": "markdown",
   "metadata": {},
   "source": [
    "Today we will be working with a dataset showing aggregated (average) SAT scores by state. This data is from 2014, so the total score is out of 2400 (over three sections each out of 800) instead of 1600."
   ]
  },
  {
   "cell_type": "code",
   "execution_count": 2,
   "metadata": {},
   "outputs": [
    {
     "data": {
      "text/html": [
       "<table border=\"1\" class=\"dataframe\">\n",
       "    <thead>\n",
       "        <tr>\n",
       "            <th>State</th> <th>Participation Rate</th> <th>Critical Reading</th> <th>Math</th> <th>Writing</th>\n",
       "        </tr>\n",
       "    </thead>\n",
       "    <tbody>\n",
       "        <tr>\n",
       "            <td>Alabama             </td> <td>6.7               </td> <td>547             </td> <td>538 </td> <td>532    </td>\n",
       "        </tr>\n",
       "        <tr>\n",
       "            <td>Alaska              </td> <td>54.2              </td> <td>507             </td> <td>503 </td> <td>475    </td>\n",
       "        </tr>\n",
       "        <tr>\n",
       "            <td>Arizona             </td> <td>36.4              </td> <td>522             </td> <td>525 </td> <td>500    </td>\n",
       "        </tr>\n",
       "        <tr>\n",
       "            <td>Arkansas            </td> <td>4.2               </td> <td>573             </td> <td>571 </td> <td>554    </td>\n",
       "        </tr>\n",
       "        <tr>\n",
       "            <td>California          </td> <td>60.3              </td> <td>498             </td> <td>510 </td> <td>496    </td>\n",
       "        </tr>\n",
       "        <tr>\n",
       "            <td>Colorado            </td> <td>14.3              </td> <td>582             </td> <td>586 </td> <td>567    </td>\n",
       "        </tr>\n",
       "        <tr>\n",
       "            <td>Connecticut         </td> <td>88.4              </td> <td>507             </td> <td>510 </td> <td>508    </td>\n",
       "        </tr>\n",
       "        <tr>\n",
       "            <td>Delaware            </td> <td>100               </td> <td>456             </td> <td>459 </td> <td>444    </td>\n",
       "        </tr>\n",
       "        <tr>\n",
       "            <td>District of Columbia</td> <td>100               </td> <td>440             </td> <td>438 </td> <td>431    </td>\n",
       "        </tr>\n",
       "        <tr>\n",
       "            <td>Florida             </td> <td>72.2              </td> <td>491             </td> <td>485 </td> <td>472    </td>\n",
       "        </tr>\n",
       "    </tbody>\n",
       "</table>\n",
       "<p>... (41 rows omitted)</p>"
      ],
      "text/plain": [
       "State                | Participation Rate | Critical Reading | Math | Writing\n",
       "Alabama              | 6.7                | 547              | 538  | 532\n",
       "Alaska               | 54.2               | 507              | 503  | 475\n",
       "Arizona              | 36.4               | 522              | 525  | 500\n",
       "Arkansas             | 4.2                | 573              | 571  | 554\n",
       "California           | 60.3               | 498              | 510  | 496\n",
       "Colorado             | 14.3               | 582              | 586  | 567\n",
       "Connecticut          | 88.4               | 507              | 510  | 508\n",
       "Delaware             | 100                | 456              | 459  | 444\n",
       "District of Columbia | 100                | 440              | 438  | 431\n",
       "Florida              | 72.2               | 491              | 485  | 472\n",
       "... (41 rows omitted)"
      ]
     },
     "execution_count": 2,
     "metadata": {},
     "output_type": "execute_result"
    }
   ],
   "source": [
    "sat = Table.read_table('data/sat2014-lecture.csv')\n",
    "sat"
   ]
  },
  {
   "cell_type": "markdown",
   "metadata": {},
   "source": [
    "Recall the table methods and properties we can use to learn more above our data and even create new data:"
   ]
  },
  {
   "cell_type": "code",
   "execution_count": 9,
   "metadata": {},
   "outputs": [
    {
     "data": {
      "text/plain": [
       "(51, 5)"
      ]
     },
     "execution_count": 9,
     "metadata": {},
     "output_type": "execute_result"
    }
   ],
   "source": [
    "sat.num_rows, sat.num_columns"
   ]
  },
  {
   "cell_type": "markdown",
   "metadata": {},
   "source": [
    "It would be nice to have a combined score too."
   ]
  },
  {
   "cell_type": "code",
   "execution_count": 10,
   "metadata": {},
   "outputs": [
    {
     "data": {
      "text/plain": [
       "array([1617, 1485, 1547, 1698, 1504, 1735, 1525, 1359, 1309, 1448, 1445,\n",
       "       1460, 1364, 1802, 1474, 1794, 1753, 1746, 1667, 1387, 1468, 1556,\n",
       "       1784, 1786, 1714, 1771, 1637, 1745, 1458, 1566, 1526, 1617, 1468,\n",
       "       1483, 1816, 1652, 1697, 1544, 1481, 1480, 1443, 1792, 1714, 1432,\n",
       "       1690, 1554, 1530, 1519, 1522, 1782, 1762])"
      ]
     },
     "execution_count": 10,
     "metadata": {},
     "output_type": "execute_result"
    }
   ],
   "source": [
    "sat.column('Critical Reading') + sat.column('Math') + sat.column('Writing')"
   ]
  },
  {
   "cell_type": "code",
   "execution_count": 11,
   "metadata": {},
   "outputs": [],
   "source": [
    "sat = sat.with_columns(\n",
    "    'Combined', sat.column('Critical Reading') + sat.column('Math') + sat.column('Writing')\n",
    ")"
   ]
  },
  {
   "cell_type": "code",
   "execution_count": 12,
   "metadata": {},
   "outputs": [
    {
     "data": {
      "text/html": [
       "<table border=\"1\" class=\"dataframe\">\n",
       "    <thead>\n",
       "        <tr>\n",
       "            <th>State</th> <th>Participation Rate</th> <th>Critical Reading</th> <th>Math</th> <th>Writing</th> <th>Combined</th>\n",
       "        </tr>\n",
       "    </thead>\n",
       "    <tbody>\n",
       "        <tr>\n",
       "            <td>Alabama             </td> <td>6.7               </td> <td>547             </td> <td>538 </td> <td>532    </td> <td>1617    </td>\n",
       "        </tr>\n",
       "        <tr>\n",
       "            <td>Alaska              </td> <td>54.2              </td> <td>507             </td> <td>503 </td> <td>475    </td> <td>1485    </td>\n",
       "        </tr>\n",
       "        <tr>\n",
       "            <td>Arizona             </td> <td>36.4              </td> <td>522             </td> <td>525 </td> <td>500    </td> <td>1547    </td>\n",
       "        </tr>\n",
       "        <tr>\n",
       "            <td>Arkansas            </td> <td>4.2               </td> <td>573             </td> <td>571 </td> <td>554    </td> <td>1698    </td>\n",
       "        </tr>\n",
       "        <tr>\n",
       "            <td>California          </td> <td>60.3              </td> <td>498             </td> <td>510 </td> <td>496    </td> <td>1504    </td>\n",
       "        </tr>\n",
       "        <tr>\n",
       "            <td>Colorado            </td> <td>14.3              </td> <td>582             </td> <td>586 </td> <td>567    </td> <td>1735    </td>\n",
       "        </tr>\n",
       "        <tr>\n",
       "            <td>Connecticut         </td> <td>88.4              </td> <td>507             </td> <td>510 </td> <td>508    </td> <td>1525    </td>\n",
       "        </tr>\n",
       "        <tr>\n",
       "            <td>Delaware            </td> <td>100               </td> <td>456             </td> <td>459 </td> <td>444    </td> <td>1359    </td>\n",
       "        </tr>\n",
       "        <tr>\n",
       "            <td>District of Columbia</td> <td>100               </td> <td>440             </td> <td>438 </td> <td>431    </td> <td>1309    </td>\n",
       "        </tr>\n",
       "        <tr>\n",
       "            <td>Florida             </td> <td>72.2              </td> <td>491             </td> <td>485 </td> <td>472    </td> <td>1448    </td>\n",
       "        </tr>\n",
       "    </tbody>\n",
       "</table>\n",
       "<p>... (41 rows omitted)</p>"
      ],
      "text/plain": [
       "State                | Participation Rate | Critical Reading | Math | Writing | Combined\n",
       "Alabama              | 6.7                | 547              | 538  | 532     | 1617\n",
       "Alaska               | 54.2               | 507              | 503  | 475     | 1485\n",
       "Arizona              | 36.4               | 522              | 525  | 500     | 1547\n",
       "Arkansas             | 4.2                | 573              | 571  | 554     | 1698\n",
       "California           | 60.3               | 498              | 510  | 496     | 1504\n",
       "Colorado             | 14.3               | 582              | 586  | 567     | 1735\n",
       "Connecticut          | 88.4               | 507              | 510  | 508     | 1525\n",
       "Delaware             | 100                | 456              | 459  | 444     | 1359\n",
       "District of Columbia | 100                | 440              | 438  | 431     | 1309\n",
       "Florida              | 72.2               | 491              | 485  | 472     | 1448\n",
       "... (41 rows omitted)"
      ]
     },
     "execution_count": 12,
     "metadata": {},
     "output_type": "execute_result"
    }
   ],
   "source": [
    "sat"
   ]
  },
  {
   "cell_type": "markdown",
   "metadata": {},
   "source": [
    "## `.take`"
   ]
  },
  {
   "cell_type": "markdown",
   "metadata": {},
   "source": [
    "Sometimes, it is a little tricky to work with a large dataset (even though this specific dataset isn't _that_ large). To make it easier for us to understand parts of our data, we may want to just look at certain rows in our table. We can do that using `tbl.take(indices`, which takes in a single index or list of indices corresponding to the rows of the table we want to take."
   ]
  },
  {
   "cell_type": "code",
   "execution_count": 13,
   "metadata": {},
   "outputs": [
    {
     "data": {
      "text/plain": [
       "Ellipsis"
      ]
     },
     "execution_count": 13,
     "metadata": {},
     "output_type": "execute_result"
    }
   ],
   "source": [
    "... # Use `tbl.take()` to take the third row in the `sat` table (Remember indices are 0-indexed)"
   ]
  },
  {
   "cell_type": "code",
   "execution_count": 14,
   "metadata": {},
   "outputs": [
    {
     "data": {
      "text/plain": [
       "Ellipsis"
      ]
     },
     "execution_count": 14,
     "metadata": {},
     "output_type": "execute_result"
    }
   ],
   "source": [
    "... # Pass in an array with values 1, 4, and 3 to take the 2nd, 5th and 4th rows of `sat`"
   ]
  },
  {
   "cell_type": "markdown",
   "metadata": {},
   "source": [
    "Recall that `np.arange()` makes it really easy to generate an array of sequential numbers. The [Data 6 Python Reference](https://data6.org/fa24/reference/#numpy-array-functions) provides a good explanation of how `np.arange` works."
   ]
  },
  {
   "cell_type": "code",
   "execution_count": 15,
   "metadata": {},
   "outputs": [
    {
     "data": {
      "text/plain": [
       "array([0, 1, 2, 3, 4])"
      ]
     },
     "execution_count": 15,
     "metadata": {},
     "output_type": "execute_result"
    }
   ],
   "source": [
    "np.arange(5)"
   ]
  },
  {
   "cell_type": "markdown",
   "metadata": {},
   "source": [
    "We can pass array ranges into `.take()` just as we would manually-created arrays. This is often much easier that manually typing out arrays."
   ]
  },
  {
   "cell_type": "code",
   "execution_count": 16,
   "metadata": {
    "scrolled": true
   },
   "outputs": [
    {
     "data": {
      "text/plain": [
       "Ellipsis"
      ]
     },
     "execution_count": 16,
     "metadata": {},
     "output_type": "execute_result"
    }
   ],
   "source": [
    "... # Take the first five rows of `sat` using `np.arange`"
   ]
  },
  {
   "cell_type": "markdown",
   "metadata": {},
   "source": [
    "When we combine `sort` and `take`, we can get some pretty powerful answers."
   ]
  },
  {
   "cell_type": "markdown",
   "metadata": {},
   "source": [
    "What are the five states with the highest math scores?"
   ]
  },
  {
   "cell_type": "code",
   "execution_count": 17,
   "metadata": {},
   "outputs": [
    {
     "data": {
      "text/plain": [
       "Ellipsis"
      ]
     },
     "execution_count": 17,
     "metadata": {},
     "output_type": "execute_result"
    }
   ],
   "source": [
    "..."
   ]
  },
  {
   "cell_type": "markdown",
   "metadata": {},
   "source": [
    "What are the top 8 states in terms of participation?"
   ]
  },
  {
   "cell_type": "code",
   "execution_count": 18,
   "metadata": {},
   "outputs": [
    {
     "data": {
      "text/plain": [
       "Ellipsis"
      ]
     },
     "execution_count": 18,
     "metadata": {},
     "output_type": "execute_result"
    }
   ],
   "source": [
    "..."
   ]
  },
  {
   "cell_type": "markdown",
   "metadata": {},
   "source": [
    "Note: `.take` works on arrays too, not just tables!"
   ]
  },
  {
   "cell_type": "code",
   "execution_count": 19,
   "metadata": {},
   "outputs": [
    {
     "data": {
      "text/plain": [
       "array(['Alabama', 'Alaska', 'Arizona', 'Arkansas', 'California'],\n",
       "      dtype='<U20')"
      ]
     },
     "execution_count": 19,
     "metadata": {},
     "output_type": "execute_result"
    }
   ],
   "source": [
    "sat.column('State').take(np.arange(5))"
   ]
  },
  {
   "cell_type": "code",
   "execution_count": 20,
   "metadata": {},
   "outputs": [
    {
     "data": {
      "text/plain": [
       "array(['Alabama', 'Alaska', 'Arizona', 'Arkansas', 'California'],\n",
       "      dtype='<U20')"
      ]
     },
     "execution_count": 20,
     "metadata": {},
     "output_type": "execute_result"
    }
   ],
   "source": [
    "sat.take(np.arange(5)).column('State')"
   ]
  },
  {
   "cell_type": "markdown",
   "metadata": {},
   "source": [
    "## Booleans"
   ]
  },
  {
   "cell_type": "markdown",
   "metadata": {},
   "source": [
    "Another Python data type is the `bool` or Boolean, whic only has two possible values: `True` and `False`."
   ]
  },
  {
   "cell_type": "code",
   "execution_count": null,
   "metadata": {},
   "outputs": [],
   "source": [
    "True"
   ]
  },
  {
   "cell_type": "code",
   "execution_count": null,
   "metadata": {},
   "outputs": [],
   "source": [
    "f = False\n",
    "f"
   ]
  },
  {
   "cell_type": "code",
   "execution_count": null,
   "metadata": {},
   "outputs": [],
   "source": [
    "type(True)"
   ]
  },
  {
   "cell_type": "code",
   "execution_count": null,
   "metadata": {},
   "outputs": [],
   "source": [
    "type(f)"
   ]
  },
  {
   "cell_type": "markdown",
   "metadata": {},
   "source": [
    "**Be careful**, because `True` and `False` have special meanings in Python and _cannot_ be used as names. "
   ]
  },
  {
   "cell_type": "code",
   "execution_count": null,
   "metadata": {},
   "outputs": [],
   "source": [
    "# This doesn't work\n",
    "3 = 4"
   ]
  },
  {
   "cell_type": "code",
   "execution_count": null,
   "metadata": {},
   "outputs": [],
   "source": [
    "# This also doesn't work\n",
    "True = 5"
   ]
  },
  {
   "cell_type": "markdown",
   "metadata": {},
   "source": [
    "## `.where`"
   ]
  },
  {
   "cell_type": "markdown",
   "metadata": {},
   "source": [
    "We've already seen how we can use `tbl.where()` to find rows that _exactly_ match what we're looking for. For example:"
   ]
  },
  {
   "cell_type": "code",
   "execution_count": null,
   "metadata": {},
   "outputs": [],
   "source": [
    "sat.where('State', 'California')"
   ]
  },
  {
   "cell_type": "markdown",
   "metadata": {},
   "source": [
    "But `tbl.where` is also capable of so much more! The second argument in `.where` can accept a **predicate**, which tells Python what condition to match rows on. Are few relevant predicates are:\n",
    "\n",
    "| Predicate | Description |\n",
    "| --- | --- |\n",
    "| `are.equal_to(z)` | Is the value from the column equal to `z`? |\n",
    "| `are.above(x)`, `are.below(x)` | Is the value from the column above/below `x`? |\n",
    "| `are.between(x, y)` | Is the value from the column between `x` (inclusive) and `y` (exclusive)? |\n",
    "| `are.containing(s)` | Does the value from the column contain the string `s`? |\n",
    "| `are.contained_in(s)` | Is the value from the column inside the string/array s? |\n",
    "\n",
    "You can also negate any of these predicates (i.e. find the opposite) by adding `not_` on the front of any of their function names (e.g. `are.not_equal_to(z)`).\n",
    "\n",
    "A full list of predicates can be found on the [Python Reference](https://data6.org/su23/reference/#tablewhere-predicates)."
   ]
  },
  {
   "cell_type": "markdown",
   "metadata": {},
   "source": [
    "Let's see the power of `.where` in action:"
   ]
  },
  {
   "cell_type": "code",
   "execution_count": null,
   "metadata": {},
   "outputs": [],
   "source": [
    "... # Filter the `sat` table to only include states with a combined score above 1800"
   ]
  },
  {
   "cell_type": "code",
   "execution_count": null,
   "metadata": {},
   "outputs": [],
   "source": [
    "... # Filter the `sat` table to only include California"
   ]
  },
  {
   "cell_type": "markdown",
   "metadata": {},
   "source": [
    "Note that `are.equal_to(z)` is the same as just passing in `z` itself as the second argument."
   ]
  },
  {
   "cell_type": "code",
   "execution_count": null,
   "metadata": {},
   "outputs": [],
   "source": [
    "... # Filter the `sat` table to only include North and South Dakota using only one `.where` call"
   ]
  },
  {
   "cell_type": "code",
   "execution_count": null,
   "metadata": {},
   "outputs": [],
   "source": [
    "... # Find the states where the math scores are between 580 and 600"
   ]
  },
  {
   "cell_type": "markdown",
   "metadata": {},
   "source": [
    "### Multiple Conditions"
   ]
  },
  {
   "cell_type": "markdown",
   "metadata": {},
   "source": [
    "We can match rows to multiple conditions/predicates by chaining `.where` method calls together. For example, we can look for states where the participation rate is above 20% and the average combined SAT score is above 1500."
   ]
  },
  {
   "cell_type": "code",
   "execution_count": null,
   "metadata": {},
   "outputs": [],
   "source": [
    "... # Filter the `sat` table to find states where participation is above 20% and combined score is above 1500"
   ]
  },
  {
   "cell_type": "code",
   "execution_count": null,
   "metadata": {},
   "outputs": [],
   "source": [
    "... # Filter the `sat` table to find states where participation is below 10% and combined score is above 1600"
   ]
  },
  {
   "cell_type": "markdown",
   "metadata": {},
   "source": [
    "We can have multiple different values to match to if we put then in an array and then use `are.contained_in`."
   ]
  },
  {
   "cell_type": "code",
   "execution_count": null,
   "metadata": {},
   "outputs": [],
   "source": [
    "deep_south = np.array(['Alabama', 'Georgia', 'Louisiana', 'Mississippi', 'South Carolina'])"
   ]
  },
  {
   "cell_type": "code",
   "execution_count": null,
   "metadata": {},
   "outputs": [],
   "source": [
    "... # Filter the `sat` table to include only the states listed in the `deep_south` array"
   ]
  },
  {
   "cell_type": "code",
   "execution_count": null,
   "metadata": {},
   "outputs": [],
   "source": [
    "... # Find the states in the deep south with participation lower than 10% and combined score above 1600"
   ]
  },
  {
   "cell_type": "markdown",
   "metadata": {},
   "source": [
    "**Just for fun:** consider the scatter plot of all states' participation rates and combined SAT scores. Does this scatter plot imply that lower participation _causes_ higher SAT scores? Or what is going on here?"
   ]
  },
  {
   "cell_type": "code",
   "execution_count": null,
   "metadata": {},
   "outputs": [],
   "source": [
    "px.scatter(data_frame = sat.to_df(), \n",
    "           x = 'Combined', \n",
    "           y = 'Participation Rate', \n",
    "           hover_data = {'State': True},\n",
    "           title = 'Participation Rate vs. Combined SAT Score for States in 2014')"
   ]
  }
 ],
 "metadata": {
  "kernelspec": {
   "display_name": "Python 3 (ipykernel)",
   "language": "python",
   "name": "python3"
  },
  "language_info": {
   "codemirror_mode": {
    "name": "ipython",
    "version": 3
   },
   "file_extension": ".py",
   "mimetype": "text/x-python",
   "name": "python",
   "nbconvert_exporter": "python",
   "pygments_lexer": "ipython3",
   "version": "3.11.9"
  }
 },
 "nbformat": 4,
 "nbformat_minor": 4
}
